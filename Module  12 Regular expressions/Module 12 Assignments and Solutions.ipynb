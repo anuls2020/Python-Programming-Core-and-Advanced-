{
 "cells": [
  {
   "cell_type": "markdown",
   "metadata": {
    "heading_collapsed": true
   },
   "source": [
    "### Programming Examples - Regular Expressions:"
   ]
  },
  {
   "cell_type": "markdown",
   "metadata": {
    "hidden": true
   },
   "source": [
    "<font color='#D2691E'>**Qn) Write a Python Program for searching the keyword \"Python from the given data\"**<br>\n"
   ]
  },
  {
   "cell_type": "code",
   "execution_count": null,
   "metadata": {
    "hidden": true
   },
   "outputs": [],
   "source": [
    "#RegEx1,py\n",
    "#This program search for the word \"Python\" from the given data\n",
    "\n",
    "import re\n",
    "givendata=\"Python is an OOP language and Python is also a fun programming language\"\n",
    "\n",
    "reg=\"Python\"\n",
    "\n",
    "mattab=re.finditer(reg, givendata)\n",
    "print(\"Type of mattab:\",type(mattab))\n",
    "print(mattab)\n",
    "print(\"-\"*60)\n",
    "for one in mattab:\n",
    "    print(\"Start index:{} \\tEnd Index: {} \\tValue: {}\".format(one.start(),one.end(),one.group()))"
   ]
  },
  {
   "cell_type": "markdown",
   "metadata": {
    "hidden": true
   },
   "source": [
    "<font color='#D2691E'>**Qn) Write a Python Program for searching the keyword \"Python from the given data and find number of occurrence\"**<br>\n"
   ]
  },
  {
   "cell_type": "code",
   "execution_count": 7,
   "metadata": {
    "hidden": true
   },
   "outputs": [
    {
     "name": "stdout",
     "output_type": "stream",
     "text": [
      "------------------------------------------------------------\n",
      "Start index:0 \tEnd Index: 6 \tValue: Python\n",
      "Number of Occurrence of Python:1\n",
      "Start index:30 \tEnd Index: 36 \tValue: Python\n",
      "Number of Occurrence of Python:2\n"
     ]
    }
   ],
   "source": [
    "#RegEx2,py\n",
    "#This program search for the word \"Python\" from the given data and find its number of occurrrence\n",
    "\n",
    "import re\n",
    "givendata=\"Python is an OOP language and Python is also a fun programming language\"\n",
    "\n",
    "reg=\"Python\"\n",
    "\n",
    "mattab=re.finditer(reg, givendata)\n",
    "noc=0\n",
    "print(\"-\"*60)\n",
    "for one in mattab:\n",
    "    print(\"Start index:{} \\tEnd Index: {} \\tValue: {}\".format(one.start(),one.end(),one.group()))\n",
    "    noc=noc+1\n",
    "    print(\"Number of Occurrence of {}:{}\".format(reg,noc))"
   ]
  },
  {
   "cell_type": "markdown",
   "metadata": {
    "hidden": true
   },
   "source": [
    "<font color='#D2691E'>**Qn) Write a Python Program for searching the keyword \"Python from the given data and find number of occurrence\"**<br>\n"
   ]
  },
  {
   "cell_type": "code",
   "execution_count": 11,
   "metadata": {
    "hidden": true,
    "scrolled": true
   },
   "outputs": [
    {
     "name": "stdout",
     "output_type": "stream",
     "text": [
      "['Python', 'Python']\n",
      "Number of Occurrence of Python:2\n"
     ]
    }
   ],
   "source": [
    "#RegEx3.py\n",
    "#This program searches for a word \"Python\" in given data and find number of occurences.\n",
    "\n",
    "import re\n",
    "givendata=\"Python is an OOP language and Python is also a fun programming language\"\n",
    "\n",
    "reg=\"Python\"\n",
    "\n",
    "mattab=re.findall(reg, givendata)\n",
    "noc=0\n",
    "print(mattab)\n",
    "print(\"Number of Occurrence of {}:{}\".format(reg,len(mattab)))"
   ]
  },
  {
   "cell_type": "markdown",
   "metadata": {
    "hidden": true
   },
   "source": [
    "<font color='#D2691E'>**Qn) Write a Python Program for searching the keyword \"Python from the given data and find number of occurrence\"**<br>\n"
   ]
  },
  {
   "cell_type": "code",
   "execution_count": 12,
   "metadata": {
    "hidden": true
   },
   "outputs": [
    {
     "name": "stdout",
     "output_type": "stream",
     "text": [
      "<re.Match object; span=(0, 6), match='Python'>\n"
     ]
    }
   ],
   "source": [
    "#RegEx4.py\n",
    "#This program searches for a word \"Python\" in given data and give its first occurrence\n",
    "import re\n",
    "givendata=\"Python is an OOP language and Python is also a fun programming language\"\n",
    "\n",
    "reg=\"Python\"\n",
    "\n",
    "mattab=re.search(reg, givendata)\n",
    "if (mattab!=None):\n",
    "    print(mattab)\n",
    "else:\n",
    "    print(\"{}  does not exist in Given Data:\".format(reg))"
   ]
  },
  {
   "cell_type": "markdown",
   "metadata": {
    "heading_collapsed": true
   },
   "source": [
    "### Programmer defiled character class examples:"
   ]
  },
  {
   "cell_type": "markdown",
   "metadata": {
    "hidden": true
   },
   "source": [
    "<font color='#D2691E'>**Qn) Write a Python Program for searching either 'a' or 'b' or 'c' only**<br>"
   ]
  },
  {
   "cell_type": "code",
   "execution_count": 1,
   "metadata": {
    "hidden": true
   },
   "outputs": [
    {
     "name": "stdout",
     "output_type": "stream",
     "text": [
      "--------------------------------------------------\n",
      "Start index 1, end index 2, Value a\n",
      "Start index 3, end index 4, Value b\n",
      "Start index 8, end index 9, Value c\n",
      "--------------------------------------------------\n"
     ]
    }
   ],
   "source": [
    "# RegEx5.py\n",
    "# Programmer defined character class\n",
    "# This program for searching either 'a' or 'b' or 'c'\n",
    "\n",
    "import re\n",
    "\n",
    "givendata = \"kaAb6&qPch7v@8%LfP3* 6Kwr\"\n",
    "\n",
    "matchdata = re.finditer(\"[abc]\", givendata)\n",
    "\n",
    "print(\"-\" * 50)\n",
    "for val in matchdata:\n",
    "    print(\"Start index {}, end index {}, Value {}\".format(val.start(), val.end(), val.group()))\n",
    "print(\"-\" * 50)\n"
   ]
  },
  {
   "cell_type": "markdown",
   "metadata": {
    "hidden": true
   },
   "source": [
    "<font color='#D2691E'>**Qn) Write a Python Program which searches for all except  'a' or 'b' or 'c'**<br>"
   ]
  },
  {
   "cell_type": "code",
   "execution_count": 2,
   "metadata": {
    "hidden": true
   },
   "outputs": [
    {
     "name": "stdout",
     "output_type": "stream",
     "text": [
      "--------------------------------------------------\n",
      "Start Index:0  end Index=1  value=k\n",
      "Start Index:1  end Index=2  value=A\n",
      "Start Index:3  end Index=4  value=6\n",
      "Start Index:4  end Index=5  value=&\n",
      "Start Index:5  end Index=6  value=q\n",
      "Start Index:6  end Index=7  value=P\n",
      "Start Index:8  end Index=9  value=h\n",
      "Start Index:9  end Index=10  value=7\n",
      "Start Index:10  end Index=11  value=v\n",
      "Start Index:11  end Index=12  value=@\n",
      "Start Index:12  end Index=13  value=8\n",
      "Start Index:13  end Index=14  value=%\n",
      "Start Index:14  end Index=15  value=L\n",
      "Start Index:15  end Index=16  value=f\n",
      "Start Index:16  end Index=17  value=P\n",
      "Start Index:17  end Index=18  value=3\n",
      "Start Index:18  end Index=19  value=*\n",
      "Start Index:19  end Index=20  value= \n",
      "Start Index:20  end Index=21  value=6\n",
      "Start Index:21  end Index=22  value=K\n",
      "Start Index:22  end Index=23  value=w\n",
      "Start Index:23  end Index=24  value=r\n",
      "--------------------------------------------------\n"
     ]
    }
   ],
   "source": [
    "#RegExpr6.py\n",
    "#This program for searching all except 'a' or 'b' or 'c'\n",
    "import re\n",
    "mattab=re.finditer(\"[^abc]\", \"kAb6&qPch7v@8%LfP3* 6Kwr\")\n",
    "print(\"-\"*50)\n",
    "for entry in mattab:\n",
    "    print(\"Start Index:{}  end Index={}  value={}\".format(entry.start(),entry.end(),entry.group()))\n",
    "print(\"-\"*50)"
   ]
  },
  {
   "cell_type": "markdown",
   "metadata": {
    "hidden": true
   },
   "source": [
    "<font color='#D2691E'>**Qn) Write a Python Program which searches for  all lower case alphabets only**<br>"
   ]
  },
  {
   "cell_type": "code",
   "execution_count": 2,
   "metadata": {
    "hidden": true
   },
   "outputs": [
    {
     "name": "stdout",
     "output_type": "stream",
     "text": [
      "--------------------------------------------------\n",
      "Start index 0, end index 1, Value k\n",
      "Start index 1, end index 2, Value a\n",
      "Start index 3, end index 4, Value b\n",
      "Start index 6, end index 7, Value q\n",
      "Start index 8, end index 9, Value c\n",
      "Start index 9, end index 10, Value h\n",
      "Start index 11, end index 12, Value v\n",
      "Start index 16, end index 17, Value f\n",
      "Start index 23, end index 24, Value w\n",
      "Start index 24, end index 25, Value r\n",
      "--------------------------------------------------\n"
     ]
    }
   ],
   "source": [
    "# RegEx7.py\n",
    "# Programmer defined character class\n",
    "# This program for searching for all lower case alphabets\n",
    "\n",
    "import re\n",
    "\n",
    "givendata = \"kaAb6&qPch7v@8%LfP3* 6Kwr\"\n",
    "\n",
    "matchdata = re.finditer(\"[a-z]\", givendata)\n",
    "\n",
    "print(\"-\" * 50)\n",
    "for val in matchdata:\n",
    "    print(\"Start index {}, end index {}, Value {}\".format(val.start(), val.end(), val.group()))\n",
    "print(\"-\" * 50)\n"
   ]
  },
  {
   "cell_type": "markdown",
   "metadata": {
    "hidden": true
   },
   "source": [
    "<font color='#D2691E'>**Qn) Write a Python Program which searches for  all except lower case alphabets only**<br>"
   ]
  },
  {
   "cell_type": "code",
   "execution_count": 4,
   "metadata": {
    "hidden": true
   },
   "outputs": [
    {
     "name": "stdout",
     "output_type": "stream",
     "text": [
      "--------------------------------------------------\n",
      "Start index 2, end index 3, Value A\n",
      "Start index 4, end index 5, Value 6\n",
      "Start index 5, end index 6, Value &\n",
      "Start index 7, end index 8, Value P\n",
      "Start index 10, end index 11, Value 7\n",
      "Start index 12, end index 13, Value @\n",
      "Start index 13, end index 14, Value 8\n",
      "Start index 14, end index 15, Value %\n",
      "Start index 15, end index 16, Value L\n",
      "Start index 17, end index 18, Value P\n",
      "Start index 18, end index 19, Value 3\n",
      "Start index 19, end index 20, Value *\n",
      "Start index 20, end index 21, Value  \n",
      "Start index 21, end index 22, Value 6\n",
      "Start index 22, end index 23, Value K\n",
      "--------------------------------------------------\n"
     ]
    }
   ],
   "source": [
    "# RegEx8.py\n",
    "# Programmer defined character class\n",
    "# This program for searching for all except lower case alphabets\n",
    "\n",
    "import re\n",
    "\n",
    "givendata = \"kaAb6&qPch7v@8%LfP3* 6Kwr\"\n",
    "\n",
    "matchdata = re.finditer(\"[^a-z]\", givendata)\n",
    "\n",
    "print(\"-\" * 50)\n",
    "for val in matchdata:\n",
    "    print(\"Start index {}, end index {}, Value {}\".format(val.start(), val.end(), val.group()))\n",
    "print(\"-\" * 50)\n"
   ]
  },
  {
   "cell_type": "markdown",
   "metadata": {
    "hidden": true
   },
   "source": [
    "<font color='#D2691E'>**Qn) Write a Python Program which searches for all Upper case alphabets only**<br>"
   ]
  },
  {
   "cell_type": "code",
   "execution_count": 5,
   "metadata": {
    "hidden": true
   },
   "outputs": [
    {
     "name": "stdout",
     "output_type": "stream",
     "text": [
      "--------------------------------------------------\n",
      "Start index 2, end index 3, Value A\n",
      "Start index 7, end index 8, Value P\n",
      "Start index 15, end index 16, Value L\n",
      "Start index 17, end index 18, Value P\n",
      "Start index 22, end index 23, Value K\n",
      "--------------------------------------------------\n"
     ]
    }
   ],
   "source": [
    "# RegEx9.py\n",
    "# Programmer defined character class\n",
    "# This program for searching for all Upper case alphabets only\n",
    "\n",
    "import re\n",
    "\n",
    "givendata = \"kaAb6&qPch7v@8%LfP3* 6Kwr\"\n",
    "\n",
    "matchdata = re.finditer(\"[A-Z]\", givendata)\n",
    "\n",
    "print(\"-\" * 50)\n",
    "for val in matchdata:\n",
    "    print(\"Start index {}, end index {}, Value {}\".format(val.start(), val.end(), val.group()))\n",
    "print(\"-\" * 50)\n"
   ]
  },
  {
   "cell_type": "markdown",
   "metadata": {
    "hidden": true
   },
   "source": [
    "<font color='#D2691E'>**Qn) Write a Python Program which searches for all except Upper case alphabets**<br>"
   ]
  },
  {
   "cell_type": "code",
   "execution_count": 6,
   "metadata": {
    "hidden": true
   },
   "outputs": [
    {
     "name": "stdout",
     "output_type": "stream",
     "text": [
      "--------------------------------------------------\n",
      "Start index 0, end index 1, Value k\n",
      "Start index 1, end index 2, Value a\n",
      "Start index 3, end index 4, Value b\n",
      "Start index 4, end index 5, Value 6\n",
      "Start index 5, end index 6, Value &\n",
      "Start index 6, end index 7, Value q\n",
      "Start index 8, end index 9, Value c\n",
      "Start index 9, end index 10, Value h\n",
      "Start index 10, end index 11, Value 7\n",
      "Start index 11, end index 12, Value v\n",
      "Start index 12, end index 13, Value @\n",
      "Start index 13, end index 14, Value 8\n",
      "Start index 14, end index 15, Value %\n",
      "Start index 16, end index 17, Value f\n",
      "Start index 18, end index 19, Value 3\n",
      "Start index 19, end index 20, Value *\n",
      "Start index 20, end index 21, Value  \n",
      "Start index 21, end index 22, Value 6\n",
      "Start index 23, end index 24, Value w\n",
      "Start index 24, end index 25, Value r\n",
      "--------------------------------------------------\n"
     ]
    }
   ],
   "source": [
    "# RegEx10.py\n",
    "# Programmer defined character class\n",
    "# This program for searching for all except the Upper case alphabets\n",
    "\n",
    "import re\n",
    "\n",
    "givendata = \"kaAb6&qPch7v@8%LfP3* 6Kwr\"\n",
    "\n",
    "matchdata = re.finditer(\"[^A-Z]\", givendata)\n",
    "\n",
    "print(\"-\" * 50)\n",
    "for val in matchdata:\n",
    "    print(\"Start index {}, end index {}, Value {}\".format(val.start(), val.end(), val.group()))\n",
    "print(\"-\" * 50)\n"
   ]
  },
  {
   "cell_type": "markdown",
   "metadata": {
    "hidden": true
   },
   "source": [
    "<font color='#D2691E'>**Qn) Write a Python Program which searches for all digits only**<br>"
   ]
  },
  {
   "cell_type": "code",
   "execution_count": 7,
   "metadata": {
    "hidden": true
   },
   "outputs": [
    {
     "name": "stdout",
     "output_type": "stream",
     "text": [
      "--------------------------------------------------\n",
      "Start index 4, end index 5, Value 6\n",
      "Start index 10, end index 11, Value 7\n",
      "Start index 13, end index 14, Value 8\n",
      "Start index 18, end index 19, Value 3\n",
      "Start index 21, end index 22, Value 6\n",
      "--------------------------------------------------\n"
     ]
    }
   ],
   "source": [
    "# RegEx11.py\n",
    "# Programmer defined character class\n",
    "# This program will search for the digits in the given data\n",
    "\n",
    "import re\n",
    "\n",
    "givendata = \"kaAb6&qPch7v@8%LfP3* 6Kwr\"\n",
    "\n",
    "matchdata = re.finditer(\"[0-9]\", givendata)\n",
    "\n",
    "print(\"-\" * 50)\n",
    "for val in matchdata:\n",
    "    print(\"Start index {}, end index {}, Value {}\".format(val.start(), val.end(), val.group()))\n",
    "print(\"-\" * 50)\n"
   ]
  },
  {
   "cell_type": "markdown",
   "metadata": {
    "hidden": true
   },
   "source": [
    "<font color='#D2691E'>**Qn) Write a Python Program which searches for all except digits only**<br>"
   ]
  },
  {
   "cell_type": "code",
   "execution_count": 8,
   "metadata": {
    "hidden": true
   },
   "outputs": [
    {
     "name": "stdout",
     "output_type": "stream",
     "text": [
      "--------------------------------------------------\n",
      "Start index 0, end index 1, Value k\n",
      "Start index 1, end index 2, Value a\n",
      "Start index 2, end index 3, Value A\n",
      "Start index 3, end index 4, Value b\n",
      "Start index 5, end index 6, Value &\n",
      "Start index 6, end index 7, Value q\n",
      "Start index 7, end index 8, Value P\n",
      "Start index 8, end index 9, Value c\n",
      "Start index 9, end index 10, Value h\n",
      "Start index 11, end index 12, Value v\n",
      "Start index 12, end index 13, Value @\n",
      "Start index 14, end index 15, Value %\n",
      "Start index 15, end index 16, Value L\n",
      "Start index 16, end index 17, Value f\n",
      "Start index 17, end index 18, Value P\n",
      "Start index 19, end index 20, Value *\n",
      "Start index 20, end index 21, Value  \n",
      "Start index 22, end index 23, Value K\n",
      "Start index 23, end index 24, Value w\n",
      "Start index 24, end index 25, Value r\n",
      "--------------------------------------------------\n"
     ]
    }
   ],
   "source": [
    "# RegEx12.py\n",
    "# Programmer defined character class\n",
    "# This program will search for all the character except the digits in the given data\n",
    "\n",
    "import re\n",
    "\n",
    "givendata = \"kaAb6&qPch7v@8%LfP3* 6Kwr\"\n",
    "\n",
    "matchdata = re.finditer(\"[^0-9]\", givendata)\n",
    "\n",
    "print(\"-\" * 50)\n",
    "for val in matchdata:\n",
    "    print(\"Start index {}, end index {}, Value {}\".format(val.start(), val.end(), val.group()))\n",
    "print(\"-\" * 50)\n"
   ]
  },
  {
   "cell_type": "markdown",
   "metadata": {
    "hidden": true
   },
   "source": [
    "<font color='#D2691E'>**Qn) Write a Python Program which searches for lower case alphabets and digits only**<br>"
   ]
  },
  {
   "cell_type": "code",
   "execution_count": 9,
   "metadata": {
    "hidden": true,
    "scrolled": true
   },
   "outputs": [
    {
     "name": "stdout",
     "output_type": "stream",
     "text": [
      "--------------------------------------------------\n",
      "Start index 0, end index 1, Value k\n",
      "Start index 1, end index 2, Value a\n",
      "Start index 3, end index 4, Value b\n",
      "Start index 4, end index 5, Value 6\n",
      "Start index 6, end index 7, Value q\n",
      "Start index 8, end index 9, Value c\n",
      "Start index 9, end index 10, Value h\n",
      "Start index 10, end index 11, Value 7\n",
      "Start index 11, end index 12, Value v\n",
      "Start index 13, end index 14, Value 8\n",
      "Start index 16, end index 17, Value f\n",
      "Start index 18, end index 19, Value 3\n",
      "Start index 20, end index 21, Value  \n",
      "Start index 21, end index 22, Value 6\n",
      "Start index 23, end index 24, Value w\n",
      "Start index 24, end index 25, Value r\n",
      "--------------------------------------------------\n"
     ]
    }
   ],
   "source": [
    "# RegEx13.py\n",
    "# Programmer defined character class\n",
    "# This program will search for lower case alphabets and digits only\n",
    "\n",
    "import re\n",
    "\n",
    "givendata = \"kaAb6&qPch7v@8%LfP3* 6Kwr\"\n",
    "\n",
    "matchdata = re.finditer(\"[a-z 0-9]\", givendata)\n",
    "\n",
    "print(\"-\" * 50)\n",
    "for val in matchdata:\n",
    "    print(\"Start index {}, end index {}, Value {}\".format(val.start(), val.end(), val.group()))\n",
    "print(\"-\" * 50)\n"
   ]
  },
  {
   "cell_type": "markdown",
   "metadata": {
    "hidden": true
   },
   "source": [
    "<font color='#D2691E'>**Qn) Write a Python Program which searches for all except lower case alphabets and digits only**<br>"
   ]
  },
  {
   "cell_type": "code",
   "execution_count": 10,
   "metadata": {
    "hidden": true
   },
   "outputs": [
    {
     "name": "stdout",
     "output_type": "stream",
     "text": [
      "--------------------------------------------------\n",
      "Start index 2, end index 3, Value A\n",
      "Start index 5, end index 6, Value &\n",
      "Start index 7, end index 8, Value P\n",
      "Start index 12, end index 13, Value @\n",
      "Start index 14, end index 15, Value %\n",
      "Start index 15, end index 16, Value L\n",
      "Start index 17, end index 18, Value P\n",
      "Start index 19, end index 20, Value *\n",
      "Start index 22, end index 23, Value K\n",
      "--------------------------------------------------\n"
     ]
    }
   ],
   "source": [
    "# RegEx14.py\n",
    "# Programmer defined character class\n",
    "# This program will search forall except lower case alphabets and digits\n",
    "\n",
    "import re\n",
    "\n",
    "givendata = \"kaAb6&qPch7v@8%LfP3* 6Kwr\"\n",
    "\n",
    "matchdata = re.finditer(\"[^a-z 0-9]\", givendata)\n",
    "\n",
    "print(\"-\" * 50)\n",
    "for val in matchdata:\n",
    "    print(\"Start index {}, end index {}, Value {}\".format(val.start(), val.end(), val.group()))\n",
    "print(\"-\" * 50)\n"
   ]
  },
  {
   "cell_type": "markdown",
   "metadata": {
    "hidden": true
   },
   "source": [
    "<font color='#D2691E'>**Qn) Write a Python Program which searches for all alphabets(Lower and Upper)**<br>"
   ]
  },
  {
   "cell_type": "code",
   "execution_count": 11,
   "metadata": {
    "hidden": true
   },
   "outputs": [
    {
     "name": "stdout",
     "output_type": "stream",
     "text": [
      "--------------------------------------------------\n",
      "Start index 0, end index 1, Value k\n",
      "Start index 1, end index 2, Value a\n",
      "Start index 2, end index 3, Value A\n",
      "Start index 3, end index 4, Value b\n",
      "Start index 6, end index 7, Value q\n",
      "Start index 7, end index 8, Value P\n",
      "Start index 8, end index 9, Value c\n",
      "Start index 9, end index 10, Value h\n",
      "Start index 11, end index 12, Value v\n",
      "Start index 15, end index 16, Value L\n",
      "Start index 16, end index 17, Value f\n",
      "Start index 17, end index 18, Value P\n",
      "Start index 22, end index 23, Value K\n",
      "Start index 23, end index 24, Value w\n",
      "Start index 24, end index 25, Value r\n",
      "--------------------------------------------------\n"
     ]
    }
   ],
   "source": [
    "# RegEx15.py\n",
    "# Programmer defined character class\n",
    "# It searches for all alphabets (lower and upper) only\n",
    "\n",
    "import re\n",
    "\n",
    "givendata = \"kaAb6&qPch7v@8%LfP3* 6Kwr\"\n",
    "\n",
    "matchdata = re.finditer(\"[a-zA-Z]\", givendata)\n",
    "\n",
    "print(\"-\" * 50)\n",
    "for val in matchdata:\n",
    "    print(\"Start index {}, end index {}, Value {}\".format(val.start(), val.end(), val.group()))\n",
    "print(\"-\" * 50)\n"
   ]
  },
  {
   "cell_type": "markdown",
   "metadata": {
    "hidden": true
   },
   "source": [
    "<font color='#D2691E'>**Qn) Write a Python Program which searches for all except the alphabets(Lower and Upper)**<br>"
   ]
  },
  {
   "cell_type": "code",
   "execution_count": 12,
   "metadata": {
    "hidden": true
   },
   "outputs": [
    {
     "name": "stdout",
     "output_type": "stream",
     "text": [
      "--------------------------------------------------\n",
      "Start index 4, end index 5, Value 6\n",
      "Start index 5, end index 6, Value &\n",
      "Start index 10, end index 11, Value 7\n",
      "Start index 12, end index 13, Value @\n",
      "Start index 13, end index 14, Value 8\n",
      "Start index 14, end index 15, Value %\n",
      "Start index 18, end index 19, Value 3\n",
      "Start index 19, end index 20, Value *\n",
      "Start index 20, end index 21, Value  \n",
      "Start index 21, end index 22, Value 6\n",
      "--------------------------------------------------\n"
     ]
    }
   ],
   "source": [
    "# RegEx16.py\n",
    "# Programmer defined character class\n",
    "# It searches for all except (lower and upper) alphabets\n",
    "\n",
    "import re\n",
    "\n",
    "givendata = \"kaAb6&qPch7v@8%LfP3* 6Kwr\"\n",
    "\n",
    "matchdata = re.finditer(\"[^a-zA-Z]\", givendata)\n",
    "\n",
    "print(\"-\" * 50)\n",
    "for val in matchdata:\n",
    "    print(\"Start index {}, end index {}, Value {}\".format(val.start(), val.end(), val.group()))\n",
    "print(\"-\" * 50)\n"
   ]
  },
  {
   "cell_type": "markdown",
   "metadata": {
    "hidden": true
   },
   "source": [
    "<font color='#D2691E'>**Qn) Write a Python Program which searches for all except the alphabets(Lower and Upper)**<br>"
   ]
  },
  {
   "cell_type": "code",
   "execution_count": 13,
   "metadata": {
    "hidden": true
   },
   "outputs": [
    {
     "name": "stdout",
     "output_type": "stream",
     "text": [
      "--------------------------------------------------\n",
      "Start index 0, end index 1, Value k\n",
      "Start index 1, end index 2, Value a\n",
      "Start index 2, end index 3, Value A\n",
      "Start index 3, end index 4, Value b\n",
      "Start index 4, end index 5, Value 6\n",
      "Start index 6, end index 7, Value q\n",
      "Start index 7, end index 8, Value P\n",
      "Start index 8, end index 9, Value c\n",
      "Start index 9, end index 10, Value h\n",
      "Start index 10, end index 11, Value 7\n",
      "Start index 11, end index 12, Value v\n",
      "Start index 13, end index 14, Value 8\n",
      "Start index 15, end index 16, Value L\n",
      "Start index 16, end index 17, Value f\n",
      "Start index 17, end index 18, Value P\n",
      "Start index 18, end index 19, Value 3\n",
      "Start index 21, end index 22, Value 6\n",
      "Start index 22, end index 23, Value K\n",
      "Start index 23, end index 24, Value w\n",
      "Start index 24, end index 25, Value r\n",
      "--------------------------------------------------\n"
     ]
    }
   ],
   "source": [
    "# RegEx17.py\n",
    "# Programmer defined character class\n",
    "# It searches for all alphabets (lower and upper) and digits (except special symbols)\n",
    "\n",
    "import re\n",
    "\n",
    "givendata = \"kaAb6&qPch7v@8%LfP3* 6Kwr\"\n",
    "\n",
    "matchdata = re.finditer(\"[a-zA-Z0-9]\", givendata)\n",
    "\n",
    "print(\"-\" * 50)\n",
    "for val in matchdata:\n",
    "    print(\"Start index {}, end index {}, Value {}\".format(val.start(), val.end(), val.group()))\n",
    "print(\"-\" * 50)\n"
   ]
  },
  {
   "cell_type": "markdown",
   "metadata": {
    "hidden": true
   },
   "source": [
    "<font color='#D2691E'>**Qn) Write a Python Program which searches for all special symbols**<br>"
   ]
  },
  {
   "cell_type": "code",
   "execution_count": 14,
   "metadata": {
    "hidden": true
   },
   "outputs": [
    {
     "name": "stdout",
     "output_type": "stream",
     "text": [
      "--------------------------------------------------\n",
      "Start index 5, end index 6, Value &\n",
      "Start index 12, end index 13, Value @\n",
      "Start index 14, end index 15, Value %\n",
      "Start index 19, end index 20, Value *\n",
      "Start index 20, end index 21, Value  \n",
      "--------------------------------------------------\n"
     ]
    }
   ],
   "source": [
    "# RegEx18.py\n",
    "# Programmer defined character class\n",
    "# It searches for all special symbols\n",
    "\n",
    "import re\n",
    "\n",
    "givendata = \"kaAb6&qPch7v@8%LfP3* 6Kwr\"\n",
    "\n",
    "matchdata = re.finditer(\"[^a-zA-Z0-9]\", givendata)\n",
    "\n",
    "print(\"-\" * 50)\n",
    "for val in matchdata:\n",
    "    print(\"Start index {}, end index {}, Value {}\".format(val.start(), val.end(), val.group()))\n",
    "print(\"-\" * 50)\n"
   ]
  },
  {
   "cell_type": "markdown",
   "metadata": {
    "heading_collapsed": true
   },
   "source": [
    "### Pre-defined Character class examples:"
   ]
  },
  {
   "cell_type": "markdown",
   "metadata": {
    "hidden": true
   },
   "source": [
    "<font color='#D2691E'>**Qn) Write a Python Program which will search all  space character only**<br>"
   ]
  },
  {
   "cell_type": "code",
   "execution_count": 1,
   "metadata": {
    "hidden": true
   },
   "outputs": [
    {
     "name": "stdout",
     "output_type": "stream",
     "text": [
      "--------------------------------------------------\n",
      "Start index 2, end index 3, Value  \n",
      "Start index 7, end index 8, Value  \n",
      "Start index 13, end index 14, Value  \n",
      "Start index 17, end index 18, Value  \n",
      "Start index 24, end index 25, Value  \n",
      "--------------------------------------------------\n"
     ]
    }
   ],
   "source": [
    "# RegEx19.py\n",
    "# Programmer defined character class\n",
    "# It searches for all space symbols\n",
    "\n",
    "import re\n",
    "\n",
    "givendata = \"ka Ab6& qPch7 v@8 %LfP3* 6Kwr\"\n",
    "\n",
    "matchdata = re.finditer(\"\\s\", givendata)\n",
    "\n",
    "print(\"-\" * 50)\n",
    "for val in matchdata:\n",
    "    print(\"Start index {}, end index {}, Value {}\".format(val.start(), val.end(), val.group()))\n",
    "print(\"-\" * 50)"
   ]
  },
  {
   "cell_type": "markdown",
   "metadata": {
    "hidden": true
   },
   "source": [
    "<font color='#D2691E'>**Qn) Write a Python Program which will search all except space character only**<br>"
   ]
  },
  {
   "cell_type": "code",
   "execution_count": 2,
   "metadata": {
    "hidden": true
   },
   "outputs": [
    {
     "name": "stdout",
     "output_type": "stream",
     "text": [
      "--------------------------------------------------\n",
      "Start index 0, end index 1, Value k\n",
      "Start index 1, end index 2, Value a\n",
      "Start index 3, end index 4, Value A\n",
      "Start index 4, end index 5, Value b\n",
      "Start index 5, end index 6, Value 6\n",
      "Start index 6, end index 7, Value &\n",
      "Start index 8, end index 9, Value q\n",
      "Start index 9, end index 10, Value P\n",
      "Start index 10, end index 11, Value c\n",
      "Start index 11, end index 12, Value h\n",
      "Start index 12, end index 13, Value 7\n",
      "Start index 14, end index 15, Value v\n",
      "Start index 15, end index 16, Value @\n",
      "Start index 16, end index 17, Value 8\n",
      "Start index 18, end index 19, Value %\n",
      "Start index 19, end index 20, Value L\n",
      "Start index 20, end index 21, Value f\n",
      "Start index 21, end index 22, Value P\n",
      "Start index 22, end index 23, Value 3\n",
      "Start index 23, end index 24, Value *\n",
      "Start index 25, end index 26, Value 6\n",
      "Start index 26, end index 27, Value K\n",
      "Start index 27, end index 28, Value w\n",
      "Start index 28, end index 29, Value r\n",
      "--------------------------------------------------\n"
     ]
    }
   ],
   "source": [
    "# RegEx20.py\n",
    "# Pre-defined character class\n",
    "# It searches for all except space symbols\n",
    "\n",
    "import re\n",
    "\n",
    "givendata = \"ka Ab6& qPch7 v@8 %LfP3* 6Kwr\"\n",
    "\n",
    "matchdata = re.finditer(\"\\S\", givendata)\n",
    "\n",
    "print(\"-\" * 50)\n",
    "for val in matchdata:\n",
    "    print(\"Start index {}, end index {}, Value {}\".format(val.start(), val.end(), val.group()))\n",
    "print(\"-\" * 50)"
   ]
  },
  {
   "cell_type": "markdown",
   "metadata": {
    "hidden": true
   },
   "source": [
    "<font color='#D2691E'>**Qn) Write a Python Program which will search all DIGITS from the given data**<br>"
   ]
  },
  {
   "cell_type": "code",
   "execution_count": 3,
   "metadata": {
    "hidden": true
   },
   "outputs": [
    {
     "name": "stdout",
     "output_type": "stream",
     "text": [
      "--------------------------------------------------\n",
      "Start index 5, end index 6, Value 6\n",
      "Start index 12, end index 13, Value 7\n",
      "Start index 16, end index 17, Value 8\n",
      "Start index 22, end index 23, Value 3\n",
      "Start index 25, end index 26, Value 6\n",
      "--------------------------------------------------\n"
     ]
    }
   ],
   "source": [
    "# RegEx21.py\n",
    "# Pre-defined character class\n",
    "# It searches for all digits\n",
    "\n",
    "import re\n",
    "\n",
    "givendata = \"ka Ab6& qPch7 v@8 %LfP3* 6Kwr\"\n",
    "\n",
    "matchdata = re.finditer(\"\\d\", givendata)\n",
    "\n",
    "print(\"-\" * 50)\n",
    "for val in matchdata:\n",
    "    print(\"Start index {}, end index {}, Value {}\".format(val.start(), val.end(), val.group()))\n",
    "print(\"-\" * 50)"
   ]
  },
  {
   "cell_type": "markdown",
   "metadata": {
    "hidden": true
   },
   "source": [
    "<font color='#D2691E'>**Qn) Write a Python Program which will search all except DIGITS from the given data**<br>"
   ]
  },
  {
   "cell_type": "code",
   "execution_count": 4,
   "metadata": {
    "hidden": true
   },
   "outputs": [
    {
     "name": "stdout",
     "output_type": "stream",
     "text": [
      "--------------------------------------------------\n",
      "Start index 0, end index 1, Value k\n",
      "Start index 1, end index 2, Value a\n",
      "Start index 2, end index 3, Value  \n",
      "Start index 3, end index 4, Value A\n",
      "Start index 4, end index 5, Value b\n",
      "Start index 6, end index 7, Value &\n",
      "Start index 7, end index 8, Value  \n",
      "Start index 8, end index 9, Value q\n",
      "Start index 9, end index 10, Value P\n",
      "Start index 10, end index 11, Value c\n",
      "Start index 11, end index 12, Value h\n",
      "Start index 13, end index 14, Value  \n",
      "Start index 14, end index 15, Value v\n",
      "Start index 15, end index 16, Value @\n",
      "Start index 17, end index 18, Value  \n",
      "Start index 18, end index 19, Value %\n",
      "Start index 19, end index 20, Value L\n",
      "Start index 20, end index 21, Value f\n",
      "Start index 21, end index 22, Value P\n",
      "Start index 23, end index 24, Value *\n",
      "Start index 24, end index 25, Value  \n",
      "Start index 26, end index 27, Value K\n",
      "Start index 27, end index 28, Value w\n",
      "Start index 28, end index 29, Value r\n",
      "--------------------------------------------------\n"
     ]
    }
   ],
   "source": [
    "# RegEx22.py\n",
    "# Pre-defined character class\n",
    "# It searches for all except digits\n",
    "\n",
    "import re\n",
    "\n",
    "givendata = \"ka Ab6& qPch7 v@8 %LfP3* 6Kwr\"\n",
    "\n",
    "matchdata = re.finditer(\"\\D\", givendata)\n",
    "\n",
    "print(\"-\" * 50)\n",
    "for val in matchdata:\n",
    "    print(\"Start index {}, end index {}, Value {}\".format(val.start(), val.end(), val.group()))\n",
    "print(\"-\" * 50)"
   ]
  },
  {
   "cell_type": "markdown",
   "metadata": {
    "hidden": true
   },
   "source": [
    "<font color='#D2691E'>**Qn) Write a Python Program which will search all word character from the given data**<br>"
   ]
  },
  {
   "cell_type": "code",
   "execution_count": 5,
   "metadata": {
    "hidden": true
   },
   "outputs": [
    {
     "name": "stdout",
     "output_type": "stream",
     "text": [
      "--------------------------------------------------\n",
      "Start index 0, end index 1, Value k\n",
      "Start index 1, end index 2, Value a\n",
      "Start index 2, end index 3, Value A\n",
      "Start index 3, end index 4, Value b\n",
      "Start index 4, end index 5, Value 6\n",
      "Start index 6, end index 7, Value q\n",
      "Start index 7, end index 8, Value P\n",
      "Start index 8, end index 9, Value c\n",
      "Start index 9, end index 10, Value h\n",
      "Start index 10, end index 11, Value 7\n",
      "Start index 11, end index 12, Value v\n",
      "Start index 13, end index 14, Value 8\n",
      "Start index 16, end index 17, Value L\n",
      "Start index 17, end index 18, Value f\n",
      "Start index 18, end index 19, Value P\n",
      "Start index 19, end index 20, Value 3\n",
      "Start index 22, end index 23, Value 6\n",
      "Start index 23, end index 24, Value K\n",
      "Start index 24, end index 25, Value w\n",
      "Start index 25, end index 26, Value r\n",
      "--------------------------------------------------\n"
     ]
    }
   ],
   "source": [
    "# RegEx23.py\n",
    "# Pre-defined character class\n",
    "# This program for searching ALL word characters form the given data\n",
    "\n",
    "import re\n",
    "\n",
    "givendata = \"kaAb6&qPch7v@8 %LfP3* 6Kwr\"\n",
    "\n",
    "matchdata = re.finditer(\"\\w\", givendata)\n",
    "\n",
    "print(\"-\" * 50)\n",
    "for val in matchdata:\n",
    "    print(\"Start index {}, end index {}, Value {}\".format(val.start(), val.end(), val.group()))\n",
    "print(\"-\" * 50)\n"
   ]
  },
  {
   "cell_type": "markdown",
   "metadata": {
    "hidden": true
   },
   "source": [
    "<font color='#D2691E'>**Qn) Write a Python Program which will search all Special character from the given data**<br>"
   ]
  },
  {
   "cell_type": "code",
   "execution_count": 6,
   "metadata": {
    "hidden": true
   },
   "outputs": [
    {
     "name": "stdout",
     "output_type": "stream",
     "text": [
      "--------------------------------------------------\n",
      "Start index 5, end index 6, Value &\n",
      "Start index 12, end index 13, Value @\n",
      "Start index 14, end index 15, Value  \n",
      "Start index 15, end index 16, Value %\n",
      "Start index 20, end index 21, Value *\n",
      "Start index 21, end index 22, Value  \n",
      "--------------------------------------------------\n"
     ]
    }
   ],
   "source": [
    "# RegEx24.py\n",
    "# Pre-defined character class\n",
    "# This program for searching ALL Special Characters form the given data\n",
    "\n",
    "import re\n",
    "\n",
    "givendata = \"kaAb6&qPch7v@8 %LfP3* 6Kwr\"\n",
    "\n",
    "matchdata = re.finditer(\"\\W\", givendata)\n",
    "\n",
    "print(\"-\" * 50)\n",
    "for val in matchdata:\n",
    "    print(\"Start index {}, end index {}, Value {}\".format(val.start(), val.end(), val.group()))\n",
    "print(\"-\" * 50)\n"
   ]
  },
  {
   "cell_type": "markdown",
   "metadata": {},
   "source": [
    "### Quantifiers in Regular Expressions:"
   ]
  },
  {
   "cell_type": "markdown",
   "metadata": {},
   "source": [
    "<font color='#D2691E'>**Qn) Write a Python Program which will searching exactly one 'a'**<br>"
   ]
  },
  {
   "cell_type": "code",
   "execution_count": 9,
   "metadata": {},
   "outputs": [
    {
     "name": "stdout",
     "output_type": "stream",
     "text": [
      "start index 0, End Index 1 and the value is a\n",
      "start index 1, End Index 2 and the value is a\n",
      "start index 2, End Index 3 and the value is a\n",
      "start index 18, End Index 19 and the value is a\n",
      "start index 19, End Index 20 and the value is a\n",
      "start index 20, End Index 21 and the value is a\n"
     ]
    }
   ],
   "source": [
    "# RegEx25.py\n",
    "# Quantifiers in Regular expression\n",
    "# This program for searching exactly one 'a'\n",
    "\n",
    "import re\n",
    "\n",
    "givendata = \"aaabbbdhhen djjkduaaabnnemmdbbbejkk\"\n",
    "matchdata = re.finditer(\"a\", givendata)\n",
    "for entry in matchdata:\n",
    "    print(\"start index {}, End Index {} and the value is {}\".format(entry.start(), entry.end(), entry.group()))\n"
   ]
  },
  {
   "cell_type": "markdown",
   "metadata": {},
   "source": [
    "<font color='#D2691E'>**Qn) Write a Python Program which will searching one 'a' or more 'a'**<br>"
   ]
  },
  {
   "cell_type": "code",
   "execution_count": 10,
   "metadata": {},
   "outputs": [
    {
     "name": "stdout",
     "output_type": "stream",
     "text": [
      "start index 0, End Index 3 and the value is aaa\n",
      "start index 17, End Index 20 and the value is aaa\n"
     ]
    }
   ],
   "source": [
    "# RegEx26.py\n",
    "# Quantifiers in Regular expression\n",
    "# This program for searching one 'a' or more 'a'\n",
    "\n",
    "import re\n",
    "\n",
    "givendata = \"aaabbbdhhendjjkduaaabnnemmdbbbejkk\"\n",
    "matchdata = re.finditer(\"a+\", givendata)\n",
    "for entry in matchdata:\n",
    "    print(\"start index {}, End Index {} and the value is {}\".format(entry.start(), entry.end(), entry.group()))\n"
   ]
  },
  {
   "cell_type": "markdown",
   "metadata": {},
   "source": [
    "<font color='#D2691E'>**Qn) Write a Python Program which will searching zero 'a' or one 'a' or more 'a'**<br>"
   ]
  },
  {
   "cell_type": "code",
   "execution_count": 11,
   "metadata": {},
   "outputs": [
    {
     "name": "stdout",
     "output_type": "stream",
     "text": [
      "start index 0, End Index 3 and the value is: aaa\n",
      "start index 3, End Index 3 and the value is: \n",
      "start index 4, End Index 4 and the value is: \n",
      "start index 5, End Index 5 and the value is: \n",
      "start index 6, End Index 6 and the value is: \n",
      "start index 7, End Index 7 and the value is: \n",
      "start index 8, End Index 8 and the value is: \n",
      "start index 9, End Index 9 and the value is: \n",
      "start index 10, End Index 10 and the value is: \n",
      "start index 11, End Index 11 and the value is: \n",
      "start index 12, End Index 14 and the value is: aa\n",
      "start index 14, End Index 14 and the value is: \n",
      "start index 15, End Index 15 and the value is: \n",
      "start index 16, End Index 16 and the value is: \n",
      "start index 17, End Index 17 and the value is: \n",
      "start index 18, End Index 18 and the value is: \n",
      "start index 19, End Index 20 and the value is: a\n",
      "start index 20, End Index 20 and the value is: \n",
      "start index 21, End Index 21 and the value is: \n",
      "start index 22, End Index 22 and the value is: \n",
      "start index 23, End Index 27 and the value is: aaaa\n",
      "start index 27, End Index 27 and the value is: \n"
     ]
    }
   ],
   "source": [
    "# RegEx27.py\n",
    "# Quantifiers in Regular expression\n",
    "# This program for searching zero 'a' or one 'a' or more 'a'\n",
    "\n",
    "import re\n",
    "\n",
    "givendata = \"aaabbbdhhendaajjbbeajkkaaaa\"\n",
    "matchdata = re.finditer(\"a*\", givendata)\n",
    "for entry in matchdata:\n",
    "    print(\"start index {}, End Index {} and the value is: {}\".format(entry.start(), entry.end(), entry.group()))\n"
   ]
  },
  {
   "cell_type": "markdown",
   "metadata": {},
   "source": [
    "<font color='#D2691E'>**Qn) Write a Python Program which will searching zero 'a' or one 'a'**<br>"
   ]
  },
  {
   "cell_type": "code",
   "execution_count": 42,
   "metadata": {},
   "outputs": [
    {
     "name": "stdout",
     "output_type": "stream",
     "text": [
      "Start Index:0, End Index:1, Value:a\n",
      "Start Index:1, End Index:2, Value:a\n",
      "Start Index:2, End Index:3, Value:a\n",
      "Start Index:3, End Index:3, Value:\n",
      "Start Index:4, End Index:5, Value:a\n",
      "Start Index:5, End Index:5, Value:\n",
      "Start Index:6, End Index:6, Value:\n",
      "Start Index:7, End Index:7, Value:\n",
      "Start Index:8, End Index:9, Value:a\n",
      "Start Index:9, End Index:9, Value:\n",
      "Start Index:10, End Index:11, Value:a\n",
      "Start Index:11, End Index:11, Value:\n",
      "Start Index:12, End Index:13, Value:a\n",
      "Start Index:13, End Index:14, Value:a\n",
      "Start Index:14, End Index:15, Value:a\n",
      "Start Index:15, End Index:16, Value:a\n",
      "Start Index:16, End Index:16, Value:\n",
      "Start Index:17, End Index:18, Value:a\n",
      "Start Index:18, End Index:18, Value:\n",
      "Start Index:19, End Index:19, Value:\n"
     ]
    }
   ],
   "source": [
    "# RegEx28.py\n",
    "# Quantifiers in Regular expression\n",
    "# This program for searching zero 'a' or one 'a'\n",
    "\n",
    "import re\n",
    "\n",
    "givendata = \"aaabbbdhhendaajjbbeajkkaaaa\"\n",
    "matchdata = re.finditer(\"a?\", givendata)\n",
    "for entry in matchdata:\n",
    "    print(\"start index {}, End Index {} and the value is: {}\".format(entry.start(), entry.end(), entry.group()))\n"
   ]
  },
  {
   "cell_type": "markdown",
   "metadata": {},
   "source": [
    "<font color='#D2691E'>**Qn) Write a Python Program which will search for all**<br>"
   ]
  },
  {
   "cell_type": "code",
   "execution_count": 12,
   "metadata": {},
   "outputs": [
    {
     "name": "stdout",
     "output_type": "stream",
     "text": [
      "start index 0, End Index 1 and the value is: a\n",
      "start index 1, End Index 2 and the value is: a\n",
      "start index 2, End Index 3 and the value is: a\n",
      "start index 3, End Index 4 and the value is: b\n",
      "start index 4, End Index 5 and the value is: b\n",
      "start index 5, End Index 6 and the value is: b\n",
      "start index 6, End Index 7 and the value is: d\n",
      "start index 7, End Index 8 and the value is: h\n",
      "start index 8, End Index 9 and the value is: h\n",
      "start index 9, End Index 10 and the value is: e\n",
      "start index 10, End Index 11 and the value is: n\n",
      "start index 11, End Index 12 and the value is: d\n",
      "start index 12, End Index 13 and the value is: a\n",
      "start index 13, End Index 14 and the value is: a\n",
      "start index 14, End Index 15 and the value is: j\n",
      "start index 15, End Index 16 and the value is: j\n",
      "start index 16, End Index 17 and the value is: b\n",
      "start index 17, End Index 18 and the value is: b\n",
      "start index 18, End Index 19 and the value is: e\n",
      "start index 19, End Index 20 and the value is: a\n",
      "start index 20, End Index 21 and the value is: j\n",
      "start index 21, End Index 22 and the value is: k\n",
      "start index 22, End Index 23 and the value is: k\n",
      "start index 23, End Index 24 and the value is: a\n",
      "start index 24, End Index 25 and the value is: a\n",
      "start index 25, End Index 26 and the value is: a\n",
      "start index 26, End Index 27 and the value is: a\n"
     ]
    }
   ],
   "source": [
    "# RegEx29.py\n",
    "# Quantifiers in Regular expression\n",
    "# This program for searching for all\n",
    "\n",
    "import re\n",
    "\n",
    "givendata = \"aaabbbdhhendaajjbbeajkkaaaa\"\n",
    "matchdata = re.finditer(\".\", givendata)\n",
    "for entry in matchdata:\n",
    "    print(\"start index {}, End Index {} and the value is: {}\".format(entry.start(), entry.end(), entry.group()))\n"
   ]
  },
  {
   "cell_type": "markdown",
   "metadata": {},
   "source": [
    "<font color='#D2691E'>**Qn) Write a Python Program which will search for all searchobj with next adjescent element**<br>"
   ]
  },
  {
   "cell_type": "code",
   "execution_count": 14,
   "metadata": {
    "scrolled": true
   },
   "outputs": [
    {
     "name": "stdout",
     "output_type": "stream",
     "text": [
      "Start Index 0, End Index 2 and the value: aa\n",
      "Start Index 14, End Index 16 and the value: af\n",
      "Start Index 17, End Index 19 and the value: aj\n",
      "Start Index 21, End Index 23 and the value: ak\n",
      "Start Index 25, End Index 27 and the value: ai\n",
      "Start Index 29, End Index 31 and the value: ab\n",
      "Start Index 31, End Index 33 and the value: ai\n",
      "Start Index 34, End Index 36 and the value: a9\n",
      "Start Index 37, End Index 39 and the value: an\n",
      "--------------------------------------------------\n",
      "Start Index 0, End Index 3 and the value: aas\n",
      "Start Index 14, End Index 17 and the value: afe\n",
      "Start Index 17, End Index 20 and the value: ajk\n",
      "Start Index 21, End Index 24 and the value: akj\n",
      "Start Index 25, End Index 28 and the value: aiu\n",
      "Start Index 29, End Index 32 and the value: aba\n",
      "Start Index 34, End Index 37 and the value: a97\n",
      "--------------------------------------------------\n",
      "Start Index 0, End Index 4 and the value: aasd\n",
      "Start Index 14, End Index 18 and the value: afea\n",
      "Start Index 21, End Index 25 and the value: akjh\n",
      "Start Index 25, End Index 29 and the value: aiug\n",
      "Start Index 29, End Index 33 and the value: abai\n",
      "Start Index 34, End Index 38 and the value: a97a\n",
      "--------------------------------------------------\n"
     ]
    }
   ],
   "source": [
    "# RegEx30.py\n",
    "# This program will search for all search-obj with the next adjacent element\n",
    "\n",
    "import re\n",
    "givendata = \"aasdflkjhAERERafeajkhakjhaiugabaiga97an\"\n",
    "\n",
    "matchdata = re.finditer(\"a.\", givendata)\n",
    "matchdata1 = re.finditer(\"a..\", givendata)\n",
    "matchdata2 = re.finditer(\"a...\", givendata)\n",
    "\n",
    "for val in matchdata:\n",
    "    print(\"Start Index {}, End Index {} and the value: {}\".format(val.start(), val.end(), val.group()))\n",
    "print(\"-\"*50)\n",
    "for val in matchdata1:\n",
    "    print(\"Start Index {}, End Index {} and the value: {}\".format(val.start(), val.end(), val.group()))\n",
    "print(\"-\"*50)\n",
    "\n",
    "for val in matchdata2:\n",
    "    print(\"Start Index {}, End Index {} and the value: {}\".format(val.start(), val.end(), val.group()))\n",
    "print(\"-\"*50)\n"
   ]
  },
  {
   "cell_type": "markdown",
   "metadata": {},
   "source": [
    "<font color='#D2691E'>**Qn) Write a Python Program to search for one or more digits**<br>"
   ]
  },
  {
   "cell_type": "code",
   "execution_count": 15,
   "metadata": {},
   "outputs": [
    {
     "name": "stdout",
     "output_type": "stream",
     "text": [
      "Start Index 7, End Index 17 and the value: 1122456897\n",
      "Start Index 30, End Index 41 and the value: 45657899643\n"
     ]
    }
   ],
   "source": [
    "# RegEx31.py\n",
    "# Program to search for one or more digits\n",
    "\n",
    "import re\n",
    "\n",
    "data = \"ksajdhf1122456897lkjsagdfkjh@k45657899643jahsdf\"\n",
    "\n",
    "matchdata = re.finditer(\"\\d+\", data)\n",
    "\n",
    "for val in matchdata:\n",
    "    print(\"Start Index {}, End Index {} and the value: {}\".format(val.start(), val.end(), val.group()))\n"
   ]
  },
  {
   "cell_type": "markdown",
   "metadata": {},
   "source": [
    "<font color='#D2691E'>**Qn) Write a Python Program to search for one alphabets or more**<br>"
   ]
  },
  {
   "cell_type": "code",
   "execution_count": 16,
   "metadata": {},
   "outputs": [
    {
     "name": "stdout",
     "output_type": "stream",
     "text": [
      "Start Index 0, End Index 28 and the value: ksajdhf1122456897lkjsagdfkjh\n",
      "Start Index 29, End Index 47 and the value: k45657899643jahsdf\n"
     ]
    }
   ],
   "source": [
    "# RegEx32.py\n",
    "# Program to search for one alphabets or more\n",
    "\n",
    "import re\n",
    "\n",
    "data = \"ksajdhf1122456897lkjsagdfkjh@k45657899643jahsdf\"\n",
    "\n",
    "matchdata = re.finditer(\"\\w+\", data)\n",
    "\n",
    "for val in matchdata:\n",
    "    print(\"Start Index {}, End Index {} and the value: {}\".format(val.start(), val.end(), val.group()))\n"
   ]
  },
  {
   "cell_type": "markdown",
   "metadata": {},
   "source": [
    "<font color='#D2691E'>**Qn) Write a Python Program to search for Program to search for 4-digit number**<br>"
   ]
  },
  {
   "cell_type": "code",
   "execution_count": 17,
   "metadata": {},
   "outputs": [
    {
     "name": "stdout",
     "output_type": "stream",
     "text": [
      "Start Index 7, End Index 11 and the value: 1123\n",
      "Start Index 14, End Index 18 and the value: 4568\n",
      "Start Index 34, End Index 38 and the value: 4565\n",
      "Start Index 38, End Index 42 and the value: 7899\n"
     ]
    }
   ],
   "source": [
    "# RegEx33.py\n",
    "# Program to search for 4-digit number\n",
    "\n",
    "import re\n",
    "\n",
    "givendata = \"ksajdhf11232 a4568d97lkjsagdfkjh@k45657899643jahsdf\"\n",
    "\n",
    "matchdata = re.finditer(\"\\d{4}\", givendata)\n",
    "\n",
    "for val in matchdata:\n",
    "    print(\"Start Index {}, End Index {} and the value: {}\".format(val.start(), val.end(), val.group()))\n"
   ]
  },
  {
   "cell_type": "markdown",
   "metadata": {},
   "source": [
    "<font color='#D2691E'>**Qn) Write a Python Program to search for decimal number**<br>"
   ]
  },
  {
   "cell_type": "code",
   "execution_count": 19,
   "metadata": {},
   "outputs": [
    {
     "name": "stdout",
     "output_type": "stream",
     "text": [
      "Start Index 7, End Index 12 and the value: 11.23\n",
      "Start Index 14, End Index 19 and the value: 22.32\n",
      "Start Index 36, End Index 41 and the value: 45.65\n"
     ]
    }
   ],
   "source": [
    "# RegEx34.py\n",
    "# Program to search for decimal number\n",
    "\n",
    "import re\n",
    "\n",
    "givendata = \"ksajdhf11.23as22.32ga27lkjsagdfkjh@k45.65e\"\n",
    "\n",
    "matchdata = re.finditer(\"\\d{2}.\\d{2}\", givendata)\n",
    "\n",
    "for val in matchdata:\n",
    "    print(\"Start Index {}, End Index {} and the value: {}\".format(val.start(), val.end(), val.group()))\n"
   ]
  },
  {
   "cell_type": "markdown",
   "metadata": {},
   "source": [
    "<font color='#D2691E'>**Qn) Write a Python Program to find the names from the given data**<br>"
   ]
  },
  {
   "cell_type": "code",
   "execution_count": 20,
   "metadata": {},
   "outputs": [
    {
     "name": "stdout",
     "output_type": "stream",
     "text": [
      "Names are: Anu\n",
      "Names are: Roshni\n",
      "Names are: Vaishnavi\n"
     ]
    }
   ],
   "source": [
    "# RegEx35.py\n",
    "# Program to find the names from the given data\n",
    "\n",
    "import re\n",
    "\n",
    "givendata = \"Anu is studying python. Roshni is also learning python. Vaishnavi is a student\"\n",
    "\n",
    "matchdata = re.finditer(\"[A-Z][a-z]+\", givendata)\n",
    "\n",
    "for val in matchdata:\n",
    "    print(\"Names are:\", val.group())\n"
   ]
  },
  {
   "cell_type": "markdown",
   "metadata": {},
   "source": [
    "<font color='#D2691E'>**Qn) Write a Python Program which will validates Mobile Number by using regular expressions**<br>"
   ]
  },
  {
   "cell_type": "code",
   "execution_count": 25,
   "metadata": {},
   "outputs": [
    {
     "name": "stdout",
     "output_type": "stream",
     "text": [
      "Enter the mobile number:1234567895\n",
      "The Mobile number 1234567895 is valid\n"
     ]
    }
   ],
   "source": [
    "# MobileNumberValid.py\n",
    "# This program validates Mobile Number by using regular expressions.\n",
    "\n",
    "import re\n",
    "\n",
    "while (True):\n",
    "    n = input(\"Enter the mobile number:\")\n",
    "    if (len(n) == 10):\n",
    "        result = re.search(\"\\d{10}\", n)\n",
    "        if result != None:\n",
    "            print(\"The Mobile number {} is valid\".format(n))\n",
    "            break\n",
    "        else:\n",
    "            print(\"The entered number is invalid. It must contains only digits\")\n",
    "    else:\n",
    "        print(\"The mobile number must contain 10 digits\")\n"
   ]
  },
  {
   "cell_type": "markdown",
   "metadata": {},
   "source": [
    "<font color='#D2691E'>**Qn) Write a Python Program which will retrieve the student names, and their marks from the given data**<br>"
   ]
  },
  {
   "cell_type": "code",
   "execution_count": 26,
   "metadata": {},
   "outputs": [
    {
     "name": "stdout",
     "output_type": "stream",
     "text": [
      "\tStudent Names\tStudent Marks\n",
      "--------------------------------------------------\n",
      "\tAnuls\t\t85\n",
      "\tRodhni\t\t95\n",
      "\tRossum\t\t88\n",
      "\tGosling\t\t92\n",
      "\tRitche\t\t89\n",
      "\tTravis\t\t87\n",
      "--------------------------------------------------\n"
     ]
    }
   ],
   "source": [
    "# This program will extract student name and marks from the given data\n",
    "\n",
    "import re\n",
    "\n",
    "givendata = \"Anuls got 85 marks, Rodhni got 95 marks, Rossum got 88 marks, Gosling gor 92 marks, Ritche gor 89 marks, and Travis got 87 marks\"\n",
    "\n",
    "# names = re.finditer(\"[A-Z][a-z]+\", givendata)\n",
    "# print(\"List of student names:\")\n",
    "# print(\"-\"*50)\n",
    "# for val in names:\n",
    "#     print(\"\\t{}\".format(val.group()))\n",
    "#\n",
    "# print(\"---------OR----------\")\n",
    "studlist = re.findall(\"[A-Z][a-z]+\", givendata)\n",
    "# print(\"-\"*50)\n",
    "# print(\"List of student names:\")\n",
    "# print(\"-\"*50)\n",
    "# for val in studlist:\n",
    "#     print(\"\\t{}\".format(val))\n",
    "\n",
    "studmarks = re.findall(\"\\d{2}\", givendata)\n",
    "# print(\"-\"*50)\n",
    "# # for val in studmarks:\n",
    "#     print(\"\\t{}\".format(val))\n",
    "\n",
    "print(\"\\tStudent Names\\tStudent Marks\")\n",
    "print(\"-\" * 50)\n",
    "for name, marks in zip(studlist, studmarks):\n",
    "    print(\"\\t{}\\t\\t{}\".format(name, marks))\n",
    "\n",
    "print(\"-\" * 50)\n"
   ]
  },
  {
   "cell_type": "code",
   "execution_count": 27,
   "metadata": {},
   "outputs": [
    {
     "name": "stdout",
     "output_type": "stream",
     "text": [
      "\tStudent Names\tStudent Marks\n",
      "--------------------------------------------------\n",
      "\tAnuls\t\t85\n",
      "\tRodhni\t\t95\n",
      "\tRossum\t\t88\n",
      "\tGosling\t\t92\n",
      "\tRitche\t\t89\n",
      "\tTravis\t\t87\n",
      "--------------------------------------------------\n"
     ]
    }
   ],
   "source": [
    "# This program will extract student name and marks from the given data\n",
    "\n",
    "import re\n",
    "\n",
    "gd = \"Anuls got 85 marks, Rodhni got 95 marks, Rossum got 88 marks, Gosling gor 92 marks, Ritche gor 89 marks, and Travis got 87 marks\"\n",
    "studlist = re.findall(\"[A-Z][a-z]+\", gd)\n",
    "studmarks = re.findall(\"\\d{2}\", gd)\n",
    "print(\"\\tStudent Names\\tStudent Marks\")\n",
    "print(\"-\" * 50)\n",
    "for name, marks in zip(studlist, studmarks):\n",
    "    print(\"\\t{}\\t\\t{}\".format(name, marks))\n",
    "print(\"-\" * 50)\n"
   ]
  },
  {
   "cell_type": "markdown",
   "metadata": {},
   "source": [
    "<font color='#D2691E'>**Qn) Write a Python Program which will retrieve the student names, marks and email from the given data**<br>"
   ]
  },
  {
   "cell_type": "code",
   "execution_count": null,
   "metadata": {},
   "outputs": [],
   "source": [
    "# This program will extract student name and marks from the given data\n",
    "\n",
    "import re\n",
    "\n",
    "with open(r\"C:\\Users\\Owner\\Desktop\\NIT_Python\\Scripts\\Module_13_REGULAR EXPRESSIONS\\\\student.info\") as fp:\n",
    "    filedata = fp.read()\n",
    "    studlist = re.findall(\"[A-Z][a-z]+\", filedata)\n",
    "    studmarks = re.findall(\"\\d{2}\", filedata)\n",
    "    studemail = re.findall(\"\\S+@\\S+\", filedata)\n",
    "print(\"\\tStudNames\\tStudMarks\\tStudEmail\")\n",
    "print(\"-\" * 50)\n",
    "for name, marks, email in zip(studlist, studmarks, studemail):\n",
    "    print(\"\\t{}\\t\\t{}\\t\\t\\t{}\".format(name, marks, email))\n",
    "print(\"-\" * 50)\n"
   ]
  }
 ],
 "metadata": {
  "kernelspec": {
   "display_name": "Python 3 (ipykernel)",
   "language": "python",
   "name": "python3"
  },
  "language_info": {
   "codemirror_mode": {
    "name": "ipython",
    "version": 3
   },
   "file_extension": ".py",
   "mimetype": "text/x-python",
   "name": "python",
   "nbconvert_exporter": "python",
   "pygments_lexer": "ipython3",
   "version": "3.9.13"
  }
 },
 "nbformat": 4,
 "nbformat_minor": 4
}
