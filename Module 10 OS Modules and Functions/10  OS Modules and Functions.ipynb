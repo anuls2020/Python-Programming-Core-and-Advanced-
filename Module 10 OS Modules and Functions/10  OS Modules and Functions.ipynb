{
 "cells": [
  {
   "cell_type": "markdown",
   "id": "178523f1",
   "metadata": {},
   "source": [
    " <h1><center>OS Module in Python</center></h1> "
   ]
  },
  {
   "cell_type": "markdown",
   "id": "398d646e",
   "metadata": {},
   "source": [
    "## <font color='#3498DB'>OS Modules </font>"
   ]
  },
  {
   "cell_type": "markdown",
   "id": "65f75671",
   "metadata": {},
   "source": [
    "* \"os\" is one of the **pre-defined module in python**\n",
    "* The Purpose of \"os\" module  is that \"**To interact with Operating System and Performs Some Operations with OS**\".\n",
    "* Some of the Operation , we do on Operating System are\n",
    "\n",
    "    1. <font color='#3498DB'>**Obtaining Current Working Folder**</font>\n",
    "    2. <font color='#3498DB'>**Creating a Folder**</font>\n",
    "    3. <font color='#3498DB'>**Creating Root Folder, Sub Folder, sub-sub folder..etc**</font>\n",
    "    4. <font color='#3498DB'>**Removing Folder**</font>\n",
    "    5. <font color='#3498DB'>**Removing Root Folder, Sub Folder, sub-sub folder..etc**</font>\n",
    "    6. <font color='#3498DB'>**List the files of Folders.**</font>\n",
    "    7. <font color='#3498DB'>**Renaming the folder.**</font>"
   ]
  },
  {
   "cell_type": "markdown",
   "id": "3bf53a2a",
   "metadata": {},
   "source": [
    "### <font color='#3498DB'>**a) obtaining Current Working Folder/ Directory:**</font>"
   ]
  },
  {
   "cell_type": "markdown",
   "id": "4eca0987",
   "metadata": {},
   "source": [
    "\n",
    "* To get **Current Working Folder**, we use a pre-defined Function called <font color='#009900'>**getcwd()**</font>, which is present in os module.\n",
    "\n",
    "<div class=\"alert alert-block alert-success\">\n",
    "<b>Syntax:</b></br> \n",
    "<code>varname=os.getcwd()</code>\n",
    "</div>\n",
    "\n",
    "\n",
    "**Examples:**"
   ]
  },
  {
   "cell_type": "code",
   "execution_count": null,
   "id": "06475366",
   "metadata": {},
   "outputs": [],
   "source": [
    "# Obtaining the current working folder or directory\n",
    "# cwdex1.py\n",
    "\n",
    "import os\n",
    "\n",
    "cwd = os.getcwdb()\n",
    "print(\"The current working directory is {}\".format(cwd))\n"
   ]
  },
  {
   "cell_type": "markdown",
   "id": "bdaaa9b0",
   "metadata": {},
   "source": [
    "### <font color='#3498DB'>**b) Creating a Folder:**</font>"
   ]
  },
  {
   "cell_type": "markdown",
   "id": "cea734b0",
   "metadata": {},
   "source": [
    "* To create a folder, we use <font color='#009900'>**mkdir()**</font> of os module.\n",
    "\n",
    "<div class=\"alert alert-block alert-success\">\n",
    "<b>Syntax:</b></br> \n",
    "<code>os.mkdir(\"FolderName\")</code>\n",
    "</div>\n",
    "\n",
    "\n",
    "* This Function can create one folder at a time and unable create Folders hierarchy(Root Folder\\sub-folder...etc ) and we get <font color='red'>**OSError**</font>\n",
    "* If folder Name already exist and if try to create then we get <font color='red'>**FileExistsError**</font>\n",
    "\n",
    "**Examples:**"
   ]
  },
  {
   "cell_type": "code",
   "execution_count": null,
   "id": "0b5051bc",
   "metadata": {},
   "outputs": [],
   "source": [
    "# program to create folder\n",
    "# createfolder.py\n",
    "\n",
    "import os\n",
    "\n",
    "try:\n",
    "    os.mkdir(r\"C:\\Users\\Owner\\createfolder\")\n",
    "    # os.mkdir(r\"C:\\Users\\Owner\\createfolder\\folder1\\folder2\")\n",
    "    print(\"Folder created successfully.. Please verify.\")\n",
    "\n",
    "except FileExistsError:\n",
    "    print(\"Folder already exists!... Chose another name..\")\n",
    "except OSError:\n",
    "    print(\"Cant create folder Hierarchy\")"
   ]
  },
  {
   "cell_type": "markdown",
   "id": "e6bebbc0",
   "metadata": {},
   "source": [
    "### <font color='#3498DB'>**c) Creating Root Folder, Sub Folder, sub-sub folder..etc**</font>"
   ]
  },
  {
   "cell_type": "markdown",
   "id": "d09f76e1",
   "metadata": {},
   "source": [
    "* To create Root Folder, Sub Folder, sub-sub folder..etc(Folders Hierarchy) , we use a pre-defined function <font color='#009900'>**makedir()**</font> of os module.\n",
    "\n",
    "<div class=\"alert alert-block alert-success\">\n",
    "<b>Syntax:</b></br> \n",
    "<code>os.makedir(\"Folders Hierarchy\")</code>\n",
    "</div>\n",
    "\n",
    "\n",
    "* Folders Hierarchy represents Root Folder, Sub Folder, sub-sub folder..etc\n",
    "* This Function gives <font color='red'>**FileExistsError**</font> when folders Hierarchy already exists.\n",
    "\n",
    "**Example:**"
   ]
  },
  {
   "cell_type": "code",
   "execution_count": null,
   "id": "6ac27426",
   "metadata": {},
   "outputs": [],
   "source": [
    "# creating folder hierarchy\n",
    "# Folderhierarchy\n",
    "\n",
    "import os\n",
    "\n",
    "try:\n",
    "    os.makedirs(r\"C:\\Users\\Owner\\folder1\\folder2\\folder3\")\n",
    "    print(\"Folder Hierarchy created successfully. Please verify\")\n",
    "except FileExistsError:\n",
    "    print(\"Folder already exist\")\n",
    "except OSError:\n",
    "    print(\"Cant create folder in this location\")\n"
   ]
  },
  {
   "cell_type": "markdown",
   "id": "a8eb7625",
   "metadata": {},
   "source": [
    "### <font color='#3498DB'>**d) Removing Folder:**</font>"
   ]
  },
  {
   "cell_type": "markdown",
   "id": "2734aafc",
   "metadata": {},
   "source": [
    "* To remove a folder, we use <font color='#009900'>**rmdir()**</font> of os module.\n",
    "\n",
    "<div class=\"alert alert-block alert-success\">\n",
    "<b>Syntax:</b></br> \n",
    "<code>os.rmdir(\"Folder Name\")</code>\n",
    "</div>\n",
    "\n",
    "\n",
    "* This Function remove at a time only one folder but it can't remove folders hierarchy.\n",
    "* If we try to remove a folder and if it does not exists then we get <font color='red'>**FileNotFoundError**</font>\n",
    "* rmdir() can't remove a folder when that folder contains some files  and we get <font color='red'>**OSError**</font>\n",
    "\n",
    "**Examples:**"
   ]
  },
  {
   "cell_type": "code",
   "execution_count": null,
   "id": "7ad03dce",
   "metadata": {},
   "outputs": [],
   "source": [
    "# program to remove the folder\n",
    "# removefolder.py\n",
    "\n",
    "import os\n",
    "\n",
    "try:\n",
    "    os.rmdir(r\"C:\\Users\\Owner\\folder1\\folder2\")\n",
    "    print(\"Directory removed successfully -- Please verify\")\n",
    "except FileNotFoundError:\n",
    "    print(\"File does not exist\")\n",
    "except OSError:\n",
    "    print(\"Directory is not empty\")"
   ]
  },
  {
   "cell_type": "markdown",
   "id": "f28a5941",
   "metadata": {},
   "source": [
    "### <font color='#3498DB'>**e) Removing Root Folder, Sub Folder, sub-sub folder..etc**</font>"
   ]
  },
  {
   "cell_type": "markdown",
   "id": "d1fb1599",
   "metadata": {},
   "source": [
    "* To remove Root Folder, Sub Folder, sub-sub folder..etc( Folders Hierarchy) , we use <font color='#009900'>**removedirs()**</font> of os module.\n",
    "\n",
    "<div class=\"alert alert-block alert-success\">\n",
    "<b>Syntax:</b></br> \n",
    "<code>os.removedirs(\"Folders Hierarchy\")</code>\n",
    "</div>\n",
    "\n",
    "\n",
    "* Folders Hierarchy represents Root Folder, Sub Folder, sub-sub folder..etc\n",
    "* If Folders Hierarchy does not exists then we get <font color='red'>**FileNotFoundError**</font>\n",
    "* If any folder in Folders Hierarchy contains some file then we get <font color='red'>**OSError**</font>\n",
    "\n",
    "**Examples:**"
   ]
  },
  {
   "cell_type": "code",
   "execution_count": null,
   "id": "72bc52db",
   "metadata": {},
   "outputs": [],
   "source": [
    "# program to remove the folder structures\n",
    "\n",
    "import os\n",
    "\n",
    "try:\n",
    "    os.removedirs(r\"C:\\Users\\Owner\\folder1\\folder2\\folder3\")\n",
    "    print(\"Folders removed successfully.\")\n",
    "except FileNotFoundError:\n",
    "    print(\"Folder does not exist.\")\n",
    "\n",
    "except OSError:\n",
    "    print(\"Folders are not empty. Please remove any files inside the folder.\")"
   ]
  },
  {
   "cell_type": "markdown",
   "id": "a5f58c01",
   "metadata": {},
   "source": [
    "### <font color='#3498DB'>**f) list the files of Folders**</font>"
   ]
  },
  {
   "cell_type": "markdown",
   "id": "c1a08540",
   "metadata": {},
   "source": [
    "* To list the files of the folders, we use <font color='#009900'>**listdir()**</font> of os module and all files are available in the form of list object\n",
    "\n",
    "<div class=\"alert alert-block alert-success\">\n",
    "<b>Syntax:</b></br> \n",
    "<code>varname=os.lisdir(\"FolderName\")</code>\n",
    "</div>\n",
    "\n",
    "* if the folder name does not exists then we get <font color='red'>**FileNotFoundError**</font>\n",
    "\n",
    "**Examples:**"
   ]
  },
  {
   "cell_type": "code",
   "execution_count": null,
   "id": "c704d81b",
   "metadata": {},
   "outputs": [],
   "source": [
    "# program to list the folder structures\n",
    "\n",
    "import os\n",
    "\n",
    "try:\n",
    "    lst = os.listdir(r\"C:\\Users\\Owner\\folder1\\folder2\")\n",
    "    print(\"Folders are:\", lst)\n",
    "\n",
    "except FileNotFoundError:\n",
    "    print(\"Folder does not exist.\")"
   ]
  },
  {
   "cell_type": "markdown",
   "id": "d501d515",
   "metadata": {},
   "source": [
    "### <font color='#3498DB'>**g) renaming the folder.**</font>"
   ]
  },
  {
   "cell_type": "markdown",
   "id": "5f8ab762",
   "metadata": {},
   "source": [
    "* To rename a folder, we use <font color='#009900'>**rename()**</font> of os module.\n",
    "\n",
    "<div class=\"alert alert-block alert-success\">\n",
    "<b>Syntax:</b></br> \n",
    "<code>os.rename(\"Existing Folder Name\", \"New Folder Name\")</code>\n",
    "</div>\n",
    "    \n",
    "* If the Existing Folder Name is not present then we get <font color='red'>**FileNotFoundError**</font>\n",
    "\n",
    "**Examples:**"
   ]
  },
  {
   "cell_type": "code",
   "execution_count": null,
   "id": "1819df75",
   "metadata": {},
   "outputs": [],
   "source": [
    "# program to rename the folder\n",
    "# rename.py\n",
    "\n",
    "import os\n",
    "\n",
    "try:\n",
    "    os.rename(r\"C:\\Users\\Owner\\createfolder\",\n",
    "              r\"C:\\Users\\Owner\\Old_folder\")\n",
    "    print(\"Folder renamed successfully.... Please verify.\")\n",
    "    lst = os.listdir(r\"C:\\Users\\Owner\")\n",
    "    print(\"Folders are:\", lst)\n",
    "\n",
    "except FileNotFoundError:\n",
    "    print(\"Folder does not exist.\")\n"
   ]
  }
 ],
 "metadata": {
  "kernelspec": {
   "display_name": "Python 3 (ipykernel)",
   "language": "python",
   "name": "python3"
  },
  "language_info": {
   "codemirror_mode": {
    "name": "ipython",
    "version": 3
   },
   "file_extension": ".py",
   "mimetype": "text/x-python",
   "name": "python",
   "nbconvert_exporter": "python",
   "pygments_lexer": "ipython3",
   "version": "3.9.13"
  }
 },
 "nbformat": 4,
 "nbformat_minor": 5
}
