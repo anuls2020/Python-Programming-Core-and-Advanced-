{
 "cells": [
  {
   "cell_type": "markdown",
   "metadata": {},
   "source": [
    "# Arithematic Operations Assignments and Solutions:"
   ]
  },
  {
   "cell_type": "markdown",
   "metadata": {},
   "source": [
    "#### <font color='#D2691E'>Qn) Write a python program which will demonstrate all the functionality of arithematic operators</font>\n"
   ]
  },
  {
   "cell_type": "code",
   "execution_count": 6,
   "metadata": {
    "scrolled": false
   },
   "outputs": [
    {
     "name": "stdout",
     "output_type": "stream",
     "text": [
      "Enter the value of a and b:\n",
      "3\n",
      "2\n",
      "Addition of 3.0 and 2.0 is 5.0\n",
      "Difference between 3.0 and 2.0 is 1.0\n",
      "Product of 3.0 and 2.0 is 6.0\n",
      "Float Quotient Division of 3.0 and 2.0 is 1.5\n",
      "Integer Quotient Division of 3.0 and 2.0 is 1.0\n",
      "Modular Division of 3.0 and 2.0 is 1.0\n",
      "Exponentiation of 3.0 and 2.0 is 9.0\n"
     ]
    }
   ],
   "source": [
    "#Demonstration of Arithmatic Operators\n",
    "#aop.py\n",
    "print(\"Enter the value of a and b:\")\n",
    "a,b=float(input()), float(input())\n",
    "print(\"Addition of {} and {} is\".format(a,b), a+b)\n",
    "print(\"Difference between {} and {} is\".format(a,b), a-b)\n",
    "print(\"Product of {} and {} is\".format(a,b), a*b)\n",
    "print(\"Float Quotient Division of {} and {} is\".format(a,b), a/b)\n",
    "print(\"Integer Quotient Division of {} and {} is\".format(a,b), a//b)\n",
    "print(\"Modular Division of {} and {} is\".format(a,b), a%b)\n",
    "print(\"Exponentiation of {} and {} is\".format(a,b), a**b)"
   ]
  },
  {
   "cell_type": "markdown",
   "metadata": {},
   "source": [
    "#### <font color='#D2691E'>Qn) Write a python program which will calculate the simple interest by accepting P,T,R valuesand calculate the total amount to pay</font>\n",
    "\n",
    "Equation to calculate the interest:\n",
    "\n",
    "<font color='#FF1493'>$S_{i}=\\frac{P*T*R} {100}$</font>\n",
    "\n",
    "<font color='#FF1493'>$A = {P}*{(1+ rt)}$</font>\n"
   ]
  },
  {
   "cell_type": "code",
   "execution_count": 6,
   "metadata": {},
   "outputs": [
    {
     "name": "stdout",
     "output_type": "stream",
     "text": [
      "Enter the value of Principle\n",
      "1000\n",
      "Enter the value of tenure in years\n",
      "1\n",
      "Enter the value of rate of interest\n",
      "10\n",
      "The Interest Is 100.0\n",
      "Total amount to pay 1100.0\n"
     ]
    }
   ],
   "source": [
    "#Calculate the simple interest and total amount to pay\n",
    "#sint.py\n",
    "print(\"Enter the value of Principle\")\n",
    "p=float(input())\n",
    "print(\"Enter the value of tenure in years\")\n",
    "t=float(input())\n",
    "print(\"Enter the value of rate of interest\")\n",
    "r=float(input())\n",
    "Si=(p*t*r)/100\n",
    "print(\"The Interest Is\", Si)\n",
    "print(\"Total amount to pay\", p+Si)"
   ]
  },
  {
   "cell_type": "markdown",
   "metadata": {},
   "source": [
    "#### <font color='#D2691E'>Qn) Write a python program to find the area and circumference of a circle</font>\n",
    "\n",
    "**Equation:**\n",
    "\n",
    "<font color='#FF1493'>$A={\\pi} {r^2}$</font>\n",
    "\n",
    "<font color='#FF1493'>$C={2\\pi} {r}$</font>\n"
   ]
  },
  {
   "cell_type": "code",
   "execution_count": 8,
   "metadata": {},
   "outputs": [
    {
     "name": "stdout",
     "output_type": "stream",
     "text": [
      "Enter the radius of clircle:\n",
      "10\n",
      "Area and Circumference of the circle with radius 10.0: is 314.0 and 62.800000000000004\n"
     ]
    }
   ],
   "source": [
    "# Area and Circumference of circle\n",
    "# circlearea.py\n",
    "print(\"Enter the radius of clircle:\")\n",
    "r=float(input())\n",
    "pi=3.14\n",
    "A=pi*r**2\n",
    "C=2*pi*r\n",
    "print(\"Area and Circumference of the circle with radius {}: is {} and {}\".format(r, A, C))"
   ]
  },
  {
   "cell_type": "markdown",
   "metadata": {},
   "source": [
    "#### <font color='#D2691E'>Qn) Write a python program to find the area and circumference of a rectangle</font>\n",
    "\n",
    "**Equation:**\n",
    "\n",
    "<font color='#FF1493'>$A=l*b$</font>\n",
    "\n",
    "<font color='#FF1493'>$C={2}*{(l+b)}$</font>\n"
   ]
  },
  {
   "cell_type": "code",
   "execution_count": 9,
   "metadata": {},
   "outputs": [
    {
     "name": "stdout",
     "output_type": "stream",
     "text": [
      "Enter the value of length and breadth:\n",
      "10\n",
      "5\n",
      "Are and Circumference of the rectangle with length 10.0 and Breadth5.0 is 50.0 and 30.0\n"
     ]
    }
   ],
   "source": [
    "# Area and Circumferenc of the rectangle\n",
    "# arearect.py\n",
    "print(\"Enter the value of length and breadth:\")\n",
    "l,b=float(input()), float(input())\n",
    "A=l*b\n",
    "C=2*(l+b)\n",
    "print(\"Are and Circumference of the rectangle with length {} and Breadth {} is {} and {}\".format(l,b,A,C))"
   ]
  },
  {
   "cell_type": "markdown",
   "metadata": {},
   "source": [
    "#### <font color='#D2691E'>Qn) Write a python program to find the area and circumference of a Square</font>\n",
    "\n",
    "**Equation:**\n",
    "\n",
    "<font color='#FF1493'>$A=a^2$</font>\n",
    "\n",
    "<font color='#FF1493'>$C={4a}$</font>\n"
   ]
  },
  {
   "cell_type": "code",
   "execution_count": 10,
   "metadata": {},
   "outputs": [
    {
     "name": "stdout",
     "output_type": "stream",
     "text": [
      "Enter the value of a side of the square:\n",
      "10\n",
      "Area and circumference of the Square with side 10 is 100 and 40\n"
     ]
    }
   ],
   "source": [
    "# Area and Circumferenc of the rectangle\n",
    "# square.py\n",
    "\n",
    "print(\"Enter the value of a side of the square:\")\n",
    "a=int(input())\n",
    "A=a**2\n",
    "C=4*a\n",
    "print(\"Area and circumference of the Square with side {} is {} and {}\".format(a,A,C))"
   ]
  },
  {
   "cell_type": "markdown",
   "metadata": {},
   "source": [
    "#### <font color='#D2691E'>Qn) Write a python program to evaluae the following formula</font>\n",
    "\n",
    "**Equation:**\n",
    "\n",
    "<font color='#FF1493'>${(a+b)^2 = a^2 + 2ab + b^2}$</font>\n",
    "\n"
   ]
  },
  {
   "cell_type": "code",
   "execution_count": 19,
   "metadata": {},
   "outputs": [
    {
     "name": "stdout",
     "output_type": "stream",
     "text": [
      "Enter the value of a and b:\n",
      "3\n",
      "4\n",
      "Evaluation of the Equation:\n",
      "Quadraic equation evaluated as True\n"
     ]
    }
   ],
   "source": [
    "# Evaluation of the quadratic equation\n",
    "# quadratic.py\n",
    "print(\"Enter the value of a and b:\")\n",
    "a,b=int(input()), int(input())\n",
    "x=(a+b)**2\n",
    "y=a**2 + 2*a*b + b**2\n",
    "print(\"Evaluation of the Equation:\")\n",
    "if x==y:\n",
    "    print(\"Quadraic equation evaluated as True\")"
   ]
  },
  {
   "cell_type": "markdown",
   "metadata": {},
   "source": [
    "#### <font color='#D2691E'>Qn) Write a python program which will calculate square root of a given number</font>\n",
    "\n",
    "**Equation:**\n",
    "\n",
    "<font color='#FF1493'>$Square\\ root = \\sqrt[2]n$</font>\n",
    "\n"
   ]
  },
  {
   "cell_type": "code",
   "execution_count": 20,
   "metadata": {},
   "outputs": [
    {
     "name": "stdout",
     "output_type": "stream",
     "text": [
      "Enter the number:\n",
      "4\n",
      "The square root of the number 4 is 2.0\n"
     ]
    }
   ],
   "source": [
    "# Find the square root of a nuber\n",
    "# sqrt.py\n",
    "print(\"Enter the number:\")\n",
    "n=int(input())\n",
    "sq=(n)**(1/2)\n",
    "print(\"The square root of the number {} is {}\".format(n,sq))"
   ]
  },
  {
   "cell_type": "markdown",
   "metadata": {},
   "source": [
    "#### <font color='#D2691E'>Qn) Write a python program which will calculate n-th power of a given number</font>\n",
    "\n",
    "**Equation:**\n",
    "\n",
    "<font color='#FF1493'>$n^{th}\ Power = x^n$</font>"
   ]
  },
  {
   "cell_type": "code",
   "execution_count": 26,
   "metadata": {},
   "outputs": [
    {
     "name": "stdout",
     "output_type": "stream",
     "text": [
      "Enter the number x and the nth root value:\n",
      "4\n",
      ".5\n",
      "The 0.5 th power of the number 4 is 2.0\n"
     ]
    }
   ],
   "source": [
    "# Find the nth power of a number x\n",
    "# nthpwr.py\n",
    "print(\"Enter the value of base x and the power n :\")\n",
    "x=int(input())\n",
    "n=float(input())\n",
    "sq=(x)**(n)\n",
    "print(\"The {} th power of the number {} is {}\".format(n,x,sq))"
   ]
  },
  {
   "cell_type": "markdown",
   "metadata": {},
   "source": [
    "#### <font color='#D2691E'>Qn) Write a python program which will calculate $n^{th} $ root of a given number</font>\n",
    "\n",
    "**Equation:**\n",
    "\n",
    "<font color='#FF1493'>$n^{th}\\ root = \\sqrt[n]x$</font>\n",
    "\n"
   ]
  },
  {
   "cell_type": "code",
   "execution_count": 6,
   "metadata": {},
   "outputs": [
    {
     "name": "stdout",
     "output_type": "stream",
     "text": [
      "Enter the value of base x :25\n",
      "Enter the value of root n :2\n",
      "The 2.0 th root of the number 25 is 5.0\n"
     ]
    }
   ],
   "source": [
    "# Find the nth root of a number\n",
    "# nthrt.py\n",
    "# print(\"Enter the value of base x :\")\n",
    "x=int(input(\"Enter the value of base x :\"))\n",
    "#print(\"Enter the value of root n :\")\n",
    "n=float(input(\"Enter the value of root n :\"))\n",
    "\n",
    "nth_root=(x)**(1/n)\n",
    "print(\"The {} th root of the number {} is {}\".format(n,x,nth_root))"
   ]
  },
  {
   "cell_type": "markdown",
   "metadata": {},
   "source": [
    "#### <font color='#D2691E'>Qn) Write a python program which will accept any two number and swap them</font>"
   ]
  },
  {
   "cell_type": "code",
   "execution_count": 1,
   "metadata": {},
   "outputs": [
    {
     "name": "stdout",
     "output_type": "stream",
     "text": [
      "Enter two values:\n",
      "1\n",
      "2\n",
      "value of a and b before swapping 1 2\n",
      "value of a and b after swapping 2 1\n"
     ]
    }
   ],
   "source": [
    "# swapping two numbers\n",
    "#swap.py\n",
    "print(\"Enter two values:\")\n",
    "a,b=int(input()), int(input())\n",
    "print(\"value of a and b before swapping\", a,b)\n",
    "a,b=b,a\n",
    "print(\"value of a and b after swapping\", a,b)"
   ]
  },
  {
   "cell_type": "markdown",
   "metadata": {},
   "source": [
    "#### <font color='#D2691E'>Qn) Write a python program which will accept any two number and swap them using XOR(^) operator</font>"
   ]
  },
  {
   "cell_type": "code",
   "execution_count": 2,
   "metadata": {},
   "outputs": [
    {
     "name": "stdout",
     "output_type": "stream",
     "text": [
      "Enter the value of a:10\n",
      "Enter the value of b:20\n",
      "--------------------------------------------------\n",
      "Original Value of a is 10\n",
      "Original value of b is 20\n",
      "--------------------------------------------------\n",
      "swapped value of a is 20\n",
      "swapped value of b is 10\n"
     ]
    }
   ],
   "source": [
    "#Swapping of two numbers using xor\n",
    "#swapxor.py\n",
    "a=int(input(\"Enter the value of a:\"))\n",
    "b=int(input(\"Enter the value of b:\"))\n",
    "print(\"-\"*50)\n",
    "print(\"Original Value of a is {}\".format(a))\n",
    "print(\"Original value of b is {}\".format(b))\n",
    "\n",
    "a=a^b\n",
    "b=a^b\n",
    "a=a^b\n",
    "print(\"-\"*50)\n",
    "print(\"swapped value of a is {}\".format(a))\n",
    "print(\"swapped value of b is {}\".format (b))\n"
   ]
  }
 ],
 "metadata": {
  "kernelspec": {
   "display_name": "Python 3 (ipykernel)",
   "language": "python",
   "name": "python3"
  },
  "language_info": {
   "codemirror_mode": {
    "name": "ipython",
    "version": 3
   },
   "file_extension": ".py",
   "mimetype": "text/x-python",
   "name": "python",
   "nbconvert_exporter": "python",
   "pygments_lexer": "ipython3",
   "version": "3.10.0"
  }
 },
 "nbformat": 4,
 "nbformat_minor": 4
}
