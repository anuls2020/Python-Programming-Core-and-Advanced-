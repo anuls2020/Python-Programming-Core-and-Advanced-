{
 "cells": [
  {
   "cell_type": "markdown",
   "metadata": {},
   "source": [
    "<h1><center>Collection Catagery Data Types -- (List/Tuple Data Types)</h1></center>"
   ]
  },
  {
   "cell_type": "markdown",
   "metadata": {},
   "source": [
    "* In Collection Catagery Data Types, the **List** and **Tuple** are used for **storing Multiple Values either of same type or different type or both types with Unique and Duplicate Values in a single variable**.\n",
    "* Collection Catagery Data Types are classified into 2 types. They are\n",
    "    - **list**\n",
    "    - **tuple**"
   ]
  },
  {
   "cell_type": "markdown",
   "metadata": {},
   "source": [
    "### List\n",
    "\n",
    "#### Index:\n",
    "- Purpose\n",
    "- Organization of elements\n",
    "- Operations on List\n",
    "- Pre-defined Functions in list\n",
    "- Inner / Nested List\n",
    "- Pre-defined Functions in inner / nested list\n",
    "\n",
    "#### Properties of list:\n",
    "\n",
    "- 'list' is one of the pre-defined class and treated as List catagery data type.\n",
    "- The purpose of list data type is that `\"To store Multiple Values either of same type or different type or both types with Unique and Duplicate Values in a single variable\"`\n",
    "- The elements of list must written within Square Brackets [] and elements must separated by comma.\n",
    "- An object of list `maintains Insertion Order` ( In which ever order we insert the data in the object of list, in the same order elements will be displayed\")\n",
    "- On the object of list , we can perform both `indexing & slicing` Operations.\n",
    "- An object of list is <font color='Blue'> **mutable**</font>\n",
    "- We create two types of lists. They are\n",
    ">\t\ta) Empty List\n",
    "\t\t b) Non-empty list\n",
    "-  An Empty List  is one, whose length=0  (no elements  presents)\n",
    "##### Syntax:-       \n",
    "<code><font color='#D2691E'>**listobj=[]     (OR)   listobj=list()**</font></code>\n",
    "-  An Non Empty List  is one, whose length>0 (elements presents)\n",
    "##### Syntax:-    \n",
    "<code><font color='#D2691E'>**listobj=[val1,val2,...val-n]**</font></code>\n",
    "- To convert one type elements into list values, we use list(object)"
   ]
  },
  {
   "cell_type": "markdown",
   "metadata": {},
   "source": [
    "### Examples:"
   ]
  },
  {
   "cell_type": "code",
   "execution_count": 2,
   "metadata": {},
   "outputs": [
    {
     "name": "stdout",
     "output_type": "stream",
     "text": [
      "[10, 12, -4, 25, 67] <class 'list'>\n"
     ]
    },
    {
     "data": {
      "text/plain": [
       "5"
      ]
     },
     "execution_count": 2,
     "metadata": {},
     "output_type": "execute_result"
    }
   ],
   "source": [
    "l=[10,12,-4,25,67]\n",
    "print(l, type(l))\n",
    "len(l)"
   ]
  },
  {
   "cell_type": "code",
   "execution_count": 4,
   "metadata": {},
   "outputs": [
    {
     "name": "stdout",
     "output_type": "stream",
     "text": [
      "[10, 'Rossum', 11.11, 'CWI', 'NL', (2+3j), True]\n",
      "<class 'list'>\n",
      "7\n"
     ]
    }
   ],
   "source": [
    "l1=[10,\"Rossum\",11.11,\"CWI\",\"NL\",2+3j,True]\n",
    "print(l1)\n",
    "print(type(l1))\n",
    "print(len(l1))"
   ]
  },
  {
   "cell_type": "code",
   "execution_count": 5,
   "metadata": {},
   "outputs": [
    {
     "name": "stdout",
     "output_type": "stream",
     "text": [
      "[] <class 'list'>\n"
     ]
    },
    {
     "data": {
      "text/plain": [
       "0"
      ]
     },
     "execution_count": 5,
     "metadata": {},
     "output_type": "execute_result"
    }
   ],
   "source": [
    "l2=[]\n",
    "print(l2,type(l2))\n",
    "len(l2)"
   ]
  },
  {
   "cell_type": "code",
   "execution_count": 6,
   "metadata": {},
   "outputs": [
    {
     "name": "stdout",
     "output_type": "stream",
     "text": [
      "[] <class 'list'>\n",
      "0\n"
     ]
    }
   ],
   "source": [
    "l3=list()\n",
    "print(l3,type(l3))\n",
    "print(len(l3))"
   ]
  },
  {
   "cell_type": "code",
   "execution_count": 13,
   "metadata": {},
   "outputs": [
    {
     "name": "stdout",
     "output_type": "stream",
     "text": [
      "[10, 'Rossum', 11.11, 'CWI', 'NL', (2+3j), True] <class 'list'>\n",
      "10\n",
      "True\n",
      "[10, 'Rossum', 11.11, 'CWI']\n",
      "[10, 11.11, 'NL', True]\n",
      "[True, (2+3j), 'NL', 'CWI', 11.11, 'Rossum', 10]\n"
     ]
    }
   ],
   "source": [
    "l1=[10,\"Rossum\",11.11,\"CWI\",\"NL\",2+3j,True]\n",
    "print(l1, type(l1))\n",
    "print(l1[0])\n",
    "print(l1[-1])\n",
    "print(l1[0:4])\n",
    "print(l1[::2])\n",
    "print(l1[::-1])\n"
   ]
  },
  {
   "cell_type": "code",
   "execution_count": 14,
   "metadata": {},
   "outputs": [
    {
     "name": "stdout",
     "output_type": "stream",
     "text": [
      "[10, 'Rossum', 11.11, 'CWI', 'NL', (2+3j), True] <class 'list'> 2257512707840\n"
     ]
    }
   ],
   "source": [
    "l1=[10,\"Rossum\",11.11,\"CWI\",\"NL\",2+3j,True]\n",
    "print(l1, type(l1), id(l1))"
   ]
  },
  {
   "cell_type": "code",
   "execution_count": 16,
   "metadata": {},
   "outputs": [
    {
     "name": "stdout",
     "output_type": "stream",
     "text": [
      "[10, 'Rossum', 11.11, 'CWI', 'NL', (2+3j), False] <class 'list'> 2257512707840\n"
     ]
    }
   ],
   "source": [
    "l1[-1]=False\n",
    "print(l1, type(l1), id(l1))"
   ]
  },
  {
   "cell_type": "markdown",
   "metadata": {},
   "source": [
    "<font color='blue'>***Note:***</font>\n",
    "\n",
    "Note down the following examples on **interview** point of view\n",
    "<code>\n",
    "a=10\n",
    "list(a)\n",
    "</code>\n",
    "\n",
    "Execution of above statement will give rice to following exception:\n",
    "<code>\n",
    "----> 2 list(a)\n",
    "    <font color='red'>**TypeError**</font>: 'int' object is not iterable</code>\n"
   ]
  },
  {
   "cell_type": "code",
   "execution_count": 19,
   "metadata": {},
   "outputs": [
    {
     "name": "stdout",
     "output_type": "stream",
     "text": [
      "[10] <class 'list'>\n"
     ]
    }
   ],
   "source": [
    "a=10\n",
    "l1=list([a])\n",
    "print(l1,type(l1))"
   ]
  },
  {
   "cell_type": "code",
   "execution_count": 20,
   "metadata": {},
   "outputs": [
    {
     "name": "stdout",
     "output_type": "stream",
     "text": [
      "[100.2] <class 'list'>\n"
     ]
    }
   ],
   "source": [
    "a=100.2\n",
    "l1=[a]\n",
    "print(l1,type(l1))\n"
   ]
  },
  {
   "cell_type": "code",
   "execution_count": null,
   "metadata": {},
   "outputs": [],
   "source": []
  }
 ],
 "metadata": {
  "kernelspec": {
   "display_name": "Python 3",
   "language": "python",
   "name": "python3"
  },
  "language_info": {
   "codemirror_mode": {
    "name": "ipython",
    "version": 3
   },
   "file_extension": ".py",
   "mimetype": "text/x-python",
   "name": "python",
   "nbconvert_exporter": "python",
   "pygments_lexer": "ipython3",
   "version": "3.8.5"
  }
 },
 "nbformat": 4,
 "nbformat_minor": 4
}
