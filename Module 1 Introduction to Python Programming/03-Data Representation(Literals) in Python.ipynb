{
 "cells": [
  {
   "cell_type": "markdown",
   "metadata": {},
   "source": [
    "# Data Representation in Python <br> (OR) <br> Literals in Python"
   ]
  },
  {
   "cell_type": "markdown",
   "metadata": {},
   "source": [
    "## Literals"
   ]
  },
  {
   "cell_type": "markdown",
   "metadata": {},
   "source": [
    "* Literals are nothing but values used for giveing inputs to the program.\n",
    "* Basically we have 4 types of Literals. They are\n",
    "\t* **Integer Literals**\n",
    "\t* **Float Literals**\n",
    "\t* **String Literals**\n",
    "\t* **Boolean Literals**\n",
    "* In general to **represent/store any type of Literals/Data in main memory** of computer, we need **objects**."
   ]
  },
  {
   "cell_type": "markdown",
   "metadata": {},
   "source": [
    "## Variables (or) Identifiers in Python"
   ]
  },
  {
   "cell_type": "markdown",
   "metadata": {},
   "source": [
    "* All types of Literals are stored in Main memory in the created memory space. To process the values stored in main memory, as programmer, we must give distinct names to the cerated memory space. So that distinct names makes us to identify the values and hence they are called **Identifiers**.\n",
    "* **Identifier values are changing/Varying during the program execution** and hence Identifier are called **Variables**.\n",
    "* In Python all types of Literals/Values are stored in Main Memory in the form Variables/Identifiers and **all types of Variables / Identifiers are called objects**.\n",
    "\n",
    "**Definition of Variable:**\n",
    "\n",
    "`A Variable is an Identifier whose values are changing during execution of the program`"
   ]
  },
  {
   "cell_type": "markdown",
   "metadata": {},
   "source": [
    "## Rules for Using Variables in Python"
   ]
  },
  {
   "cell_type": "markdown",
   "metadata": {},
   "source": [
    "* To use the Variables in Python Programming, we must follow the rules. They are\n",
    "1. The Variable Name is a **comibination of Alphabets(Lower and upper Case),Digits and Special Symbol Under Score( _ )**\n",
    "2. The Variable Name **MUST starts with Either with an alphabet or Under Score ( _ )** \n",
    "\n",
    "   **Examples:**\n",
    "\n",
    "      * 12abc=10   -------invalid\n",
    "      * -abc=20    -------invalid\n",
    "      * abc=123    ----valid\n",
    "      * a123=34    ----valid\n",
    "      * _abc=34    ----Valid\n",
    "      * _sal_=2.3  ----Valid\n",
    "      * _123=2.3   ----Valid\n",
    "      *  _=23       ----valid\n",
    "      *  _=100      ----Valid"
   ]
  },
  {
   "cell_type": "markdown",
   "metadata": {},
   "source": [
    "3. Within in the Variable Name , **special symbols are not allowed except Under Score (_)**\n",
    "\n",
    "   **Examples:**\n",
    "\n",
    "      * tot sal=2.3  -------invalid\n",
    "      * tot$sal=2.3  -------invalid\n",
    "      * tot_sal=2.3  ----valid"
   ]
  },
  {
   "cell_type": "markdown",
   "metadata": {},
   "source": [
    "4. All the Variables in Python are **Case Sensitive.**\n",
    "   \n",
    "   **Examples:**\n",
    "\n",
    "      * age=99    ---valid\n",
    "      * AGE=89    ---valid\n",
    "      * Age=79    ---valid "
   ]
  },
  {
   "cell_type": "markdown",
   "metadata": {},
   "source": [
    "5. **Keywords can't be used as Variables** Names bcoz all the Key words are Reserved Words they have some specfic meaning to the language Compilers.\n",
    "   \n",
    "   **Examples:**\n",
    "\n",
    "      * if=12      -------invalid\n",
    "      * while=23   -------invalid\n",
    "      * else=45    -------invalid\n",
    "      * if123=56   ----valid\n",
    "      * while=34   ----valid\n",
    "      * IF=45      ----valid\n",
    "      * int=12.34  ----valid\n",
    "      * float=45   ----valid   \n",
    "      * **self=1234  ----valid**"
   ]
  },
  {
   "cell_type": "markdown",
   "metadata": {},
   "source": [
    "6. All the Variable Names are **recommended to Take User-Friendly Names**.\n",
    "\n",
    "   **Examples:**\n",
    "\n",
    "    *  sal_of_an_employee=1.2--**Valid--Not Recommended**\n",
    "    *  emp_sal=1.2--Valid--**Recommended**"
   ]
  }
 ],
 "metadata": {
  "kernelspec": {
   "display_name": "Python 3",
   "language": "python",
   "name": "python3"
  },
  "language_info": {
   "codemirror_mode": {
    "name": "ipython",
    "version": 3
   },
   "file_extension": ".py",
   "mimetype": "text/x-python",
   "name": "python",
   "nbconvert_exporter": "python",
   "pygments_lexer": "ipython3",
   "version": "3.8.5"
  }
 },
 "nbformat": 4,
 "nbformat_minor": 4
}
