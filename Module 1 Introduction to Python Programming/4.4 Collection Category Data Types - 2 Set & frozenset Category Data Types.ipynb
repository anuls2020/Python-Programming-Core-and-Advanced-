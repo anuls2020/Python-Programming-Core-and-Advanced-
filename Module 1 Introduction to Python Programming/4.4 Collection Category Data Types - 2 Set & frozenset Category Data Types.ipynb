{
 "cells": [
  {
   "cell_type": "markdown",
   "metadata": {},
   "source": [
    "## Set Category Data Types  (Collection Data Types)\n",
    "\n",
    "* Set Category Data Types are used for storing Multiple Values either of same type or different type or both types with **Unique  Values in a single variable**.\n",
    "* Set Category Data Types are 2 types. They are\n",
    "    * set (mutable and immutable)\n",
    "    * frozenset ( immutable )"
   ]
  },
  {
   "cell_type": "markdown",
   "metadata": {},
   "source": [
    "### Set\n",
    "\n",
    "* 'set' of one of the pre-defined class treated as Set category data type.\n",
    "* The purpose of set data type is that \"To Store Multiple Values either of same type or different type or both types with Unique  Values in a single variable\".\n",
    "* The elments of set must be organized within curly braces { } and elements must be separated by comma.\n",
    "* The elements of set **never maintains insertion Order** bcoz it displays its elements in any of the possibilities. if there are n number of objects in a set, there are **\"n!\"** ways to represent the set. \n",
    "* On the object of set, we **can not perform indexing and Slicing Operations** bcoz it set does not maintain insertion order.\n",
    "* An object of set belongs to both **mutable ( in the case of add() )** and **immutable in the case item assignment** (set' object does not support item assignment).\n",
    "* To convert one type value into set type values , we use set() function.\n",
    "* We have two types of set objects.\n",
    "    * empty set\n",
    "    * non-empty set\n",
    "    \n"
   ]
  },
  {
   "cell_type": "markdown",
   "metadata": {},
   "source": [
    "##### Examples:"
   ]
  },
  {
   "cell_type": "code",
   "execution_count": 1,
   "metadata": {},
   "outputs": [
    {
     "name": "stdout",
     "output_type": "stream",
     "text": [
      "{-56, 10, 20, 123, 30} <class 'set'>\n"
     ]
    }
   ],
   "source": [
    "s1={10,20,10,20,30,123,-56}\n",
    "print(s1, type(s1))"
   ]
  },
  {
   "cell_type": "code",
   "execution_count": 2,
   "metadata": {},
   "outputs": [
    {
     "name": "stdout",
     "output_type": "stream",
     "text": [
      "{33.33, 'KVR', True, 'OUCET', 10, 'HYD'} <class 'set'>\n"
     ]
    }
   ],
   "source": [
    "s1={10,\"KVR\",33.33,\"OUCET\",\"HYD\",True}\n",
    "print(s1, type(s1))"
   ]
  },
  {
   "cell_type": "code",
   "execution_count": 3,
   "metadata": {},
   "outputs": [
    {
     "ename": "TypeError",
     "evalue": "'set' object does not support item assignment",
     "output_type": "error",
     "traceback": [
      "\u001b[1;31m---------------------------------------------------------------------------\u001b[0m",
      "\u001b[1;31mTypeError\u001b[0m                                 Traceback (most recent call last)",
      "\u001b[1;32m<ipython-input-3-04d23f79364e>\u001b[0m in \u001b[0;36m<module>\u001b[1;34m\u001b[0m\n\u001b[1;32m----> 1\u001b[1;33m \u001b[0ms1\u001b[0m\u001b[1;33m[\u001b[0m\u001b[1;36m0\u001b[0m\u001b[1;33m]\u001b[0m\u001b[1;33m=\u001b[0m\u001b[1;36m100\u001b[0m\u001b[1;33m\u001b[0m\u001b[1;33m\u001b[0m\u001b[0m\n\u001b[0m",
      "\u001b[1;31mTypeError\u001b[0m: 'set' object does not support item assignment"
     ]
    }
   ],
   "source": [
    "s1[0]=100"
   ]
  },
  {
   "cell_type": "code",
   "execution_count": 4,
   "metadata": {},
   "outputs": [
    {
     "name": "stdout",
     "output_type": "stream",
     "text": [
      "{33.33, 'KVR', True, 'OUCET', 10, 'HYD'} <class 'set'> 3237621664896\n"
     ]
    }
   ],
   "source": [
    "print(s1,type(s1),id(s1))"
   ]
  },
  {
   "cell_type": "code",
   "execution_count": 5,
   "metadata": {},
   "outputs": [],
   "source": [
    "s1.add(\"PYTHON\")"
   ]
  },
  {
   "cell_type": "code",
   "execution_count": 6,
   "metadata": {},
   "outputs": [
    {
     "name": "stdout",
     "output_type": "stream",
     "text": [
      "{33.33, 'KVR', True, 'OUCET', 10, 'HYD', 'PYTHON'} <class 'set'> 3237621664896\n"
     ]
    }
   ],
   "source": [
    "print(s1,type(s1),id(s1))"
   ]
  },
  {
   "cell_type": "markdown",
   "metadata": {},
   "source": [
    "If we see the above two examples, even after adding the new values tothe set the address of the set didn't changes, and that demonstrate the mutability of set category data type. See one more example below."
   ]
  },
  {
   "cell_type": "code",
   "execution_count": 8,
   "metadata": {},
   "outputs": [
    {
     "name": "stdout",
     "output_type": "stream",
     "text": [
      "set() <class 'set'> 3237621664896\n"
     ]
    }
   ],
   "source": [
    "s1=set()\n",
    "print(s1,type(s1),id(s1))"
   ]
  },
  {
   "cell_type": "code",
   "execution_count": 9,
   "metadata": {},
   "outputs": [
    {
     "data": {
      "text/plain": [
       "0"
      ]
     },
     "execution_count": 9,
     "metadata": {},
     "output_type": "execute_result"
    }
   ],
   "source": [
    "len(s1)"
   ]
  },
  {
   "cell_type": "code",
   "execution_count": 10,
   "metadata": {},
   "outputs": [],
   "source": [
    "s1.add(10)\n",
    "s1.add(\"RS\")"
   ]
  },
  {
   "cell_type": "code",
   "execution_count": 11,
   "metadata": {},
   "outputs": [
    {
     "name": "stdout",
     "output_type": "stream",
     "text": [
      "{10, 'RS'} <class 'set'> 3237621664896\n"
     ]
    }
   ],
   "source": [
    "print(s1,type(s1),id(s1))"
   ]
  },
  {
   "cell_type": "markdown",
   "metadata": {},
   "source": [
    "###  Pre-defined Functions in set\n",
    "* There are 3 categories of pre defined functions in set category data type. They are\n",
    "\n",
    "    * set modification functions\n",
    "        * <font color='#3498DB'>**add()**</font>\n",
    "        * <font color='#3498DB'>**remove()**</font>\n",
    "        * <font color='#3498DB'>**discard()**</font>\n",
    "        * <font color='#3498DB'>**pop()**</font>\n",
    "    * set query functions -- **Provide boolian output**\n",
    "        * <font color='#3498DB'>**isdisjoint()**</font>\n",
    "        * <font color='#3498DB'>**issuperset()**</font>\n",
    "        * <font color='#3498DB'>**issubset()**</font>\n",
    "    * multi set operations functions\n",
    "        * <font color='#3498DB'>**union()**</font>    \n",
    "        * <font color='#3498DB'>**intersection()**</font>      \n",
    "        * <font color='#3498DB'>**difference()**</font>\n",
    "        * <font color='#3498DB'>**symmetric_difference()**</font>\n",
    "        * <font color='#3498DB'>**update()**</font>"
   ]
  },
  {
   "cell_type": "markdown",
   "metadata": {},
   "source": [
    "### 1) <font color='#3498DB'>**add():**</font>\n",
    "* This function is used for adding an element to the set object\n",
    "\n",
    " ##### Syntax:-\n",
    "   <code><font color='#D2691E'>**setobj.add(element)**</font></code>\n",
    "\n",
    " ##### Examples:"
   ]
  },
  {
   "cell_type": "code",
   "execution_count": 14,
   "metadata": {},
   "outputs": [
    {
     "name": "stdout",
     "output_type": "stream",
     "text": [
      "{10, 'Rossum'} <class 'set'> 3237623083296\n",
      "{10, 11.11, 'Rossum', 'PYTHON'} <class 'set'> 3237623083296\n"
     ]
    }
   ],
   "source": [
    "s1={10,\"Rossum\"}\n",
    "print(s1,type(s1),id(s1))\n",
    "s1.add(\"PYTHON\")\n",
    "s1.add(11.11)\n",
    "print(s1,type(s1),id(s1))\n"
   ]
  },
  {
   "cell_type": "markdown",
   "metadata": {},
   "source": [
    "### 2) <font color='#3498DB'>**remove():**</font>\n",
    "* This function is used for removing the specified element from set object.\n",
    "* If the specified element does not exists in set object we get <font color='red'>**KeyError**</font>.\n",
    "\n",
    " ##### Syntax:-\n",
    "   <code><font color='#D2691E'>**setobj.remove(element)**</font></code>\n",
    "\n",
    " ##### Examples:"
   ]
  },
  {
   "cell_type": "code",
   "execution_count": 16,
   "metadata": {},
   "outputs": [
    {
     "name": "stdout",
     "output_type": "stream",
     "text": [
      "{10, 11.11, 'Rossum', 'PYTHON'}\n"
     ]
    }
   ],
   "source": [
    "s1={'Rossum', 10, 11.11, 'PYTHON'}\n",
    "print(s1)"
   ]
  },
  {
   "cell_type": "code",
   "execution_count": 17,
   "metadata": {},
   "outputs": [
    {
     "name": "stdout",
     "output_type": "stream",
     "text": [
      "{11.11, 'Rossum', 'PYTHON'}\n"
     ]
    }
   ],
   "source": [
    "s1.remove(10)\n",
    "print(s1)"
   ]
  },
  {
   "cell_type": "code",
   "execution_count": 18,
   "metadata": {},
   "outputs": [
    {
     "name": "stdout",
     "output_type": "stream",
     "text": [
      "{11.11, 'PYTHON'}\n"
     ]
    }
   ],
   "source": [
    "s1.remove(\"Rossum\")\n",
    "print(s1)"
   ]
  },
  {
   "cell_type": "code",
   "execution_count": 19,
   "metadata": {},
   "outputs": [
    {
     "ename": "KeyError",
     "evalue": "101",
     "output_type": "error",
     "traceback": [
      "\u001b[1;31m---------------------------------------------------------------------------\u001b[0m",
      "\u001b[1;31mKeyError\u001b[0m                                  Traceback (most recent call last)",
      "\u001b[1;32m<ipython-input-19-7385b7cc0a42>\u001b[0m in \u001b[0;36m<module>\u001b[1;34m\u001b[0m\n\u001b[1;32m----> 1\u001b[1;33m \u001b[0ms1\u001b[0m\u001b[1;33m.\u001b[0m\u001b[0mremove\u001b[0m\u001b[1;33m(\u001b[0m\u001b[1;36m101\u001b[0m\u001b[1;33m)\u001b[0m\u001b[1;33m\u001b[0m\u001b[1;33m\u001b[0m\u001b[0m\n\u001b[0m",
      "\u001b[1;31mKeyError\u001b[0m: 101"
     ]
    }
   ],
   "source": [
    "s1.remove(101)"
   ]
  },
  {
   "cell_type": "markdown",
   "metadata": {},
   "source": [
    "### 3) <font color='#3498DB'>**discard():**</font>\n",
    "* This function is used for removing the specified element from set object.\n",
    "* <font color='red'>**If the specified element does not exists in set object we nerver get any error**</font>.\n",
    "\n",
    " ##### Syntax:-\n",
    "   <code><font color='#D2691E'>**setobj.discard(element)**</font></code>\n",
    "\n",
    " ##### Examples:"
   ]
  },
  {
   "cell_type": "code",
   "execution_count": 20,
   "metadata": {},
   "outputs": [],
   "source": [
    "s1={'Rossum', 10, 11.11, 'PYTHON'}\n",
    "s1.discard(\"Rossum\")"
   ]
  },
  {
   "cell_type": "code",
   "execution_count": 21,
   "metadata": {},
   "outputs": [
    {
     "name": "stdout",
     "output_type": "stream",
     "text": [
      "{10, 11.11, 'PYTHON'}\n"
     ]
    }
   ],
   "source": [
    "print(s1)"
   ]
  },
  {
   "cell_type": "code",
   "execution_count": 23,
   "metadata": {},
   "outputs": [
    {
     "name": "stdout",
     "output_type": "stream",
     "text": [
      "{11.11, 'PYTHON'}\n"
     ]
    }
   ],
   "source": [
    "s1.discard(10)\n",
    "print(s1)"
   ]
  },
  {
   "cell_type": "code",
   "execution_count": 27,
   "metadata": {},
   "outputs": [
    {
     "name": "stdout",
     "output_type": "stream",
     "text": [
      "{11.11}\n"
     ]
    }
   ],
   "source": [
    "s1.discard(\"PYTHON\")\n",
    "print(s1)"
   ]
  },
  {
   "cell_type": "code",
   "execution_count": 28,
   "metadata": {},
   "outputs": [
    {
     "name": "stdout",
     "output_type": "stream",
     "text": [
      "set()\n"
     ]
    }
   ],
   "source": [
    "s1.discard(11.11)\n",
    "print(s1)"
   ]
  },
  {
   "cell_type": "code",
   "execution_count": 29,
   "metadata": {},
   "outputs": [],
   "source": [
    "s1.discard(101)"
   ]
  },
  {
   "cell_type": "markdown",
   "metadata": {},
   "source": [
    "**Note:** \n",
    "\n",
    "**Eventhough there is no element called 101, there is no error on execution of the command, which is the main differrence between remove() and discard() function.**"
   ]
  },
  {
   "cell_type": "markdown",
   "metadata": {},
   "source": [
    "### 4) <font color='#3498DB'>**pop():**</font>\n",
    "* This function is used for removing an arbitrary element from set object.\n",
    "* If we pop on an empty set, we get <font color='red'>**KeyError**</font>\n",
    "\n",
    "#### Rules to remember:\n",
    "   * if the set is printed after decleration , then the pop() function will remove the data from left to right\n",
    "   * otherwise if the set is not printed after decleration, then the pop() function will remove the element from the set object arbitrary \n",
    "\n",
    " ##### Syntax:-\n",
    "   <code><font color='#D2691E'>**setobj.pop()**</font></code>\n",
    "\n",
    " ##### Examples:"
   ]
  },
  {
   "cell_type": "code",
   "execution_count": 30,
   "metadata": {},
   "outputs": [
    {
     "name": "stdout",
     "output_type": "stream",
     "text": [
      "{10, 11.11, 'Rossum', 'PYTHON'}\n"
     ]
    }
   ],
   "source": [
    "s1={'Rossum', 10, 11.11, 'PYTHON'}\n",
    "print(s1)"
   ]
  },
  {
   "cell_type": "code",
   "execution_count": 31,
   "metadata": {},
   "outputs": [
    {
     "data": {
      "text/plain": [
       "10"
      ]
     },
     "execution_count": 31,
     "metadata": {},
     "output_type": "execute_result"
    }
   ],
   "source": [
    "s1.pop()"
   ]
  },
  {
   "cell_type": "code",
   "execution_count": 32,
   "metadata": {},
   "outputs": [
    {
     "data": {
      "text/plain": [
       "11.11"
      ]
     },
     "execution_count": 32,
     "metadata": {},
     "output_type": "execute_result"
    }
   ],
   "source": [
    "s1.pop()"
   ]
  },
  {
   "cell_type": "code",
   "execution_count": 33,
   "metadata": {},
   "outputs": [
    {
     "data": {
      "text/plain": [
       "'Rossum'"
      ]
     },
     "execution_count": 33,
     "metadata": {},
     "output_type": "execute_result"
    }
   ],
   "source": [
    "s1.pop()"
   ]
  },
  {
   "cell_type": "code",
   "execution_count": 34,
   "metadata": {},
   "outputs": [
    {
     "data": {
      "text/plain": [
       "'PYTHON'"
      ]
     },
     "execution_count": 34,
     "metadata": {},
     "output_type": "execute_result"
    }
   ],
   "source": [
    "s1.pop()"
   ]
  },
  {
   "cell_type": "code",
   "execution_count": 35,
   "metadata": {},
   "outputs": [
    {
     "ename": "KeyError",
     "evalue": "'pop from an empty set'",
     "output_type": "error",
     "traceback": [
      "\u001b[1;31m---------------------------------------------------------------------------\u001b[0m",
      "\u001b[1;31mKeyError\u001b[0m                                  Traceback (most recent call last)",
      "\u001b[1;32m<ipython-input-35-095118de218b>\u001b[0m in \u001b[0;36m<module>\u001b[1;34m\u001b[0m\n\u001b[1;32m----> 1\u001b[1;33m \u001b[0ms1\u001b[0m\u001b[1;33m.\u001b[0m\u001b[0mpop\u001b[0m\u001b[1;33m(\u001b[0m\u001b[1;33m)\u001b[0m\u001b[1;33m\u001b[0m\u001b[1;33m\u001b[0m\u001b[0m\n\u001b[0m",
      "\u001b[1;31mKeyError\u001b[0m: 'pop from an empty set'"
     ]
    }
   ],
   "source": [
    "s1.pop()"
   ]
  },
  {
   "cell_type": "code",
   "execution_count": 36,
   "metadata": {},
   "outputs": [
    {
     "data": {
      "text/plain": [
       "3456"
      ]
     },
     "execution_count": 36,
     "metadata": {},
     "output_type": "execute_result"
    }
   ],
   "source": [
    "#Example 2\n",
    "s1={10,20,30,40,50,60,70,-123,3456}\n",
    "s1.pop()"
   ]
  },
  {
   "cell_type": "code",
   "execution_count": 37,
   "metadata": {},
   "outputs": [
    {
     "name": "stdout",
     "output_type": "stream",
     "text": [
      "{3456, -123, 70, 40, 10, 50, 20, 60, 30}\n"
     ]
    }
   ],
   "source": [
    "s1={10,20,30,40,50,60,70,-123,3456}\n",
    "print(s1)"
   ]
  },
  {
   "cell_type": "code",
   "execution_count": 38,
   "metadata": {},
   "outputs": [
    {
     "data": {
      "text/plain": [
       "3456"
      ]
     },
     "execution_count": 38,
     "metadata": {},
     "output_type": "execute_result"
    }
   ],
   "source": [
    "s1.pop()"
   ]
  },
  {
   "cell_type": "code",
   "execution_count": 39,
   "metadata": {},
   "outputs": [
    {
     "data": {
      "text/plain": [
       "-123"
      ]
     },
     "execution_count": 39,
     "metadata": {},
     "output_type": "execute_result"
    }
   ],
   "source": [
    "s1.pop()"
   ]
  },
  {
   "cell_type": "code",
   "execution_count": 40,
   "metadata": {},
   "outputs": [
    {
     "data": {
      "text/plain": [
       "70"
      ]
     },
     "execution_count": 40,
     "metadata": {},
     "output_type": "execute_result"
    }
   ],
   "source": [
    "s1.pop()"
   ]
  },
  {
   "cell_type": "code",
   "execution_count": 41,
   "metadata": {},
   "outputs": [
    {
     "data": {
      "text/plain": [
       "40"
      ]
     },
     "execution_count": 41,
     "metadata": {},
     "output_type": "execute_result"
    }
   ],
   "source": [
    "s1.pop()"
   ]
  },
  {
   "cell_type": "code",
   "execution_count": 42,
   "metadata": {},
   "outputs": [
    {
     "data": {
      "text/plain": [
       "10"
      ]
     },
     "execution_count": 42,
     "metadata": {},
     "output_type": "execute_result"
    }
   ],
   "source": [
    "s1.pop()"
   ]
  },
  {
   "cell_type": "code",
   "execution_count": 43,
   "metadata": {},
   "outputs": [
    {
     "data": {
      "text/plain": [
       "50"
      ]
     },
     "execution_count": 43,
     "metadata": {},
     "output_type": "execute_result"
    }
   ],
   "source": [
    "s1.pop()"
   ]
  },
  {
   "cell_type": "markdown",
   "metadata": {},
   "source": [
    "### 5) <font color='#3498DB'>**isdisjoint():**</font>\n",
    "* Two sets are said to be disjoint when their **intersection is null**. In simple words, **they do not have any common element in between them**. \n",
    "* This Function returns **True** provided  setobj1 and setobj2 does not contains common elements\n",
    "* This Function returns **False** provided  setobj1 and setobj2 contains at least one common element.\n",
    "\n",
    " ##### Syntax:-\n",
    "   <code><font color='#D2691E'>**setobj1.isdisjoint(setobj2)**</font></code>\n",
    "\n",
    " ##### Examples:"
   ]
  },
  {
   "cell_type": "code",
   "execution_count": 66,
   "metadata": {},
   "outputs": [
    {
     "data": {
      "text/plain": [
       "True"
      ]
     },
     "execution_count": 66,
     "metadata": {},
     "output_type": "execute_result"
    }
   ],
   "source": [
    "x = {1,2,3}\n",
    "y = {4,5,6}\n",
    "x.isdisjoint(y)"
   ]
  },
  {
   "cell_type": "code",
   "execution_count": 6,
   "metadata": {},
   "outputs": [
    {
     "data": {
      "text/plain": [
       "False"
      ]
     },
     "execution_count": 6,
     "metadata": {},
     "output_type": "execute_result"
    }
   ],
   "source": [
    "x = {1,2,3}\n",
    "y = {2,3,4}\n",
    "x.isdisjoint(y)\n"
   ]
  },
  {
   "cell_type": "code",
   "execution_count": 7,
   "metadata": {},
   "outputs": [
    {
     "data": {
      "text/plain": [
       "False"
      ]
     },
     "execution_count": 7,
     "metadata": {},
     "output_type": "execute_result"
    }
   ],
   "source": [
    "x.isdisjoint(x)"
   ]
  },
  {
   "cell_type": "code",
   "execution_count": 2,
   "metadata": {},
   "outputs": [],
   "source": [
    "s1={1,2,3,4}\n",
    "s2={5,6,7,1}\n",
    "s3={8,9,10,12}"
   ]
  },
  {
   "cell_type": "code",
   "execution_count": 3,
   "metadata": {},
   "outputs": [
    {
     "data": {
      "text/plain": [
       "False"
      ]
     },
     "execution_count": 3,
     "metadata": {},
     "output_type": "execute_result"
    }
   ],
   "source": [
    "s1.isdisjoint(s2)"
   ]
  },
  {
   "cell_type": "code",
   "execution_count": 4,
   "metadata": {},
   "outputs": [
    {
     "data": {
      "text/plain": [
       "True"
      ]
     },
     "execution_count": 4,
     "metadata": {},
     "output_type": "execute_result"
    }
   ],
   "source": [
    "s1.isdisjoint(s3)"
   ]
  },
  {
   "cell_type": "code",
   "execution_count": 5,
   "metadata": {},
   "outputs": [
    {
     "data": {
      "text/plain": [
       "False"
      ]
     },
     "execution_count": 5,
     "metadata": {},
     "output_type": "execute_result"
    }
   ],
   "source": [
    "s1.isdisjoint(s1)"
   ]
  },
  {
   "cell_type": "code",
   "execution_count": 48,
   "metadata": {},
   "outputs": [
    {
     "data": {
      "text/plain": [
       "True"
      ]
     },
     "execution_count": 48,
     "metadata": {},
     "output_type": "execute_result"
    }
   ],
   "source": [
    "s1.isdisjoint(set())"
   ]
  },
  {
   "cell_type": "code",
   "execution_count": 49,
   "metadata": {},
   "outputs": [
    {
     "data": {
      "text/plain": [
       "True"
      ]
     },
     "execution_count": 49,
     "metadata": {},
     "output_type": "execute_result"
    }
   ],
   "source": [
    "set().isdisjoint(set())"
   ]
  },
  {
   "cell_type": "markdown",
   "metadata": {},
   "source": [
    "### 6) <font color='#3498DB'>**issuperset():**</font>\n",
    "* This Function returns **True** provided all the elemenets of setobj2 must present in setobj1. Otherwise we get False.\n",
    "\n",
    " ##### Syntax:-\n",
    "   <code><font color='#D2691E'>**setob1j.issuperset(setobj2)**</font></code>\n",
    "\n",
    " ##### Examples:"
   ]
  },
  {
   "cell_type": "code",
   "execution_count": 50,
   "metadata": {},
   "outputs": [],
   "source": [
    "s1={10,20,30,40}\n",
    "s2={15,25,35,10}\n",
    "s3={12,24,36,48}"
   ]
  },
  {
   "cell_type": "code",
   "execution_count": 55,
   "metadata": {},
   "outputs": [
    {
     "data": {
      "text/plain": [
       "True"
      ]
     },
     "execution_count": 55,
     "metadata": {},
     "output_type": "execute_result"
    }
   ],
   "source": [
    "s1.issuperset(s1)"
   ]
  },
  {
   "cell_type": "code",
   "execution_count": 51,
   "metadata": {},
   "outputs": [
    {
     "data": {
      "text/plain": [
       "False"
      ]
     },
     "execution_count": 51,
     "metadata": {},
     "output_type": "execute_result"
    }
   ],
   "source": [
    "s1.issuperset(s2)"
   ]
  },
  {
   "cell_type": "code",
   "execution_count": 52,
   "metadata": {},
   "outputs": [
    {
     "data": {
      "text/plain": [
       "False"
      ]
     },
     "execution_count": 52,
     "metadata": {},
     "output_type": "execute_result"
    }
   ],
   "source": [
    "s1.issuperset(s3)"
   ]
  },
  {
   "cell_type": "code",
   "execution_count": 53,
   "metadata": {},
   "outputs": [],
   "source": [
    "s4={10,20}"
   ]
  },
  {
   "cell_type": "code",
   "execution_count": 54,
   "metadata": {},
   "outputs": [
    {
     "data": {
      "text/plain": [
       "True"
      ]
     },
     "execution_count": 54,
     "metadata": {},
     "output_type": "execute_result"
    }
   ],
   "source": [
    "s1.issuperset(s4)"
   ]
  },
  {
   "cell_type": "code",
   "execution_count": 56,
   "metadata": {},
   "outputs": [
    {
     "data": {
      "text/plain": [
       "True"
      ]
     },
     "execution_count": 56,
     "metadata": {},
     "output_type": "execute_result"
    }
   ],
   "source": [
    "s1.issuperset(set())"
   ]
  },
  {
   "cell_type": "code",
   "execution_count": 57,
   "metadata": {},
   "outputs": [
    {
     "data": {
      "text/plain": [
       "True"
      ]
     },
     "execution_count": 57,
     "metadata": {},
     "output_type": "execute_result"
    }
   ],
   "source": [
    "set().issuperset(set())"
   ]
  },
  {
   "cell_type": "code",
   "execution_count": 58,
   "metadata": {},
   "outputs": [
    {
     "data": {
      "text/plain": [
       "True"
      ]
     },
     "execution_count": 58,
     "metadata": {},
     "output_type": "execute_result"
    }
   ],
   "source": [
    "set().issubset(set())"
   ]
  },
  {
   "cell_type": "code",
   "execution_count": 59,
   "metadata": {},
   "outputs": [
    {
     "data": {
      "text/plain": [
       "True"
      ]
     },
     "execution_count": 59,
     "metadata": {},
     "output_type": "execute_result"
    }
   ],
   "source": [
    "{10,20}.issuperset({10,20})"
   ]
  },
  {
   "cell_type": "code",
   "execution_count": 60,
   "metadata": {},
   "outputs": [
    {
     "data": {
      "text/plain": [
       "True"
      ]
     },
     "execution_count": 60,
     "metadata": {},
     "output_type": "execute_result"
    }
   ],
   "source": [
    "{10,20,25}.issuperset({20,10})"
   ]
  },
  {
   "cell_type": "code",
   "execution_count": 3,
   "metadata": {},
   "outputs": [
    {
     "data": {
      "text/plain": [
       "False"
      ]
     },
     "execution_count": 3,
     "metadata": {},
     "output_type": "execute_result"
    }
   ],
   "source": [
    "{10,20}.issuperset({20,10,\"pyt\"})"
   ]
  },
  {
   "cell_type": "markdown",
   "metadata": {},
   "source": [
    "### 7) <font color='#3498DB'>**issubset():**</font>\n",
    "* This Function returns **True** provided all the elements of setobj1 are present in setobj2. otherwise we get **False**\n",
    "\n",
    "\n",
    " ##### Syntax:-\n",
    "   <code><font color='#D2691E'>**setob1j.issubset(setobj2)**</font></code>\n",
    "\n",
    " ##### Examples:"
   ]
  },
  {
   "cell_type": "code",
   "execution_count": 5,
   "metadata": {},
   "outputs": [],
   "source": [
    "s1={10,20,30,40}\n",
    "s2={10,20}\n",
    "s3={15,20}"
   ]
  },
  {
   "cell_type": "code",
   "execution_count": 6,
   "metadata": {},
   "outputs": [
    {
     "data": {
      "text/plain": [
       "True"
      ]
     },
     "execution_count": 6,
     "metadata": {},
     "output_type": "execute_result"
    }
   ],
   "source": [
    "s2.issubset(s1)"
   ]
  },
  {
   "cell_type": "code",
   "execution_count": 7,
   "metadata": {},
   "outputs": [
    {
     "data": {
      "text/plain": [
       "False"
      ]
     },
     "execution_count": 7,
     "metadata": {},
     "output_type": "execute_result"
    }
   ],
   "source": [
    "s3.issubset(s1)"
   ]
  },
  {
   "cell_type": "code",
   "execution_count": 8,
   "metadata": {},
   "outputs": [
    {
     "data": {
      "text/plain": [
       "True"
      ]
     },
     "execution_count": 8,
     "metadata": {},
     "output_type": "execute_result"
    }
   ],
   "source": [
    "set().issubset(set())"
   ]
  },
  {
   "cell_type": "markdown",
   "metadata": {},
   "source": [
    "### 8) <font color='#3498DB'>**Union():**</font>\n",
    "* This takes all the elements of setobj1 and setobj2 , combine them and place them in setobj3 uniquely.\n",
    "\n",
    "\n",
    "\n",
    " ##### Syntax:-\n",
    "   <code><font color='#D2691E'>**setobj3=setob1j.union(setobj2)**</font></code>\n",
    "\n",
    " ##### Examples:"
   ]
  },
  {
   "cell_type": "code",
   "execution_count": 9,
   "metadata": {},
   "outputs": [
    {
     "name": "stdout",
     "output_type": "stream",
     "text": [
      "{'JG', 'STup', 'RS', 'DR'}\n",
      "{'RS', 'MCK', 'TRAVIS'}\n"
     ]
    }
   ],
   "source": [
    "s1={\"RS\",\"JG\",\"DR\",\"STup\"}\n",
    "s2={\"TRAVIS\",\"MCK\",\"RS\"}\n",
    "print(s1)\n",
    "print(s2)\n"
   ]
  },
  {
   "cell_type": "code",
   "execution_count": 10,
   "metadata": {},
   "outputs": [],
   "source": [
    "allcptp=s1.union(s2)"
   ]
  },
  {
   "cell_type": "code",
   "execution_count": 11,
   "metadata": {},
   "outputs": [
    {
     "name": "stdout",
     "output_type": "stream",
     "text": [
      "{'STup', 'DR', 'TRAVIS', 'JG', 'RS', 'MCK'}\n"
     ]
    }
   ],
   "source": [
    "print(allcptp)"
   ]
  },
  {
   "cell_type": "markdown",
   "metadata": {},
   "source": [
    "### 9) <font color='#3498DB'>**difference():**</font>\n",
    "* This function **removes the common elements** from setobj1 and setobj2 and takes **remaining elements from setobj1** and place them in setobj3.\n",
    "\n",
    " ##### Syntax:-\n",
    "   <code><font color='#D2691E'>**setobj3=setob1j.difference(setobj2)**</font></code>\n",
    "\n",
    " ##### Examples:"
   ]
  },
  {
   "cell_type": "code",
   "execution_count": 12,
   "metadata": {},
   "outputs": [],
   "source": [
    "s1={\"RS\",\"JG\",\"DR\",\"STup\"}\n",
    "s2={\"TRAVIS\",\"MCK\",\"RS\"}"
   ]
  },
  {
   "cell_type": "code",
   "execution_count": 13,
   "metadata": {},
   "outputs": [
    {
     "name": "stdout",
     "output_type": "stream",
     "text": [
      "{'JG', 'STup', 'DR'}\n"
     ]
    }
   ],
   "source": [
    "onlycp=s1-s2\n",
    "print(onlycp)"
   ]
  },
  {
   "cell_type": "markdown",
   "metadata": {},
   "source": [
    "#### OR"
   ]
  },
  {
   "cell_type": "code",
   "execution_count": 18,
   "metadata": {},
   "outputs": [
    {
     "name": "stdout",
     "output_type": "stream",
     "text": [
      "{'JG', 'STup', 'DR'}\n"
     ]
    }
   ],
   "source": [
    "onlycp=s1.difference(s2)\n",
    "print(onlycp)"
   ]
  },
  {
   "cell_type": "code",
   "execution_count": 14,
   "metadata": {},
   "outputs": [
    {
     "name": "stdout",
     "output_type": "stream",
     "text": [
      "{'MCK', 'TRAVIS'}\n"
     ]
    }
   ],
   "source": [
    "onlytp=s2-s1\n",
    "print(onlytp)"
   ]
  },
  {
   "cell_type": "markdown",
   "metadata": {},
   "source": [
    "#### OR"
   ]
  },
  {
   "cell_type": "code",
   "execution_count": 17,
   "metadata": {},
   "outputs": [
    {
     "name": "stdout",
     "output_type": "stream",
     "text": [
      "{'MCK', 'TRAVIS'}\n"
     ]
    }
   ],
   "source": [
    "onlytp=s2.difference(s1)\n",
    "print(onlytp)"
   ]
  },
  {
   "cell_type": "markdown",
   "metadata": {},
   "source": [
    "### 11) <font color='#3498DB'>**symmetric_difference():**</font>\n",
    "* This function **removes common elements from setobj1 and setobj2** and takes **remaining elements from both setobj1 and setobj2** and place them in setobj3..\n",
    "\n",
    " ##### Syntax:-\n",
    "   <code><font color='#D2691E'>**setobj3=setob1j.symmetric_difference(setobj2)**</font></code>\n",
    "\n",
    " ##### Examples:"
   ]
  },
  {
   "cell_type": "code",
   "execution_count": 19,
   "metadata": {},
   "outputs": [],
   "source": [
    "s1={\"RS\",\"JG\",\"DR\",\"STup\"}\n",
    "s2={\"TRAVIS\",\"MCK\",\"RS\"}\n"
   ]
  },
  {
   "cell_type": "code",
   "execution_count": 20,
   "metadata": {},
   "outputs": [
    {
     "name": "stdout",
     "output_type": "stream",
     "text": [
      "{'JG', 'STup', 'RS', 'DR'}\n",
      "{'RS', 'MCK', 'TRAVIS'}\n"
     ]
    }
   ],
   "source": [
    "print(s1)\n",
    "print(s2)\n"
   ]
  },
  {
   "cell_type": "code",
   "execution_count": 21,
   "metadata": {},
   "outputs": [
    {
     "name": "stdout",
     "output_type": "stream",
     "text": [
      "{'DR', 'TRAVIS', 'MCK', 'STup', 'JG'}\n"
     ]
    }
   ],
   "source": [
    "excptp=s1.symmetric_difference(s2)\n",
    "print(excptp)"
   ]
  },
  {
   "cell_type": "markdown",
   "metadata": {},
   "source": [
    "### 10) <font color='#3498DB'>**intersection():**</font>\n",
    "* This obtains common elements from setobj1 and setobj2 and place tthem setobj3. \n",
    "\n",
    " ##### Syntax:-\n",
    "   <code><font color='#D2691E'>**setobj3=setob1j.intersection(setobj2)**</font></code>\n",
    "\n",
    " ##### Examples:"
   ]
  },
  {
   "cell_type": "code",
   "execution_count": 22,
   "metadata": {},
   "outputs": [],
   "source": [
    "s1={\"RS\",\"JG\",\"DR\",\"STup\"}\n",
    "s2={\"TRAVIS\",\"MCK\",\"RS\"}"
   ]
  },
  {
   "cell_type": "code",
   "execution_count": 24,
   "metadata": {},
   "outputs": [
    {
     "name": "stdout",
     "output_type": "stream",
     "text": [
      "{'RS'}\n",
      "{'RS'}\n"
     ]
    }
   ],
   "source": [
    "s3=s1.intersection(s2)\n",
    "print(s3)\n",
    "s3=s2.intersection(s1)\n",
    "print(s3)"
   ]
  },
  {
   "cell_type": "markdown",
   "metadata": {},
   "source": [
    "### 12) <font color='#3498DB'>**update():**</font>\n",
    "* This Function updates / adds the elements of setobj2 to setobj1. \n",
    "\n",
    " ##### Syntax:-\n",
    "   <code><font color='#D2691E'>**setob1j.update(setobj2)**</font></code>\n",
    "\n",
    " ##### Examples:"
   ]
  },
  {
   "cell_type": "code",
   "execution_count": 25,
   "metadata": {},
   "outputs": [],
   "source": [
    "s1={\"C\",\"CPP\"}\n",
    "s2={\"PYTHON\",\"DS\"}"
   ]
  },
  {
   "cell_type": "code",
   "execution_count": 26,
   "metadata": {},
   "outputs": [],
   "source": [
    "s1.update(s2)"
   ]
  },
  {
   "cell_type": "code",
   "execution_count": 27,
   "metadata": {},
   "outputs": [
    {
     "name": "stdout",
     "output_type": "stream",
     "text": [
      "{'DS', 'C', 'PYTHON', 'CPP'}\n"
     ]
    }
   ],
   "source": [
    "print(s1)"
   ]
  },
  {
   "cell_type": "code",
   "execution_count": 28,
   "metadata": {},
   "outputs": [
    {
     "name": "stdout",
     "output_type": "stream",
     "text": [
      "{'DS', 'PYTHON'}\n"
     ]
    }
   ],
   "source": [
    "print(s2)"
   ]
  },
  {
   "cell_type": "markdown",
   "metadata": {},
   "source": [
    "### frozenset\n",
    "\n",
    "* 'frozenset' of one of the pre-defined class treated as Set category data type.\n",
    "* The purpose of frozenset data type is that \"To Store Multiple Values either of same type or different type or both types with Unique  Values in a single variable\".\n",
    "* The elements of frozenset  organized within curly braces { }  after converting from  tuple, list,set ..etc by using frozenset()  and elements  separated by comma.\n",
    "* The elements of frozenset **never maintains insertion Order** bcoz it displays its elements in any of the possibilities. if there are n number of objects in a set, there are **\"n!\"** ways to represent the set. \n",
    "* On the object of frozenset, we **can't perform indexing and Slicing Operations** bcoz it can't maintain  insertion order\n",
    "* An object of frozenset belongs to **immutable (never allows add() ,item assignment)**\n",
    "* To convert one type value into frozenset type values , we use **frozenset()**\n",
    "* We have two types of frozenset objects.\n",
    "    * empty frozenset\n",
    "    * non-empty frozenset\n",
    "    \n",
    "#### a) empty frozenset:\n",
    "An empty frozenset is one, whose length is 0\n",
    " ##### Syntax:-\n",
    "   <code><font color='#D2691E'>**frozensetobj=frozenset()**</font></code>\t\n",
    "   \n",
    "#### b) non-empty frozenset:\n",
    "An non-empty frozenset is one, whose length is >0\n",
    "\n",
    "##### Syntax:-\n",
    "   <code><font color='#D2691E'>**frozensetobj=frozenset( {val1,val2....val-n} )**</font></code>\t-- From set\n",
    "   \n",
    "   <code><font color='#D2691E'>**frozensetobj=frozenset( [val1,val2....val-n] )**</font></code> -- From list\n",
    "   \n",
    "   <code><font color='#D2691E'>**frozensetobj=frozenset( (val1,val2....val-n) )**</font></code> -- From Tuple\n",
    "\n",
    "**Note:-** \n",
    "The functionality of frozenset is exactly similar to set but an object set belongs to both mutable ( add() ) and immutable ( item assignment) where an object **frozenset is immutable** ( not possible to add() and item assignment)\n",
    "\n",
    "##### Examples:\n"
   ]
  },
  {
   "cell_type": "code",
   "execution_count": 29,
   "metadata": {},
   "outputs": [
    {
     "name": "stdout",
     "output_type": "stream",
     "text": [
      "{40, 10, 20, 30} <class 'set'>\n",
      "frozenset({40, 10, 20, 30}) <class 'frozenset'>\n"
     ]
    }
   ],
   "source": [
    "s1={10,20,30,40,30}\n",
    "print(s1,type(s1))\n",
    "fs=frozenset(s1)\n",
    "print(fs,type(fs))\n"
   ]
  },
  {
   "cell_type": "code",
   "execution_count": 30,
   "metadata": {},
   "outputs": [
    {
     "name": "stdout",
     "output_type": "stream",
     "text": [
      "frozenset({10, 'RS', 'PYTHON'}) <class 'frozenset'>\n"
     ]
    }
   ],
   "source": [
    "tp=(10,\"RS\",\"PYTHON\")\n",
    "fs=frozenset(tp)\n",
    "print(fs,type(fs))\n"
   ]
  },
  {
   "cell_type": "code",
   "execution_count": 31,
   "metadata": {},
   "outputs": [
    {
     "name": "stdout",
     "output_type": "stream",
     "text": [
      "frozenset({10, (2+3j), 12.34, 'Java', 'Python'}) <class 'frozenset'>\n"
     ]
    }
   ],
   "source": [
    "lst=[10,12.34,\"Python\",\"Java\",2+3j]\n",
    "fs=frozenset(lst)\n",
    "print(fs,type(fs))\n"
   ]
  },
  {
   "cell_type": "code",
   "execution_count": 32,
   "metadata": {},
   "outputs": [
    {
     "ename": "TypeError",
     "evalue": "'frozenset' object is not subscriptable",
     "output_type": "error",
     "traceback": [
      "\u001b[1;31m---------------------------------------------------------------------------\u001b[0m",
      "\u001b[1;31mTypeError\u001b[0m                                 Traceback (most recent call last)",
      "\u001b[1;32m<ipython-input-32-f75f52afc0a5>\u001b[0m in \u001b[0;36m<module>\u001b[1;34m\u001b[0m\n\u001b[1;32m----> 1\u001b[1;33m \u001b[0mprint\u001b[0m\u001b[1;33m(\u001b[0m\u001b[0mfs\u001b[0m\u001b[1;33m[\u001b[0m\u001b[1;36m0\u001b[0m\u001b[1;33m]\u001b[0m\u001b[1;33m)\u001b[0m\u001b[1;33m\u001b[0m\u001b[1;33m\u001b[0m\u001b[0m\n\u001b[0m",
      "\u001b[1;31mTypeError\u001b[0m: 'frozenset' object is not subscriptable"
     ]
    }
   ],
   "source": [
    "print(fs[0])\n"
   ]
  },
  {
   "cell_type": "code",
   "execution_count": 33,
   "metadata": {},
   "outputs": [
    {
     "ename": "TypeError",
     "evalue": "'frozenset' object is not subscriptable",
     "output_type": "error",
     "traceback": [
      "\u001b[1;31m---------------------------------------------------------------------------\u001b[0m",
      "\u001b[1;31mTypeError\u001b[0m                                 Traceback (most recent call last)",
      "\u001b[1;32m<ipython-input-33-ed8f152a5985>\u001b[0m in \u001b[0;36m<module>\u001b[1;34m\u001b[0m\n\u001b[1;32m----> 1\u001b[1;33m \u001b[0mprint\u001b[0m\u001b[1;33m(\u001b[0m\u001b[0mfs\u001b[0m\u001b[1;33m[\u001b[0m\u001b[1;36m0\u001b[0m\u001b[1;33m:\u001b[0m\u001b[1;36m3\u001b[0m\u001b[1;33m]\u001b[0m\u001b[1;33m)\u001b[0m\u001b[1;33m\u001b[0m\u001b[1;33m\u001b[0m\u001b[0m\n\u001b[0m",
      "\u001b[1;31mTypeError\u001b[0m: 'frozenset' object is not subscriptable"
     ]
    }
   ],
   "source": [
    "print(fs[0:3])\n"
   ]
  },
  {
   "cell_type": "code",
   "execution_count": 34,
   "metadata": {},
   "outputs": [
    {
     "ename": "TypeError",
     "evalue": "'frozenset' object does not support item assignment",
     "output_type": "error",
     "traceback": [
      "\u001b[1;31m---------------------------------------------------------------------------\u001b[0m",
      "\u001b[1;31mTypeError\u001b[0m                                 Traceback (most recent call last)",
      "\u001b[1;32m<ipython-input-34-8ef394f7ec90>\u001b[0m in \u001b[0;36m<module>\u001b[1;34m\u001b[0m\n\u001b[1;32m----> 1\u001b[1;33m \u001b[0mfs\u001b[0m\u001b[1;33m[\u001b[0m\u001b[1;36m0\u001b[0m\u001b[1;33m]\u001b[0m\u001b[1;33m=\u001b[0m\u001b[1;34m\"Data Sci\"\u001b[0m\u001b[1;33m\u001b[0m\u001b[1;33m\u001b[0m\u001b[0m\n\u001b[0m",
      "\u001b[1;31mTypeError\u001b[0m: 'frozenset' object does not support item assignment"
     ]
    }
   ],
   "source": [
    "fs[0]=\"Data Sci\"\n"
   ]
  },
  {
   "cell_type": "code",
   "execution_count": 35,
   "metadata": {},
   "outputs": [
    {
     "ename": "AttributeError",
     "evalue": "'frozenset' object has no attribute 'add'",
     "output_type": "error",
     "traceback": [
      "\u001b[1;31m---------------------------------------------------------------------------\u001b[0m",
      "\u001b[1;31mAttributeError\u001b[0m                            Traceback (most recent call last)",
      "\u001b[1;32m<ipython-input-35-d0295bf1df8e>\u001b[0m in \u001b[0;36m<module>\u001b[1;34m\u001b[0m\n\u001b[1;32m----> 1\u001b[1;33m \u001b[0mfs\u001b[0m\u001b[1;33m.\u001b[0m\u001b[0madd\u001b[0m\u001b[1;33m(\u001b[0m\u001b[1;34m\"Data Sci\"\u001b[0m\u001b[1;33m)\u001b[0m\u001b[1;33m\u001b[0m\u001b[1;33m\u001b[0m\u001b[0m\n\u001b[0m",
      "\u001b[1;31mAttributeError\u001b[0m: 'frozenset' object has no attribute 'add'"
     ]
    }
   ],
   "source": [
    "fs.add(\"Data Sci\")\n"
   ]
  },
  {
   "cell_type": "code",
   "execution_count": 36,
   "metadata": {},
   "outputs": [
    {
     "name": "stdout",
     "output_type": "stream",
     "text": [
      "frozenset() <class 'frozenset'>\n"
     ]
    },
    {
     "data": {
      "text/plain": [
       "0"
      ]
     },
     "execution_count": 36,
     "metadata": {},
     "output_type": "execute_result"
    }
   ],
   "source": [
    "fs=frozenset()\n",
    "print(fs,type(fs))\n",
    "len(fs)\n"
   ]
  },
  {
   "cell_type": "code",
   "execution_count": 37,
   "metadata": {},
   "outputs": [
    {
     "name": "stdout",
     "output_type": "stream",
     "text": [
      "frozenset({10, 20, 30}) <class 'frozenset'>\n"
     ]
    },
    {
     "data": {
      "text/plain": [
       "3"
      ]
     },
     "execution_count": 37,
     "metadata": {},
     "output_type": "execute_result"
    }
   ],
   "source": [
    "fs=frozenset([10,20,20,30,30,10])\n",
    "print(fs,type(fs))\n",
    "len(fs)"
   ]
  },
  {
   "cell_type": "markdown",
   "metadata": {},
   "source": [
    "### Pre-defined Functions in Frozenset\n",
    "* Frozenset object contains seven Functions. They are\n",
    "\n",
    "    * <font color='#3498DB'>**isdisjoint()**</font> \n",
    "    * <font color='#3498DB'>**issuperset()**</font> \n",
    "    * <font color='#3498DB'>**issubset()**</font>\n",
    "    * <font color='#3498DB'>**union()**</font>  \n",
    "    * <font color='#3498DB'>**intersection()**</font>   \n",
    "    * <font color='#3498DB'>**differnce()**</font>   \n",
    "    * <font color='#3498DB'>**symmetric_difference()**</font>\n",
    "\n",
    "* Frozenset object does not support following functions\n",
    "\n",
    "    * <font color='#3498DB'>**add()**</font> \n",
    "    * <font color='#3498DB'>**remove()**</font> \n",
    "    * <font color='#3498DB'>**discard()**</font>   \n",
    "    * <font color='#3498DB'>**pop()**</font>    \n",
    "    * <font color='#3498DB'>**update()**</font>\n",
    "    \n",
    "##### Examples:\n"
   ]
  },
  {
   "cell_type": "code",
   "execution_count": 38,
   "metadata": {},
   "outputs": [],
   "source": [
    "fs1=frozenset([1,2,2,3,3,4])\n",
    "fs2=frozenset([5,6,7,8,9,10])\n"
   ]
  },
  {
   "cell_type": "code",
   "execution_count": 39,
   "metadata": {},
   "outputs": [
    {
     "name": "stdout",
     "output_type": "stream",
     "text": [
      "frozenset({1, 2, 3, 4})\n",
      "frozenset({5, 6, 7, 8, 9, 10})\n"
     ]
    }
   ],
   "source": [
    "print(fs1)\n",
    "print(fs2)"
   ]
  },
  {
   "cell_type": "code",
   "execution_count": 40,
   "metadata": {},
   "outputs": [
    {
     "data": {
      "text/plain": [
       "True"
      ]
     },
     "execution_count": 40,
     "metadata": {},
     "output_type": "execute_result"
    }
   ],
   "source": [
    "fs1.isdisjoint(fs2)"
   ]
  },
  {
   "cell_type": "code",
   "execution_count": 41,
   "metadata": {},
   "outputs": [],
   "source": [
    "fs3=fs1.union(fs2)"
   ]
  },
  {
   "cell_type": "code",
   "execution_count": 42,
   "metadata": {},
   "outputs": [
    {
     "name": "stdout",
     "output_type": "stream",
     "text": [
      "frozenset({1, 2, 3, 4, 5, 6, 7, 8, 9, 10})\n"
     ]
    }
   ],
   "source": [
    "print(fs3)"
   ]
  },
  {
   "cell_type": "code",
   "execution_count": 43,
   "metadata": {},
   "outputs": [
    {
     "data": {
      "text/plain": [
       "frozenset({1, 2, 3, 4})"
      ]
     },
     "execution_count": 43,
     "metadata": {},
     "output_type": "execute_result"
    }
   ],
   "source": [
    "fs1.difference(fs2)"
   ]
  },
  {
   "cell_type": "code",
   "execution_count": 44,
   "metadata": {},
   "outputs": [
    {
     "data": {
      "text/plain": [
       "frozenset({1, 2, 3, 4, 5, 6, 7, 8, 9, 10})"
      ]
     },
     "execution_count": 44,
     "metadata": {},
     "output_type": "execute_result"
    }
   ],
   "source": [
    "fs1.symmetric_difference(fs2)"
   ]
  },
  {
   "cell_type": "code",
   "execution_count": null,
   "metadata": {},
   "outputs": [],
   "source": []
  }
 ],
 "metadata": {
  "kernelspec": {
   "display_name": "Python 3",
   "language": "python",
   "name": "python3"
  },
  "language_info": {
   "codemirror_mode": {
    "name": "ipython",
    "version": 3
   },
   "file_extension": ".py",
   "mimetype": "text/x-python",
   "name": "python",
   "nbconvert_exporter": "python",
   "pygments_lexer": "ipython3",
   "version": "3.8.5"
  }
 },
 "nbformat": 4,
 "nbformat_minor": 4
}
