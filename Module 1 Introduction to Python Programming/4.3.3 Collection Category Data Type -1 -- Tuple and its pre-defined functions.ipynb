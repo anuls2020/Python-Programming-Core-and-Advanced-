{
 "cells": [
  {
   "cell_type": "markdown",
   "metadata": {},
   "source": [
    "## Collection Catagery Data Type - 2: Tuple and Its pre-defined functions"
   ]
  },
  {
   "cell_type": "markdown",
   "metadata": {},
   "source": [
    "- '**tuple**' is one of the pre-defined class and terated list/collection type data type.\n",
    "- The purpose of tuple data type is that \"To store Multiple Values either of same type or different type or both types with Unique and Duplicate Values in a single variable\"\n",
    "- The elements of tuple must written within braces ( ) and elements must separated by comma.\n",
    "- An object of tuple maintains Insertion Order ( In which ever order we insert the data in the object of tuple, in the same order elements will be displayed\")\n",
    "- On the object of tuple, we can perform both indexing and slicing Operations.\n",
    "- An object of tuple is **immutable**\n",
    "- We create two types of tuples. They are\n",
    "\t\ta) Empty tuple\n",
    "\t\tb) Non-empty tuple\n",
    "-  An Empty tuple  is one, whose length=0  (no elements  presents)\n",
    "\t\t\n",
    "##### Syntax:-       \n",
    "<code><font color='#D2691E'>**tupleobj=()   (OR)   tupleobj=tuple()**</font></code>\n",
    "-  A Non Empty tuple is one, whose length>0 (elements presents)\n",
    "\n",
    "##### Syntax:-    \n",
    "<code><font color='#D2691E'>**tupleobj=(val1,val2,...val(n-1) )**</font></code>\n",
    "- To convert one type elements into tuple values, we use tuple(object)\n",
    "\n",
    "**Note:-**  \n",
    "\n",
    "The Functionality of tuple is exactly similar to List but an object of **list belongs to mutable** and an object of **tuple belongs to immutable**."
   ]
  },
  {
   "cell_type": "markdown",
   "metadata": {},
   "source": [
    "##### Examples:"
   ]
  },
  {
   "cell_type": "code",
   "execution_count": 1,
   "metadata": {},
   "outputs": [
    {
     "name": "stdout",
     "output_type": "stream",
     "text": [
      "(10, 20, -3, 45, 123, 67, 20) <class 'tuple'>\n"
     ]
    }
   ],
   "source": [
    "t1=(10,20,-3,45,123,67,20)\n",
    "print(t1, type(t1))"
   ]
  },
  {
   "cell_type": "code",
   "execution_count": 2,
   "metadata": {},
   "outputs": [
    {
     "name": "stdout",
     "output_type": "stream",
     "text": [
      "(10, 'Rossum', 45.67, 'Python', True) <class 'tuple'>\n"
     ]
    }
   ],
   "source": [
    "t2=(10,\"Rossum\",45.67,\"Python\",True)\n",
    "print(t2, type(t2))"
   ]
  },
  {
   "cell_type": "code",
   "execution_count": 3,
   "metadata": {},
   "outputs": [
    {
     "name": "stdout",
     "output_type": "stream",
     "text": [
      "() <class 'tuple'>\n"
     ]
    }
   ],
   "source": [
    "t3=()\n",
    "print(t3, type(t3))"
   ]
  },
  {
   "cell_type": "code",
   "execution_count": 4,
   "metadata": {},
   "outputs": [
    {
     "name": "stdout",
     "output_type": "stream",
     "text": [
      "() <class 'tuple'>\n"
     ]
    }
   ],
   "source": [
    "t4=tuple()\n",
    "print(t4, type(t4))"
   ]
  },
  {
   "cell_type": "code",
   "execution_count": 5,
   "metadata": {},
   "outputs": [],
   "source": [
    "t2=(10,\"Rossum\",45.67,\"Python\",True)"
   ]
  },
  {
   "cell_type": "code",
   "execution_count": 6,
   "metadata": {},
   "outputs": [
    {
     "name": "stdout",
     "output_type": "stream",
     "text": [
      "10\n"
     ]
    }
   ],
   "source": [
    "print(t2[0])"
   ]
  },
  {
   "cell_type": "code",
   "execution_count": 7,
   "metadata": {},
   "outputs": [
    {
     "name": "stdout",
     "output_type": "stream",
     "text": [
      "(10, 'Rossum', 45.67)\n"
     ]
    }
   ],
   "source": [
    "print(t2[0:3])"
   ]
  },
  {
   "cell_type": "code",
   "execution_count": 8,
   "metadata": {},
   "outputs": [
    {
     "name": "stdout",
     "output_type": "stream",
     "text": [
      "True\n"
     ]
    }
   ],
   "source": [
    "print(t2[-1])"
   ]
  },
  {
   "cell_type": "code",
   "execution_count": 10,
   "metadata": {},
   "outputs": [
    {
     "name": "stdout",
     "output_type": "stream",
     "text": [
      "(10, 45.67, True)\n"
     ]
    }
   ],
   "source": [
    "print(t2[::2])"
   ]
  },
  {
   "cell_type": "code",
   "execution_count": 11,
   "metadata": {},
   "outputs": [
    {
     "name": "stdout",
     "output_type": "stream",
     "text": [
      "(10, 'Rossum', 45.67, 'Python', True) <class 'tuple'> 1307651733280\n"
     ]
    }
   ],
   "source": [
    "print(t2,type(t2), id(t2))"
   ]
  },
  {
   "cell_type": "code",
   "execution_count": 12,
   "metadata": {},
   "outputs": [
    {
     "ename": "TypeError",
     "evalue": "'tuple' object does not support item assignment",
     "output_type": "error",
     "traceback": [
      "\u001b[1;31m---------------------------------------------------------------------------\u001b[0m",
      "\u001b[1;31mTypeError\u001b[0m                                 Traceback (most recent call last)",
      "\u001b[1;32m<ipython-input-12-eaf0ebc7a1b4>\u001b[0m in \u001b[0;36m<module>\u001b[1;34m\u001b[0m\n\u001b[1;32m----> 1\u001b[1;33m \u001b[0mt2\u001b[0m\u001b[1;33m[\u001b[0m\u001b[1;36m2\u001b[0m\u001b[1;33m]\u001b[0m\u001b[1;33m=\u001b[0m\u001b[1;36m56.56\u001b[0m\u001b[1;33m\u001b[0m\u001b[1;33m\u001b[0m\u001b[0m\n\u001b[0m",
      "\u001b[1;31mTypeError\u001b[0m: 'tuple' object does not support item assignment"
     ]
    }
   ],
   "source": [
    "t2[2]=56.56"
   ]
  },
  {
   "cell_type": "code",
   "execution_count": 13,
   "metadata": {},
   "outputs": [],
   "source": [
    "t1=(12,3,-4,45,23,78,4,1,12)"
   ]
  },
  {
   "cell_type": "code",
   "execution_count": 14,
   "metadata": {},
   "outputs": [
    {
     "ename": "AttributeError",
     "evalue": "'tuple' object has no attribute 'sort'",
     "output_type": "error",
     "traceback": [
      "\u001b[1;31m---------------------------------------------------------------------------\u001b[0m",
      "\u001b[1;31mAttributeError\u001b[0m                            Traceback (most recent call last)",
      "\u001b[1;32m<ipython-input-14-5a6cb2ed75f6>\u001b[0m in \u001b[0;36m<module>\u001b[1;34m\u001b[0m\n\u001b[1;32m----> 1\u001b[1;33m \u001b[0mt1\u001b[0m\u001b[1;33m.\u001b[0m\u001b[0msort\u001b[0m\u001b[1;33m(\u001b[0m\u001b[1;33m)\u001b[0m\u001b[1;33m\u001b[0m\u001b[1;33m\u001b[0m\u001b[0m\n\u001b[0m",
      "\u001b[1;31mAttributeError\u001b[0m: 'tuple' object has no attribute 'sort'"
     ]
    }
   ],
   "source": [
    "t1.sort()"
   ]
  },
  {
   "cell_type": "markdown",
   "metadata": {},
   "source": [
    "**Note:-**\n",
    "\n",
    "There is no direct sort mechanism in tuple. To do that we need to convert the tuple in to list and sort the value with in the list and then convert it back to tuple. If we try to apply sort function in the tuple, we get \"<font color='red'>**AttributeError**</font>: 'tuple' object has no attribute 'sort'  \""
   ]
  },
  {
   "cell_type": "code",
   "execution_count": 25,
   "metadata": {},
   "outputs": [
    {
     "name": "stdout",
     "output_type": "stream",
     "text": [
      "[12, 3, -4, 45, 23, 78, 4, 1, 12]\n"
     ]
    }
   ],
   "source": [
    "t1=(12,3,-4,45,23,78,4,1,12)\n",
    "l1=list(t1)\n",
    "print(l1)"
   ]
  },
  {
   "cell_type": "code",
   "execution_count": 29,
   "metadata": {},
   "outputs": [],
   "source": [
    "l1.sort()"
   ]
  },
  {
   "cell_type": "code",
   "execution_count": 30,
   "metadata": {},
   "outputs": [],
   "source": [
    "l2=l1.copy() "
   ]
  },
  {
   "cell_type": "code",
   "execution_count": 31,
   "metadata": {},
   "outputs": [
    {
     "name": "stdout",
     "output_type": "stream",
     "text": [
      "[-4, 1, 3, 4, 12, 12, 23, 45, 78]\n"
     ]
    }
   ],
   "source": [
    "print(l2)"
   ]
  },
  {
   "cell_type": "code",
   "execution_count": 32,
   "metadata": {},
   "outputs": [],
   "source": [
    "t2=tuple(l2)"
   ]
  },
  {
   "cell_type": "code",
   "execution_count": 33,
   "metadata": {},
   "outputs": [
    {
     "name": "stdout",
     "output_type": "stream",
     "text": [
      "Initial Tuple: (12, 3, -4, 45, 23, 78, 4, 1, 12) <class 'tuple'>\n",
      "Converted list from tuple: [-4, 1, 3, 4, 12, 12, 23, 45, 78] <class 'list'>\n",
      "Sorted list: [-4, 1, 3, 4, 12, 12, 23, 45, 78] <class 'list'>\n",
      "Sorted Tuple: (-4, 1, 3, 4, 12, 12, 23, 45, 78) <class 'tuple'>\n"
     ]
    }
   ],
   "source": [
    "print(\"Initial Tuple:\", t1, type(t1))\n",
    "print(\"Converted list from tuple:\",l1, type(l1))\n",
    "print(\"Sorted list:\", l2, type(l2))\n",
    "print(\"Sorted Tuple:\",t2, type(t2))"
   ]
  },
  {
   "cell_type": "markdown",
   "metadata": {},
   "source": [
    "##### Special Case Examples:"
   ]
  },
  {
   "cell_type": "code",
   "execution_count": 34,
   "metadata": {},
   "outputs": [
    {
     "name": "stdout",
     "output_type": "stream",
     "text": [
      "(10, 20, 'KVR', 'OUCET', True) <class 'tuple'>\n"
     ]
    }
   ],
   "source": [
    "x=10,20,\"KVR\",\"OUCET\",True\n",
    "print(x, type(x))"
   ]
  },
  {
   "cell_type": "code",
   "execution_count": 1,
   "metadata": {},
   "outputs": [
    {
     "name": "stdout",
     "output_type": "stream",
     "text": [
      "(10, 'Rossum', (16, 75, 51), 'KLU') <class 'tuple'>\n"
     ]
    }
   ],
   "source": [
    "t1=(10,\"Rossum\",(16,75,51),\"KLU\")\n",
    "print(t1,type(t1))"
   ]
  },
  {
   "cell_type": "code",
   "execution_count": 2,
   "metadata": {},
   "outputs": [
    {
     "name": "stdout",
     "output_type": "stream",
     "text": [
      "(16, 75, 51)\n"
     ]
    }
   ],
   "source": [
    "print(t1[2])"
   ]
  },
  {
   "cell_type": "code",
   "execution_count": 4,
   "metadata": {},
   "outputs": [
    {
     "name": "stdout",
     "output_type": "stream",
     "text": [
      "(10, 'Rossum', [16, 75, 51], 'KLU') <class 'tuple'>\n"
     ]
    }
   ],
   "source": [
    "t2=(10,\"Rossum\",[16,75,51],\"KLU\")\n",
    "print(t2,type(t2))\n"
   ]
  },
  {
   "cell_type": "code",
   "execution_count": 5,
   "metadata": {},
   "outputs": [
    {
     "name": "stdout",
     "output_type": "stream",
     "text": [
      "[16, 75, 51] <class 'list'>\n"
     ]
    }
   ],
   "source": [
    "print(t2[2], type(t2[2]))"
   ]
  },
  {
   "cell_type": "code",
   "execution_count": 6,
   "metadata": {},
   "outputs": [],
   "source": [
    "t2[2].sort()"
   ]
  },
  {
   "cell_type": "code",
   "execution_count": 7,
   "metadata": {},
   "outputs": [
    {
     "name": "stdout",
     "output_type": "stream",
     "text": [
      "[16, 51, 75]\n"
     ]
    }
   ],
   "source": [
    "print(t2[2])"
   ]
  },
  {
   "cell_type": "code",
   "execution_count": 43,
   "metadata": {},
   "outputs": [
    {
     "name": "stdout",
     "output_type": "stream",
     "text": [
      "(10, 'Rossum', [16, 46, 51], 'KLU') <class 'tuple'>\n"
     ]
    }
   ],
   "source": [
    "print(t2,type(t2))"
   ]
  },
  {
   "cell_type": "code",
   "execution_count": 45,
   "metadata": {},
   "outputs": [
    {
     "name": "stdout",
     "output_type": "stream",
     "text": [
      "[10, 'KVR', (10, 20, 12), 'OUCET'] <class 'list'>\n",
      "(10, 20, 12) <class 'tuple'>\n"
     ]
    }
   ],
   "source": [
    "l1=[10,\"KVR\",(10,20,12),\"OUCET\"]\n",
    "print(l1, type(l1))\n",
    "print(l1[2], type(l1[2]))"
   ]
  },
  {
   "cell_type": "markdown",
   "metadata": {},
   "source": [
    "<font color='#3498DB'>**Note:-**\n",
    "\n",
    "We acn have ***list inside tuple*** as well as ***tuple inside the list***. The list inside tuple is **mutable** because the list itself is mutable where as the tuple inside a list is immutable because tuple is immutable by it's nature. See the following examples for proof.</font>"
   ]
  },
  {
   "cell_type": "code",
   "execution_count": 49,
   "metadata": {},
   "outputs": [
    {
     "name": "stdout",
     "output_type": "stream",
     "text": [
      "(10, 'Rossum', [16, 46, 51], 'KLU') 1307630902144\n",
      "(10, 'Rossum', [16, 46, 51, 66], 'KLU') 1307630902144\n"
     ]
    }
   ],
   "source": [
    "t2=(10,\"Rossum\",[16,46,51],\"KLU\")\n",
    "print(t2,id(t2))\n",
    "t2[2].append(66)\n",
    "print(t2,id(t2))"
   ]
  },
  {
   "cell_type": "code",
   "execution_count": 56,
   "metadata": {},
   "outputs": [
    {
     "name": "stdout",
     "output_type": "stream",
     "text": [
      "[10, 'Rossum', (16, 46, 51), 'KLU'] <class 'list'> 1307657275456\n",
      "(16, 46, 51) <class 'tuple'> 1307648237312\n"
     ]
    }
   ],
   "source": [
    "l2=[10,\"Rossum\",(16,46,51),\"KLU\"]\n",
    "print(l2,type(l2), id(l2))\n",
    "print(l2[2], type(l2[2]), id(l2[2]))"
   ]
  },
  {
   "cell_type": "code",
   "execution_count": 57,
   "metadata": {},
   "outputs": [
    {
     "name": "stdout",
     "output_type": "stream",
     "text": [
      "[10, 'Rossum', (16, 46, 51), 'KLU', 45] <class 'list'> 1307657275456\n"
     ]
    }
   ],
   "source": [
    "l2.append(45)\n",
    "print(l2, type(l2), id(l2))"
   ]
  },
  {
   "cell_type": "code",
   "execution_count": 58,
   "metadata": {},
   "outputs": [
    {
     "ename": "AttributeError",
     "evalue": "'tuple' object has no attribute 'append'",
     "output_type": "error",
     "traceback": [
      "\u001b[1;31m---------------------------------------------------------------------------\u001b[0m",
      "\u001b[1;31mAttributeError\u001b[0m                            Traceback (most recent call last)",
      "\u001b[1;32m<ipython-input-58-15a1fd101643>\u001b[0m in \u001b[0;36m<module>\u001b[1;34m\u001b[0m\n\u001b[1;32m----> 1\u001b[1;33m \u001b[0ml2\u001b[0m\u001b[1;33m[\u001b[0m\u001b[1;36m2\u001b[0m\u001b[1;33m]\u001b[0m\u001b[1;33m.\u001b[0m\u001b[0mappend\u001b[0m\u001b[1;33m(\u001b[0m\u001b[1;36m59\u001b[0m\u001b[1;33m)\u001b[0m\u001b[1;33m\u001b[0m\u001b[1;33m\u001b[0m\u001b[0m\n\u001b[0m",
      "\u001b[1;31mAttributeError\u001b[0m: 'tuple' object has no attribute 'append'"
     ]
    }
   ],
   "source": [
    "l2[2].append(59)"
   ]
  },
  {
   "cell_type": "markdown",
   "metadata": {},
   "source": [
    "## Pre-defined Functions in tuple\n",
    "\n",
    "- Tuple object contains two Functions. They are\n",
    "\t 1. <font color='#3498DB'>**count()**</font>\n",
    "     2. <font color='#3498DB'>**index()**</font>\n",
    "      \n",
    "- The following functios were not supported because, tuple is immutable and therefore, the functions which try to alter its data will throw exceptions. Following re the unsupported functions in tuple. \n",
    "\n",
    "     1. <font color='#3498DB'>**append()**</font>\n",
    "     2. <font color='#3498DB'>**insert()**</font>\n",
    "     3. <font color='#3498DB'>**clear()**</font>\n",
    "     4. <font color='#3498DB'>**remove()**</font>\n",
    "     5. <font color='#3498DB'>**pop(Index)**</font>\n",
    "     6. <font color='#3498DB'>**pop()**</font>\n",
    "     7. <font color='#3498DB'>**copy()**</font>   \n",
    "     8. <font color='#3498DB'>**reverse()**</font>\n",
    "     9. <font color='#3498DB'>**sort()**</font>\n",
    "     10. <font color='#3498DB'>**extend()**</font>"
   ]
  },
  {
   "cell_type": "code",
   "execution_count": null,
   "metadata": {},
   "outputs": [],
   "source": []
  }
 ],
 "metadata": {
  "kernelspec": {
   "display_name": "Python 3",
   "language": "python",
   "name": "python3"
  },
  "language_info": {
   "codemirror_mode": {
    "name": "ipython",
    "version": 3
   },
   "file_extension": ".py",
   "mimetype": "text/x-python",
   "name": "python",
   "nbconvert_exporter": "python",
   "pygments_lexer": "ipython3",
   "version": "3.8.5"
  }
 },
 "nbformat": 4,
 "nbformat_minor": 4
}
