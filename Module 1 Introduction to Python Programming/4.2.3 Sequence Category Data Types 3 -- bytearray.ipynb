{
 "cells": [
  {
   "cell_type": "markdown",
   "metadata": {},
   "source": [
    "# Sequence Category Data Types 3 -- bytearray"
   ]
  },
  {
   "cell_type": "markdown",
   "metadata": {},
   "source": [
    "* **'bytearray'** is one of the pre-defiend data type and treated as Sequence data type.\n",
    "* The purpose of bytearray data type is that \"**To organize sequece of Possitive Numerical Integer values ranges from (0,256). It Stores the values from 0 to 255(256-1) only \".\n",
    "* **To store the values in the object of bytearray data type, we don't have any Symbolic Notation but we can convert Other type of values into bytearray type by using bytearray()**\n",
    "* **The object of bytearray belongs to mutable bcoz bytearray allows us to perform updations.**\n",
    "* On the object of bytearray , we can perform Both **Indexing and Slicing Operations.**\n",
    "* An object of bytearray **maintains Insertion Order.**\n",
    "\n",
    "<div class=\"alert alert-block alert-info\">\n",
    "<b>Tip/Note:</b> \n",
    "    \n",
    "    The Functionality of bytearray is exactly similar to bytes data type but the object of bytes belongs to immutable\n",
    "    where an object bytearray is mutable.\n",
    "</div>\n",
    "\n"
   ]
  },
  {
   "cell_type": "code",
   "execution_count": 3,
   "metadata": {},
   "outputs": [
    {
     "name": "stdout",
     "output_type": "stream",
     "text": [
      "[10, 20, 30, 40, -2]\n",
      "<class 'list'>\n",
      "2057171397056\n"
     ]
    }
   ],
   "source": [
    "lst=[10,20,30,40,-2]\n",
    "print(lst)\n",
    "print(type(lst))\n",
    "print(id(lst))\n"
   ]
  },
  {
   "cell_type": "code",
   "execution_count": 4,
   "metadata": {},
   "outputs": [
    {
     "ename": "ValueError",
     "evalue": "byte must be in range(0, 256)",
     "output_type": "error",
     "traceback": [
      "\u001b[1;31m---------------------------------------------------------------------------\u001b[0m",
      "\u001b[1;31mValueError\u001b[0m                                Traceback (most recent call last)",
      "\u001b[1;32m<ipython-input-4-27b34d431bf2>\u001b[0m in \u001b[0;36m<module>\u001b[1;34m\u001b[0m\n\u001b[1;32m----> 1\u001b[1;33m \u001b[0mb\u001b[0m\u001b[1;33m=\u001b[0m\u001b[0mbytearray\u001b[0m\u001b[1;33m(\u001b[0m\u001b[0mlst\u001b[0m\u001b[1;33m)\u001b[0m\u001b[1;33m\u001b[0m\u001b[1;33m\u001b[0m\u001b[0m\n\u001b[0m",
      "\u001b[1;31mValueError\u001b[0m: byte must be in range(0, 256)"
     ]
    }
   ],
   "source": [
    "b=bytearray(lst)\n"
   ]
  },
  {
   "cell_type": "markdown",
   "metadata": {},
   "source": [
    "**Bytearray can hold only positive integers ranging from 0 to 255**"
   ]
  },
  {
   "cell_type": "code",
   "execution_count": 6,
   "metadata": {},
   "outputs": [
    {
     "ename": "ValueError",
     "evalue": "byte must be in range(0, 256)",
     "output_type": "error",
     "traceback": [
      "\u001b[1;31m---------------------------------------------------------------------------\u001b[0m",
      "\u001b[1;31mValueError\u001b[0m                                Traceback (most recent call last)",
      "\u001b[1;32m<ipython-input-6-d474b2b243c8>\u001b[0m in \u001b[0;36m<module>\u001b[1;34m\u001b[0m\n\u001b[0;32m      1\u001b[0m \u001b[0mlst\u001b[0m\u001b[1;33m=\u001b[0m\u001b[1;33m[\u001b[0m\u001b[1;36m10\u001b[0m\u001b[1;33m,\u001b[0m\u001b[1;36m20\u001b[0m\u001b[1;33m,\u001b[0m\u001b[1;36m30\u001b[0m\u001b[1;33m,\u001b[0m\u001b[1;36m40\u001b[0m\u001b[1;33m,\u001b[0m\u001b[1;36m256\u001b[0m\u001b[1;33m]\u001b[0m\u001b[1;33m\u001b[0m\u001b[1;33m\u001b[0m\u001b[0m\n\u001b[1;32m----> 2\u001b[1;33m \u001b[0mb\u001b[0m\u001b[1;33m=\u001b[0m\u001b[0mbytearray\u001b[0m\u001b[1;33m(\u001b[0m\u001b[0mlst\u001b[0m\u001b[1;33m)\u001b[0m\u001b[1;33m\u001b[0m\u001b[1;33m\u001b[0m\u001b[0m\n\u001b[0m",
      "\u001b[1;31mValueError\u001b[0m: byte must be in range(0, 256)"
     ]
    }
   ],
   "source": [
    "lst=[10,20,30,40,256]\n",
    "b=bytearray(lst)"
   ]
  },
  {
   "cell_type": "code",
   "execution_count": 7,
   "metadata": {},
   "outputs": [
    {
     "name": "stdout",
     "output_type": "stream",
     "text": [
      "bytearray(b'\\n\\x14\\x1e(\\xff')\n"
     ]
    }
   ],
   "source": [
    "lst=[10,20,30,40,255]\n",
    "b=bytearray(lst)\n",
    "print(b)"
   ]
  },
  {
   "cell_type": "code",
   "execution_count": 8,
   "metadata": {},
   "outputs": [
    {
     "name": "stdout",
     "output_type": "stream",
     "text": [
      "10\n",
      "20\n",
      "30\n",
      "40\n",
      "255\n"
     ]
    }
   ],
   "source": [
    "lst=[10,20,30,40,255]\n",
    "b=bytearray(lst)\n",
    "for i in b:\n",
    "    print(i)"
   ]
  },
  {
   "cell_type": "markdown",
   "metadata": {},
   "source": [
    "**Bytearray updation:**"
   ]
  },
  {
   "cell_type": "code",
   "execution_count": 25,
   "metadata": {},
   "outputs": [
    {
     "name": "stdout",
     "output_type": "stream",
     "text": [
      "Address of b Before changing the value 2057213209008\n",
      "Type of the object: <class 'bytearray'>\n",
      "Value of b Before changing the value\n",
      "10\n",
      "20\n",
      "30\n",
      "40\n",
      "255\n",
      "Address of b After changing the value 2057213209008\n",
      "Type of the object: <class 'bytearray'>\n",
      "Value of b After changing the value\n",
      "10\n",
      "20\n",
      "30\n",
      "40\n",
      "50\n"
     ]
    }
   ],
   "source": [
    "lst=[10,20,30,40,255]\n",
    "b=bytearray(lst)\n",
    "print(\"Address of b Before changing the value\", id(b))\n",
    "print(\"Type of the object:\",type(b))\n",
    "print(\"Value of b Before changing the value\")\n",
    "for i in b:\n",
    "    print(i)\n",
    "print(\"Address of b After changing the value\", id(b))\n",
    "print(\"Type of the object:\",type(b))\n",
    "print(\"Value of b After changing the value\")\n",
    "b[4]=50\n",
    "for i in b:\n",
    "    print(i)"
   ]
  },
  {
   "cell_type": "code",
   "execution_count": null,
   "metadata": {},
   "outputs": [],
   "source": []
  }
 ],
 "metadata": {
  "kernelspec": {
   "display_name": "Python 3",
   "language": "python",
   "name": "python3"
  },
  "language_info": {
   "codemirror_mode": {
    "name": "ipython",
    "version": 3
   },
   "file_extension": ".py",
   "mimetype": "text/x-python",
   "name": "python",
   "nbconvert_exporter": "python",
   "pygments_lexer": "ipython3",
   "version": "3.8.5"
  }
 },
 "nbformat": 4,
 "nbformat_minor": 4
}
