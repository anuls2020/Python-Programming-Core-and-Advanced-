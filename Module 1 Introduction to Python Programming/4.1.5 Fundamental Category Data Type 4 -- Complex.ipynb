{
 "cells": [
  {
   "cell_type": "markdown",
   "metadata": {},
   "source": [
    "# Fundamental Category Data Type 4 -- Complex"
   ]
  },
  {
   "cell_type": "markdown",
   "metadata": {},
   "source": [
    "* '**complex**' is **one of the pre-defined classes and treated as Fundamental data type**.\n",
    "* The complex data type is used for \"**Storing Complex Values in form of either a+bj or a-bj**, here **'a' is called Real Part and 'b' is called Imaginary Part and j is called sqrt(-1)**\".\n",
    "* To **extract the real and imaginary parts** from complex object, we **use two pre-defined attributes/Properties/Fileds/Variables**. They are,\n",
    "\t* **real**\n",
    "\t* **imag**\n",
    "    \n",
    "<div class=\"alert alert-block alert-success\">\n",
    "<b>Syntax:</b> \n",
    "    \n",
    "    complexobj.real---->Gives Real part of Complex object\n",
    
    "    complexobj.imag---->gives Imaginary of Complex object\n",
    "\n",
    "</div>   \n",
    "\n",
    "**Examples:**"
   ]
  },
  {
   "cell_type": "code",
   "execution_count": 1,
   "metadata": {},
   "outputs": [
    {
     "name": "stdout",
     "output_type": "stream",
     "text": [
      "(2+3j) <class 'complex'>\n"
     ]
    }
   ],
   "source": [
    "a=2+3j\n",
    "print(a,type(a))"
   ]
  },
  {
   "cell_type": "code",
   "execution_count": 2,
   "metadata": {},
   "outputs": [
    {
     "name": "stdout",
     "output_type": "stream",
     "text": [
      "(2-3j) <class 'complex'>\n"
     ]
    }
   ],
   "source": [
    "a=2-3j\n",
    "print(a,type(a))"
   ]
  },
  {
   "cell_type": "code",
   "execution_count": 3,
   "metadata": {},
   "outputs": [
    {
     "name": "stdout",
     "output_type": "stream",
     "text": [
      "(2.5+3.6j) <class 'complex'>\n"
     ]
    }
   ],
   "source": [
    "a=2.5+3.6j\n",
    "print(a,type(a))"
   ]
  },
  {
   "cell_type": "code",
   "execution_count": 4,
   "metadata": {
    "run_control": {
     "marked": false
    }
   },
   "outputs": [
    {
     "name": "stdout",
     "output_type": "stream",
     "text": [
      "(2.5-13.6j) <class 'complex'>\n"
     ]
    }
   ],
   "source": [
    "a=2.5-13.6j\n",
    "print(a,type(a))"
   ]
  },
  {
   "cell_type": "code",
   "execution_count": 5,
   "metadata": {},
   "outputs": [
    {
     "name": "stdout",
     "output_type": "stream",
     "text": [
      "(-0-5j) <class 'complex'>\n"
     ]
    }
   ],
   "source": [
    "a=-5j\n",
    "print(a,type(a))"
   ]
  },
  {
   "cell_type": "code",
   "execution_count": 6,
   "metadata": {},
   "outputs": [
    {
     "name": "stdout",
     "output_type": "stream",
     "text": [
      "5.5j <class 'complex'>\n"
     ]
    }
   ],
   "source": [
    "a=5.5j\n",
    "print(a,type(a))"
   ]
  },
  {
   "cell_type": "code",
   "execution_count": 8,
   "metadata": {},
   "outputs": [
    {
     "name": "stdout",
     "output_type": "stream",
     "text": [
      "6j <class 'complex'>\n"
     ]
    }
   ],
   "source": [
    "a=2*3j\n",
    "print(a,type(a))"
   ]
  },
  {
   "cell_type": "code",
   "execution_count": 9,
   "metadata": {},
   "outputs": [
    {
     "name": "stdout",
     "output_type": "stream",
     "text": [
      "(2-3j) <class 'complex'>\n"
     ]
    }
   ],
   "source": [
    "a=2-3j\n",
    "print(a,type(a))"
   ]
  },
  {
   "cell_type": "markdown",
   "metadata": {},
   "source": [
    "**Special Examples:**"
   ]
  },
  {
   "cell_type": "code",
   "execution_count": 11,
   "metadata": {},
   "outputs": [
    {
     "name": "stdout",
     "output_type": "stream",
     "text": [
      "(10+12j) <class 'complex'>\n",
      "10.0\n",
      "12.0\n"
     ]
    }
   ],
   "source": [
    "a=10+12j\n",
    "print(a,type(a))\n",
    "print(a.real)\n",
    "print(a.imag)\n"
   ]
  },
  {
   "cell_type": "code",
   "execution_count": 12,
   "metadata": {},
   "outputs": [
    {
     "name": "stdout",
     "output_type": "stream",
     "text": [
      "(10.5-12.6j) <class 'complex'>\n",
      "10.5\n",
      "-12.6\n"
     ]
    }
   ],
   "source": [
    "k=10.5-12.6j\n",
    "print(k,type(k))\n",
    "print(k.real)\n",
    "print(k.imag)"
   ]
  },
  {
   "cell_type": "code",
   "execution_count": null,
   "metadata": {},
   "outputs": [],
   "source": []
  }
 ],
 "metadata": {
  "kernelspec": {
   "display_name": "Python 3",
   "language": "python",
   "name": "python3"
  },
  "language_info": {
   "codemirror_mode": {
    "name": "ipython",
    "version": 3
   },
   "file_extension": ".py",
   "mimetype": "text/x-python",
   "name": "python",
   "nbconvert_exporter": "python",
   "pygments_lexer": "ipython3",
   "version": "3.8.5"
  }
 },
 "nbformat": 4,
 "nbformat_minor": 4
}
