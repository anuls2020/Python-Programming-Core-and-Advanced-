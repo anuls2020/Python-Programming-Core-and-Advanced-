{
 "cells": [
  {
   "cell_type": "markdown",
   "metadata": {},
   "source": [
    "<h1><center>4.2.4 Sequence Category Data Types 4 -- Range</center></h1>"
   ]
  },
  {
   "cell_type": "markdown",
   "metadata": {},
   "source": [
    "- <font color='Blue'> **'range'**</font> is one pre-defined class and treated as <font color='Blue'> *sequence data type*</font>.\n",
    "- The purpose of range data type is that <font color='Blue'> *\"To store sequence of Numerical Integer values by maintaining equal Interval of value\".*</font>\n",
    "- An object of range is <font color='Blue'> **immutable**</font> bcoz range object does not allow Item \n",
    "    assignment.\n",
    "- On the object of range , we can perform <font color='Blue'> *Indexing & slicing*</font> Operations.\n",
    "- To cerate an object of range , we use the function <font color='Blue'> **range()**</font>\n",
    "- range() contains <font color='Blue'> **3 syntaxes**</font>. They are\n",
    "\n",
    "#### Syntax 1\n",
    "<code><font color='#D2691E'>**varname= range(value)**</font></code>\n",
    "> `This syntax creates an object of range from  \"0\" to \"value-1\"`\n",
    "#### Syntax 2\n",
    "<code><font color='#D2691E'>**varname= range(Start, Stop)**</font></code>\n",
    "> `This syntax creates an object of range from \"start value\" to \"stop value-1\"`\n",
    "\n",
    "> <font color='Blue'>Note: ***In Syntax1 and Syntax2, the default interval value is 1***</font>\n",
    "\n",
    "#### Syntax 3\n",
    "<code><font color='#D2691E'>**varname= range(Start, Stop, step)**</font></code>\n",
    "> `This syntax creates an object of range from \"start value\" to \"stop value-1\"  by maintaining specified  \"step value\"( Step value  is nothing equal interval of value)`"
   ]
  },
  {
   "cell_type": "markdown",
   "metadata": {},
   "source": [
    "### Examples: Syntax 1 [<font color='#D2691E'>**varname= range(value)**</font>]"
   ]
  },
  {
   "cell_type": "markdown",
   "metadata": {},
   "source": [
    "<font color='Blue'> **Q1)Generate Value from 0 to 5**</font>"
   ]
  },
  {
   "cell_type": "code",
   "execution_count": 6,
   "metadata": {},
   "outputs": [
    {
     "name": "stdout",
     "output_type": "stream",
     "text": [
      "range(0, 6) <class 'range'>\n",
      "------------------------------\n",
      "The values in the specified range are\n",
      "0\n",
      "1\n",
      "2\n",
      "3\n",
      "4\n",
      "5\n"
     ]
    }
   ],
   "source": [
    "r=range(6)\n",
    "print(r, type(r))\n",
    "print('-'*30)\n",
    "print(\"The values in the specified range are:\")\n",
    "for v in r:\n",
    "    print(v)"
   ]
  },
  {
   "cell_type": "markdown",
   "metadata": {},
   "source": [
    "### Examples: Syntax 2 [<font color='#D2691E'>**varname= range(Start, Stop)**</font>]"
   ]
  },
  {
   "cell_type": "markdown",
   "metadata": {},
   "source": [
    "<font color='Blue'> **Q1) Generate values between 10 and 15**</font>"
   ]
  },
  {
   "cell_type": "code",
   "execution_count": 7,
   "metadata": {},
   "outputs": [
    {
     "name": "stdout",
     "output_type": "stream",
     "text": [
      "range(10, 16) <class 'range'>\n",
      "------------------------------\n",
      "The values in the specified range are:\n",
      "10\n",
      "11\n",
      "12\n",
      "13\n",
      "14\n",
      "15\n"
     ]
    }
   ],
   "source": [
    "r=range(10,16)\n",
    "print(r, type(r))\n",
    "print('-'*30)\n",
    "print(\"The values in the specified range are:\")\n",
    "for v in r:\n",
    "    print(v)"
   ]
  },
  {
   "cell_type": "markdown",
   "metadata": {},
   "source": [
    "<font color='Blue'> **Q2) Generate values between 20 & 25**</font>"
   ]
  },
  {
   "cell_type": "code",
   "execution_count": 9,
   "metadata": {},
   "outputs": [
    {
     "name": "stdout",
     "output_type": "stream",
     "text": [
      "range(20, 26) <class 'range'>\n",
      "------------------------------\n",
      "The values in the specified range are:\n",
      "20\n",
      "21\n",
      "22\n",
      "23\n",
      "24\n",
      "25\n"
     ]
    }
   ],
   "source": [
    "r=range(20,26)\n",
    "print(r, type(r))\n",
    "print('-'*30)\n",
    "print(\"The values in the specified range are:\")\n",
    "for v in r:\n",
    "    print(v)"
   ]
  },
  {
   "cell_type": "markdown",
   "metadata": {},
   "source": [
    "### Examples: Syntax 3 [<font color='#D2691E'>**varname= range(Start, Stop, step)**</font>]"
   ]
  },
  {
   "cell_type": "markdown",
   "metadata": {},
   "source": [
    "<font color='Blue'> **Q1)Generate 1   2    3     4     5    6     7    8   9   10**</font>"
   ]
  },
  {
   "cell_type": "code",
   "execution_count": 11,
   "metadata": {},
   "outputs": [
    {
     "name": "stdout",
     "output_type": "stream",
     "text": [
      "range(1, 11) <class 'range'>\n",
      "------------------------------\n",
      "The values in the specified range are:\n",
      "1\n",
      "2\n",
      "3\n",
      "4\n",
      "5\n",
      "6\n",
      "7\n",
      "8\n",
      "9\n",
      "10\n"
     ]
    }
   ],
   "source": [
    "r=range(1,11)\n",
    "print(r, type(r))\n",
    "print('-'*30)\n",
    "print(\"The values in the specified range are:\")\n",
    "for v in r:\n",
    "    print(v)"
   ]
  },
  {
   "cell_type": "markdown",
   "metadata": {},
   "source": [
    "<font color='Blue'> **Q2) generate 10 20 30 40 50 60 70 80 90 100**</font>"
   ]
  },
  {
   "cell_type": "code",
   "execution_count": 12,
   "metadata": {
    "scrolled": true
   },
   "outputs": [
    {
     "name": "stdout",
     "output_type": "stream",
     "text": [
      "range(10, 101, 10) <class 'range'>\n",
      "------------------------------\n",
      "The values in the specified range are:\n",
      "10\n",
      "20\n",
      "30\n",
      "40\n",
      "50\n",
      "60\n",
      "70\n",
      "80\n",
      "90\n",
      "100\n"
     ]
    }
   ],
   "source": [
    "r=range(10, 101, 10)\n",
    "print(r, type(r))\n",
    "print('-'*30)\n",
    "print(\"The values in the specified range are:\")\n",
    "for v in r:\n",
    "    print(v)"
   ]
  },
  {
   "cell_type": "markdown",
   "metadata": {},
   "source": [
    "<font color='Blue'> **Q3) Generate 100 105 110 115 120**</font>"
   ]
  },
  {
   "cell_type": "code",
   "execution_count": 14,
   "metadata": {},
   "outputs": [
    {
     "name": "stdout",
     "output_type": "stream",
     "text": [
      "range(100, 120, 5) <class 'range'>\n",
      "------------------------------\n",
      "The values in the specified range are:\n",
      "100\n",
      "105\n",
      "110\n",
      "115\n"
     ]
    }
   ],
   "source": [
    "r=range(100, 120, 5)\n",
    "print(r, type(r))\n",
    "print('-'*30)\n",
    "print(\"The values in the specified range are:\")\n",
    "for v in r:\n",
    "    print(v)"
   ]
  },
  {
   "cell_type": "markdown",
   "metadata": {},
   "source": [
    "<font color='Blue'> **Q4) Generate -1   -2   -3   -4   -5  -6  -7  -8  -9  -10**</font>"
   ]
  },
  {
   "cell_type": "code",
   "execution_count": 15,
   "metadata": {},
   "outputs": [
    {
     "name": "stdout",
     "output_type": "stream",
     "text": [
      "range(-1, -11, -1) <class 'range'>\n",
      "------------------------------\n",
      "The values in the specified range are:\n",
      "-1\n",
      "-2\n",
      "-3\n",
      "-4\n",
      "-5\n",
      "-6\n",
      "-7\n",
      "-8\n",
      "-9\n",
      "-10\n"
     ]
    }
   ],
   "source": [
    "r=range(-1, -11, -1)\n",
    "print(r, type(r))\n",
    "print('-'*30)\n",
    "print(\"The values in the specified range are:\")\n",
    "for v in r:\n",
    "    print(v)"
   ]
  },
  {
   "cell_type": "markdown",
   "metadata": {},
   "source": [
    "<font color='Blue'> **Q5) Generate -100   -110    -120   -130 -140  -150**</font>"
   ]
  },
  {
   "cell_type": "code",
   "execution_count": 16,
   "metadata": {},
   "outputs": [
    {
     "name": "stdout",
     "output_type": "stream",
     "text": [
      "range(-100, -151, -10) <class 'range'>\n",
      "------------------------------\n",
      "The values in the specified range are:\n",
      "-100\n",
      "-110\n",
      "-120\n",
      "-130\n",
      "-140\n",
      "-150\n"
     ]
    }
   ],
   "source": [
    "r=range(-100, -151, -10)\n",
    "print(r, type(r))\n",
    "print('-'*30)\n",
    "print(\"The values in the specified range are:\")\n",
    "for v in r:\n",
    "    print(v)"
   ]
  },
  {
   "cell_type": "markdown",
   "metadata": {},
   "source": [
    "<font color='Blue'> **Q6) Generate 10 9 8 7 6 5 4 3 2 1**</font>"
   ]
  },
  {
   "cell_type": "code",
   "execution_count": 17,
   "metadata": {},
   "outputs": [
    {
     "name": "stdout",
     "output_type": "stream",
     "text": [
      "range(10, 0, -1) <class 'range'>\n",
      "------------------------------\n",
      "The values in the specified range are:\n",
      "10\n",
      "9\n",
      "8\n",
      "7\n",
      "6\n",
      "5\n",
      "4\n",
      "3\n",
      "2\n",
      "1\n"
     ]
    }
   ],
   "source": [
    "r=range(10, 0, -1)\n",
    "print(r, type(r))\n",
    "print('-'*30)\n",
    "print(\"The values in the specified range are:\")\n",
    "for v in r:\n",
    "    print(v)"
   ]
  },
  {
   "cell_type": "markdown",
   "metadata": {},
   "source": [
    "<font color='Blue'> **Q7) Generate 100 90 80 70 60 50**</font>"
   ]
  },
  {
   "cell_type": "code",
   "execution_count": 20,
   "metadata": {},
   "outputs": [
    {
     "name": "stdout",
     "output_type": "stream",
     "text": [
      "range(100, 49, -10) <class 'range'>\n",
      "------------------------------\n",
      "The values in the specified range are:\n",
      "100\n",
      "90\n",
      "80\n",
      "70\n",
      "60\n",
      "50\n"
     ]
    }
   ],
   "source": [
    "r=range(100, 49, -10)\n",
    "print(r, type(r))\n",
    "print('-'*30)\n",
    "print(\"The values in the specified range are:\")\n",
    "for v in r:\n",
    "    print(v)"
   ]
  },
  {
   "cell_type": "markdown",
   "metadata": {},
   "source": [
    "<font color='Blue'> **Q8) Generate -10 -9 -8 -7 -6 -5 -4 -3 -2 -1**</font>"
   ]
  },
  {
   "cell_type": "code",
   "execution_count": 21,
   "metadata": {},
   "outputs": [
    {
     "name": "stdout",
     "output_type": "stream",
     "text": [
      "range(-10, 0) <class 'range'>\n",
      "------------------------------\n",
      "The values in the specified range are:\n",
      "-10\n",
      "-9\n",
      "-8\n",
      "-7\n",
      "-6\n",
      "-5\n",
      "-4\n",
      "-3\n",
      "-2\n",
      "-1\n"
     ]
    }
   ],
   "source": [
    "r=range(-10,0,1)\n",
    "print(r, type(r))\n",
    "print('-'*30)\n",
    "print(\"The values in the specified range are:\")\n",
    "for v in r:\n",
    "    print(v)"
   ]
  },
  {
   "cell_type": "markdown",
   "metadata": {},
   "source": [
    "<font color='Blue'> **Q9) Generate -5 -4 -3 -2 -1 0 1 2 3 4 5**</font>"
   ]
  },
  {
   "cell_type": "code",
   "execution_count": 22,
   "metadata": {},
   "outputs": [
    {
     "name": "stdout",
     "output_type": "stream",
     "text": [
      "range(-5, 6) <class 'range'>\n",
      "------------------------------\n",
      "The values in the specified range are:\n",
      "-5\n",
      "-4\n",
      "-3\n",
      "-2\n",
      "-1\n",
      "0\n",
      "1\n",
      "2\n",
      "3\n",
      "4\n",
      "5\n"
     ]
    }
   ],
   "source": [
    "r=range(-5,6,1)\n",
    "print(r, type(r))\n",
    "print('-'*30)\n",
    "print(\"The values in the specified range are:\")\n",
    "for v in r:\n",
    "    print(v)"
   ]
  },
  {
   "cell_type": "markdown",
   "metadata": {},
   "source": [
    "<font color='Blue'> **Q10) Generate a multiplication table for number 9**</font>"
   ]
  },
  {
   "cell_type": "code",
   "execution_count": 24,
   "metadata": {},
   "outputs": [
    {
     "name": "stdout",
     "output_type": "stream",
     "text": [
      "9 * 1 = 9\n",
      "9 * 2 = 18\n",
      "9 * 3 = 27\n",
      "9 * 4 = 36\n",
      "9 * 5 = 45\n",
      "9 * 6 = 54\n",
      "9 * 7 = 63\n",
      "9 * 8 = 72\n",
      "9 * 9 = 81\n",
      "9 * 10 = 90\n"
     ]
    }
   ],
   "source": [
    "n=9\n",
    "r=range(1,11)\n",
    "for i in r:\n",
    "    print(n,\"*\",i,\"=\",n*i)"
   ]
  },
  {
   "cell_type": "code",
   "execution_count": null,
   "metadata": {},
   "outputs": [],
   "source": []
  }
 ],
 "metadata": {
  "kernelspec": {
   "display_name": "Python 3",
   "language": "python",
   "name": "python3"
  },
  "language_info": {
   "codemirror_mode": {
    "name": "ipython",
    "version": 3
   },
   "file_extension": ".py",
   "mimetype": "text/x-python",
   "name": "python",
   "nbconvert_exporter": "python",
   "pygments_lexer": "ipython3",
   "version": "3.8.5"
  }
 },
 "nbformat": 4,
 "nbformat_minor": 4
}
