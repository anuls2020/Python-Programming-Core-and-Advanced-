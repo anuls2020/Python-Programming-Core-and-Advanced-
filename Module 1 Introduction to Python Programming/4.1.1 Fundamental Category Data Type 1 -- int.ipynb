{
 "cells": [
  {
   "cell_type": "markdown",
   "metadata": {},
   "source": [
    "# Fundamental Category Data Type 1 -- int"
   ]
  },
  {
   "cell_type": "markdown",
   "metadata": {},
   "source": [
    "* '**int**' is one of the **pre-defined class** and it treated as Fundamental Data Type.\n",
    "* The **purpose** of 'int' data type is that to **store Integer / Integral / whole Numbers (Data without decimal Places)**\n",
    "\n",
    "    ##### Ex:   Student Numbers, Adhar Card Numbers, Emp Numbers..etc "
   ]
  },
  {
   "cell_type": "markdown",
   "metadata": {},
   "source": [
    "**Examples**"
   ]
  },
  {
   "cell_type": "code",
   "execution_count": 1,
   "metadata": {},
   "outputs": [
    {
     "name": "stdout",
     "output_type": "stream",
     "text": [
      "19 <class 'int'>\n",
      "8888888 <class 'int'>\n"
     ]
    }
   ],
   "source": [
    "a=19\n",
    "b=8888888\n",
    "print(a,type(a))\n",
    "print(b,type(b))"
   ]
  },
  {
   "cell_type": "markdown",
   "metadata": {},
   "source": [
    "* with '**int**' data type we can also store **Different Number System Values**.\n",
    "* In Programming, we have **4 types of Number Systems**. They are \n",
    "\t1. **Decimal Number System (default)**\n",
    "\t2. **Binary Number System**\n",
    "\t3. **Octal Number System**\n",
    "\t4. **Hexa Decimal Number System**\n",
    "    \n",
    "1. **Decimal Number System:**\n",
    "\n",
    "* It is one of **default Number System**\n",
    "* The digits present in this number System are 0,1,2,3,4,5,6,7,8,9----toal 10 digits\n",
    "* The **base** for Decimal Number System **is 10**\n",
    "\n",
    "\n",
    "2. **Binary Number System:**\n",
    "\n",
    "* The Digits present in this number system are  **0,1**--total digits- 2\n",
    "* The **base** for Binary Number System **is 2**\n",
    "* To store Binary Number System data in python Programming, Binary Number System data muststarts or preceded with  **0b**  or  **0B**.\n",
    "\n",
    "<div class=\"alert alert-block alert-success\">\n",
    "<b>Syntax:</b><br> \n",
    "<b>\n",
    "    \n",
    "    varname=0b Binary Data\n",
    "    OR\n",
    "    varname=0B Binary Data\n",
    "</b>\n",
    "</div> \n",
    "\n",
    "* All types of Binary Values are <font color='red'>**implicitly converted into Decimal Number System Value.**</font>\n",
    "\n",
    "##### Examples:"
   ]
  },
  {
   "cell_type": "code",
   "execution_count": 4,
   "metadata": {},
   "outputs": [
    {
     "name": "stdout",
     "output_type": "stream",
     "text": [
      "4 <class 'int'>\n"
     ]
    }
   ],
   "source": [
    "a=0b100\n",
    "print(a, type(a))"
   ]
  },
  {
   "cell_type": "code",
   "execution_count": 3,
   "metadata": {},
   "outputs": [
    {
     "name": "stdout",
     "output_type": "stream",
     "text": [
      "4 <class 'int'>\n"
     ]
    }
   ],
   "source": [
    "b=0B100\n",
    "print(b, type(b))"
   ]
  },
  {
   "cell_type": "code",
   "execution_count": 5,
   "metadata": {},
   "outputs": [
    {
     "name": "stdout",
     "output_type": "stream",
     "text": [
      "10 <class 'int'>\n"
     ]
    }
   ],
   "source": [
    "c=0B1010\n",
    "print(c,type(c))"
   ]
  },
  {
   "cell_type": "code",
   "execution_count": 6,
   "metadata": {},
   "outputs": [
    {
     "name": "stdout",
     "output_type": "stream",
     "text": [
      "15 <class 'int'>\n"
     ]
    }
   ],
   "source": [
    "d=0B1111\n",
    "print(d,type(d))"
   ]
  },
  {
   "cell_type": "markdown",
   "metadata": {},
   "source": [
    "3. **Octal Number System:**\n",
    "\n",
    "* The Digits present in this number system are ** 0,1,2,3,4,5,6,7**--total digits- **8**\n",
    "* The **base** for Octal Number System is **8**\n",
    "* To store Octal Number System data in python Programming, Octal Number System data must starts or preceded with  **0o** or  **0O**.\n",
    "\n",
    "<div class=\"alert alert-block alert-success\">\n",
    "<b>Syntax:</b><br> \n",
    "<b>\n",
    "    \n",
    "    varname=0o Octal Data\n",
    "    OR\n",
    "    varname=0O Octal Data\n",
    "</b>\n",
    "</div> \n",
    "\n",
    "* All types of Octal Values are <font color='red'>**implicitly converted into Decimal Number System Value.**</font>\n",
    "\n",
    "##### Examples:"
   ]
  },
  {
   "cell_type": "code",
   "execution_count": 7,
   "metadata": {},
   "outputs": [
    {
     "name": "stdout",
     "output_type": "stream",
     "text": [
      "12 <class 'int'>\n"
     ]
    }
   ],
   "source": [
    "a=0o14\n",
    "print(a, type(a))"
   ]
  },
  {
   "cell_type": "code",
   "execution_count": 8,
   "metadata": {},
   "outputs": [
    {
     "name": "stdout",
     "output_type": "stream",
     "text": [
      "28 <class 'int'>\n"
     ]
    }
   ],
   "source": [
    "b=0O34\n",
    "print(b, type(b))"
   ]
  },
  {
   "cell_type": "markdown",
   "metadata": {},
   "source": [
    "4. **Hexa Decimal Number System:**\n",
    "\n",
    "* The Digits present in this number system are 0,1,2,3,4,5,6,7,8,9, A(10)  B(11) C(12) D(13) E(14) F(15)-----total digits-16\n",
    "* The base for Hexa Decimall Number System is 16\n",
    "* To store Hexa Decimal Number System data in python Programming, Hexa Decimal Number System data must starts or preceded with  0x or  0X.\n",
    "\n",
    "\n",
    "<div class=\"alert alert-block alert-success\">\n",
    "<b>Syntax:</b><br> \n",
    "<b>\n",
    "    \n",
    "    varname=0xHexa Decimal Data\n",
    "    OR\n",
    "    varname=0XHexa Decimal Data\n",
    "</b>\n",
    "</div> \n",
    "\n",
    "* All types of Hexa Decimal Data Values are <font color='red'>**implicitly converted into Decimal Number System Value.**</font>\n",
    "\n",
    "##### Examples:"
   ]
  },
  {
   "cell_type": "code",
   "execution_count": 9,
   "metadata": {},
   "outputs": [
    {
     "name": "stdout",
     "output_type": "stream",
     "text": [
      "172 <class 'int'>\n"
     ]
    }
   ],
   "source": [
    "a=0xAC\n",
    "print(a,type(a))"
   ]
  },
  {
   "cell_type": "code",
   "execution_count": 10,
   "metadata": {},
   "outputs": [
    {
     "name": "stdout",
     "output_type": "stream",
     "text": [
      "171 <class 'int'>\n"
     ]
    }
   ],
   "source": [
    "b=0Xab\n",
    "print(b, type(b))"
   ]
  },
  {
   "cell_type": "code",
   "execution_count": 11,
   "metadata": {},
   "outputs": [
    {
     "name": "stdout",
     "output_type": "stream",
     "text": [
      "3054 <class 'int'>\n"
     ]
    }
   ],
   "source": [
    "c=0xBEE\n",
    "print(c, type(c))"
   ]
  },
  {
   "cell_type": "code",
   "execution_count": 12,
   "metadata": {},
   "outputs": [
    {
     "name": "stdout",
     "output_type": "stream",
     "text": [
      "154 <class 'int'>\n"
     ]
    }
   ],
   "source": [
    "d=0X9A\n",
    "print(d, type(d))"
   ]
  },
  {
   "cell_type": "code",
   "execution_count": 13,
   "metadata": {},
   "outputs": [
    {
     "name": "stdout",
     "output_type": "stream",
     "text": [
      "2764 <class 'int'>\n"
     ]
    }
   ],
   "source": [
    "e=0xACC\n",
    "print(e, type(e))"
   ]
  },
  {
   "cell_type": "code",
   "execution_count": null,
   "metadata": {},
   "outputs": [],
   "source": []
  }
 ],
 "metadata": {
  "kernelspec": {
   "display_name": "Python 3",
   "language": "python",
   "name": "python3"
  },
  "language_info": {
   "codemirror_mode": {
    "name": "ipython",
    "version": 3
   },
   "file_extension": ".py",
   "mimetype": "text/x-python",
   "name": "python",
   "nbconvert_exporter": "python",
   "pygments_lexer": "ipython3",
   "version": "3.8.5"
  }
 },
 "nbformat": 4,
 "nbformat_minor": 4
}
