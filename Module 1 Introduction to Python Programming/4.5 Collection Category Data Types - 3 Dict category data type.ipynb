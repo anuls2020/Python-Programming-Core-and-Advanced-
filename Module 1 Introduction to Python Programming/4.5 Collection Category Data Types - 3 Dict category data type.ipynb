{
 "cells": [
  {
   "cell_type": "markdown",
   "metadata": {},
   "source": [
    "## Dict Category Data Type(Collection data type)\n",
    "\n",
    "* **'dict'** is one of the pre-defined class and treated as Dict Category Data Type\n",
    "* The purpose of dict data type is that \"**To Organize/store the data in the form of (Key,Value)**.\n",
    "* In (Key,Value), The values of **Key represents Unique** and values of **Value may or may not be unique**.\n",
    "* In organize/store the data in the object of dict, those (Key,Value) must written with curly braces { }\n",
    "* An object of dict **maintains Insertion Order**.\n",
    "* On the object of dict, we <font color='red'>**can't perform Indexing and slicing Operation** bcoz **values of Key itself acts index**</font>.\n",
    "* We have two types of dict objects. they are\n",
    "    * Empty Dict\n",
    "    * Non-Empty Dict\n",
    "\n",
    "---\n",
    "\n",
    " #### <font color='#3498DB'>**1. Empty Dict:**</font>\n",
    "    \n",
    "    An empty dict does not contain any elements and whose length is 0\n",
    "\n",
    " ##### Syntax:-\n",
    "   <code><font color='#D2691E'>**dictobj={}**</font></code>\n",
    "   \n",
    "   **OR**\n",
    "   \n",
    "   <code><font color='#D2691E'>**dictobj=dict()**</font></code>\n",
    "\n",
    " ##### Syntax for adding (Key,Value) to dict object\n",
    "   \n",
    "   <code><font color='#D2691E'>**dictobj[Key1]=Value1**</font></code>\n",
    "   \n",
    "   <code><font color='#D2691E'>**dictobj[Key2]=Value2**</font></code>\n",
    "    \n",
    "   .<br>\n",
    "   .<br>\n",
    "    \n",
    "   <code><font color='#D2691E'>**dictobj[Key-n]=Value-n**</font></code>\n",
    "\n",
    "\n",
    " #### <font color='#3498DB'>**2. Non-Empty Dict:**</font>\n",
    " \n",
    "     A non-empty dict  contains elements and whose length is >0\n",
    " \n",
    " ##### Syntax:-\n",
    "   <code><font color='#D2691E'>**dictobj={Key1:Value1,Key2:Value2.......Key-n:Value-n}**</font></code>\n"
   ]
  },
  {
   "cell_type": "markdown",
   "metadata": {},
   "source": [
    "##### Examples for empty list:"
   ]
  },
  {
   "cell_type": "code",
   "execution_count": 2,
   "metadata": {},
   "outputs": [
    {
     "name": "stdout",
     "output_type": "stream",
     "text": [
      "{} <class 'dict'> 2539316561344\n"
     ]
    }
   ],
   "source": [
    "d1={}\n",
    "print(d1, type(d1), id(d1))"
   ]
  },
  {
   "cell_type": "code",
   "execution_count": 3,
   "metadata": {},
   "outputs": [],
   "source": [
    "d1[10]=\"apple\"\n",
    "d1[20]=\"mango\"\n",
    "d1[30]=\"orange\""
   ]
  },
  {
   "cell_type": "code",
   "execution_count": 4,
   "metadata": {
    "scrolled": true
   },
   "outputs": [
    {
     "name": "stdout",
     "output_type": "stream",
     "text": [
      "{10: 'apple', 20: 'mango', 30: 'orange'} <class 'dict'> 2539316561344\n"
     ]
    }
   ],
   "source": [
    "print(d1, type(d1), id(d1))"
   ]
  },
  {
   "cell_type": "markdown",
   "metadata": {},
   "source": [
    "**OR**"
   ]
  },
  {
   "cell_type": "code",
   "execution_count": 5,
   "metadata": {},
   "outputs": [],
   "source": [
    "d1=dict()"
   ]
  },
  {
   "cell_type": "code",
   "execution_count": 6,
   "metadata": {},
   "outputs": [
    {
     "name": "stdout",
     "output_type": "stream",
     "text": [
      "{} <class 'dict'> 2539316514240\n"
     ]
    }
   ],
   "source": [
    "print(d1, type(d1), id(d1))"
   ]
  },
  {
   "cell_type": "code",
   "execution_count": 7,
   "metadata": {},
   "outputs": [],
   "source": [
    "d1[10]=\"apple\"\n",
    "d1[20]=\"mango\"\n",
    "d1[30]=\"orange\""
   ]
  },
  {
   "cell_type": "code",
   "execution_count": 8,
   "metadata": {},
   "outputs": [
    {
     "name": "stdout",
     "output_type": "stream",
     "text": [
      "{10: 'apple', 20: 'mango', 30: 'orange'} <class 'dict'> 2539316514240\n"
     ]
    }
   ],
   "source": [
    "print(d1, type(d1), id(d1))"
   ]
  },
  {
   "cell_type": "markdown",
   "metadata": {},
   "source": [
    "##### Examples for non-empty list:"
   ]
  },
  {
   "cell_type": "code",
   "execution_count": 11,
   "metadata": {},
   "outputs": [
    {
     "name": "stdout",
     "output_type": "stream",
     "text": [
      "{10: 'apple', 20: 'mango', 30: 'orange'} <class 'dict'> 2539316562816\n"
     ]
    }
   ],
   "source": [
    "d1={10:\"apple\", 20:\"mango\", 30:\"orange\"}\n",
    "print(d1, type(d1), id(d1))"
   ]
  },
  {
   "cell_type": "code",
   "execution_count": 12,
   "metadata": {},
   "outputs": [
    {
     "data": {
      "text/plain": [
       "'apple'"
      ]
     },
     "execution_count": 12,
     "metadata": {},
     "output_type": "execute_result"
    }
   ],
   "source": [
    "d1[10]"
   ]
  },
  {
   "cell_type": "code",
   "execution_count": 13,
   "metadata": {},
   "outputs": [
    {
     "data": {
      "text/plain": [
       "'orange'"
      ]
     },
     "execution_count": 13,
     "metadata": {},
     "output_type": "execute_result"
    }
   ],
   "source": [
    "d1[30]"
   ]
  },
  {
   "cell_type": "code",
   "execution_count": 15,
   "metadata": {},
   "outputs": [
    {
     "data": {
      "text/plain": [
       "3"
      ]
     },
     "execution_count": 15,
     "metadata": {},
     "output_type": "execute_result"
    }
   ],
   "source": [
    "len(d1)"
   ]
  },
  {
   "cell_type": "code",
   "execution_count": 16,
   "metadata": {},
   "outputs": [],
   "source": [
    "d1[40]=\"grape\""
   ]
  },
  {
   "cell_type": "code",
   "execution_count": 17,
   "metadata": {},
   "outputs": [
    {
     "name": "stdout",
     "output_type": "stream",
     "text": [
      "{10: 'apple', 20: 'mango', 30: 'orange', 40: 'grape'} <class 'dict'> 2539316562816\n"
     ]
    }
   ],
   "source": [
    "print(d1, type(d1), id(d1))"
   ]
  },
  {
   "cell_type": "markdown",
   "metadata": {},
   "source": [
    "**We can have string also as the key for a dict data type**"
   ]
  },
  {
   "cell_type": "code",
   "execution_count": 20,
   "metadata": {},
   "outputs": [
    {
     "name": "stdout",
     "output_type": "stream",
     "text": [
      "{} <class 'dict'> 2539315061312\n"
     ]
    }
   ],
   "source": [
    "d1=dict()\n",
    "print(d1, type(d1),id(d1))\n",
    "d1[\"apple\"]=10\n",
    "d1[\"orange\"]=20\n",
    "d1[\"mango\"]=30\n"
   ]
  },
  {
   "cell_type": "code",
   "execution_count": 21,
   "metadata": {},
   "outputs": [
    {
     "name": "stdout",
     "output_type": "stream",
     "text": [
      "{'apple': 10, 'orange': 20, 'mango': 30} <class 'dict'> 2539315061312\n"
     ]
    }
   ],
   "source": [
    "print(d1, type(d1),id(d1))"
   ]
  },
  {
   "cell_type": "markdown",
   "metadata": {},
   "source": [
    "**We can have mixed type of keys and values in a dict**"
   ]
  },
  {
   "cell_type": "code",
   "execution_count": 22,
   "metadata": {},
   "outputs": [
    {
     "name": "stdout",
     "output_type": "stream",
     "text": [
      "{10: 'Praveen', 'RS': 20}\n"
     ]
    }
   ],
   "source": [
    "d1={}\n",
    "d1[10]=\"Praveen\"\n",
    "d1[\"RS\"]=20\n",
    "print(d1)"
   ]
  },
  {
   "cell_type": "markdown",
   "metadata": {},
   "source": []
  },
  {
   "cell_type": "markdown",
   "metadata": {},
   "source": [
    "**Special cases examples:**"
   ]
  },
  {
   "cell_type": "code",
   "execution_count": 24,
   "metadata": {},
   "outputs": [
    {
     "name": "stdout",
     "output_type": "stream",
     "text": [
      "{10: [100, 200, 300, 400], 20: (500, 600, 700)}\n"
     ]
    }
   ],
   "source": [
    "d1={10:[100,200,300,400],20:(500,600,700)}\n",
    "print(d1) "
   ]
  },
  {
   "cell_type": "code",
   "execution_count": 26,
   "metadata": {},
   "outputs": [
    {
     "name": "stdout",
     "output_type": "stream",
     "text": [
      "10 --> [100, 200, 300, 400]\n",
      "20 --> (500, 600, 700)\n"
     ]
    }
   ],
   "source": [
    "for k,v in d1.items():\n",
    "    print(k,\"-->\", v)\n",
    "                "
   ]
  },
  {
   "cell_type": "markdown",
   "metadata": {},
   "source": [
    "---"
   ]
  },
  {
   "cell_type": "markdown",
   "metadata": {},
   "source": [
    "###  Pre-defined Functions in dect\n",
    "\n",
    "* There are 9 types of pre defined functions in dict category data type. They are\n",
    "\n",
    "    * <font color='#3498DB'>**clear()**</font>\n",
    "    * <font color='#3498DB'>**pop()**</font>\n",
    "    * <font color='#3498DB'>**popitem()**</font>\n",
    "    * <font color='#3498DB'>**get()**</font>\n",
    "    * <font color='#3498DB'>**keys()**</font>\n",
    "    * <font color='#3498DB'>**values()**</font>\n",
    "    * <font color='#3498DB'>**items()**</font>\n",
    "    * <font color='#3498DB'>**copy()**</font>\n",
    "    * <font color='#3498DB'>**update()**</font>\n",
    "    * <font color='#3498DB'>**setdefault()**</font>\n"
   ]
  },
  {
   "cell_type": "markdown",
   "metadata": {},
   "source": [
    "### <font color='#3498DB'>**1. clear()**</font>\n",
    "* This is used for **removing all the entires of dict objct**.\n",
    "\n",
    " ##### Syntax:-\n",
    "   <code><font color='#D2691E'>**dictobj.clear()**</font></code>\n",
    " \n",
    "##### Examples:"
   ]
  },
  {
   "cell_type": "code",
   "execution_count": 28,
   "metadata": {},
   "outputs": [
    {
     "name": "stdout",
     "output_type": "stream",
     "text": [
      "{10: 'apple', 20: 'mango', 30: 'orange'} 3 <class 'dict'> 2539317223616\n"
     ]
    }
   ],
   "source": [
    "d1={10:\"apple\", 20:\"mango\", 30:\"orange\"}\n",
    "print(d1, len(d1), type(d1),id(d1))"
   ]
  },
  {
   "cell_type": "code",
   "execution_count": 30,
   "metadata": {},
   "outputs": [
    {
     "name": "stdout",
     "output_type": "stream",
     "text": [
      "{} 0 <class 'dict'> 2539317223616\n"
     ]
    }
   ],
   "source": [
    "d1.clear()\n",
    "print(d1, len(d1), type(d1),id(d1))"
   ]
  },
  {
   "cell_type": "markdown",
   "metadata": {},
   "source": [
    "### <font color='#3498DB'>**2. pop()**</font>\n",
    "* This function is used for **removing (Key,Value)** from dict object by **passing Value of Key**.\n",
    "* If the Value of Key does not exists in dict object then we get <font color='red'>**KeyError**</font>.\n",
    "\n",
    " ##### Syntax:-\n",
    "   <code><font color='#D2691E'>**dictobj.pop(key)**</font></code>\n",
    " \n",
    "##### Examples:"
   ]
  },
  {
   "cell_type": "code",
   "execution_count": 31,
   "metadata": {},
   "outputs": [
    {
     "data": {
      "text/plain": [
       "'apple'"
      ]
     },
     "execution_count": 31,
     "metadata": {},
     "output_type": "execute_result"
    }
   ],
   "source": [
    "d1={10:\"apple\", 20:\"mango\", 30:\"orange\"}\n",
    "d1.pop(10)"
   ]
  },
  {
   "cell_type": "code",
   "execution_count": 32,
   "metadata": {},
   "outputs": [
    {
     "ename": "KeyError",
     "evalue": "100",
     "output_type": "error",
     "traceback": [
      "\u001b[1;31m---------------------------------------------------------------------------\u001b[0m",
      "\u001b[1;31mKeyError\u001b[0m                                  Traceback (most recent call last)",
      "\u001b[1;32m<ipython-input-32-88b98e3aafaa>\u001b[0m in \u001b[0;36m<module>\u001b[1;34m\u001b[0m\n\u001b[1;32m----> 1\u001b[1;33m \u001b[0md1\u001b[0m\u001b[1;33m.\u001b[0m\u001b[0mpop\u001b[0m\u001b[1;33m(\u001b[0m\u001b[1;36m100\u001b[0m\u001b[1;33m)\u001b[0m\u001b[1;33m\u001b[0m\u001b[1;33m\u001b[0m\u001b[0m\n\u001b[0m",
      "\u001b[1;31mKeyError\u001b[0m: 100"
     ]
    }
   ],
   "source": [
    "d1.pop(100)"
   ]
  },
  {
   "cell_type": "markdown",
   "metadata": {},
   "source": [
    "### <font color='#3498DB'>**3. popitem()**</font>\n",
    "* This Function is used for **removing the last (Key,Value )** from dict object\n",
    "* When we call **popitem() upon empty dict** object then we get <font color='red'>**KeyError**</font>.\n",
    "\n",
    " ##### Syntax:-\n",
    "   <code><font color='#D2691E'>**dictobj.popitem()**</font></code>\n",
    " \n",
    "##### Examples:"
   ]
  },
  {
   "cell_type": "code",
   "execution_count": 33,
   "metadata": {},
   "outputs": [
    {
     "name": "stdout",
     "output_type": "stream",
     "text": [
      "{10: 'apple', 20: 'mango', 30: 'orange'}\n"
     ]
    }
   ],
   "source": [
    "d1={10:\"apple\", 20:\"mango\", 30:\"orange\"}\n",
    "print(d1)"
   ]
  },
  {
   "cell_type": "code",
   "execution_count": 34,
   "metadata": {},
   "outputs": [
    {
     "data": {
      "text/plain": [
       "(30, 'orange')"
      ]
     },
     "execution_count": 34,
     "metadata": {},
     "output_type": "execute_result"
    }
   ],
   "source": [
    "d1.popitem()"
   ]
  },
  {
   "cell_type": "code",
   "execution_count": 35,
   "metadata": {},
   "outputs": [
    {
     "data": {
      "text/plain": [
       "(20, 'mango')"
      ]
     },
     "execution_count": 35,
     "metadata": {},
     "output_type": "execute_result"
    }
   ],
   "source": [
    "d1.popitem()"
   ]
  },
  {
   "cell_type": "code",
   "execution_count": 36,
   "metadata": {},
   "outputs": [
    {
     "data": {
      "text/plain": [
       "(10, 'apple')"
      ]
     },
     "execution_count": 36,
     "metadata": {},
     "output_type": "execute_result"
    }
   ],
   "source": [
    "d1.popitem()"
   ]
  },
  {
   "cell_type": "code",
   "execution_count": 37,
   "metadata": {},
   "outputs": [
    {
     "ename": "KeyError",
     "evalue": "'popitem(): dictionary is empty'",
     "output_type": "error",
     "traceback": [
      "\u001b[1;31m---------------------------------------------------------------------------\u001b[0m",
      "\u001b[1;31mKeyError\u001b[0m                                  Traceback (most recent call last)",
      "\u001b[1;32m<ipython-input-37-15194deabd0c>\u001b[0m in \u001b[0;36m<module>\u001b[1;34m\u001b[0m\n\u001b[1;32m----> 1\u001b[1;33m \u001b[0md1\u001b[0m\u001b[1;33m.\u001b[0m\u001b[0mpopitem\u001b[0m\u001b[1;33m(\u001b[0m\u001b[1;33m)\u001b[0m\u001b[1;33m\u001b[0m\u001b[1;33m\u001b[0m\u001b[0m\n\u001b[0m",
      "\u001b[1;31mKeyError\u001b[0m: 'popitem(): dictionary is empty'"
     ]
    }
   ],
   "source": [
    "d1.popitem()"
   ]
  },
  {
   "cell_type": "markdown",
   "metadata": {},
   "source": [
    "### <font color='#3498DB'>**4. get()**</font>\n",
    "* This function is used for **obtaining  content of Value by passing content of Key**.\n",
    "* **If the value of Key does not exists** then we get <font color='#3498DB'>**None**</font>\n",
    "\n",
    " ##### Syntax:-\n",
    "   <code><font color='#D2691E'>**varname=dictobj.get(Key)**</font></code>\n",
    " \n",
    "##### Examples:"
   ]
  },
  {
   "cell_type": "code",
   "execution_count": 38,
   "metadata": {},
   "outputs": [
    {
     "name": "stdout",
     "output_type": "stream",
     "text": [
      "{10: 'apple', 20: 'mango', 30: 'orange'}\n"
     ]
    }
   ],
   "source": [
    "d1={10:\"apple\", 20:\"mango\", 30:\"orange\"}\n",
    "print(d1)"
   ]
  },
  {
   "cell_type": "code",
   "execution_count": 43,
   "metadata": {},
   "outputs": [
    {
     "name": "stdout",
     "output_type": "stream",
     "text": [
      "apple\n"
     ]
    }
   ],
   "source": [
    "d2=d1.get(10)\n",
    "print(d2)"
   ]
  },
  {
   "cell_type": "code",
   "execution_count": 42,
   "metadata": {},
   "outputs": [
    {
     "name": "stdout",
     "output_type": "stream",
     "text": [
      "mango\n"
     ]
    }
   ],
   "source": [
    "d3=d1.get(20)\n",
    "print(d3)"
   ]
  },
  {
   "cell_type": "code",
   "execution_count": 46,
   "metadata": {},
   "outputs": [
    {
     "name": "stdout",
     "output_type": "stream",
     "text": [
      "None\n"
     ]
    }
   ],
   "source": [
    "d4=d1.get(21)\n",
    "print(d4)"
   ]
  },
  {
   "cell_type": "markdown",
   "metadata": {},
   "source": [
    "### <font color='#3498DB'>**5. keys()**</font>\n",
    "* This Function **obtains list of keys from non-empty dict** object.\n",
    "* When we **call keys() upon empty dict** then we get **empty list**\n",
    "\n",
    " ##### Syntax:-\n",
    "   <code><font color='#D2691E'>**keys=dictobj.keys()**</font></code>\n",
    " \n",
    "##### Examples:"
   ]
  },
  {
   "cell_type": "code",
   "execution_count": 51,
   "metadata": {},
   "outputs": [
    {
     "name": "stdout",
     "output_type": "stream",
     "text": [
      "{'Apple': 25, 'Kiwi': 30, 'Sberry': 10, 'Mango': 80}\n"
     ]
    }
   ],
   "source": [
    "d1={'Apple': 25, 'Kiwi': 30, 'Sberry': 10, 'Mango': 80}\n",
    "print(d1)"
   ]
  },
  {
   "cell_type": "code",
   "execution_count": 52,
   "metadata": {},
   "outputs": [
    {
     "data": {
      "text/plain": [
       "dict_keys(['Apple', 'Kiwi', 'Sberry', 'Mango'])"
      ]
     },
     "execution_count": 52,
     "metadata": {},
     "output_type": "execute_result"
    }
   ],
   "source": [
    "d1.keys()"
   ]
  },
  {
   "cell_type": "code",
   "execution_count": 53,
   "metadata": {},
   "outputs": [
    {
     "name": "stdout",
     "output_type": "stream",
     "text": [
      "dict_keys(['Apple', 'Kiwi', 'Sberry', 'Mango'])\n"
     ]
    }
   ],
   "source": [
    "d2=d1.keys()\n",
    "print(d2)"
   ]
  },
  {
   "cell_type": "markdown",
   "metadata": {},
   "source": [
    "**OR**"
   ]
  },
  {
   "cell_type": "code",
   "execution_count": 54,
   "metadata": {},
   "outputs": [
    {
     "name": "stdout",
     "output_type": "stream",
     "text": [
      "Apple\n",
      "Kiwi\n",
      "Sberry\n",
      "Mango\n"
     ]
    }
   ],
   "source": [
    "for k in d1.keys():\n",
    "    print(k)"
   ]
  },
  {
   "cell_type": "markdown",
   "metadata": {},
   "source": [
    "**Special cases**"
   ]
  },
  {
   "cell_type": "code",
   "execution_count": 55,
   "metadata": {},
   "outputs": [
    {
     "data": {
      "text/plain": [
       "dict_keys([])"
      ]
     },
     "execution_count": 55,
     "metadata": {},
     "output_type": "execute_result"
    }
   ],
   "source": [
    "dict().keys()"
   ]
  },
  {
   "cell_type": "code",
   "execution_count": 56,
   "metadata": {},
   "outputs": [
    {
     "data": {
      "text/plain": [
       "dict_keys([])"
      ]
     },
     "execution_count": 56,
     "metadata": {},
     "output_type": "execute_result"
    }
   ],
   "source": [
    "{}.keys()"
   ]
  },
  {
   "cell_type": "code",
   "execution_count": 57,
   "metadata": {},
   "outputs": [
    {
     "data": {
      "text/plain": [
       "dict_keys(['Apple', 'Kiwi', 'Sberry', 'Mango'])"
      ]
     },
     "execution_count": 57,
     "metadata": {},
     "output_type": "execute_result"
    }
   ],
   "source": [
    "{'Apple': 25.67, 'Kiwi': 30, 'Sberry': 100.34, 'Mango': 80}.keys()"
   ]
  },
  {
   "cell_type": "markdown",
   "metadata": {},
   "source": [
    "### <font color='#3498DB'>**6. values()**</font>\n",
    "* This Function obtains **list of values from non-empty dict object**.\n",
    "* When we **call values() upon empty dict** then we get **empty list**\n",
    "\n",
    " ##### Syntax:-\n",
    "   <code><font color='#D2691E'>**values=dictobj.values()**</font></code>\n",
    " \n",
    "##### Examples:"
   ]
  },
  {
   "cell_type": "code",
   "execution_count": 58,
   "metadata": {},
   "outputs": [
    {
     "name": "stdout",
     "output_type": "stream",
     "text": [
      "{'Apple': 25, 'Kiwi': 30, 'Sberry': 10, 'Mango': 80}\n"
     ]
    }
   ],
   "source": [
    "d1={'Apple': 25, 'Kiwi': 30, 'Sberry': 10, 'Mango': 80}\n",
    "print(d1)"
   ]
  },
  {
   "cell_type": "code",
   "execution_count": 59,
   "metadata": {},
   "outputs": [
    {
     "data": {
      "text/plain": [
       "dict_values([25, 30, 10, 80])"
      ]
     },
     "execution_count": 59,
     "metadata": {},
     "output_type": "execute_result"
    }
   ],
   "source": [
    "d1.values()"
   ]
  },
  {
   "cell_type": "code",
   "execution_count": 60,
   "metadata": {},
   "outputs": [
    {
     "name": "stdout",
     "output_type": "stream",
     "text": [
      "dict_values([25, 30, 10, 80])\n"
     ]
    }
   ],
   "source": [
    "vs=d1.values()\n",
    "print(vs)"
   ]
  },
  {
   "cell_type": "markdown",
   "metadata": {},
   "source": [
    "**Using for loops**"
   ]
  },
  {
   "cell_type": "code",
   "execution_count": 61,
   "metadata": {},
   "outputs": [
    {
     "name": "stdout",
     "output_type": "stream",
     "text": [
      "25\n",
      "30\n",
      "10\n",
      "80\n"
     ]
    }
   ],
   "source": [
    "for v in d1.values():\n",
    "    print(v)"
   ]
  },
  {
   "cell_type": "markdown",
   "metadata": {},
   "source": [
    "<font color='red'>**Special cases:**</font>"
   ]
  },
  {
   "cell_type": "code",
   "execution_count": 62,
   "metadata": {},
   "outputs": [
    {
     "data": {
      "text/plain": [
       "dict_values([25.67, 30, 100.34])"
      ]
     },
     "execution_count": 62,
     "metadata": {},
     "output_type": "execute_result"
    }
   ],
   "source": [
    "{'Apple': 25.67, 'Kiwi': 30, 'Sberry': 100.34,}.values()"
   ]
  },
  {
   "cell_type": "code",
   "execution_count": 63,
   "metadata": {},
   "outputs": [
    {
     "data": {
      "text/plain": [
       "dict_values([])"
      ]
     },
     "execution_count": 63,
     "metadata": {},
     "output_type": "execute_result"
    }
   ],
   "source": [
    "{}.values()"
   ]
  },
  {
   "cell_type": "code",
   "execution_count": 64,
   "metadata": {},
   "outputs": [
    {
     "data": {
      "text/plain": [
       "dict_values([])"
      ]
     },
     "execution_count": 64,
     "metadata": {},
     "output_type": "execute_result"
    }
   ],
   "source": [
    "dict().values()"
   ]
  },
  {
   "cell_type": "code",
   "execution_count": 65,
   "metadata": {},
   "outputs": [
    {
     "name": "stdout",
     "output_type": "stream",
     "text": [
      "{'Apple': 25.67, 'Kiwi': 30, 'Sberry': 100.34, 'Mango': 80}\n"
     ]
    }
   ],
   "source": [
    "d1={'Apple': 25.67, 'Kiwi': 30, 'Sberry': 100.34, 'Mango': 80}\n",
    "print(d1)"
   ]
  },
  {
   "cell_type": "code",
   "execution_count": 66,
   "metadata": {},
   "outputs": [
    {
     "name": "stdout",
     "output_type": "stream",
     "text": [
      "Apple\n",
      "Kiwi\n",
      "Sberry\n",
      "Mango\n"
     ]
    }
   ],
   "source": [
    "for x in d1:\n",
    "    print(x)"
   ]
  },
  {
   "cell_type": "markdown",
   "metadata": {},
   "source": [
    "### <font color='#3498DB'>**7. items()**</font>\n",
    "* This function obtains **all (Key,value**) from from dict object in the form **tuple**.\n",
    "* when we **call items() upon empty dict** object then we get **empty list**.\n",
    "\n",
    " ##### Syntax:-\n",
    "   <code><font color='#D2691E'>**keyvalue=dictobj.items()**</font></code>\n",
    " \n",
    "##### Examples:"
   ]
  },
  {
   "cell_type": "code",
   "execution_count": 67,
   "metadata": {},
   "outputs": [],
   "source": [
    "d1={'Apple': 25.67, 'Kiwi': 30, 'Sberry': 100.34, 'Mango': 80}\n",
    "kv=d1.items()"
   ]
  },
  {
   "cell_type": "code",
   "execution_count": 68,
   "metadata": {},
   "outputs": [
    {
     "name": "stdout",
     "output_type": "stream",
     "text": [
      "dict_items([('Apple', 25.67), ('Kiwi', 30), ('Sberry', 100.34), ('Mango', 80)])\n"
     ]
    }
   ],
   "source": [
    "print(kv)"
   ]
  },
  {
   "cell_type": "markdown",
   "metadata": {},
   "source": [
    "**using for loop**"
   ]
  },
  {
   "cell_type": "code",
   "execution_count": 69,
   "metadata": {},
   "outputs": [
    {
     "name": "stdout",
     "output_type": "stream",
     "text": [
      "('Apple', 25.67)\n",
      "('Kiwi', 30)\n",
      "('Sberry', 100.34)\n",
      "('Mango', 80)\n"
     ]
    }
   ],
   "source": [
    "for kv in d1.items():\n",
    "    print(kv)"
   ]
  },
  {
   "cell_type": "code",
   "execution_count": 70,
   "metadata": {},
   "outputs": [
    {
     "data": {
      "text/plain": [
       "dict_items([])"
      ]
     },
     "execution_count": 70,
     "metadata": {},
     "output_type": "execute_result"
    }
   ],
   "source": [
    "dict().items()"
   ]
  },
  {
   "cell_type": "markdown",
   "metadata": {},
   "source": [
    "### <font color='#3498DB'>**8. copy()**</font>\n",
    "* This function is used for copying the content of one dict object into another dict object **(shallow Copy)**.\n",
    "\n",
    " ##### Syntax:-\n",
    "   <code><font color='#D2691E'>**dictobj2=dictobj1.copy()**</font></code>\n",
    " \n",
    "##### Examples:"
   ]
  },
  {
   "cell_type": "code",
   "execution_count": 71,
   "metadata": {},
   "outputs": [
    {
     "name": "stdout",
     "output_type": "stream",
     "text": [
      "{'Apple': 25.67, 'Kiwi': 30} 2539317300864\n",
      "{'Apple': 25.67, 'Kiwi': 30} 2539317300416\n"
     ]
    }
   ],
   "source": [
    "d1={'Apple': 25.67, 'Kiwi': 30}\n",
    "print(d1,id(d1))\n",
    "d2=d1.copy()\n",
    "print(d2,id(d2))\n"
   ]
  },
  {
   "cell_type": "code",
   "execution_count": 72,
   "metadata": {},
   "outputs": [],
   "source": [
    "d2[\"Sberry\"]=23.45\n",
    "d1[\"Guava\"]=60"
   ]
  },
  {
   "cell_type": "code",
   "execution_count": 73,
   "metadata": {},
   "outputs": [
    {
     "name": "stdout",
     "output_type": "stream",
     "text": [
      "{'Apple': 25.67, 'Kiwi': 30, 'Guava': 60} 2539317300864\n",
      "{'Apple': 25.67, 'Kiwi': 30, 'Sberry': 23.45} 2539317300416\n"
     ]
    }
   ],
   "source": [
    "print(d1,id(d1))\n",
    "print(d2,id(d2))\n"
   ]
  },
  {
   "cell_type": "markdown",
   "metadata": {},
   "source": [
    "### <font color='#3498DB'>**9. update()**</font>\n",
    "* This Function updates / adds the elements of one dict object into another dict object.\n",
    "\n",
    " ##### Syntax:-\n",
    "   <code><font color='#D2691E'>**dictobj1.update(dictobj2)**</font></code>\n",
    " \n",
    "##### Examples:"
   ]
  },
  {
   "cell_type": "code",
   "execution_count": 1,
   "metadata": {},
   "outputs": [],
   "source": [
    "d1={\"Praveen\":\"Python\",\"Kiran\":\"Java\"}\n",
    "d2={\"RS\":\"Django\",\"DR\":\"C\"}\n",
    "d3=d1.update(d2)\n"
   ]
  },
  {
   "cell_type": "code",
   "execution_count": 2,
   "metadata": {},
   "outputs": [
    {
     "name": "stdout",
     "output_type": "stream",
     "text": [
      "{'Praveen': 'Python', 'Kiran': 'Java', 'RS': 'Django', 'DR': 'C'}\n",
      "{'RS': 'Django', 'DR': 'C'}\n",
      "None\n"
     ]
    }
   ],
   "source": [
    "print(d1)\n",
    "print(d2)\n",
    "print(d3)"
   ]
  },
  {
   "cell_type": "code",
   "execution_count": 3,
   "metadata": {},
   "outputs": [
    {
     "name": "stdout",
     "output_type": "stream",
     "text": [
      "{'Praveen': 'Django', 'Kiran': 'Java', 'DR': 'C'}\n",
      "{'Praveen': 'Django', 'DR': 'C'}\n"
     ]
    }
   ],
   "source": [
    "d1={\"Praveen\":\"Python\",\"Kiran\":\"Java\"}\n",
    "d2={\"Praveen\":\"Django\",\"DR\":\"C\"}\n",
    "d1.update(d2)\n",
    "print(d1)\n",
    "print(d2)"
   ]
  },
  {
   "cell_type": "markdown",
   "metadata": {},
   "source": [
    "### <font color='#3498DB'>**10. setdefault()**</font>\n",
    "* This function set a value in a dictionary for a certain key only if that key does not already have a value.\n",
    "\n",
    " ##### Syntax:-\n",
    "   <code><font color='#D2691E'>**dictobj1.setdefault(key,value)**</font></code>\n",
    " \n",
    "##### Examples:\n",
    "\n"
   ]
  },
  {
   "cell_type": "code",
   "execution_count": 1,
   "metadata": {},
   "outputs": [],
   "source": [
    "spam = {'name': 'Pooka', 'age': 5}\n",
    "if 'color' not in spam:\n",
    "    spam['color'] = 'black'"
   ]
  },
  {
   "cell_type": "markdown",
   "metadata": {},
   "source": [
    "* The same can be achieved in single line of code"
   ]
  },
  {
   "cell_type": "code",
   "execution_count": 2,
   "metadata": {},
   "outputs": [
    {
     "data": {
      "text/plain": [
       "'black'"
      ]
     },
     "execution_count": 2,
     "metadata": {},
     "output_type": "execute_result"
    }
   ],
   "source": [
    "spam.setdefault('color', 'black')"
   ]
  },
  {
   "cell_type": "markdown",
   "metadata": {},
   "source": [
    "**Write a python program to counts the number of occurrences of each letter in a string**"
   ]
  },
  {
   "cell_type": "code",
   "execution_count": 3,
   "metadata": {
    "run_control": {
     "marked": false
    }
   },
   "outputs": [
    {
     "name": "stdout",
     "output_type": "stream",
     "text": [
      "{'I': 1, 't': 6, ' ': 13, 'w': 2, 'a': 4, 's': 3, 'b': 1, 'r': 5, 'i': 6, 'g': 2, 'h': 3, 'c': 3, 'o': 2, 'l': 3, 'd': 3, 'y': 1, 'n': 4, 'A': 1, 'p': 1, ',': 1, 'e': 5, 'k': 2, '.': 1}\n"
     ]
    }
   ],
   "source": [
    "message = 'It was a bright cold day in April, and the clocks were striking thirteen.'\n",
    "count = {}\n",
    "\n",
    "for character in message:\n",
    "    count.setdefault(character, 0)\n",
    "    count[character] = count[character] + 1\n",
    "\n",
    "print(count)"
   ]
  },
  {
   "cell_type": "markdown",
   "metadata": {},
   "source": [
    "### <font color='#3498DB'>**10. pretty print**</font>\n",
    "* If you import the pprint module into your programs, you’ll have access to the pprint() and pformat() functions that will “pretty print” a dictionary’s values.\n",
    "\n",
    " ##### Syntax:-\n",
    "   <code><font color='#D2691E'>**import pprint<br>\n",
    "   `-----\n",
    "   -----`<br>\n",
    "   `pprint.pprint(ObjectName)`**</font></code>\n",
    " \n",
    "##### Examples:"
   ]
  },
  {
   "cell_type": "code",
   "execution_count": 4,
   "metadata": {},
   "outputs": [
    {
     "name": "stdout",
     "output_type": "stream",
     "text": [
      "{' ': 13,\n",
      " ',': 1,\n",
      " '.': 1,\n",
      " 'A': 1,\n",
      " 'I': 1,\n",
      " 'a': 4,\n",
      " 'b': 1,\n",
      " 'c': 3,\n",
      " 'd': 3,\n",
      " 'e': 5,\n",
      " 'g': 2,\n",
      " 'h': 3,\n",
      " 'i': 6,\n",
      " 'k': 2,\n",
      " 'l': 3,\n",
      " 'n': 4,\n",
      " 'o': 2,\n",
      " 'p': 1,\n",
      " 'r': 5,\n",
      " 's': 3,\n",
      " 't': 6,\n",
      " 'w': 2,\n",
      " 'y': 1}\n"
     ]
    }
   ],
   "source": [
    "message = 'It was a bright cold day in April, and the clocks were striking thirteen.'\n",
    "count = {}\n",
    "import pprint\n",
    "for character in message:\n",
    "    count.setdefault(character, 0)\n",
    "    count[character] = count[character] + 1\n",
    "\n",
    "pprint.pprint(count)"
   ]
  },
  {
   "cell_type": "code",
   "execution_count": 16,
   "metadata": {},
   "outputs": [
    {
     "name": "stdout",
     "output_type": "stream",
     "text": [
      "[{...}, {...}, {...}]\n",
      "[{'name': 'Anu ', 'marks': (25, 39)}, {'name': 'Roshni', 'gps': (40, 44)}, {'name': 'Vaishnavi', 'gps': (49, 50)}]\n",
      "[{'marks': (25, 39), 'name': 'Anu '},\n",
      " {'gps': (40, 44), 'name': 'Roshni'},\n",
      " {'gps': (49, 50), 'name': 'Vaishnavi'}]\n"
     ]
    }
   ],
   "source": [
    "import pprint\n",
    "Student = [\n",
    "   {\n",
    "       \"name\": \"Anu \",\n",
    "       \"marks\": (25,39)\n",
    "   },\n",
    "   {\n",
    "       \"name\": \"Roshni\",\n",
    "       \"gps\": (40, 44)\n",
    "   },\n",
    "   {\n",
    "       \"name\": \"Vaishnavi\",\n",
    "       \"gps\": (49, 50)\n",
    "   }\n",
    "]\n",
    "pprint.pprint(Student, depth=1)\n",
    "print(Student)\n",
    "pprint.pprint(Student)\n"
   ]
  },
  {
   "cell_type": "code",
   "execution_count": null,
   "metadata": {},
   "outputs": [],
   "source": []
  }
 ],
 "metadata": {
  "kernelspec": {
   "display_name": "Python 3",
   "language": "python",
   "name": "python3"
  },
  "language_info": {
   "codemirror_mode": {
    "name": "ipython",
    "version": 3
   },
   "file_extension": ".py",
   "mimetype": "text/x-python",
   "name": "python",
   "nbconvert_exporter": "python",
   "pygments_lexer": "ipython3",
   "version": "3.8.5"
  }
 },
 "nbformat": 4,
 "nbformat_minor": 4
}
