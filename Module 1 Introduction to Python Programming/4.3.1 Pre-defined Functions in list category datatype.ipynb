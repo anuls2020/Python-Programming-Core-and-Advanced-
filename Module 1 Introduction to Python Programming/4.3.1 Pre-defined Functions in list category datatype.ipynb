{
 "cells": [
  {
   "cell_type": "markdown",
   "metadata": {},
   "source": [
    "## Pre-defined Functions in list category datatypes\n",
    "\n",
    "\n",
    "- In addition to the indexing and slicing Operation on list, we can also perform Various additional operations by using Pre-defined Functions present in list.\n",
    "- The pre-defined functions in list are\n",
    "     1. <font color='#3498DB'>**append()**</font>\n",
    "     2. <font color='#3498DB'>**insert()**</font>\n",
    "     3. <font color='#3498DB'>**clear()**</font>\n",
    "     4. <font color='#3498DB'>**remove()**</font>\n",
    "     5. <font color='#3498DB'>**pop(Index)**</font>\n",
    "     6. <font color='#3498DB'>**pop()**</font>\n",
    "     7. <font color='#3498DB'>**copy()**</font>   \n",
    "     8. <font color='#3498DB'>**count()**</font>\n",
    "     9. <font color='#3498DB'>**index()**</font>\n",
    "     10. <font color='#3498DB'>**reverse()**</font>\n",
    "     11. <font color='#3498DB'>**sort()**</font>\n",
    "     12. <font color='#3498DB'>**extend()**</font>"
   ]
  },
  {
   "cell_type": "markdown",
   "metadata": {},
   "source": [
    "###  <font color='#3498DB'>**1) append():**</font>\n",
    "\n",
    "- This Function is used for **adding the values to the list at the end of existing elements of list**.\n",
    "##### Syntax:-     \n",
    "<code><font color='#D2691E'>**listobj.append(element)**</font></code>\n",
    "\n",
    "##### Examples:\n"
   ]
  },
  {
   "cell_type": "code",
   "execution_count": 8,
   "metadata": {},
   "outputs": [
    {
     "name": "stdout",
     "output_type": "stream",
     "text": [
      "0\n",
      "[10] <class 'list'>\n",
      "1\n",
      "[10, 'ROSUUM'] <class 'list'>\n",
      "[10, 'ROSUUM', 10.22] <class 'list'>\n"
     ]
    }
   ],
   "source": [
    "l1=[]\n",
    "print(len(l1))\n",
    "l1.append(10)\n",
    "print(l1, type(l1))\n",
    "print(len(l1))\n",
    "l1.append(\"ROSUUM\")\n",
    "print(l1, type(l1))\n",
    "l1.append(10.22)\n",
    "print(l1, type(l1))"
   ]
  },
  {
   "cell_type": "code",
   "execution_count": 10,
   "metadata": {},
   "outputs": [
    {
     "name": "stdout",
     "output_type": "stream",
     "text": [
      "[10, 20, 30, 40, -45, 'Hyd'] <class 'list'>\n"
     ]
    }
   ],
   "source": [
    "l2=[10,20,30,40,-45]\n",
    "l2.append(\"Hyd\")\n",
    "print(l2, type(l2))"
   ]
  },
  {
   "cell_type": "markdown",
   "metadata": {},
   "source": [
    "### <font color='#3498DB'>**2) insert():**</font>\n",
    "\n",
    "- This Function is used for inserting a Value at a particular exiting index by passing **Index & Element**.\n",
    "##### Syntax:-     \n",
    "<code><font color='#D2691E'>**listobj.insert(index, element)**</font></code>\n",
    "\n",
    "##### Examples:\n"
   ]
  },
  {
   "cell_type": "code",
   "execution_count": 13,
   "metadata": {
    "scrolled": true
   },
   "outputs": [
    {
     "name": "stdout",
     "output_type": "stream",
     "text": [
      "[10, 20, 30, 40, -45]\n",
      "[10, 20, 'PYTHON', 30, 40, -45]\n",
      "[10, 'Rossum', 20, 'PYTHON', 30, 40, -45]\n"
     ]
    }
   ],
   "source": [
    "l1=[10,20,30,40,-45]\n",
    "print(l1)\n",
    "l1.insert(2,\"PYTHON\")\n",
    "print(l1)\n",
    "l1.insert(1,\"Rossum\")\n",
    "print(l1)\n"
   ]
  },
  {
   "cell_type": "markdown",
   "metadata": {},
   "source": [
    "<font color='red'>**Note:**</font>\n",
    "\n",
    "<code><font color='#D2691E'>**Please note down the following code; when we insert using the -ve index, it will insert the data after the specified index, that means, if we specify to insert the data at -3 index , the inserted data hving the index of -4 as shown below.**</font></code>"
   ]
  },
  {
   "cell_type": "code",
   "execution_count": 1,
   "metadata": {},
   "outputs": [
    {
     "name": "stdout",
     "output_type": "stream",
     "text": [
      "[10, 20, 44.44, 30, 40, -45]\n"
     ]
    }
   ],
   "source": [
    "l1=[10,20,30,40,-45]\n",
    "\n",
    "l1.insert(-3,44.44)\n",
    "print(l1)"
   ]
  },
  {
   "cell_type": "markdown",
   "metadata": {},
   "source": [
    "### <font color='#3498DB'>**3) clear():**</font>\n",
    "\n",
    "- This Function is used for **removing/deleting** all the elements of list object.\n",
    "##### Syntax:-     \n",
    "<code><font color='#D2691E'>**listobj.clear()**</font></code>\n",
    "\n",
    "##### Examples:\n"
   ]
  },
  {
   "cell_type": "code",
   "execution_count": 18,
   "metadata": {},
   "outputs": [
    {
     "name": "stdout",
     "output_type": "stream",
     "text": [
      "[10, 20, 30, 40, -45]\n",
      "5\n",
      "[]\n",
      "Length after clearing: 0\n"
     ]
    }
   ],
   "source": [
    "l1=[10,20,30,40,-45]\n",
    "print(l1)\n",
    "print(len(l1))\n",
    "l1.clear()\n",
    "print(l1)\n",
    "print(\"Length after clearing:\", len(l1))"
   ]
  },
  {
   "cell_type": "markdown",
   "metadata": {},
   "source": [
    "### <font color='#3498DB'>**4) remove():**</font>\n",
    "\n",
    "- This Function is used for **removing/deleting  First Occurence** of the specified element.\n",
    "- If the element is not present in list then we get <font color='red'>**ValueError**</font>\n",
    "##### Syntax:-     \n",
    "<code><font color='#D2691E'>**listobj.remove(element)**</font></code>\n",
    "\n",
    "##### Examples:\n"
   ]
  },
  {
   "cell_type": "code",
   "execution_count": 19,
   "metadata": {},
   "outputs": [
    {
     "name": "stdout",
     "output_type": "stream",
     "text": [
      "[10, 'Python', 'Java', 10, 23.45, 'PYTHON']\n"
     ]
    }
   ],
   "source": [
    "l1=[10,\"Python\",\"Java\",10,23.45,\"PYTHON\"]\n",
    "print(l1)\n"
   ]
  },
  {
   "cell_type": "code",
   "execution_count": 20,
   "metadata": {},
   "outputs": [
    {
     "name": "stdout",
     "output_type": "stream",
     "text": [
      "['Python', 'Java', 10, 23.45, 'PYTHON']\n"
     ]
    }
   ],
   "source": [
    "l1.remove(10)\n",
    "print(l1)\n"
   ]
  },
  {
   "cell_type": "code",
   "execution_count": 21,
   "metadata": {},
   "outputs": [
    {
     "name": "stdout",
     "output_type": "stream",
     "text": [
      "['Python', 'Java', 10, 23.45]\n"
     ]
    }
   ],
   "source": [
    "l1.remove(\"PYTHON\")\n",
    "print(l1)\n"
   ]
  },
  {
   "cell_type": "code",
   "execution_count": 22,
   "metadata": {},
   "outputs": [
    {
     "ename": "ValueError",
     "evalue": "list.remove(x): x not in list",
     "output_type": "error",
     "traceback": [
      "\u001b[1;31m---------------------------------------------------------------------------\u001b[0m",
      "\u001b[1;31mValueError\u001b[0m                                Traceback (most recent call last)",
      "\u001b[1;32m<ipython-input-22-28bfdce02f61>\u001b[0m in \u001b[0;36m<module>\u001b[1;34m\u001b[0m\n\u001b[1;32m----> 1\u001b[1;33m \u001b[0ml1\u001b[0m\u001b[1;33m.\u001b[0m\u001b[0mremove\u001b[0m\u001b[1;33m(\u001b[0m\u001b[1;36m100\u001b[0m\u001b[1;33m)\u001b[0m\u001b[1;33m\u001b[0m\u001b[1;33m\u001b[0m\u001b[0m\n\u001b[0m",
      "\u001b[1;31mValueError\u001b[0m: list.remove(x): x not in list"
     ]
    }
   ],
   "source": [
    "l1.remove(100)"
   ]
  },
  {
   "cell_type": "markdown",
   "metadata": {},
   "source": [
    "### <font color='#3498DB'>**5) pop(index):**</font>\n",
    "\n",
    "- This Function is used for **removing/deleting  First Occurence** of the specified element.\n",
    "- If the element is not present in list then we get <font color='red'>**ValueError**</font>\n",
    "##### Syntax:-     \n",
    "<code><font color='#D2691E'>**listobj.pop(index)**</font></code>\n",
    "\n",
    "##### Examples:\n"
   ]
  },
  {
   "cell_type": "code",
   "execution_count": 24,
   "metadata": {},
   "outputs": [
    {
     "name": "stdout",
     "output_type": "stream",
     "text": [
      "[10, 'Python', 'Java', 10, 23.45, 'PYTHON']\n",
      "[10, 'Python', 'Java', 23.45, 'PYTHON']\n"
     ]
    }
   ],
   "source": [
    "l1=[10,\"Python\",\"Java\",10,23.45,\"PYTHON\"]\n",
    "print(l1)\n",
    "l1.pop(3)\n",
    "print(l1)\n"
   ]
  },
  {
   "cell_type": "code",
   "execution_count": 25,
   "metadata": {},
   "outputs": [
    {
     "name": "stdout",
     "output_type": "stream",
     "text": [
      "[10, 'Python', 'Java', 'PYTHON']\n"
     ]
    }
   ],
   "source": [
    "l1.pop(-2)\n",
    "print(l1)\n"
   ]
  },
  {
   "cell_type": "code",
   "execution_count": 26,
   "metadata": {},
   "outputs": [
    {
     "ename": "IndexError",
     "evalue": "pop index out of range",
     "output_type": "error",
     "traceback": [
      "\u001b[1;31m---------------------------------------------------------------------------\u001b[0m",
      "\u001b[1;31mIndexError\u001b[0m                                Traceback (most recent call last)",
      "\u001b[1;32m<ipython-input-26-ccbc0c0b095b>\u001b[0m in \u001b[0;36m<module>\u001b[1;34m\u001b[0m\n\u001b[1;32m----> 1\u001b[1;33m \u001b[0ml1\u001b[0m\u001b[1;33m.\u001b[0m\u001b[0mpop\u001b[0m\u001b[1;33m(\u001b[0m\u001b[1;36m13\u001b[0m\u001b[1;33m)\u001b[0m\u001b[1;33m\u001b[0m\u001b[1;33m\u001b[0m\u001b[0m\n\u001b[0m",
      "\u001b[1;31mIndexError\u001b[0m: pop index out of range"
     ]
    }
   ],
   "source": [
    "l1.pop(13)\n"
   ]
  },
  {
   "cell_type": "code",
   "execution_count": 27,
   "metadata": {},
   "outputs": [
    {
     "ename": "IndexError",
     "evalue": "pop from empty list",
     "output_type": "error",
     "traceback": [
      "\u001b[1;31m---------------------------------------------------------------------------\u001b[0m",
      "\u001b[1;31mIndexError\u001b[0m                                Traceback (most recent call last)",
      "\u001b[1;32m<ipython-input-27-4e25d51bd727>\u001b[0m in \u001b[0;36m<module>\u001b[1;34m\u001b[0m\n\u001b[1;32m----> 1\u001b[1;33m \u001b[0mlist\u001b[0m\u001b[1;33m(\u001b[0m\u001b[1;33m)\u001b[0m\u001b[1;33m.\u001b[0m\u001b[0mpop\u001b[0m\u001b[1;33m(\u001b[0m\u001b[1;36m1\u001b[0m\u001b[1;33m)\u001b[0m\u001b[1;33m\u001b[0m\u001b[1;33m\u001b[0m\u001b[0m\n\u001b[0m",
      "\u001b[1;31mIndexError\u001b[0m: pop from empty list"
     ]
    }
   ],
   "source": [
    "list().pop(1)\n"
   ]
  },
  {
   "cell_type": "code",
   "execution_count": 28,
   "metadata": {},
   "outputs": [
    {
     "ename": "IndexError",
     "evalue": "pop from empty list",
     "output_type": "error",
     "traceback": [
      "\u001b[1;31m---------------------------------------------------------------------------\u001b[0m",
      "\u001b[1;31mIndexError\u001b[0m                                Traceback (most recent call last)",
      "\u001b[1;32m<ipython-input-28-987e72689c62>\u001b[0m in \u001b[0;36m<module>\u001b[1;34m\u001b[0m\n\u001b[1;32m----> 1\u001b[1;33m \u001b[1;33m[\u001b[0m\u001b[1;33m]\u001b[0m\u001b[1;33m.\u001b[0m\u001b[0mpop\u001b[0m\u001b[1;33m(\u001b[0m\u001b[1;33m-\u001b[0m\u001b[1;36m1\u001b[0m\u001b[1;33m)\u001b[0m\u001b[1;33m\u001b[0m\u001b[1;33m\u001b[0m\u001b[0m\n\u001b[0m",
      "\u001b[1;31mIndexError\u001b[0m: pop from empty list"
     ]
    }
   ],
   "source": [
    "[].pop(-1)"
   ]
  },
  {
   "cell_type": "markdown",
   "metadata": {},
   "source": [
    "### <font color='#3498DB'>**6) pop():**</font>\n",
    "\n",
    "- This Function is used for **removing last element of list object (last indexed element)**.\n",
    "- when we call pop() on empty list object then we get <font color='red'>**IndexError**</font>\n",
    "\n",
    "##### Syntax:-     \n",
    "<code><font color='#D2691E'>**listobj.pop()**</font></code>\n",
    "\n",
    "##### Examples:\n"
   ]
  },
  {
   "cell_type": "code",
   "execution_count": 13,
   "metadata": {},
   "outputs": [
    {
     "name": "stdout",
     "output_type": "stream",
     "text": [
      "Original list:\n",
      "[10, 20.34, 'Python', (2+4j), True]\n",
      "True\n",
      "[10, 20.34, 'Python', (2+4j)]\n",
      "(2+4j)\n",
      "[10, 20.34, 'Python']\n",
      "Python\n",
      "[10, 20.34]\n",
      "20.34\n",
      "[10]\n",
      "10\n",
      "[]\n"
     ]
    },
    {
     "ename": "IndexError",
     "evalue": "pop from empty list",
     "output_type": "error",
     "traceback": [
      "\u001b[1;31m---------------------------------------------------------------------------\u001b[0m",
      "\u001b[1;31mIndexError\u001b[0m                                Traceback (most recent call last)",
      "\u001b[1;32m<ipython-input-13-98579df3a490>\u001b[0m in \u001b[0;36m<module>\u001b[1;34m\u001b[0m\n\u001b[0;32m     12\u001b[0m \u001b[0mprint\u001b[0m\u001b[1;33m(\u001b[0m\u001b[0mlst\u001b[0m\u001b[1;33m.\u001b[0m\u001b[0mpop\u001b[0m\u001b[1;33m(\u001b[0m\u001b[1;33m)\u001b[0m\u001b[1;33m)\u001b[0m\u001b[1;33m\u001b[0m\u001b[1;33m\u001b[0m\u001b[0m\n\u001b[0;32m     13\u001b[0m \u001b[0mprint\u001b[0m\u001b[1;33m(\u001b[0m\u001b[0mlst\u001b[0m\u001b[1;33m)\u001b[0m\u001b[1;33m\u001b[0m\u001b[1;33m\u001b[0m\u001b[0m\n\u001b[1;32m---> 14\u001b[1;33m \u001b[0mprint\u001b[0m\u001b[1;33m(\u001b[0m\u001b[0mlst\u001b[0m\u001b[1;33m.\u001b[0m\u001b[0mpop\u001b[0m\u001b[1;33m(\u001b[0m\u001b[1;33m)\u001b[0m\u001b[1;33m)\u001b[0m\u001b[1;33m\u001b[0m\u001b[1;33m\u001b[0m\u001b[0m\n\u001b[0m\u001b[0;32m     15\u001b[0m \u001b[0mprint\u001b[0m\u001b[1;33m(\u001b[0m\u001b[0mlst\u001b[0m\u001b[1;33m)\u001b[0m\u001b[1;33m\u001b[0m\u001b[1;33m\u001b[0m\u001b[0m\n",
      "\u001b[1;31mIndexError\u001b[0m: pop from empty list"
     ]
    }
   ],
   "source": [
    "lst=[10, 20.34, \"Python\", 2+4j,True]\n",
    "print(\"Original list:\")\n",
    "print(lst)\n",
    "print(lst.pop())\n",
    "print(lst)\n",
    "print(lst.pop())\n",
    "print(lst)\n",
    "print(lst.pop())\n",
    "print(lst)\n",
    "print(lst.pop())\n",
    "print(lst)\n",
    "print(lst.pop())\n",
    "print(lst)\n",
    "print(lst.pop())\n",
    "print(lst)"
   ]
  },
  {
   "cell_type": "markdown",
   "metadata": {},
   "source": [
    "### <font color='#3498DB'>**7) copy():**</font>\n",
    "- This Function is used for **copying the content of one list object into another list object (<font color='red'>implementing shallow copy</font>)**.\n",
    "##### Syntax:-     \n",
    "> <code><font color='#D2691E'>**listobj2=listobj1.copy()**</font></code>\n",
    "#### <font color='#3498DB'>**Types of Copy Mechanisms**</font>\n",
    "        We have two types of Copy Process. They are\n",
    "            a) Shallow Copy\n",
    "            b) Deep Copy\n",
    "\n",
    "##### a) Shallow Copy:\n",
    "   - In shallow Copy\n",
    "     - Initial Content of both the objects are same.\n",
    "     - Both the objects contains different address.\n",
    "     - The Modifications on the objects are Independent.(Modifications are not recflected)\n",
    "   - Using the Shallow copy, we are creating an exact copy of the data in some other address and both the list were indiendent to each other. The changes in one list will never affect the data in the other list. \n",
    "   - To implement Shallow Copy, we use copy()\n",
    "   ##### Syntax of Shalow copy:-      \n",
    "   > <code><font color='#D2691E'>**listobj2=listobj1.copy()**</font></code>\n",
    " ##### a.1) Slicing Based Copy:\n",
    "   - This copy is also a Shallow Copy implementation.\n",
    " \n",
    "##### b) Deep Copy:\n",
    "   - In Deep Copy\n",
    "      - Initial Content of both the objects are same\n",
    "      - Both the objects contains Same Address\n",
    "      - The Modifications on the objects are dependent.(Modifications are  recflected to each other)\n",
    "   - To implement  Deep Copy, we use Assignment Operator\n",
    "   ##### Syntax of Deep Copy:-      \n",
    "   > <code><font color='#D2691E'>**objname1=objname2**</font></code>\n"
   ]
  },
  {
   "cell_type": "markdown",
   "metadata": {},
   "source": [
    "##### Examples of Shalow Copy:"
   ]
  },
  {
   "cell_type": "code",
   "execution_count": 40,
   "metadata": {},
   "outputs": [
    {
     "name": "stdout",
     "output_type": "stream",
     "text": [
      "[10, 20, 'Rossum', 'Python'] 2173007223616\n"
     ]
    }
   ],
   "source": [
    "lst1=[10,20,\"Rossum\",\"Python\"]\n",
    "print(lst1, id(lst1))"
   ]
  },
  {
   "cell_type": "code",
   "execution_count": 41,
   "metadata": {},
   "outputs": [
    {
     "name": "stdout",
     "output_type": "stream",
     "text": [
      "[10, 20, 'Rossum', 'Python'] 2173007158336\n"
     ]
    }
   ],
   "source": [
    "lst2=lst1.copy()\n",
    "print(lst2, id(lst2))"
   ]
  },
  {
   "cell_type": "code",
   "execution_count": 42,
   "metadata": {},
   "outputs": [
    {
     "name": "stdout",
     "output_type": "stream",
     "text": [
      "[10, 20, 'Rossum', 'Python', True] 2173007223616\n",
      "[10, 20, 'Rossum', 'Python'] 2173007158336\n"
     ]
    }
   ],
   "source": [
    "lst1.append(True)\n",
    "print(lst1, id(lst1))\n",
    "print(lst2, id(lst2))\n"
   ]
  },
  {
   "cell_type": "code",
   "execution_count": 43,
   "metadata": {},
   "outputs": [
    {
     "name": "stdout",
     "output_type": "stream",
     "text": [
      "[10, 20, 'JAVA', 'Rossum', 'Python'] 2173007158336\n"
     ]
    }
   ],
   "source": [
    "lst2.insert(2, \"JAVA\")\n",
    "print(lst2, id(lst2))"
   ]
  },
  {
   "cell_type": "markdown",
   "metadata": {},
   "source": [
    "##### Examples of Slicing based Copy:"
   ]
  },
  {
   "cell_type": "code",
   "execution_count": 33,
   "metadata": {},
   "outputs": [
    {
     "name": "stdout",
     "output_type": "stream",
     "text": [
      "[10, 'Python', 'Rossum', 34.56] 1720841584960\n"
     ]
    }
   ],
   "source": [
    "lst1=[10,\"Python\",\"Rossum\",34.56]\n",
    "print(lst1,id(lst1))"
   ]
  },
  {
   "cell_type": "code",
   "execution_count": 34,
   "metadata": {},
   "outputs": [
    {
     "name": "stdout",
     "output_type": "stream",
     "text": [
      "[10, 'Python', 'Rossum', 34.56] 1720842492160\n"
     ]
    }
   ],
   "source": [
    "lst2=lst1[::]\n",
    "print(lst2, id(lst2))"
   ]
  },
  {
   "cell_type": "markdown",
   "metadata": {},
   "source": [
    "*If we see here, the address of lst2 and lst1 are totally differrent. Some more examples given below.*"
   ]
  },
  {
   "cell_type": "code",
   "execution_count": 35,
   "metadata": {},
   "outputs": [
    {
     "name": "stdout",
     "output_type": "stream",
     "text": [
      "[10, 'Python', 'Rossum'] 1720841584960\n",
      "[10, 'Python', 'Rossum', 34.56] 1720842492160\n"
     ]
    }
   ],
   "source": [
    "lst1.remove(34.56)\n",
    "print(lst1,id(lst1))\n",
    "print(lst2,id(lst2))"
   ]
  },
  {
   "cell_type": "code",
   "execution_count": 36,
   "metadata": {},
   "outputs": [
    {
     "name": "stdout",
     "output_type": "stream",
     "text": [
      "[10, 'Python', 'Rossum'] 1720841801344\n"
     ]
    }
   ],
   "source": [
    "lst3=lst1[0:3]\n",
    "print(lst3, id(lst3))"
   ]
  },
  {
   "cell_type": "code",
   "execution_count": 37,
   "metadata": {},
   "outputs": [
    {
     "name": "stdout",
     "output_type": "stream",
     "text": [
      "[34.56, 'Rossum', 'Python', 10] 1720842916096\n"
     ]
    }
   ],
   "source": [
    "lst1=[10,\"Python\",\"Rossum\",34.56]\n",
    "lst4=lst1[::-1]\n",
    "print(lst4, id(lst4))"
   ]
  },
  {
   "cell_type": "markdown",
   "metadata": {},
   "source": [
    "### <font color='#3498DB'>**8) count():**</font>\n",
    "- This function is used for **counting/finding number of occurences of the specified element.**\n",
    "- If the specified element **does not exists** in list object then **we get 0.**\n",
    "\n",
    "##### Syntax:-     \n",
    "\n",
    "> <code><font color='#D2691E'>**listobj.count(element)**</font></code>"
   ]
  },
  {
   "cell_type": "markdown",
   "metadata": {},
   "source": [
    "##### Examples:"
   ]
  },
  {
   "cell_type": "code",
   "execution_count": 38,
   "metadata": {},
   "outputs": [
    {
     "data": {
      "text/plain": [
       "4"
      ]
     },
     "execution_count": 38,
     "metadata": {},
     "output_type": "execute_result"
    }
   ],
   "source": [
    "lst=[10,20,\"python\",10,\"python\",10,30,20,10]\n",
    "lst.count(10)"
   ]
  },
  {
   "cell_type": "code",
   "execution_count": 39,
   "metadata": {},
   "outputs": [
    {
     "data": {
      "text/plain": [
       "2"
      ]
     },
     "execution_count": 39,
     "metadata": {},
     "output_type": "execute_result"
    }
   ],
   "source": [
    "lst.count(20)"
   ]
  },
  {
   "cell_type": "code",
   "execution_count": 40,
   "metadata": {},
   "outputs": [
    {
     "data": {
      "text/plain": [
       "2"
      ]
     },
     "execution_count": 40,
     "metadata": {},
     "output_type": "execute_result"
    }
   ],
   "source": [
    "lst.count(\"python\")"
   ]
  },
  {
   "cell_type": "code",
   "execution_count": 41,
   "metadata": {},
   "outputs": [
    {
     "data": {
      "text/plain": [
       "1"
      ]
     },
     "execution_count": 41,
     "metadata": {},
     "output_type": "execute_result"
    }
   ],
   "source": [
    "lst.count(30)"
   ]
  },
  {
   "cell_type": "code",
   "execution_count": 42,
   "metadata": {},
   "outputs": [
    {
     "data": {
      "text/plain": [
       "0"
      ]
     },
     "execution_count": 42,
     "metadata": {},
     "output_type": "execute_result"
    }
   ],
   "source": [
    "lst.count(300)"
   ]
  },
  {
   "cell_type": "markdown",
   "metadata": {},
   "source": [
    "### <font color='#3498DB'>**9) index():**</font>\n",
    "- This function is used for **obtaining an index of the First occurence of specified element** \n",
    "- If **element does not exists in list** object then we get <font color='red'>**ValueError**</font>.\n",
    "\n",
    "##### Syntax:-     \n",
    "\n",
    "> <code><font color='#D2691E'>**listobj.index(element)**</font></code>"
   ]
  },
  {
   "cell_type": "markdown",
   "metadata": {},
   "source": [
    "##### Examples:"
   ]
  },
  {
   "cell_type": "code",
   "execution_count": 1,
   "metadata": {},
   "outputs": [],
   "source": [
    "lst=[10,20,\"python\",10,\"python\",10,30,20,10]"
   ]
  },
  {
   "cell_type": "code",
   "execution_count": 2,
   "metadata": {},
   "outputs": [
    {
     "name": "stdout",
     "output_type": "stream",
     "text": [
      "0\n"
     ]
    }
   ],
   "source": [
    "print(lst.index(10))"
   ]
  },
  {
   "cell_type": "code",
   "execution_count": 3,
   "metadata": {},
   "outputs": [
    {
     "name": "stdout",
     "output_type": "stream",
     "text": [
      "1\n"
     ]
    }
   ],
   "source": [
    "print(lst.index(20))"
   ]
  },
  {
   "cell_type": "code",
   "execution_count": 5,
   "metadata": {},
   "outputs": [
    {
     "name": "stdout",
     "output_type": "stream",
     "text": [
      "2\n"
     ]
    }
   ],
   "source": [
    "print(lst.index(\"python\"))"
   ]
  },
  {
   "cell_type": "code",
   "execution_count": 6,
   "metadata": {
    "scrolled": false
   },
   "outputs": [
    {
     "ename": "ValueError",
     "evalue": "'Python3.10' is not in list",
     "output_type": "error",
     "traceback": [
      "\u001b[1;31m---------------------------------------------------------------------------\u001b[0m",
      "\u001b[1;31mValueError\u001b[0m                                Traceback (most recent call last)",
      "\u001b[1;32m<ipython-input-6-be661e85bdc4>\u001b[0m in \u001b[0;36m<module>\u001b[1;34m\u001b[0m\n\u001b[1;32m----> 1\u001b[1;33m \u001b[0mprint\u001b[0m\u001b[1;33m(\u001b[0m\u001b[0mlst\u001b[0m\u001b[1;33m.\u001b[0m\u001b[0mindex\u001b[0m\u001b[1;33m(\u001b[0m\u001b[1;34m\"Python3.10\"\u001b[0m\u001b[1;33m)\u001b[0m\u001b[1;33m)\u001b[0m\u001b[1;33m\u001b[0m\u001b[1;33m\u001b[0m\u001b[0m\n\u001b[0m",
      "\u001b[1;31mValueError\u001b[0m: 'Python3.10' is not in list"
     ]
    }
   ],
   "source": [
    "print(lst.index(\"Python3.10\"))"
   ]
  },
  {
   "cell_type": "markdown",
   "metadata": {},
   "source": [
    "### <font color='#3498DB'>**10) reverse():**</font>\n",
    "- This function is used for **obtaining reverse of elements of list object** \n",
    "\n",
    "##### Syntax:-     \n",
    "\n",
    "> <code><font color='#D2691E'>**listobj.reverse()**</font></code>"
   ]
  },
  {
   "cell_type": "markdown",
   "metadata": {},
   "source": [
    "##### Examples:"
   ]
  },
  {
   "cell_type": "code",
   "execution_count": 7,
   "metadata": {},
   "outputs": [
    {
     "name": "stdout",
     "output_type": "stream",
     "text": [
      "[10, 'Python', 'Rossum', 34.56]\n"
     ]
    }
   ],
   "source": [
    "lst1=[10,\"Python\",\"Rossum\",34.56]\n",
    "print(lst1)"
   ]
  },
  {
   "cell_type": "code",
   "execution_count": 8,
   "metadata": {},
   "outputs": [
    {
     "name": "stdout",
     "output_type": "stream",
     "text": [
      "None\n"
     ]
    }
   ],
   "source": [
    "print(lst1.reverse())"
   ]
  },
  {
   "cell_type": "markdown",
   "metadata": {},
   "source": [
    "> <code><font color='#D2691E'>**Note:\n",
    "The above statement will return None as output because the reverse function just reverse the list object and not return anything to print in the output. "
   ]
  },
  {
   "cell_type": "code",
   "execution_count": 9,
   "metadata": {},
   "outputs": [
    {
     "name": "stdout",
     "output_type": "stream",
     "text": [
      "[34.56, 'Rossum', 'Python', 10]\n"
     ]
    }
   ],
   "source": [
    "print(lst1)"
   ]
  },
  {
   "cell_type": "code",
   "execution_count": 10,
   "metadata": {},
   "outputs": [
    {
     "data": {
      "text/plain": [
       "[34.56, 'Rossum', 'Python', 10]"
      ]
     },
     "execution_count": 10,
     "metadata": {},
     "output_type": "execute_result"
    }
   ],
   "source": [
    "lst1"
   ]
  },
  {
   "cell_type": "code",
   "execution_count": 12,
   "metadata": {},
   "outputs": [
    {
     "name": "stdout",
     "output_type": "stream",
     "text": [
      "[10, 20, 30, -23, 45, 2, 67, 34]\n"
     ]
    }
   ],
   "source": [
    "lst2=[10,20,30,-23,45,2,67,34]\n",
    "print(lst2)"
   ]
  },
  {
   "cell_type": "code",
   "execution_count": 15,
   "metadata": {},
   "outputs": [],
   "source": [
    "lst2.reverse()"
   ]
  },
  {
   "cell_type": "code",
   "execution_count": 16,
   "metadata": {},
   "outputs": [
    {
     "name": "stdout",
     "output_type": "stream",
     "text": [
      "[34, 67, 2, 45, -23, 30, 20, 10]\n"
     ]
    }
   ],
   "source": [
    "print(lst2)"
   ]
  },
  {
   "cell_type": "markdown",
   "metadata": {},
   "source": [
    "### <font color='#3498DB'>**11) sort():**</font>\n",
    "- This function is used for **sorting the given homogeneous data of list object either Ascending Order or in Descending  order.** \n",
    "\n",
    "##### Syntax:-     \n",
    "\n",
    "> <code><font color='#D2691E'>**listobj.sort(reverse=False/True )**</font></code>\n",
    "\n",
    "- If reverse=False then sort() sorts the data in Ascending order\n",
    "- If reverse=True then sort() sorts the data in Decending order\n",
    "- If we don't write reverse=False then ity similar to sort() and sorts the data in Ascending order"
   ]
  },
  {
   "cell_type": "markdown",
   "metadata": {},
   "source": [
    "##### Examples:"
   ]
  },
  {
   "cell_type": "code",
   "execution_count": 17,
   "metadata": {},
   "outputs": [
    {
     "name": "stdout",
     "output_type": "stream",
     "text": [
      "[10, 20, 30, -23, 45, 2, 67, 34]\n",
      "[-23, 2, 10, 20, 30, 34, 45, 67]\n"
     ]
    }
   ],
   "source": [
    "lst1=[10,20,30,-23,45,2,67,34]\n",
    "print(lst1)\n",
    "lst1.sort()\n",
    "print(lst1)"
   ]
  },
  {
   "cell_type": "markdown",
   "metadata": {},
   "source": [
    "To get the reverse value: either we can use function **reverse()** or **Slicing**([::-1]) method."
   ]
  },
  {
   "cell_type": "code",
   "execution_count": 18,
   "metadata": {},
   "outputs": [
    {
     "name": "stdout",
     "output_type": "stream",
     "text": [
      "[67, 45, 34, 30, 20, 10, 2, -23]\n"
     ]
    }
   ],
   "source": [
    "lst1.reverse()\n",
    "print(lst1)"
   ]
  },
  {
   "cell_type": "code",
   "execution_count": 19,
   "metadata": {},
   "outputs": [
    {
     "name": "stdout",
     "output_type": "stream",
     "text": [
      "[-23, 2, 10, 20, 30, 34, 45, 67]\n"
     ]
    }
   ],
   "source": [
    "#or\n",
    "print(lst1[::-1])"
   ]
  },
  {
   "cell_type": "code",
   "execution_count": 23,
   "metadata": {},
   "outputs": [
    {
     "name": "stdout",
     "output_type": "stream",
     "text": [
      "['apple', 'sberry', 'guava', 'mango', 'abc'] <class 'list'> 2172989940224\n"
     ]
    }
   ],
   "source": [
    "lst2=[\"apple\",\"sberry\",\"guava\",\"mango\",\"abc\"]\n",
    "print(lst2, type(lst2), id(lst2))"
   ]
  },
  {
   "cell_type": "code",
   "execution_count": 24,
   "metadata": {},
   "outputs": [
    {
     "name": "stdout",
     "output_type": "stream",
     "text": [
      "['abc', 'apple', 'guava', 'mango', 'sberry'] <class 'list'> 2172989940224\n"
     ]
    }
   ],
   "source": [
    "lst2.sort()\n",
    "print(lst2, type(lst2), id(lst2))"
   ]
  },
  {
   "cell_type": "code",
   "execution_count": 25,
   "metadata": {},
   "outputs": [
    {
     "name": "stdout",
     "output_type": "stream",
     "text": [
      "['sberry', 'mango', 'guava', 'apple', 'abc'] <class 'list'> 2172989940224\n"
     ]
    }
   ],
   "source": [
    "lst2.reverse()\n",
    "print(lst2, type(lst2), id(lst2))"
   ]
  },
  {
   "cell_type": "code",
   "execution_count": 26,
   "metadata": {},
   "outputs": [
    {
     "name": "stdout",
     "output_type": "stream",
     "text": [
      "['abc', 'apple', 'guava', 'mango', 'sberry'] <class 'list'> 2172989940224\n"
     ]
    }
   ],
   "source": [
    "print(lst2[::-1], type(lst2), id(lst2))"
   ]
  },
  {
   "cell_type": "code",
   "execution_count": 27,
   "metadata": {},
   "outputs": [
    {
     "name": "stdout",
     "output_type": "stream",
     "text": [
      "[10, 20, 30, -23, 45, 2, 67, 34]\n"
     ]
    }
   ],
   "source": [
    "lst3=[10,20,30,-23,45,2,67,34]\n",
    "print(lst3)"
   ]
  },
  {
   "cell_type": "code",
   "execution_count": 28,
   "metadata": {},
   "outputs": [
    {
     "name": "stdout",
     "output_type": "stream",
     "text": [
      "[67, 45, 34, 30, 20, 10, 2, -23]\n"
     ]
    }
   ],
   "source": [
    "lst3.sort(reverse=True)\n",
    "print(lst3)"
   ]
  },
  {
   "cell_type": "code",
   "execution_count": 30,
   "metadata": {},
   "outputs": [
    {
     "name": "stdout",
     "output_type": "stream",
     "text": [
      "[-23, 2, 10, 20, 30, 34, 45, 67]\n"
     ]
    }
   ],
   "source": [
    "lst3=[10,20,30,-23,45,2,67,34]\n",
    "lst3.sort(reverse=False)\n",
    "print(lst3)"
   ]
  },
  {
   "cell_type": "code",
   "execution_count": 31,
   "metadata": {},
   "outputs": [
    {
     "name": "stdout",
     "output_type": "stream",
     "text": [
      "[-23, 2, 10, 20, 30, 34, 45, 67]\n"
     ]
    }
   ],
   "source": [
    "lst3=[10,20,30,-23,45,2,67,34]\n",
    "lst3.sort()\n",
    "print(lst3)"
   ]
  },
  {
   "cell_type": "markdown",
   "metadata": {},
   "source": [
    "### <font color='#3498DB'>**12) extend():**</font>\n",
    "- This function is used for **extending functionality of source list object with destination list object.** \n",
    "\n",
    "##### Syntax:-     \n",
    "\n",
    "> <code><font color='#D2691E'>**sourcelistobject.extend(destination list obj)**</font></code>"
   ]
  },
  {
   "cell_type": "markdown",
   "metadata": {},
   "source": [
    "##### Examples:"
   ]
  },
  {
   "cell_type": "code",
   "execution_count": 35,
   "metadata": {},
   "outputs": [],
   "source": [
    "lst1=[11,20,30,40,50]\n",
    "lst2=[\"Python\",\"Java\",\"DS\",\"AI\"]"
   ]
  },
  {
   "cell_type": "code",
   "execution_count": 36,
   "metadata": {},
   "outputs": [
    {
     "name": "stdout",
     "output_type": "stream",
     "text": [
      "[11, 20, 30, 40, 50, 'Python', 'Java', 'DS', 'AI']\n"
     ]
    }
   ],
   "source": [
    "lst1.extend(lst2)\n",
    "print(lst1)"
   ]
  },
  {
   "cell_type": "code",
   "execution_count": 37,
   "metadata": {},
   "outputs": [],
   "source": [
    "lst1=[10,20,30]\n",
    "lst2=[\"Java\",\"python\",\"DS\",\"AI\"]\n",
    "lst3=[\"Oracle\",\"MYSQL\"]\n",
    "lst4=[\"Tomcat Ser\",\"WebLogic\",\"Web Sphere\"]"
   ]
  },
  {
   "cell_type": "markdown",
   "metadata": {},
   "source": [
    "The following code will give **TypeError:**. "
   ]
  },
  {
   "cell_type": "code",
   "execution_count": 38,
   "metadata": {},
   "outputs": [
    {
     "ename": "TypeError",
     "evalue": "extend() takes exactly one argument (3 given)",
     "output_type": "error",
     "traceback": [
      "\u001b[1;31m---------------------------------------------------------------------------\u001b[0m",
      "\u001b[1;31mTypeError\u001b[0m                                 Traceback (most recent call last)",
      "\u001b[1;32m<ipython-input-38-896ed31d5879>\u001b[0m in \u001b[0;36m<module>\u001b[1;34m\u001b[0m\n\u001b[1;32m----> 1\u001b[1;33m \u001b[0mlst1\u001b[0m\u001b[1;33m.\u001b[0m\u001b[0mextend\u001b[0m\u001b[1;33m(\u001b[0m\u001b[0mlst2\u001b[0m\u001b[1;33m,\u001b[0m \u001b[0mlst3\u001b[0m\u001b[1;33m,\u001b[0m \u001b[0mlst4\u001b[0m\u001b[1;33m)\u001b[0m\u001b[1;33m\u001b[0m\u001b[1;33m\u001b[0m\u001b[0m\n\u001b[0m",
      "\u001b[1;31mTypeError\u001b[0m: extend() takes exactly one argument (3 given)"
     ]
    }
   ],
   "source": [
    "lst1.extend(lst2, lst3, lst4)"
   ]
  },
  {
   "cell_type": "markdown",
   "metadata": {},
   "source": [
    "**Here we can achieve extend() task with + operator**"
   ]
  },
  {
   "cell_type": "code",
   "execution_count": 39,
   "metadata": {},
   "outputs": [
    {
     "name": "stdout",
     "output_type": "stream",
     "text": [
      "[10, 20, 30, 'Java', 'python', 'DS', 'AI', 'Oracle', 'MYSQL', 'Tomcat Ser', 'WebLogic', 'Web Sphere']\n"
     ]
    }
   ],
   "source": [
    "lst1=lst1+lst2+lst3+lst4\n",
    "print(lst1)"
   ]
  },
  {
   "cell_type": "code",
   "execution_count": null,
   "metadata": {},
   "outputs": [],
   "source": []
  }
 ],
 "metadata": {
  "kernelspec": {
   "display_name": "Python 3",
   "language": "python",
   "name": "python3"
  },
  "language_info": {
   "codemirror_mode": {
    "name": "ipython",
    "version": 3
   },
   "file_extension": ".py",
   "mimetype": "text/x-python",
   "name": "python",
   "nbconvert_exporter": "python",
   "pygments_lexer": "ipython3",
   "version": "3.8.5"
  }
 },
 "nbformat": 4,
 "nbformat_minor": 4
}
