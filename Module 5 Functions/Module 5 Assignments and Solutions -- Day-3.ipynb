{
 "cells": [
  {
   "cell_type": "markdown",
   "metadata": {},
   "source": [
    "##  <font color='#3498DB'>**Assignments on Arguments OR Parameters**</font><br>"
   ]
  },
  {
   "cell_type": "markdown",
   "metadata": {},
   "source": [
    "### Positional Arguments and Parameters"
   ]
  },
  {
   "cell_type": "code",
   "execution_count": 6,
   "metadata": {},
   "outputs": [
    {
     "name": "stdout",
     "output_type": "stream",
     "text": [
      "--------------------------------------------------\n",
      "Student Information\n",
      "--------------------------------------------------\n",
      "\tstno\tsname\tmarks\n",
      "--------------------------------------------------\n",
      "\t1\tAnu\t45.45\n",
      "\t2\tRoshni\t49.49\n",
      "\t3\tVaish\t50\n",
      "--------------------------------------------------\n"
     ]
    }
   ],
   "source": [
    "#posparamex1.py\n",
    "def dispstuddet(stno,sname,marks):\n",
    "    print(\"\\t{}\\t{}\\t{}\".format(stno,sname,marks))\n",
    "\n",
    "#main program\n",
    "print(\"-\"*50)\n",
    "print(\"Student Information\")\n",
    "print(\"-\"*50)\n",
    "print(\"\\tstno\\tsname\\tmarks\")\n",
    "print(\"-\"*50)\n",
    "dispstuddet(1,\"Anu\",45.45)\n",
    "dispstuddet(2,\"Roshni\",49.49)\n",
    "dispstuddet(3,\"Vaish\",50)\n",
    "print(\"-\"*50)"
   ]
  },
  {
   "cell_type": "markdown",
   "metadata": {},
   "source": [
    "### Default Arguments and Parameters"
   ]
  },
  {
   "cell_type": "code",
   "execution_count": null,
   "metadata": {},
   "outputs": [],
   "source": []
  },
  {
   "cell_type": "code",
   "execution_count": 7,
   "metadata": {},
   "outputs": [
    {
     "name": "stdout",
     "output_type": "stream",
     "text": [
      "--------------------------------------------------\n",
      "\t\tStudent Informatibon\n",
      "--------------------------------------------------\n",
      "\tStno\tSname\tMarks\tCourse\tCountry\n",
      "--------------------------------------------------\n",
      "\t1\tAnu\t45.45\tPython\tIndia\n",
      "\t2\tRoshni\t49.49\tPython\tIndia\n",
      "\t3\tVaish\t50\tPython\tIndia\n",
      "\t4\tAdarsh\t43\tJAVA\tIndia\n",
      "\t5\tAnoop\t35\tSQL\tUSA\n",
      "\t6\tDinesh\t44\tC\tIndia\n",
      "--------------------------------------------------\n"
     ]
    }
   ],
   "source": [
    "#defaultparamex1.py\n",
    "def dispstuddet(stno,sname,marks,crs=\"Python\",cnt=\"India\"):\n",
    "    print(\"\\t{}\\t{}\\t{}\\t{}\\t{}\".format(stno,sname,marks,crs,cnt))\n",
    "\n",
    "#main program\n",
    "print(\"-\"*50)\n",
    "print(\"\\t\\tStudent Informatibon\")\n",
    "print(\"-\"*50)\n",
    "print(\"\\tStno\\tSname\\tMarks\\tCourse\\tCountry\")\n",
    "print(\"-\"*50)\n",
    "dispstuddet(1,\"Anu\",45.45)\n",
    "dispstuddet(2,\"Roshni\",49.49)\n",
    "dispstuddet(3,\"Vaish\",50)\n",
    "dispstuddet(4,\"Adarsh\",43,\"JAVA\")\n",
    "dispstuddet(5,\"Anoop\",35,\"SQL\",\"USA\")\n",
    "dispstuddet(6,\"Dinesh\",44,\"C\")\n",
    "\n",
    "print(\"-\"*50)"
   ]
  },
  {
   "cell_type": "code",
   "execution_count": 8,
   "metadata": {
    "scrolled": true
   },
   "outputs": [
    {
     "name": "stdout",
     "output_type": "stream",
     "text": [
      "Enter the radius of the circle:1\n",
      "Area of the circle of rdius 1.0 is 3.14\n",
      "----------------------------------\n",
      "Enter the radius of circle:1\n",
      "Perimeter of the circle of radius 1.0 is 6.28\n"
     ]
    }
   ],
   "source": [
    "#defaultparamex2.py\n",
    "#cir_area_peri.py\n",
    "def area(r,Pi=3.14):\n",
    "    ac=Pi*r**2\n",
    "    print(\"Area of the circle of rdius {} is {}\".format(r,ac))\n",
    "\n",
    "\n",
    "def peri(Pi=3.14):\n",
    "    r=float(input(\"Enter the radius of circle:\"))\n",
    "    pc=2*Pi*r\n",
    "    print(\"Perimeter of the circle of radius {} is {}\".format(r,pc))\n",
    "#main program\n",
    "r=float(input(\"Enter the radius of the circle:\"))\n",
    "\n",
    "area(r)\n",
    "print(\"----------------------------------\")\n",
    "peri()"
   ]
  },
  {
   "cell_type": "markdown",
   "metadata": {},
   "source": [
    "### Keyword Arguments and Parameters"
   ]
  },
  {
   "cell_type": "code",
   "execution_count": 11,
   "metadata": {},
   "outputs": [
    {
     "name": "stdout",
     "output_type": "stream",
     "text": [
      "Employee details\n",
      "--------------------------------------------------\n",
      "\tEmpno\tName\tSal\tDesg\tCountry\n",
      "--------------------------------------------------\n",
      "\t111\tAnu\t5.6\tSE\tINDIA\n",
      "\t112\tMalu\t6.6\tCE\tUSA\n",
      "\t113\tVaish\t6.9\tTL\tINDIA\n",
      "\t114\tRosh\t7.9\tAR\tINDIA\n",
      "\t113\tVishnu\t6.9\tTL\tGER\n",
      "--------------------------------------------------\n"
     ]
    }
   ],
   "source": [
    "#keywordparanex1.py\n",
    "def dispempinfo(eno,ename,sal,dsg,cnt=\"INDIA\"):\n",
    "    print(\"\\t{}\\t{}\\t{}\\t{}\\t{}\".format(eno,ename,sal,dsg,cnt))\n",
    "#main Program\n",
    "print(\"Employee details\")\n",
    "print(\"-\"*50)\n",
    "print(\"\\tEmpno\\tName\\tSal\\tDesg\\tCountry\")\n",
    "print(\"-\"*50)\n",
    "dispempinfo(111,\"Anu\", 5.6, \"SE\")\n",
    "dispempinfo(112,\"Malu\", 6.6, \"CE\",cnt=\"USA\")\n",
    "dispempinfo(113,\"Vaish\",dsg=\"TL\",sal=6.9)\n",
    "#dispempinfo(sal=7.9,dsg=\"AR\",ename=\"Rosh\",114)# SyntaxError: positional argument follows keyword argument\n",
    "dispempinfo(sal=7.9,dsg=\"AR\",ename=\"Rosh\",eno=114)\n",
    "#dispempinfo(113,\"Vishnu\",dsg=\"TL\",sal=6.9,\"GER\")#SyntaxError: positional argument follows keyword argument\n",
    "dispempinfo(113,\"Vishnu\",dsg=\"TL\",sal=6.9,cnt=\"GER\")\n",
    "\n",
    "print(\"-\"*50)"
   ]
  },
  {
   "cell_type": "code",
   "execution_count": null,
   "metadata": {},
   "outputs": [],
   "source": []
  },
  {
   "cell_type": "markdown",
   "metadata": {},
   "source": [
    "<font color='#D2691E'>**Qn) Write a python program which will calculae the area and perimeter of circle using default argument passig mechanism**</font>"
   ]
  },
  {
   "cell_type": "code",
   "execution_count": 10,
   "metadata": {},
   "outputs": [
    {
     "name": "stdout",
     "output_type": "stream",
     "text": [
      "Enter Radius for cal Area:1\n",
      "Area of the circle of rdius 1.0 is 3.14\n",
      "----------------------------------\n",
      "Enter the radius of circle:1\n",
      "Perimeter of the circle of radius 1.0 is 6.28\n"
     ]
    }
   ],
   "source": [
    "#cir_area_peri.py\n",
    "def area(r,Pi=3.14):\n",
    "    ac=Pi*r**2\n",
    "    print(\"Area of the circle of rdius {} is {}\".format(r,ac))\n",
    "\n",
    "\n",
    "def peri(Pi=3.14):\n",
    "    r=float(input(\"Enter the radius of circle:\"))\n",
    "    pc=2*Pi*r\n",
    "    print(\"Perimeter of the circle of radius {} is {}\".format(r,pc))\n",
    "#main program\n",
    "#r=float(input(\"Enter the radius of the circle:\"))\n",
    "r=float(input(\"Enter Radius for cal Area:\"))\n",
    "\n",
    "area(r)\n",
    "print(\"----------------------------------\")\n",
    "peri()"
   ]
  },
  {
   "cell_type": "markdown",
   "metadata": {},
   "source": [
    "### Variable Length Arguments and Parameters"
   ]
  },
  {
   "cell_type": "code",
   "execution_count": null,
   "metadata": {},
   "outputs": [],
   "source": [
    "#varlenex1.py----This program will not execute\n",
    "def disp(x,y,z):\n",
    "\tprint(x,y,z)\n",
    "\n",
    "def   disp(x):\n",
    "\tprint(x)\n",
    "\n",
    "def  disp(x,y):\n",
    "\tprint(x,y)\n",
    "#main program\n",
    "disp(10)  # function call-1\n",
    "disp(10,20)  # function call-2\n",
    "disp(\"RS\",\"DR\",\"TR\")  # function call-3"
   ]
  },
  {
   "cell_type": "code",
   "execution_count": 12,
   "metadata": {},
   "outputs": [
    {
     "name": "stdout",
     "output_type": "stream",
     "text": [
      "RS\n",
      "RS TV\n",
      "RS TV JM\n"
     ]
    }
   ],
   "source": [
    "#varlenex2.py----This program will  execute\n",
    "def disp(x):\n",
    "    print(x)\n",
    "print(\"RS\")  \n",
    "\n",
    "def disp(x,y):\n",
    "    print(x,y)\n",
    "disp(\"RS\",\"TV\")\n",
    "\n",
    "def disp(x,y,z):\n",
    "    print(x,y,z)\n",
    "disp(\"RS\",\"TV\",\"JM\")"
   ]
  },
  {
   "cell_type": "code",
   "execution_count": 13,
   "metadata": {
    "scrolled": true
   },
   "outputs": [
    {
     "name": "stdout",
     "output_type": "stream",
     "text": [
      "(10,) <class 'tuple'>\n",
      "(10, 20) <class 'tuple'>\n",
      "(10, 20, 30) <class 'tuple'>\n",
      "(10, 20, 30, 40) <class 'tuple'>\n",
      "() <class 'tuple'>\n",
      "(10, 20, 30, 'RS') <class 'tuple'>\n"
     ]
    }
   ],
   "source": [
    "#varlenex3.py\n",
    "def disp(*x):\n",
    "    print(x,type(x))\n",
    "\n",
    "\n",
    "#main program\n",
    "\n",
    "disp(10)\n",
    "disp(10,20)\n",
    "disp(10,20,30)\n",
    "disp(10,20,30,40)\n",
    "disp()\n",
    "disp(10,20,30,\"RS\")"
   ]
  },
  {
   "cell_type": "code",
   "execution_count": 14,
   "metadata": {},
   "outputs": [
    {
     "name": "stdout",
     "output_type": "stream",
     "text": [
      "----------------------------------------\n",
      "\n",
      "----------------------------------------\n",
      "10 \n",
      "----------------------------------------\n",
      "10 20 \n",
      "----------------------------------------\n",
      "10 20 30 \n",
      "----------------------------------------\n",
      "10 20 30 40 \n",
      "----------------------------------------\n",
      "10 20 30 40 50 \n"
     ]
    }
   ],
   "source": [
    "#varlenex4.py\n",
    "def disp(*x):\n",
    "    print(\"-\"*40)\n",
    "    for val in x:\n",
    "        print(val, end=\" \")\n",
    "    print()\n",
    "\n",
    "#main program\n",
    "disp()\n",
    "disp(10)\n",
    "disp(10,20)\n",
    "disp(10,20,30)\n",
    "disp(10,20,30,40)\n",
    "disp(10,20,30,40,50)"
   ]
  },
  {
   "cell_type": "code",
   "execution_count": 15,
   "metadata": {},
   "outputs": [
    {
     "name": "stdout",
     "output_type": "stream",
     "text": [
      "Hi Anu, your course is Python\n",
      "10 Sum = 10\n",
      "----------------------------------------\n",
      "Hi Sanu, your course is Python\n",
      "10 20 Sum = 30\n",
      "----------------------------------------\n",
      "Hi Gopu, your course is JAVA\n",
      "10 20 30 Sum = 60\n",
      "----------------------------------------\n",
      "Hi Ram, your course is Python\n",
      "10 20 30 40 Sum = 100\n",
      "----------------------------------------\n",
      "Hi Gopika, your course is Python\n",
      "10 20 30 40 50 Sum = 150\n",
      "----------------------------------------\n",
      "Hi RS1, your course is Python\n",
      "Sum = 0\n",
      "----------------------------------------\n",
      "Hi JG, your course is SQL\n",
      "10 20 30 40 50 Sum = 150\n",
      "----------------------------------------\n"
     ]
    }
   ],
   "source": [
    "#varlenex5.py\n",
    "def findsum(name,*vals,crs=\"Python\"):\n",
    "    s=0\n",
    "    #print(\"-\"*40)\n",
    "    print(\"Hi {}, your course is {}\".format(name,crs))\n",
    "    for x in vals:\n",
    "        print(\"{}\".format(x), end=\" \")\n",
    "        s=s+x\n",
    "    else:\n",
    "        #print()\n",
    "        print(\"Sum =\",s)\n",
    "        print(\"-\"*40)\n",
    "\n",
    "#main Program\n",
    "findsum(\"Anu\",10)\n",
    "findsum(\"Sanu\",10,20)\n",
    "findsum(\"Gopu\",10,20,30, crs=\"JAVA\")\n",
    "findsum(\"Ram\",10,20,30,40)\n",
    "findsum(\"Gopika\",10,20,30,40,50)\n",
    "findsum(\"RS1\")\n",
    "#findsum(10,20,30,40,50,\"JS\") #TypeError: unsupported operand type(s) for +: 'int' and 'str'\n",
    "#findsum(10,20,30,40,50,name=\"JS\") #TypeError: findsum() got multiple values for argument 'name'\n",
    "#findsum(\"JG\",crs=\"SQL\",10,20,30,40,50)# SyntaxError: positional argument follows keyword argument\n",
    "findsum(\"JG\",10,20,30,40,50,crs=\"SQL\")"
   ]
  },
  {
   "cell_type": "markdown",
   "metadata": {},
   "source": [
    "<font color='#D2691E'>**Qn) Write a python program which will calculae sum and average of variable number of values using function. Hint: Use variable length parameter**</font>"
   ]
  },
  {
   "cell_type": "markdown",
   "metadata": {},
   "source": [
    "### Keyword Variable length Arguments and Parameters"
   ]
  },
  {
   "cell_type": "code",
   "execution_count": 16,
   "metadata": {},
   "outputs": [
    {
     "name": "stdout",
     "output_type": "stream",
     "text": [
      "----------------------------------------\n",
      "sname\tRossum\n",
      "----------------------------------------\n",
      "----------------------------------------\n",
      "sname\tAnu\n",
      "sid\t112\n",
      "----------------------------------------\n",
      "----------------------------------------\n",
      "emo\t100\n",
      "ename\tRoshni\n",
      "esal\t10.5\n",
      "----------------------------------------\n",
      "----------------------------------------\n",
      "idno\t114\n",
      "name\tSandeep\n",
      "hobby1\treading\n",
      "hobby2\ttravel\n",
      "----------------------------------------\n"
     ]
    }
   ],
   "source": [
    "#kwdvarlenex1.py\n",
    "\n",
    "def dispinfo(**var):\n",
    "    print(\"-\"*40)\n",
    "    for k,v in var.items():\n",
    "        print(\"{}\\t{}\".format(k,v))\n",
    "    else:\n",
    "        print(\"-\"*40)\n",
    "\n",
    "#main Program\n",
    "dispinfo(sname=\"Rossum\")\n",
    "dispinfo(sname=\"Anu\", sid=112)\n",
    "dispinfo(emo=100,ename=\"Roshni\",esal=10.5)\n",
    "dispinfo(idno=114,name=\"Sandeep\",hobby1=\"reading\",hobby2=\"travel\")"
   ]
  },
  {
   "cell_type": "code",
   "execution_count": 17,
   "metadata": {},
   "outputs": [
    {
     "name": "stdout",
     "output_type": "stream",
     "text": [
      "----------------------------------------\n",
      "Student Name: Anu\n",
      "Student Studying in: MSc\n",
      "----------------------------------------\n",
      "\tSubject\tMarks\n",
      "\tEng\t67\n",
      "\tTel\t66\n",
      "\tSci\t88\n",
      "\tmaths\t99\n",
      "\tsoc\t88\n",
      "----------------------------------------\n",
      "Total Marks:\t408\n",
      "----------------------------------------\n",
      "Student Name: Roshni\n",
      "Student Studying in: Mtech\n",
      "----------------------------------------\n",
      "\tSubject\tMarks\n",
      "\tEng\t89\n",
      "\tcivil\t95\n",
      "\tSci\t98\n",
      "----------------------------------------\n",
      "Total Marks:\t282\n",
      "----------------------------------------\n",
      "Student Name: TR\n",
      "Student Studying in: B.Tech\n",
      "----------------------------------------\n",
      "\tSubject\tMarks\n",
      "\tC\t60\n",
      "\tPython\t60\n",
      "----------------------------------------\n",
      "Total Marks:\t120\n",
      "----------------------------------------\n",
      "Student Name: MCK\n",
      "Student Studying in: Research\n",
      "----------------------------------------\n",
      "\tSubject\tMarks\n",
      "----------------------------------------\n",
      "Total Marks:\t0\n"
     ]
    }
   ],
   "source": [
    "#kwdvarlenex2.py\n",
    "def total_marks(sname,cls, **infor):\n",
    "    print(\"-\"*40)\n",
    "    print(\"Student Name: {}\".format(sname))\n",
    "    print(\"Student Studying in: {}\".format(cls))\n",
    "    print(\"-\"*40)\n",
    "    print(\"\\tSubject\\tMarks\")\n",
    "    total_marks=0\n",
    "    for sub, marks in infor.items():\n",
    "        print(\"\\t{}\\t{}\".format(sub,marks))\n",
    "        total_marks=total_marks+marks\n",
    "    else:\n",
    "        print(\"-\"*40)\n",
    "        print(\"Total Marks:\\t{}\".format(total_marks))\n",
    "\n",
    "#main Program\n",
    "total_marks(\"Anu\",\"MSc\",Eng=67,Tel=66,Sci=88,maths=99,soc=88)\n",
    "total_marks(\"Roshni\",\"Mtech\",Eng=89,civil=95,Sci=98)\n",
    "total_marks(\"TR\",\"B.Tech\",C=60,Python=60)\n",
    "total_marks(\"MCK\",\"Research\")"
   ]
  },
  {
   "cell_type": "code",
   "execution_count": null,
   "metadata": {},
   "outputs": [],
   "source": []
  }
 ],
 "metadata": {
  "kernelspec": {
   "display_name": "Python 3",
   "language": "python",
   "name": "python3"
  },
  "language_info": {
   "codemirror_mode": {
    "name": "ipython",
    "version": 3
   },
   "file_extension": ".py",
   "mimetype": "text/x-python",
   "name": "python",
   "nbconvert_exporter": "python",
   "pygments_lexer": "ipython3",
   "version": "3.8.5"
  }
 },
 "nbformat": 4,
 "nbformat_minor": 4
}
