{
 "cells": [
  {
   "cell_type": "markdown",
   "metadata": {},
   "source": [
    "## Examples and Assignments on Anonymous Functions / Lambda Functions"
   ]
  },
  {
   "cell_type": "markdown",
   "metadata": {},
   "source": [
    "<font color='#D2691E'>Qn) Write a python program which will convert celcius temperature in to faranheat temperature using anonymous function</font>"
   ]
  },
  {
   "cell_type": "code",
   "execution_count": 7,
   "metadata": {},
   "outputs": [
    {
     "name": "stdout",
     "output_type": "stream",
     "text": [
      "Enter the first value2\n",
      "Enter the second value2\n",
      "Product of 2 and 2 is 4\n"
     ]
    }
   ],
   "source": [
    "#mulnums.py\n",
    "mulnum=lambda a,b: a*b\n",
    "\n",
    "#main Program\n",
    "a=int(input(\"Enter the first value\"))\n",
    "b=int(input(\"Enter the second value\"))\n",
    "res=mulnum(a,b)\n",
    "print(\"Product of {} and {} is {}\".format(a,b,res))"
   ]
  },
  {
   "cell_type": "markdown",
   "metadata": {},
   "source": [
    "<font color='#D2691E'>Qn) Write a python program which will convert celcius temperature in to faranheat temperature using anonymous function</font>"
   ]
  },
  {
   "cell_type": "code",
   "execution_count": 8,
   "metadata": {},
   "outputs": [
    {
     "name": "stdout",
     "output_type": "stream",
     "text": [
      "Teemperature in Faran Heat is 93.2\n"
     ]
    }
   ],
   "source": [
    "#anonymousfuncex1.py\n",
    "\n",
    "tempconv=lambda c: 1.8*c+32\n",
    "\n",
    "#main program\n",
    "tf=tempconv(34)\n",
    "print(\"Teemperature in Faran Heat is {}\".format(tf))"
   ]
  },
  {
   "cell_type": "code",
   "execution_count": 13,
   "metadata": {},
   "outputs": [
    {
     "name": "stdout",
     "output_type": "stream",
     "text": [
      "Enter the temperature in celcius: 34\n",
      "lambda Function\n",
      "Temperature in Faran Heat using lambda function is 93.2\n",
      "--------------------------------------------------\n",
      "Normal Function\n",
      "Temperature in Faran Heat using normal functionis 93.2\n"
     ]
    }
   ],
   "source": [
    "#anonymousfuncex1.py\n",
    "\n",
    "tempconv=lambda c: 1.8*c+32\n",
    "\n",
    "def temperatureconv(c):\n",
    "    tf1=1.8*c+32\n",
    "    return tf1\n",
    "\n",
    "\n",
    "\n",
    "#main Program\n",
    "c=float(input(\"Enter the temperature in celcius: \"))\n",
    "print(\"lambda Function\")\n",
    "tf=tempconv(c)\n",
    "print(\"Temperature in Faran Heat using lambda function is {}\".format(tf1))\n",
    "print(\"-\"*50)\n",
    "print(\"Normal Function\")\n",
    "tf1=temperatureconv(c)\n",
    "print(\"Temperature in Faran Heat using normal functionis {}\".format(tf))\n"
   ]
  },
  {
   "cell_type": "markdown",
   "metadata": {},
   "source": [
    "<font color='#D2691E'>Qn) Write a python program which will accept two numerical values and find its biggest using anonymous functions</font>"
   ]
  },
  {
   "cell_type": "code",
   "execution_count": 14,
   "metadata": {},
   "outputs": [
    {
     "name": "stdout",
     "output_type": "stream",
     "text": [
      "Enter the value of a:2\n",
      "Enter the value of b:3\n",
      "big value of 2.0 and 3.0 is 3.0\n"
     ]
    }
   ],
   "source": [
    "#biggervalue.py\n",
    "#anonymousex3.py\n",
    "\n",
    "bigvalue=lambda a,b: a if a>b else b\n",
    "#main program\n",
    "\n",
    "a=float(input(\"Enter the value of a:\"))\n",
    "b=float(input(\"Enter the value of b:\"))\n",
    "\n",
    "result=bigvalue(a,b)\n",
    "print(\"big value of {} and {} is {}\".format(a,b,result))"
   ]
  },
  {
   "cell_type": "code",
   "execution_count": 21,
   "metadata": {},
   "outputs": [
    {
     "name": "stdout",
     "output_type": "stream",
     "text": [
      "Enter the value of a:2\n",
      "Enter the value of b:-1\n",
      "big  of (2.0 , -1.0) : 2.0\n"
     ]
    }
   ],
   "source": [
    "#biggervalue.py\n",
    "#anonymousex3.py\n",
    "#with the condition a=b\n",
    "bigvalue=lambda a,b: \"Values are Equal\" if (a==b) else a if (a>b) else b\n",
    "#main program\n",
    "\n",
    "a=float(input(\"Enter the value of a:\"))\n",
    "b=float(input(\"Enter the value of b:\"))\n",
    "\n",
    "result=bigvalue(a,b)\n",
    "print(\"big  of ({} , {}) : {}\".format(a,b,result))"
   ]
  },
  {
   "cell_type": "markdown",
   "metadata": {},
   "source": [
    "<font color='#D2691E'>Qn) Write a python program which will accept three numerical values and find its biggest and smallest seperately using anonymous functions</font>"
   ]
  },
  {
   "cell_type": "code",
   "execution_count": 27,
   "metadata": {},
   "outputs": [
    {
     "name": "stdout",
     "output_type": "stream",
     "text": [
      "Enter the value of a:0\n",
      "Enter the value of b:0\n",
      "Enter the value of c:0\n",
      "big  of (0.0 , 0.0 and 0.0) : Values are Equal\n",
      "small  of (0.0 , 0.0 and 0.0) : Values are Equal\n"
     ]
    }
   ],
   "source": [
    "#biggervalue.py\n",
    "#anonymousex3.py\n",
    "#with the condition a=b\n",
    "bigvalue=lambda a,b,c: \"Values are Equal\" if (a==b) and (b==c) else a if (a>b) and (a>c) else b if (b>c) else c\n",
    "\n",
    "smallvalue=lambda a,b,c: \"Values are Equal\" if (a==b) and (b==c) else a if (a<b) and (a<c) else b if (b<c) else c\n",
    "\n",
    "#main program\n",
    "\n",
    "a=float(input(\"Enter the value of a:\"))\n",
    "b=float(input(\"Enter the value of b:\"))\n",
    "c=float(input(\"Enter the value of c:\"))\n",
    "result_big=bigvalue(a,b,c)\n",
    "print(\"big  of ({} , {} and {}) : {}\".format(a,b,c,result_big))\n",
    "result_small=smallvalue(a,b,c)\n",
    "print(\"small  of ({} , {} and {}) : {}\".format(a,b,c,result_small))\n"
   ]
  },
  {
   "cell_type": "markdown",
   "metadata": {},
   "source": [
    "<font color='#D2691E'>Qn) Write a python program which will read list of values from the keyboard and find max and min values from list of nummbers y using anonymous function</font>"
   ]
  },
  {
   "cell_type": "code",
   "execution_count": 1,
   "metadata": {},
   "outputs": [
    {
     "name": "stdout",
     "output_type": "stream",
     "text": [
      "Max element ([10, 20, 30, 50, 23, 45, -34, 23, -4, 34, 100, -99])=100\n",
      "Min element ([10, 20, 30, 50, 23, 45, -34, 23, -4, 34, 100, -99])=-99\n"
     ]
    }
   ],
   "source": [
    "#minmaxanonymous.py\n",
    "maxvalue= lambda listobj: max(listobj)\n",
    "minvalue= lambda listobj: min(listobj)\n",
    "\n",
    "\n",
    "#main program\n",
    "lst=[10,20,30,50,23,45,-34,23,-4,34,100,-99]\n",
    "maxv=maxvalue(lst)\n",
    "minv=minvalue(lst)\n",
    "print(\"Max element ({})={}\".format(lst,maxv))\n",
    "print(\"Min element ({})={}\".format(lst,minv))"
   ]
  },
  {
   "cell_type": "code",
   "execution_count": null,
   "metadata": {},
   "outputs": [],
   "source": []
  }
 ],
 "metadata": {
  "kernelspec": {
   "display_name": "Python 3",
   "language": "python",
   "name": "python3"
  },
  "language_info": {
   "codemirror_mode": {
    "name": "ipython",
    "version": 3
   },
   "file_extension": ".py",
   "mimetype": "text/x-python",
   "name": "python",
   "nbconvert_exporter": "python",
   "pygments_lexer": "ipython3",
   "version": "3.8.5"
  }
 },
 "nbformat": 4,
 "nbformat_minor": 4
}
