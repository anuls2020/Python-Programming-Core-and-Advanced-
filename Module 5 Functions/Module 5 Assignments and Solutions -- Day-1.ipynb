{
 "cells": [
  {
   "cell_type": "markdown",
   "metadata": {},
   "source": [
    "<font color='#D2691E'>**Qn) Define a function for calculating sum of two numbers using all the 4 approaches.**</font>"
   ]
  },
  {
   "cell_type": "markdown",
   "metadata": {},
   "source": [
    "##### Approach 1"
   ]
  },
  {
   "cell_type": "code",
   "execution_count": 3,
   "metadata": {},
   "outputs": [
    {
     "name": "stdout",
     "output_type": "stream",
     "text": [
      "Enter first value:1\n",
      "Enter second value:2\n",
      "The sum of 1.0 and 2.0 is 3.0\n"
     ]
    }
   ],
   "source": [
    "#approach1.py\n",
    "def sumop(a,b):\n",
    "    c=a+b\n",
    "    return c\n",
    "#main program\n",
    "x=float(input(\"Enter first value:\"))\n",
    "y=float(input(\"Enter second value:\"))\n",
    "result=sumop(x,y)\n",
    "print(\"The sum of {} and {} is {}\".format(x,y,result))"
   ]
  },
  {
   "cell_type": "markdown",
   "metadata": {},
   "source": [
    "##### Approach 2"
   ]
  },
  {
   "cell_type": "code",
   "execution_count": 5,
   "metadata": {},
   "outputs": [
    {
     "name": "stdout",
     "output_type": "stream",
     "text": [
      "Enter the first value:1\n",
      "Enter the second value:2\n",
      "\n",
      "Sum of 1.0 and 2.0 is 3.0\n"
     ]
    }
   ],
   "source": [
    "#approach2.py\n",
    "def sumop():\n",
    "    a=float(input(\"Enter the first value:\"))         #INPUT\n",
    "    b=float(input(\"Enter the second value:\"))        #INPUT\n",
    "    c=a+b                                            #PROCESS\n",
    "    print(\"\\nSum of {} and {} is {}\".format(a,b,c))  #OUTPUT\n",
    "#main program\n",
    "sumop()                                              #FUNCTION CALL"
   ]
  },
  {
   "cell_type": "markdown",
   "metadata": {},
   "source": [
    "##### Approach 3"
   ]
  },
  {
   "cell_type": "code",
   "execution_count": 5,
   "metadata": {},
   "outputs": [
    {
     "name": "stdout",
     "output_type": "stream",
     "text": [
      "Sum of 10 and 20 is 30\n"
     ]
    }
   ],
   "source": [
    "#approach3.py\n",
    "def sumop():\n",
    "    a=float(input(\"Enter the first value:\"))         #INPUT\n",
    "    b=float(input(\"Enter the second value:\"))        #INPUT\n",
    "    c=a+b                                            #PROCESS\n",
    "    return(\"Sum of {} and {} is {}\".format(a,b,c))   # Function Return\n",
    "\n",
    "#main program\n",
    "result=sumop()                                       # Function call\n",
    "print(result)                                        # Output"
   ]
  },
  {
   "cell_type": "markdown",
   "metadata": {},
   "source": [
    "##### Approach 4"
   ]
  },
  {
   "cell_type": "code",
   "execution_count": 9,
   "metadata": {},
   "outputs": [
    {
     "name": "stdout",
     "output_type": "stream",
     "text": [
      "Enter the first number: 1\n",
      "Enter the Second number: 2\n",
      "\n",
      "Sum of 1.0 and 2.0 is 3.0\n"
     ]
    }
   ],
   "source": [
    "#approach.4\n",
    "def sumop(a,b):\n",
    "    c=a+b\n",
    "    print(\"\\nSum of {} and {} is {}\".format(a,b,c))\n",
    "#main program\n",
    "x=float(input(\"Enter the first number: \"))\n",
    "y=float(input(\"Enter the Second number: \"))\n",
    "result=sumop(x,y)"
   ]
  },
  {
   "cell_type": "markdown",
   "metadata": {},
   "source": [
    "<font color='#D2691E'>**Qn) Define a function for calculating square root of a number using all the 4 approaches.**</font>"
   ]
  },
  {
   "cell_type": "code",
   "execution_count": 1,
   "metadata": {},
   "outputs": [
    {
     "name": "stdout",
     "output_type": "stream",
     "text": [
      "Enter the value of x:4\n",
      "Square root of the number 4 is 2.0\n"
     ]
    }
   ],
   "source": [
    "#sqrt_approach1.py\n",
    "#Both input and output from outside and process it inside\n",
    "def sqrtop(a):\n",
    "    b=a**0.5 \n",
    "    return b\n",
    "#main program\n",
    "x=int(input(\"Enter the value of x:\"))\n",
    "result=sqrtop(x)\n",
    "print(\"Square root of the number {} is {}\".format(x,result))"
   ]
  },
  {
   "cell_type": "code",
   "execution_count": 2,
   "metadata": {},
   "outputs": [
    {
     "name": "stdout",
     "output_type": "stream",
     "text": [
      "Enter the value of a:4\n",
      "Square root of the number 4 is 2.0\n"
     ]
    }
   ],
   "source": [
    "#sqrt_approach2.py\n",
    "#here input, output as well as the process in from inside\n",
    "\n",
    "def sqrtop():\n",
    "    a=int(input(\"Enter the value of a:\"))\n",
    "    b=a**0.5\n",
    "    print(\"Square root of the number {} is {}\".format(a,b))\n",
    "    \n",
    "#main program    \n",
    "sqrtop()\n"
   ]
  },
  {
   "cell_type": "code",
   "execution_count": 4,
   "metadata": {},
   "outputs": [
    {
     "name": "stdout",
     "output_type": "stream",
     "text": [
      "Enter the value of a:4\n",
      "Square root of the number 4 is 2.0\n"
     ]
    }
   ],
   "source": [
    "#sqrt_approach3.py\n",
    "#here input and process inside and output outside\n",
    "\n",
    "def sqrtop():\n",
    "    a=int(input(\"Enter the value of a:\"))\n",
    "    b=a**0.5\n",
    "    return(\"Square root of the number {} is {}\".format(a,b))\n",
    "#main program\n",
    "result=sqrtop()\n",
    "print(result)"
   ]
  },
  {
   "cell_type": "code",
   "execution_count": 6,
   "metadata": {},
   "outputs": [
    {
     "name": "stdout",
     "output_type": "stream",
     "text": [
      "Enter the value of x:4\n"
     ]
    },
    {
     "data": {
      "text/plain": [
       "'square root of the number 4 is 2.0'"
      ]
     },
     "execution_count": 6,
     "metadata": {},
     "output_type": "execute_result"
    }
   ],
   "source": [
    "#sqrt_approach4.py\n",
    "#here input fron outside so we need to pass formal parameter and process and output done inside.\n",
    "\n",
    "def sqrtop(a):\n",
    "    b=a**0.5\n",
    "    return(\"square root of the number {} is {}\".format(a,b))\n",
    "    \n",
    "#main function\n",
    "x=int(input(\"Enter the value of x:\"))\n",
    "sqrtop(x)"
   ]
  },
  {
   "cell_type": "markdown",
   "metadata": {},
   "source": [
    "<font color='#D2691E'>**Qn) Write a python program which will calculate simple interest and the total amount to pay by using functions.**</font>"
   ]
  },
  {
   "cell_type": "code",
   "execution_count": 11,
   "metadata": {},
   "outputs": [
    {
     "name": "stdout",
     "output_type": "stream",
     "text": [
      "Enter the amount:100\n",
      "Enter the interest rate:10\n",
      "The interest and the Total amount to pay are 10.0 and 110.0\n"
     ]
    }
   ],
   "source": [
    "#Simple_interest_approach1.py\n",
    "#Here input and output from outside\n",
    "\n",
    "def simpinter(amt,b):\n",
    "    intr=amt*0.01*b\n",
    "    total_pay=amt+intr\n",
    "    return (\"The interest and the Total amount to pay are {} and {}\".format(intr, total_pay))\n",
    "\n",
    "#main program\n",
    "x=int(input(\"Enter the amount:\"))\n",
    "y=float(input(\"Enter the interest rate:\"))\n",
    "result=simpinter(x,y)\n",
    "print(result)"
   ]
  },
  {
   "cell_type": "code",
   "execution_count": 12,
   "metadata": {},
   "outputs": [
    {
     "name": "stdout",
     "output_type": "stream",
     "text": [
      "Enter the amount:100\n",
      "Enter the interest amount:10\n",
      "The interest and the total amount to pay is 10.0 and 110.0\n"
     ]
    }
   ],
   "source": [
    "#Simple_interest_approach2.py\n",
    "#here the input process and the output are with i the function definition. \n",
    "\n",
    "def simpinter():\n",
    "    a=float(input(\"Enter the amount:\"))\n",
    "    b=float(input(\"Enter the interest amount:\"))\n",
    "    interest=a*b/100\n",
    "    total_amnt=a+interest\n",
    "    print(\"The interest and the total amount to pay is {} and {}\".format(interest,total_amnt))\n",
    "#main program\n",
    "simpinter()\n"
   ]
  },
  {
   "cell_type": "code",
   "execution_count": 14,
   "metadata": {},
   "outputs": [
    {
     "name": "stdout",
     "output_type": "stream",
     "text": [
      "Enter the amount:100\n",
      "Enter the interest:10\n",
      "the interest and total amount to pay is 10.0 and 110.0\n"
     ]
    }
   ],
   "source": [
    "#Simple_interest_approach3.py\n",
    "#Here the input and process inside function where as the output is outside function\n",
    "\n",
    "def simpinter():\n",
    "    a=float(input(\"Enter the amount:\"))\n",
    "    b=float(input(\"Enter the interest:\"))\n",
    "    interest=a*b/100\n",
    "    total_amnt=a+interest\n",
    "    return interest, total_amnt\n",
    "#main program\n",
    "result=simpinter()\n",
    "print(\"the interest and total amount to pay is {} and {}\".format(result[0],result[1]))"
   ]
  },
  {
   "cell_type": "code",
   "execution_count": 15,
   "metadata": {},
   "outputs": [
    {
     "name": "stdout",
     "output_type": "stream",
     "text": [
      "Enter the aount:100\n",
      "Enter the interest10\n",
      "Interest and thetotal amount to pay is 10.0 and 110.0\n"
     ]
    }
   ],
   "source": [
    "#Simple_interest_approach4.py\n",
    "#Here the input from outside and the processing and the output from outside the function definition\n",
    "\n",
    "def simpinter(a,b):\n",
    "    interest=a*b/100\n",
    "    total_amnt=a+interest\n",
    "    print(\"Interest and the total amount to pay is {} and {}\".format(interest,total_amnt))\n",
    "#main program\n",
    "x=float(input(\"Enter the aount:\"))\n",
    "y=float(input(\"Enter the interest:\"))\n",
    "simpinter(x,y)"
   ]
  },
  {
   "cell_type": "code",
   "execution_count": null,
   "metadata": {},
   "outputs": [],
   "source": []
  }
 ],
 "metadata": {
  "kernelspec": {
   "display_name": "Python 3",
   "language": "python",
   "name": "python3"
  },
  "language_info": {
   "codemirror_mode": {
    "name": "ipython",
    "version": 3
   },
   "file_extension": ".py",
   "mimetype": "text/x-python",
   "name": "python",
   "nbconvert_exporter": "python",
   "pygments_lexer": "ipython3",
   "version": "3.8.5"
  }
 },
 "nbformat": 4,
 "nbformat_minor": 4
}
