{
 "cells": [
  {
   "cell_type": "markdown",
   "metadata": {},
   "source": [
    "<font color='#D2691E'>**Qn) Write a python program which will accept a numerical integer value and generate a multiplication table by using Functions**</font>"
   ]
  },
  {
   "cell_type": "code",
   "execution_count": null,
   "metadata": {
    "scrolled": true
   },
   "outputs": [],
   "source": [
    "#mul_table.py\n",
    "def mul_tble(a):\n",
    "    if n<=0:\n",
    "        print(\"Invalid input\")\n",
    "    else:\n",
    "        for i in range(1,11):\n",
    "            print(\"{} x {} = {}\".format(a,i,a*i))\n",
    "#main program\n",
    "n=int(input(\"Enter the value of n:\"))\n",
    "result=mul_tble(n)\n",
    "print(result)"
   ]
  },
  {
   "cell_type": "markdown",
   "metadata": {},
   "source": [
    "<font color='#D2691E'>**Qn) Write a python program which will accept list of values and find their sum and average**</font>"
   ]
  },
  {
   "cell_type": "code",
   "execution_count": 9,
   "metadata": {},
   "outputs": [
    {
     "name": "stdout",
     "output_type": "stream",
     "text": [
      "Enter the number of elements:\n",
      "5\n",
      "Enther the 1 value1\n",
      "Enther the 2 value2\n",
      "Enther the 3 value3\n",
      "Enther the 4 value4\n",
      "Enther the 5 value5\n",
      "sum of list of elements is 15.0\n",
      "Average of list of elements is 3.0\n"
     ]
    }
   ],
   "source": [
    "#sumavg.py\n",
    "def readvalues():\n",
    "    lst=[]\n",
    "    print(\"Enter the number of elements:\")\n",
    "    n=int(input())\n",
    "    if n<=0:\n",
    "        print(\"Invalid Input\")\n",
    "    else:\n",
    "        for i in range(1,n+1):\n",
    "            val=float(input(\"Enther the {} value\".format(i)))\n",
    "            lst.append(val)\n",
    "    return(lst)        \n",
    "\n",
    "def sumavg(lst):\n",
    "    s=0\n",
    "    for val in lst:\n",
    "        s = s+val\n",
    "    else:\n",
    "        print(\"sum of list of elements is {}\".format(s))\n",
    "        print(\"Average of list of elements is {}\".format(s/len(lst)))\n",
    "#main Program\n",
    "lst=readvalues()\n",
    "sumavg(lst)"
   ]
  },
  {
   "cell_type": "markdown",
   "metadata": {},
   "source": [
    "<font color='#D2691E'>**Qn) Write a python program which will calculate the area and perimeter of a circle**</font>"
   ]
  },
  {
   "cell_type": "code",
   "execution_count": 11,
   "metadata": {},
   "outputs": [
    {
     "name": "stdout",
     "output_type": "stream",
     "text": [
      "Enter the value of radius:3\n",
      "Area and Perimeter of the circle of radius3.0 is 28.26 and 18.84\n"
     ]
    }
   ],
   "source": [
    "#cir_area_peri.py\n",
    "def area_peri(r):\n",
    "    pi=3.14\n",
    "    area=pi*r**2\n",
    "    perimeter=2*pi*r\n",
    "    return area,perimeter\n",
    "#main program\n",
    "r=float(input(\"Enter the value of radius:\"))\n",
    "result=area_peri(r)\n",
    "print(\"Area and Perimeter of the circle of radius{} is {} and {}\".format(r,result[0],result[1]))"
   ]
  },
  {
   "cell_type": "markdown",
   "metadata": {},
   "source": [
    "<font color='#D2691E'>**Qn) Write a python program which will demonstrate the collection object extraction using function**</font>"
   ]
  },
  {
   "cell_type": "code",
   "execution_count": 26,
   "metadata": {},
   "outputs": [
    {
     "name": "stdout",
     "output_type": "stream",
     "text": [
      "List of values\n",
      "1\n",
      "2\n",
      "3\n",
      "4\n",
      "5\n",
      "6\n",
      "7\n",
      "Set of values\n",
      "56.56\n",
      "True\n",
      "Anu\n",
      "23\n",
      "**************************************************\n",
      "Dict of values:\n",
      "\t10-->java\n",
      "\t20-->Python\n",
      "\t30-->SQL\n",
      "\t40-->hadoop\n"
     ]
    }
   ],
   "source": [
    "#collectionvalues.py\n",
    "def disp(obj):\n",
    "    for val in obj:\n",
    "        print(val)\n",
    "\n",
    "def show(obj):\n",
    "    for k,v in obj.items():\n",
    "        print(\"\\t{}-->{}\".format(k,v))\n",
    "\n",
    "\n",
    "#main program\n",
    "print(\"List of values\")\n",
    "lst=[1,2,3,4,5,6,7]\n",
    "disp(lst)\n",
    "\n",
    "\n",
    "print(\"Set of values\")\n",
    "st={23, \"Anu\", 56.56, True}\n",
    "disp(st)\n",
    "print(\"*\"*50)\n",
    "\n",
    "print(\"Dict of values:\")\n",
    "dt={10:\"java\",20:\"Python\",30:\"SQL\",40:\"hadoop\"}\n",
    "show(dt)"
   ]
  },
  {
   "cell_type": "code",
   "execution_count": null,
   "metadata": {},
   "outputs": [],
   "source": []
  }
 ],
 "metadata": {
  "kernelspec": {
   "display_name": "Python 3",
   "language": "python",
   "name": "python3"
  },
  "language_info": {
   "codemirror_mode": {
    "name": "ipython",
    "version": 3
   },
   "file_extension": ".py",
   "mimetype": "text/x-python",
   "name": "python",
   "nbconvert_exporter": "python",
   "pygments_lexer": "ipython3",
   "version": "3.8.5"
  }
 },
 "nbformat": 4,
 "nbformat_minor": 4
}
