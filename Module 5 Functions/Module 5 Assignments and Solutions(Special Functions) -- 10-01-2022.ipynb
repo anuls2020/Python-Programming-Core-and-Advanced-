{
 "cells": [
  {
   "cell_type": "markdown",
   "metadata": {},
   "source": [
    "# filter() function"
   ]
  },
  {
   "cell_type": "markdown",
   "metadata": {},
   "source": [
    "<font color='#D2691E'>**Qn) Write a python program which will filter out positive and negative elements seperately from a list**</font>"
   ]
  },
  {
   "cell_type": "code",
   "execution_count": 2,
   "metadata": {},
   "outputs": [
    {
     "name": "stdout",
     "output_type": "stream",
     "text": [
      "Positive Values of the list([-1, -2, -3, -4, -5, 1, 2, 3, 4, 5]): ([1, 2, 3, 4, 5])\n",
      "Negative Values of the list([-1, -2, -3, -4, -5, 1, 2, 3, 4, 5]): ([-1, -2, -3, -4, -5])\n"
     ]
    }
   ],
   "source": [
    "#filterex1.py\n",
    "# this progrm will filter out the positive and negative values form the given list, using normal programming method\n",
    "\n",
    "def positive(n):\n",
    "    if n>0:\n",
    "        return True\n",
    "    else:\n",
    "        return False\n",
    "    \n",
    "def negative(n):\n",
    "    if n<0:\n",
    "        return True\n",
    "    else:\n",
    "        return False\n",
    "    \n",
    "#main program\n",
    "\n",
    "lst=[-1,-2,-3,-4,-5,1,2,3,4,5]\n",
    "pslst=filter(positive,lst)\n",
    "positive_values=list(pslst)\n",
    "print(\"Positive Values of the list({}): ({})\".format(lst,positive_values))\n",
    "\n",
    "nslst=filter(negative,lst)\n",
    "negative_values=list(nslst)\n",
    "print(\"Negative Values of the list({}): ({})\".format(lst,negative_values))\n"
   ]
  },
  {
   "cell_type": "code",
   "execution_count": 3,
   "metadata": {},
   "outputs": [
    {
     "name": "stdout",
     "output_type": "stream",
     "text": [
      "Positive Values of the list([-1, -2, -3, -4, -5, 1, 2, 3, 4, 5]): ([1, 2, 3, 4, 5])\n",
      "Negative Values of the list([-1, -2, -3, -4, -5, 1, 2, 3, 4, 5]): ([-1, -2, -3, -4, -5])\n"
     ]
    }
   ],
   "source": [
    "#filterex2.py\n",
    "#Let's see how to do it using Lambda function\n",
    "\n",
    "posop = lambda n: n>0\n",
    "\n",
    "negop = lambda n: n<0\n",
    "\n",
    "#main program\n",
    "lst=[-1,-2,-3,-4,-5,1,2,3,4,5]\n",
    "\n",
    "pslst=filter(posop, lst)\n",
    "positive_values=list(pslst)\n",
    "print(\"Positive Values of the list({}): ({})\".format(lst,positive_values))\n",
    "\n",
    "nslst=filter(negop, lst)\n",
    "negative_values=list(nslst)\n",
    "print(\"Negative Values of the list({}): ({})\".format(lst,negative_values))"
   ]
  },
  {
   "cell_type": "code",
   "execution_count": 4,
   "metadata": {},
   "outputs": [
    {
     "name": "stdout",
     "output_type": "stream",
     "text": [
      "Positive Values of the list([-1, -2, -3, -4, -5, 1, 2, 3, 4, 5]): ([1, 2, 3, 4, 5])\n",
      "Positive Values of the list([-1, -2, -3, -4, -5, 1, 2, 3, 4, 5]): ([-1, -2, -3, -4, -5])\n"
     ]
    }
   ],
   "source": [
    "#filerex3.py\n",
    "lst=[-1,-2,-3,-4,-5,1,2,3,4,5]\n",
    "pslst=list(filter(lambda n: n>0, lst))\n",
    "nslst=list(filter(lambda n: n<0, lst))\n",
    "print(\"Positive Values of the list({}): ({})\".format(lst,pslst))\n",
    "print(\"Positive Values of the list({}): ({})\".format(lst,nslst))"
   ]
  },
  {
   "cell_type": "markdown",
   "metadata": {},
   "source": [
    "<font color='#D2691E'>**Qn) Write a python program which will read the value dynamically from keyboard and filter out positive and negative elements seperately from a list**</font>"
   ]
  },
  {
   "cell_type": "code",
   "execution_count": 10,
   "metadata": {},
   "outputs": [
    {
     "name": "stdout",
     "output_type": "stream",
     "text": [
      "Enter how many  numeric elements :4\n",
      "1\n",
      "2\n",
      "-1\n",
      "-2\n",
      "Original list values:[1, 2, -1, -2]\n",
      "--------------------------------------------------\n",
      "Positive elements of the list are: [1, 2]\n",
      "Negative elements of the list are: [-1, -2]\n"
     ]
    }
   ],
   "source": [
    "#filterex4.py\n",
    "lst=[]\n",
    "n=int(input(\"Enter how many  numeric elements :\"))\n",
    "\n",
    "for i in range(1,n+1):\n",
    "    val=int(input())\n",
    "    lst.append(val)\n",
    "else:\n",
    "    print(\"Original list values:{}\".format(lst))\n",
    "    print(\"-\"*50)    \n",
    "    pslst=list(filter(lambda n: n>0, lst))\n",
    "    nslst=list(filter(lambda n: n<0, lst))\n",
    "    print(\"Positive elements of the list are: {}\".format(pslst))\n",
    "    print(\"Negative elements of the list are: {}\".format(nslst))"
   ]
  },
  {
   "cell_type": "markdown",
   "metadata": {},
   "source": [
    "**Do the same with delimiter value**"
   ]
  },
  {
   "cell_type": "code",
   "execution_count": 12,
   "metadata": {},
   "outputs": [
    {
     "name": "stdout",
     "output_type": "stream",
     "text": [
      "Enter the value seperated by coma\n",
      "1,2,3,4,-1,-2,-8,-6,-7\n",
      "Original list values:[1, 2, 3, 4, -1, -2, -8, -6, -7]\n",
      "--------------------------------------------------\n",
      "Positive elements of the list are: [1, 2, 3, 4]\n",
      "Negative elements of the list are: [-1, -2, -8, -6, -7]\n"
     ]
    }
   ],
   "source": [
    "#FilterEx5.py\n",
    "#read the elements dynamically\n",
    "# program filtering Postive and Negative numbers by using filter()\n",
    "print(\"Enter the value seperated by coma\")\n",
    "lst=[int(val) for val in input().split(\",\")]\n",
    "\n",
    "print(\"Original list values:{}\".format(lst))\n",
    "print(\"-\"*50)    \n",
    "pslst=list(filter(lambda n: n>0, lst))\n",
    "nslst=list(filter(lambda n: n<0, lst))\n",
    "print(\"Positive elements of the list are: {}\".format(pslst))\n",
    "print(\"Negative elements of the list are: {}\".format(nslst))"
   ]
  },
  {
   "cell_type": "markdown",
   "metadata": {},
   "source": [
    "<font color='#D2691E'>**Qn) Write a python Program for obtaining even and odd from list of values by using filter()**</font>"
   ]
  },
  {
   "cell_type": "code",
   "execution_count": 16,
   "metadata": {},
   "outputs": [
    {
     "name": "stdout",
     "output_type": "stream",
     "text": [
      "Enter the list of values seperated by space\n",
      "1 2 3 4 5 6 7 8 9\n",
      "The Original list: [1.0, 2.0, 3.0, 4.0, 5.0, 6.0, 7.0, 8.0, 9.0]\n",
      "--------------------------------------------------\n",
      "Odd elements of the list are: [1.0, 3.0, 5.0, 7.0, 9.0]\n",
      "Even elements of the list are: [2.0, 4.0, 6.0, 8.0]\n"
     ]
    }
   ],
   "source": [
    "#filterex6.py\n",
    "print(\"Enter the list of values seperated by space\")\n",
    "\n",
    "lst=[float(val) for val in input().split(\" \")]\n",
    "print(\"The Original list: {}\".format(lst))\n",
    "\n",
    "print(\"-\"*50)    \n",
    "oddlst=list(filter(lambda n: n%2!=0, lst))\n",
    "evenlst=list(filter(lambda n: n%2==0, lst))\n",
    "print(\"Odd elements of the list are: {}\".format(oddlst))\n",
    "print(\"Even elements of the list are: {}\".format(evenlst))"
   ]
  },
  {
   "cell_type": "markdown",
   "metadata": {},
   "source": [
    "# map() function"
   ]
  },
  {
   "cell_type": "code",
   "execution_count": null,
   "metadata": {},
   "outputs": [],
   "source": []
  }
 ],
 "metadata": {
  "kernelspec": {
   "display_name": "Python 3",
   "language": "python",
   "name": "python3"
  },
  "language_info": {
   "codemirror_mode": {
    "name": "ipython",
    "version": 3
   },
   "file_extension": ".py",
   "mimetype": "text/x-python",
   "name": "python",
   "nbconvert_exporter": "python",
   "pygments_lexer": "ipython3",
   "version": "3.8.5"
  }
 },
 "nbformat": 4,
 "nbformat_minor": 4
}
