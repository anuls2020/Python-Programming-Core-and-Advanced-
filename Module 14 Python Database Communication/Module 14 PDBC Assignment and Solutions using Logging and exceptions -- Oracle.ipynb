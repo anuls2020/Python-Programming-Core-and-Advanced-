{
 "cells": [
  {
   "cell_type": "markdown",
   "id": "c08298a4",
   "metadata": {
    "heading_collapsed": true
   },
   "source": [
    "## Programs with print outputs"
   ]
  },
  {
   "cell_type": "code",
   "execution_count": null,
   "id": "e6d5ed2a",
   "metadata": {
    "hidden": true,
    "scrolled": true
   },
   "outputs": [],
   "source": [
    "!pip install cx_Oracle"
   ]
  },
  {
   "cell_type": "code",
   "execution_count": null,
   "id": "a02c5e19",
   "metadata": {
    "hidden": true
   },
   "outputs": [],
   "source": [
    "!pip install mysql-connector-python"
   ]
  },
  {
   "cell_type": "markdown",
   "id": "512d587d",
   "metadata": {
    "hidden": true
   },
   "source": [
    "<font color='#D2691E'>**Qn) Write a Python Program which will demonstrate how to get the connection from Oracle DB**</font>"
   ]
  },
  {
   "cell_type": "code",
   "execution_count": null,
   "id": "6193f51e",
   "metadata": {
    "hidden": true
   },
   "outputs": [],
   "source": [
    "#contest1.py\n",
    "#Step-1: import the oracle module\n",
    "import cx_Oracle\n",
    "#Step-2: Extablish connection\n",
    "try:\n",
    "    anuconn=cx_Oracle.connect(\"anu/tiger@localhost:1522/ordb1\")\n",
    "    print(\"\\nPython Program obtained Connection from Oracle DB\")\n",
    "    print(\"\\nType of connection onbject'anuconn' \", type(anuconn))\n",
    "except cx_Oracle.DatabaseError as db:\n",
    "    print(\"Connection Problem:\",db)"
   ]
  },
  {
   "cell_type": "code",
   "execution_count": null,
   "id": "628aa4c8",
   "metadata": {
    "hidden": true
   },
   "outputs": [],
   "source": [
    "#contest2.py\n",
    "#Step-1: import the oracle module\n",
    "import cx_Oracle\n",
    "#Step-2: Extablish connection\n",
    "try:\n",
    "    anuconn=cx_Oracle.connect(\"anu/tiger@127.0.0.1:1522/ordb1\")\n",
    "    print(\"\\nPython Program obtained Connection from Oracle DB\")\n",
    "    print(\"\\nType of connection onbject'anuconn' \", type(anuconn))\n",
    "except cx_Oracle.DatabaseError as db:\n",
    "    print(\"Connection Problem:\",db)"
   ]
  },
  {
   "cell_type": "markdown",
   "id": "d5bc4728",
   "metadata": {
    "hidden": true
   },
   "source": [
    "<font color='#D2691E'>**Qn) Write a Python Program which will demonstrate how to cerate an object of cursor in Oracle DB**</font>"
   ]
  },
  {
   "cell_type": "code",
   "execution_count": 28,
   "id": "f136ee1d",
   "metadata": {
    "hidden": true,
    "run_control": {
     "marked": false
    }
   },
   "outputs": [
    {
     "name": "stdout",
     "output_type": "stream",
     "text": [
      "\n",
      "Python Program obtained connection from Oracle DB\n",
      "\n",
      "Type og connection Object 'conobj' <class 'cx_Oracle.Connection'>\n",
      "\n",
      "Cursor Obj Created\n",
      "Type of Cursor object <class 'cx_Oracle.Cursor'>\n"
     ]
    }
   ],
   "source": [
    "#cursorobj1.py\n",
    "#demonstrate cursor object creation\n",
    "#Step-1 import modules\n",
    "import cx_Oracle\n",
    "\n",
    "#Step2: Obtain Connection\n",
    "try:\n",
    "    conobj=cx_Oracle.connect(\"anu/tiger@localhost:1522/ordb1\")\n",
    "    print(\"\\nPython Program obtained connection from Oracle DB\")\n",
    "    print(\"\\nType og connection Object 'conobj'\", type(conobj))\n",
    "#Step3:Create Cursor Obj    \n",
    "    curobj=conobj.cursor()\n",
    "    print(\"\\nCursor Obj Created\")\n",
    "    print(\"Type of Cursor object\", type(curobj))\n",
    "except cx_Oracle.DatabaseError as db:\n",
    "    print(\"Connection Problem\", db)    "
   ]
  },
  {
   "cell_type": "code",
   "execution_count": 33,
   "id": "5f38a9b6",
   "metadata": {
    "hidden": true
   },
   "outputs": [
    {
     "name": "stdout",
     "output_type": "stream",
     "text": [
      "\n",
      "Python Program Obtained Connection from Oracle DB\n",
      "\n",
      "Type of the connection Object <class 'cx_Oracle.Connection'>\n",
      "\n",
      "Cursor Object created\n",
      "\n",
      "Type of the cursor object <class 'cx_Oracle.Cursor'>\n"
     ]
    }
   ],
   "source": [
    "#cursorobj1.py\n",
    "import cx_Oracle\n",
    "\n",
    "try:\n",
    "    conobj=cx_Oracle.connect(\"anu/tiger@127.0.0.1:1522/ordb1\")\n",
    "    print(\"\\nPython Program Obtained Connection from Oracle DB\")\n",
    "    print(\"\\nType of the connection Object\", type(conobj))\n",
    "    curobj=conobj.cursor()\n",
    "    print(\"\\nCursor Object created\")\n",
    "    print(\"\\nType of the cursor object\", type(curobj))\n",
    "except cx_Oracle.DatabaseError as db:\n",
    "    print(\"Connection Problem\", db)"
   ]
  },
  {
   "cell_type": "markdown",
   "id": "ab114e12",
   "metadata": {
    "heading_collapsed": true,
    "hidden": true
   },
   "source": [
    "### DDL Operations"
   ]
  },
  {
   "cell_type": "markdown",
   "id": "da269a03",
   "metadata": {
    "hidden": true
   },
   "source": [
    "<font color='#D2691E'>**Qn) Write a Python Program which will demonstrate how to cerate a table in in Oracle DB**</font>"
   ]
  },
  {
   "cell_type": "code",
   "execution_count": 1,
   "id": "82d08e33",
   "metadata": {
    "hidden": true
   },
   "outputs": [
    {
     "name": "stdout",
     "output_type": "stream",
     "text": [
      "DB Error: ORA-00955: name is already used by an existing object\n"
     ]
    }
   ],
   "source": [
    "#createtble1.py\n",
    "import cx_Oracle\n",
    "try:\n",
    "    conobj=cx_Oracle.connect(\"anu/tiger@localhost:1522/ordb1\")\n",
    "    curobj=conobj.cursor()\n",
    "    cq=\"create table student(stno number(2) primary key, name varchar2(15) not null, marks number(5,2) not null)\"\n",
    "    curobj.execute(cq)\n",
    "    print(\"\\nTable Created successfully\")\n",
    "except cx_Oracle.DatabaseError as db:\n",
    "    print(\"DB Error:\", db)"
   ]
  },
  {
   "cell_type": "code",
   "execution_count": 4,
   "id": "10ea2d37",
   "metadata": {
    "hidden": true
   },
   "outputs": [
    {
     "name": "stdout",
     "output_type": "stream",
     "text": [
      "DB Error: ORA-00955: name is already used by an existing object\n"
     ]
    }
   ],
   "source": [
    "#createtable2.py\n",
    "import cx_Oracle\n",
    "try:\n",
    "    conobj=cx_Oracle.connect(\"anu/tiger@localhost:1522/ordb1\")\n",
    "    curobj=conobj.cursor()\n",
    "    curobj.execute(\"create table student(stno number(2) primary key, name varchar2(15) not null, marks number(5,2) not null)\")\n",
    "    print(\"\\nTable Created Successfully\")\n",
    "except cx_Oracle.DatabaseError as db:\n",
    "    print(\"DB Error:\", db)"
   ]
  },
  {
   "cell_type": "markdown",
   "id": "3296a468",
   "metadata": {
    "hidden": true
   },
   "source": [
    "<font color='#D2691E'>**Qn) Write a Python Program which will demonstrate how to alter a table in in Oracle DB**</font>"
   ]
  },
  {
   "cell_type": "code",
   "execution_count": 5,
   "id": "b808bc99",
   "metadata": {
    "hidden": true
   },
   "outputs": [
    {
     "name": "stdout",
     "output_type": "stream",
     "text": [
      "\n",
      "Connected to the database successfully\n",
      "\n",
      "Cursor object created Successfully\n",
      "\n",
      "First query executed successfully\n",
      "\n",
      "Second query executed successfully\n"
     ]
    }
   ],
   "source": [
    "#altertble1.py\n",
    "import cx_Oracle\n",
    "try:\n",
    "    conobj=cx_Oracle.connect(\"anu/tiger@localhost:1522/ordb1\")\n",
    "    print(\"\\nConnected to the database successfully\")\n",
    "    curobj=conobj.cursor()\n",
    "    print('\\nCursor object created Successfully')\n",
    "    query1=\"alter table student modify(stno number(3))\"\n",
    "    query2=\"alter table student add(cname varchar2(30))\"\n",
    "\n",
    "    curobj.execute(query1)\n",
    "    print(\"\\nFirst query executed successfully\")\n",
    "    curobj.execute(query2)\n",
    "    print(\"\\nSecond query executed successfully\")\n",
    "\n",
    "except cx_Oracle.DatabaseError as db:\n",
    "    print(\"Problem with altering the database tables:\", db)"
   ]
  },
  {
   "cell_type": "markdown",
   "id": "c3e03de1",
   "metadata": {
    "hidden": true
   },
   "source": [
    "<font color='#D2691E'>**Qn) Write a Python Program to  create an employee table in in Oracle DB**</font>"
   ]
  },
  {
   "cell_type": "code",
   "execution_count": 13,
   "id": "8690b7ef",
   "metadata": {
    "hidden": true
   },
   "outputs": [
    {
     "name": "stdout",
     "output_type": "stream",
     "text": [
      "\n",
      "Table Created in the OracleDatabase -- Please verify\n"
     ]
    }
   ],
   "source": [
    "#employeetbl.py\n",
    "#This Program demonstrates how to create a table in Oracle DB\n",
    "\n",
    "#Step1\n",
    "import cx_Oracle\n",
    "\n",
    "#step2\n",
    "try:\n",
    "    conobj=cx_Oracle.connect(\"anu/tiger@localhost:1522/ordb1\")\n",
    "    curobj=conobj.cursor()\n",
    "    cq=\"create table employee(eno number(2) primary key, name varchar2(10) not null, sal number(8,2) )\"\n",
    "    curobj.execute(cq)\n",
    "    print(\"\\nTable Created in the OracleDatabase -- Please verify\")\n",
    "except cx_Oracle.DatabaseError as db:\n",
    "    print(\"\\nDatabase Exception:\", db)"
   ]
  },
  {
   "cell_type": "markdown",
   "id": "9ea6ed9c",
   "metadata": {
    "hidden": true
   },
   "source": [
    "<font color='#D2691E'>**Qn) Write a Python Program to  modify the employee table(add column) in in Oracle DB**</font>"
   ]
  },
  {
   "cell_type": "code",
   "execution_count": 14,
   "id": "d44c2bde",
   "metadata": {
    "hidden": true
   },
   "outputs": [
    {
     "name": "stdout",
     "output_type": "stream",
     "text": [
      "\n",
      "Table altered with a new column\n"
     ]
    }
   ],
   "source": [
    "#alteraddex1.py\n",
    "#This program will demonstrate how to add a new column in the table using python program\n",
    "import cx_Oracle\n",
    "\n",
    "try:\n",
    "    conobj=cx_Oracle.connect(\"anu/tiger@localhost:1522/ordb1\")\n",
    "    curobj=conobj.cursor()\n",
    "    cq=\"alter table employee add(cname varchar2(15) not null)\"\n",
    "    curobj.execute(cq)\n",
    "    print(\"\\nTable altered with a new column\")\n",
    "except cx_Oracle.DatabaseError as db:\n",
    "    print(\"\\nDatabase esception\", db)"
   ]
  },
  {
   "cell_type": "markdown",
   "id": "785a5014",
   "metadata": {
    "hidden": true
   },
   "source": [
    "<font color='#D2691E'>**Qn) Write a Python Program to  modify the employee table(modify column) in in Oracle DB**</font>"
   ]
  },
  {
   "cell_type": "code",
   "execution_count": 15,
   "id": "2295c62f",
   "metadata": {
    "hidden": true
   },
   "outputs": [
    {
     "name": "stdout",
     "output_type": "stream",
     "text": [
      "\n",
      "Employee table modified successfully\n"
     ]
    }
   ],
   "source": [
    "#altermodifyex1.py\n",
    "#This program will demonstrate how to modify an oracle database table using python programming\n",
    "import cx_Oracle\n",
    "\n",
    "try:\n",
    "    conobj=cx_Oracle.connect(\"anu/tiger@localhost:1522/ordb1\")\n",
    "    curobj=conobj.cursor()\n",
    "    curobj.execute(\"alter table employee modify(eno number(3), name varchar2(15))\")\n",
    "    print(\"\\nEmployee table modified successfully\")\n",
    "except cx_Oracle.DatabaseError as db:\n",
    "    print(\"\\nDatabase Exception\", db)"
   ]
  },
  {
   "cell_type": "markdown",
   "id": "bf780356",
   "metadata": {
    "hidden": true
   },
   "source": [
    "<font color='#D2691E'>**Qn) Write a Python Program to  drop the employee table in Oracle DB**</font>"
   ]
  },
  {
   "cell_type": "code",
   "execution_count": 16,
   "id": "5df3e603",
   "metadata": {
    "hidden": true
   },
   "outputs": [
    {
     "name": "stdout",
     "output_type": "stream",
     "text": [
      "\n",
      "Employee Table dropped Successfully\n"
     ]
    }
   ],
   "source": [
    "#droptbleex.py\n",
    "#This program will demonstrate how to drop a table using python program. \n",
    "import cx_Oracle\n",
    "\n",
    "try:\n",
    "    conobj=cx_Oracle.connect(\"anu/tiger@localhost:1522/ordb1\")\n",
    "    curobj=conobj.cursor()\n",
    "    curobj.execute(\"drop table employee\")\n",
    "    print(\"\\nEmployee Table dropped Successfully\")\n",
    "except cx_Oracle.DatabaseError as db:\n",
    "    print(\"\\nDatabase Exception\", db)"
   ]
  },
  {
   "cell_type": "markdown",
   "id": "836a7c7e",
   "metadata": {},
   "source": [
    "## Program with logging"
   ]
  },
  {
   "cell_type": "markdown",
   "id": "4293a2da",
   "metadata": {},
   "source": [
    "<font color='#D2691E'>**Qn) Write a Python Program which will demonstrate how to cerate a table in in Oracle DB**</font>"
   ]
  },
  {
   "cell_type": "code",
   "execution_count": null,
   "id": "7dfacd2e",
   "metadata": {},
   "outputs": [],
   "source": [
    "# This program will demonstrate how to create tables on Oracle Database\n",
    "# emptable.py\n",
    "\n",
    "import cx_Oracle\n",
    "import logging\n",
    "\n",
    "logging.basicConfig(filename=\"emptable.log\", level=logging.INFO,\n",
    "                    format='%(asctime)s: %(levelname)s: %(name)s: %(message)s')\n",
    "\n",
    "try:\n",
    "    logging.info(\"Trying to establish the Oracle database connection.\")\n",
    "    con = cx_Oracle.connect(\"anu/tiger@localhost/orcl\")\n",
    "    logging.info(\"Successfully established the database connection\")\n",
    "    cur = con.cursor()\n",
    "    logging.info(\"Oracle Database Cursor Object Created\")\n",
    "    cq = \"create table employee1(eno number(2) primary key, name varchar2(15) not null, sal number(8,2) not null )\"\n",
    "    cur.execute(cq)\n",
    "    logging.info(\"Successfully Created the table in Oracle database\")\n",
    "except cx_Oracle.DatabaseError as dbe:\n",
    "    logging.exception(dbe)\n",
    "except TypeError as te:\n",
    "    logging.exception(te)\n",
    "except ValueError as ve:\n",
    "    logging.exception(ve)"
   ]
  },
  {
   "cell_type": "markdown",
   "id": "b22ba544",
   "metadata": {},
   "source": [
    "<font color='#D2691E'>**Qn) Write a Python Program which will demonstrate how to alter a table in in Oracle DB**</font>"
   ]
  },
  {
   "cell_type": "code",
   "execution_count": null,
   "id": "c074b22f",
   "metadata": {},
   "outputs": [],
   "source": [
    "# write a python program which demonstrate how to alter the table\n",
    "# altermodifyex1.py\n",
    "\n",
    "import cx_Oracle\n",
    "import logging\n",
    "\n",
    "logging.basicConfig(filename=\"altermodifyex1.log\", level=logging.INFO,\n",
    "                    format='%(asctime)s %(levelname)s %(name)s %(message)s')\n",
    "\n",
    "try:\n",
    "    logging.info(\"Trying to establish the Oracle database connection.\")\n",
    "    con = cx_Oracle.connect(\"anu/tiger@localhost/orcl\")\n",
    "    logging.info(\"Successfully established the database connection\")\n",
    "    cur = con.cursor()\n",
    "    logging.info(\"Oracle Database Cursor Object Created\")\n",
    "    cq = \"alter table employee modify (eno number(5),name varchar2(15) )\"\n",
    "    cur.execute(cq)\n",
    "    logging.info(\"Successfully modified the table in Oracle database\")\n",
    "\n",
    "except cx_Oracle.DatabaseError as de:\n",
    "    logging.exception(de)\n",
    "except TypeError as te:\n",
    "    logging.exception(te)\n",
    "except ValueError as ve:\n",
    "    logging.exception(ve)\n",
    "except AttributeError as ae:\n",
    "    logging.exception(ae)"
   ]
  },
  {
   "cell_type": "markdown",
   "id": "4dcd0b23",
   "metadata": {},
   "source": [
    "<font color='#D2691E'>**Qn) Write a Python Program to  modify the employee table(add column) in in Oracle DB**</font>"
   ]
  },
  {
   "cell_type": "code",
   "execution_count": null,
   "id": "371fb5a2",
   "metadata": {},
   "outputs": [],
   "source": [
    "# write a python program which demonstrate how to alter the table\n",
    "# alteraddex.py\n",
    "\n",
    "import cx_Oracle\n",
    "import logging\n",
    "\n",
    "logging.basicConfig(filename=\"altermodifyex1.log\", level=logging.INFO,\n",
    "                    format='%(asctime)s %(levelname)s %(name)s %(message)s')\n",
    "\n",
    "try:\n",
    "    logging.info(\"Trying to establish the Oracle database connection.\")\n",
    "    con = cx_Oracle.connect(\"anu/tiger@localhost/orcl\")\n",
    "    logging.info(\"Successfully established the database connection\")\n",
    "    cur = con.cursor()\n",
    "    logging.info(\"Oracle Database Cursor Object Created\")\n",
    "    cq = \"alter table employee add cname varchar2(10) not null\"\n",
    "    cur.execute(cq)\n",
    "    logging.info(\"Successfully added a new column to the table in Oracle database\")\n",
    "\n",
    "except cx_Oracle.DatabaseError as de:\n",
    "    logging.exception(de)\n",
    "except TypeError as te:\n",
    "    logging.exception(te)\n",
    "except ValueError as ve:\n",
    "    logging.exception(ve)\n",
    "except AttributeError as ae:\n",
    "    logging.exception(ae)\n"
   ]
  },
  {
   "cell_type": "markdown",
   "id": "f72928a8",
   "metadata": {},
   "source": [
    "<font color='#D2691E'>**Qn) Write a Python Program to  drop the employee table in Oracle DB**</font>"
   ]
  },
  {
   "cell_type": "code",
   "execution_count": null,
   "id": "a5854ea8",
   "metadata": {},
   "outputs": [],
   "source": [
    "## DML Operations\n",
    "\n",
    "<font color='#D2691E'>**Qn) Write a Python Program which will insert Employee record data in employee table in Oracle DB**</font>\n",
    "\n",
    "# write a python program which demonstrate how to alter the table\n",
    "# alterdropex.py\n",
    "\n",
    "import cx_Oracle\n",
    "import logging\n",
    "\n",
    "logging.basicConfig(filename=\"alterdropex.log\", level=logging.INFO,\n",
    "                    format='%(asctime)s %(levelname)s %(name)s %(message)s')\n",
    "\n",
    "try:\n",
    "    logging.info(\"Trying to establish the Oracle database connection.\")\n",
    "    con = cx_Oracle.connect(\"anu/tiger@localhost/orcl\")\n",
    "    logging.info(\"Successfully established the database connection\")\n",
    "    cur = con.cursor()\n",
    "    logging.info(\"Oracle Database Cursor Object Created\")\n",
    "    cq = \"drop table employee\"\n",
    "    cur.execute(cq)\n",
    "    logging.info(\"Successfully dropped the table in Oracle database\")\n",
    "\n",
    "except cx_Oracle.DatabaseError as de:\n",
    "    logging.exception(de)\n",
    "except TypeError as te:\n",
    "    logging.exception(te)\n",
    "except ValueError as ve:\n",
    "    logging.exception(ve)\n",
    "except AttributeError as ae:\n",
    "    logging.exception(ae)\n"
   ]
  },
  {
   "cell_type": "markdown",
   "id": "0908fbd4",
   "metadata": {},
   "source": [
    "## DML Operations"
   ]
  },
  {
   "cell_type": "markdown",
   "id": "0d17abfb",
   "metadata": {},
   "source": [
    "### Insert"
   ]
  },
  {
   "cell_type": "markdown",
   "id": "5ee56111",
   "metadata": {},
   "source": [
    "<font color='#D2691E'>**Qn) Write a Python Program which will insert Employee record data in employee table in Oracle DB**</font>"
   ]
  },
  {
   "cell_type": "code",
   "execution_count": null,
   "id": "032276bd",
   "metadata": {},
   "outputs": [],
   "source": [
    "# insertex1.py\n",
    "# write a python program which will insert employee record data in employee table of oracle -- with static data.\n",
    "\n",
    "import cx_Oracle\n",
    "import logging\n",
    "\n",
    "logging.basicConfig(filename=\"insertex1.log\", level=logging.INFO,\n",
    "                    format='%(asctime)s %(levelname)s %(name)s %(message)s')\n",
    "\n",
    "try:\n",
    "    logging.info(\"Trying to establish the Oracle database connection.\")\n",
    "    conn = cx_Oracle.connect(\"anu/tiger@localhost/orcl\")\n",
    "    logging.info(\"Successfully established the database connection\")\n",
    "    cur = conn.cursor()\n",
    "    logging.info(\"Oracle Database Cursor Object Created\")\n",
    "    cq = \"insert into employee values(3,'Malu',25.50)\"\n",
    "    logging.info(\"Trying to insert the data into the employee table\")\n",
    "    cur.execute(cq)\n",
    "    logging.info(\"Successfully inserted the data in to the employee table\")\n",
    "    conn.commit()\n",
    "except cx_Oracle.DatabaseError as dbe:\n",
    "    logging.exception(dbe)\n",
    "except TypeError as te:\n",
    "    logging.exception(te)\n",
    "except ValueError as ve:\n",
    "    logging.exception(ve)\n"
   ]
  },
  {
   "cell_type": "code",
   "execution_count": null,
   "id": "4535047f",
   "metadata": {},
   "outputs": [],
   "source": [
    "# insertex2.py\n",
    "# write a python program which will insert the employee record dynamically in employee table of oracle\n",
    "\n",
    "import cx_Oracle\n",
    "import logging\n",
    "\n",
    "logging.basicConfig(filename=\"insertex2.log\", level=logging.INFO,\n",
    "                    format='%(asctime)s %(levelname)s %(name)s %(message)s')\n",
    "\n",
    "\n",
    "def empinsert():\n",
    "    try:\n",
    "        logging.info(\"Trying to establish the Oracle database connection.\")\n",
    "        conn = cx_Oracle.connect(\"anu/tiger@localhost/orcl\")\n",
    "        logging.info(\"Successfully established the database connection\")\n",
    "        cur = conn.cursor()\n",
    "        logging.info(\"Oracle Database Cursor Object Created\")\n",
    "        logging.info(\"Accept Employee data dynamically from keyboard\")\n",
    "\n",
    "        try:\n",
    "            eno = int(input(\"Enter employee number:\"))\n",
    "        except ValueError as ve:\n",
    "            logging.exception(\"Employee number must be an integer\", ve)\n",
    "        name = input(\"Enter employee name:\")\n",
    "        try:\n",
    "            sal = float(input(\"Enter employee salary:\"))\n",
    "        except ValueError:\n",
    "            logging.exception(\"Salary should be an integer or float value; str/special symbol are not accepted\")\n",
    "\n",
    "        logging.info(\"Trying to insert the data into the employee table\")\n",
    "\n",
    "        iq = \"insert into employee values(%d,'%s',%f)\"\n",
    "\n",
    "        cur.execute(iq %(eno, name, sal))\n",
    "\n",
    "        #(OR)   cur.execute(\"insert into employee values(%d, '%s', %f)\" %(eno, name, sal))\n",
    "\n",
    "        logging.info(\"{} employee record inserted Successfully\".format(cur.rowcount))\n",
    "        conn.commit()\n",
    "    except cx_Oracle.DatabaseError as dbe:\n",
    "        logging.exception(dbe)\n",
    "    except TypeError as te:\n",
    "        logging.exception(te)\n",
    "    except ValueError as ve1:\n",
    "        logging.exception(ve1)\n",
    "\n",
    "#main program\n",
    "empinsert()"
   ]
  },
  {
   "cell_type": "code",
   "execution_count": null,
   "id": "b61c3858",
   "metadata": {},
   "outputs": [],
   "source": [
    "# insertex3.py\n",
    "# write a python program which will insert the employee record dynamically in employee table of oracle continuously\n",
    "import sys\n",
    "\n",
    "import cx_Oracle\n",
    "import logging\n",
    "import sys\n",
    "\n",
    "logging.basicConfig(filename=\"insertex3.log\", level=logging.INFO,\n",
    "                    format='%(asctime)s %(levelname)s %(name)s %(message)s')\n",
    "\n",
    "\n",
    "def empinsert():\n",
    "    while(True):\n",
    "        try:\n",
    "            logging.info(\"Trying to establish the Oracle database connection.\")\n",
    "            conn = cx_Oracle.connect(\"anu/tiger@localhost/orcl\")\n",
    "            logging.info(\"Successfully established the database connection\")\n",
    "            cur = conn.cursor()\n",
    "            logging.info(\"Oracle Database Cursor Object Created\")\n",
    "            logging.info(\"Accept Employee data dynamically from keyboard continuously\")\n",
    "            try:\n",
    "                eno = int(input(\"Enter employee number:\"))\n",
    "            except ValueError as ve:\n",
    "                logging.exception(\"Employee number must be an integer\", ve)\n",
    "            name = input(\"Enter employee name:\")\n",
    "            try:\n",
    "                sal = float(input(\"Enter employee salary:\"))\n",
    "            except ValueError:\n",
    "                logging.exception(\"Salary should be an integer or float value; str/special symbol are not accepted\")\n",
    "\n",
    "            logging.info(\"Trying to insert the data into the employee table\")\n",
    "\n",
    "            iq = \"insert into employee values(%d,'%s',%f)\"\n",
    "\n",
    "            cur.execute(iq %(eno, name, sal))\n",
    "\n",
    "            #(OR)   cur.execute(\"insert into employee values(%d, '%s', %f)\" %(eno, name, sal))\n",
    "\n",
    "            logging.info(\"{} employee record inserted Successfully\".format(cur.rowcount))\n",
    "            conn.commit()\n",
    "        except cx_Oracle.DatabaseError as dbe:\n",
    "            logging.exception(dbe)\n",
    "        except TypeError as te:\n",
    "            logging.exception(te)\n",
    "        except ValueError as ve1:\n",
    "            logging.exception(ve1)\n",
    "\n",
    "        ch=input(\"Do you want to insert another record:\")\n",
    "        if ch == \"no\":\n",
    "            sys.exit()\n",
    "\n",
    "\n",
    "#main program\n",
    "empinsert()"
   ]
  },
  {
   "cell_type": "markdown",
   "id": "6be9d31a",
   "metadata": {},
   "source": [
    "### delete"
   ]
  },
  {
   "cell_type": "markdown",
   "id": "d55bc407",
   "metadata": {},
   "source": [
    "<font color='#D2691E'>**Qn) Write a Python Program which will delete Employee record data in employee table in Oracle DB**</font>"
   ]
  },
  {
   "cell_type": "code",
   "execution_count": null,
   "id": "896af96b",
   "metadata": {},
   "outputs": [],
   "source": [
    "# deleteex1.py\n",
    "# write a python program which will delete a record based on employee number.\n",
    "\n",
    "import cx_Oracle\n",
    "import logging\n",
    "\n",
    "logging.basicConfig(filename=\"deleteex1.log\", level=logging.INFO,\n",
    "                    format='%(asctime)s %(levelname)s %(name)s %(message)s')\n",
    "\n",
    "try:\n",
    "    logging.info(\"Trying to establish the Oracle database connection.\")\n",
    "    conn = cx_Oracle.connect(\"anu/tiger@localhost/orcl\")\n",
    "    logging.info(\"Successfully established the database connection\")\n",
    "    cur = conn.cursor()\n",
    "    logging.info(\"Oracle Database Cursor Object Created\")\n",
    "    dq = \"delete from employee where eno=1\"\n",
    "    logging.info(\"Trying to delete the record from the employee table\")\n",
    "    cur.execute(dq)\n",
    "    logging.info(\"Successfully deleted the record from the employee table\")\n",
    "    conn.commit()\n",
    "except cx_Oracle.DatabaseError as dbe:\n",
    "    logging.exception(dbe)\n",
    "except TypeError as te:\n",
    "    logging.exception(te)\n",
    "except ValueError as ve:\n",
    "    logging.exception(ve)\n"
   ]
  },
  {
   "cell_type": "code",
   "execution_count": null,
   "id": "a6f8f339",
   "metadata": {},
   "outputs": [],
   "source": [
    "# deleteex2.py\n",
    "# write a python program which will delete a record based on employee number.\n",
    "\n",
    "import cx_Oracle\n",
    "import logging\n",
    "\n",
    "logging.basicConfig(filename=\"deleteex2.log\", level=logging.INFO,\n",
    "                    format='%(asctime)s %(levelname)s %(name)s %(message)s')\n",
    "\n",
    "\n",
    "def empdelete():\n",
    "    while (True):\n",
    "        try:\n",
    "            logging.info(\"Trying to establish the Oracle database connection.\")\n",
    "            conn = cx_Oracle.connect(\"anu/tiger@localhost/orcl\")\n",
    "            logging.info(\"Successfully established the database connection\")\n",
    "            cur = conn.cursor()\n",
    "            logging.info(\"Oracle Database Cursor Object Created\")\n",
    "            logging.info(\"Accept the employee number form KBD\")\n",
    "            eno = int(input(\"Enter the employee number:\"))\n",
    "            # dq = \"delete from employee where eno=1\"\n",
    "            logging.info(\"Trying to delete the record from the employee table\")\n",
    "            cur.execute(\"delete from employee where eno=%d\" % (eno))\n",
    "            conn.commit()\n",
    "            if (cur.rowcount > 0):\n",
    "                logging.info(\"Successfully deleted {} record from the employee table\".format(cur.rowcount))\n",
    "            else:\n",
    "                logging.info(\"Record does not exist.\")\n",
    "        except cx_Oracle.DatabaseError as dbe:\n",
    "            logging.exception(dbe)\n",
    "        except TypeError as te:\n",
    "            logging.exception(te)\n",
    "        except ValueError:\n",
    "            logging.error(\"Don't enter str/Symbols/alpha-numeric in place of numbers\")\n",
    "        ch = input(\"Do you want to delete another record:\")\n",
    "        if ch == \"no\":\n",
    "            logging.info(\"Thanks for using this program!......\")\n",
    "            break\n",
    "\n",
    "\n",
    "# main program\n",
    "empdelete()\n"
   ]
  },
  {
   "cell_type": "code",
   "execution_count": null,
   "id": "f657cd4a",
   "metadata": {},
   "outputs": [],
   "source": [
    "# deleteex3.py\n",
    "# write a python program which will delete employee records whose salary is more than 5.0 lacks\n",
    "\n",
    "import cx_Oracle\n",
    "import logging\n",
    "\n",
    "logging.basicConfig(filename=\"deleteex3.log\", filemode='w', level=logging.INFO,\n",
    "                    format='%(asctime)s %(levelname)s %(name)s %(message)s')\n",
    "\n",
    "\n",
    "def empdelete():\n",
    "    try:\n",
    "        logging.info(\"Trying to establish the Oracle database connection.\")\n",
    "        conn = cx_Oracle.connect(\"anu/tiger@localhost/orcl\")\n",
    "        logging.info(\"Successfully established the database connection\")\n",
    "        cur = conn.cursor()\n",
    "        logging.info(\"Oracle Database Cursor Object Created\")\n",
    "        logging.info(\"Accept the employee number form KBD\")\n",
    "        sal = float(input(\"Enter the salary limit:\"))\n",
    "        logging.info(\"Trying to delete the records from the employee table\")\n",
    "        cur.execute(\"delete from employee where sal>%f\" % (sal))\n",
    "        conn.commit()\n",
    "        if (cur.rowcount > 0):\n",
    "            logging.info(\"Successfully deleted {} record from the employee table\".format(cur.rowcount))\n",
    "        else:\n",
    "            logging.info(\"Record does not exist.\")\n",
    "    except cx_Oracle.DatabaseError as dbe:\n",
    "        logging.exception(dbe)\n",
    "    except TypeError as te:\n",
    "        logging.exception(te)\n",
    "    except ValueError:\n",
    "        logging.error(\"Don't enter str/Symbols/alpha-numeric in place of numbers\")\n",
    "    logging.info(\"Thanks for using this program!......\")\n",
    "\n",
    "\n",
    "# main program\n",
    "empdelete()\n"
   ]
  },
  {
   "cell_type": "markdown",
   "id": "6bb392a1",
   "metadata": {},
   "source": [
    "### update"
   ]
  },
  {
   "cell_type": "markdown",
   "id": "cb0f0445",
   "metadata": {},
   "source": [
    "<font color='#D2691E'>**Qn) write a python program which will update employee salary based on employee number.**</font>"
   ]
  },
  {
   "cell_type": "code",
   "execution_count": null,
   "id": "fd34028f",
   "metadata": {},
   "outputs": [],
   "source": [
    "# updateex1.py\n",
    "# write a python program which will update employee salary based on employee number.\n",
    "\n",
    "import cx_Oracle\n",
    "import logging\n",
    "\n",
    "logging.basicConfig(filename=\"updateex1.log\", level=logging.INFO,\n",
    "                    format='%(asctime)s %(levelname)s %(name)s %(message)s')\n",
    "\n",
    "try:\n",
    "    logging.info(\"Trying the establish the Oracle Database Connection\")\n",
    "    conn = cx_Oracle.connect(\"anu/tiger@localhost/orcl\")\n",
    "    logging.info(\"Successfully established the Oracle Database Connection\")\n",
    "    cur = conn.cursor()\n",
    "    logging.info(\"Created Cursoe object\")\n",
    "    uq = \"update employee set sal=sal+sal*0.1 where eno=3\"\n",
    "    cur.execute(uq)\n",
    "    logging.info(\"Successfully updated the employee table\")\n",
    "    conn.commit()\n",
    "    logging.info(\"Database commit operation completed successfully\")\n",
    "    if (cur.rowcount>0):\n",
    "        logging.info(\"{} record updated successfully\".format(cur.rowcount))\n",
    "\n",
    "except cx_Oracle.DatabaseError as de:\n",
    "    logging.exception(\"de\")\n",
    "except NameError as ne:\n",
    "    logging.exception(ne)"
   ]
  },
  {
   "cell_type": "markdown",
   "id": "eb5bbc02",
   "metadata": {},
   "source": [
    "<font color='#D2691E'>**Qn) write a python program which will update employee salary based on employee number dynamically and continuously.**</font>\n"
   ]
  },
  {
   "cell_type": "code",
   "execution_count": null,
   "id": "abaeb89f",
   "metadata": {},
   "outputs": [],
   "source": [
    "# updateex2.py\n",
    "# write a python program which will update employee salary based on employee number dynamically and continuously.\n",
    "\n",
    "import cx_Oracle\n",
    "import logging\n",
    "import sys\n",
    "\n",
    "logging.basicConfig(filename=\"updateex2.log\", filemode='w', level=logging.INFO,\n",
    "                    format='%(asctime)s %(levelname)s %(name)s %(message)s')\n",
    "\n",
    "\n",
    "def empupdate():\n",
    "    while (True):\n",
    "        try:\n",
    "            logging.info(\"Trying to establish the Oracle database connection.\")\n",
    "            conn = cx_Oracle.connect(\"anu/tiger@localhost/orcl\")\n",
    "            logging.info(\"Successfully established the database connection\")\n",
    "            cur = conn.cursor()\n",
    "            logging.info(\"Oracle Database Cursor Object Created\")\n",
    "            logging.info(\"Accept the employee number form KBD\")\n",
    "            eno = int(input(\"Enter the employee number:\"))\n",
    "            sal = float(input(\"Enter the salary:\"))\n",
    "            logging.info(\"Trying to update the record from the employee table\")\n",
    "            cur.execute(\"update employee set sal=%f where eno=%d\" % (sal,eno))\n",
    "            conn.commit()\n",
    "            if (cur.rowcount > 0):\n",
    "                logging.info(\"Successfully updated {} record from the employee table\".format(cur.rowcount))\n",
    "            else:\n",
    "                logging.info(\"Record does not exist.\")\n",
    "        except cx_Oracle.DatabaseError as dbe:\n",
    "            logging.exception(dbe)\n",
    "        except TypeError as te:\n",
    "            logging.exception(te)\n",
    "        except ValueError:\n",
    "            logging.error(\"Don't enter str/Symbols/alpha-numeric in place of numbers\")\n",
    "        except NameError as ne:\n",
    "            logging.exception(ne)\n",
    "        ch = input(\"Do you want to delete another record:\")\n",
    "        if ch == \"no\":\n",
    "            logging.info(\"Thanks for using this program!......\")\n",
    "            sys.exit()\n",
    "\n",
    "\n",
    "# main program\n",
    "empupdate()\n"
   ]
  },
  {
   "cell_type": "markdown",
   "id": "334e2c0a",
   "metadata": {},
   "source": [
    "## DRL Operations"
   ]
  },
  {
   "cell_type": "markdown",
   "id": "3784b5ca",
   "metadata": {},
   "source": [
    "### select with fetchone()"
   ]
  },
  {
   "cell_type": "code",
   "execution_count": null,
   "id": "3efaa08e",
   "metadata": {},
   "outputs": [],
   "source": [
    "# selectex1.py\n",
    "# write a python program which will all the records form employee table using fetchone()\n",
    "\n",
    "import cx_Oracle\n",
    "import logging\n",
    "import sys\n",
    "\n",
    "logging.basicConfig(filename=\"selectex1.log\", filemode='w', level=logging.INFO,\n",
    "                    format='%(asctime)s %(levelname)s %(name)s %(message)s')\n",
    "\n",
    "# To redirect the print output to the log file\n",
    "\n",
    "log = open(\"selectex1.log\", 'a')\n",
    "sys.stdout = log\n",
    "\n",
    "\n",
    "def readrecord():\n",
    "    try:\n",
    "        logging.info(\"Trying to connect to the Oracle database\")\n",
    "        con = cx_Oracle.connect(\"anu/tiger@localhost/orcl\")\n",
    "        logging.info(\"Successfully connectd to the Oracle database\")\n",
    "        cur = con.cursor()\n",
    "        logging.info(\"cursor object created successfully\")\n",
    "        sq = \"select * from employee\"\n",
    "        cur.execute(sq)\n",
    "        record = cur.fetchone()\n",
    "        logging.info(\"Select query executed successfully\")\n",
    "        print(record)\n",
    "    except cx_Oracle.DatabaseError as de:\n",
    "        logging.exception(de)\n",
    "    except TypeError as te:\n",
    "        logging.exception(te)\n",
    "    except ValueError:\n",
    "        logging.error(\"Don't enter str/Symbols/alpha-numeric in place of numbers\")\n",
    "    except NameError as ne:\n",
    "        logging.exception(ne)\n",
    "\n",
    "\n",
    "# main program\n",
    "readrecord()\n"
   ]
  },
  {
   "cell_type": "code",
   "execution_count": null,
   "id": "4fdee596",
   "metadata": {},
   "outputs": [],
   "source": [
    "# selectex2.py\n",
    "# write a python program which will print/collect  all the records form employee table using fetchone()\n",
    "\n",
    "import cx_Oracle\n",
    "import logging\n",
    "import sys\n",
    "\n",
    "logging.basicConfig(filename=\"selectex2.log\", filemode='w', level=logging.INFO,\n",
    "                    format='%(asctime)s %(levelname)s %(name)s %(message)s')\n",
    "\n",
    "# To redirect the print output to the log file\n",
    "\n",
    "log = open(\"selectex2.log\", 'a')\n",
    "sys.stdout = log\n",
    "\n",
    "\n",
    "def readrecord():\n",
    "    try:\n",
    "        logging.info(\"Trying to connect to the Oracle database\")\n",
    "        con = cx_Oracle.connect(\"anu/tiger@localhost/orcl\")\n",
    "        logging.info(\"Successfully connectd to the Oracle database\")\n",
    "        cur = con.cursor()\n",
    "        logging.info(\"cursor object created successfully\")\n",
    "        sq = \"select * from employee\"\n",
    "        cur.execute(sq)\n",
    "        while (True):\n",
    "            record = cur.fetchone()\n",
    "            if (record != None):\n",
    "                print(record)\n",
    "            else:\n",
    "                logging.info(\"Select query executed successfully\")\n",
    "                sys.exit()\n",
    "\n",
    "    except cx_Oracle.DatabaseError as de:\n",
    "        logging.exception(de)\n",
    "    except TypeError as te:\n",
    "        logging.exception(te)\n",
    "    except ValueError:\n",
    "        logging.error(\"Don't enter str/Symbols/alpha-numeric in place of numbers\")\n",
    "    except NameError as ne:\n",
    "        logging.exception(ne)\n",
    "\n",
    "\n",
    "# main program\n",
    "readrecord()\n"
   ]
  },
  {
   "cell_type": "code",
   "execution_count": null,
   "id": "b63349a4",
   "metadata": {},
   "outputs": [],
   "source": [
    "# selectex3.py\n",
    "# write a python program which will print/collect  all the records form employee table using fetchone()\n",
    "\n",
    "import cx_Oracle\n",
    "import logging\n",
    "import sys\n",
    "\n",
    "logging.basicConfig(filename=\"selectex3.log\", filemode='w', level=logging.INFO,\n",
    "                    format='%(asctime)s %(levelname)s %(name)s %(message)s')\n",
    "\n",
    "# To redirect the print output to the log file\n",
    "\n",
    "log = open(\"selectex3.log\", 'a')\n",
    "sys.stdout = log\n",
    "\n",
    "\n",
    "def readrecord():\n",
    "    try:\n",
    "        logging.info(\"Trying to connect to the Oracle database\")\n",
    "        con = cx_Oracle.connect(\"anu/tiger@localhost/orcl\")\n",
    "        logging.info(\"Successfully connectd to the Oracle database\")\n",
    "        cur = con.cursor()\n",
    "        logging.info(\"cursor object created successfully\")\n",
    "        sq = \"select * from employee\"\n",
    "        cur.execute(sq)\n",
    "        print(\"-\"*50)\n",
    "        print(\"\\tE m p l o y e e  \\tR e c o r d s\")\n",
    "        print(\"-\" * 50)\n",
    "        while (True):\n",
    "            record = cur.fetchone()\n",
    "            if (record != None):\n",
    "                for val in record:\n",
    "                    print(\"\\t{}\".format(val), end = \" \")\n",
    "                print()\n",
    "\n",
    "            else:\n",
    "                print(\"-\" * 50)\n",
    "                logging.info(\"Select query executed successfully\")\n",
    "                sys.exit()\n",
    "\n",
    "    except cx_Oracle.DatabaseError as de:\n",
    "        logging.exception(de)\n",
    "    except TypeError as te:\n",
    "        logging.exception(te)\n",
    "    except ValueError:\n",
    "        logging.error(\"Don't enter str/Symbols/alpha-numeric in place of numbers\")\n",
    "    except NameError as ne:\n",
    "        logging.exception(ne)\n",
    "\n",
    "\n",
    "# main program\n",
    "readrecord()\n"
   ]
  },
  {
   "cell_type": "markdown",
   "id": "4fd0bfd2",
   "metadata": {},
   "source": [
    "### select with fetchmany()"
   ]
  },
  {
   "cell_type": "code",
   "execution_count": null,
   "id": "08e1df7f",
   "metadata": {},
   "outputs": [],
   "source": [
    "# selectex4.py\n",
    "# write a python program which will all the records form employee table using fetchmany()\n",
    "\n",
    "import cx_Oracle\n",
    "import logging\n",
    "import sys\n",
    "\n",
    "logging.basicConfig(filename=\"selectex4.log\", filemode='w', level=logging.INFO,\n",
    "                    format='%(asctime)s %(levelname)s %(name)s %(message)s')\n",
    "\n",
    "\n",
    "# To redirect the print output to the log file\n",
    "\n",
    "log = open(\"selectex4.log\", 'a')\n",
    "sys.stdout = log\n",
    "\n",
    "\n",
    "def readrecord():\n",
    "    try:\n",
    "        logging.info(\"Trying to connect to the Oracle database\")\n",
    "        con = cx_Oracle.connect(\"anu/tiger@localhost/orcl\")\n",
    "        logging.info(\"Successfully connectd to the Oracle database\")\n",
    "        cur = con.cursor()\n",
    "        logging.info(\"cursor object created successfully\")\n",
    "        sq = \"select * from employee\"\n",
    "        cur.execute(sq)\n",
    "        record = cur.fetchmany(-1)\n",
    "        logging.info(\"Select query executed successfully\")\n",
    "        print(record)\n",
    "    except cx_Oracle.DatabaseError as de:\n",
    "        logging.exception(de)\n",
    "    except TypeError as te:\n",
    "        logging.exception(te)\n",
    "    except ValueError:\n",
    "        logging.error(\"Don't enter str/Symbols/alpha-numeric in place of numbers\")\n",
    "    except NameError as ne:\n",
    "        logging.exception(ne)\n",
    "\n",
    "\n",
    "# main program\n",
    "readrecord()\n"
   ]
  },
  {
   "cell_type": "markdown",
   "id": "4752db60",
   "metadata": {},
   "source": [
    "[(1, 'Anu', 6.6), (2, 'Kannan', 6.5), (3, 'Malu', 7.5), (4, 'Roshni', 6.7), (5, 'Rohith', 7.5)]"
   ]
  },
  {
   "cell_type": "code",
   "execution_count": null,
   "id": "e6f09f23",
   "metadata": {},
   "outputs": [],
   "source": [
    "# selectex5.py\n",
    "# write a python program which will all the records form employee table using fetchmany()\n",
    "\n",
    "import cx_Oracle\n",
    "import logging\n",
    "import sys\n",
    "\n",
    "logging.basicConfig(filename=\"selectex5.log\", filemode='w', level=logging.INFO,\n",
    "                    format='%(asctime)s %(levelname)s %(name)s %(message)s')\n",
    "\n",
    "# To redirect the print output to the log file\n",
    "\n",
    "log = open(\"selectex5.log\", 'a')\n",
    "sys.stdout = log\n",
    "\n",
    "\n",
    "def readrecord():\n",
    "    try:\n",
    "        logging.info(\"Trying to connect to the Oracle database\")\n",
    "        con = cx_Oracle.connect(\"anu/tiger@localhost/orcl\")\n",
    "        logging.info(\"Successfully connectd to the Oracle database\")\n",
    "        cur = con.cursor()\n",
    "        logging.info(\"cursor object created successfully\")\n",
    "        sq = \"select * from employee\"\n",
    "        cur.execute(sq)\n",
    "        print(\"-\" * 50)\n",
    "        print(\"\\tE m p l o y e e  \\tR e c o r d s\")\n",
    "        print(\"-\" * 50)\n",
    "        records = cur.fetchmany(5)\n",
    "        for val in records:\n",
    "            print(\"\\t{}\".format(val))\n",
    "        logging.info(\"Select query executed successfully\")\n",
    "    except cx_Oracle.DatabaseError as de:\n",
    "        logging.exception(de)\n",
    "    except TypeError as te:\n",
    "        logging.exception(te)\n",
    "    except ValueError:\n",
    "        logging.error(\"Don't enter str/Symbols/alpha-numeric in place of numbers\")\n",
    "    except NameError as ne:\n",
    "        logging.exception(ne)\n",
    "\n",
    "\n",
    "# main program\n",
    "readrecord()\n"
   ]
  },
  {
   "cell_type": "markdown",
   "id": "f2e972f0",
   "metadata": {},
   "source": [
    "\n",
    "--------------------------------------------------\n",
    "\tE m p l o y e e  \tR e c o r d s\n",
    "--------------------------------------------------\n",
    "\t(1, 'Anu', 6.6)\n",
    "\t(2, 'Kannan', 6.5)\n",
    "\t(3, 'Malu', 7.5)\n",
    "\t(4, 'Roshni', 6.7)\n",
    "\t(5, 'Rohith', 7.5)\n",
    "    \n",
    "\n"
   ]
  },
  {
   "cell_type": "code",
   "execution_count": null,
   "id": "a867b49e",
   "metadata": {},
   "outputs": [],
   "source": [
    "# selectex6.py\n",
    "# write a python program which will all the records form employee table using fetchmany()\n",
    "\n",
    "import cx_Oracle\n",
    "import logging\n",
    "import sys\n",
    "\n",
    "logging.basicConfig(filename=\"selectex6.log\", filemode='w', level=logging.INFO,\n",
    "                    format='%(asctime)s %(levelname)s %(name)s %(message)s')\n",
    "\n",
    "# To redirect the print output to the log file\n",
    "\n",
    "log = open(\"selectex6.log\", 'a')\n",
    "sys.stdout = log\n",
    "\n",
    "\n",
    "def readrecord():\n",
    "    try:\n",
    "        logging.info(\"Trying to connect to the Oracle database\")\n",
    "        con = cx_Oracle.connect(\"anu/tiger@localhost/orcl\")\n",
    "        logging.info(\"Successfully connectd to the Oracle database\")\n",
    "        cur = con.cursor()\n",
    "        logging.info(\"cursor object created successfully\")\n",
    "        sq = \"select * from employee\"\n",
    "        cur.execute(sq)\n",
    "        print(\"-\" * 50)\n",
    "        print(\"\\tE m p l o y e e  \\tR e c o r d s\")\n",
    "        print(\"-\" * 50)\n",
    "        records = cur.fetchmany(5)\n",
    "        for record in records:\n",
    "            for val in record:\n",
    "                print(\"\\t{}\".format(val), end=\"\")\n",
    "            print()\n",
    "        logging.info(\"Select query executed successfully\")\n",
    "    except cx_Oracle.DatabaseError as de:\n",
    "        logging.exception(de)\n",
    "    except TypeError as te:\n",
    "        logging.exception(te)\n",
    "    except ValueError:\n",
    "        logging.error(\"Don't enter str/Symbols/alpha-numeric in place of numbers\")\n",
    "    except NameError as ne:\n",
    "        logging.exception(ne)\n",
    "\n",
    "\n",
    "# main program\n",
    "readrecord()\n"
   ]
  },
  {
   "cell_type": "markdown",
   "id": "41a17c33",
   "metadata": {},
   "source": [
    "records = cur.fetchmany(-1)\n",
    "--------------------------------------------------\n",
    "\tE m p l o y e e  \tR e c o r d s\n",
    "--------------------------------------------------\n",
    "\n",
    "records = cur.fetchmany(5)\n",
    "--------------------------------------------------\n",
    "\tE m p l o y e e  \tR e c o r d s\n",
    "--------------------------------------------------\n",
    "\t1\tAnu\t6.6\n",
    "\t2\tKannan\t6.5\n",
    "\t3\tMalu\t7.5\n",
    "\t4\tRoshni\t6.7\n",
    "\t5\tRohith\t7.5\n",
    " \n",
    "records = cur.fetchmany(0)\n",
    "--------------------------------------------------\n",
    "\tE m p l o y e e  \tR e c o r d s\n",
    "--------------------------------------------------\n",
    "\t1\tAnu\t6.6\n",
    "\t2\tKannan\t6.5\n",
    "\t3\tMalu\t7.5\n",
    "\t4\tRoshni\t6.7\n",
    "\t5\tRohith\t7.5\n",
    "\t6\tVaishnavi\t4.7\n",
    "\t7\tMohan\t5.3\n",
    "\t8\tSham\t7.1\n",
    "\t9\tRam\t5.6\n",
    "\t10\tBhagath\t6.5    \n",
    "    \n",
    "records = cur.fetchmany(25)\n",
    "--------------------------------------------------\n",
    "\tE m p l o y e e  \tR e c o r d s\n",
    "--------------------------------------------------\n",
    "\t1\tAnu\t6.6\n",
    "\t2\tKannan\t6.5\n",
    "\t3\tMalu\t7.5\n",
    "\t4\tRoshni\t6.7\n",
    "\t5\tRohith\t7.5\n",
    "\t6\tVaishnavi\t4.7\n",
    "\t7\tMohan\t5.3\n",
    "\t8\tSham\t7.1\n",
    "\t9\tRam\t5.6\n",
    "\t10\tBhagath\t6.5     "
   ]
  },
  {
   "cell_type": "markdown",
   "id": "24f365fb",
   "metadata": {},
   "source": [
    "### select with fetchall()"
   ]
  },
  {
   "cell_type": "code",
   "execution_count": null,
   "id": "8118c736",
   "metadata": {},
   "outputs": [],
   "source": [
    "# selectex7.py\n",
    "# write a python program which will all the records form employee table using fetchall()\n",
    "\n",
    "import cx_Oracle\n",
    "import logging\n",
    "import sys\n",
    "\n",
    "logging.basicConfig(filename=\"selectex7.log\", filemode='w', level=logging.INFO,\n",
    "                    format='%(asctime)s %(levelname)s %(name)s %(message)s')\n",
    "\n",
    "# To redirect the print output to the log file\n",
    "\n",
    "log = open(\"selectex7.log\", 'a')\n",
    "sys.stdout = log\n",
    "\n",
    "def readrecord():\n",
    "    try:\n",
    "        logging.info(\"Trying to connect to the Oracle database\")\n",
    "        con = cx_Oracle.connect(\"anu/tiger@localhost/orcl\")\n",
    "        logging.info(\"Successfully connectd to the Oracle database\")\n",
    "        cur = con.cursor()\n",
    "        logging.info(\"cursor object created successfully\")\n",
    "        sq = \"select * from employee\"\n",
    "        cur.execute(sq)\n",
    "        record = cur.fetchall()\n",
    "        logging.info(\"Select query executed successfully\")\n",
    "        print(record)\n",
    "    except cx_Oracle.DatabaseError as de:\n",
    "        logging.exception(de)\n",
    "    except TypeError as te:\n",
    "        logging.exception(te)\n",
    "    except ValueError:\n",
    "        logging.error(\"Don't enter str/Symbols/alpha-numeric in place of numbers\")\n",
    "    except NameError as ne:\n",
    "        logging.exception(ne)\n",
    "\n",
    "\n",
    "# main program\n",
    "readrecord()\n"
   ]
  },
  {
   "cell_type": "code",
   "execution_count": null,
   "id": "1d0476cd",
   "metadata": {},
   "outputs": [],
   "source": [
    "# selectex8.py\n",
    "# write a python program which will all the records form employee table using fetchall()\n",
    "\n",
    "import cx_Oracle\n",
    "import logging\n",
    "import sys\n",
    "\n",
    "logging.basicConfig(filename=\"selectex8.log\", filemode='w', level=logging.INFO,\n",
    "                    format='%(asctime)s %(levelname)s %(name)s %(message)s')\n",
    "\n",
    "# To redirect the print output to the log file\n",
    "\n",
    "log = open(\"selectex8.log\", 'a')\n",
    "sys.stdout = log\n",
    "\n",
    "\n",
    "def readrecord():\n",
    "    try:\n",
    "        logging.info(\"Trying to connect to the Oracle database\")\n",
    "        con = cx_Oracle.connect(\"anu/tiger@localhost/orcl\")\n",
    "        logging.info(\"Successfully connectd to the Oracle database\")\n",
    "        cur = con.cursor()\n",
    "        logging.info(\"cursor object created successfully\")\n",
    "        sq = \"select * from employee\"\n",
    "        cur.execute(sq)\n",
    "        record = cur.fetchall()\n",
    "        logging.info(\"Select query executed successfully\")\n",
    "        print(record)\n",
    "    except cx_Oracle.DatabaseError as de:\n",
    "        logging.exception(de)\n",
    "    except TypeError as te:\n",
    "        logging.exception(te)\n",
    "    except ValueError:\n",
    "        logging.error(\"Don't enter str/Symbols/alpha-numeric in place of numbers\")\n",
    "    except NameError as ne:\n",
    "        logging.exception(ne)\n",
    "\n",
    "\n",
    "# main program\n",
    "readrecord()\n"
   ]
  },
  {
   "cell_type": "code",
   "execution_count": null,
   "id": "b85e0d5e",
   "metadata": {},
   "outputs": [],
   "source": [
    "# selectex9.py\n",
    "# write a python program which will all the records form employee table using fetchall()\n",
    "\n",
    "import cx_Oracle\n",
    "import logging\n",
    "import sys\n",
    "\n",
    "logging.basicConfig(filename=\"selectex9.log\", filemode='w', level=logging.INFO,\n",
    "                    format='%(asctime)s %(levelname)s %(name)s %(message)s')\n",
    "\n",
    "# To redirect the print output to the log file\n",
    "\n",
    "log = open(\"selectex9.log\", 'a')\n",
    "sys.stdout = log\n",
    "\n",
    "\n",
    "def readrecord():\n",
    "    try:\n",
    "        logging.info(\"Trying to connect to the Oracle database\")\n",
    "        con = cx_Oracle.connect(\"anu/tiger@localhost/orcl\")\n",
    "        logging.info(\"Successfully connect to the Oracle database\")\n",
    "        cur = con.cursor()\n",
    "        logging.info(\"cursor object created successfully\")\n",
    "        sq = \"select * from employee order by name\"\n",
    "        cur.execute(sq)\n",
    "        print(\"-\" * 50)\n",
    "        print(\"\\tE m p l o y e e  \\tR e c o r d s\")\n",
    "        print(\"-\" * 50)\n",
    "        records = cur.fetchall()\n",
    "        for record in records:\n",
    "            for val in record:\n",
    "                print(\"\\t{}\".format(val), end=\"\")\n",
    "            print()\n",
    "        logging.info(\"Select query executed successfully\")\n",
    "    except cx_Oracle.DatabaseError as de:\n",
    "        logging.exception(de)\n",
    "    except TypeError as te:\n",
    "        logging.exception(te)\n",
    "    except ValueError:\n",
    "        logging.error(\"Don't enter str/Symbols/alpha-numeric in place of numbers\")\n",
    "    except NameError as ne:\n",
    "        logging.exception(ne)\n",
    "\n",
    "\n",
    "# main program\n",
    "readrecord()\n"
   ]
  },
  {
   "cell_type": "markdown",
   "id": "92a23bc8",
   "metadata": {},
   "source": [
    "<font color='#D2691E'>**Qn)write a python program which will all the records form employee table using fetchall() also print the column name**</font>"
   ]
  },
  {
   "cell_type": "code",
   "execution_count": null,
   "id": "8ec07c63",
   "metadata": {},
   "outputs": [],
   "source": [
    "# selectex10.py\n",
    "# write a python program which will all the records form employee table using fetchall() also print the column name\n",
    "\n",
    "import cx_Oracle\n",
    "import logging\n",
    "import sys\n",
    "\n",
    "logging.basicConfig(filename=\"selectex10.log\", filemode='a', level=logging.INFO,\n",
    "                    format='%(asctime)s %(levelname)s %(name)s %(message)s')\n",
    "\n",
    "# To redirect the print output to the log file\n",
    "\n",
    "log = open(\"selectex10.log\", 'a')\n",
    "sys.stdout = log\n",
    "\n",
    "\n",
    "def readrecord():\n",
    "    try:\n",
    "        logging.info(\"Trying to connect to the Oracle database\")\n",
    "        con = cx_Oracle.connect(\"anu/tiger@localhost/orcl\")\n",
    "        logging.info(\"Successfully connect to the Oracle database\")\n",
    "        cur = con.cursor()\n",
    "        logging.info(\"cursor object created successfully\")\n",
    "        sq = \"select * from employee\"\n",
    "        cur.execute(sq)\n",
    "        print(\"-\" * 50)\n",
    "        print(\"\\tE m p l o y e e  \\tR e c o r d s\")\n",
    "        print(\"-\" * 50)\n",
    "        # To Display the column names\n",
    "        columns = cur.description\n",
    "        # print(columns[0][0],\"\\t\",columns[1][0],\"\\t\",columns[2][0])\n",
    "        colnames = [str(var[0]) for var in columns]\n",
    "        for colmname in colnames:\n",
    "            print(\"\\t{}\".format(colmname), end=\"\")\n",
    "        print()\n",
    "        print(\"-\" * 50)\n",
    "        # To display the records\n",
    "        records = cur.fetchall()\n",
    "        for record in records:\n",
    "            for val in record:\n",
    "                print(\"\\t{}\".format(val), end=\"\")\n",
    "            print()\n",
    "        print(\"-\" * 50)\n",
    "        logging.info(\"Select query executed successfully\")\n",
    "    except cx_Oracle.DatabaseError as de:\n",
    "        logging.exception(de)\n",
    "    except TypeError as te:\n",
    "        logging.exception(te)\n",
    "    except ValueError:\n",
    "        logging.error(\"Don't enter str/Symbols/alpha-numeric in place of numbers\")\n",
    "    except NameError as ne:\n",
    "        logging.exception(ne)\n",
    "\n",
    "\n",
    "# main program\n",
    "readrecord()\n"
   ]
  },
  {
   "cell_type": "markdown",
   "id": "d883b5af",
   "metadata": {},
   "source": [
    "<font color='#D2691E'>**Qn) write a python program which will retrive all the records of enployee table whose salary is less than 7 lakhs**</font>"
   ]
  },
  {
   "cell_type": "code",
   "execution_count": null,
   "id": "c8ec1f18",
   "metadata": {},
   "outputs": [],
   "source": [
    "# selectex11.py\n",
    "# write a python program which will retrive all the records of enployee table whose salary is less than 7 lakhs\n",
    "\n",
    "import cx_Oracle\n",
    "import logging\n",
    "import sys\n",
    "\n",
    "logging.basicConfig(filename=\"selectex11.log\", filemode='a', level=logging.INFO,\n",
    "   <font color='#D2691E'>**Qn) write a python program which will update employee salary based on employee number dynamically and continuously.**</font>\n",
    "                 format='%(asctime)s %(levelname)s %(name)s %(message)s')\n",
    "\n",
    "# To redirect the print output to the log file\n",
    "\n",
    "log = open(\"selectex11.log\", 'a')\n",
    "sys.stdout = log\n",
    "\n",
    "\n",
    "def readrecord():\n",
    "    try:\n",
    "        logging.info(\"Trying to connect to the Oracle database\")\n",
    "        con = cx_Oracle.connect(\"anu/tiger@localhost/orcl\")\n",
    "        logging.info(\"Successfully connect to the Oracle database\")\n",
    "        cur = con.cursor()\n",
    "        logging.info(\"cursor object created successfully\")\n",
    "        # sq = \"select * from employee where sal > 7\"\n",
    "        sq = \"select * from employee where sal < 7\"\n",
    "\n",
    "        cur.execute(sq)\n",
    "        print(\"-\" * 50)\n",
    "        print(\"\\tE m p l o y e e  \\tR e c o r d s\")\n",
    "        print(\"-\" * 50)\n",
    "        # To Display the column names\n",
    "        columns = cur.description\n",
    "        # print(columns[0][0],\"\\t\",columns[1][0],\"\\t\",columns[2][0])\n",
    "        colnames = [str(var[0]) for var in columns]\n",
    "        for colmname in colnames:\n",
    "            print(\"\\t{}\".format(colmname), end=\"\")\n",
    "        print()\n",
    "        print(\"-\" * 50)\n",
    "        # To display the records\n",
    "        records = cur.fetchall()\n",
    "        for record in records:\n",
    "            for val in record:\n",
    "                print(\"\\t{}\".format(val), end=\"\")\n",
    "            print()\n",
    "        print(\"-\" * 50)\n",
    "        logging.info(\"Select query executed successfully\")\n",
    "    except cx_Oracle.DatabaseError as de:\n",
    "        logging.exception(de)\n",
    "    except TypeError as te:\n",
    "        logging.exception(te)\n",
    "    except ValueError:\n",
    "        logging.error(\"Don't enter str/Symbols/alpha-numeric in place of numbers\")\n",
    "    except NameError as ne:\n",
    "        logging.exception(ne)\n",
    "\n",
    "\n",
    "# main program\n",
    "readrecord()\n"
   ]
  }
 ],
 "metadata": {
  "kernelspec": {
   "display_name": "Python 3 (ipykernel)",
   "language": "python",
   "name": "python3"
  },
  "language_info": {
   "codemirror_mode": {
    "name": "ipython",
    "version": 3
   },
   "file_extension": ".py",
   "mimetype": "text/x-python",
   "name": "python",
   "nbconvert_exporter": "python",
   "pygments_lexer": "ipython3",
   "version": "3.9.13"
  }
 },
 "nbformat": 4,
 "nbformat_minor": 5
}
