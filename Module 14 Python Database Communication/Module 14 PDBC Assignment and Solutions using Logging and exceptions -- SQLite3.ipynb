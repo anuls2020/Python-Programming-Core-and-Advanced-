{
 "cells": [
  {
   "cell_type": "markdown",
   "id": "2e2a6b7d",
   "metadata": {},
   "source": [
    "**Print the SQLite3 Version**"
   ]
  },
  {
   "cell_type": "code",
   "execution_count": 3,
   "id": "62e2bddf",
   "metadata": {},
   "outputs": [],
   "source": [
    "import sqlite3"
   ]
  },
  {
   "cell_type": "code",
   "execution_count": 7,
   "id": "cfb95749",
   "metadata": {},
   "outputs": [
    {
     "name": "stdout",
     "output_type": "stream",
     "text": [
      "3.39.3\n"
     ]
    }
   ],
   "source": [
    "print(sqlite3.sqlite_version)"
   ]
  },
  {
   "cell_type": "markdown",
   "id": "5442ff0c",
   "metadata": {},
   "source": [
    "<font color='#D2691E'>**Qn) program to test the SQLite3 DB connection**</font>"
   ]
  },
  {
   "cell_type": "code",
   "execution_count": 5,
   "id": "f0aae563",
   "metadata": {},
   "outputs": [
    {
     "name": "stdout",
     "output_type": "stream",
     "text": [
      "Connection Established!..\n"
     ]
    }
   ],
   "source": [
    "conn = sqlite3.connect('example.db')\n",
    "print(\"Connection Established!..\")"
   ]
  },
  {
   "cell_type": "markdown",
   "id": "6e780ccc",
   "metadata": {},
   "source": [
    "<font color='#D2691E'>**Qn) program to create the SQLite3 DB**</font>"
   ]
  },
  {
   "cell_type": "code",
   "execution_count": null,
   "id": "3760c0ae",
   "metadata": {},
   "outputs": [],
   "source": [
    "# createdbex1.py\n",
    "# Write a python program to demonstrate db creation in sqlite3\n",
    "\n",
    "import sqlite3\n",
    "import logging\n",
    "import sys\n",
    "\n",
    "logging.basicConfig(filename=\"createdbex1.log\", filemode='w', level=logging.INFO,\n",
    "                    format='%(asctime)s %(levelname)s %(name)s %(message)s')\n",
    "\n",
    "try:\n",
    "    logging.info(\"Trying to create and connect the SQlite DB\")\n",
    "    conn = sqlite3.connect('example.db')\n",
    "    logging.info(\"Successfully created the DB, and connected\")\n",
    "\n",
    "except sqlite3.DatabaseError as de:\n",
    "    logging.exception(de)\n"
   ]
  },
  {
   "cell_type": "markdown",
   "id": "e5726465",
   "metadata": {},
   "source": [
    "<font color='#D2691E'>**Qn) program to create the table in the SQLite3 DB**</font>"
   ]
  },
  {
   "cell_type": "code",
   "execution_count": null,
   "id": "33baa888",
   "metadata": {},
   "outputs": [],
   "source": [
    "# createtableex1.py\n",
    "# Write a python program to demonstrate db creation in sqlite3\n",
    "\n",
    "import sqlite3\n",
    "import logging\n",
    "\n",
    "logging.basicConfig(filename=\"createtableex1.log\", filemode='w', level=logging.INFO,\n",
    "                    format='%(asctime)s %(levelname)s %(name)s %(message)s')\n",
    "\n",
    "try:\n",
    "    logging.info(\"Trying to create and connect the SQlite DB\")\n",
    "    # Connecting to the SQLite3 database\n",
    "    conn = sqlite3.connect('example.db')\n",
    "    logging.info(\"Successfully created the DB, and connected\")\n",
    "    # Creating the cursor object using the cursor() method\n",
    "    cur = conn.cursor()\n",
    "    logging.info(\"Cursor object created\")\n",
    "\n",
    "    # Dropping the table is already exist\n",
    "    sql1 = \"DROP TABLE IF EXISTS EMPLOYEE\"\n",
    "    cur.execute(sql1)\n",
    "\n",
    "    # Create table\n",
    "    sql = \"CREATE TABLE EMPLOYEE(FIRST_NAME CHAR(20) NOT NULL, LAST_NAME CHAR(20), AGE INT, SEX CHAR(1), INCOME FLOAT)\"\n",
    "\n",
    "    cur.execute(sql)\n",
    "    logging.info(\"Successfully created the table\")\n",
    "\n",
    "    # Commit the changes in the database\n",
    "    conn.commit()\n",
    "\n",
    "    # Close the database connection\n",
    "    conn.close()\n",
    "    logging.info(\"Database connection closes successfully..\")\n",
    "\n",
    "except sqlite3.DatabaseError as de:\n",
    "    logging.exception(de)\n",
    "<font color='#D2691E'>**Qn) program to create the table in the SQLite3 DB**</font>"
   ]
  },
  {
   "cell_type": "markdown",
   "id": "b5806a28",
   "metadata": {},
   "source": [
    "<font color='#D2691E'>**Qn) program to insert the records into the table in the SQLite3 DB**</font>"
   ]
  },
  {
   "cell_type": "code",
   "execution_count": null,
   "id": "41d8d9ad",
   "metadata": {},
   "outputs": [],
   "source": [
    "# insertex1.py\n",
    "# Program to insert the data into the sqlite3 database\n",
    "\n",
    "import sqlite3\n",
    "import logging\n",
    "\n",
    "logging.basicConfig(filename=\"insertex1.log\", filemode='a', level=logging.INFO,\n",
    "                    format='%(asctime)s %(levelname)s %(name)s %(message)s')\n",
    "\n",
    "try:\n",
    "    logging.info(\"Trying to create and connect the SQlite DB\")\n",
    "    conn = sqlite3.connect('example.db')\n",
    "    logging.info(\"Successfully connected to the SQlite DB\")\n",
    "\n",
    "    cur = conn.cursor()\n",
    "    logging.info(\"Cursor object created\")\n",
    "\n",
    "    logging.info(\"#Preparing SQL queries to INSERT a record into the database.\")\n",
    "    cur.execute(\"INSERT INTO EMPLOYEE VALUES('KANNAN', 'AMPADY',35,'M',6500)\")\n",
    "    cur.execute(\"INSERT INTO EMPLOYEE VALUES('ROSHNI', 'RAMACHANDRAN',30,'F',6500)\")\n",
    "    cur.execute(\"INSERT INTO EMPLOYEE VALUES('VISHNU', 'AR',26,'M',6500)\")\n",
    "    cur.execute(\"INSERT INTO EMPLOYEE VALUES('ROHITH', 'RAMACHANDRAN',28,'M',4500)\")\n",
    "    cur.execute(\"INSERT INTO EMPLOYEE VALUES('SHYAM', 'RAJ',36,'M',8500)\")\n",
    "    cur.execute(\"INSERT INTO EMPLOYEE VALUES('RAMU', 'CR',40,'M',9500)\")\n",
    "    cur.execute(\"INSERT INTO EMPLOYEE VALUES('RAMYA', 'GOPAN',30,'F',7300)\")\n",
    "    logging.info(\"{} records inserted successfully\".format(cur.rowcount))\n",
    "    # Commit your changes to the database\n",
    "    conn.commit()\n",
    "    logging.info(\"Committed the database changes\")\n",
    "    # Close the database connection\n",
    "    conn.close()\n",
    "    logging.info(\"Database connection closed\")\n",
    "\n",
    "\n",
    "except sqlite3.DatabaseError as de:\n",
    "    logging.exception(de)\n"
   ]
  },
  {
   "cell_type": "markdown",
   "id": "9168cee6",
   "metadata": {},
   "source": [
    "<font color='#D2691E'>**Qn) program to read the records from the table in the SQLite3 DB**</font>"
   ]
  },
  {
   "cell_type": "code",
   "execution_count": null,
   "id": "9c0d75a1",
   "metadata": {},
   "outputs": [],
   "source": [
    "# selectex1.py\n",
    "# Program to display the table content\n",
    "\n",
    "import sqlite3\n",
    "import logging\n",
    "\n",
    "logging.basicConfig(filename=\"selectex1.log\", filemode='a', level=logging.INFO,\n",
    "                    format='%(asctime)s %(levelname)s %(name)s %(message)s')\n",
    "\n",
    "\n",
    "try:\n",
    "    logging.info(\"Establishing the database connection\")\n",
    "    conn = sqlite3.connect('example.db')\n",
    "    logging.info(\"Successfully connected\")\n",
    "    cur = conn.cursor()\n",
    "    logging.info(\"cursor object created\")\n",
    "    # Retrieving the data\n",
    "    cur.execute(\"SELECT * FROM EMPLOYEE\")\n",
    "    logging.info(\"Fetching the data\")\n",
    "    result = cur.fetchone()\n",
    "    print(result)\n",
    "    result = cur.fetchall()\n",
    "    print(result)\n",
    "    conn.close()\n",
    "    logging.info(\"closing the database connection\")\n",
    "except sqlite3.DatabaseError as de:\n",
    "    logging.exception(de)"
   ]
  },
  {
   "cell_type": "code",
   "execution_count": null,
   "id": "060788df",
   "metadata": {},
   "outputs": [],
   "source": [
    "# selectex2.py\n",
    "# Program to display the table content\n",
    "\n",
    "import sqlite3\n",
    "import logging\n",
    "\n",
    "logging.basicConfig(filename=\"selectex2.log\", filemode='a', level=logging.INFO,\n",
    "                    format='%(asctime)s %(levelname)s %(name)s %(message)s')\n",
    "\n",
    "\n",
    "try:\n",
    "    logging.info(\"Establishing the database connection\")\n",
    "    conn = sqlite3.connect('example.db')\n",
    "    logging.info(\"Successfully connected\")\n",
    "    cur = conn.cursor()\n",
    "    logging.info(\"cursor object created\")\n",
    "    # Retrieving the data\n",
    "    cur.execute(\"SELECT * FROM EMPLOYEE WHERE AGE < 30\")\n",
    "    logging.info(\"Fetching the data\")\n",
    "    result = cur.fetchall()\n",
    "    print(result)\n",
    "    conn.close()\n",
    "    logging.info(\"closing the database connection\")\n",
    "except sqlite3.DatabaseError as de:\n",
    "    logging.exception(de)"
   ]
  },
  {
   "cell_type": "markdown",
   "id": "e0b270b9",
   "metadata": {},
   "source": [
    "<font color='#D2691E'>**Qn) program to update the records in the table in the SQLite3 DB**</font>"
   ]
  },
  {
   "cell_type": "code",
   "execution_count": null,
   "id": "68ac6b63",
   "metadata": {},
   "outputs": [],
   "source": [
    "\n",
    "# updateex1.py\n",
    "# Program to display the table content\n",
    "\n",
    "import sqlite3\n",
    "import logging\n",
    "\n",
    "logging.basicConfig(filename=\"updateex1.log\", filemode='a', level=logging.INFO,\n",
    "                    format='%(asctime)s %(levelname)s %(name)s %(message)s')\n",
    "\n",
    "\n",
    "try:\n",
    "    logging.info(\"Establishing the database connection\")\n",
    "    conn = sqlite3.connect('example.db')\n",
    "    logging.info(\"Successfully connected\")\n",
    "    cur = conn.cursor()\n",
    "    logging.info(\"cursor object created\")\n",
    "    # Retrieving the data\n",
    "    cur.execute(\"UPDATE EMPLOYEE SET AGE = AGE +1 WHERE SEX = 'M'\")\n",
    "    logging.info(\"{} records updated Successfully\".format(cur.rowcount))\n",
    "    conn.close()\n",
    "    logging.info(\"closing the database connection\")\n",
    "except sqlite3.DatabaseError as de:\n",
    "    logging.exception(de)"
   ]
  },
  {
   "cell_type": "markdown",
   "id": "c5da6b30",
   "metadata": {},
   "source": [
    "<font color='#D2691E'>**Qn) program to delete the records from the table in the SQLite3 DB**</font>"
   ]
  },
  {
   "cell_type": "code",
   "execution_count": null,
   "id": "1d7c2394",
   "metadata": {},
   "outputs": [],
   "source": [
    "# deleteex1.py\n",
    "# Program to delete the record from the table\n",
    "\n",
    "import sqlite3\n",
    "import logging\n",
    "\n",
    "logging.basicConfig(filename=\"deleteex1.log\", filemode='a', level=logging.INFO,\n",
    "                    format='%(asctime)s %(levelname)s %(name)s %(message)s')\n",
    "\n",
    "\n",
    "try:\n",
    "    logging.info(\"Establishing the database connection\")\n",
    "    conn = sqlite3.connect('example.db')\n",
    "    logging.info(\"Successfully connected\")\n",
    "    cur = conn.cursor()\n",
    "    logging.info(\"cursor object created\")\n",
    "    # Retrieving the data\n",
    "    cur.execute(\"DELETE FROM EMPLOYEE WHERE AGE < 30\")\n",
    "    logging.info(\"{} RECORDS DELETED SUCCESSFULLY\".format(cur.rowcount))\n",
    "    result = cur.fetchall()\n",
    "    print(result)\n",
    "    conn.close()\n",
    "    logging.info(\"closing the database connection\")\n",
    "except sqlite3.DatabaseError as de:\n",
    "    logging.exception(de)"
   ]
  },
  {
   "cell_type": "markdown",
   "id": "2c9b3452",
   "metadata": {},
   "source": [
    "<font color='#D2691E'>**Qn) program to drop the table from the SQLite3 DB**</font>"
   ]
  },
  {
   "cell_type": "code",
   "execution_count": null,
   "id": "5c36afbc",
   "metadata": {},
   "outputs": [],
   "source": [
    "# dropex1.py\n",
    "# Program to drop the table\n",
    "\n",
    "import sqlite3\n",
    "import logging\n",
    "\n",
    "logging.basicConfig(filename=\"dropex1.log\", filemode='a', level=logging.INFO,\n",
    "                    format='%(asctime)s %(levelname)s %(name)s %(message)s')\n",
    "\n",
    "\n",
    "try:\n",
    "    logging.info(\"Establishing the database connection\")\n",
    "    conn = sqlite3.connect('example.db')\n",
    "    logging.info(\"Successfully connected\")\n",
    "    cur = conn.cursor()\n",
    "    logging.info(\"cursor object created\")\n",
    "    # Retrieving the data\n",
    "    cur.execute(\"DROP TABLE EMPLOYEE\")\n",
    "    logging.info(\"TABLE DROPPED SUCCESFULLY\")\n",
    "    conn.close()\n",
    "    logging.info(\"closing the database connection\")\n",
    "except sqlite3.DatabaseError as de:\n",
    "    logging.exception(de)"
   ]
  }
 ],
 "metadata": {
  "kernelspec": {
   "display_name": "Python 3 (ipykernel)",
   "language": "python",
   "name": "python3"
  },
  "language_info": {
   "codemirror_mode": {
    "name": "ipython",
    "version": 3
   },
   "file_extension": ".py",
   "mimetype": "text/x-python",
   "name": "python",
   "nbconvert_exporter": "python",
   "pygments_lexer": "ipython3",
   "version": "3.9.13"
  }
 },
 "nbformat": 4,
 "nbformat_minor": 5
}
