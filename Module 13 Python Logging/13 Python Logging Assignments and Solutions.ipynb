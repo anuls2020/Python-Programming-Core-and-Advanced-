{
 "cells": [
  {
   "cell_type": "code",
   "execution_count": 1,
   "id": "8d12d534",
   "metadata": {},
   "outputs": [],
   "source": [
    "# test2.py\n",
    "import logging\n",
    "\n",
    "logging.basicConfig(filename=\"test.log\", level=logging.INFO)\n",
    "logging.info(\"This is my very first coding for logging \")\n",
    "logging.warning(\"This will try to load a warning message\")\n",
    "logging.error(\"This is a error message from the system\")\n",
    "l=[1,2,3,4,5,6,7,8]\n",
    "for i in l:\n",
    "    if i==2:\n",
    "        logging.info(l)\n",
    "        logging.warning(\"This is a warning for user that they have found out 2 in the list\")\n",
    "\n",
    "    logging.shutdown()"
   ]
  },
  {
   "cell_type": "code",
   "execution_count": 2,
   "id": "d20859f9",
   "metadata": {},
   "outputs": [],
   "source": [
    "# test2.py\n",
    "import logging\n",
    "\n",
    "logging.basicConfig(filename=\"test2.log\", level=logging.DEBUG, format='%(levelname)s %(name)s %(asctime)s %(message)s')\n",
    "logging.debug(\"This is my log with timestamp\")\n"
   ]
  },
  {
   "cell_type": "code",
   "execution_count": 1,
   "id": "f6ea2193",
   "metadata": {},
   "outputs": [],
   "source": [
    "# test3.py\n",
    "import logging\n",
    "\n",
    "logging.basicConfig(filename=\"test3.log\", level=logging.WARNING, format='%(levelname)s %(name)s %(asctime)s %(message)s')\n",
    "\n",
    "\n",
    "def devide(a, b):\n",
    "    logging.info(\"The number entered by the user is %s and %s\", a, b)\n",
    "    try:\n",
    "        logging.info(\"We are into functions\")\n",
    "        div = a / b\n",
    "        logging.info(\"We have completed the division operation\")\n",
    "        logging.info(\"The result of the code is %s\", div)\n",
    "        return div\n",
    "    except ZeroDivisionError as e:\n",
    "        logging.exception(e)\n",
    "\n",
    "\n",
    "(devide(3, 0))"
   ]
  },
  {
   "cell_type": "code",
   "execution_count": 1,
   "id": "f260526b",
   "metadata": {},
   "outputs": [
    {
     "name": "stdout",
     "output_type": "stream",
     "text": [
      "Enter the file name:asdf.txt\n"
     ]
    }
   ],
   "source": [
    "# test4.py\n",
    "import logging\n",
    "\n",
    "logging.basicConfig(filename=\"test4.log\", level=logging.INFO, format='%(levelname)s %(asctime)s %(name)s %(message)s')\n",
    "\n",
    "filename = input(\"Enter the file name:\")\n",
    "try:\n",
    "    logging.info(\"Entering the function to read a file.\")\n",
    "    with open(filename, \"r\"):\n",
    "        logging.info(\"Successfully read the file\")\n",
    "\n",
    "\n",
    "except FileNotFoundError:\n",
    "    logging.critical(\"This is a situation for us\")\n",
    "    logging.error(\"File does not exist. Please try again\")\n",
    "    logging.exception(\"No file found\")"
   ]
  },
  {
   "cell_type": "code",
   "execution_count": 3,
   "id": "2a1b651c",
   "metadata": {},
   "outputs": [],
   "source": [
    "# timerotate.py\n",
    "import logging\n",
    "from logging.handlers import TimedRotatingFileHandler\n",
    "\n",
    "handler = TimedRotatingFileHandler('myapp.log', when='midnight', backupCount=7)\n",
    "handler.setLevel(logging.INFO)\n",
    "formatter = logging.Formatter('%(asctime)s - %(levelname)s - %(message)s')\n",
    "handler.setFormatter(formatter)\n",
    "\n",
    "\n",
    "logger = logging.getLogger(__name__)\n",
    "logger.setLevel(logging.INFO)\n",
    "logger.addHandler(handler)\n",
    "logger.info('This is a log message')"
   ]
  },
  {
   "cell_type": "code",
   "execution_count": 4,
   "id": "70f66b6d",
   "metadata": {},
   "outputs": [],
   "source": [
    "# sizerotate.py\n",
    "import logging\n",
    "from logging.handlers import RotatingFileHandler\n",
    "\n",
    "handler = RotatingFileHandler('myapp.log', maxBytes=1024*1024, backupCount=5)\n",
    "handler.setLevel(logging.INFO)\n",
    "formatter = logging.Formatter('%(asctime)s - %(levelname)s - %(message)s')\n",
    "handler.setFormatter(formatter)\n",
    "\n",
    "logger = logging.getLogger(__name__)\n",
    "logger.setLevel(logging.INFO)\n",
    "logger.addHandler(handler)\n",
    "\n",
    "logger.info('This is a log message')"
   ]
  },
  {
   "cell_type": "code",
   "execution_count": 5,
   "id": "611defb7",
   "metadata": {},
   "outputs": [],
   "source": [
    "# combinerotate.py\n",
    "import logging\n",
    "from logging.handlers import WatchedFileHandler, RotatingFileHandler\n",
    "\n",
    "handler = WatchedFileHandler('myapp.log')\n",
    "handler.setLevel(logging.INFO)\n",
    "formatter = logging.Formatter('%(asctime)s - %(levelname)s - %(message)s')\n",
    "handler.setFormatter(formatter)\n",
    "\n",
    "rotating_handler = RotatingFileHandler('myapp.log', maxBytes=1024*1024, backupCount=5)\n",
    "rotating_handler.setLevel(logging.INFO)\n",
    "rotating_handler.setFormatter(formatter)\n",
    "\n",
    "logger = logging.getLogger(__name__)\n",
    "logger.setLevel(logging.INFO)\n",
    "logger.addHandler(handler)\n",
    "logger.addHandler(rotating_handler)\n",
    "\n",
    "logger.info('This is a log message')"
   ]
  },
  {
   "cell_type": "code",
   "execution_count": 6,
   "id": "c064fe43",
   "metadata": {},
   "outputs": [
    {
     "name": "stderr",
     "output_type": "stream",
     "text": [
      "2023-03-19 00:28:48,633 - __main__ - INFO - Info message\n",
      "2023-03-19 00:28:48,637 - __main__ - WARNING - Warning message\n",
      "2023-03-19 00:28:48,641 - __main__ - ERROR - Error message\n",
      "2023-03-19 00:28:48,643 - __main__ - CRITICAL - Critical message\n"
     ]
    }
   ],
   "source": [
    "#levelfiltering.py\n",
    "import logging\n",
    "    \n",
    "# Create logger\n",
    "logger = logging.getLogger(__name__)\n",
    "    \n",
    "# Set log level to INFO\n",
    "logger.setLevel(logging.INFO)\n",
    "    \n",
    "# Create console handler\n",
    "console_handler = logging.StreamHandler()\n",
    "console_handler.setLevel(logging.DEBUG)\n",
    "    \n",
    "# Create formatter and add to handler\n",
    "formatter = logging.Formatter('%(asctime)s - %(name)s - %(levelname)s - %(message)s')\n",
    "console_handler.setFormatter(formatter)\n",
    "    \n",
    "# Add the console handler to the logger\n",
    "logger.addHandler(console_handler)\n",
    "    \n",
    "# Log messages with different levels\n",
    "logger.debug('Debug message')\n",
    "logger.info('Info message')\n",
    "logger.warning('Warning message')\n",
    "logger.error('Error message')\n",
    "logger.critical('Critical message')"
   ]
  },
  {
   "cell_type": "code",
   "execution_count": 7,
   "id": "cfcde60a",
   "metadata": {},
   "outputs": [
    {
     "name": "stderr",
     "output_type": "stream",
     "text": [
      "2023-03-19 00:32:02,935 - __main__ - INFO - Info message\n",
      "2023-03-19 00:32:02,935 - __main__ - INFO - Info message\n",
      "2023-03-19 00:32:02,939 - __main__ - WARNING - Warning message\n",
      "2023-03-19 00:32:02,941 - __main__ - ERROR - Error message\n",
      "2023-03-19 00:32:02,943 - __main__ - CRITICAL - Critical message\n"
     ]
    }
   ],
   "source": [
    "# levelfiltering2.py\n",
    "import logging\n",
    "\n",
    "# Define a custom filter class\n",
    "class InfoFilter(logging.Filter):\n",
    "    def filter(self, record):\n",
    "        return record.levelno == logging.INFO\n",
    "\n",
    "# Create logger\n",
    "logger = logging.getLogger(__name__)\n",
    "\n",
    "# Set log level to INFO\n",
    "logger.setLevel(logging.INFO)\n",
    "\n",
    "# Create console handler\n",
    "console_handler = logging.StreamHandler()\n",
    "console_handler.setLevel(logging.DEBUG)\n",
    "\n",
    "# Create formatter and add to handler\n",
    "formatter = logging.Formatter('%(asctime)s - %(name)s - %(levelname)s - %(message)s')\n",
    "console_handler.setFormatter(formatter)\n",
    "\n",
    "# Add a filter to the console handler\n",
    "console_handler.addFilter(InfoFilter())\n",
    "\n",
    "# Add the console handler to the logger\n",
    "logger.addHandler(console_handler)\n",
    "\n",
    "# Log messages with different levels\n",
    "logger.debug('Debug message')\n",
    "logger.info('Info message')\n",
    "logger.warning('Warning message')\n",
    "logger.error('Error message')\n",
    "logger.critical('Critical message')"
   ]
  },
  {
   "cell_type": "code",
   "execution_count": null,
   "id": "a2b9975e",
   "metadata": {},
   "outputs": [],
   "source": []
  }
 ],
 "metadata": {
  "kernelspec": {
   "display_name": "Python 3 (ipykernel)",
   "language": "python",
   "name": "python3"
  },
  "language_info": {
   "codemirror_mode": {
    "name": "ipython",
    "version": 3
   },
   "file_extension": ".py",
   "mimetype": "text/x-python",
   "name": "python",
   "nbconvert_exporter": "python",
   "pygments_lexer": "ipython3",
   "version": "3.9.13"
  }
 },
 "nbformat": 4,
 "nbformat_minor": 5
}
