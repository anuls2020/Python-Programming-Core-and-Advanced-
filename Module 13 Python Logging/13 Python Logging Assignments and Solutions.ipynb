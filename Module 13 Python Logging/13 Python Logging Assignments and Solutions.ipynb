{
 "cells": [
  {
   "cell_type": "code",
   "execution_count": 1,
   "id": "8d12d534",
   "metadata": {},
   "outputs": [],
   "source": [
    "# test2.py\n",
    "import logging\n",
    "\n",
    "logging.basicConfig(filename=\"test.log\", level=logging.INFO)\n",
    "logging.info(\"This is my very first coding for logging \")\n",
    "logging.warning(\"This will try to load a warning message\")\n",
    "logging.error(\"This is a error message from the system\")\n",
    "l=[1,2,3,4,5,6,7,8]\n",
    "for i in l:\n",
    "    if i==2:\n",
    "        logging.info(l)\n",
    "        logging.warning(\"This is a warning for user that they have found out 2 in the list\")\n",
    "\n",
    "    logging.shutdown()"
   ]
  },
  {
   "cell_type": "code",
   "execution_count": 2,
   "id": "d20859f9",
   "metadata": {},
   "outputs": [],
   "source": [
    "# test2.py\n",
    "import logging\n",
    "\n",
    "logging.basicConfig(filename=\"test2.log\", level=logging.DEBUG, format='%(levelname)s %(name)s %(asctime)s %(message)s')\n",
    "logging.debug(\"This is my log with timestamp\")\n"
   ]
  },
  {
   "cell_type": "code",
   "execution_count": 1,
   "id": "f6ea2193",
   "metadata": {},
   "outputs": [],
   "source": [
    "# test3.py\n",
    "import logging\n",
    "\n",
    "logging.basicConfig(filename=\"test3.log\", level=logging.WARNING, format='%(levelname)s %(name)s %(asctime)s %(message)s')\n",
    "\n",
    "\n",
    "def devide(a, b):\n",
    "    logging.info(\"The number entered by the user is %s and %s\", a, b)\n",
    "    try:\n",
    "        logging.info(\"We are into functions\")\n",
    "        div = a / b\n",
    "        logging.info(\"We have completed the division operation\")\n",
    "        logging.info(\"The result of the code is %s\", div)\n",
    "        return div\n",
    "    except ZeroDivisionError as e:\n",
    "        logging.exception(e)\n",
    "\n",
    "\n",
    "(devide(3, 0))"
   ]
  },
  {
   "cell_type": "code",
   "execution_count": 1,
   "id": "f260526b",
   "metadata": {},
   "outputs": [
    {
     "name": "stdout",
     "output_type": "stream",
     "text": [
      "Enter the file name:asdf.txt\n"
     ]
    }
   ],
   "source": [
    "# test4.py\n",
    "import logging\n",
    "\n",
    "logging.basicConfig(filename=\"test4.log\", level=logging.INFO, format='%(levelname)s %(asctime)s %(name)s %(message)s')\n",
    "\n",
    "filename = input(\"Enter the file name:\")\n",
    "try:\n",
    "    logging.info(\"Entering the function to read a file.\")\n",
    "    with open(filename, \"r\"):\n",
    "        logging.info(\"Successfully read the file\")\n",
    "\n",
    "\n",
    "except FileNotFoundError:\n",
    "    logging.critical(\"This is a situation for us\")\n",
    "    logging.error(\"File does not exist. Please try again\")\n",
    "    logging.exception(\"No file found\")"
   ]
  },
  {
   "cell_type": "code",
   "execution_count": null,
   "id": "2a1b651c",
   "metadata": {},
   "outputs": [],
   "source": []
  }
 ],
 "metadata": {
  "kernelspec": {
   "display_name": "Python 3 (ipykernel)",
   "language": "python",
   "name": "python3"
  },
  "language_info": {
   "codemirror_mode": {
    "name": "ipython",
    "version": 3
   },
   "file_extension": ".py",
   "mimetype": "text/x-python",
   "name": "python",
   "nbconvert_exporter": "python",
   "pygments_lexer": "ipython3",
   "version": "3.9.13"
  }
 },
 "nbformat": 4,
 "nbformat_minor": 5
}
