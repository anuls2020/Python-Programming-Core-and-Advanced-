{
 "cells": [
  {
   "cell_type": "markdown",
   "metadata": {
    "heading_collapsed": true
   },
   "source": [
    "#### <font color='#D2691E'>**Qn) Write a python program which will calculae the simple interest using module concept**</font>"
   ]
  },
  {
   "cell_type": "code",
   "execution_count": null,
   "metadata": {
    "hidden": true
   },
   "outputs": [],
   "source": [
    "#formula.py #file name and acts as module name--->(formula.cpython-310.pyc)\n",
    "\n",
    "def simpleint():\n",
    "    p=float(input(\"Enter the Principal amount\"))\n",
    "    t=float(input(\"Enter the years\"))\n",
    "    r=float(input(\"Enter the rate of interest\"))\n",
    "    #cal SI\n",
    "    si=(p*t*r)/100\n",
    "    totalamt=p+si\n",
    "    print(\"-\"*50)\n",
    "    print(\"The Principal amount is {}\".format(p))\n",
    "    print(\"-\"*50)\n",
    "    print(\"The Rate of Interest {}\".format(r))\n",
    "    print(\"-\"*50)\n",
    "    print(\"The Number of years {}\".format(t))\n",
    "    print(\"-\"*50)\n",
    "    print(\"TSimple interest {}\".format(si))\n",
    "    print(\"Total amount to pay {}\".format(totalamt))\n",
    "    print(\"-\"*50)\n",
    "  "
   ]
  },
  {
   "cell_type": "code",
   "execution_count": null,
   "metadata": {
    "hidden": true
   },
   "outputs": [],
   "source": [
    "#SI1.py\n",
    "from formula import simpleint\n",
    "simpleint()"
   ]
  },
  {
   "cell_type": "markdown",
   "metadata": {
    "heading_collapsed": true
   },
   "source": [
    "#### <font color='#D2691E'>**Qn)Write a python Program which will implement the following menu driven application.**</font> "
   ]
  },
  {
   "cell_type": "markdown",
   "metadata": {
    "hidden": true
   },
   "source": [
    "<b>Arithamatic Operations</b><br>\n",
    "    1. <b>Addition</b><br>\n",
    "    2. <b>Substraction</b><br>\n",
    "    3. <b>Multiplication</b><br>\n",
    "    4. <b>Division</b><br>\n",
    "    5. <b>Modulo Division</b><br>\n",
    "    6. <b>Exponeniation</b><br>\n",
    "    7. <b>Exit</b>"
   ]
  },
  {
   "cell_type": "code",
   "execution_count": 1,
   "metadata": {
    "hidden": true
   },
   "outputs": [],
   "source": [
    "#menuop.py ----->File name treated as module name.\n",
    "\n",
    "def menu():\n",
    "    print(\"-\"*50)\n",
    "    print(\"Arihmatic Operations\")\n",
    "    print(\"-\"*50)\n",
    "    print(\"1. Addition\")\n",
    "    print(\"2. Subtraction\")\n",
    "    print(\"3. Multiplication\")\n",
    "    print(\"4. Division\")\n",
    "    print(\"5. Modulus\")\n",
    "    print(\"6. Exponeniaion\")\n",
    "    print(\"7. Exit\")\n",
    "    print(\"-\"*50)"
   ]
  },
  {
   "cell_type": "code",
   "execution_count": 2,
   "metadata": {
    "hidden": true
   },
   "outputs": [],
   "source": [
    "#arithop.py\n",
    "\n",
    "def addition():\n",
    "    a=float(input(\"\\tEnter the value of a:\"))\n",
    "    b=float(input(\"\\tEnter the value of b:\"))\n",
    "    print(\"\\tsum of {} and {} is {}\".format(a,b,a+b))\n",
    "def subtraction():\n",
    "    a=float(input(\"\\t\\tEnter the value of a:\"))\n",
    "    b=float(input(\"Enter the value of b:\"))\n",
    "    print(\"\\tsum of {} and {} is {}\".format(a,b,a-b))\n",
    "def multiplication():\n",
    "    a=float(input(\"\\tEnter the value of a:\"))\n",
    "    b=float(input(\"\\tEnter the value of b:\"))\n",
    "    print(\"\\tsum of {} and {} is {}\".format(a,b,a*b))\n",
    "def division():\n",
    "    a=float(input(\"\\tEnter the value of a:\"))\n",
    "    b=float(input(\"\\tEnter the value of b:\"))\n",
    "    print(\"\\tsum of {} and {} is {}\".format(a,b,a/b))\n",
    "def modulus():\n",
    "    a=float(input(\"\\tEnter the value of a:\"))\n",
    "    b=float(input(\"\\tEnter the value of b:\"))\n",
    "    print(\"\\tsum of {} and {} is {}\".format(a,b,a%b))\n",
    "def exponentiation():\n",
    "    a=float(input(\"\\tEnter the value of a:\"))\n",
    "    b=float(input(\"\\tEnter the value of b:\"))\n",
    "    print(\"\\tsum of {} and {} is {}\".format(a,b,a**b))"
   ]
  },
  {
   "cell_type": "code",
   "execution_count": null,
   "metadata": {
    "hidden": true
   },
   "outputs": [],
   "source": [
    "#aopdemo.py\n",
    "\n",
    "import menuop as m\n",
    "import arithop\n",
    "import sys\n",
    "while(True):\n",
    "    m.menu()#-------------------->function call\n",
    "    ch=int(input(\"Enter your Choice: \"))\n",
    "    match ch:\n",
    "        case 1:\n",
    "            arithop.addition()\n",
    "        case 2:\n",
    "            arithop.subtraction()\n",
    "        case 3:\n",
    "            arithop.multiplication()\n",
    "        case 4:\n",
    "            arithop.division()\n",
    "        case 5:\n",
    "            arithop.modulus()\n",
    "        case 6:\n",
    "            arithop.exponentiation()\n",
    "        case 7:\n",
    "            print(\"Thanks for using this program!\")\n",
    "            sys.exit()\n",
    "        case _:\n",
    "            print(\"Please try again with valid input\")"
   ]
  },
  {
   "cell_type": "markdown",
   "metadata": {
    "heading_collapsed": true
   },
   "source": [
    "#### <font color='#D2691E'>**Qn)Write a python Program which will implement the following menu driven application.**</font>    "
   ]
  },
  {
   "cell_type": "markdown",
   "metadata": {
    "hidden": true
   },
   "source": [
    "<b>Area of Figures</b><br>\n",
    "    1. <b>Rectangle</b><br>\n",
    "    2. <b>Circle</b><br>\n",
    "    3. <b>Square</b><br>\n",
    "    4. <b>Tringle</b><br>\n",
    "    5. <b>Exit</b>"
   ]
  },
  {
   "cell_type": "code",
   "execution_count": null,
   "metadata": {
    "hidden": true
   },
   "outputs": [],
   "source": [
    "#menuop.py\n",
    "def menu():\n",
    "    print(\"-\"*50)\n",
    "    print(\"Area of Figures\")\n",
    "    print(\"-\"*50)\n",
    "    print(\"1. Area of Rectangle\")\n",
    "    print(\"2. Area of Square\")\n",
    "    print(\"3. Area of Triangle\")\n",
    "    print(\"4. Area of Circle\")\n",
    "    print(\"5. Exit\")\n",
    "    print(\"-\"*50)"
   ]
  },
  {
   "cell_type": "code",
   "execution_count": null,
   "metadata": {
    "hidden": true
   },
   "outputs": [],
   "source": [
    "#calarea.py ---- function name as module name\n",
    "pi=3.14\n",
    "def recarea():\n",
    "    a=float(input(\"Enter the length of rectangle: \"))\n",
    "    b=float(input(\"Enter the bredth of rectangle: \"))\n",
    "    print(\"Area of Rectangle with sides {} , {} is {}\".format(a,b,a*b))\n",
    "def squarea():\n",
    "    a=float(input(\"Enter the side length of the square: \"))\n",
    "    print(\"Area of Square with side {} is {}\".format(a,a**2))\n",
    "def triarea():\n",
    "    b=float(input(\"Enter the base length of triangle: \"))\n",
    "    h=float(input(\"Enter the height of triangle: \"))\n",
    "    print(\"Area of Triangle with base {} and hight {} is {}\".format(b,h,0.5*b*h))\n",
    "def cirarea():\n",
    "    r=float(input(\"Enter the radius of circle: \"))\n",
    "    print(\"Area of Circle with radius {} is {}\".format(r,pi*r**2))"
   ]
  },
  {
   "cell_type": "code",
   "execution_count": null,
   "metadata": {
    "hidden": true
   },
   "outputs": [],
   "source": [
    "#area.py\n",
    "import menuop as m\n",
    "import calarea as c\n",
    "import sys\n",
    "while(True):\n",
    "    m.menu()\n",
    "    ch=int(input(\"Enter Your Choice: \"))\n",
    "    match ch:\n",
    "        case 1: \n",
    "            c.recarea()\n",
    "        case 2: \n",
    "            c.squarea()\n",
    "        case 3: \n",
    "            c.triarea()\n",
    "        case 4: \n",
    "            c.cirarea()\n",
    "        case 5: \n",
    "            print(\"\\tThanks for using this app!\")\n",
    "            sys.exit()\n",
    "        case _:\n",
    "            print(\"\\tInvalid option, Please enter correct choice!..\")"
   ]
  },
  {
   "cell_type": "markdown",
   "metadata": {
    "heading_collapsed": true
   },
   "source": [
    "#### <font color='#D2691E'>**Qn)Write a python program which will generate multiplication table for a given number by using modules**</font>  "
   ]
  },
  {
   "cell_type": "code",
   "execution_count": null,
   "metadata": {
    "hidden": true
   },
   "outputs": [],
   "source": [
    "#multiplication table\n",
    "def readvalue():\n",
    "    n=int(input(\"Enter the value: \"))\n",
    "    return n\n",
    "\n",
    "def table():\n",
    "    n=readvalue()\n",
    "    if(n<=0):\n",
    "        print(\"{} is invalid input\".format(n))\n",
    "    else:\n",
    "        print(\"-\"*50)\n",
    "        print(\"Multiplication table of {} is given below\".format(n))\n",
    "        print(\"-\"*50)\n",
    "        for i in range(1,11):\n",
    "            print(\"\\t{} x \\t{} =\\t{}\".format(n,i, n*i))\n",
    "        print(\"-\"*50)\n"
   ]
  },
  {
   "cell_type": "code",
   "execution_count": null,
   "metadata": {
    "hidden": true
   },
   "outputs": [],
   "source": [
    "#tabledemo.py\n",
    "from multable import table\n",
    "\n",
    "table()"
   ]
  },
  {
   "cell_type": "markdown",
   "metadata": {},
   "source": [
    "### Reloading the modules"
   ]
  },
  {
   "cell_type": "markdown",
   "metadata": {
    "heading_collapsed": true
   },
   "source": [
    "#### <font color='#D2691E'>**Qn)Program to demonstrate reloading the modules.**</font> "
   ]
  },
  {
   "cell_type": "code",
   "execution_count": 6,
   "metadata": {
    "hidden": true
   },
   "outputs": [],
   "source": [
    "#sharesinfo.py\n",
    "\n",
    "shinfo={\"Tech\":20, \"Pharma\":11, \"IT\":30, \"Finance\":50}\n"
   ]
  },
  {
   "cell_type": "markdown",
   "metadata": {
    "hidden": true
   },
   "source": [
    "**Run the second program once and go back and change the values and save the file and see whether it is reflecting or not.**"
   ]
  },
  {
   "cell_type": "code",
   "execution_count": null,
   "metadata": {
    "hidden": true
   },
   "outputs": [],
   "source": [
    "#sharesdisplay.py\n",
    "import time\n",
    "import importlib\n",
    "import sharesinfo\n",
    "\n",
    "print(sharesinfo.shinfo)\n",
    "time.sleep(10)\n",
    "importlib.reload(sharesinfo)\n",
    "print(sharesinfo.shinfo)"
   ]
  },
  {
   "cell_type": "markdown",
   "metadata": {
    "hidden": true
   },
   "source": [
    "**With Functions**"
   ]
  },
  {
   "cell_type": "code",
   "execution_count": 5,
   "metadata": {
    "hidden": true
   },
   "outputs": [],
   "source": [
    "#shares.py ---file name taken as module name\n",
    "def sharesinfo():\n",
    "    d={\"Tech\":19999,\"Pharma\":110,\"Auto\":111,\"Finance\":1120}\n",
    "    return d"
   ]
  },
  {
   "cell_type": "code",
   "execution_count": null,
   "metadata": {
    "hidden": true
   },
   "outputs": [],
   "source": [
    "#sharesdemo.py\n",
    "import shares\n",
    "import time\n",
    "import importlib\n",
    "def disp(d):\n",
    "    print(\"-\"*50)\n",
    "    print(\"\\tShareName\\tShareValue\")\n",
    "    print(\"-\"*50)\n",
    "    for sn, sv in d.items():\n",
    "        print(\"\\t{}\\t\\t{}\".format(sn,sv))\n",
    "    else:\n",
    "        print(\"-\"*50)\n",
    "\n",
    "#main program\n",
    "d1=shares.sharesinfo()\n",
    "disp(d1)\n",
    "time.sleep(15)\n",
    "importlib.reload(shares)\n",
    "d1=shares.sharesinfo()\n",
    "disp(d1)"
   ]
  },
  {
   "cell_type": "markdown",
   "metadata": {
    "hidden": true
   },
   "source": [
    "\n",
    "**Run the second program once and go back and change the values and save the file and see whether it is reflecting or not.**"
   ]
  },
  {
   "cell_type": "code",
   "execution_count": null,
   "metadata": {
    "hidden": true
   },
   "outputs": [],
   "source": []
  }
 ],
 "metadata": {
  "kernelspec": {
   "display_name": "Python 3 (ipykernel)",
   "language": "python",
   "name": "python3"
  },
  "language_info": {
   "codemirror_mode": {
    "name": "ipython",
    "version": 3
   },
   "file_extension": ".py",
   "mimetype": "text/x-python",
   "name": "python",
   "nbconvert_exporter": "python",
   "pygments_lexer": "ipython3",
   "version": "3.9.13"
  }
 },
 "nbformat": 4,
 "nbformat_minor": 4
}
