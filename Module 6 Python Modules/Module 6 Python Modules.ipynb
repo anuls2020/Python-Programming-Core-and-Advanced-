{
 "cells": [
  {
   "cell_type": "markdown",
   "metadata": {},
   "source": [
    "# <h1><center>Python Modules</center></h1> \n",
    "\n",
    "\n"
   ]
  },
  {
   "cell_type": "markdown",
   "metadata": {
    "heading_collapsed": true
   },
   "source": [
    "### <font color='#3498DB'>Index</font>\n"
   ]
  },
  {
   "cell_type": "markdown",
   "metadata": {
    "hidden": true
   },
   "source": [
    "1. <font color='#3498DB'>**Purpose of Modules**</font>\n",
    "2. <font color='#3498DB'>**Definition of Modules**</font>\n",
    "3. <font color='#3498DB'>**Types of Modules**</font>\n",
    "    * <font color='#009900'>**Pre-Defined Modules**</font>\n",
    "    * <font color='#009900'>**Programmer-Defined Modules**</font>\n",
    "4. <font color='#3498DB'>**Step for developing of programmer defined modules**</font>\n",
    "5. <font color='#3498DB'>**Techniques for Re-using the Modules**</font>\n",
    "    * <font color='#009900'>**By using import sttement**</font>\n",
    "    * <font color='#009900'>**By using from...import statement**</font>\n",
    "6. <font color='#3498DB'>**Re-loading the Modules**</font>\n",
    "7. <font color='#3498DB'>**Programming Examples**</font>"
   ]
  },
  {
   "cell_type": "markdown",
   "metadata": {
    "heading_collapsed": true
   },
   "source": [
    "### <font color='#3498DB'>1. Purpose of Modules</font>"
   ]
  },
  {
   "cell_type": "markdown",
   "metadata": {
    "hidden": true
   },
   "source": [
    "\n",
    "* We know that Function concept ment for performing certain operations and provide Code Re-Usability **with in the same program** but **not able to provide code re-usability across programs**. To overcome this problem, we use **MODULES**\n",
    "\n",
    "* The **Purpose** of Module concept is to provide **Code Re-Usability across the programs.**\n"
   ]
  },
  {
   "cell_type": "markdown",
   "metadata": {
    "heading_collapsed": true
   },
   "source": [
    "### <font color='#3498DB'>**2. Definition of Modules**</font>"
   ]
  },
  {
   "cell_type": "markdown",
   "metadata": {
    "hidden": true
   },
   "source": [
    "<div class=\"alert alert-block alert-success\">\n",
    "<b>Definition of Modules:</b><br> <b> A Module is a collection of variables(Global Variables), Functions and Classes.</b>\n",
    "</div>"
   ]
  },
  {
   "cell_type": "markdown",
   "metadata": {
    "heading_collapsed": true
   },
   "source": [
    "### <font color='#3498DB'>**3. Types of Modules**</font>"
   ]
  },
  {
   "cell_type": "markdown",
   "metadata": {
    "hidden": true
   },
   "source": [
    "In Pthon We have two types of Modules, they are\n",
    "\n",
    "   1. <font color='#009900'>**Pre-defined Modules**</font>\n",
    "   2. <font color='#009900'>**Programmer-defined Modules**</font>\n",
    "    \n",
    "#### 1.   Pre-defined Modules \n",
    "\n",
    "* These modules are already developed by Python Software developers and available in Python software and whose **role is to deal with Universal Requirements.**\n",
    "\n",
    "**Examples:-**  builtins,functools,calendar,math,cmath,re,cx_Oracle,mysql-connector, threading, numpy  pandas...etc\n",
    "\n",
    "<div class=\"alert alert-block alert-info\">\n",
    "<b>NOTE:-</b><br>\n",
    "    <font color='#eb2121'><b>builtins is the default pre-defined module</b></font>\n",
    "</div>\n",
    "\n",
    "\n",
    "#### 2.   Programmer-defined Modules \n",
    "\n",
    "* These modules are developed by Python Language Programmers and available in Python Project and whose role is to deal with Common Requirements.\n",
    "\n",
    "**Examples:-** banking,mathformulas,otpgen.....etc"
   ]
  },
  {
   "cell_type": "markdown",
   "metadata": {
    "heading_collapsed": true
   },
   "source": [
    "### <font color='#3498DB'>**4. Step for developing of Programmer Defined Modules**</font>"
   ]
  },
  {
   "cell_type": "markdown",
   "metadata": {
    "hidden": true
   },
   "source": [
    "* Creating a Programmer-defined Module is nothing but\n",
    "    * Define / choose  the Variables with Values (**Global variables**)\n",
    "    * **Define the Functions** for performing Common Operations\n",
    "    * **Define the classes** (In OOPs we discuss )\n",
    "* Save the above on some file name with an extension .py (**FileName.py**)\n",
    "* Hence FileName.py compiled Version(**FileName.cpyhon-310.pyc**) is **treated as Module Name**\n",
    "* Once the a module is created , whose module name is placed within a folder which is created automatically by Python Environment.\n",
    "\n",
    "**Location of custom module file we have created:**\n",
    "\n",
    "**`Python enveronment OR the directory where the Filename.py saved` --> ` __pycache__`  --> `filename.cpython-310.pyc`**"
   ]
  },
  {
   "cell_type": "markdown",
   "metadata": {
    "heading_collapsed": true
   },
   "source": [
    "### <font color='#fc03db'>**For examples, see the D:\\NIT_PYTHON\\Scripts\\Module 5 MODULES\\ Direcories. These examples cannot be done in notebook**</font>"
   ]
  },
  {
   "cell_type": "markdown",
   "metadata": {
    "heading_collapsed": true
   },
   "source": [
    "### <font color='#3498DB'>**5. Techniques for Re-using the Modules**</font>"
   ]
  },
  {
   "cell_type": "markdown",
   "metadata": {
    "hidden": true
   },
   "source": [
    "* In Python Programming, we have two techniques for Re-Using the modules. They are\n",
    "\n",
    "   1. By using <font color='#009900'>**import**</font> statement\n",
    "   2. By using <font color='#009900'>**from... import**</font> statement\n",
    "   \n",
    "--- \n",
    "\n",
    "#### 1.   By using <font color='#009900'>**import**</font> statement \n",
    "\n",
    "* Here, **import** is a **keyword.** \n",
    "* **Import** statement is used for refering the <font color='#009900'>**Variables Names, Function names & class names**</font>  of a module.\n",
    "\n",
    "<div class=\"alert alert-block alert-success\">\n",
    "<b>Syntax 1:</b><br> \n",
    "    <code><b>import module_name</b></code>\n",
    "\n",
    "<b>Explanation:</b><br>\n",
    "\n",
    "* This syntax imports <b>single module</b>\n",
    "\n",
    "<b>Examples:</b>\n",
    "    \n",
    "* <b>import formula</b><br>\n",
    "* <b>import mathinfo</b><br>\n",
    "\n",
    "</div>"
   ]
  },
  {
   "cell_type": "markdown",
   "metadata": {
    "hidden": true
   },
   "source": [
    "<div class=\"aler alert-block alert-success\">\n",
    "<b>Sntax 2:</b><br>\n",
    "<code><b>import modulename1,modulename2,...modulename-n<b></code>\n",
    "\n",
    "<b>Explanation:</b><br>\n",
    "  * This syntax imports <b>multiple module names.</b><br>  \n",
    "\n",
    "<b>Examples:</b><br>\n",
    "  * <b>import formula, mathinfo</b>\n",
    "    \n",
    "</div>"
   ]
  },
  {
   "cell_type": "markdown",
   "metadata": {
    "hidden": true
   },
   "source": [
    "<div class=\"aler alert-block alert-success\">\n",
    "<b>Sntax 3:</b><br>\n",
    "<code><b>import modulename as alias name<b></code>\n",
    "\n",
    "<b>Explanation:</b><br>\n",
    "  * This syntax imports <b>single module name as alias name.</b><br>  \n",
    "\n",
    "<b>Examples:</b><br>\n",
    "  * <b>import formula as f </b>\n",
    "  * <b>import mathinfo as m</b>  \n",
    "    \n",
    "</div>"
   ]
  },
  {
   "cell_type": "markdown",
   "metadata": {
    "hidden": true
   },
   "source": [
    "<div class=\"aler alert-block alert-success\">\n",
    "<b>Sntax 4:</b><br>\n",
    "<code><b>import modulename-1 as alias name-1, modulename-2 as alias name-2,..modulename-n as alias name-n<b></code>\n",
    "\n",
    "<b>Explanation:</b><br>\n",
    "  * This syntax imports <b>multiple module names with alias name.</b><br>  \n",
    "\n",
    "<b>Examples:</b><br>\n",
    "  * <b>import formula as f,mathinfo as m </b>\n",
    "    \n",
    "</div>"
   ]
  },
  {
   "cell_type": "markdown",
   "metadata": {
    "hidden": true
   },
   "source": [
    "<div class=\"alert alert-block alert-warning\">\n",
    "<b>Note:</b><br>\n",
    "    <b>AFTER IMPORTING A PARTICULAR MODULE, THE VARIABLE NAME, FUNCTION NAME AND THE CLASS NAMES MUST BE ACCESSED W.R.T MODULE NAME, OTHERWISE WEE WILL GET ERROR. </b><br>\n",
    "\n",
    "<b>Sntax 4:</b><br>\n",
    "<code><b>module_name.variable_name<br>module_name.function_name<br>module_name.class_name<b></code><br>\n",
    "OR<br>\n",
    "<code><b>module_alias_name.variable_name<br>module_alias_name.function_name<br>module_alias_name.class_name<b></code>\n",
    "    \n",
    "</div>"
   ]
  },
  {
   "cell_type": "markdown",
   "metadata": {
    "hidden": true
   },
   "source": [
    "#### 2.   By using <font color='#009900'>**from...import**</font> statement \n",
    "\n",
    "* Here, **from** and **import** are **keywords.** \n",
    "* This approach is also used for reusing the <font color='#009900'>**Variables Names, Function names & class names**</font>  of a particular modules in the current program.\n",
    "\n",
    "<div class=\"alert alert-block alert-success\">\n",
    "<b>Syntax 1:</b><br> \n",
    "    <code><b>from module_name import </b></code>\n",
    "\n",
    "<b>Explanation:</b><br>\n",
    "\n",
    "* This syntax imports <b>single module</b>\n",
    "\n",
    "<b>Examples:</b>\n",
    "    \n",
    "* <b>import formula</b><br>\n",
    "* <b>import mathinfo</b><br>\n",
    "\n",
    "</div>"
   ]
  },
  {
   "cell_type": "markdown",
   "metadata": {
    "hidden": true
   },
   "source": [
    "<div class=\"alert alert-block alert-success\">\n",
    "<b>Syntax 2:</b><br> \n",
    "    <code><b>from module_name import module name asalias name, variable names as alias names,function names as alias names , class names as alias names.</b></code>\n",
    "\n",
    "<b>Explanation:</b><br>\n",
    "\n",
    "* This syntax imports the <b>variables names, function names and class names</b> from a specified module name with <b>alias names</b>.\n",
    "\n",
    "\n",
    "<b>Examples:</b>\n",
    "    \n",
    "* <b>from hyd import stateinfo as sf1,capinfo as cf1,hello as h1,show as s1</b><br>\n",
    "* <b>from bang import stateinfo as sf2,capinfo as cf2,hello as h2,show as s2</b><br>\n",
    "\n",
    "</div>"
   ]
  },
  {
   "cell_type": "markdown",
   "metadata": {
    "hidden": true
   },
   "source": [
    "<div class=\"alert alert-block alert-success\">\n",
    "<b>Syntax 3:</b><br> \n",
    "    <code><b>from module name  import *</b></code>\n",
    "\n",
    "<b>Explanation:</b><br>\n",
    "\n",
    "* This syntax imports <b>all variable names, function names and Class names</b>.\n",
    "* This syntax is <b>not recommended to to use</b> bcoz it provides un-necessary information to the current python program along required information.    \n",
    "\n",
    "\n",
    "<b>Examples:</b>\n",
    "    \n",
    "* <b>from hyd   import *</b><br>\n",
    "* <b>from bang import *</b><br>\n",
    "\n",
    "</div>"
   ]
  },
  {
   "cell_type": "markdown",
   "metadata": {
    "hidden": true
   },
   "source": [
    "<div class=\"alert alert-block alert-warning\">\n",
    "<b>Note:</b><br>\n",
    "    <b>WITH THIS APPROACH , AFTER IMPORTING A PERTICULAR MODULE, THE VARIABLE NAMES, FUNCTION NAMES AND CLASS NAMES CAN BE ACCESSED DIRECTLY WITHOUT USING MODULE NAME. </b><br>\n",
    "\n",
    "<b>Syntax 4:</b><br>\n",
    "<code><b>Variable Name  (OR) alias_name of variable name<b><br></code>\n",
    "OR<br>\n",
    "<code><b>Function Name (OR) alias_name of function name<b></code><br>\n",
    "OR<br>\n",
    "<code><b>Class Name (OR) alias_name of Class name  <b></code>  \n",
    "    \n",
    "</div>"
   ]
  },
  {
   "cell_type": "markdown",
   "metadata": {
    "heading_collapsed": true
   },
   "source": [
    "### <font color='#3498DB'>**6. Reloading the Modules**</font>"
   ]
  },
  {
   "cell_type": "markdown",
   "metadata": {
    "hidden": true
   },
   "source": [
    "* To reaload a module in python , we use a pre-defined function called reload(), which is present in imp module and it was deprecated in favour of importlib module. \n",
    "\n",
    "<div class=\"alert alert-block alert-success\">\n",
    "<b>Syntax:</b><br>\n",
    "<code><b>imp.reload(module name)<b><br></code>\n",
    "\n",
    "OR<br>\n",
    "    \n",
    "<b>Recommented:</b><br>\n",
    "<code><b>importlib.reload(module name)<b><br></code>\n",
    "    \n",
    "</div>    "
   ]
  },
  {
   "cell_type": "markdown",
   "metadata": {
    "heading_collapsed": true,
    "hidden": true
   },
   "source": [
    "#### <font color='#009900'>**Purpose/Situation**</font> \n",
    "\n"
   ]
  },
  {
   "cell_type": "markdown",
   "metadata": {
    "hidden": true
   },
   "source": [
    "**reaload()** reloads a previously imported module. if we have edited the module source file  by using an external editor and we want to use the changed values \n",
    "\t\t(OR)\n",
    "To get the new version of previously loaded module then we use reload().\n"
   ]
  },
  {
   "cell_type": "code",
   "execution_count": null,
   "metadata": {
    "hidden": true
   },
   "outputs": [],
   "source": []
  }
 ],
 "metadata": {
  "kernelspec": {
   "display_name": "Python 3 (ipykernel)",
   "language": "python",
   "name": "python3"
  },
  "language_info": {
   "codemirror_mode": {
    "name": "ipython",
    "version": 3
   },
   "file_extension": ".py",
   "mimetype": "text/x-python",
   "name": "python",
   "nbconvert_exporter": "python",
   "pygments_lexer": "ipython3",
   "version": "3.9.13"
  }
 },
 "nbformat": 4,
 "nbformat_minor": 4
}
