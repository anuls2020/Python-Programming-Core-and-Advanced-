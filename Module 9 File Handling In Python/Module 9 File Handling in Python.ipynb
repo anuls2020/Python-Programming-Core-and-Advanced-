{
 "cells": [
  {
   "cell_type": "markdown",
   "id": "c4be7e5e",
   "metadata": {},
   "source": [
    "<h1><center>File Handling in Python</center></h1> "
   ]
  },
  {
   "cell_type": "markdown",
   "id": "cd7e7e9b",
   "metadata": {},
   "source": [
    "## <font color='#3498DB'>Index</font>"
   ]
  },
  {
   "cell_type": "markdown",
   "id": "0af5f3cf",
   "metadata": {},
   "source": [
    "1. <font color='#3498DB'>**Purpose**</font>\n",
    "2. <font color='#3498DB'>**Types of applications**</font>\n",
    "    * <font color='#009900'>**Non-Persistant applications**</font>\n",
    "    * <font color='#009900'>**Persistant applications**</font>\n",
    "3. <font color='#3498DB'>**Definition of Files**</font>\n",
    "4. <font color='#3498DB'>**Definition of Stream**</font>\n",
    "5. <font color='#3498DB'>**Types of Files**</font>\n",
    "    * <font color='#009900'>**Text Files**</font>\n",
    "    * <font color='#009900'>**Binary Files**</font>\n",
    "6. <font color='#3498DB'>**File Opening modes**</font>\n",
    "    * <font color='#009900'>**r**</font>\n",
    "    * <font color='#009900'>**w**</font>\n",
    "    * <font color='#009900'>**a**</font>\n",
    "    * <font color='#009900'>**r+**</font>\n",
    "    * <font color='#009900'>**w+**</font>\n",
    "    * <font color='#009900'>**a+**</font>\n",
    "    * <font color='#009900'>**x**</font>\n",
    "7. <font color='#3498DB'>**Number of approaches to Open files**</font>\n",
    "    * <font color='#009900'>**open()**</font>\n",
    "    * <font color='#009900'>**with open() as**</font>\n",
    "8. <font color='#3498DB'>**Operations on Files**</font>\n",
    "    * <font color='#009900'>**Write Operation**</font>\n",
    "    * <font color='#009900'>**Read Operation**</font>\n",
    "9. <font color='#3498DB'>**Steps for write Operation**</font>\n",
    "10. <font color='#3498DB'>**Steps for read operation**</font>\n",
    "11. <font color='#3498DB'>**Programming examples**</font>\n",
    "12. <font color='#3498DB'>**Pickling(Object Serialization) and Un-Pickling (Object Deserialization)**</font>\n",
    "13. <font color='#3498DB'>**Pickle module**</font>\n",
    "14. <font color='#3498DB'>**Programming Examples**</font>"
   ]
  },
  {
   "cell_type": "markdown",
   "id": "51e6d702",
   "metadata": {
    "heading_collapsed": true
   },
   "source": [
    "## <font color='#3498DB'>Purpose of Files</font> "
   ]
  },
  {
   "cell_type": "markdown",
   "id": "e7cf9931",
   "metadata": {
    "hidden": true
   },
   "source": [
    "* The purpose of Files in any programming Language is that \"**To Store the data Permanently (Data Persistency)**\".\n"
   ]
  },
  {
   "cell_type": "markdown",
   "id": "4d5429eb",
   "metadata": {
    "heading_collapsed": true
   },
   "source": [
    "## <font color='#3498DB'>Types of applications</font> "
   ]
  },
  {
   "cell_type": "markdown",
   "id": "d4826aa3",
   "metadata": {
    "hidden": true
   },
   "source": [
    "* In the context of Files, we can develop two types of Applications / Programs.. They are\n",
    "\n",
    "    1. <font color='#009900'>**Non-Persistant Applications**</font>\n",
    "    2. <font color='#009900'>**Persistant Applications**</font> \n",
    "\n",
    "* In **Non-Persistant Application** Development, we read/accept  the input data from KBD, Stores in main memory (RAM-temp storage), process the inputs and displays its result on the console.\n",
    "\n",
    "* Examples:  All previous program are comes under non-persistant applications.\n",
    "\n",
    "* In **Persistant Application** Development, we read/accept  the from input data from KBD, Stores in main memory (temp storage), process the inputs and **stores the result Permanently(Secondary Storage).**\n",
    "* In Industry , we have two types of approaches to store the data permanently. They are\n",
    "\n",
    "  1. <font color='#009900'>**By Using Files**</font>\n",
    "  2. <font color='#009900'>**By using Database softwares**</font> "
   ]
  },
  {
   "cell_type": "markdown",
   "id": "0f2448bf",
   "metadata": {
    "heading_collapsed": true
   },
   "source": [
    "## <font color='#3498DB'>Introduction to FIles</font>"
   ]
  },
  {
   "attachments": {
    "files%20and%20memory-2.jpg": {
     "image/jpeg": "[encoded data removed]"
    }
   },
   "cell_type": "markdown",
   "id": "5d315421",
   "metadata": {
    "hidden": true
   },
   "source": [
    "* The purpose of Files in any programming Language is that <font color='#009900'>**\"To Store the data Permanently (Data Persistency)\".**</font>\n",
    "\n",
    "* **Definition of File**:   <font color='#009900'>**A File is a collection of Records.**</font>\n",
    "\n",
    "* **File name** is one of the <font color='#009900'>**named location in secondary memory(Hard disk)**</font>. \n",
    "\n",
    "* <font color='#009900'>**All the objects data of main memory can be stored  permanently in the form of Files of Secondary memory and Records of file of Secondary Memory will become objects in Main Memory.**</font>\n",
    "\n",
    "![files%20and%20memory-2.jpg](attachment:files%20and%20memory-2.jpg)\n",
    "\n",
    "* **Definition of Stream**:   <font color='#009900'>**The flow of Data between Main memory and secondary memory is called Stream.**</font>"
   ]
  },
  {
   "cell_type": "markdown",
   "id": "6c8076b7",
   "metadata": {
    "heading_collapsed": true
   },
   "source": [
    "## <font color='#3498DB'>Types of Files in Python</font>"
   ]
  },
  {
   "cell_type": "markdown",
   "id": "0bf0795b",
   "metadata": {
    "hidden": true
   },
   "source": [
    "* In Python, we have two types of Files. They are\n",
    "\n",
    "\t1. <font color='#009900'>**Text Files**</font>\n",
    "    2. <font color='#009900'>**Binary Files**</font>\n",
    "\n",
    "<font color='#3498DB'>**1) Text Files**</font>\n",
    "\n",
    "* A Text File always contains the data in the form **Alphabets, Digits and Special Symbols.**\n",
    "* In Python Programming, **text files are denoted by a letter 't'**.\n",
    "* By default,When we deal with Files, File is considered as text file.\n",
    "* Examples: **.txt, .doc, .py, .java, .cpp**, ...etc\n",
    "\n",
    "<font color='#3498DB'>**2) Binary Files**</font>\n",
    "\n",
    "* A Binary File always contains the data in the form **Binary Format.**\n",
    "* In Python Programming, **Binary files are denoted by a letter 'b'.**\n",
    "* Examples:**.jpeg, .jpg, .gif, audio, video .pdf**...etc Also, **.exe. .png**.....etc\n"
   ]
  },
  {
   "cell_type": "markdown",
   "id": "681c174f",
   "metadata": {},
   "source": [
    "## <font color='#3498DB'>File Opening Modes</font>"
   ]
  },
  {
   "cell_type": "markdown",
   "id": "1ad83b94",
   "metadata": {},
   "source": [
    "* File Opening Modes are **used for opening the file in certain file Mode.**\n",
    "* In otherwords , File Opening Modes makes us to understand, **in which mode the file is opening.**\n",
    "* In Python Programming we have **7 file opening modes**. They are\n",
    "\n",
    "<font color='#009900'>**1) r :**</font>\n",
    "\n",
    "* This mode is used for <font color='#009900'>**opening  the File in read mode.**</font>\n",
    "* When we open the file in 'r' mode and if the file does not exist in Secondary Memory then we get <font color='red'>****FileNotFoundError.**</font>\n",
    "* **The default file mode is 'r'.**\n",
    "\n",
    "<font color='#009900'>**2) w :**</font>\n",
    "\n",
    "* This mode is used for <font color='#009900'>**Opening the File always in write mode newly.**</font>\n",
    "* If we **open NEW FILE in 'w' mode** then it open in write mode and **data written to file from the begining.**\n",
    "* If we **open the existing file in 'w' mode** then it open in write mode, **existing data is replaced with new data.**(<font color='#009900'>**Overlapping**</font>)\n",
    "\n",
    "<font color='#009900'>**3) a :**</font>\n",
    "\n",
    "* This mode is used for <font color='#009900'>**Opening the File always in write mode.**</font>\n",
    "* If we **open NEW FILE in 'a' mode** then **it open in write mode and data written to file from the begining.**\n",
    "* If we **open the existing file in 'a' mode** then it open in **write mode and new data adding at end of existing data**( <font color='#009900'>**know as appending**</font>)\n",
    "\n",
    "<font color='#009900'>**4) r+ :**</font>\n",
    "\n",
    "* This mode is used for <font color='#009900'>**opening the file in read mode.**</font>\n",
    "* When we **open the file in 'r+' mode** then we can perform **First Read Operation and latter we can perform Write Operation(But not reverse order).**\n",
    "* When we **open the file in 'r+' mode** and **if the file does not exist** in Secondary Memory then we get <font color='red'>**FileNotFoundError**</font>\n",
    "\n",
    "<font color='#009900'>**5) w+ :**</font>\n",
    "\n",
    "* This mode is used for <font color='#009900'>**Opening the File always in write mode newly.**</font>\n",
    "* if we **open NEW FILE in 'w+' mode** then it open in write mode and **data written to file from the begining** and latter we can perform read operation.\n",
    "* If we **open the existing file in 'w+' mode** then it opens in write mode, existing data is replaced with new data.(<font color='#009900'>**Overlapping**</font>)\n",
    "* **When we write the data on file with this mode and if we have insufficient memory in Seconadry Memory then we get** <font color='red'>**IOError**</font>\n",
    "\n",
    "<font color='#009900'>**6) a+ :**</font>\n",
    "\n",
    "* This mode is used for <font color='#009900'>**Opening the File always in write mode.**</font>\n",
    "* If we **open NEW FILE in 'a+' mode** then it **open in write mode and data written to file from the begining and later we can read the data.**\n",
    "* If we **open the EXISTING FILE  in 'a' mode** then it **open in write mode and new data adding at end of existing data**( <font color='#009900'>**know as appending**</font>) and later we can perform read operation.\n",
    "\n",
    "<font color='#009900'>**7) x :**</font>\n",
    "\n",
    "* The x Mode is used for opening the file <font color='#009900'>**Exclusively in Write Mode only once.**</font>\n",
    "* If we **open the existing file in x mode then we get** <font color='red'>**FileExistError.**</font>\n"
   ]
  },
  {
   "cell_type": "markdown",
   "id": "297d45bd",
   "metadata": {},
   "source": [
    "## <font color='#3498DB'>Number of approaches to Open files in Python</font>"
   ]
  },
  {
   "cell_type": "markdown",
   "id": "3c48de92",
   "metadata": {},
   "source": [
    "* To do any operation on files, we have open the file.\n",
    "* To open the file , we have **two syntaxes**. They are \n",
    "\n",
    "    1. <font color='#009900'>**By using open()**</font>\n",
    "    2. <font color='#009900'>**By using \"with open() as\"**</font>\n",
    "\n",
    "<font color='#3498DB'>**1) By using open():**</font>\n",
    "\n",
    "<div class=\"alert alert-block alert-success\">\n",
    "<b>Syntax:</b></br> \n",
    "<code>VarName=open(\"File Name\", \"File Mode\")</code>\n",
    "</div>\n",
    "  \n",
    "**Explanation:**\n",
    "\n",
    "* Here \"**VarName**\" repersent a pointer to the file and it called \"File Pointer\" and it is an object of type **<class, _io.TextIOWrapper>**\n",
    "* **open()** is pre-defined  function, which is used for opening the file in specified File Mode.\n",
    "* \"**File Name**\" represents Name of File\n",
    "* **File Mode** represents **r,w,a,r+,w+,a+ and x**.\n",
    "* <font color='#009900'>**Once we open the files by using open(), we need to close the files explicitly by using close() . In otherwords open() approach is unable to provide auto-closable property.**</font>"
   ]
  },
  {
   "cell_type": "markdown",
   "id": "1eae51e5",
   "metadata": {},
   "source": [
    "##### Examples:"
   ]
  },
  {
   "cell_type": "code",
   "execution_count": null,
   "id": "e5b0062f",
   "metadata": {},
   "outputs": [],
   "source": [
    "# fileopenex1.py\n",
    "\n",
    "# write a python program which will open any file in any mode.\n",
    "# This program will demonstrate to opening a file in read mode.\n",
    "\n",
    "\n",
    "try:\n",
    "    fp = open(\"student1.info\", \"r\")\n",
    "    print(\"Type of fp:\", type(fp))\n",
    "except FileNotFoundError:\n",
    "    print(\"\\nThe required file does not exist!.. Please check the file name!..\")"
   ]
  },
  {
   "cell_type": "code",
   "execution_count": null,
   "id": "c50b2c13",
   "metadata": {},
   "outputs": [],
   "source": [
    "# fileopenex2.py\n",
    "\n",
    "# write a python program which will open any file in any mode.\n",
    "# This program will demonstrate to opening a file in write mode.\n",
    "\n",
    "fp = open(\"student2.info\", \"w\")\n",
    "print(\"File Opened in write mode successfully\")"
   ]
  },
  {
   "cell_type": "code",
   "execution_count": null,
   "id": "8eb89395",
   "metadata": {},
   "outputs": [],
   "source": [
    "# fileopenex3.py\n",
    "\n",
    "# write a python program which will open any file in any mode.\n",
    "# This program will demonstrate to opening a file in exclusive(x) mode.\n",
    "\n",
    "try:\n",
    "    fp = open(\"student3.info\", \"x\")\n",
    "    print(\"Mode Used\", fp.mode)\n",
    "except FileExistsError:\n",
    "    print(\"File already exist. Please chose another file name.\")\n",
    "else:\n",
    "    print(\"File Opened in x mode successfully\")"
   ]
  },
  {
   "cell_type": "code",
   "execution_count": null,
   "id": "2a7d0908",
   "metadata": {},
   "outputs": [],
   "source": [
    "# fileopenex1.py\n",
    "\n",
    "# write a python program which will obtain the information about the file.\n",
    "# This program will demonstrate to opening a file in read mode.\n",
    "\n",
    "try:\n",
    "    # fp = open(\"student1.info\")\n",
    "    fp = open(\"student1.info\", \"r\")\n",
    "except FileNotFoundError:\n",
    "    print(\"\\nThe required file does not exist!.. Please check the file name!..\")\n",
    "else:\n",
    "    print(\"File opened in read mode successfully\")\n",
    "    print(\"-\" * 50)\n",
    "    print(\"Id of fp\", id(fp))\n",
    "    print(\"Mode Used = {}\".format(fp.mode))\n",
    "    print(\"Is readable :{}\".format(fp.readable()))\n",
    "    print(\"Is writable :{}\".format(fp.writable()))\n",
    "    print(\"Is file closed :{}\".format(fp.closed))\n",
    "    print(\"-\" * 50)\n",
    "finally:\n",
    "    print(\"I'm frm finally block(line 19), about to call file close() function\")\n",
    "    fp.close()\n",
    "    print(\"Is file closed on line 21:{}\".format(fp.closed))\n",
    "    print(\"-\" * 50)"
   ]
  },
  {
   "cell_type": "code",
   "execution_count": null,
   "id": "5f303b35",
   "metadata": {},
   "outputs": [],
   "source": [
    "# fileinfoex2.py\n",
    "\n",
    "# write a python program which will obtain the information about the file.\n",
    "# This program will demonstrate to opening a file in read mode.\n",
    "\n",
    "try:\n",
    "    fp = open(\"student1.info\", \"r+\")\n",
    "except FileNotFoundError:\n",
    "    print(\"\\nThe required file does not exist!.. Please check the file name!..\")\n",
    "else:\n",
    "    print(\"File opened in read mode successfully\")\n",
    "    print(\"-\" * 50)\n",
    "    print(\"Mode Used = {}\".format(fp.mode))\n",
    "    print(\"Is readable :{}\".format(fp.readable()))\n",
    "    print(\"Is writable :{}\".format(fp.writable()))\n",
    "    print(\"Is file closed :{}\".format(fp.closed))\n",
    "    print(\"-\" * 50)\n",
    "finally:\n",
    "    print(\"I'm frm finally block(line 17), about to call file close() function\")\n",
    "    fp.close()\n",
    "    print(\"Is file closed on line 19:{}\".format(fp.closed))\n",
    "    print(\"-\" * 50)\n"
   ]
  },
  {
   "cell_type": "code",
   "execution_count": null,
   "id": "98d6ffb9",
   "metadata": {},
   "outputs": [],
   "source": [
    "# fileinfoex3.py\n",
    "\n",
    "# write a python program which will obtain the information about the file.\n",
    "# This program will demonstrate to opening a file in read mode.\n",
    "\n",
    "fp = open(\"student1.info\", \"w\")\n",
    "print(\"File opened in write mode successfully\")\n",
    "print(\"-\" * 50)\n",
    "print(\"Mode Used = {}\".format(fp.mode))\n",
    "print(\"Is readable :{}\".format(fp.readable()))\n",
    "print(\"Is writable :{}\".format(fp.writable()))\n",
    "print(\"Is file closed :{}\".format(fp.closed))\n",
    "print(\"-\" * 50)\n",
    "fp.close()\n",
    "print(\"Is file closed on line 13:{}\".format(fp.closed))\n",
    "print(\"-\" * 50)\n"
   ]
  },
  {
   "cell_type": "code",
   "execution_count": null,
   "id": "b0aa3f48",
   "metadata": {},
   "outputs": [],
   "source": [
    "# fileinfoex4.py\n",
    "# write a python program which will obtain the information about the file.\n",
    "# This program will demonstrate to opening a file in read mode.\n",
    "\n",
    "fp = open(\"student1.info\", \"w+\")\n",
    "print(\"File opened in write mode successfully\")\n",
    "print(\"-\" * 50)\n",
    "print(\"Mode Used = {}\".format(fp.mode))\n",
    "print(\"Is readable :{}\".format(fp.readable()))\n",
    "print(\"Is writable :{}\".format(fp.writable()))\n",
    "print(\"Is file closed :{}\".format(fp.closed))\n",
    "print(\"-\" * 50)\n",
    "fp.close()\n",
    "print(\"Is file closed on line 13:{}\".format(fp.closed))\n",
    "print(\"-\" * 50)\n"
   ]
  },
  {
   "cell_type": "code",
   "execution_count": null,
   "id": "23202fb1",
   "metadata": {},
   "outputs": [],
   "source": [
    "# fileinfoex5.py\n",
    "\n",
    "# write a python program which will obtain the information about the file.\n",
    "# This program will demonstrate to opening a file in read mode.\n",
    "\n",
    "fp = open(\"student1.info\", \"a\")\n",
    "print(\"File opened in append mode successfully\")\n",
    "print(\"-\" * 50)\n",
    "print(\"Mode Used = {}\".format(fp.mode))\n",
    "print(\"Is readable :{}\".format(fp.readable()))\n",
    "print(\"Is writable :{}\".format(fp.writable()))\n",
    "print(\"Is file closed :{}\".format(fp.closed))\n",
    "print(\"-\" * 50)\n",
    "fp.close()\n",
    "print(\"Is file closed on line 13:{}\".format(fp.closed))\n",
    "print(\"-\" * 50)\n"
   ]
  },
  {
   "cell_type": "code",
   "execution_count": null,
   "id": "d9627b5e",
   "metadata": {},
   "outputs": [],
   "source": [
    "# fileinfoex6.py\n",
    "\n",
    "# write a python program which will obtain the information about the file.\n",
    "# This program will demonstrate to opening a file in read mode.\n",
    "\n",
    "fp = open(\"student1.info\", \"a+\")\n",
    "print(\"File opened in append mode successfully\")\n",
    "print(\"-\" * 50)\n",
    "print(\"Mode Used = {}\".format(fp.mode))\n",
    "print(\"Is readable :{}\".format(fp.readable()))\n",
    "print(\"Is writable :{}\".format(fp.writable()))\n",
    "print(\"Is file closed :{}\".format(fp.closed))\n",
    "print(\"-\" * 50)\n",
    "fp.close()\n",
    "print(\"Is file closed on line 13:{}\".format(fp.closed))\n",
    "print(\"-\" * 50)\n"
   ]
  },
  {
   "cell_type": "code",
   "execution_count": null,
   "id": "4f095c27",
   "metadata": {},
   "outputs": [],
   "source": [
    "# fileinfoex7.py\n",
    "# write a python program which will obtain the information about the file.\n",
    "# This program will demonstrate to opening a file in read mode.\n",
    "\n",
    "try:\n",
    "    fp = open(\"studentx1.info\", \"x\")\n",
    "except FileExistsError:\n",
    "    print(\"File already exist, cant open in x mode\")\n",
    "else:\n",
    "    print(\"File opened in x mode successfully\")\n",
    "    print(\"-\" * 50)\n",
    "    print(\"Mode Used = {}\".format(fp.mode))\n",
    "    print(\"Is readable :{}\".format(fp.readable()))\n",
    "    print(\"Is writable :{}\".format(fp.writable()))\n",
    "    print(\"Is file closed :{}\".format(fp.closed))\n",
    "    print(\"-\" * 50)\n",
    "finally:\n",
    "    fp.close()\n",
    "    print(\"Is file closed on line 18:{}\".format(fp.closed))\n",
    "    print(\"-\" * 50)\n"
   ]
  },
  {
   "cell_type": "markdown",
   "id": "19db9cde",
   "metadata": {},
   "source": [
    "<div class=\"alert alert-block alert-info\">\n",
    "<b>Tip/Note:</b> \n",
    "    \n",
    "* **\"mode\"** is an attribute in the object of **TextIOWrapper** and it is used for giving the file mode\n",
    "    \n",
    "* **\"closed\"** is an attribute in the object of **TextIOWrapper** and it returns False in the case file is active in open otherwise  it gives True\n",
    "    \n",
    "* **\"readable()\"** is a pre-defined function in the object of **TextIOWrapper** and it returns True in the case of reading operation on the file otherwise it returns False\n",
    "    \n",
    "* **\"writable()\"** is a pre-defined function in the object of **TextIOWrapper** and it returns True in the case of writing operation on the file otherwise it returns False\n",
    "    \n",
    "</div>"
   ]
  },
  {
   "cell_type": "markdown",
   "id": "f0e62a1d",
   "metadata": {},
   "source": [
    "-----"
   ]
  },
  {
   "cell_type": "markdown",
   "id": "7c6b7a88",
   "metadata": {},
   "source": [
    "<font color='#3498DB'>**2) By using \"with open() as filepointer\"**</font>\n",
    "\n",
    "<div class=\"alert alert-block alert-success\">\n",
    "<b>Syntax:</b> \n",
    "<code>\n",
    "with  open(\"File Name\", \"File Mode\") as VarName:\n",
    "   --------------------------------------\n",
    "   --------------------------------------\n",
    "   Block of Statements--Operation\n",
    "   --------------------------------------\n",
    "   --------------------------------------\n",
    "-----------------------------------------\n",
    "Other Statements in Python Program\n",
    "-----------------------------------------</code></div>\n",
    "\n",
    "**Explanation:**\n",
    " \n",
    "* \"**with**\"  and \"**as**\"  are keywords\n",
    "* **open()** is a function used to open the file in specified file mode\n",
    "* here \"**VarName**\" repersent a pointer to the file and it called \"File Pointer \" and it is an object of type <font color='#009900'>**<class, _io.TextIOWrapper>**</font>\n",
    "* <font color='#009900'>**The main advatange of this syntax is that It provides auto-closable of files. In otherwords, we need not to close any files explicitly.**</font>\n",
    " \n",
    "\n"
   ]
  },
  {
   "cell_type": "markdown",
   "id": "e929ea35",
   "metadata": {},
   "source": [
    "##### Examples:"
   ]
  },
  {
   "cell_type": "code",
   "execution_count": null,
   "id": "4cba2900",
   "metadata": {},
   "outputs": [],
   "source": [
    "# write a python program which will obtain the information about the file.\n",
    "# This program will demonstrate to opening a file in read mode.\n",
    "\n",
    "# fileinfoex8.py    --- with open() as\n",
    "\n",
    "try:\n",
    "    with open(\"student1.info\", \"r+\") as fp:\n",
    "        print(\"-\" * 50)\n",
    "        print(\"File opened successfully in read mode\")\n",
    "        print(\"-\" * 50)\n",
    "        print(\"Mode Used = {}\".format(fp.mode))\n",
    "        print(\"Is readable :{}\".format(fp.readable()))\n",
    "        print(\"Is writable :{}\".format(fp.writable()))\n",
    "        print(\"Line 13, Is file closed with in 'with open()' indentation statement:{}\".format(fp.closed))\n",
    "        print(\"-\" * 50)\n",
    "\n",
    "    print(\"Line 17, Is file closed after 'with open()' indentation statement:{}\".format(fp.closed))\n",
    "except FileNotFoundError:\n",
    "    print(\"File does not exist\")\n",
    "finally:\n",
    "    print(\"\\nI'm from finally block\")\n",
    "    print(\"Line 22, Is file closed in finally block:{}\".format(fp.closed))\n"
   ]
  },
  {
   "cell_type": "markdown",
   "id": "c4b17198",
   "metadata": {},
   "source": [
    "## <font color='#3498DB'>Operations on Files</font>"
   ]
  },
  {
   "cell_type": "markdown",
   "id": "4c1a043f",
   "metadata": {},
   "source": [
    "* On Files, we can perform two types of Operations. They are\n",
    "\t1. <font color='#009900'>**Write Operation.**</font>\n",
    "    2. <font color='#009900'>**Read Operation.**</font>\n",
    "\n",
    "<font color='#3498DB'>**a) Write Operation**</font>\n",
    "\n",
    "* This operation is used for **transfering Temporary data from Main Memory into the file of secondary memory.**\n",
    "* Steps:\n",
    "\n",
    "\t1. **Choose the file name**\n",
    "\t2. **Open the file name in write mode**\n",
    "\t3. **Perform Cycle of Write Operations**\n",
    "\n",
    "* During **Write Operation**, we get exceptions like <font color='red'>**FileExistError,   IOError**</font>....etc.\n",
    "\n",
    "<font color='#3498DB'>**a) Read Operation**</font>\n",
    "\n",
    "* This operation is used for **transfering the Data of files from Secondary Memory into object of Main Memory.**\n",
    "* Steps:\n",
    "\n",
    "\t1. **Choose the file name**\n",
    "\t2. **Open the File Name in Read Mode**\n",
    "\t3. **Perform Cycle of Read Operations**\n",
    "* During **Read Operation**, we get exceptions like <font color='red'>**FileNotFoundError, EOFError**</font>..etc"
   ]
  },
  {
   "cell_type": "markdown",
   "id": "6e3c13d1",
   "metadata": {},
   "source": [
    "### <font color='#3498DB'>Writing data to the files</font>"
   ]
  },
  {
   "cell_type": "markdown",
   "id": "7e53b97a",
   "metadata": {},
   "source": [
    "* Once we open the file, it is necessary to perform the operations on the files. \n",
    "* On Files, we can perform two types of Operation and they can write and read.\n",
    "* To write the data to the files, we have **two pre-defined functions** which are present in the object of **TextIOWrapper**. They are\n",
    "\n",
    "  1. <font color='#009900'>**write()**</font>\n",
    "  2. <font color='#009900'>**writelines()**</font>\n",
    "\n",
    "\n",
    "<font color='#3498DB'>**1) write()**</font>\n",
    "\n",
    "<div class=\"alert alert-block alert-success\">\n",
    "<b>Syntax1:</b></br> \n",
    "<code>filepointer.write(data)</code>\n",
    "</div>\n",
    "\n",
    "\n",
    "* here  \"**filepointer**\" is an object, it **always points to the file**.\n",
    "* **\"write()\"** is a pre-defined function, which is **used to write the data to the file always in the form of str.**   \n",
    "* **\"data\"** represents always any type of value but **it should be always in the form of str.**"
   ]
  },
  {
   "cell_type": "code",
   "execution_count": null,
   "id": "77f1a265",
   "metadata": {},
   "outputs": [],
   "source": [
    "# demonstrating the write operations on files using 'write()' function\n",
    "# filewriteex1.py\n",
    "# with open(\"addr.data\", \"w\") as fp: # w mode will overwrite the existing data in the file\n",
    "\n",
    "with open(\"addr.data\", \"a\") as fp: # append mode will only append the data in to the existing file\n",
    "    fp.write(str(\"Anu L Sasidharan,\"))\n",
    "    fp.write(str(\"Ampady,\"))\n",
    "    fp.write(str(\"Anchal Kollam,\"))\n",
    "    fp.write(str(\"691311\\n\"))\n",
    "    print(\"Data written to the file\")"
   ]
  },
  {
   "cell_type": "markdown",
   "id": "4ba42a41",
   "metadata": {},
   "source": [
    "<font color='#3498DB'>**2) writelines()**</font>\n",
    "\n",
    "* This function is used for writing the data into the **Iterbable object** and data of iterable object **must be of type str**.\n",
    "* If any iterable object contains other than str then **we must convert entire iterable object into str type by using str()**\n",
    "\n",
    "<div class=\"alert alert-block alert-success\">\n",
    "<b>Syntax2:</b></br> \n",
    "<code>filepointer.writelines(Iterable object)</code>\n",
    "</div>"
   ]
  },
  {
   "cell_type": "code",
   "execution_count": null,
   "id": "87251b2e",
   "metadata": {},
   "outputs": [],
   "source": [
    "# demonstrating the write operations on files using 'writelines()' function\n",
    "# filewriteex2.py\n",
    "lst=[10, 'Rituja', 88.88, 'OU']\n",
    "\n",
    "with open(\"addr1.info\", \"a\") as fp:\n",
    "    fp.writelines(str(lst)+\"\\n\")\n",
    "    print(\"Data writen to the file\")"
   ]
  },
  {
   "cell_type": "code",
   "execution_count": null,
   "id": "524d487b",
   "metadata": {},
   "outputs": [],
   "source": [
    "# demonstrating the write operations on files using 'writelines()' function\n",
    "# filewriteex2.py\n",
    "\n",
    "tpl=((30, 'Anu', 95.88, 'KTU'))\n",
    "with open(\"addr1.info\", \"a\") as fp:\n",
    "    fp.writelines(str(tpl)+\"\\n\")\n",
    "    print(\"Data writen to the file\")"
   ]
  },
  {
   "cell_type": "code",
   "execution_count": null,
   "id": "f3cb4df2",
   "metadata": {},
   "outputs": [],
   "source": [
    "# demonstrating the write operations on files using 'writelines()' function\n",
    "# filewriteex2.py\n",
    "\n",
    "st={40, \"Roshni\", 99.88, \"MGU\"}\n",
    "with open(\"addr1.info\", \"a\") as fp:\n",
    "    fp.writelines(str(st)+\"\\n\")\n",
    "    print(\"Data writen to the file\")"
   ]
  },
  {
   "cell_type": "code",
   "execution_count": null,
   "id": "2d8b086f",
   "metadata": {},
   "outputs": [],
   "source": [
    "# demonstrating the write operations on files using 'writelines()' function\n",
    "# filewriteex2.py\n",
    "\n",
    "d={10:\"Mango\", 20:\"Apple\", 30:\"Kiwi\"}\n",
    "with open(\"addr1.info\", \"a\") as fp:\n",
    "    fp.writelines(str(d)+\"\\n\")\n",
    "    print(\"Data writen to the file\")"
   ]
  },
  {
   "cell_type": "markdown",
   "id": "36467471",
   "metadata": {},
   "source": [
    "### <font color='#3498DB'>Reading the data from the files</font>"
   ]
  },
  {
   "cell_type": "markdown",
   "id": "3bcf588e",
   "metadata": {},
   "source": [
    "* To read the data from the files , we have 4 pre-defined Functions which are present in an object of TextIoWrapper . They are\n",
    " 1. <font color='#009900'>**read()**</font>\n",
    " 2. <font color='#009900'>**read(no.of chars)**</font>\n",
    " 3. <font color='#009900'>**readline()**</font>\n",
    " 4. <font color='#009900'>**readlines()**</font>       "
   ]
  },
  {
   "cell_type": "markdown",
   "id": "340e7aeb",
   "metadata": {},
   "source": [
    "<font color='#3498DB'>**1) read()**</font>\n",
    "\n",
    "* This function is used for reading entire data of file in the form of str.\n",
    "\n",
    "<div class=\"alert alert-block alert-success\">\n",
    "<b>Syntax1:</b></br> \n",
    "<code>varname=filepointer.read()</code>\n",
    "</div>"
   ]
  },
  {
   "cell_type": "code",
   "execution_count": null,
   "id": "8326bd77",
   "metadata": {},
   "outputs": [],
   "source": [
    "# Write a python program which will read the entire data of the file\n",
    "# This program will read the entire data by using 'read()' function.\n",
    "\n",
    "# FileReadEx1.py\n",
    "\n",
    "try:\n",
    "    fname=input(\"Enter the filename to read the content:\")\n",
    "    with open(fname, \"r\") as fp:\n",
    "        fileread=fp.read()\n",
    "        print(\"-\"*70)\n",
    "        print(\"The file {} opened in read mode and the content is given below:\".format(fname))\n",
    "        print(\"-\"*70)\n",
    "        print(fileread)\n",
    "        print(\"-\"*70)\n",
    "except FileNotFoundError:\n",
    "    print(\"The entered file does not exist. \")"
   ]
  },
  {
   "cell_type": "markdown",
   "id": "c9c36e88",
   "metadata": {},
   "source": [
    "<font color='#D2691E'>**Random Access Files**</font>\n",
    "\n",
    "* Random Access Files are those which allows us to read the data randomly accoding  to programmer choice.\n",
    "* To read the data randomly, we have **two pre-defined functions** present in **TextIoWrapper**. They are \n",
    "\n",
    "  1. <font color='#D2691E'>**tell()**</font>\n",
    "  2. <font color='#D2691E'>**seek()**</font>\n",
    "\n",
    "<font color='#D2691E'>**a) tell()**</font>\n",
    "\n",
    "* This Function is used for **obtaining the Position / Index of the file pointer**.\n",
    "\n",
    "<div class=\"alert alert-block alert-success\">\n",
    "<b>Syntax:</b></br> \n",
    "<code>index=file pointer.tell()</code>\n",
    "</div> \n",
    "\n",
    "      \t\t\n",
    "\n",
    "<font color='#D2691E'>**b) seek()**</font>\n",
    "\n",
    "* This Function is used for **re-positioning the file pointer** within file content by passing index value.\n",
    "\n",
    "<div class=\"alert alert-block alert-success\">\n",
    "<b>Syntax:</b></br> \n",
    "<code>filepointer.seek(index)</code>\n",
    "</div>  \t      "
   ]
  },
  {
   "cell_type": "markdown",
   "id": "fcbc731a",
   "metadata": {},
   "source": [
    "<font color='#3498DB'>**2) read(no.of chars)**</font>\n",
    "\n",
    "* This Functions is used for reading specified number of characters.\n",
    "\n",
    "<div class=\"alert alert-block alert-success\">\n",
    "<b>Syntax2:</b></br> \n",
    "<code>varname=filepointer.read(no. of chars)</code>\n",
    "</div>             \n",
    "     \n",
    "* Here \"no.of chars\" represents how many Characters you want to read."
   ]
  },
  {
   "cell_type": "code",
   "execution_count": null,
   "id": "b94687b1",
   "metadata": {},
   "outputs": [],
   "source": [
    "# FileReadEx2.py\n",
    "\n",
    "# Demonstration of 'tell()' and 'seek()' function along with 'read(no. of character)''.\n",
    "\n",
    "try:\n",
    "    fname = input(\"Enter the file name to read:\")\n",
    "    with open(fname, \"r\") as fp:\n",
    "        print(\"The initial index file pointer is:\", fp.tell())\n",
    "        filread = fp.read(6)  # This will read the first 6 characters form the file\n",
    "        print(\"The file content:\")\n",
    "        print(filread)\n",
    "        print(\"-\" * 50)\n",
    "        print(\"The current index of file pointer is:\", fp.tell())\n",
    "        filread = fp.read(15)\n",
    "        print(filread)\n",
    "        print(\"-\" * 50)\n",
    "        print(\"The current index of file pointer is:\", fp.tell())\n",
    "        filread = fp.read(20)\n",
    "        print(filread)\n",
    "        print(\"-\" * 50)\n",
    "        print(\"The current index of file pointer is:\", fp.tell())\n",
    "        print(\"-\" * 50)\n",
    "        print(\"Let's reposition the index to zero\")\n",
    "        print(\"-\" * 50)\n",
    "        fp.seek(0)\n",
    "        print(\"The current index of file pointer after repositioning:\", fp.tell())\n",
    "        filread = fp.read()\n",
    "        print(filread)\n",
    "        print(\"The current index of file pointer is:\", fp.tell())\n",
    "except FileNotFoundError:\n",
    "    print(\"File does not exist.\")"
   ]
  },
  {
   "cell_type": "markdown",
   "id": "728d14eb",
   "metadata": {},
   "source": [
    "<font color='#3498DB'>**3) readline()**</font>\n",
    "\n",
    "* This Function is used for reading one line at a time in the form of str.\n",
    "\n",
    "<div class=\"alert alert-block alert-success\">\n",
    "<b>Syntax3:</b></br> \n",
    "<code>varname=filepointer.readline()</code>\n",
    "</div> \n",
    "\t"
   ]
  },
  {
   "cell_type": "code",
   "execution_count": null,
   "id": "f03dcb93",
   "metadata": {},
   "outputs": [],
   "source": [
    "# Write a python program which will read the data of the file line by line\n",
    "# This program will read the entire data by using 'readline()' function.\n",
    "\n",
    "# FileReadEx3.py\n",
    "\n",
    "try:\n",
    "    fname=input(\"Enter the filename to read the content:\")\n",
    "    with open(fname, \"r\") as fp:\n",
    "        fileread=fp.readline()\n",
    "        print(fileread,end=\"\")\n",
    "        fileread = fp.readline()\n",
    "        print(fileread, end=\"\")\n",
    "        fileread = fp.readline()\n",
    "        print(fileread, end=\"\")\n",
    "        fileread = fp.readline()\n",
    "        print(fileread, end=\"\")\n",
    "except FileNotFoundError:\n",
    "    print(\"The entered file does not exist. \")"
   ]
  },
  {
   "cell_type": "markdown",
   "id": "635b6741",
   "metadata": {},
   "source": [
    "<font color='#3498DB'>**4) readlines()**</font>\n",
    "\n",
    "* This function is used for reading all the lines of the file in the form of list type.\n",
    "\n",
    "<div class=\"alert alert-block alert-success\">\n",
    "<b>Syntax3:</b></br> \n",
    "<code>varname=filepointer.readlines()</code>\n",
    "</div> "
   ]
  },
  {
   "cell_type": "code",
   "execution_count": null,
   "id": "b40d66eb",
   "metadata": {},
   "outputs": [],
   "source": [
    "# Write a python program which will read the data of the file line by line\n",
    "# This program will read all the lines of the file by using 'readlines()' function.\n",
    "\n",
    "# FileReadEx4.py\n",
    "\n",
    "try:\n",
    "    fname = input(\"Enter the filename to read the content:\")\n",
    "    with open(fname, \"r\") as fp:\n",
    "        fileread = fp.readlines()\n",
    "        print(\"Type :\", type(fileread))\n",
    "        # print(fileread)\n",
    "        # print(\"4th line\")\n",
    "        # print(fileread[4])\n",
    "        for line in fileread:\n",
    "            print(line)\n",
    "except FileNotFoundError:\n",
    "    print(\"The entered file does not exist. \")"
   ]
  },
  {
   "cell_type": "markdown",
   "id": "061bdc23",
   "metadata": {},
   "source": [
    "<font color='#D2691E'>**Write a python program which will copy the content of one file into another file.**</font>\n",
    "\n",
    "OR\n",
    "\n",
    "<font color='#D2691E'>**Implement copy operation by using files.**</font>"
   ]
  },
  {
   "cell_type": "code",
   "execution_count": null,
   "id": "7d3ff9fc",
   "metadata": {},
   "outputs": [],
   "source": [
    "# This Program will copy the content of one file(Source File) into another file(Destination File)\n",
    "\n",
    "# FileCopy.py\n",
    "\n",
    "try:\n",
    "    sfile = input(\"Enter the source file: \")\n",
    "    with open(sfile, \"r\") as rp:\n",
    "        dfile = input(\"Enter destination file:\")\n",
    "        with open(dfile, \"a\") as wp:\n",
    "            filedata = rp.read()\n",
    "            wp.write(filedata)\n",
    "            print(\"\\nFile Copied -- Verify!..\")\n",
    "\n",
    "except FileNotFoundError:\n",
    "    print(\"File does not exist!....\")"
   ]
  },
  {
   "cell_type": "markdown",
   "id": "7cf21853",
   "metadata": {},
   "source": [
    "<font color='#D2691E'>**write a python program which will read the data dynamically from the keyboard and write the dynamic data to the file.**</font> "
   ]
  },
  {
   "cell_type": "code",
   "execution_count": null,
   "id": "73c0bfa3",
   "metadata": {},
   "outputs": [],
   "source": [
    "# Read the data dynamically from the KBD and append into file\n",
    "# DynamicData.py\n",
    "import sys\n",
    "with open(\"student1.info\", \"a\") as fp:\n",
    "    print(\"Enter the data to write into the file Dynamically(Press stop to terminate):\")\n",
    "    print(\"-\" * 75)\n",
    "    while True:\n",
    "        filedata = input()\n",
    "        if (filedata != \"stop\"):\n",
    "            fp.write(filedata + \"\\n\")\n",
    "        else:\n",
    "            print(\"-\" * 50)\n",
    "            # break\n",
    "            sys.exit()"
   ]
  },
  {
   "cell_type": "markdown",
   "id": "0f1780c1",
   "metadata": {},
   "source": [
    "<font color='#D2691E'>**Write a Python program which will find number of lines number of words and number of characters in a file.**</font>"
   ]
  },
  {
   "cell_type": "code",
   "execution_count": 1,
   "id": "5178eaad",
   "metadata": {},
   "outputs": [],
   "source": [
    "s=\"Python is an OOP Language\""
   ]
  },
  {
   "cell_type": "code",
   "execution_count": 2,
   "id": "55ef57c0",
   "metadata": {},
   "outputs": [
    {
     "name": "stdout",
     "output_type": "stream",
     "text": [
      "['Python', 'is', 'an', 'OOP', 'Language']\n"
     ]
    }
   ],
   "source": [
    "lst=s.split()\n",
    "print(lst)"
   ]
  },
  {
   "cell_type": "code",
   "execution_count": 3,
   "id": "2cce9d4a",
   "metadata": {},
   "outputs": [
    {
     "data": {
      "text/plain": [
       "5"
      ]
     },
     "execution_count": 3,
     "metadata": {},
     "output_type": "execute_result"
    }
   ],
   "source": [
    "len(lst)"
   ]
  },
  {
   "cell_type": "code",
   "execution_count": 4,
   "id": "6f8eeb38",
   "metadata": {},
   "outputs": [],
   "source": [
    "dob='29-08-1991'"
   ]
  },
  {
   "cell_type": "code",
   "execution_count": 5,
   "id": "502be8a4",
   "metadata": {},
   "outputs": [
    {
     "name": "stdout",
     "output_type": "stream",
     "text": [
      "29-08-1991\n"
     ]
    }
   ],
   "source": [
    "print(dob)"
   ]
  },
  {
   "cell_type": "code",
   "execution_count": 6,
   "id": "987b881b",
   "metadata": {},
   "outputs": [
    {
     "name": "stdout",
     "output_type": "stream",
     "text": [
      "['29', '08', '1991']\n"
     ]
    }
   ],
   "source": [
    "print(dob.split(\"-\"))"
   ]
  },
  {
   "cell_type": "code",
   "execution_count": 7,
   "id": "dbd67c28",
   "metadata": {},
   "outputs": [],
   "source": [
    "s=\"Python is an OOP Language\""
   ]
  },
  {
   "cell_type": "code",
   "execution_count": 8,
   "id": "f83c4d57",
   "metadata": {},
   "outputs": [
    {
     "name": "stdout",
     "output_type": "stream",
     "text": [
      "25\n"
     ]
    }
   ],
   "source": [
    "print(len(s))"
   ]
  },
  {
   "cell_type": "markdown",
   "id": "a8245a10",
   "metadata": {},
   "source": [
    "**Method 1**"
   ]
  },
  {
   "cell_type": "code",
   "execution_count": null,
   "id": "8290d9d5",
   "metadata": {},
   "outputs": [],
   "source": [
    "# This program will count the number of lines, words and characters\n",
    "\n",
    "try:\n",
    "    nl, nw, nc = 0, 0, 0\n",
    "    fname = input(\"Enter the file name:\")\n",
    "    with open(fname, \"r\") as fp:\n",
    "        for line in fp:\n",
    "            # print(line, end=\"\")\n",
    "            nl = nl + 1\n",
    "            nw = nw + len(line.split())\n",
    "            nc = nc + len(line)\n",
    "        else:\n",
    "            print(\"-\" * 50)\n",
    "            print(\"Number of lines:\", nl)\n",
    "            print(\"Number of words:\", nw)\n",
    "            print(\"Number of characters:\", nc)\n",
    "            print(\"-\" * 50)\n",
    "\n",
    "except FileNotFoundError:\n",
    "    print(\"File does not exist:\")"
   ]
  },
  {
   "cell_type": "markdown",
   "id": "7954e822",
   "metadata": {},
   "source": [
    "**Method 2**"
   ]
  },
  {
   "cell_type": "code",
   "execution_count": null,
   "id": "ec375a93",
   "metadata": {},
   "outputs": [],
   "source": [
    "# This program will count the number of lines, words and characters\n",
    "\n",
    "try:\n",
    "    nl, nw, nc = 0, 0, 0\n",
    "    fname = input(\"Enter the file name:\")\n",
    "    with open(fname, \"r\") as fp:\n",
    "        fileinfo = fp.readlines()\n",
    "        for line in fileinfo:\n",
    "            print(line, end=\"\\n\")\n",
    "            nl = nl + 1\n",
    "            nw = nw + len(line.split())\n",
    "            nc = nc + len(line)\n",
    "\n",
    "        else:\n",
    "            print(\"-\" * 50)\n",
    "            print(\"Number of lines:\", nl)\n",
    "            print(\"Number of words:\", nw)\n",
    "            print(\"Number of characters:\", nc)\n",
    "            print(\"-\" * 50)\n",
    "\n",
    "except FileNotFoundError:\n",
    "    print(\"File does not exist:\")"
   ]
  },
  {
   "cell_type": "markdown",
   "id": "05225364",
   "metadata": {},
   "source": [
    "## <font color='#3498DB'>Pickling(Object Serialization) and Un-Pickling (Object Deserialization)</font>"
   ]
  },
  {
   "cell_type": "markdown",
   "id": "05a8c5fa",
   "metadata": {},
   "source": [
    "### <font color='#3498DB'>Pickling (Object Serialization)</font>"
   ]
  },
  {
   "cell_type": "markdown",
   "id": "e6389d84",
   "metadata": {},
   "source": [
    "* Let us assume, there exist an **object in mamin memory(RAM)** and it contains multiple values. To save / write the object data into the file of secondary memory by using **write()** and **writelines()** , internally these functions will write Value by Value and it is considered as Time Consuming Process . To overcome this problem, we must another concept called \"**PICKLING**\"\n",
    "* The Advantage of Pickling concept is that **with single write operation, we can write/save the entire object data into the file of secondary memory.**\n",
    "\n",
    "**Definition of Pickling:**\n",
    "\n",
    "* The process of writing/saving the entire object content into the file of Secondary Memory with single write operation is called Pickling.\n",
    "* **The Pickling always participates in write operation.**\n",
    "* While we are implementing Pickling Concept, **we must ensure that the file must be binary.**\n",
    "\n",
    "**Steps for implementing Pickling Concept:**\n",
    "\n",
    "  - Step-1: **import pickle module**\n",
    "  - Step-2: **Create an object with data**\n",
    "  - Step-3: use **dump()** of pickle module for **writing entire object content into the file of secondary memory.**\n",
    "\n",
    "<div class=\"alert alert-block alert-success\">\n",
    "<b>Syntax:</b></br> \n",
    "<code>pickle.dump(object, filepointer)</code>\n",
    "</div>"
   ]
  },
  {
   "cell_type": "markdown",
   "id": "6b9c3cf5",
   "metadata": {},
   "source": [
    "### <font color='#3498DB'>Un-Pickling(Object De-Serialization)</font>"
   ]
  },
  {
   "cell_type": "markdown",
   "id": "93e698f2",
   "metadata": {},
   "source": [
    "* Let us assume there **exist a record in the file of secondary Memory**. To read the record data from the file by using **read(), read(no.of chars), readline() and realines()**, Internally these functions reads value by value and it is considered as Time Consuming Process.To overcome this process, we must use the concept of **UN-PICKLING**\".\n",
    "* The advantage of un-pickling concept is that with single read operation, we can read entire record data from the file of secondary memory.\n",
    "\n",
    "**Definition of Un-Pickling:**\n",
    "\n",
    "* The Process of Reading entire record content from the file of secondary memory into the object of memory with single read operation is called Un-Pickling.\n",
    "* **Un-Pickling participates in read operation.**\n",
    "* While we are implementing Un-Pickling Concept, **we must ensure that the file must be binary.**\n",
    "\n",
    "**Steps for implementing Un-Pickling Concept:**\n",
    "\n",
    "  - Step-1:  **import pickle module**\n",
    "  - Step-2:  use **load()** of pickle module , **for reading entire object content into the object of main memory**\n",
    "  - Step-3:  **Display object data (De-serialized data)**\n",
    "\n",
    "<div class=\"alert alert-block alert-success\">\n",
    "<b>Syntax:</b></br> \n",
    "<code>objectdata=pickle.load()</code>\n",
    "</div>       \n",
    "    \n",
    "* hence Pickling and Un-pickling concepts Enhaces the performnace of Normal File Programming of Python.\n",
    "* To deal with Pickling and Un-pickling concepts , we use a pre-defined module \"**pickle**\"."
   ]
  },
  {
   "attachments": {
    "pickling%20and%20un-pickling%20importance.png": {
     "image/png": "[encoded data removed]"
    }
   },
   "cell_type": "markdown",
   "id": "82d7cf1d",
   "metadata": {},
   "source": [
    "![pickling%20and%20un-pickling%20importance.png](attachment:pickling%20and%20un-pickling%20importance.png)"
   ]
  },
  {
   "cell_type": "markdown",
   "id": "f075a0cb",
   "metadata": {},
   "source": [
    "<font color='#D2691E'>**Write a python program which will read employee data from the keyboard and save it in a file.**</font>"
   ]
  },
  {
   "cell_type": "code",
   "execution_count": null,
   "id": "58cd28a6",
   "metadata": {},
   "outputs": [],
   "source": [
    "# emppick.py\n",
    "# This program reads employee data from the keyboard and save it in a file\n",
    "\n",
    "import pickle\n",
    "\n",
    "noe = int(input(\"How many employee data you have:\"))\n",
    "if (noe <= 0):\n",
    "    print(\"{} invalid input\".format(noe))\n",
    "else:\n",
    "    with open(\"emp.data\", \"ab\") as fp:  # ab--> append mode and in binary format\n",
    "        for i in range(1, noe + 1):\n",
    "            print(\"-\" * 50)\n",
    "            print(\"Enter {} Employee information:\".format(i))\n",
    "            print(\"-\" * 50)\n",
    "            # accept the employee data from keyboard\n",
    "            eno = int(input(\"Enter the Employee number:\"))\n",
    "            ename = input(\"Enter the Employee Name:\")\n",
    "            esal = float(input(\"Enter the Employee Salary:\"))\n",
    "            # Create the empty list and append the data\n",
    "            lst = []\n",
    "            lst.append(eno)\n",
    "            lst.append(ename)\n",
    "            lst.append(esal)\n",
    "            # save the lst data into a file.\n",
    "            pickle.dump(lst, fp)\n",
    "            print(\"-\" * 50)\n",
    "            print(\"{} employee record saved successfully in file\".format(i))\n"
   ]
  },
  {
   "cell_type": "markdown",
   "id": "5c1e2097",
   "metadata": {},
   "source": [
    "<font color='#D2691E'>**Write a python program which will read the employee record data and display on the console.**</font>"
   ]
  },
  {
   "cell_type": "code",
   "execution_count": null,
   "id": "80ee1560",
   "metadata": {},
   "outputs": [],
   "source": [
    "# emppick.py\n",
    "# This program reads employee records from the file\n",
    "\n",
    "import pickle\n",
    "\n",
    "try:\n",
    "    with open(\"emp.data\", \"rb\") as fp:\n",
    "        print(\"-\" * 40)\n",
    "        print(\"E m p l o y e e   D e t a i l s\")\n",
    "        print(\"-\" * 40)\n",
    "        while (True):\n",
    "            try:\n",
    "                record = pickle.load(fp)\n",
    "                for val in record:\n",
    "                    print(\"\\t{}\".format(val), end=\"\")\n",
    "                print()\n",
    "            except EOFError:\n",
    "                print(\"-\" * 40)\n",
    "                break\n",
    "except FileNotFoundError:\n",
    "    print(\"File does not exist:\")"
   ]
  },
  {
   "cell_type": "markdown",
   "id": "3b3f1515",
   "metadata": {},
   "source": [
    "<font color='#D2691E'>**write a python program which will read the student details and save them in a file.**</font>"
   ]
  },
  {
   "cell_type": "code",
   "execution_count": null,
   "id": "d9c8c92a",
   "metadata": {},
   "outputs": [],
   "source": [
    "# studpick.py\n",
    "# This program reads student details from the keyboard and save it in a file\n",
    "\n",
    "import pickle\n",
    "import sys\n",
    "\n",
    "\n",
    "def savestuddata():\n",
    "    with open(\"stud.data\", \"ab\") as fp:\n",
    "        # accepting student data\n",
    "        while (True):\n",
    "            print(\"-\" * 50)\n",
    "            try:\n",
    "                sno = int(input(\"Enter the student no:\"))\n",
    "                sname = input(\"Enter student name:\")\n",
    "                smarks = float(input(\"Enter student Marks:\"))\n",
    "                print(\"-\" * 50)\n",
    "                # Create an empty list and append\n",
    "                lst = []\n",
    "                lst.append(sno)\n",
    "                lst.append(sname)\n",
    "                lst.append(smarks)\n",
    "                # save lst data into the file\n",
    "                pickle.dump(lst, fp)\n",
    "                print(\"-\" * 50)\n",
    "                print(\"Student data saved successfully in a file.\")\n",
    "                print(\"-\" * 50)\n",
    "                usrchoice = input(\"\\nDo you want to insert another record yes/no:\")\n",
    "                if usrchoice == \"no\":\n",
    "                    print(\"Thanks for using this application. \")\n",
    "                    sys.exit()\n",
    "                if (usrchoice != \"yes\"):\n",
    "                    print(\"you please typing\")\n",
    "                    print(\"Thanks for using this application. \")\n",
    "                    break\n",
    "            except ValueError:\n",
    "                print(\"String, symbols or alpha numerics are not supported for sno and smarks\")\n",
    "\n",
    "\n",
    "# main program\n",
    "savestuddata()\n"
   ]
  },
  {
   "cell_type": "markdown",
   "id": "dae1617d",
   "metadata": {},
   "source": [
    "<font color='#D2691E'>**Write a python program which will read student record from the file**</font>"
   ]
  },
  {
   "cell_type": "code",
   "execution_count": null,
   "id": "c1abe050",
   "metadata": {},
   "outputs": [],
   "source": [
    "# studunpick.py\n",
    "# This program reads student records from the file\n",
    "\n",
    "import pickle\n",
    "import sys\n",
    "\n",
    "\n",
    "def readstudrecord():\n",
    "    try:\n",
    "        with open(\"stud.data\", \"rb\") as fp:\n",
    "            print(\"-\" * 50)\n",
    "            print(\"S t u d e n t   I n f o r m a t i o n\")\n",
    "            print(\"-\" * 50)\n",
    "            while (True):\n",
    "                try:\n",
    "                    rec = pickle.load(fp)\n",
    "                    for val in rec:\n",
    "                        print(\"\\t{}\".format(val), end=\"\")\n",
    "                    print()\n",
    "                except EOFError:\n",
    "                    print(\"-\" * 50)\n",
    "                    sys.exit()\n",
    "    except FileNotFoundError:\n",
    "        print(\"File Does not Exist:\")\n",
    "\n",
    "\n",
    "# main program\n",
    "readstudrecord()"
   ]
  },
  {
   "cell_type": "markdown",
   "id": "97186147",
   "metadata": {},
   "source": [
    "<font color='#D2691E'>**write a python program which will read book details such as book number, book name, cost and save it in a file**</font>"
   ]
  },
  {
   "cell_type": "code",
   "execution_count": null,
   "id": "f4fd42f2",
   "metadata": {},
   "outputs": [],
   "source": [
    "# Bookpick.py\n",
    "# This program reads book details from the keyboard and save it in a file\n",
    "\n",
    "import pickle\n",
    "import sys\n",
    "\n",
    "\n",
    "def savebookdata():\n",
    "    with open(\"book.data\", \"ab\") as fp:\n",
    "        # accepting book data\n",
    "        while (True):\n",
    "            print(\"-\" * 50)\n",
    "            try:\n",
    "                bno = int(input(\"Enter the book no:\"))\n",
    "                bname = input(\"Enter book name:\")\n",
    "                cost = float(input(\"Enter book price:\"))\n",
    "                print(\"-\" * 50)\n",
    "                # Create an empty list and append\n",
    "                lst = []\n",
    "                lst.append(bno)\n",
    "                lst.append(bname)\n",
    "                lst.append(cost)\n",
    "                # save lst data into the file\n",
    "                pickle.dump(lst, fp)\n",
    "                print(\"-\" * 50)\n",
    "                print(\"Book data saved successfully in a file.\")\n",
    "                print(\"-\" * 50)\n",
    "                usrchoice = input(\"\\nDo you want to insert another record yes/no:\")\n",
    "                if usrchoice == \"no\":\n",
    "                    print(\"Thanks for using this application. \")\n",
    "                    sys.exit()\n",
    "                if (usrchoice != \"yes\"):\n",
    "                    print(\"you please typing\")\n",
    "                    print(\"Thanks for using this application. \")\n",
    "                    break\n",
    "            except ValueError:\n",
    "                print(\"String, symbols or alpha numerics are not supported for sno and smarks\")\n",
    "\n",
    "\n",
    "# main program\n",
    "savebookdata()\n"
   ]
  },
  {
   "cell_type": "code",
   "execution_count": null,
   "id": "f630757f",
   "metadata": {},
   "outputs": [],
   "source": [
    "# Bookunpick.py\n",
    "# This program reads book records from the file\n",
    "\n",
    "import pickle\n",
    "import sys\n",
    "\n",
    "\n",
    "def readbookrecord():\n",
    "    try:\n",
    "        with open(\"book.data\", \"rb\") as fp:\n",
    "            print(\"-\" * 50)\n",
    "            print(\"B o o k   I n f o r m a t i o n\")\n",
    "            print(\"-\" * 50)\n",
    "            while (True):\n",
    "                try:\n",
    "                    rec = pickle.load(fp)\n",
    "                    for val in rec:\n",
    "                        print(\"\\t{}\".format(val), end=\"\")\n",
    "                    print()\n",
    "                except EOFError:\n",
    "                    print(\"-\" * 50)\n",
    "                    sys.exit()\n",
    "    except FileNotFoundError:\n",
    "        print(\"File Does not Exist:\")\n",
    "\n",
    "\n",
    "# main program\n",
    "readbookrecord()\n"
   ]
  },
  {
   "cell_type": "markdown",
   "id": "890478ba",
   "metadata": {},
   "source": [
    "<font color='#D2691E'>**write a python program which will copy an image**</font>"
   ]
  },
  {
   "cell_type": "code",
   "execution_count": null,
   "id": "e0c8b8e1",
   "metadata": {},
   "outputs": [],
   "source": [
    "# This Program will copy the image(blackhole) into another file(Destination File)\n",
    "'''\n",
    "Write a python program which will copy the image from one location to another location.\n",
    "OR\n",
    "Implement copy operation by using files.\n",
    "'''\n",
    "\n",
    "\n",
    "# ImageCopy.py\n",
    "\n",
    "def saveimage():\n",
    "    try:\n",
    "        with open(r\"C:\\Users\\Owner\\Desktop\\NIT_Python\\Scripts\\Module_8_FILES\\\\blackhole.jpg\", \"rb\") as rp:\n",
    "            with open(r\"C:\\Users\\Owner\\Desktop\\NIT_Python\\Scripts\\Module_8_FILES\\Pickling\\\\bh.jpg\", \"wb\") as wp:\n",
    "                fileimage = rp.read()\n",
    "                wp.write(fileimage)\n",
    "                print(\"\\nImage Copied -- Verify!..\")\n",
    "\n",
    "    except FileNotFoundError:\n",
    "        print(\"File does not exist!....\")\n",
    "\n",
    "\n",
    "# main Program\n",
    "saveimage()\n"
   ]
  },
  {
   "cell_type": "markdown",
   "id": "e54f98f2",
   "metadata": {},
   "source": [
    "<font color='#D2691E'>**Write a python program which will read the data form the file and find number of vowels.**</font>"
   ]
  },
  {
   "cell_type": "code",
   "execution_count": null,
   "id": "206fa2b4",
   "metadata": {},
   "outputs": [],
   "source": []
  }
 ],
 "metadata": {
  "kernelspec": {
   "display_name": "Python 3 (ipykernel)",
   "language": "python",
   "name": "python3"
  },
  "language_info": {
   "codemirror_mode": {
    "name": "ipython",
    "version": 3
   },
   "file_extension": ".py",
   "mimetype": "text/x-python",
   "name": "python",
   "nbconvert_exporter": "python",
   "pygments_lexer": "ipython3",
   "version": "3.9.13"
  }
 },
 "nbformat": 4,
 "nbformat_minor": 5
}
