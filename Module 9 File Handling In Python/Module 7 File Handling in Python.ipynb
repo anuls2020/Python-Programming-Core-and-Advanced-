{
 "cells": [
  {
   "cell_type": "markdown",
   "id": "c4be7e5e",
   "metadata": {},
   "source": [
    "<h1><center>File Handling in Python</center></h1> "
   ]
  },
  {
   "cell_type": "markdown",
   "id": "cd7e7e9b",
   "metadata": {},
   "source": [
    "## <font color='#3498DB'>Index</font>"
   ]
  },
  {
   "cell_type": "markdown",
   "id": "0af5f3cf",
   "metadata": {},
   "source": [
    "1. <font color='#3498DB'>**Purpose**</font>\n",
    "2. <font color='#3498DB'>**Types of applications**</font>\n",
    "    * <font color='#009900'>**Non-Persistant applications**</font>\n",
    "    * <font color='#009900'>**Persistant applications**</font>\n",
    "3. <font color='#3498DB'>**Definition of Files**</font>\n",
    "4. <font color='#3498DB'>**Definition of Stream**</font>\n",
    "5. <font color='#3498DB'>**Types of Files**</font>\n",
    "    * <font color='#009900'>**Text Files**</font>\n",
    "    * <font color='#009900'>**Binary Files**</font>\n",
    "6. <font color='#3498DB'>**File Opening modes**</font>\n",
    "    * <font color='#009900'>**r**</font>\n",
    "    * <font color='#009900'>**w**</font>\n",
    "    * <font color='#009900'>**a**</font>\n",
    "    * <font color='#009900'>**r+**</font>\n",
    "    * <font color='#009900'>**w+**</font>\n",
    "    * <font color='#009900'>**a+**</font>\n",
    "    * <font color='#009900'>**x**</font>\n",
    "7. <font color='#3498DB'>**Number of approaches to Open files**</font>\n",
    "    * <font color='#009900'>**open()**</font>\n",
    "    * <font color='#009900'>**with open() as**</font>\n",
    "8. <font color='#3498DB'>**Operations on Files**</font>\n",
    "    * <font color='#009900'>**Write Operation**</font>\n",
    "    * <font color='#009900'>**Read Operation**</font>\n",
    "9. <font color='#3498DB'>**Steps for write Operation**</font>\n",
    "10. <font color='#3498DB'>**Steps for read operation**</font>\n",
    "11. <font color='#3498DB'>**Programming examples**</font>\n",
    "12. <font color='#3498DB'>**Pickling(Object Serialization) and Un-Pickling (Object Deserialization)**</font>\n",
    "13. <font color='#3498DB'>**Pickle module**</font>\n",
    "14. <font color='#3498DB'>**Programming Examples**</font>"
   ]
  },
  {
   "cell_type": "markdown",
   "id": "51e6d702",
   "metadata": {
    "heading_collapsed": true
   },
   "source": [
    "## <font color='#3498DB'>Purpose of Files</font> "
   ]
  },
  {
   "cell_type": "markdown",
   "id": "e7cf9931",
   "metadata": {
    "hidden": true
   },
   "source": [
    "* The purpose of Files in any programming Language is that \"**To Store the data Permanently (Data Persistency)**\".\n"
   ]
  },
  {
   "cell_type": "markdown",
   "id": "4d5429eb",
   "metadata": {
    "heading_collapsed": true
   },
   "source": [
    "## <font color='#3498DB'>Types of applications</font> "
   ]
  },
  {
   "cell_type": "markdown",
   "id": "d4826aa3",
   "metadata": {
    "hidden": true
   },
   "source": [
    "* In the context of Files, we can develop two types of Applications / Programs.. They are\n",
    "\n",
    "    1. <font color='#009900'>**Non-Persistant Applications**</font>\n",
    "    2. <font color='#009900'>**Persistant Applications**</font> \n",
    "\n",
    "* In **Non-Persistant Application** Development, we read/accept  the input data from KBD, Stores in main memory (RAM-temp storage), process the inputs and displays its result on the console.\n",
    "\n",
    "* Examples:  All previous program are comes under non-persistant applications.\n",
    "\n",
    "* In **Persistant Application** Development, we read/accept  the from input data from KBD, Stores in main memory (temp storage), process the inputs and **stores the result Permanently(Secondary Storage).**\n",
    "* In Industry , we have two types of approaches to store the data permanently. They are\n",
    "\n",
    "  1. <font color='#009900'>**By Using Files**</font>\n",
    "  2. <font color='#009900'>**By using Database softwares**</font> "
   ]
  },
  {
   "cell_type": "markdown",
   "id": "0f2448bf",
   "metadata": {
    "heading_collapsed": true
   },
   "source": [
    "## <font color='#3498DB'>Introduction to FIles</font>"
   ]
  },
  {
   "attachments": {
    "files%20and%20memory-2.jpg": {
     "image/jpeg": "[encoded data removed]"
    }
   },
   "cell_type": "markdown",
   "id": "5d315421",
   "metadata": {
    "hidden": true
   },
   "source": [
    "* The purpose of Files in any programming Language is that <font color='#009900'>**\"To Store the data Permanently (Data Persistency)\".**</font>\n",
    "\n",
    "* **Definition of File**:   <font color='#009900'>**A File is a collection of Records.**</font>\n",
    "\n",
    "* **File name** is one of the <font color='#009900'>**named location in secondary memory(Hard disk)**</font>. \n",
    "\n",
    "* <font color='#009900'>**All the objects data of main memory can be stored  permanently in the form of Files of Secondary memory and Records of file of Secondary Memory will become objects in Main Memory.**</font>\n",
    "\n",
    "![files%20and%20memory-2.jpg](attachment:files%20and%20memory-2.jpg)\n",
    "\n",
    "* **Definition of Stream**:   <font color='#009900'>**The flow of Data between Main memory and secondary memory is called Stream.**</font>"
   ]
  },
  {
   "cell_type": "markdown",
   "id": "6c8076b7",
   "metadata": {
    "heading_collapsed": true
   },
   "source": [
    "## <font color='#3498DB'>Types of Files in Python</font>"
   ]
  },
  {
   "cell_type": "markdown",
   "id": "0bf0795b",
   "metadata": {
    "hidden": true
   },
   "source": [
    "* In Python, we have two types of Files. They are\n",
    "\n",
    "\t1. <font color='#009900'>**Text Files**</font>\n",
    "    2. <font color='#009900'>**Binary Files**</font>\n",
    "\n",
    "<font color='#3498DB'>**1) Text Files**</font>\n",
    "\n",
    "* A Text File always contains the data in the form **Alphabets, Digits and Special Symbols.**\n",
    "* In Python Programming, **text files are denoted by a letter 't'**.\n",
    "* By default,When we deal with Files, File is considered as text file.\n",
    "* Examples: **.txt, .doc, .py, .java, .cpp**, ...etc\n",
    "\n",
    "<font color='#3498DB'>**2) Binary Files**</font>\n",
    "\n",
    "* A Binary File always contains the data in the form **Binary Format.**\n",
    "* In Python Programming, **Binary files are denoted by a letter 'b'.**\n",
    "* Examples:**.jpeg, .jpg, .gif, audio, video .pdf**...etc Also, **.exe. .png**.....etc\n"
   ]
  },
  {
   "cell_type": "markdown",
   "id": "681c174f",
   "metadata": {
    "heading_collapsed": true
   },
   "source": [
    "## <font color='#3498DB'>File Opening Modes</font>"
   ]
  },
  {
   "cell_type": "markdown",
   "id": "1ad83b94",
   "metadata": {
    "hidden": true
   },
   "source": [
    "* File Opening Modes are **used for opening the file in certain file Mode.**\n",
    "* In otherwords , File Opening Modes makes us to understand, **in which mode the file is opening.**\n",
    "* In Python Programming we have **7 file opening modes**. They are\n",
    "\n",
    "<font color='#009900'>**1) r :**</font>\n",
    "\n",
    "* This mode is used for <font color='#009900'>**opening  the File in read mode.**</font>\n",
    "* When we open the file in 'r' mode and if the file does not exist in Secondary Memory then we get <font color='red'>****FileNotFoundError.**</font>\n",
    "* **The default file mode is 'r'.**\n",
    "\n",
    "<font color='#009900'>**2) w :**</font>\n",
    "\n",
    "* This mode is used for <font color='#009900'>**Opening the File always in write mode newly.**</font>\n",
    "* If we **open NEW FILE in 'w' mode** then it open in write mode and **data written to file from the begining.**\n",
    "* If we **open the existing file in 'w' mode** then it open in write mode, **existing data is replaced with new data.**(<font color='#009900'>**Overlapping**</font>)\n",
    "\n",
    "<font color='#009900'>**3) a :**</font>\n",
    "\n",
    "* This mode is used for <font color='#009900'>**Opening the File always in write mode.**</font>\n",
    "* If we **open NEW FILE in 'a' mode** then **it open in write mode and data written to file from the begining.**\n",
    "* If we **open the existing file in 'a' mode** then it open in **write mode and new data adding at end of existing data**( <font color='#009900'>**know as appending**</font>)\n",
    "\n",
    "<font color='#009900'>**4) r+ :**</font>\n",
    "\n",
    "* This mode is used for <font color='#009900'>**opening the file in read mode.**</font>\n",
    "* When we **open the file in 'r+' mode** then we can perform **First Read Operation and latter we can perform Write Operation(But not reverse order).**\n",
    "* When we **open the file in 'r+' mode** and **if the file does not exist** in Secondary Memory then we get <font color='red'>**FileNotFoundError**</font>\n",
    "\n",
    "<font color='#009900'>**5) w+ :**</font>\n",
    "\n",
    "* This mode is used for <font color='#009900'>**Opening the File always in write mode newly.**</font>\n",
    "* if we **open NEW FILE in 'w+' mode** then it open in write mode and **data written to file from the begining** and latter we can perform read operation.\n",
    "* If we **open the existing file in 'w+' mode** then it opens in write mode, existing data is replaced with new data.(<font color='#009900'>**Overlapping**</font>)\n",
    "* **When we write the data on file with this mode and if we have insufficient memory in Seconadry Memory then we get** <font color='red'>**IOError**</font>\n",
    "\n",
    "<font color='#009900'>**6) a+ :**</font>\n",
    "\n",
    "* This mode is used for <font color='#009900'>**Opening the File always in write mode.**</font>\n",
    "* If we **open NEW FILE in 'a+' mode** then it **open in write mode and data written to file from the begining and later we can read the data.**\n",
    "* If we **open the EXISTING FILE  in 'a' mode** then it **open in write mode and new data adding at end of existing data**( <font color='#009900'>**know as appending**</font>) and later we can perform read operation.\n",
    "\n",
    "<font color='#009900'>**7) x :**</font>\n",
    "\n",
    "* The x Mode is used for opening the file <font color='#009900'>**Exclusively in Write Mode only once.**</font>\n",
    "* If we **open the existing file in x mode then we get** <font color='red'>**FileExistError.**</font>\n"
   ]
  },
  {
   "cell_type": "markdown",
   "id": "297d45bd",
   "metadata": {
    "heading_collapsed": true
   },
   "source": [
    "## <font color='#3498DB'>Number of approaches to Open files in Python</font>"
   ]
  },
  {
   "cell_type": "markdown",
   "id": "3c48de92",
   "metadata": {
    "hidden": true
   },
   "source": [
    "* To do any operation on files, we have open the file.\n",
    "* To open the file , we have **two syntaxes**. They are \n",
    "\n",
    "    1. <font color='#009900'>**By using open()**</font>\n",
    "    2. <font color='#009900'>**By using \"with open() as\"**</font>\n",
    "\n",
    "<font color='#3498DB'>**1) By using open():**</font>\n",
    "\n",
    "<div class=\"alert alert-block alert-success\">\n",
    "<b>Syntax:</b></br> \n",
    "<code>VarName=open(\"File Name\", \"File Mode\")</code>\n",
    "</div>\n",
    "  \n",
    "**Explanation:**\n",
    "\n",
    "* Here \"**VarName**\" repersent a pointer to the file and it called \"File Pointer\" and it is an object of type **<class, _io.TextIOWrapper>**\n",
    "* **open()** is pre-defined  function, which is used for opening the file in specified File Mode.\n",
    "* \"**File Name**\" represents Name of File\n",
    "* **File Mode** represents **r,w,a,r+,w+,a+ and x**.\n",
    "* <font color='#009900'>**Once we open the files by using open(), we need to close the files explicitly by using close() . In otherwords open() approach is unable to provide auto-closable property.**</font>"
   ]
  },
  {
   "cell_type": "markdown",
   "id": "1eae51e5",
   "metadata": {
    "hidden": true
   },
   "source": [
    "##### Examples:"
   ]
  },
  {
   "cell_type": "code",
   "execution_count": null,
   "id": "e5b0062f",
   "metadata": {
    "hidden": true
   },
   "outputs": [],
   "source": [
    "# fileopenex1.py\n",
    "\n",
    "# write a python program which will open any file in any mode.\n",
    "# This program will demonstrate to opening a file in read mode.\n",
    "\n",
    "\n",
    "try:\n",
    "    fp = open(\"student1.info\", \"r\")\n",
    "    print(\"Type of fp:\", type(fp))\n",
    "except FileNotFoundError:\n",
    "    print(\"\\nThe required file does not exist!.. Please check the file name!..\")"
   ]
  },
  {
   "cell_type": "code",
   "execution_count": null,
   "id": "c50b2c13",
   "metadata": {
    "hidden": true
   },
   "outputs": [],
   "source": [
    "# fileopenex2.py\n",
    "\n",
    "# write a python program which will open any file in any mode.\n",
    "# This program will demonstrate to opening a file in write mode.\n",
    "\n",
    "fp = open(\"student2.info\", \"w\")\n",
    "print(\"File Opened in write mode successfully\")"
   ]
  },
  {
   "cell_type": "code",
   "execution_count": null,
   "id": "8eb89395",
   "metadata": {
    "hidden": true
   },
   "outputs": [],
   "source": [
    "# fileopenex3.py\n",
    "\n",
    "# write a python program which will open any file in any mode.\n",
    "# This program will demonstrate to opening a file in exclusive(x) mode.\n",
    "\n",
    "try:\n",
    "    fp = open(\"student3.info\", \"x\")\n",
    "    print(\"Mode Used\", fp.mode)\n",
    "except FileExistsError:\n",
    "    print(\"File already exist. Please chose another file name.\")\n",
    "else:\n",
    "    print(\"File Opened in x mode successfully\")"
   ]
  },
  {
   "cell_type": "code",
   "execution_count": null,
   "id": "2a7d0908",
   "metadata": {
    "hidden": true
   },
   "outputs": [],
   "source": [
    "# fileopenex1.py\n",
    "\n",
    "# write a python program which will obtain the information about the file.\n",
    "# This program will demonstrate to opening a file in read mode.\n",
    "\n",
    "try:\n",
    "    # fp = open(\"student1.info\")\n",
    "    fp = open(\"student1.info\", \"r\")\n",
    "except FileNotFoundError:\n",
    "    print(\"\\nThe required file does not exist!.. Please check the file name!..\")\n",
    "else:\n",
    "    print(\"File opened in read mode successfully\")\n",
    "    print(\"-\" * 50)\n",
    "    print(\"Id of fp\", id(fp))\n",
    "    print(\"Mode Used = {}\".format(fp.mode))\n",
    "    print(\"Is readable :{}\".format(fp.readable()))\n",
    "    print(\"Is writable :{}\".format(fp.writable()))\n",
    "    print(\"Is file closed :{}\".format(fp.closed))\n",
    "    print(\"-\" * 50)\n",
    "finally:\n",
    "    print(\"I'm frm finally block(line 19), about to call file close() function\")\n",
    "    fp.close()\n",
    "    print(\"Is file closed on line 21:{}\".format(fp.closed))\n",
    "    print(\"-\" * 50)"
   ]
  },
  {
   "cell_type": "code",
   "execution_count": null,
   "id": "5f303b35",
   "metadata": {
    "hidden": true
   },
   "outputs": [],
   "source": [
    "# fileinfoex2.py\n",
    "\n",
    "# write a python program which will obtain the information about the file.\n",
    "# This program will demonstrate to opening a file in read mode.\n",
    "\n",
    "try:\n",
    "    fp = open(\"student1.info\", \"r+\")\n",
    "except FileNotFoundError:\n",
    "    print(\"\\nThe required file does not exist!.. Please check the file name!..\")\n",
    "else:\n",
    "    print(\"File opened in read mode successfully\")\n",
    "    print(\"-\" * 50)\n",
    "    print(\"Mode Used = {}\".format(fp.mode))\n",
    "    print(\"Is readable :{}\".format(fp.readable()))\n",
    "    print(\"Is writable :{}\".format(fp.writable()))\n",
    "    print(\"Is file closed :{}\".format(fp.closed))\n",
    "    print(\"-\" * 50)\n",
    "finally:\n",
    "    print(\"I'm frm finally block(line 17), about to call file close() function\")\n",
    "    fp.close()\n",
    "    print(\"Is file closed on line 19:{}\".format(fp.closed))\n",
    "    print(\"-\" * 50)\n"
   ]
  },
  {
   "cell_type": "code",
   "execution_count": null,
   "id": "98d6ffb9",
   "metadata": {
    "hidden": true
   },
   "outputs": [],
   "source": [
    "# fileinfoex3.py\n",
    "\n",
    "# write a python program which will obtain the information about the file.\n",
    "# This program will demonstrate to opening a file in read mode.\n",
    "\n",
    "fp = open(\"student1.info\", \"w\")\n",
    "print(\"File opened in write mode successfully\")\n",
    "print(\"-\" * 50)\n",
    "print(\"Mode Used = {}\".format(fp.mode))\n",
    "print(\"Is readable :{}\".format(fp.readable()))\n",
    "print(\"Is writable :{}\".format(fp.writable()))\n",
    "print(\"Is file closed :{}\".format(fp.closed))\n",
    "print(\"-\" * 50)\n",
    "fp.close()\n",
    "print(\"Is file closed on line 13:{}\".format(fp.closed))\n",
    "print(\"-\" * 50)\n"
   ]
  },
  {
   "cell_type": "code",
   "execution_count": null,
   "id": "b0aa3f48",
   "metadata": {
    "hidden": true
   },
   "outputs": [],
   "source": [
    "# fileinfoex4.py\n",
    "# write a python program which will obtain the information about the file.\n",
    "# This program will demonstrate to opening a file in read mode.\n",
    "\n",
    "fp = open(\"student1.info\", \"w+\")\n",
    "print(\"File opened in write mode successfully\")\n",
    "print(\"-\" * 50)\n",
    "print(\"Mode Used = {}\".format(fp.mode))\n",
    "print(\"Is readable :{}\".format(fp.readable()))\n",
    "print(\"Is writable :{}\".format(fp.writable()))\n",
    "print(\"Is file closed :{}\".format(fp.closed))\n",
    "print(\"-\" * 50)\n",
    "fp.close()\n",
    "print(\"Is file closed on line 13:{}\".format(fp.closed))\n",
    "print(\"-\" * 50)\n"
   ]
  },
  {
   "cell_type": "code",
   "execution_count": null,
   "id": "23202fb1",
   "metadata": {
    "hidden": true
   },
   "outputs": [],
   "source": [
    "# fileinfoex5.py\n",
    "\n",
    "# write a python program which will obtain the information about the file.\n",
    "# This program will demonstrate to opening a file in read mode.\n",
    "\n",
    "fp = open(\"student1.info\", \"a\")\n",
    "print(\"File opened in append mode successfully\")\n",
    "print(\"-\" * 50)\n",
    "print(\"Mode Used = {}\".format(fp.mode))\n",
    "print(\"Is readable :{}\".format(fp.readable()))\n",
    "print(\"Is writable :{}\".format(fp.writable()))\n",
    "print(\"Is file closed :{}\".format(fp.closed))\n",
    "print(\"-\" * 50)\n",
    "fp.close()\n",
    "print(\"Is file closed on line 13:{}\".format(fp.closed))\n",
    "print(\"-\" * 50)\n"
   ]
  },
  {
   "cell_type": "code",
   "execution_count": null,
   "id": "d9627b5e",
   "metadata": {
    "hidden": true
   },
   "outputs": [],
   "source": [
    "# fileinfoex6.py\n",
    "\n",
    "# write a python program which will obtain the information about the file.\n",
    "# This program will demonstrate to opening a file in read mode.\n",
    "\n",
    "fp = open(\"student1.info\", \"a+\")\n",
    "print(\"File opened in append mode successfully\")\n",
    "print(\"-\" * 50)\n",
    "print(\"Mode Used = {}\".format(fp.mode))\n",
    "print(\"Is readable :{}\".format(fp.readable()))\n",
    "print(\"Is writable :{}\".format(fp.writable()))\n",
    "print(\"Is file closed :{}\".format(fp.closed))\n",
    "print(\"-\" * 50)\n",
    "fp.close()\n",
    "print(\"Is file closed on line 13:{}\".format(fp.closed))\n",
    "print(\"-\" * 50)\n"
   ]
  },
  {
   "cell_type": "code",
   "execution_count": null,
   "id": "4f095c27",
   "metadata": {
    "hidden": true
   },
   "outputs": [],
   "source": [
    "# fileinfoex7.py\n",
    "# write a python program which will obtain the information about the file.\n",
    "# This program will demonstrate to opening a file in read mode.\n",
    "\n",
    "try:\n",
    "    fp = open(\"studentx1.info\", \"x\")\n",
    "except FileExistsError:\n",
    "    print(\"File already exist, cant open in x mode\")\n",
    "else:\n",
    "    print(\"File opened in x mode successfully\")\n",
    "    print(\"-\" * 50)\n",
    "    print(\"Mode Used = {}\".format(fp.mode))\n",
    "    print(\"Is readable :{}\".format(fp.readable()))\n",
    "    print(\"Is writable :{}\".format(fp.writable()))\n",
    "    print(\"Is file closed :{}\".format(fp.closed))\n",
    "    print(\"-\" * 50)\n",
    "finally:\n",
    "    fp.close()\n",
    "    print(\"Is file closed on line 18:{}\".format(fp.closed))\n",
    "    print(\"-\" * 50)\n"
   ]
  },
  {
   "cell_type": "markdown",
   "id": "19db9cde",
   "metadata": {
    "hidden": true
   },
   "source": [
    "<div class=\"alert alert-block alert-info\">\n",
    "<b>Tip/Note:</b> \n",
    "    \n",
    "* **\"mode\"** is an attribute in the object of **TextIOWrapper** and it is used for giving the file mode\n",
    "    \n",
    "* **\"closed\"** is an attribute in the object of **TextIOWrapper** and it returns False in the case file is active in open otherwise  it gives True\n",
    "    \n",
    "* **\"readable()\"** is a pre-defined function in the object of **TextIOWrapper** and it returns True in the case of reading operation on the file otherwise it returns False\n",
    "    \n",
    "* **\"writable()\"** is a pre-defined function in the object of **TextIOWrapper** and it returns True in the case of writing operation on the file otherwise it returns False\n",
    "    \n",
    "</div>"
   ]
  },
  {
   "cell_type": "markdown",
   "id": "f0e62a1d",
   "metadata": {
    "hidden": true
   },
   "source": [
    "-----"
   ]
  },
  {
   "cell_type": "markdown",
   "id": "7c6b7a88",
   "metadata": {
    "hidden": true
   },
   "source": [
    "<font color='#3498DB'>**2) By using \"with open() as filepointer\"**</font>\n",
    "\n",
    "<div class=\"alert alert-block alert-success\">\n",
    "<b>Syntax:</b> \n",
    "<code>\n",
    "with  open(\"File Name\", \"File Mode\") as VarName:\n",
    "   --------------------------------------\n",
    "   --------------------------------------\n",
    "   Block of Statements--Operation\n",
    "   --------------------------------------\n",
    "   --------------------------------------\n",
    "-----------------------------------------\n",
    "Other Statements in Python Program\n",
    "-----------------------------------------</code></div>\n",
    "\n",
    "**Explanation:**\n",
    " \n",
    "* \"**with**\"  and \"**as**\"  are keywords\n",
    "* **open()** is a function used to open the file in specified file mode\n",
    "* here \"**VarName**\" repersent a pointer to the file and it called \"File Pointer \" and it is an object of type <font color='#009900'>**<class, _io.TextIOWrapper>**</font>\n",
    "* <font color='#009900'>**The main advatange of this syntax is that It provides auto-closable of files. In otherwords, we need not to close any files explicitly.**</font>\n",
    " \n",
    "\n"
   ]
  },
  {
   "cell_type": "markdown",
   "id": "e929ea35",
   "metadata": {
    "hidden": true
   },
   "source": [
    "##### Examples:"
   ]
  },
  {
   "cell_type": "code",
   "execution_count": null,
   "id": "4cba2900",
   "metadata": {
    "hidden": true
   },
   "outputs": [],
   "source": [
    "# write a python program which will obtain the information about the file.\n",
    "# This program will demonstrate to opening a file in read mode.\n",
    "\n",
    "# fileinfoex8.py    --- with open() as\n",
    "\n",
    "try:\n",
    "    with open(\"student1.info\", \"r+\") as fp:\n",
    "        print(\"-\" * 50)\n",
    "        print(\"File opened successfully in read mode\")\n",
    "        print(\"-\" * 50)\n",
    "        print(\"Mode Used = {}\".format(fp.mode))\n",
    "        print(\"Is readable :{}\".format(fp.readable()))\n",
    "        print(\"Is writable :{}\".format(fp.writable()))\n",
    "        print(\"Line 13, Is file closed with in 'with open()' indentation statement:{}\".format(fp.closed))\n",
    "        print(\"-\" * 50)\n",
    "\n",
    "    print(\"Line 17, Is file closed after 'with open()' indentation statement:{}\".format(fp.closed))\n",
    "except FileNotFoundError:\n",
    "    print(\"File does not exist\")\n",
    "finally:\n",
    "    print(\"\\nI'm from finally block\")\n",
    "    print(\"Line 22, Is file closed in finally block:{}\".format(fp.closed))\n"
   ]
  },
  {
   "cell_type": "markdown",
   "id": "ab2cfc12",
   "metadata": {},
   "source": [
    "## <font color='#3498DB'>Operations on Files</font>"
   ]
  },
  {
   "cell_type": "markdown",
   "id": "4c1a043f",
   "metadata": {},
   "source": [
    "* On Files, we can perform two types of Operations. They are\n",
    "\t1. <font color='#009900'>**Write Operation.**</font>\n",
    "    2. <font color='#009900'>**Read Operation.**</font>\n",
    "\n",
    "<font color='#3498DB'>**a) Write Operation**</font>\n",
    "\n",
    "* This operation is used for **transfering Temporary data from Main Memory into the file of secondary memory.**\n",
    "* Steps:\n",
    "\n",
    "\t1. **Choose the file name**\n",
    "\t2. **Open the file name in write mode**\n",
    "\t3. **Perform Cycle of Write Operations**\n",
    "\n",
    "* During **Write Operation**, we get exceptions like <font color='red'>**FileExistError,   IOError**</font>....etc.\n",
    "\n",
    "<font color='#3498DB'>**a) Read Operation**</font>\n",
    "\n",
    "* This operation is used for **transfering the Data of files from Secondary Memory into object of Main Memory.**\n",
    "* Steps:\n",
    "\n",
    "\t1. **Choose the file name**\n",
    "\t2. **Open the File Name in Read Mode**\n",
    "\t3. **Perform Cycle of Read Operations**\n",
    "* During **Read Operation**, we get exceptions like <font color='red'>**FileNotFoundError, EOFError**</font>..etc"
   ]
  },
  {
   "cell_type": "markdown",
   "id": "f46beda3",
   "metadata": {},
   "source": [
    "### <font color='#3498DB'>Writing data to the files</font>"
   ]
  },
  {
   "cell_type": "markdown",
   "id": "d81647dc",
   "metadata": {},
   "source": [
    "* Once we open the file, it is necessary to perform the operations on the files. \n",
    "* On Files, we can perform two types of Operation and they can write and read.\n",
    "* To write the data to the files, we have **two pre-defined functions** which are present in the object of **TextIOWrapper**. They are\n",
    "\n",
    "  1. <font color='#009900'>**write()**</font>\n",
    "  2. <font color='#009900'>**writelines()**</font>\n",
    "\n",
    "\n",
    "<font color='#3498DB'>**1) write()**</font>\n",
    "\n",
    "<div class=\"alert alert-block alert-success\">\n",
    "<b>Syntax1:</b></br> \n",
    "<code>filepointer.write(data)</code>\n",
    "</div>\n",
    "\n",
    "\n",
    "* here  \"**filepointer**\" is an object, it **always points to the file**.\n",
    "* **\"write()\"** is a pre-defined function, which is **used to write the data to the file always in the form of str.**   \n",
    "* **\"data\"** represents always any type of value but **it should be always in the form of str.**"
   ]
  },
  {
   "cell_type": "code",
   "execution_count": null,
   "id": "3127967c",
   "metadata": {},
   "outputs": [],
   "source": [
    "# demonstrating the write operations on files using 'write()' function\n",
    "# filewriteex1.py\n",
    "# with open(\"addr.data\", \"w\") as fp: # w mode will overwrite the existing data in the file\n",
    "\n",
    "with open(\"addr.data\", \"a\") as fp: # append mode will only append the data in to the existing file\n",
    "    fp.write(str(\"Anu L Sasidharan,\"))\n",
    "    fp.write(str(\"Ampady,\"))\n",
    "    fp.write(str(\"Anchal Kollam,\"))\n",
    "    fp.write(str(\"691311\\n\"))\n",
    "    print(\"Data written to the file\")"
   ]
  },
  {
   "cell_type": "markdown",
   "id": "f9d06f02",
   "metadata": {},
   "source": [
    "<font color='#3498DB'>**2) writelines()**</font>\n",
    "\n",
    "* This function is used for writing the data into the **Iterbable object** and data of iterable object **must be of type str**.\n",
    "* If any iterable object contains other than str then **we must convert entire iterable object into str type by using str()**\n",
    "\n",
    "<div class=\"alert alert-block alert-success\">\n",
    "<b>Syntax2:</b></br> \n",
    "<code>filepointer.writelines(Iterable object)</code>\n",
    "</div>"
   ]
  },
  {
   "cell_type": "code",
   "execution_count": null,
   "id": "3e0add70",
   "metadata": {},
   "outputs": [],
   "source": []
  },
  {
   "cell_type": "markdown",
   "id": "4c7bce83",
   "metadata": {},
   "source": [
    "### Reading the data from the files"
   ]
  },
  {
   "cell_type": "code",
   "execution_count": null,
   "id": "6eefdd17",
   "metadata": {},
   "outputs": [],
   "source": []
  }
 ],
 "metadata": {
  "kernelspec": {
   "display_name": "Python 3 (ipykernel)",
   "language": "python",
   "name": "python3"
  },
  "language_info": {
   "codemirror_mode": {
    "name": "ipython",
    "version": 3
   },
   "file_extension": ".py",
   "mimetype": "text/x-python",
   "name": "python",
   "nbconvert_exporter": "python",
   "pygments_lexer": "ipython3",
   "version": "3.9.13"
  }
 },
 "nbformat": 4,
 "nbformat_minor": 5
}
