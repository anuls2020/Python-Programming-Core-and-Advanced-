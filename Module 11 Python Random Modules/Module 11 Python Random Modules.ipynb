{
 "cells": [
  {
   "cell_type": "markdown",
   "id": "6cfa4495",
   "metadata": {},
   "source": [
    "<h1><center>Python Random Module</center></h1>"
   ]
  },
  {
   "cell_type": "markdown",
   "id": "739502de",
   "metadata": {
    "heading_collapsed": true
   },
   "source": [
    "### <font color='#3498DB'>**Index**</font>"
   ]
  },
  {
   "cell_type": "markdown",
   "id": "1101be7b",
   "metadata": {
    "hidden": true
   },
   "source": [
    "1. <font color='#3498DB'>**What is random modules and its purpose**</font>\n",
    "2. <font color='#3498DB'>**Type of functions in random modules**</font>"
   ]
  },
  {
   "cell_type": "markdown",
   "id": "e08b693b",
   "metadata": {
    "heading_collapsed": true
   },
   "source": [
    "### <font color='#3498DB'>What is random modules and its purpose</font>"
   ]
  },
  {
   "cell_type": "markdown",
   "id": "7c1a68b3",
   "metadata": {
    "hidden": true
   },
   "source": [
    "* random one of pre-defined module present in python\n",
    "* The **purpose of random** is that \"**To generate random values in various contexts**\".\n",
    "* random module contains the **follwoing essential functions.**"
   ]
  },
  {
   "cell_type": "markdown",
   "id": "20f07dda",
   "metadata": {
    "heading_collapsed": true
   },
   "source": [
    "### <font color='#3498DB'>Type of functions in random modules</font>"
   ]
  },
  {
   "cell_type": "markdown",
   "id": "de247367",
   "metadata": {
    "hidden": true
   },
   "source": [
    "\n",
    "**For Random Integers**\n",
    "\n",
    "---\n",
    "\n",
    "   1. <font color='#3498DB'>**randrange()**</font>\n",
    "   2. <font color='#3498DB'>**randint()**</font>\n",
    " \n",
    "**For Random Float values** \n",
    "\n",
    "---\n",
    "\n",
    "   3. <font color='#3498DB'>**random()**</font>\n",
    "   4. <font color='#3498DB'>**uniform()**</font>\n",
    " \n",
    "**Random function on iterable objects** \n",
    "\n",
    "---\n",
    "\n",
    "   5. <font color='#3498DB'>**choice()**</font>\n",
    "   6. <font color='#3498DB'>**shuffle()**</font>\n",
    "   7. <font color='#3498DB'>**sample()**</font>"
   ]
  },
  {
   "cell_type": "markdown",
   "id": "ba554b18",
   "metadata": {
    "heading_collapsed": true
   },
   "source": [
    "### <font color='#3498DB'>**a) randrange()**</font>"
   ]
  },
  {
   "cell_type": "markdown",
   "id": "07894b9e",
   "metadata": {
    "hidden": true
   },
   "source": [
    "* This function is used for generating random integer values between two specified limits.\n",
    "\n",
    "* This syntax generates any random value between **0 to Value-1**\n",
    "\n",
    "<div class=\"alert alert-block alert-success\">\n",
    "<b>Syntax1:</b></br> \n",
    "<code>random.randrang(Value)</code>\n",
    "</div>\n",
    "\n",
    "\n",
    "* This syntax generates any random value between **start to stop-1**\n",
    "\n",
    "<div class=\"alert alert-block alert-success\">\n",
    "<b>Syntax2:</b></br> \n",
    "<code>random.rangerange(start,stop)</code>\n",
    "</div>\n",
    "\n",
    "\n",
    "**Examples:**"
   ]
  },
  {
   "cell_type": "code",
   "execution_count": 3,
   "id": "d7769a0c",
   "metadata": {
    "hidden": true
   },
   "outputs": [
    {
     "name": "stdout",
     "output_type": "stream",
     "text": [
      "116\n",
      "100\n",
      "130\n",
      "148\n",
      "138\n",
      "141\n",
      "3\n",
      "8\n"
     ]
    }
   ],
   "source": [
    "import random\n",
    "print(random.randrange(100,150))\n",
    "print(random.randrange(100,150))\n",
    "print(random.randrange(100,150))\n",
    "print(random.randrange(100,150))\n",
    "print(random.randrange(100,150))\n",
    "print(random.randrange(100,150))\n",
    "print(random.randrange(10))     \n",
    "print(random.randrange(10))     "
   ]
  },
  {
   "cell_type": "code",
   "execution_count": 2,
   "id": "0c725841",
   "metadata": {
    "hidden": true
   },
   "outputs": [
    {
     "name": "stdout",
     "output_type": "stream",
     "text": [
      "-132\n"
     ]
    }
   ],
   "source": [
    "import random\n",
    "print(random.randrange(-150,-100))"
   ]
  },
  {
   "cell_type": "code",
   "execution_count": 1,
   "id": "5e7142a0",
   "metadata": {
    "hidden": true
   },
   "outputs": [
    {
     "name": "stdout",
     "output_type": "stream",
     "text": [
      "2\n",
      "8\n",
      "0\n",
      "1\n",
      "2\n",
      "--------------------------------------------------\n",
      "1040\n",
      "1084\n",
      "1004\n",
      "1046\n",
      "1092\n",
      "--------------------------------------------------\n"
     ]
    }
   ],
   "source": [
    "#randrangeex.py\n",
    "import random\n",
    "for i in range(1,6):\n",
    "    print(random.randrange(10))\n",
    "print(\"-\"*50)\n",
    "for i in range(1,6):\n",
    "    print(random.randrange(1000,1100))\n",
    "print(\"-\"*50)"
   ]
  },
  {
   "cell_type": "markdown",
   "id": "de27eb57",
   "metadata": {
    "heading_collapsed": true
   },
   "source": [
    "### <font color='#3498DB'>**b) randint()**</font>"
   ]
  },
  {
   "cell_type": "markdown",
   "id": "f3894a7c",
   "metadata": {
    "hidden": true
   },
   "source": [
    "* This syntax generates any random value between start to stop. Here start and stop are inclusive. \n",
    "\n",
    "<div class=\"alert alert-block alert-success\">\n",
    "<b>Syntax1:</b></br> \n",
    "<code>random.radint(start,stop)</code>\n",
    "</div>\n",
    "\n",
    "**Examples:**"
   ]
  },
  {
   "cell_type": "code",
   "execution_count": 5,
   "id": "281a7972",
   "metadata": {
    "hidden": true
   },
   "outputs": [
    {
     "name": "stdout",
     "output_type": "stream",
     "text": [
      "13\n",
      "15\n",
      "13\n",
      "10\n",
      "12\n"
     ]
    }
   ],
   "source": [
    "print(random.randint(10,15))\n",
    "print(random.randint(10,15))\n",
    "print(random.randint(10,15))\n",
    "print(random.randint(10,15))\n",
    "print(random.randint(10,15))"
   ]
  },
  {
   "cell_type": "code",
   "execution_count": 7,
   "id": "0642ffd1",
   "metadata": {
    "hidden": true
   },
   "outputs": [
    {
     "name": "stdout",
     "output_type": "stream",
     "text": [
      "13\n",
      "13\n",
      "15\n",
      "10\n",
      "17\n",
      "--------------------------------------------------\n"
     ]
    }
   ],
   "source": [
    "#randintex.py\n",
    "import random\n",
    "for i in range(1,6):\n",
    "    print(random.randint(10,20))\n",
    "print(\"-\"*50)"
   ]
  },
  {
   "cell_type": "markdown",
   "id": "32a90251",
   "metadata": {
    "heading_collapsed": true
   },
   "source": [
    "### <font color='#3498DB'>**c) random()**</font>"
   ]
  },
  {
   "cell_type": "markdown",
   "id": "6ba709a2",
   "metadata": {
    "hidden": true
   },
   "source": [
    "* This syntax generates floating point random values **between 0.0 and 1.0 (Exlusive))**\n",
    "\n",
    "<div class=\"alert alert-block alert-success\">\n",
    "<b>Syntax1:</b></br> \n",
    "<code>random.random()</code>\n",
    "</div>\n",
    "\n",
    "**Examples:**"
   ]
  },
  {
   "cell_type": "code",
   "execution_count": 8,
   "id": "bcdef371",
   "metadata": {
    "hidden": true,
    "scrolled": true
   },
   "outputs": [
    {
     "name": "stdout",
     "output_type": "stream",
     "text": [
      "0.18831860161619207\n",
      "0.14905629569727596\n",
      "0.3244045669929888\n",
      "0.4197260092578916\n"
     ]
    }
   ],
   "source": [
    "import random\n",
    "print(random.random())\n",
    "print(random.random())\n",
    "print(random.random())\n",
    "print(random.random())  "
   ]
  },
  {
   "cell_type": "code",
   "execution_count": 9,
   "id": "7494b7f6",
   "metadata": {
    "hidden": true
   },
   "outputs": [
    {
     "name": "stdout",
     "output_type": "stream",
     "text": [
      "--------------------------------------------------\n",
      "Content of lst=['0.26', '0.43', '0.29', '0.14', '0.24']\n"
     ]
    }
   ],
   "source": [
    "#randomex.py\n",
    "import random\n",
    "lst=[]\n",
    "for i in range(1,6):\n",
    "    lst.append(\"%0.2f\" %random.random())\n",
    "print(\"-\"*50)\n",
    "print(\"Content of lst={}\".format(lst))"
   ]
  },
  {
   "cell_type": "markdown",
   "id": "37929088",
   "metadata": {
    "heading_collapsed": true
   },
   "source": [
    "### <font color='#3498DB'>**d) uniform()**</font>"
   ]
  },
  {
   "cell_type": "markdown",
   "id": "4d41e77a",
   "metadata": {
    "hidden": true
   },
   "source": [
    "* This generates random floting point values from **start to stop-1 values**\n",
    "* The range values of start and stop can both **Integer or floating point values** but the **result always in floating values.**\n",
    "\n",
    "<div class=\"alert alert-block alert-success\">\n",
    "<b>Syntax1:</b></br> \n",
    "<code>random.uniform(start,stop)</code>\n",
    "</div>\n",
    "\n",
    "**Examples:**"
   ]
  },
  {
   "cell_type": "code",
   "execution_count": 10,
   "id": "1bc79c92",
   "metadata": {
    "hidden": true
   },
   "outputs": [
    {
     "name": "stdout",
     "output_type": "stream",
     "text": [
      "10.043125644550244\n",
      "13.601183913608352\n",
      "13.850783364530372\n",
      "14.092173330747276\n",
      "10.012138541586207\n",
      "12.160842664732128\n",
      "11.864802726029792\n"
     ]
    }
   ],
   "source": [
    "import random\n",
    "print(random.uniform(10,15))\n",
    "print(random.uniform(10,15))\n",
    "print(random.uniform(10,15))\n",
    "print(random.uniform(10,15))\n",
    "print(random.uniform(10,15))\n",
    "print(random.uniform(10.75,15.75))\n",
    "print(random.uniform(10.75,15.75))"
   ]
  },
  {
   "cell_type": "code",
   "execution_count": 4,
   "id": "8eedba31",
   "metadata": {
    "hidden": true
   },
   "outputs": [
    {
     "name": "stdout",
     "output_type": "stream",
     "text": [
      "--------------------------------------------------\n",
      "Content of lst=[10.39, 10.07, 12.25, 10.9, 12.69]\n",
      "--------------------------------------------------\n"
     ]
    }
   ],
   "source": [
    "#uniformex.py\n",
    "import random\n",
    "lst=[]\n",
    "for i in range(1,6):\n",
    "    lst.append(float(\"%0.2f\" %random.uniform(10,15.5)))\n",
    "print(\"-\"*50)\n",
    "print(\"Content of lst={}\".format(lst))\n",
    "print(\"-\"*50)"
   ]
  },
  {
   "cell_type": "markdown",
   "id": "4a16a8a5",
   "metadata": {
    "heading_collapsed": true
   },
   "source": [
    "### <font color='#3498DB'>**e) choice()**</font>"
   ]
  },
  {
   "cell_type": "markdown",
   "id": "18eb6e08",
   "metadata": {
    "hidden": true
   },
   "source": [
    "* This function **obtains random values from Iterable_object.**\n",
    "\n",
    "<div class=\"alert alert-block alert-success\">\n",
    "<b>Syntax1:</b></br> \n",
    "<code>random.choice(Iterable_object)</code>\n",
    "</div>\n",
    "\n",
    "**Examples**"
   ]
  },
  {
   "cell_type": "code",
   "execution_count": 12,
   "id": "73517cae",
   "metadata": {
    "hidden": true
   },
   "outputs": [
    {
     "name": "stdout",
     "output_type": "stream",
     "text": [
      "20 Y 13\n",
      "30 T 11\n",
      "50 Y 12\n"
     ]
    }
   ],
   "source": [
    "print(random.choice([10,20,30,40,50]),random.choice(\"PYTHON\"),random.choice(range(10,15)))\n",
    "print(random.choice([10,20,30,40,50]),random.choice(\"PYTHON\"),random.choice(range(10,15)))\n",
    "print(random.choice([10,20,30,40,50]),random.choice(\"PYTHON\"),random.choice(range(10,15)))"
   ]
  },
  {
   "cell_type": "code",
   "execution_count": 13,
   "id": "c5c91be3",
   "metadata": {
    "hidden": true
   },
   "outputs": [
    {
     "name": "stdout",
     "output_type": "stream",
     "text": [
      "R e A a\n",
      "8 u Y &\n",
      "P a a A\n",
      "# B @ e\n",
      "% @ A ^\n"
     ]
    }
   ],
   "source": [
    "#choiceex.py\n",
    "import random\n",
    "s=\"AaBRe#^%@8YuQLPau*&\"\n",
    "for i in range(1,6):\n",
    "     print(random.choice(s),random.choice(s),random.choice(s),random.choice(s))"
   ]
  },
  {
   "cell_type": "markdown",
   "id": "58302499",
   "metadata": {
    "heading_collapsed": true
   },
   "source": [
    "### <font color='#3498DB'>**f)  shuffle()**</font>"
   ]
  },
  {
   "cell_type": "markdown",
   "id": "adbb1484",
   "metadata": {
    "hidden": true
   },
   "source": [
    "* This Function is used for **re-organizing the elements of any mutable object.**\n",
    "\n",
    "<div class=\"alert alert-block alert-success\">\n",
    "<b>Syntax1:</b></br> \n",
    "<code>random.shuffle(list)</code>\n",
    "</div>\n",
    "\n",
    "* We can <font color='#009900'>**shuffle the data of list**</font> but not other objects of Data Types\n",
    "\n",
    "**Examples**"
   ]
  },
  {
   "cell_type": "code",
   "execution_count": 23,
   "id": "2bc709b4",
   "metadata": {
    "hidden": true
   },
   "outputs": [
    {
     "name": "stdout",
     "output_type": "stream",
     "text": [
      "None\n",
      "[40, 20, 10, 50, 30]\n",
      "[40, 20, 50, 30, 10]\n",
      "[40, 30, 10, 20, 50]\n",
      "[40, 10, 20, 30, 50]\n"
     ]
    }
   ],
   "source": [
    "l=[10,20,30,40,50]\n",
    "print(random.shuffle(l))\n",
    "print(l)\n",
    "random.shuffle(l)\n",
    "print(l)\n",
    "random.shuffle(l)\n",
    "print(l)\n",
    "random.shuffle(l)\n",
    "print(l)"
   ]
  },
  {
   "cell_type": "code",
   "execution_count": 17,
   "id": "511b0c16",
   "metadata": {
    "hidden": true
   },
   "outputs": [
    {
     "name": "stdout",
     "output_type": "stream",
     "text": [
      "{10: 'cadburry', 20: 'kitkat', 30: 'malkybar', 40: 'dairymilk'}\n",
      "10 -- cadburry\n",
      "20 -- kitkat\n",
      "30 -- malkybar\n",
      "40 -- dairymilk\n"
     ]
    }
   ],
   "source": [
    "d={10:\"cadburry\",20:\"kitkat\",30:\"malkybar\", 40:\"dairymilk\"}\n",
    "print(d)\n",
    "for k,v in d.items():\n",
    "    print(k,\"--\",v)"
   ]
  },
  {
   "cell_type": "code",
   "execution_count": 24,
   "id": "157c1686",
   "metadata": {
    "hidden": true
   },
   "outputs": [
    {
     "name": "stdout",
     "output_type": "stream",
     "text": [
      "content of l= ['Python', 34.56, 10, True, 'Rossum']\n",
      "content of l= [34.56, True, 10, 'Rossum', 'Python']\n",
      "content of l= [True, 10, 'Python', 'Rossum', 34.56]\n",
      "content of l= [34.56, True, 'Rossum', 'Python', 10]\n",
      "content of l= ['Rossum', 10, 34.56, True, 'Python']\n"
     ]
    }
   ],
   "source": [
    "#shuffleex.py\n",
    "import random as r\n",
    "l=[10,\"Python\",\"Rossum\",34.56,True]\n",
    "for i in range(1,6):\n",
    "    r.shuffle(l)\n",
    "    print(\"content of l=\",l)"
   ]
  },
  {
   "cell_type": "markdown",
   "id": "ed056f5e",
   "metadata": {
    "heading_collapsed": true
   },
   "source": [
    "### <font color='#3498DB'>**g) sample()**</font>"
   ]
  },
  {
   "cell_type": "markdown",
   "id": "2ff7b44d",
   "metadata": {
    "hidden": true
   },
   "source": [
    "* This Function is used for **</font>selecting random samples from any Iterable object based on number of samples(+ve)**</font>\n",
    "\n",
    "<div class=\"alert alert-block alert-success\">\n",
    "<b>Syntax1:</b></br> \n",
    "<code>random.sample(iterable_object, k)</code>\n",
    "</div>\n",
    "\n",
    "- Here '**k**' can be number of samples.\n",
    "\n",
    "- **Sampling can be done from any iterable objects** <font color='#009900'>**except dictionary data objects.**</font>\n",
    "- <font color='#009900'>**sampling from a set is depricated since Python 3.9**</font>\n",
    "\n",
    "**Examples**"
   ]
  },
  {
   "cell_type": "code",
   "execution_count": 25,
   "id": "15865cfb",
   "metadata": {
    "hidden": true
   },
   "outputs": [
    {
     "name": "stdout",
     "output_type": "stream",
     "text": [
      "['T', 'b', '%', '!', 'Y']\n",
      "['r', '%', 'T', '@', '&']\n",
      "['$', 'h', 'e', 'c', 'B']\n",
      "['%', 'r', 'T', '@', 'y']\n",
      "['g', '^', 't', 'T', '*']\n"
     ]
    }
   ],
   "source": [
    "import random\n",
    "s=\"ABCabcERTYUertyu$%^&*#@!%^&ghjkiyl\"\n",
    "print(random.sample(s,5))\n",
    "print(random.sample(s,5))\n",
    "print(random.sample(s,5))\n",
    "print(random.sample(s,5))\n",
    "print(random.sample(s,5))"
   ]
  },
  {
   "cell_type": "code",
   "execution_count": 26,
   "id": "12be4973",
   "metadata": {
    "hidden": true
   },
   "outputs": [
    {
     "name": "stdout",
     "output_type": "stream",
     "text": [
      "[34.56, True]\n",
      "[34.56, True]\n",
      "[34.56, 'Python']\n",
      "[10, 34.56]\n",
      "['Python', 'Rossum']\n"
     ]
    }
   ],
   "source": [
    "#sampleex.py\n",
    "import random\n",
    "lst=[10,\"Rossum\",\"Python\",34.56,True]\n",
    "for i in range(1,6):\n",
    "    print(random.sample(lst,2))"
   ]
  },
  {
   "cell_type": "markdown",
   "id": "d4aee4d8",
   "metadata": {
    "hidden": true
   },
   "source": []
  },
  {
   "cell_type": "code",
   "execution_count": null,
   "id": "3acc7f8c",
   "metadata": {
    "hidden": true
   },
   "outputs": [],
   "source": []
  }
 ],
 "metadata": {
  "kernelspec": {
   "display_name": "Python 3 (ipykernel)",
   "language": "python",
   "name": "python3"
  },
  "language_info": {
   "codemirror_mode": {
    "name": "ipython",
    "version": 3
   },
   "file_extension": ".py",
   "mimetype": "text/x-python",
   "name": "python",
   "nbconvert_exporter": "python",
   "pygments_lexer": "ipython3",
   "version": "3.9.13"
  }
 },
 "nbformat": 4,
 "nbformat_minor": 5
}
