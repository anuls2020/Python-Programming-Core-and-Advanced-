{
 "cells": [
  {
   "cell_type": "markdown",
   "id": "b5c28726",
   "metadata": {},
   "source": [
    "## <font color='#3498DB'>**Random Assignments and answers using logging modules, function and exception handling**</font>"
   ]
  },
  {
   "cell_type": "markdown",
   "id": "44e655b3",
   "metadata": {
    "heading_collapsed": true
   },
   "source": [
    "### <font color='#3498DB'>**a) randrange()**</font>"
   ]
  },
  {
   "cell_type": "code",
   "execution_count": 43,
   "id": "ab2f284d",
   "metadata": {
    "hidden": true
   },
   "outputs": [
    {
     "name": "stdout",
     "output_type": "stream",
     "text": [
      "Enter the number:10\n"
     ]
    }
   ],
   "source": [
    "# intrandex1.py\n",
    "# This program will generate a random number with in the specified range of value.\n",
    "\n",
    "import random as r\n",
    "import logging\n",
    "\n",
    "logging.basicConfig(filename=\"intrandex1.log\", level=logging.INFO,\n",
    "                    format='%(levelname)s %(asctime)s %(name)s %(message)s')\n",
    "\n",
    "\n",
    "def rand():\n",
    "    try:\n",
    "        n = int(input(\"Enter the number:\"))\n",
    "        logging.info(\"The number entered by the user is %s\", n)\n",
    "        rndint = r.randrange(n)\n",
    "        logging.info(\"The result of the random number generation is %s\", rndint)\n",
    "\n",
    "    except ValueError as e:\n",
    "        logging.error(\"randrange value must be an integer value greater than zero.\")\n",
    "        logging.exception(e)\n",
    "\n",
    "\n",
    "rand()\n"
   ]
  },
  {
   "cell_type": "code",
   "execution_count": null,
   "id": "faa95d3a",
   "metadata": {
    "hidden": true
   },
   "outputs": [],
   "source": [
    "# intrandex2.py\n",
    "# This program will generate random integer between two specified values\n",
    "\n",
    "import random as r\n",
    "import logging\n",
    "\n",
    "logging.basicConfig(filename=\"intrandex2.log\", level=logging.INFO,\n",
    "                    format='%(levelname)s %(asctime)s %(name)s %(message)s')\n",
    "\n",
    "def randbtwrnge():\n",
    "    try:\n",
    "        a = int(input(\"Enter the values of a:\"))\n",
    "        logging.info(\"User enter the value of a: %s\", a)\n",
    "        b = int(input(\"Enter the values of b:\"))\n",
    "        logging.info(\"User enter the value of a: %s\", b)\n",
    "        randint = r.randrange(a, b)\n",
    "        logging.info(\"The generated random number between %s and %s is %s\", a, b, randint)\n",
    "\n",
    "    except ValueError as e:\n",
    "        logging.error(\"Stop range must be greater than the start range\")\n",
    "        logging.exception(e)\n",
    "\n",
    "randbtwrnge()"
   ]
  },
  {
   "cell_type": "markdown",
   "id": "df50dcb0",
   "metadata": {
    "heading_collapsed": true
   },
   "source": [
    "### <font color='#3498DB'>**b) randint()**</font>"
   ]
  },
  {
   "cell_type": "code",
   "execution_count": null,
   "id": "83650857",
   "metadata": {
    "hidden": true
   },
   "outputs": [],
   "source": [
    "# intrandex3.py\n",
    "# This program will generate random integer between two specified values including the end values\n",
    "\n",
    "import random as r\n",
    "\n",
    "import logging\n",
    "\n",
    "logging.basicConfig(filename=\"intrandex3.log\", level=logging.INFO,\n",
    "                    format='%(levelname)s %(asctime)s %(name)s %(message)s')\n",
    "\n",
    "\n",
    "def randbtwrange():\n",
    "    try:\n",
    "        a = int(input(\"Enter the values of a:\"))\n",
    "        logging.info(\"User enter the value of a: %s\", a)\n",
    "        b = int(input(\"Enter the values of b:\"))\n",
    "        logging.info(\"User enter the value of a: %s\", b)\n",
    "        for i in range(1, 10):\n",
    "            randint = r.randint(a, b)\n",
    "            logging.info(\"The generated random number between %s and %s is %s\", a, b, randint)\n",
    "\n",
    "    except ValueError as e:\n",
    "        logging.error(\"Stop range must be greater than the start range\")\n",
    "        logging.exception(e)\n",
    "\n",
    "\n",
    "randbtwrange()\n"
   ]
  },
  {
   "cell_type": "markdown",
   "id": "a518138f",
   "metadata": {
    "heading_collapsed": true
   },
   "source": [
    "### <font color='#3498DB'>**c) random()**</font>"
   ]
  },
  {
   "cell_type": "code",
   "execution_count": null,
   "id": "6969db8b",
   "metadata": {
    "hidden": true
   },
   "outputs": [],
   "source": [
    "# floatrandex1.py\n",
    "# This program will generate random float values between 0.0 and 1.0\n",
    "\n",
    "import random as r\n",
    "\n",
    "import logging\n",
    "\n",
    "logging.basicConfig(filename=\"floatrandex1.log\", level=logging.INFO,\n",
    "                    format='%(levelname)s %(asctime)s %(name)s %(message)s')\n",
    "\n",
    "\n",
    "def floatrand():\n",
    "    for i in range(1, 10):\n",
    "        randfloat = r.random()\n",
    "        logging.info(\"The generated random number is: %s \", randfloat)\n",
    "        logging.info(\"The generated random number rounted to 2 is: %0.2f \", randfloat)\n",
    "\n",
    "\n",
    "floatrand()\n"
   ]
  },
  {
   "cell_type": "markdown",
   "id": "6b11ab04",
   "metadata": {
    "heading_collapsed": true
   },
   "source": [
    "### <font color='#3498DB'>**d) uniform()**</font>"
   ]
  },
  {
   "cell_type": "code",
   "execution_count": null,
   "id": "22ec0b16",
   "metadata": {
    "hidden": true
   },
   "outputs": [],
   "source": [
    "# floatrandex1.py\n",
    "# This program will generate random float values between two specified values\n",
    "\n",
    "import random as r\n",
    "\n",
    "import logging\n",
    "\n",
    "logging.basicConfig(filename=\"floatrandex2.log\", level=logging.INFO,\n",
    "                    format='%(levelname)s %(asctime)s %(name)s %(message)s')\n",
    "\n",
    "\n",
    "def floatrand():\n",
    "    try:\n",
    "        a = float(input(\"Enter the values of a:\"))\n",
    "        logging.info(\"User enter the value of a: %s\", a)\n",
    "        b = float(input(\"Enter the values of b:\"))\n",
    "        logging.info(\"User enter the value of a: %s\", b)\n",
    "        for i in range(1, 10):\n",
    "            randfloat = r.uniform(a, b)\n",
    "            logging.info(\"The generated random number between %s and %s is: %s\", a, b, randfloat)\n",
    "            logging.info(\"The generated random number rounded to 2 is: %0.2f \", randfloat)\n",
    "\n",
    "    except ValueError as e:\n",
    "        logging.error(\"Value of a and be must be a numeric values.\")\n",
    "        logging.exception(e)\n",
    "\n",
    "\n",
    "floatrand()\n"
   ]
  },
  {
   "cell_type": "markdown",
   "id": "7d8cd078",
   "metadata": {
    "heading_collapsed": true
   },
   "source": [
    "### <font color='#3498DB'>**e) choice()**</font>"
   ]
  },
  {
   "cell_type": "code",
   "execution_count": null,
   "id": "a001cc14",
   "metadata": {
    "hidden": true
   },
   "outputs": [],
   "source": [
    "# choiceex1.py\n",
    "# The choice function helps to obtain values form iterable objects\n",
    "\n",
    "import random as r\n",
    "\n",
    "import logging\n",
    "\n",
    "logging.basicConfig(filename=\"choiceex1.log\", level=logging.INFO,\n",
    "                    format='%(levelname)s %(asctime)s %(name)s %(message)s ')\n",
    "\n",
    "logging.info(\"Entering the input string\")\n",
    "str1 = input(\"Enter the string:\")\n",
    "\n",
    "result = r.choice(str1)\n",
    "logging.info(\"the choice output form the entered string is %s\", result)\n"
   ]
  },
  {
   "cell_type": "code",
   "execution_count": null,
   "id": "322fb230",
   "metadata": {
    "hidden": true
   },
   "outputs": [],
   "source": [
    "# choiceex2.py\n",
    "# The choice function helps to obtain values form iterable objects\n",
    "\n",
    "import random as r\n",
    "\n",
    "import logging\n",
    "\n",
    "logging.basicConfig(filename=\"choiceex2.log\", level=logging.INFO,\n",
    "                    format='%(levelname)s %(asctime)s %(name)s %(message)s ')\n",
    "\n",
    "logging.info(\"Entering the input string\")\n",
    "s = input(\"Enter the string:\")\n",
    "for i in range(1,6):\n",
    "    result = r.choice(s),r.choice(s),r.choice(s),r.choice(s)\n",
    "    logging.info(\"the choice output form the entered string is %s\", result)\n"
   ]
  },
  {
   "cell_type": "markdown",
   "id": "61d56547",
   "metadata": {
    "heading_collapsed": true
   },
   "source": [
    "### <font color='#3498DB'>**f)  shuffle()**</font>"
   ]
  },
  {
   "cell_type": "code",
   "execution_count": null,
   "id": "137f20f2",
   "metadata": {
    "hidden": true
   },
   "outputs": [],
   "source": [
    "# shuffleex1.py\n",
    "# The shuffle function can be used for re-organizing the elements of any mutable object\n",
    "\n",
    "import random as r\n",
    "\n",
    "import logging\n",
    "\n",
    "logging.basicConfig(filename=\"shuffleex1.log\", level=logging.INFO,\n",
    "                    format='%(levelname)s %(asctime)s %(name)s %(message)s ')\n",
    "\n",
    "logging.info(\"Entering the input string\")\n",
    "l = [1,2,3,4,5,6,7,8,9]\n",
    "for i in range(1,6):\n",
    "    r.shuffle(l)\n",
    "    logging.info(\"the shuffle output form the entered string is %s\", l)\n"
   ]
  },
  {
   "cell_type": "code",
   "execution_count": null,
   "id": "ff6b8298",
   "metadata": {
    "hidden": true
   },
   "outputs": [],
   "source": [
    "# shuffleex2.py\n",
    "# The shuffle function can be used for re-organizing the elements of any mutable object\n",
    "\n",
    "import random as r\n",
    "\n",
    "import logging\n",
    "\n",
    "logging.basicConfig(filename=\"shuffleex2.log\", level=logging.INFO,\n",
    "                    format='%(levelname)s %(asctime)s %(name)s %(message)s ')\n",
    "\n",
    "logging.info(\"Entering the input mutable object\")\n",
    "l=[10,\"Python\",\"Rossum\",34.56,True]\n",
    "for i in range(1,6):\n",
    "    r.shuffle(l)\n",
    "    logging.info(\"the shuffle output form the entered string is %s\", l)\n"
   ]
  },
  {
   "cell_type": "markdown",
   "id": "69d34826",
   "metadata": {
    "heading_collapsed": true
   },
   "source": [
    "### <font color='#3498DB'>**g) sample()**</font>"
   ]
  },
  {
   "cell_type": "code",
   "execution_count": null,
   "id": "f9f89317",
   "metadata": {
    "hidden": true
   },
   "outputs": [],
   "source": [
    "# sampleex1.py\n",
    "# The sample function can be used for selecting random samples from any Iterable object based on number of samples(+ve)\n",
    "\n",
    "import random as r\n",
    "\n",
    "import logging\n",
    "\n",
    "logging.basicConfig(filename=\"sampleex1.log\", level=logging.INFO,\n",
    "                    format='%(levelname)s %(asctime)s %(name)s %(message)s ')\n",
    "\n",
    "logging.info(\"Entering the input iterable object\")\n",
    "# l = [10, \"Python\", \"Rossum\", 34.56, True]\n",
    "# l=[1,2,3,4,5,6,7,8,9]\n",
    "s=\"askdjfhk;jhsdakjhfkjhsadufhj\"\n",
    "# t=(1,2,3,4,5,6,7,8,9)\n",
    "# d={10:\"cadburry\",20:\"kitkat\",30:\"malkybar\", 40:\"dairymilk\"}\n",
    "# st = {1, 2, 3, 4, 5, 6, 7, 8, 9, 8, 6, 5, 4, 3}\n",
    "try:\n",
    "    for i in range(1, 6):\n",
    "        smpl = r.sample(s, 5)\n",
    "        logging.info(\"the shuffle output form the entered string is %s\", smpl)\n",
    "except TypeError as e:\n",
    "    logging.error(\"Immutable objects cannot be sampled\")\n",
    "    logging.exception(e)\n",
    "except DeprecationWarning as w:\n",
    "    logging.exception(w)\n",
    "    logging.error(\"Sampling from a set deprecated since Python 3.9 and will be removed in a subsequent version.\")\n"
   ]
  }
 ],
 "metadata": {
  "kernelspec": {
   "display_name": "Python 3 (ipykernel)",
   "language": "python",
   "name": "python3"
  },
  "language_info": {
   "codemirror_mode": {
    "name": "ipython",
    "version": 3
   },
   "file_extension": ".py",
   "mimetype": "text/x-python",
   "name": "python",
   "nbconvert_exporter": "python",
   "pygments_lexer": "ipython3",
   "version": "3.9.13"
  }
 },
 "nbformat": 4,
 "nbformat_minor": 5
}
