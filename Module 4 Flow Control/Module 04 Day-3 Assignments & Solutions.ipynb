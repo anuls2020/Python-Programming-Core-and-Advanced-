{
 "cells": [
  {
   "cell_type": "markdown",
   "metadata": {},
   "source": [
    "<font color='#D2691E'>**Qn) Write a python program which will accept any numerical number and decide whether it is prime number or not**</font>"
   ]
  },
  {
   "cell_type": "code",
   "execution_count": 17,
   "metadata": {},
   "outputs": [
    {
     "name": "stdout",
     "output_type": "stream",
     "text": [
      "Enter the number n:6\n",
      "6 is not a prime number\n"
     ]
    }
   ],
   "source": [
    "#primeno1.py\n",
    "n=int(input(\"Enter the number n:\"))\n",
    "if (n<=1):\n",
    "    print(\"{} invalid input\".format(n))\n",
    "else:\n",
    "    result=\"PRIME\"\n",
    "    for i in range(2,n):\n",
    "        if (n%i==0):\n",
    "            result=\"Not Prime\"\n",
    "            break\n",
    "    if (result==\"PRIME\"):\n",
    "        print(\"{} is a prime number\".format(n))\n",
    "    else:    \n",
    "        print(\"{} is not a prime number\".format(n))"
   ]
  },
  {
   "cell_type": "markdown",
   "metadata": {},
   "source": [
    "<font color='#D2691E'>**Qn) Write a python program to generate list of prime numbers using continue statement**</font>"
   ]
  },
  {
   "cell_type": "code",
   "execution_count": 26,
   "metadata": {},
   "outputs": [
    {
     "name": "stdout",
     "output_type": "stream",
     "text": [
      "Enter the number n:10\n",
      "List of prime numbers below 10 is [9]\n"
     ]
    }
   ],
   "source": [
    "#list_of_Primes.py\n",
    "#lst=list()\n",
    "n=int(input(\"Enter the number n:\"))\n",
    "if (n<=1):\n",
    "    print(\"{} is invalid number\")\n",
    "else:\n",
    "    lst=list()\n",
    "    for i in range(2,n):\n",
    "        if (n%i!=0):\n",
    "            continue\n",
    "    lst.append(i)\n",
    "#    else:\n",
    "#        print(\"i'm from else\")\n",
    "print(\"List of prime numbers below {} is {}\".format(n,lst))        "
   ]
  },
  {
   "cell_type": "code",
   "execution_count": 31,
   "metadata": {},
   "outputs": [
    {
     "name": "stdout",
     "output_type": "stream",
     "text": [
      "Enter the number n:10\n",
      "[9]\n"
     ]
    }
   ],
   "source": [
    "#list_of_Primes.py\n",
    "#prime=list()\n",
    "n=int(input(\"Enter the number n:\"))\n",
    "if (n<=1):\n",
    "    print(\"{} is invalid number\")\n",
    "else:\n",
    "    prime=list()\n",
    "    for i in range(2,n):\n",
    "        for j in range(2,int((n/2))+1):\n",
    "            if (i % j) != 0:\n",
    "                continue\n",
    "    prime.append(i)\n",
    "print(prime)              "
   ]
  },
  {
   "cell_type": "code",
   "execution_count": 11,
   "metadata": {},
   "outputs": [
    {
     "name": "stdout",
     "output_type": "stream",
     "text": [
      "Enter lower range: 2\n",
      "Enter upper range: 10\n",
      "2\n",
      "3\n",
      "5\n",
      "7\n"
     ]
    }
   ],
   "source": [
    "#lower = int(input(\"Enter lower range: \"))  \n",
    "#upper = int(input(\"Enter upper range: \"))  \n",
    "n=int(input())  \n",
    "for num in range(2,n):  \n",
    "   if num > 1:  \n",
    "       for i in range(2,num):  \n",
    "           if (num % i) == 0:  \n",
    "               break  \n",
    "       else:  \n",
    "           print(num)  "
   ]
  },
  {
   "cell_type": "code",
   "execution_count": 41,
   "metadata": {},
   "outputs": [
    {
     "name": "stdout",
     "output_type": "stream",
     "text": [
      "[2, 3, 5, 7, 11, 13, 17, 19]\n"
     ]
    }
   ],
   "source": [
    "n = 20\n",
    "primes = []\n",
    "\n",
    "for i in range(2, n + 1):\n",
    "\tfor j in range(2, int(i ** 0.5) + 1):\n",
    " \t\tif i%j == 0:\n",
    " \t\t\tbreak\n",
    "\telse:\n",
    "\t\tprimes.append(i)\n",
    "\n",
    "print(primes)"
   ]
  },
  {
   "cell_type": "code",
   "execution_count": 10,
   "metadata": {},
   "outputs": [
    {
     "data": {
      "text/plain": [
       "5"
      ]
     },
     "execution_count": 10,
     "metadata": {},
     "output_type": "execute_result"
    }
   ],
   "source": [
    "int(16** 0.5)+1"
   ]
  },
  {
   "cell_type": "code",
   "execution_count": 44,
   "metadata": {},
   "outputs": [
    {
     "name": "stdout",
     "output_type": "stream",
     "text": [
      "Enter your number: 20\n",
      "[2, 3, 5, 7, 11, 13, 17, 19]\n"
     ]
    }
   ],
   "source": [
    "print([i for i in range(2, int(input(\"Enter your number: \"))+1) if 0 not in [i%n for n in range(2, i)]])"
   ]
  },
  {
   "cell_type": "code",
   "execution_count": 53,
   "metadata": {},
   "outputs": [
    {
     "ename": "SyntaxError",
     "evalue": "invalid character in identifier (<ipython-input-53-e3fbc7506d10>, line 5)",
     "output_type": "error",
     "traceback": [
      "\u001b[1;36m  File \u001b[1;32m\"<ipython-input-53-e3fbc7506d10>\"\u001b[1;36m, line \u001b[1;32m5\u001b[0m\n\u001b[1;33m    for i in range(2,num):\u001b[0m\n\u001b[1;37m                 ^\u001b[0m\n\u001b[1;31mSyntaxError\u001b[0m\u001b[1;31m:\u001b[0m invalid character in identifier\n"
     ]
    }
   ],
   "source": [
    "lower=int(input(\"Enter lower range:\"))\n",
    "upper=int(input(\"Enter upper range:\"))\n",
    "for num in range(lower,upper + 1):\n",
    "    if num > 1:\n",
    "        for i in range(2,num):\n",
    "            if (num % i) == 0:\n",
    "                break\n",
    "            else:\n",
    "                print(num) "
   ]
  },
  {
   "cell_type": "markdown",
   "metadata": {},
   "source": [
    "<font color='#D2691E'>**Qn) Write a python program to generate \"PYTON\" from the string \"PYTHON\"**</font>"
   ]
  },
  {
   "cell_type": "code",
   "execution_count": 32,
   "metadata": {},
   "outputs": [
    {
     "name": "stdout",
     "output_type": "stream",
     "text": [
      "\tP\n",
      "\tY\n",
      "\tT\n",
      "\tH\n",
      "\tO\n",
      "\tN\n",
      "----------------------------------\n",
      "\tP\n",
      "\tY\n",
      "\tT\n",
      "\tO\n",
      "\tN\n",
      "I'm from else part\n"
     ]
    }
   ],
   "source": [
    "#continue1.py\n",
    "s=\"PYTHON\"\n",
    "for val in s:\n",
    "    print(\"\\t{}\".format(val))\n",
    "\n",
    "print(\"----------------------------------\")\n",
    "\n",
    "# Display only PYTON\n",
    "    \n",
    "for val in s:\n",
    "    if (val==\"H\"):\n",
    "        continue\n",
    "    print(\"\\t{}\".format(val))\n",
    "else:\n",
    "    print(\"I'm from else part\")"
   ]
  },
  {
   "cell_type": "markdown",
   "metadata": {},
   "source": [
    "<font color='#D2691E'>**Qn) Write a python program to generate \"PYTN\" from the string \"PYTHON\"**</font>"
   ]
  },
  {
   "cell_type": "code",
   "execution_count": 38,
   "metadata": {},
   "outputs": [
    {
     "name": "stdout",
     "output_type": "stream",
     "text": [
      "\tP\n",
      "\tY\n",
      "\tT\n",
      "\tH\n",
      "\tO\n",
      "\tN\n",
      "----------------------------------\n",
      "\tP\n",
      "\tY\n",
      "\tH\n",
      "\tN\n",
      "I'm from else part\n"
     ]
    }
   ],
   "source": [
    "#continue2.py\n",
    "s=\"PYTHON\"\n",
    "for val in s:\n",
    "    print(\"\\t{}\".format(val))\n",
    "\n",
    "print(\"----------------------------------\")\n",
    "    \n",
    "#Display PYTHN\n",
    "for val in s:\n",
    "    if((val==\"T\") or (val==\"O\")):\n",
    "        continue\n",
    "    print(\"\\t{}\".format(val))\n",
    "else:\n",
    "    print(\"I'm from else part\")    "
   ]
  },
  {
   "cell_type": "markdown",
   "metadata": {},
   "source": [
    "<font color='#D2691E'>**Qn) Write a python program which will accept list of values form keyboard and retrieve only positive numbers**</font>"
   ]
  },
  {
   "cell_type": "code",
   "execution_count": 47,
   "metadata": {},
   "outputs": [
    {
     "name": "stdout",
     "output_type": "stream",
     "text": [
      "Enter how many numbers you have5\n",
      "Enter the 1 numeric values :-1\n",
      "Enter the 2 numeric values :-2\n",
      "Enter the 3 numeric values :3\n",
      "Enter the 4 numeric values :5\n",
      "Enter the 5 numeric values :0\n",
      "['-1', '-2', '3', '5', '0']\n",
      "3\n",
      "5\n"
     ]
    }
   ],
   "source": [
    "#continue3.py\n",
    "n=int(input(\"Enter how many numbers you have\"))\n",
    "if (n<=0):\n",
    "    print(\"{} is invalid\".format(n))\n",
    "else:\n",
    "    lst=[]\n",
    "    for i in range(1,n+1):\n",
    "        j=input(\"Enter the {} numeric values :\".format(i))\n",
    "        lst.append(j)\n",
    "    print(lst)\n",
    "    for val in lst:\n",
    "        if  (int(val)<=0):\n",
    "            continue\n",
    "        print(val)"
   ]
  },
  {
   "cell_type": "markdown",
   "metadata": {},
   "source": [
    "<font color='#D2691E'>**Qn) Write a python program which will accept the age of a citizen and decide whether eligible for vote or not**</font>\n",
    "\n",
    "> Here we need to create a loop which will execute until the condition become True or false depend on the scenarrio."
   ]
  },
  {
   "cell_type": "code",
   "execution_count": 11,
   "metadata": {},
   "outputs": [
    {
     "name": "stdout",
     "output_type": "stream",
     "text": [
      "Enter the age of the citizen age:101\n",
      "Enter the age of the citizen age:100\n",
      "100 is a valid age for voing\n"
     ]
    }
   ],
   "source": [
    "#citizenvote.py\n",
    "while (True):\n",
    "    age=int(input(\"Enter the age of the citizen age:\"))\n",
    "    if (age>=18) and (age<=100):\n",
    "        break\n",
    "print(\"{} is a valid age for voing\".format(age))"
   ]
  },
  {
   "cell_type": "code",
   "execution_count": null,
   "metadata": {},
   "outputs": [],
   "source": []
  }
 ],
 "metadata": {
  "kernelspec": {
   "display_name": "Python 3 (ipykernel)",
   "language": "python",
   "name": "python3"
  },
  "language_info": {
   "codemirror_mode": {
    "name": "ipython",
    "version": 3
   },
   "file_extension": ".py",
   "mimetype": "text/x-python",
   "name": "python",
   "nbconvert_exporter": "python",
   "pygments_lexer": "ipython3",
   "version": "3.10.0"
  }
 },
 "nbformat": 4,
 "nbformat_minor": 4
}
