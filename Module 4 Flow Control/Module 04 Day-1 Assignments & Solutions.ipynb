{
 "cells": [
  {
   "cell_type": "markdown",
   "metadata": {},
   "source": [
    "<font color='#D2691E'><b>Qn) Write a python program which will generate 1 to n numbers where n can be a positive integer number</b></font>"
   ]
  },
  {
   "cell_type": "code",
   "execution_count": 14,
   "metadata": {},
   "outputs": [
    {
     "name": "stdout",
     "output_type": "stream",
     "text": [
      "Enter how many number you want to print:10\n",
      "_____________________________________________\n",
      "Numbers with in 10\n",
      "_____________________________________________\n",
      "1\n",
      "2\n",
      "3\n",
      "4\n",
      "5\n",
      "6\n",
      "7\n",
      "8\n",
      "9\n",
      "10\n",
      "_____________________________________________\n",
      "Program Execution completed\n"
     ]
    }
   ],
   "source": [
    "#NumGenEx1.py\n",
    "n=int(input(\"Enter how many number you want to print:\")) # -10,0,10\n",
    "print(\"_\"*45)\n",
    "if (n<=0):\n",
    "    print(\"{} is invalid\".format(n))\n",
    "else:\n",
    "    print(\"Numbers within {}\".format(n))\n",
    "    print(\"_\"*45)\n",
    "    i=1               # initilization part\n",
    "    while(i<=n):      # condition check\n",
    "        print(i)      \n",
    "        i+=1          # updation part\n",
    "    else:\n",
    "        print(\"_\"*45)\n",
    "    print(\"Program Execution completed\")"
   ]
  },
  {
   "cell_type": "code",
   "execution_count": 16,
   "metadata": {},
   "outputs": [
    {
     "name": "stdout",
     "output_type": "stream",
     "text": [
      "Enter how many number you want to print:10\n",
      "_____________________________________________\n",
      "Numbers within 10\n",
      "_____________________________________________\n",
      "\t\t1\n",
      "\t\t2\n",
      "\t\t3\n",
      "\t\t4\n",
      "\t\t5\n",
      "\t\t6\n",
      "\t\t7\n",
      "\t\t8\n",
      "\t\t9\n",
      "\t\t10\n",
      "_____________________________________________\n",
      "Program Execution completed\n"
     ]
    }
   ],
   "source": [
    "#NumGenEx2.py\n",
    "n=int(input(\"Enter how many number you want to print:\")) # -10,0,10\n",
    "print(\"_\"*45)\n",
    "if (n<=0):\n",
    "    print(\"{} is invalid\".format(n))\n",
    "else:\n",
    "    print(\"Numbers within {}\".format(n))\n",
    "    print(\"_\"*45)\n",
    "    i=1               # initilization part\n",
    "    while(i<=n):      # condition check\n",
    "        print(\"\\t\\t{}\".format(i))      \n",
    "        i+=1          # updation part\n",
    "    else:\n",
    "        print(\"_\"*45)\n",
    "    print(\"Program Execution completed\")"
   ]
  },
  {
   "cell_type": "markdown",
   "metadata": {},
   "source": [
    "<font color='#D2691E'><b>Qn) Write a python program which will generate \"n\" to 1  numbers where n can be a positive integer number</b></font>"
   ]
  },
  {
   "cell_type": "code",
   "execution_count": 20,
   "metadata": {},
   "outputs": [
    {
     "name": "stdout",
     "output_type": "stream",
     "text": [
      "Enter how many number you want to print:10\n",
      "--------------------------------------------------\n",
      "Numbers within 10\n",
      "--------------------------------------------------\n",
      "\t\t10\n",
      "\t\t9\n",
      "\t\t8\n",
      "\t\t7\n",
      "\t\t6\n",
      "\t\t5\n",
      "\t\t4\n",
      "\t\t3\n",
      "\t\t2\n",
      "\t\t1\n",
      "--------------------------------------------------\n",
      "Program Execution Completed\n"
     ]
    }
   ],
   "source": [
    "#NumGenEx3.py\n",
    "n=int(input(\"Enter how many number you want to print:\"))\n",
    "print(\"-\"*50)\n",
    "if (n<=0):\n",
    "    print(\"{} is invalid\".format(n))\n",
    "else:\n",
    "    print(\"Numbers within {}\".format(n))\n",
    "    print(\"-\"*50)\n",
    "    i=n                                 # initilization part\n",
    "    while (i>=1):                       # Condition Check\n",
    "        print(\"\\t\\t{}\".format(i))\n",
    "        i-=1                            # Updation Part\n",
    "    print(\"-\"*50)\n",
    "    print(\"Program Execution Completed\")"
   ]
  },
  {
   "cell_type": "markdown",
   "metadata": {},
   "source": [
    "<font color='#D2691E'><b>Qn) Write a python program which will print all the even numbers between 1 to n</b></font>"
   ]
  },
  {
   "cell_type": "code",
   "execution_count": 28,
   "metadata": {},
   "outputs": [
    {
     "name": "stdout",
     "output_type": "stream",
     "text": [
      "Enter the value of n:10\n",
      "--------------------------------------------------\n",
      "\t\t2\n",
      "\t\t4\n",
      "\t\t6\n",
      "\t\t8\n",
      "\t\t10\n",
      "--------------------------------------------------\n",
      "Program execution completed\n"
     ]
    }
   ],
   "source": [
    "# EvenNum.py\n",
    "n=int(input(\"Enter the value of n:\"))\n",
    "print(\"-\"*50)\n",
    "if (n<=0):\n",
    "    print(\"{} is not valid\".format(n))\n",
    "else:\n",
    "    i=2\n",
    "    while(i<=n):\n",
    "        print(\"\\t\\t{}\".format(i))\n",
    "        i+=2\n",
    "    else:\n",
    "        print(\"-\"*50)\n",
    "        print(\"Program execution completed\")         "
   ]
  },
  {
   "cell_type": "markdown",
   "metadata": {},
   "source": [
    "<font color='#D2691E'><b>Qn) Write a python program which will print all the odd numbers between 1 to n, where n is a positive ineger value</b></font>"
   ]
  },
  {
   "cell_type": "code",
   "execution_count": 33,
   "metadata": {},
   "outputs": [
    {
     "name": "stdout",
     "output_type": "stream",
     "text": [
      "Enter a Positive Integer Value:9\n",
      "--------------------------------------------------\n",
      "1\n",
      "3\n",
      "5\n",
      "7\n",
      "9\n",
      "--------------------------------------------------\n",
      "Program Execution completed\n"
     ]
    }
   ],
   "source": [
    "# Oddnum.py\n",
    "n=int(input(\"Enter a Positive Integer Value:\"))\n",
    "print(\"-\"*50)\n",
    "if (n<=0):\n",
    "    print(\"{} is not a valid number\".format(n))\n",
    "else:\n",
    "    i=1\n",
    "    while(i<=n):\n",
    "        print(i)\n",
    "        i=i+2\n",
    "    else:\n",
    "        print(\"-\"*50)\n",
    "print(\"Program Execution completed\")        \n"
   ]
  },
  {
   "cell_type": "markdown",
   "metadata": {},
   "source": [
    "<font color='#D2691E'><b>Qn) Write a python program which will generat ethe multiplication table of a given positive integer value</b></font>"
   ]
  },
  {
   "cell_type": "code",
   "execution_count": 37,
   "metadata": {},
   "outputs": [
    {
     "name": "stdout",
     "output_type": "stream",
     "text": [
      "Enter the Number:5\n",
      "1 x 5 = 5\n",
      "2 x 5 = 10\n",
      "3 x 5 = 15\n",
      "4 x 5 = 20\n",
      "5 x 5 = 25\n",
      "6 x 5 = 30\n",
      "7 x 5 = 35\n",
      "8 x 5 = 40\n",
      "9 x 5 = 45\n",
      "10 x 5 = 50\n",
      "--------------------------------------------------\n",
      "Program execution completed\n"
     ]
    }
   ],
   "source": [
    "#multable.py\n",
    "n=int(input(\"Enter the Number:\"))\n",
    "if (n<=0):\n",
    "    print(\"{} is an invalid input\".format(n))\n",
    "else:\n",
    "    i=1\n",
    "    while(i<=10):\n",
    "        print(\"{} x {} = {}\".format(i,n,i*n))\n",
    "        i=i+1\n",
    "    else:\n",
    "        print(\"-\"*50)\n",
    "print(\"Program execution completed\")        "
   ]
  },
  {
   "cell_type": "markdown",
   "metadata": {},
   "source": [
    "<font color='#D2691E'><b>Qn) Write a python program which will generate the sum of first n natiral numbers:</b></font>"
   ]
  },
  {
   "cell_type": "code",
   "execution_count": 4,
   "metadata": {},
   "outputs": [
    {
     "name": "stdout",
     "output_type": "stream",
     "text": [
      "Enter the value of n:10\n",
      "--------------------------------------------------\n",
      "Sum of 10 natural numbersis 55\n",
      "Program execution completed\n"
     ]
    }
   ],
   "source": [
    "#sum of first n natural numbers:\n",
    "#NatNumSum.py\n",
    "n=int(input(\"Enter the value of n:\"))\n",
    "if (n<=0):\n",
    "    print(\"{} is invalid positive integer\".format(n))\n",
    "else:\n",
    "    s=0\n",
    "    i=1\n",
    "    while(i<=n):\n",
    "        s=s+i\n",
    "#         print(s)\n",
    "        i=i+1\n",
    "    else:\n",
    "        print(\"-\"*50)\n",
    "print(f\"Sum of {n} natural numbersis {s}\")                \n",
    "print(\"Program execution completed\")        "
   ]
  },
  {
   "cell_type": "markdown",
   "metadata": {},
   "source": [
    "<font color='#D2691E'><b>Qn) Write a python program which will generate the sum of squares and cubes of first n natiral numbers:</b></font>"
   ]
  },
  {
   "cell_type": "code",
   "execution_count": 9,
   "metadata": {
    "run_control": {
     "marked": false
    }
   },
   "outputs": [
    {
     "name": "stdout",
     "output_type": "stream",
     "text": [
      "Enter the value of n:5\n",
      "--------------------------------------------------\n",
      "\tNat Nums\tSquares\t\tCubes\n",
      "--------------------------------------------------\n",
      "\t1\t\t1\t\t1\n",
      "\t2\t\t4\t\t8\n",
      "\t3\t\t9\t\t27\n",
      "\t4\t\t16\t\t64\n",
      "\t5\t\t25\t\t125\n",
      "--------------------------------------------------\n",
      "\t6\t\t55\t\t225\n",
      "--------------------------------------------------\n",
      "Progeam Execution Completed\n"
     ]
    }
   ],
   "source": [
    "#NatNumSum.py\n",
    "n=int(input(\"Enter the value of n:\"))\n",
    "if (n<=0):\n",
    "    print(\"{} is not a valid number\".format(n))\n",
    "else:\n",
    "    print(\"-\"*50)\n",
    "    print(\"\\tNat Nums\\tSquares\\t\\tCubes\")\n",
    "    print(\"-\"*50)\n",
    "    ss,cs=0,0\n",
    "    i=1\n",
    "    while(i<=n):\n",
    "#         print(\"\\t{}\\t\\t{}\\t\\t{}\".format(i,i**2,i**3))\n",
    "        ss=ss+i**2\n",
    "        cs=cs+i**3  \n",
    "        print(\"\\t{}\\t\\t{}\\t\\t{}\".format(i,i**2,i**3))\n",
    "        i=i+1\n",
    "    else:\n",
    "        print(\"-\"*50)\n",
    "        print(\"\\t{}\\t\\t{}\\t\\t{}\".format(i,ss,cs))\n",
    "        print(\"-\"*50)\n",
    "print(\"Progeam Execution Completed\")        "
   ]
  },
  {
   "cell_type": "markdown",
   "metadata": {},
   "source": [
    "<font color='#D2691E'><b>Qn) Write a python program which will generate the factors of a given number:</b></font>"
   ]
  },
  {
   "cell_type": "code",
   "execution_count": 64,
   "metadata": {
    "scrolled": true
   },
   "outputs": [
    {
     "name": "stdout",
     "output_type": "stream",
     "text": [
      "enter the value of n20\n",
      "--------------------------------------------------\n",
      "Factors of 20\n",
      "--------------------------------------------------\n",
      "1\n",
      "2\n",
      "4\n",
      "5\n",
      "10\n",
      "--------------------------------------------------\n",
      "Program Execution Completed\n"
     ]
    }
   ],
   "source": [
    "#factor.py\n",
    "n=int(input(\"enter the value of n\"))\n",
    "if (n<=0):\n",
    "    print(\"{} is invalid number\")\n",
    "else:\n",
    "    print(\"-\"*50)\n",
    "    print(\"Factors of {}\".format(n))\n",
    "    print(\"-\"*50)\n",
    "    i=1\n",
    "    while(i<=n//2):\n",
    "        if(n%i==0):\n",
    "            print(i)\n",
    "        i=i+1\n",
    "    else:\n",
    "        print(\"-\"*50)\n",
    "print(\"Program Execution Completed\")        "
   ]
  },
  {
   "cell_type": "markdown",
   "metadata": {},
   "source": [
    "<font color='#D2691E'><b>Qn) Write a python program which will find the sum of digits of a given number:</b></font>"
   ]
  },
  {
   "cell_type": "code",
   "execution_count": 90,
   "metadata": {
    "scrolled": true
   },
   "outputs": [
    {
     "name": "stdout",
     "output_type": "stream",
     "text": [
      "Enter the value of n:1234\n",
      "sum of digits of the number 1234 is 10\n"
     ]
    }
   ],
   "source": [
    "#SumOfDigits.py\n",
    "n=int(input(\"Enter the value of n:\"))\n",
    "if (n<=9):\n",
    "    print(\"{} is not a number\".format(n))\n",
    "else:\n",
    "    s=str(n)\n",
    "    l=list(s)\n",
    "    i=0\n",
    "    s=0\n",
    "    while(i<len(l)):\n",
    "        s=s+int(l[i])\n",
    "        i=i+1\n",
    "print(\"sum of digits of the number {} is {}\".format(n,s))"
   ]
  },
  {
   "cell_type": "code",
   "execution_count": 101,
   "metadata": {},
   "outputs": [
    {
     "name": "stdout",
     "output_type": "stream",
     "text": [
      "Enter the value of n:1234\n",
      "--------------------------------------------------\n",
      "sum of digits of the number 1234 is 10\n",
      "--------------------------------------------------\n"
     ]
    }
   ],
   "source": [
    "#SumOfDigits.py\n",
    "n=int(input(\"Enter the value of n:\"))\n",
    "print(\"-\"*50)\n",
    "if (n<=9):\n",
    "    print(\"{} is not a number\".format(n))\n",
    "else:\n",
    "    l=list(str(n))      # Convert number to string and then to list to iterate through each digits in the numbers\n",
    "    i,s=0,0             # Value Initilization\n",
    "    while(i<len(l)):    # Condition Check\n",
    "        s=s+int(l[i])   # Operations\n",
    "        i+=1            # updation\n",
    "print(\"sum of digits of the number {} is {}\".format(n,s))\n",
    "print(\"-\"*50)\n"
   ]
  },
  {
   "cell_type": "markdown",
   "metadata": {},
   "source": [
    "<font color='#D2691E'><b>Qn) Write a python program which will find the sum of digits of a given number using arithematic operations:</b></font>"
   ]
  },
  {
   "cell_type": "code",
   "execution_count": 31,
   "metadata": {},
   "outputs": [
    {
     "name": "stdout",
     "output_type": "stream",
     "text": [
      "Enter the number:1324\n",
      "--------------------------------------------------\n",
      "sum of digits is 10\n",
      "--------------------------------------------------\n"
     ]
    }
   ],
   "source": [
    "#SummOfDigits.py\n",
    "n=int(input(\"Enter the number:\"))\n",
    "if (n<=0):\n",
    "    print(f\"{n} is invalid\")\n",
    "else:\n",
    "    s=0\n",
    "    while(n>0):\n",
    "        d=n%10\n",
    "        s=s+d\n",
    "        n=n//10\n",
    "    else:\n",
    "        print(\"-\"*50)\n",
    "        print(\"sum of digits is {}\".format(s))\n",
    "        print(\"-\"*50)"
   ]
  },
  {
   "cell_type": "code",
   "execution_count": null,
   "metadata": {},
   "outputs": [],
   "source": []
  }
 ],
 "metadata": {
  "kernelspec": {
   "display_name": "Python 3 (ipykernel)",
   "language": "python",
   "name": "python3"
  },
  "language_info": {
   "codemirror_mode": {
    "name": "ipython",
    "version": 3
   },
   "file_extension": ".py",
   "mimetype": "text/x-python",
   "name": "python",
   "nbconvert_exporter": "python",
   "pygments_lexer": "ipython3",
   "version": "3.10.0"
  }
 },
 "nbformat": 4,
 "nbformat_minor": 4
}
