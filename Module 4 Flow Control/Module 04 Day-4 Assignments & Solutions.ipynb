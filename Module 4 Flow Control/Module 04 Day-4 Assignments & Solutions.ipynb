{
 "cells": [
  {
   "cell_type": "markdown",
   "metadata": {},
   "source": [
    "### Inner loop Examples: Most important"
   ]
  },
  {
   "cell_type": "markdown",
   "metadata": {},
   "source": [
    "<font color='#D2691E'>**Qn) Write a python program which will generate multiplication tables for list of values**</font>"
   ]
  },
  {
   "cell_type": "code",
   "execution_count": 4,
   "metadata": {},
   "outputs": [
    {
     "name": "stdout",
     "output_type": "stream",
     "text": [
      "1 x 2 = 2\n",
      "2 x 2 = 4\n",
      "3 x 2 = 6\n",
      "4 x 2 = 8\n",
      "5 x 2 = 10\n",
      "6 x 2 = 12\n",
      "7 x 2 = 14\n",
      "8 x 2 = 16\n",
      "9 x 2 = 18\n",
      "10 x 2 = 20\n",
      "----------------------------\n",
      "1 x 3 = 3\n",
      "2 x 3 = 6\n",
      "3 x 3 = 9\n",
      "4 x 3 = 12\n",
      "5 x 3 = 15\n",
      "6 x 3 = 18\n",
      "7 x 3 = 21\n",
      "8 x 3 = 24\n",
      "9 x 3 = 27\n",
      "10 x 3 = 30\n",
      "----------------------------\n",
      "1 x 4 = 4\n",
      "2 x 4 = 8\n",
      "3 x 4 = 12\n",
      "4 x 4 = 16\n",
      "5 x 4 = 20\n",
      "6 x 4 = 24\n",
      "7 x 4 = 28\n",
      "8 x 4 = 32\n",
      "9 x 4 = 36\n",
      "10 x 4 = 40\n",
      "----------------------------\n"
     ]
    }
   ],
   "source": [
    "#innerloopmultbl.py\n",
    "\n",
    "lst=[2,3,4]\n",
    "for n in lst:\n",
    "    if (n<=1):\n",
    "        print(\"{} is invalid\".format(n))\n",
    "    else:\n",
    "        for i in range(1,11):    \n",
    "            print(\"{} x {} = {}\".format(i,n,i*n))\n",
    "        print(\"----------------------------\")    "
   ]
  },
  {
   "cell_type": "markdown",
   "metadata": {},
   "source": [
    "<font color='#D2691E'>**Qn) Write a python program which will generate multiplication tables for list of values**</font>"
   ]
  },
  {
   "cell_type": "code",
   "execution_count": 16,
   "metadata": {},
   "outputs": [
    {
     "name": "stdout",
     "output_type": "stream",
     "text": [
      "Enter the values of n:3\n",
      "Enter the 1 number: 1\n",
      "Enter the 2 number: 2\n",
      "Enter the 3 number: 3\n",
      "------------------------------\n",
      "The elements in the list:[1, 2, 3]\n",
      "------------------------------\n",
      "1 x 1 = 1\n",
      "2 x 1 = 2\n",
      "3 x 1 = 3\n",
      "4 x 1 = 4\n",
      "5 x 1 = 5\n",
      "6 x 1 = 6\n",
      "7 x 1 = 7\n",
      "8 x 1 = 8\n",
      "9 x 1 = 9\n",
      "10 x 1 = 10\n",
      "------------------------------\n",
      "1 x 2 = 2\n",
      "2 x 2 = 4\n",
      "3 x 2 = 6\n",
      "4 x 2 = 8\n",
      "5 x 2 = 10\n",
      "6 x 2 = 12\n",
      "7 x 2 = 14\n",
      "8 x 2 = 16\n",
      "9 x 2 = 18\n",
      "10 x 2 = 20\n",
      "------------------------------\n",
      "1 x 3 = 3\n",
      "2 x 3 = 6\n",
      "3 x 3 = 9\n",
      "4 x 3 = 12\n",
      "5 x 3 = 15\n",
      "6 x 3 = 18\n",
      "7 x 3 = 21\n",
      "8 x 3 = 24\n",
      "9 x 3 = 27\n",
      "10 x 3 = 30\n",
      "------------------------------\n"
     ]
    }
   ],
   "source": [
    "#innerloop_multbl2.py\n",
    "lst=[]\n",
    "n=int(input(\"Enter the values of n:\"))\n",
    "if (n<=1):\n",
    "    print(\"{} is invalid\")\n",
    "else:\n",
    "    for i in range(1,n+1):\n",
    "        num=int(input(\"Enter the {} number: \".format(i)))\n",
    "        lst.append(num)\n",
    "    print(\"-\"*30)\n",
    "    print(\"The elements in the list:{}\".format(lst))\n",
    "    print(\"-\"*30)\n",
    "    for j in lst:\n",
    "        for k in range(1,11):\n",
    "            print(\"{} x {} = {}\".format(k,j,k*j))\n",
    "        print(\"-\"*30)"
   ]
  },
  {
   "cell_type": "markdown",
   "metadata": {},
   "source": [
    "<font color='#D2691E'>**Qn) Write a python program to demonstrate inner loops using for loop**</font>"
   ]
  },
  {
   "cell_type": "code",
   "execution_count": null,
   "metadata": {},
   "outputs": [],
   "source": [
    "#inner_for_loopdemo.py\n",
    "for i in range(1,6):\n",
    "    print(\"Outer loop execution {} \".format(i))\n",
    "    for j in range(1,4):\n",
    "        print(\"\\tInner loop execution {},{} \".format(i,j))\n",
    "        #print(\"\\t{}\".format(j))\n",
    "    \n",
    "    print(\"-\"*35)"
   ]
  },
  {
   "cell_type": "markdown",
   "metadata": {},
   "source": [
    "<font color='#D2691E'>**Qn) Write a python program to demonstrate inner loops using while loops**</font>"
   ]
  },
  {
   "cell_type": "code",
   "execution_count": 39,
   "metadata": {},
   "outputs": [
    {
     "name": "stdout",
     "output_type": "stream",
     "text": [
      "Outer Loop Execution 1\n",
      "-------------------------------------\n",
      "\tInner loop Execution 1\n",
      "\tInner loop Execution 2\n",
      "\tInner loop Execution 3\n",
      "\t\tI'm out of inner loop\n",
      "-------------------------------------\n",
      "Outer Loop Execution 2\n",
      "-------------------------------------\n",
      "\tInner loop Execution 1\n",
      "\tInner loop Execution 2\n",
      "\tInner loop Execution 3\n",
      "\t\tI'm out of inner loop\n",
      "-------------------------------------\n",
      "Outer Loop Execution 3\n",
      "-------------------------------------\n",
      "\tInner loop Execution 1\n",
      "\tInner loop Execution 2\n",
      "\tInner loop Execution 3\n",
      "\t\tI'm out of inner loop\n",
      "-------------------------------------\n",
      "Outer Loop Execution 4\n",
      "-------------------------------------\n",
      "\tInner loop Execution 1\n",
      "\tInner loop Execution 2\n",
      "\tInner loop Execution 3\n",
      "\t\tI'm out of inner loop\n",
      "-------------------------------------\n",
      "Outer Loop Execution 5\n",
      "-------------------------------------\n",
      "\tInner loop Execution 1\n",
      "\tInner loop Execution 2\n",
      "\tInner loop Execution 3\n",
      "\t\tI'm out of inner loop\n",
      "-------------------------------------\n",
      "I'm out of the loop\n"
     ]
    }
   ],
   "source": [
    "#inner_while_loopdemo.py\n",
    "i=1\n",
    "while (i<6):\n",
    "    print(\"Outer Loop Execution {}\".format(i))\n",
    "    print(\"-------------------------------------\")\n",
    "    j=1\n",
    "    while (j<4):\n",
    "        print(\"\\tInner loop Execution {}\".format(j))\n",
    "        j=j+1\n",
    "    else:\n",
    "        print(\"\\t\\tI'm out of inner loop\")\n",
    "        i=i+1\n",
    "        print(\"-------------------------------------\")\n",
    "else:\n",
    "    print(\"I'm out of the loop\")"
   ]
  },
  {
   "cell_type": "code",
   "execution_count": null,
   "metadata": {},
   "outputs": [],
   "source": []
  }
 ],
 "metadata": {
  "kernelspec": {
   "display_name": "Python 3 (ipykernel)",
   "language": "python",
   "name": "python3"
  },
  "language_info": {
   "codemirror_mode": {
    "name": "ipython",
    "version": 3
   },
   "file_extension": ".py",
   "mimetype": "text/x-python",
   "name": "python",
   "nbconvert_exporter": "python",
   "pygments_lexer": "ipython3",
   "version": "3.10.0"
  }
 },
 "nbformat": 4,
 "nbformat_minor": 4
}
