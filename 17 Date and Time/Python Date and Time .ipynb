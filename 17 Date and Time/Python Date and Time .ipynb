{
 "cells": [
  {
   "cell_type": "markdown",
   "id": "10ca3367",
   "metadata": {},
   "source": [
    "<h1><center>Python Date & TIme</center></h1>"
   ]
  },
  {
   "cell_type": "markdown",
   "id": "5e128060",
   "metadata": {},
   "source": [
    "## Python DateTime module"
   ]
  },
  {
   "cell_type": "markdown",
   "id": "e45dd0cf",
   "metadata": {},
   "source": [
    "* Date and Time are not the data types of their own, instead it is a part of another module called **DateTime**. To work with Date and Time in Python we need to import the module called **DateTime**\n",
    "* **DateTime** is a builtin module of Puthon\n",
    "\n",
    "* Classes for working with date and time are provided by the Python **Datetime** module. Numerous functions that deal with **dates, times, and time spans** are provided by these classes. **Python treats Date and DateTime as objects**, so when you work with them, you're really working with objects rather than strings or timestamps. \n",
    "\n",
    "The <font color='#009900'>**DateTime module**</font> is categorized into <font color='#009900'>**6 main classes**</font> \n",
    "\n",
    "1. <font color='#3498DB'>**Date**</font> – An idealized naive date, assuming the current Gregorian calendar always was, and always will be, in effect. Its attributes are year, month, and day.\n",
    "2. <font color='#3498DB'>**Time**</font> – An idealized time, independent of any particular day, assuming that every day has exactly ```24*60*60``` seconds. Its attributes are hour, minute, second, microsecond, and tzinfo.\n",
    "3. <font color='#3498DB'>**Datetime**</font> – Its a combination of date and time along with the attributes year, month, day, hour, minute, second, microsecond, and tzinfo.\n",
    "4. <font color='#3498DB'>**Timedelta**</font> – A duration expressing the difference between two date, time, or datetime instances to microsecond resolution.\n",
    "5. <font color='#3498DB'>**DateTime.tzinfo()**</font> – It provides time zone information objects.\n",
    "6. <font color='#3498DB'>**DateTime timezone**</font> – A class that implements the tzinfo abstract base class as a fixed offset from the UTC."
   ]
  },
  {
   "cell_type": "markdown",
   "id": "e2b20f34",
   "metadata": {
    "heading_collapsed": true
   },
   "source": [
    "### <font color='#3498DB'>Python Date Class</font>"
   ]
  },
  {
   "cell_type": "markdown",
   "id": "0433b20e",
   "metadata": {
    "hidden": true
   },
   "source": [
    "* The date class is used to instantiate date objects in Python. \n",
    "* When an object of this class is instantiated, it represents a date in the format `YYYY-MM-DD`. \n",
    "* The constructor of this class needs **three mandatory arguments** `year`, `month`, and `date`"
   ]
  },
  {
   "cell_type": "markdown",
   "id": "b3249055",
   "metadata": {
    "hidden": true
   },
   "source": [
    "<div class=\"alert alert-block alert-success\">\n",
    "<b>Python Date class Syntax:</b><br> \n",
    "</div>\n",
    "\n",
    "```python\n",
    "class datetime.date(year, month, day)\n",
    "\n",
    "```"
   ]
  },
  {
   "cell_type": "markdown",
   "id": "0a940a3c",
   "metadata": {
    "hidden": true
   },
   "source": [
    "The arguments must be in the following range –  \n",
    "\n",
    "* MINYEAR <= **year** <= MAXYEAR\n",
    "* 1 <= **month** <= 12\n",
    "* 1 <= **day** <= number of days in the given month and year\n",
    "\n",
    "<div class=\"alert alert-block alert-info\">\n",
    "<b>Tip/Note:</b></br>     \n",
    "If the argument is <b>not an integer</b> it will raise a <b>TypeError</b> and if it is <b>outside the range</b> a <b>ValueError</b> will be raised.\n",
    "</div>"
   ]
  },
  {
   "cell_type": "markdown",
   "id": "df6596c2",
   "metadata": {
    "heading_collapsed": true,
    "hidden": true
   },
   "source": [
    "#### <font color='#009900'>Date object representing data in Python</font>"
   ]
  },
  {
   "cell_type": "markdown",
   "id": "12d4db6b",
   "metadata": {
    "hidden": true
   },
   "source": [
    "Initializing the constructor and passing arguments in the format year, month, and date.\n",
    "\n",
    "**Example 1**\n",
    "\n",
    "```python\n",
    "# DateClassEx1.py\n",
    "from datetime import date\n",
    "\n",
    "my_date = date(1986,8,29)\n",
    "\n",
    "print(\"The date given is {}\".format(my_date))\n",
    "```\n",
    "\n",
    "**Example 2**\n",
    "\n",
    "```python\n",
    "# DateClassEx2.py\n",
    "from datetime import date\n",
    "\n",
    "yy = int(input(\"Enter the year:\"))\n",
    "mm = int(input(\"Enter the month(Range 1-12):\"))\n",
    "dd = int(input(\"Enter the day(Range 1-31):\"))\n",
    "my_date = date(yy,mm,dd)\n",
    "\n",
    "print(\"The date given is {}\".format(my_date))\n",
    "```"
   ]
  },
  {
   "cell_type": "markdown",
   "id": "422c9c73",
   "metadata": {
    "heading_collapsed": true,
    "hidden": true
   },
   "source": [
    "#### <font color='#009900'>Get the Current Date</font>"
   ]
  },
  {
   "cell_type": "markdown",
   "id": "691a5b10",
   "metadata": {
    "hidden": true
   },
   "source": [
    "To return the current local date today() function of the date class is used. today() function comes with several attributes (year, month, and day). These can be printed individually. \n",
    "\n",
    "**Example**\n",
    "```python\n",
    "\n",
    "# DateClassEx3.py\n",
    "# Get the current date\n",
    "\n",
    "from datetime import date\n",
    "\n",
    "today = date.today()\n",
    "\n",
    "print(\"Today's Date is: {}\".format(today))\n",
    "```"
   ]
  },
  {
   "cell_type": "markdown",
   "id": "1f770354",
   "metadata": {
    "heading_collapsed": true,
    "hidden": true
   },
   "source": [
    "#### <font color='#009900'>Get Today’s Year, Month, and Date</font>"
   ]
  },
  {
   "cell_type": "markdown",
   "id": "8ce9f3f9",
   "metadata": {
    "hidden": true
   },
   "source": [
    "**Get Today’s Year, Month, and Date**\n",
    "\n",
    "We can get the year, month, and date attributes from the date object using the year, month and date attribute of the date class."
   ]
  },
  {
   "cell_type": "markdown",
   "id": "61d5b0d3",
   "metadata": {
    "hidden": true
   },
   "source": [
    "**Example**\n",
    "\n",
    "```python\n",
    "# DateClassEx5.py\n",
    "#Get Today’s Year, Month, and Date\n",
    "\n",
    "from datetime import date\n",
    "\n",
    "today = date.today()\n",
    "\n",
    "print(\"Current Year\", today.year)\n",
    "print(\"Current month\", today.month)\n",
    "print(\"Current day\", today.day)\n",
    "```"
   ]
  },
  {
   "cell_type": "markdown",
   "id": "4cc67df3",
   "metadata": {
    "heading_collapsed": true,
    "hidden": true
   },
   "source": [
    "####  <font color='#009900'>Get Date from Timestamp</font>"
   ]
  },
  {
   "cell_type": "markdown",
   "id": "38e73e0c",
   "metadata": {
    "hidden": true
   },
   "source": [
    "We can create date objects from timestamps y=using the fromtimestamp() method. The timestamp is the number of seconds from 1st January 1970 at UTC to a particular date."
   ]
  },
  {
   "cell_type": "markdown",
   "id": "5835c86a",
   "metadata": {
    "hidden": true
   },
   "source": [
    "```python\n",
    "# DateClassEx5.py\n",
    "# Getting the date from the timestamp\n",
    "from datetime import datetime\n",
    "\n",
    "# Getting the date time information from the timestamp\n",
    "date_time = datetime.fromtimestamp(1887639468)\n",
    "print(\"The corresponding tine: {}\".format(date_time))\n",
    "```"
   ]
  },
  {
   "cell_type": "markdown",
   "id": "1f65becd",
   "metadata": {
    "heading_collapsed": true,
    "hidden": true
   },
   "source": [
    "####  <font color='#009900'>Convert Date to String</font>"
   ]
  },
  {
   "cell_type": "markdown",
   "id": "6b8b79b6",
   "metadata": {
    "hidden": true
   },
   "source": [
    "We can convert date object to a string representation using two functions isoformat() and strftime()."
   ]
  },
  {
   "cell_type": "markdown",
   "id": "ea7698e2",
   "metadata": {
    "hidden": true
   },
   "source": [
    "```python\n",
    "# DateClassEx6.py\n",
    "# Convert Date to String\n",
    "\n",
    "from datetime import date\n",
    "\n",
    "today = date.today()\n",
    "\n",
    "# converting the date to string\n",
    "str_date = date.isoformat(today)\n",
    "\n",
    "print(\"String Date \", str_date)\n",
    "print(\"Type of the date\", type(str_date))\n",
    "\n",
    "```"
   ]
  },
  {
   "cell_type": "markdown",
   "id": "f7e35e05",
   "metadata": {},
   "source": [
    "### <font color='#3498DB'>Python Time class</font></h3>\n"
   ]
  },
  {
   "cell_type": "markdown",
   "id": "f059c2fb",
   "metadata": {},
   "source": [
    "* The time class creates the time object which represents local time, independent of any day. "
   ]
  },
  {
   "cell_type": "markdown",
   "id": "762a75a2",
   "metadata": {},
   "source": [
    "<div class=\"alert alert-block alert-success\">\n",
    "<b>Python Date class Syntax:</b><br> \n",
    "</div>\n",
    "\n",
    "```python\n",
    "class datetime.time(hour=0, minute=0, second=0, microsecond=0, tzinfo=None, *, fold=0)\n",
    "```"
   ]
  },
  {
   "cell_type": "markdown",
   "id": "ca85583d",
   "metadata": {},
   "source": [
    "* All the arguments are optional. **tzinfo can be None** otherwise **all the attributes must be integer** in the following range – \n",
    "\n",
    "    - [x] 0 <= hour < 24   \n",
    "    - [x] 0 <= minute < 60\n",
    "    - [x] 0 <= second < 60\n",
    "    - [x] 0 <= microsecond < 1000000\n",
    "    - [x] fold in [0, 1]"
   ]
  },
  {
   "cell_type": "markdown",
   "id": "d110d973",
   "metadata": {
    "heading_collapsed": true
   },
   "source": [
    "#### <font color='#009900'>Time object representing time in Python</font>"
   ]
  },
  {
   "cell_type": "markdown",
   "id": "85031661",
   "metadata": {
    "hidden": true
   },
   "source": [
    "```python\n",
    "# TimeClassEx1.py\n",
    "from datetime import time\n",
    "\n",
    "# Calling the constructor with zero argument\n",
    "my_time = time()\n",
    "\n",
    "print(\"Entered Time with zero argument\", my_time)\n",
    "\n",
    "# Calling the constructor with one argument\n",
    "my_time = time(second = 12)\n",
    "\n",
    "print(\"Entered Time with one argument\", my_time)\n",
    "\n",
    "# Calling the constructor with two argument\n",
    "my_time = time(minute = 30, second = 12)\n",
    "\n",
    "print(\"Entered Time with two argument\", my_time)\n",
    "# Calling the constructor with hr, minute and seconds\n",
    "my_time = time(23, 30, 12)\n",
    "\n",
    "print(\"Entered Time with three argument\", my_time)\n",
    "```"
   ]
  },
  {
   "cell_type": "markdown",
   "id": "57a790d8",
   "metadata": {
    "heading_collapsed": true
   },
   "source": [
    "#### <font color='#009900'>Get hours, minutes, seconds, and microseconds</font>"
   ]
  },
  {
   "cell_type": "markdown",
   "id": "89761e11",
   "metadata": {
    "hidden": true
   },
   "source": [
    "```python\n",
    "# TimeClassEx2.py\n",
    "# Get hours, minutes, seconds, and microseconds\n",
    "\n",
    "from datetime import time\n",
    "\n",
    "Time = time(11, 34, 56)\n",
    "\n",
    "print(\"hour =\", Time.hour)\n",
    "print(\"minute =\", Time.minute)\n",
    "print(\"second =\", Time.second)\n",
    "print(\"microsecond =\", Time.microsecond)\n",
    "```"
   ]
  },
  {
   "cell_type": "markdown",
   "id": "572ceff3",
   "metadata": {
    "heading_collapsed": true
   },
   "source": [
    "#### <font color='#009900'>Convert Time object to String</font>"
   ]
  },
  {
   "cell_type": "markdown",
   "id": "4ae9d24d",
   "metadata": {
    "hidden": true
   },
   "source": [
    "```python\n",
    "# TimeClassEx3.py\n",
    "# Convert Time object to String\n",
    "\n",
    "from datetime import time\n",
    "\n",
    "# Creating Time object\n",
    "Time = time(12, 24, 36, 1212)\n",
    "\n",
    "# Converting Time object to string\n",
    "Str = Time.isoformat()\n",
    "print(\"String Representation:\", Str)\n",
    "print(type(Str))\n",
    "\n",
    "```"
   ]
  },
  {
   "cell_type": "markdown",
   "id": "ae39dcda",
   "metadata": {},
   "source": [
    "### <font color='#3498DB'>Python Datetime class</font>\n"
   ]
  },
  {
   "cell_type": "markdown",
   "id": "bffb4a79",
   "metadata": {},
   "source": [
    "* The DateTime class contains information on both date and time. Like a date object, datetime assumes the current Gregorian calendar extended in both directions; like a time object, datetime assumes there are exactly 3600*24 seconds in every day."
   ]
  },
  {
   "cell_type": "markdown",
   "id": "143a40f5",
   "metadata": {},
   "source": [
    "<div class=\"alert alert-block alert-success\">\n",
    "<b>Python datetime class Syntax:</b><br> \n",
    "</div>\n",
    "\n",
    "```python\n",
    "class datetime.datetime(year, month, day, hour=0, minute=0, second=0, microsecond=0, tzinfo=None, *, fold=0) \n",
    "```"
   ]
  },
  {
   "cell_type": "markdown",
   "id": "7b27f411",
   "metadata": {},
   "source": [
    "* The year, month, and day arguments are mandatory. tzinfo can be None, rest all the attributes must be an integer in the following range –  \n",
    "\n",
    "  - [x] MINYEAR <= year <= MAXYEAR\n",
    "  - [x] 1 <= month <= 12\n",
    "  - [x] 1 <= day <= number of days in the given month and year\n",
    "  - [x] 0 <= hour < 24\n",
    "  - [x] 0 <= minute < 60\n",
    "  - [x] 0 <= second < 60\n",
    "  - [x] 0 <= microsecond < 1000000\n",
    "  - [x] fold in [0, 1]\n",
    "\n",
    "<div class=\"alert alert-block alert-info\">\n",
    "<b>Tip/Note:</b></br> \n",
    "    Passing an argument other than integer will raise a TypeError and passing arguments outside the range will raise ValueError.\n",
    "</div>"
   ]
  },
  {
   "cell_type": "markdown",
   "id": "13f60902",
   "metadata": {},
   "source": [
    "#### <font color='#009900'>DateTime object representing DateTime in Python </font>"
   ]
  },
  {
   "cell_type": "code",
   "execution_count": 1,
   "id": "aa513763",
   "metadata": {},
   "outputs": [
    {
     "name": "stdout",
     "output_type": "stream",
     "text": [
      "1991-08-29 00:00:00\n",
      "1991-08-13 12:35:45.013245\n"
     ]
    }
   ],
   "source": [
    "# DateTimeClass.py\n",
    "\n",
    "from datetime import datetime\n",
    "\n",
    "# Initializing the constructor yyyy,mm,dd\n",
    "a = datetime(1991, 8, 29)\n",
    "print(a)\n",
    "\n",
    "a = datetime(1991, 8, 13, 12, 35, 45, 13245)\n",
    "print(a)"
   ]
  },
  {
   "cell_type": "markdown",
   "id": "14a9332c",
   "metadata": {},
   "source": [
    "#### <font color='#009900'>Get year, month, hour, minute, and timestamp</font>"
   ]
  },
  {
   "cell_type": "code",
   "execution_count": 2,
   "id": "231fe477",
   "metadata": {},
   "outputs": [
    {
     "name": "stdout",
     "output_type": "stream",
     "text": [
      "year = 1991\n",
      "month = 8\n",
      "hour = 12\n",
      "minute = 35\n",
      "timestamp = 682101345.013245\n"
     ]
    }
   ],
   "source": [
    "# DateTimeClassEx2.py\n",
    "\n",
    "from datetime import datetime\n",
    "\n",
    "# Initializing the constructor yyyy,mm,dd\n",
    "a = datetime(1991, 8, 13, 12, 35, 45, 13245)\n",
    "print(\"year =\", a.year)\n",
    "print(\"month =\", a.month)\n",
    "print(\"hour =\", a.hour)\n",
    "print(\"minute =\", a.minute)\n",
    "print(\"timestamp =\", a.timestamp())"
   ]
  },
  {
   "cell_type": "markdown",
   "id": "11b7d6a9",
   "metadata": {},
   "source": [
    "#### <font color='#009900'>Current date and time</font>"
   ]
  },
  {
   "cell_type": "code",
   "execution_count": 3,
   "id": "2cb7206a",
   "metadata": {},
   "outputs": [
    {
     "name": "stdout",
     "output_type": "stream",
     "text": [
      "current date and time 2023-07-21 15:15:35.637418\n"
     ]
    }
   ],
   "source": [
    "# DateTimeClassEx2.py\n",
    "\n",
    "from datetime import datetime\n",
    "\n",
    "# Calling Now Function\n",
    "today = datetime.now()\n",
    "\n",
    "print(\"current date and time\", today)"
   ]
  },
  {
   "cell_type": "markdown",
   "id": "406e4ed8",
   "metadata": {},
   "source": [
    "#### <font color='#009900'>Convert Python Datetime to String</font>"
   ]
  },
  {
   "cell_type": "code",
   "execution_count": 4,
   "id": "1483362a",
   "metadata": {},
   "outputs": [
    {
     "name": "stdout",
     "output_type": "stream",
     "text": [
      "2023-07-21T15:20:28.923750\n",
      "<class 'str'>\n"
     ]
    }
   ],
   "source": [
    "# DateTimeClassEx4.py\n",
    "from datetime import datetime as dt\n",
    "\n",
    "now = dt.now()\n",
    "\n",
    "string = dt.isoformat(now)\n",
    "\n",
    "print(string)\n",
    "print(type(string))\n"
   ]
  },
  {
   "cell_type": "markdown",
   "id": "88375867",
   "metadata": {},
   "source": [
    "### <font color='#3498DB'>Python Timedelta Class</font>\n"
   ]
  },
  {
   "cell_type": "markdown",
   "id": "bf0bd5dc",
   "metadata": {},
   "source": [
    "* Python timedelta class is <font color='#009900'>**used for calculating differences in dates**</font> and also can be <font color='#009900'>**used for date manipulations**</font> in Python. \n",
    "* It is one of the easiest ways to perform date manipulations."
   ]
  },
  {
   "cell_type": "markdown",
   "id": "ac2350a6",
   "metadata": {},
   "source": [
    "<div class=\"alert alert-block alert-success\">\n",
    "<b>Python datetime class Syntax:</b><br> \n",
    "</div>\n",
    "\n",
    "```python\n",
    "class datetime.timedelta(days=0, seconds=0, microseconds=0, milliseconds=0, minutes=0, hours=0, weeks=0)\n",
    "```\n",
    "\n",
    "* Returns : Date "
   ]
  },
  {
   "cell_type": "markdown",
   "id": "b8a8a1d7",
   "metadata": {},
   "source": [
    "#### <font color='#009900'>Add days to DateTime object</font>"
   ]
  },
  {
   "cell_type": "code",
   "execution_count": 5,
   "id": "2f02a52a",
   "metadata": {},
   "outputs": [
    {
     "name": "stdout",
     "output_type": "stream",
     "text": [
      "Current date and time 2023-07-21 15:35:27.257171\n",
      "Future date after 2 days 2023-07-23 15:35:27.257171\n",
      "Future date after 2 Years 2025-07-20 15:35:27.257171\n"
     ]
    }
   ],
   "source": [
    "# TimeDeltaClassEx1.py\n",
    "\n",
    "from datetime import datetime, timedelta\n",
    "\n",
    "current_time = datetime.now()\n",
    "\n",
    "print(\"Current date and time\", current_time)\n",
    "\n",
    "# Calculating the future date\n",
    "\n",
    "Future_date_after_2days = current_time + timedelta(days=2)\n",
    "Future_date_after_2years = current_time + timedelta(days=730)\n",
    "\n",
    "# Printing the future dates\n",
    "\n",
    "print(\"Future date after 2 days\", Future_date_after_2days)\n",
    "print(\"Future date after 2 Years\", Future_date_after_2years)\n",
    "\n"
   ]
  },
  {
   "cell_type": "markdown",
   "id": "5eaf2fd9",
   "metadata": {},
   "source": [
    "#### <font color='#009900'>Difference between two date and times</font>"
   ]
  },
  {
   "cell_type": "code",
   "execution_count": 6,
   "id": "1e9a6976",
   "metadata": {},
   "outputs": [
    {
     "name": "stdout",
     "output_type": "stream",
     "text": [
      "Current Date and Time 2023-07-21 15:41:38.334292\n",
      "Future date 2023-07-23 15:41:38.334292\n",
      "Time Difference 2 days, 0:00:00\n"
     ]
    }
   ],
   "source": [
    "# TimeDeltaClassEx2.py\n",
    "\n",
    "from datetime import datetime, timedelta\n",
    "\n",
    "# Set initial date\n",
    "current_date = datetime.now()\n",
    "\n",
    "print(\"Current Date and Time\", current_date)\n",
    "\n",
    "# Set future date\n",
    "\n",
    "future_date = current_date + timedelta(days=2)\n",
    "\n",
    "print(\"Future date\", future_date)\n",
    "\n",
    "# Difference between the dates\n",
    "print(\"Time Difference\", str(future_date - current_date))\n"
   ]
  },
  {
   "cell_type": "markdown",
   "id": "2210873b",
   "metadata": {},
   "source": [
    "<font color='#009900'>**Format DateTime in Python**</font>\n",
    "\n",
    "Formatting DateTime can be very necessary as the date representation may differ from place to place. In some countries, it can be yyyy-mm-dd and in other countries, it can be dd-mm-yyyy. To format Python Datetime strptime and strftime functions can be used.\n",
    "\n",
    "<font color='#009900'>**Python Datetime strftime**</font>      \n",
    "\n",
    "A strftime() method converts the given date, time, or DateTime object to the string representation of the given format."
   ]
  },
  {
   "cell_type": "markdown",
   "id": "f338b925",
   "metadata": {},
   "source": [
    "#### <font color='#009900'>Python Datetime format, Python program to demonstrate strftime() function</font>"
   ]
  },
  {
   "cell_type": "code",
   "execution_count": 7,
   "id": "96183efe",
   "metadata": {},
   "outputs": [
    {
     "name": "stdout",
     "output_type": "stream",
     "text": [
      "Without formatting 2023-07-21 15:59:40.861115\n",
      "\n",
      "Example 1: Friday 07 2023\n",
      "\n",
      "Example 2: Fri 07 23\n",
      "\n",
      "Example 3: 03 PM 40\n",
      "\n",
      "Example 4: 15:59:40\n"
     ]
    }
   ],
   "source": [
    "# DateTimeFormatEx1.py\n",
    "\n",
    "from datetime import datetime\n",
    "\n",
    "# Getting current date and time\n",
    "now = datetime.now()\n",
    "print(\"Without formatting\", now)\n",
    "\n",
    "# Example 1\n",
    "s = now.strftime(\"%A %m %Y\")\n",
    "print('\\nExample 1:', s)\n",
    "\n",
    "# Example 2\n",
    "s = now.strftime(\"%a %m %y\")\n",
    "print('\\nExample 2:', s)\n",
    "\n",
    "# Example 3\n",
    "s = now.strftime(\"%I %p %S\")\n",
    "print('\\nExample 3:', s)\n",
    "\n",
    "# Example 4\n",
    "s = now.strftime(\"%H:%M:%S\")\n",
    "print('\\nExample 4:', s)\n"
   ]
  },
  {
   "cell_type": "markdown",
   "id": "fb7bd026",
   "metadata": {},
   "source": [
    "<font color='#009900'>**Python DateTime strptime**</font>\n",
    "\n",
    "* The strptime() creates a DateTime object from the given string."
   ]
  },
  {
   "cell_type": "code",
   "execution_count": 8,
   "id": "08dbdcb8",
   "metadata": {},
   "outputs": [
    {
     "name": "stdout",
     "output_type": "stream",
     "text": [
      "1999-05-25 02:35:08.023000\n",
      "1999-05-26 12:45:00.003000\n",
      "1999-05-27 07:35:05.523000\n",
      "1999-05-28 05:15:55.523000\n"
     ]
    }
   ],
   "source": [
    "# import datetime module from datetime\n",
    "from datetime import datetime\n",
    "\n",
    "# consider the time stamps from a list in string\n",
    "# format DD/MM/YY H:M:S.micros\n",
    "time_data = [\"25/05/99 02:35:8.023\", \"26/05/99 12:45:0.003\",\n",
    "             \"27/05/99 07:35:5.523\", \"28/05/99 05:15:55.523\"]\n",
    "\n",
    "# format the string in the given format : day/month/year\n",
    "# hours/minutes/seconds-micro seconds\n",
    "format_data = \"%d/%m/%y %H:%M:%S.%f\"\n",
    "\n",
    "# Using strptime with datetime we will format string\n",
    "# into datetime\n",
    "for i in time_data:\n",
    "    print(datetime.strptime(i, format_data))\n",
    "\n"
   ]
  },
  {
   "cell_type": "markdown",
   "id": "66ddf30f",
   "metadata": {},
   "source": [
    "### <font color='#3498DB'>Python DateTime.tzinfo()</font>\n"
   ]
  },
  {
   "cell_type": "markdown",
   "id": "85caac6e",
   "metadata": {},
   "source": [
    "* The <font color='#009900'>**datetime.now()**</font> function contains no information regarding time zones. \n",
    "* It only makes use of the <font color='#009900'>**current system time.**</font> \n",
    "* <font color='#009900'>**Tzinfo is an abstract base class in Python**</font>. It cannot be directly instantiated. A concrete subclass must derive from this abstract class and implement the methods offered by it. "
   ]
  },
  {
   "cell_type": "code",
   "execution_count": 9,
   "id": "2ae02a0e",
   "metadata": {},
   "outputs": [
    {
     "name": "stdout",
     "output_type": "stream",
     "text": [
      "datetime.now() : Eastern Daylight Time\n",
      "Naive Object : None\n",
      "Aware Object : None\n"
     ]
    }
   ],
   "source": [
    "# tzinfoEx1.py\n",
    "\n",
    "import datetime as dt\n",
    "from dateutil import tz\n",
    "\n",
    "\n",
    "tz_string = dt.datetime.now(dt.timezone.utc).astimezone().tzname()\n",
    "\n",
    "print(\"datetime.now() :\", tz_string)\n",
    "\n",
    "NYC = tz.gettz('Europe / Berlin')\n",
    "dt1 = dt.datetime(2022, 5, 21, 12, 0)\n",
    "dt2 = dt.datetime(2022, 12, 21, 12, 0, tzinfo=NYC)\n",
    "\n",
    "print(\"Naive Object :\", dt1.tzname())\n",
    "print(\"Aware Object :\", dt2.tzname())"
   ]
  },
  {
   "cell_type": "markdown",
   "id": "1e3a1730",
   "metadata": {},
   "source": [
    "### <font color='#3498DB'>Python DateTime timezone</font>"
   ]
  },
  {
   "cell_type": "markdown",
   "id": "5bae3a14",
   "metadata": {},
   "source": [
    "* Timezones in DateTime can be used in the case where one might want to display time according to the timezone of a specific region. This can be done using the pytz module of Python. This module serves the date-time conversion functionalities and helps users serving international client bases."
   ]
  },
  {
   "cell_type": "code",
   "execution_count": 10,
   "id": "fcb26529",
   "metadata": {},
   "outputs": [
    {
     "name": "stdout",
     "output_type": "stream",
     "text": [
      "2023-07-22 01:52:49 UTC+0000\n",
      "2023-07-22 07:22:49 IST+0530\n",
      "2023-07-22 04:52:49 EEST+0300\n",
      "2023-07-21 21:52:49 EDT-0400\n"
     ]
    }
   ],
   "source": [
    "from datetime import datetime\n",
    "from pytz import timezone\n",
    "\n",
    "format = \"%Y-%m-%d %H:%M:%S %Z%z\"\n",
    "\n",
    "# Current time in UTC\n",
    "now_utc = datetime.now(timezone('UTC'))\n",
    "print(now_utc.strftime(format))\n",
    "\n",
    "timezones = ['Asia/Kolkata', 'Europe/Kiev', 'America/New_York']\n",
    "\n",
    "for tzone in timezones:\n",
    "    # Convert to Asia/Kolkata time zone\n",
    "    now_asia = now_utc.astimezone(timezone(tzone))\n",
    "    print(now_asia.strftime(format))\n"
   ]
  },
  {
   "cell_type": "code",
   "execution_count": null,
   "id": "4f1819ac",
   "metadata": {},
   "outputs": [],
   "source": []
  }
 ],
 "metadata": {
  "kernelspec": {
   "display_name": "Python 3 (ipykernel)",
   "language": "python",
   "name": "python3"
  },
  "language_info": {
   "codemirror_mode": {
    "name": "ipython",
    "version": 3
   },
   "file_extension": ".py",
   "mimetype": "text/x-python",
   "name": "python",
   "nbconvert_exporter": "python",
   "pygments_lexer": "ipython3",
   "version": "3.9.16"
  }
 },
 "nbformat": 4,
 "nbformat_minor": 5
}
