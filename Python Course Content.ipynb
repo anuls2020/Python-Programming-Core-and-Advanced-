{
 "cells": [
  {
   "cell_type": "markdown",
   "metadata": {},
   "source": [
    "# <center>Python Course Content</center>"
   ]
  },
  {
   "cell_type": "markdown",
   "metadata": {
    "heading_collapsed": true
   },
   "source": [
    "## Index "
   ]
  },
  {
   "cell_type": "markdown",
   "metadata": {
    "hidden": true
   },
   "source": [
    " 1. <font color='#3498DB'>**Python Training Overview**</font>\n",
    "     * What are the Python Course Pre-requisites\n",
    "     * Objectives of the Course\n",
    "     * Who should do the course\n",
    "     * Python Training Course Duration\n",
    " 2. <font color='#3498DB'>**Python Course Content**</font>\n",
    "    \n",
    "    2.1. <font color='#3498DB'>**Core Python**</font>\n",
    "    * Introduction to Languages\n",
    "    * Introduction to Python\n",
    "    * Python Software’s\n",
    "    * Python Language Fundamentals\n",
    "    * Different Modes of Python\n",
    "    * Python Variables\n",
    "    * Operators\n",
    "    * Input and Output Operators\n",
    "    * Data Structures or Collections\n",
    "        *  List Collection\n",
    "        *  Tuple Collection\n",
    "        *  Set Collection\n",
    "        *  Dictionary Collection\n",
    "    *  Control statements\n",
    "    *  Functions    \n",
    "    2.2. <font color='#3498DB'>**Advanced Python**</font>\n",
    "      * Python Modules\n",
    "      * Packages\n",
    "      * OOPs    \n",
    " 3.<font color='#3498DB'>**NUMPY**</font>\n",
    "    \n",
    " 4.<font color='#3498DB'>**PANDAS**</font>\n"
   ]
  },
  {
   "cell_type": "markdown",
   "metadata": {
    "heading_collapsed": true
   },
   "source": [
    "## 1. Python Training Overview"
   ]
  },
  {
   "cell_type": "markdown",
   "metadata": {
    "hidden": true
   },
   "source": [
    "* What are the Python Course Pre-requisites\n",
    "* Objectives of the Course\n",
    "* Who should do the course\n",
    "* Python Training Course Duration"
   ]
  },
  {
   "cell_type": "markdown",
   "metadata": {},
   "source": [
    "## 2. Python Course Core and Advance"
   ]
  },
  {
   "cell_type": "markdown",
   "metadata": {
    "heading_collapsed": true
   },
   "source": [
    "### 2.1 Core Python"
   ]
  },
  {
   "cell_type": "markdown",
   "metadata": {
    "heading_collapsed": true,
    "hidden": true
   },
   "source": [
    "#### 2.1.1 <font color='#3498DB'>**Introduction to Languages**</font>"
   ]
  },
  {
   "cell_type": "markdown",
   "metadata": {
    "hidden": true
   },
   "source": [
    "* What is Language?\n",
    "* Types of languages\n",
    "* Introduction to Translators\n",
    "    * Compiler\n",
    "    * Interpreter\n",
    "* What is Scripting Language?\n",
    "* Types of Script\n",
    "* Programming Languages v/s Scripting Languages\n",
    "* Difference between Scripting and Programming languages\n",
    "* What is programming paradigm?\n",
    "* Procedural programming paradigm\n",
    "* Object Oriented Programming paradigm"
   ]
  },
  {
   "cell_type": "markdown",
   "metadata": {
    "heading_collapsed": true,
    "hidden": true
   },
   "source": [
    "#### 2.1.2 <font color='#3498DB'>**Introduction to Python**</font>"
   ]
  },
  {
   "cell_type": "markdown",
   "metadata": {
    "hidden": true
   },
   "source": [
    "* What is Python?\n",
    "* WHY PYTHON?\n",
    "* History\n",
    "* Features – Dynamic, Interpreted, Object oriented, Embeddable, Extensible, Large standard libraries, Free and Open source\n",
    "* Why Python is General Language?\n",
    "* Limitations of Python\n",
    "* What is PSF?\n",
    "* Python implementations\n",
    "* Python applications\n",
    "* Python versions\n",
    "* PYTHON IN REALTIME INDUSTRY\n",
    "* Difference between Python 2.x and 3.x\n",
    "* Difference between Python 3.7 and 3.8\n",
    "* Software Development Architectures"
   ]
  },
  {
   "cell_type": "markdown",
   "metadata": {
    "heading_collapsed": true,
    "hidden": true
   },
   "source": [
    "#### 2.1.3 <font color='#3498DB'>**Python Software’s**</font>"
   ]
  },
  {
   "cell_type": "markdown",
   "metadata": {
    "hidden": true
   },
   "source": [
    "* Python Distributions\n",
    "* Download &Python Installation Process in Windows, Unix, Linux and Mac\n",
    "* Online Python IDLE\n",
    "* Python Real-time IDEs like Spyder, Jupyter Note Book, PyCharm, Rodeo, Visual Studio Code, ATOM, PyDevetc"
   ]
  },
  {
   "cell_type": "markdown",
   "metadata": {
    "heading_collapsed": true,
    "hidden": true
   },
   "source": [
    "#### 2.1.4 <font color='#3498DB'>**Python Language Fundamentals**</font>"
   ]
  },
  {
   "cell_type": "markdown",
   "metadata": {
    "hidden": true
   },
   "source": [
    "* Python Implementation Alternatives/Flavors\n",
    "* Keywords\n",
    "* Identifiers\n",
    "* Constants / Literals\n",
    "* Data types\n",
    "* Python VS JAVA\n",
    "* Python Syntax"
   ]
  },
  {
   "cell_type": "markdown",
   "metadata": {
    "heading_collapsed": true,
    "hidden": true
   },
   "source": [
    "#### 2.1.5 <font color='#3498DB'>**Different Modes of Python**</font>"
   ]
  },
  {
   "cell_type": "markdown",
   "metadata": {
    "hidden": true
   },
   "source": [
    "* Interactive Mode\n",
    "* Scripting Mode\n",
    "* Programming Elements\n",
    "* Structure of Python program\n",
    "* First Python Application\n",
    "* Comments in Python\n",
    "* Python file extensions\n",
    "* Setting Path in Windows\n",
    "* Edit and Run python program without IDE\n",
    "* Edit and Run python program using IDEs\n",
    "* INSIDE PYTHON\n",
    "* Programmers View of Interpreter\n",
    "* Inside INTERPRETER\n",
    "* What is Byte Code in PYTHON?\n",
    "* Python Debugger"
   ]
  },
  {
   "cell_type": "markdown",
   "metadata": {
    "heading_collapsed": true,
    "hidden": true
   },
   "source": [
    "#### 2.1.6 <font color='#3498DB'>**Python Variables**</font>"
   ]
  },
  {
   "cell_type": "markdown",
   "metadata": {
    "hidden": true
   },
   "source": [
    "* bytes Data Type\n",
    "* byte array\n",
    "* String Formatting in Python\n",
    "* Math, Random, Secrets Modules\n",
    "* Introduction\n",
    "* Initialization of variables\n",
    "* Local variables\n",
    "* Global variables\n",
    "* ‘global’ keyword\n",
    "* Input and Output operations\n",
    "* Data conversion functions – int(), float(), complex(), str(), chr(), ord()"
   ]
  },
  {
   "cell_type": "markdown",
   "metadata": {
    "heading_collapsed": true,
    "hidden": true
   },
   "source": [
    "#### 2.1.7 <font color='#3498DB'>**Operators**</font>"
   ]
  },
  {
   "cell_type": "markdown",
   "metadata": {
    "hidden": true
   },
   "source": [
    "* Arithmetic Operators\n",
    "* Comparison Operators\n",
    "* Python Assignment Operators\n",
    "* Logical Operators\n",
    "* Bitwise Operators\n",
    "* Shift operators\n",
    "* Membership Operators\n",
    "* Identity Operators\n",
    "* Ternary Operator\n",
    "* Operator precedence\n",
    "* Difference between “is” vs “==”"
   ]
  },
  {
   "cell_type": "markdown",
   "metadata": {
    "heading_collapsed": true,
    "hidden": true
   },
   "source": [
    "#### 2.1.8 <font color='#3498DB'>**Input & Output Operators**</font>"
   ]
  },
  {
   "cell_type": "markdown",
   "metadata": {
    "hidden": true
   },
   "source": [
    "* Print\n",
    "* Input\n",
    "* Command-line arguments"
   ]
  },
  {
   "cell_type": "markdown",
   "metadata": {
    "heading_collapsed": true,
    "hidden": true
   },
   "source": [
    "#### 2.1.9 <font color='#3498DB'>**Control Statements**</font>"
   ]
  },
  {
   "cell_type": "markdown",
   "metadata": {
    "hidden": true
   },
   "source": [
    "* Conditional control statements\n",
    "* If\n",
    "* If-else\n",
    "* If-elif-else\n",
    "* Nested-if\n",
    "* Loop control statements\n",
    "* for\n",
    "* while\n",
    "* Nested loops\n",
    "* Branching statements\n",
    "* Break\n",
    "* Continue\n",
    "* Pass\n",
    "* Return\n",
    "* Case studies"
   ]
  },
  {
   "cell_type": "markdown",
   "metadata": {
    "heading_collapsed": true,
    "hidden": true
   },
   "source": [
    "#### 2.1.10 <font color='#3498DB'>**Data Structures or Collections**</font>"
   ]
  },
  {
   "cell_type": "markdown",
   "metadata": {
    "hidden": true
   },
   "source": [
    "* Introduction\n",
    "* Importance of Data structures\n",
    "* Applications of Data structures\n",
    "* Types of Collections\n",
    "* Sequence\n",
    "* Strings, List, Tuple, range\n",
    "* Non sequence\n",
    "* Set, Frozen set, Dictionary\n",
    "* Strings\n",
    "* What is string\n",
    "* Representation of Strings\n",
    "* Processing elements using indexing\n",
    "* Processing elements using Iterators\n",
    "* Manipulation of String using Indexing and Slicing\n",
    "* String operators\n",
    "* Methods of String object\n",
    "* String Formatting\n",
    "* String functions\n",
    "* String Immutability\n",
    "* Case studies"
   ]
  },
  {
   "cell_type": "markdown",
   "metadata": {
    "heading_collapsed": true,
    "hidden": true
   },
   "source": [
    "##### 2.1.10.1 <font color='#3498DB'>**List Collection**</font>"
   ]
  },
  {
   "cell_type": "markdown",
   "metadata": {
    "hidden": true
   },
   "source": [
    "* What is List\n",
    "* Need of List collection\n",
    "* Different ways of creating List\n",
    "* List comprehension\n",
    "* List indices\n",
    "* Processing elements of List through Indexing and Slicing\n",
    "* List object methods\n",
    "* List is Mutable\n",
    "* Mutable and Immutable elements of List\n",
    "* Nested Lists\n",
    "* List_of_lists\n",
    "* Hardcopy, shallowCopy and DeepCopy\n",
    "* zip() in Python\n",
    "* How to unzip?\n",
    "* Python Arrays:\n",
    "* Case studies"
   ]
  },
  {
   "cell_type": "markdown",
   "metadata": {
    "heading_collapsed": true,
    "hidden": true
   },
   "source": [
    "##### 2.1.10.2 <font color='#3498DB'>**Tuple Collection**</font>"
   ]
  },
  {
   "cell_type": "markdown",
   "metadata": {
    "hidden": true
   },
   "source": [
    "* What is tuple?\n",
    "* Different ways of creating Tuple\n",
    "* Method of Tuple object\n",
    "* Tuple is Immutable\n",
    "* Mutable and Immutable elements of Tuple\n",
    "* Process tuple through Indexing and Slicing\n",
    "* List v/s Tuple\n",
    "* Case studies"
   ]
  },
  {
   "cell_type": "markdown",
   "metadata": {
    "heading_collapsed": true,
    "hidden": true
   },
   "source": [
    "##### 2.1.10.3 <font color='#3498DB'>**Set Collection**</font>"
   ]
  },
  {
   "cell_type": "markdown",
   "metadata": {
    "hidden": true
   },
   "source": [
    "* What is set?\n",
    "* Different ways of creating set\n",
    "* Difference between list and set\n",
    "* Iteration Over Sets\n",
    "* Accessing elements of set\n",
    "* Python Set Methods\n",
    "* Python Set Operations\n",
    "* Union of sets\n",
    "* functions and methods of set\n",
    "* Python Frozen set\n",
    "* Difference between set and frozenset ?\n",
    "* Case study"
   ]
  },
  {
   "cell_type": "markdown",
   "metadata": {
    "heading_collapsed": true,
    "hidden": true
   },
   "source": [
    "##### 2.1.10.4 <font color='#3498DB'>**Dictionary Collection**</font>"
   ]
  },
  {
   "cell_type": "markdown",
   "metadata": {
    "hidden": true
   },
   "source": [
    "* What is dictionary?\n",
    "* Difference between list, set and dictionary\n",
    "* How to create a dictionary?\n",
    "* PYTHON HASHING?\n",
    "* Accessing values of dictionary\n",
    "* Python Dictionary Methods\n",
    "* Copying dictionary\n",
    "* Updating Dictionary\n",
    "* Reading keys from Dictionary\n",
    "* Reading values from Dictionary\n",
    "* Reading items from Dictionary\n",
    "* Delete Keys from the dictionary\n",
    "* Sorting the Dictionary\n",
    "* Python Dictionary Functions and methods\n",
    "* Dictionary comprehension"
   ]
  },
  {
   "cell_type": "markdown",
   "metadata": {
    "heading_collapsed": true,
    "hidden": true
   },
   "source": [
    "#### 2.1.11 <font color='#3498DB'>**Functions**</font>"
   ]
  },
  {
   "cell_type": "markdown",
   "metadata": {
    "hidden": true
   },
   "source": [
    "* What is Function?\n",
    "* Advantages of functions\n",
    "* Syntax and Writing function\n",
    "* Calling or Invoking function\n",
    "* Classification of Functions\n",
    "   * No arguments and No return values\n",
    "   * With arguments and No return values\n",
    "   * With arguments and With return values\n",
    "   * No arguments and With return values\n",
    "   * Recursion\n",
    "* Python argument type functions :\n",
    "   * Default argument functions\n",
    "   * Required(Positional) arguments function\n",
    "   * Keyword arguments function\n",
    "   * Variable arguments functions\n",
    "* ‘pass’ keyword in functions\n",
    "* Lambda functions/Anonymous functions\n",
    "   * map()\n",
    "   * filter()\n",
    "   * reduce()\n",
    "* Nested functions\n",
    "* Non local variables, global variables\n",
    "* Closures\n",
    "* Decorators\n",
    "* Generators\n",
    "* Iterators\n",
    "* Monkey patching"
   ]
  },
  {
   "cell_type": "markdown",
   "metadata": {
    "heading_collapsed": true
   },
   "source": [
    "### 2.2. Advanced Python"
   ]
  },
  {
   "cell_type": "markdown",
   "metadata": {
    "heading_collapsed": true,
    "hidden": true
   },
   "source": [
    "#### 2.2.1. <font color='#3498DB'>**Python Modules**</font> "
   ]
  },
  {
   "cell_type": "markdown",
   "metadata": {
    "hidden": true
   },
   "source": [
    " * Importance of modular programming\n",
    " * What is module\n",
    " * Types of Modules – Pre defined, User defined.\n",
    " * User defined modules creation\n",
    " * Functions based modules\n",
    " * Class based modules\n",
    " * Connecting modules\n",
    " * Import module\n",
    " * From … import\n",
    " * Module alias / Renaming module\n",
    " * Built In properties of module"
   ]
  },
  {
   "cell_type": "markdown",
   "metadata": {
    "heading_collapsed": true,
    "hidden": true
   },
   "source": [
    "#### 2.2.2. <font color='#3498DB'>**Organizing python project into packages**</font>"
   ]
  },
  {
   "cell_type": "markdown",
   "metadata": {
    "hidden": true
   },
   "source": [
    " * Types of packages – pre defined, user defined.\n",
    " * Package v/s Folder\n",
    " * py file\n",
    " * Importing package\n",
    " * PIP\n",
    " * Introduction to PIP\n",
    " * Installing PIP\n",
    " * Installing Python packages\n",
    " * Un installing Python packages"
   ]
  },
  {
   "cell_type": "markdown",
   "metadata": {
    "heading_collapsed": true,
    "hidden": true
   },
   "source": [
    "#### 2.2.3. <font color='#3498DB'>**OOPs**</font>"
   ]
  },
  {
   "cell_type": "markdown",
   "metadata": {
    "hidden": true
   },
   "source": [
    " * Procedural v/s Object oriented programming\n",
    " * Principles of OOP – Encapsulation , Abstraction (Data Hiding)\n",
    " * Classes and Objects\n",
    " * How to define class in python\n",
    " * Types of variables – instance variables, class variables.\n",
    " * Types of methods – instance methods, class method, static method\n",
    " * Object initialization\n",
    " * ‘self’ reference variable\n",
    " * ‘cls’ reference variable\n",
    " * Access modifiers – private(__) , protected(_), public\n",
    " * AT property class\n",
    " * Property() object\n",
    " * Creating object properties using setaltr, getaltr functions\n",
    " * Encapsulation(Data Binding)\n",
    " * What is polymorphism?\n",
    " * Overriding\n",
    "    * i) Method overriding\n",
    "    * ii) Constructor overriding\n",
    " * Overloading\n",
    "    * i) Method Overloading\n",
    "    * ii) Constructor Overloading\n",
    "    * iii)  Operator Overloading"
   ]
  },
  {
   "cell_type": "markdown",
   "metadata": {
    "heading_collapsed": true,
    "hidden": true
   },
   "source": [
    "#### 2.2.4. <font color='#3498DB'>**Python Class**</font>"
   ]
  },
  {
   "cell_type": "markdown",
   "metadata": {
    "hidden": true
   },
   "source": [
    " * Class re-usability\n",
    " * Composition\n",
    " * Aggregation\n",
    " * Inheritance – single , multi level, multiple, hierarchical and hybrid inheritance and Diamond inheritance\n",
    " * Constructors in inheritance\n",
    " * Object class\n",
    " * super()\n",
    " * Runtime polymorphism\n",
    " * Method overriding\n",
    " * Method resolution order(MRO)\n",
    " * Method overriding in Multiple inheritance and Hybrid Inheritance\n",
    " * Duck typing\n",
    " * Concrete Methods in Abstract Base Classes\n",
    " * Difference between Abstraction & Encapsulation\n",
    " * Inner classes\n",
    " * Introduction\n",
    " * Writing inner class\n",
    " * Accessing class level members of inner class\n",
    " * Accessing object level members of inner class\n",
    " * Local inner classes\n",
    " * Complex inner classes\n",
    " * Case studies"
   ]
  },
  {
   "cell_type": "markdown",
   "metadata": {
    "heading_collapsed": true,
    "hidden": true
   },
   "source": [
    "#### 2.2.5. <font color='#3498DB'>**Exception Handling & Types of Errors**</font>"
   ]
  },
  {
   "cell_type": "markdown",
   "metadata": {
    "hidden": true
   },
   "source": [
    " * What is Exception?\n",
    " * Why exception handling?\n",
    " * Syntax error v/s Runtime error\n",
    " * Exception codes – AttributeError, ValueError, IndexError, TypeError…\n",
    "    * Handling exception – try except block\n",
    "    * Try with multi except\n",
    "    * Handling multiple exceptions with single except block\n",
    " * Finally block\n",
    "    * Try-except-finally\n",
    "    * Try with finally\n",
    "    * Case study of finally block\n",
    " * Raise keyword\n",
    "    * Custom exceptions / User defined exceptions\n",
    "    * Need to Custom exceptions\n",
    " * Case studies"
   ]
  },
  {
   "cell_type": "markdown",
   "metadata": {
    "heading_collapsed": true,
    "hidden": true
   },
   "source": [
    "#### 2.2.6. <font color='#3498DB'>**Regular expressions**</font>"
   ]
  },
  {
   "cell_type": "markdown",
   "metadata": {
    "hidden": true
   },
   "source": [
    " * Understanding regular expressions\n",
    " * String v/s Regular expression string\n",
    " * “re” module functions\n",
    " * Match()\n",
    " * Search()\n",
    " * Split()\n",
    " * Findall()\n",
    " * Compile()\n",
    " * Sub()\n",
    " * Subn()\n",
    " * Expressions using operators and symbols\n",
    " * Simple character matches\n",
    " * Special characters\n",
    " * Character classes\n",
    " * Mobile number extraction\n",
    " * Mail extraction\n",
    " * Different Mail ID patterns\n",
    " * Data extraction\n",
    " * Password extraction\n",
    " * URL extraction\n",
    " * Vehicle number extraction\n",
    " * Case study "
   ]
  },
  {
   "cell_type": "markdown",
   "metadata": {
    "heading_collapsed": true,
    "hidden": true
   },
   "source": [
    "#### 2.2.7. <font color='#3498DB'>**File and Directory handling**</font>"
   ]
  },
  {
   "cell_type": "markdown",
   "metadata": {
    "hidden": true
   },
   "source": [
    " * Introduction to files\n",
    " * Opening file\n",
    " * File modes\n",
    " * Reading data from file\n",
    " * Writing data into file\n",
    " * Appending data into file\n",
    " * Line count in File\n",
    " * CSV module\n",
    " * Creating CSV file\n",
    " * Reading from CSV file\n",
    " * Writing into CSV file\n",
    " * Object serialization – pickle module\n",
    " * XML parsing\n",
    " * JSON parsing"
   ]
  },
  {
   "cell_type": "markdown",
   "metadata": {
    "heading_collapsed": true,
    "hidden": true
   },
   "source": [
    "#### 2.2.8. <font color='#3498DB'>**Python Logging**</font>"
   ]
  },
  {
   "cell_type": "markdown",
   "metadata": {
    "hidden": true
   },
   "source": [
    " * Logging Levels\n",
    " * implement Logging\n",
    " * Configure Log File in over writing Mode\n",
    " * Timestamp in the Log Messages\n",
    " * Python Program Exceptions to the Log File\n",
    " * Requirement of Our Own Customized Logger\n",
    " * Features of Customized Logger"
   ]
  },
  {
   "cell_type": "markdown",
   "metadata": {
    "heading_collapsed": true,
    "hidden": true
   },
   "source": [
    "#### 2.2.9. <font color='#3498DB'>**Date & Time module**</font>"
   ]
  },
  {
   "cell_type": "markdown",
   "metadata": {
    "hidden": true
   },
   "source": [
    " * How to use Date & Date Time class\n",
    " * How to use Time Delta object\n",
    " * Formatting Date and Time\n",
    " * Calendar module\n",
    " * Text calendar\n",
    " * HTML calendar"
   ]
  },
  {
   "cell_type": "markdown",
   "metadata": {
    "heading_collapsed": true,
    "hidden": true
   },
   "source": [
    "#### 2.2.10. <font color='#3498DB'>**OS module**</font>"
   ]
  },
  {
   "cell_type": "markdown",
   "metadata": {
    "hidden": true
   },
   "source": [
    " * Shell script commands\n",
    " * Various OS operations in Python\n",
    " * Python file system shell methods\n",
    " * Creating files and directories\n",
    " * Removing files and directories\n",
    " * Shutdown and Restart system\n",
    " * Renaming files and directories\n",
    " * Executing system commands"
   ]
  },
  {
   "cell_type": "markdown",
   "metadata": {
    "heading_collapsed": true,
    "hidden": true
   },
   "source": [
    "#### 2.2.11. <font color='#3498DB'>**Multi-threading and Multi Processing**</font>"
   ]
  },
  {
   "cell_type": "markdown",
   "metadata": {
    "hidden": true
   },
   "source": [
    " * Introduction\n",
    " * Multi tasking v/s Multi threading\n",
    " * Threading module\n",
    " * Creating thread – inheriting Thread class , Using callable object\n",
    " * Life cycle of thread\n",
    " * Single threaded application\n",
    " * Multi threaded application\n",
    " * Can we call run() directly?\n",
    " * Need to start() method\n",
    " * Sleep()\n",
    " * Join()\n",
    " * Synchronization – Lock class – acquire(), release() functions\n",
    " * Case studies"
   ]
  },
  {
   "cell_type": "markdown",
   "metadata": {
    "heading_collapsed": true,
    "hidden": true
   },
   "source": [
    "#### 2.2.12. <font color='#3498DB'>**Garbage collection**</font>"
   ]
  },
  {
   "cell_type": "markdown",
   "metadata": {
    "hidden": true
   },
   "source": [
    " * Introduction\n",
    " * Importance of Manual garbage collection\n",
    " * Self reference objects garbage collection\n",
    " * ‘gc’ module\n",
    " * Collect() method\n",
    " * Threshold function\n",
    " * Case studies"
   ]
  },
  {
   "cell_type": "markdown",
   "metadata": {
    "heading_collapsed": true,
    "hidden": true
   },
   "source": [
    "#### 2.2.13. <font color='#3498DB'>**Python Data Base Communications(PDBC)**</font>"
   ]
  },
  {
   "cell_type": "markdown",
   "metadata": {
    "hidden": true
   },
   "source": [
    " * Introduction to DBMS applications\n",
    " * File system v/s DBMS\n",
    " * Communicating with MySQL\n",
    " * Python – MySQL connector\n",
    " * connector module\n",
    " * connect() method\n",
    " * Oracle Database\n",
    " * Install cx_Oracle\n",
    " * Cursor Object methods\n",
    " * execute() method\n",
    " * executeMany() method\n",
    " * fetchone()\n",
    " * fetchmany()\n",
    " * fetchall()\n",
    " * Static queries v/s Dynamic queries\n",
    " * Transaction management\n",
    " * Case studies"
   ]
  },
  {
   "cell_type": "markdown",
   "metadata": {
    "heading_collapsed": true,
    "hidden": true
   },
   "source": [
    "#### 2.2.14. <font color='#3498DB'>**Python – Network Programming**</font>"
   ]
  },
  {
   "cell_type": "markdown",
   "metadata": {
    "hidden": true
   },
   "source": [
    " * What is Sockets?\n",
    " * What is Socket Programming?\n",
    " * The socket Module\n",
    " * Server Socket Methods\n",
    " * Connecting to a server\n",
    " * A simple server-client program\n",
    " * Server\n",
    " * Client"
   ]
  },
  {
   "cell_type": "markdown",
   "metadata": {
    "heading_collapsed": true,
    "hidden": true
   },
   "source": [
    "#### 2.2.15. <font color='#3498DB'>**Tkinter & Turtle**</font>"
   ]
  },
  {
   "cell_type": "markdown",
   "metadata": {
    "hidden": true
   },
   "source": [
    " * Introduction to GUI programming\n",
    " * Tkinter module\n",
    " * Tk class\n",
    " * Components / Widgets\n",
    " * Label , Entry , Button , Combo, Radio\n",
    " * Types of Layouts\n",
    " * Handling events\n",
    " * Widgets properties\n",
    " * Case studies"
   ]
  },
  {
   "cell_type": "markdown",
   "metadata": {
    "heading_collapsed": true,
    "hidden": true
   },
   "source": [
    "#### 2.2.16. <font color='#3498DB'>**Data analytics modules**</font>"
   ]
  },
  {
   "cell_type": "markdown",
   "metadata": {
    "hidden": true
   },
   "source": [
    " * Numpy\n",
    " * Introduction\n",
    " * Scipy\n",
    " * Introduction\n",
    " * Arrays\n",
    " * Datatypes\n",
    " * Matrices\n",
    " * N dimension arrays\n",
    " * Indexing and Slicing\n",
    " * Pandas\n",
    " * Introduction\n",
    " * Data Frames\n",
    " * Merge , Join, Concat\n",
    " * MatPlotLib introduction\n",
    " * Drawing plots\n",
    " * Introduction to Machine learning\n",
    " * Types of Machine Learning?\n",
    " * Introduction to Data science"
   ]
  },
  {
   "cell_type": "markdown",
   "metadata": {
    "heading_collapsed": true,
    "hidden": true
   },
   "source": [
    "#### 2.2.17. <font color='#3498DB'>**DJANGO**</font>"
   ]
  },
  {
   "cell_type": "markdown",
   "metadata": {
    "hidden": true
   },
   "source": [
    " * Introduction to PYTHON Django\n",
    " * What is Web framework?\n",
    " * Why Frameworks?\n",
    " * Define MVT Design Pattern\n",
    " * Difference between MVC and MVT"
   ]
  },
  {
   "cell_type": "markdown",
   "metadata": {
    "heading_collapsed": true
   },
   "source": [
    "## 3. Numpy"
   ]
  },
  {
   "cell_type": "markdown",
   "metadata": {
    "hidden": true
   },
   "source": [
    "1. <font color='#3498DB'>**NUMPY − INTRODUCTION**</font>\n",
    "\n",
    "2. <font color='#3498DB'>**NUMPY − ENVIRONMENT**</font>\n",
    "\n",
    "3. <font color='#3498DB'>**NUMPY − NDARRAY OBJECT**</font>\n",
    "\n",
    "4. <font color='#3498DB'>**NUMPY − DATA TYPES**</font>\n",
    "\n",
    "      * Data Type Objects (dtype)\n",
    "\n",
    "5. <font color='#3498DB'>**NUMPY − ARRAY ATTRIBUTES**</font>\n",
    "\n",
    "      * shape\n",
    "      * ndim\n",
    "      * itemsize\n",
    "      * flags\n",
    "\n",
    "6. <font color='#3498DB'>**NUMPY − ARRAY CREATION ROUTINES**</font>\n",
    "\n",
    "      * empty\n",
    "      * zeros\n",
    "      * ones\n",
    "\n",
    "7. <font color='#3498DB'>**NUMPY − ARRAY FROM EXISTING DATA**</font>\n",
    "\n",
    "      * asarray\n",
    "      * frombuffer\n",
    "      * fromiter\n",
    "\n",
    "8. <font color='#3498DB'>**NUMPY − ARRAY FROM NUMERICAL RANGES**</font>\n",
    "\n",
    "      * arange\n",
    "      * linspace\n",
    "      * logspace\n",
    "\n",
    "9. <font color='#3498DB'>**NUMPY − INDEXING & SLICING**</font>\n",
    "\n",
    "10. <font color='#3498DB'>**NUMPY − ADVANCED INDEXING**</font>\n",
    "\n",
    "       * Integer Indexing\n",
    "       * Boolean Array Indexing\n",
    "\n",
    "11. <font color='#3498DB'>**NUMPY − BROADCASTING**</font>\n",
    "\n",
    "12. <font color='#3498DB'>**NUMPY − ITERATING OVER ARRAY**</font>\n",
    "\n",
    "       * Iteration\n",
    "       * Order\n",
    "       * Modifying Array Values\n",
    "       * External Loop\n",
    "       * Broadcasting Iteration\n",
    "\n",
    "13. <font color='#3498DB'>**NUMPY – ARRAY MANIPULATION**</font>\n",
    "\n",
    "       * reshape\n",
    "       * ndarray.flat\n",
    "       * ndarray.flatten\n",
    "       * ravel\n",
    "       * transpose\n",
    "       * ndarray.T\n",
    "       * swapaxes\n",
    "       * rollaxis\n",
    "       * broadcast\n",
    "       * broadcast_to\n",
    "       * expand_dims\n",
    "       * squeeze\n",
    "       * concatenate\n",
    "       * stack\n",
    "       * hstack and numpy.vstack\n",
    "       * split\n",
    "       * hsplit and numpy.vsplit\n",
    "       * resize\n",
    "       * append\n",
    "       * insert\n",
    "       * delete\n",
    "       * unique\n",
    "\n",
    "14. <font color='#3498DB'>**NUMPY – BINARY OPERATORS**</font>\n",
    "\n",
    "       * bitwise_and\n",
    "       * bitwise_or\n",
    "       * invert()\n",
    "       * left_shift\n",
    "       * right_shift\n",
    "\n",
    "15. <font color='#3498DB'>**NUMPY − STRING FUNCTIONS**</font>\n",
    "\n",
    "16. <font color='#3498DB'>**NUMPY − MATHEMATICAL FUNCTIONS**</font>\n",
    "\n",
    "       * Trigonometric Functions\n",
    "       * Functions for Rounding\n",
    "\n",
    "17. <font color='#3498DB'>**NUMPY − ARITHMETIC OPERATIONS**</font>\n",
    "\n",
    "       * reciprocal()\n",
    "       * power()\n",
    "       * mod()\n",
    "\n",
    "18. <font color='#3498DB'>**NUMPY − STATISTICAL FUNCTIONS**</font>\n",
    "\n",
    "       * amin() and numpy.amax()\n",
    "       * ptp()\n",
    "       * percentile()\n",
    "       * median()\n",
    "       * mean()\n",
    "       * average()\n",
    "       * Standard Deviation\n",
    "       * Variance\n",
    "\n",
    "19. <font color='#3498DB'>**NUMPY − SORT, SEARCH & COUNTING FUNCTIONS**</font>\n",
    "\n",
    "       * sort()\n",
    "       * argsort()\n",
    "       * lexsort()\n",
    "       * argmax() and numpy.argmin()\n",
    "       * nonzero()\n",
    "       * where()\n",
    "       * extract()\n",
    "\n",
    "20. <font color='#3498DB'>**NUMPY − BYTE SWAPPING**</font>\n",
    "\n",
    "       * ndarray.byteswap()\n",
    "\n",
    "21. <font color='#3498DB'>**NUMPY − COPIES & VIEWS**</font>\n",
    "\n",
    "       * No Copy\n",
    "       * View or Shallow Copy\n",
    "       * Deep Copy\n",
    "\n",
    "22. <font color='#3498DB'>**NUMPY − MATRIX LIBRARY**</font>\n",
    "\n",
    "       * empty()\n",
    "       * matlib.zeros()\n",
    "       * matlib.ones()\n",
    "       * matlib.eye()\n",
    "       * matlib.identity()\n",
    "       * matlib.rand()\n",
    "\n",
    "23. <font color='#3498DB'>**NUMPY − LINEAR ALGEBRA**</font>\n",
    "\n",
    "       * dot()\n",
    "       * vdot()\n",
    "       * inner()\n",
    "       * matmul()\n",
    "       * Determinant\n",
    "       * linalg.solve()\n",
    "\n",
    "24. <font color='#3498DB'>**NUMPY − MATPLOTLIB**</font>\n",
    "\n",
    "       * Sine Wave Plot\n",
    "       * subplot()\n",
    "       * bar()\n",
    "\n",
    "25. <font color='#3498DB'>**NUMPY – HISTOGRAM USING MATPLOTLIB**</font>\n",
    "\n",
    "       * histogram()\n",
    "       * plt()\n",
    "\n",
    "26. <font color='#3498DB'>**NUMPY − I/O WITH NUMPY**</font>\n",
    "\n",
    "       * save()\n",
    "       * savetxt()"
   ]
  },
  {
   "cell_type": "markdown",
   "metadata": {
    "heading_collapsed": true
   },
   "source": [
    "## 4. Pandas"
   ]
  },
  {
   "cell_type": "markdown",
   "metadata": {
    "hidden": true
   },
   "source": [
    "1. <font color='#3498DB'>**Pandas – Introduction**</font>\n",
    "\n",
    "2. <font color='#3498DB'>**Pandas – Environment Setup**</font>\n",
    "\n",
    "3. <font color='#3498DB'>**Pandas – Introduction to Data Structures**</font>\n",
    "\n",
    "    * Dimension & Description\n",
    "    * Series\n",
    "    * DataFrame\n",
    "    * Data Type of Columns\n",
    "    * Panel\n",
    "\n",
    "4. <font color='#3498DB'>**Pandas — Series**</font>\n",
    "\n",
    "    * Series\n",
    "    * Create an Empty Series\n",
    "    * Create a Series f\n",
    "    * rom ndarray\n",
    "    * rom dict\n",
    "    * rom Scalar\n",
    "    * Accessing Data from Series with Position\n",
    "    * Retrieve Data Using Label (Index)\n",
    "\n",
    "5. <font color='#3498DB'>**Pandas – DataFrame**</font>\n",
    "\n",
    "    * DataFrame\n",
    "    * Create DataFrame\n",
    "    * Create an Empty DataFrame\n",
    "    * Create a DataFrame from Lists\n",
    "    * Create a DataFrame from Dict of ndarrays / Lists\n",
    "    * Create a DataFrame from List of Dicts\n",
    "    * Create a DataFrame from Dict of Series\n",
    "    * Column Selection\n",
    "    * Column Addition\n",
    "    * Column Deletion\n",
    "    * Row Selection, Addition, and Deletion\n",
    "\n",
    "6. <font color='#3498DB'>**Pandas – Panel**</font>\n",
    "\n",
    "    * Panel()\n",
    "    * Create Panel\n",
    "    * Selecting the Data from Panel\n",
    "\n",
    "7. <font color='#3498DB'>**Pandas – Basic Functionality**</font>\n",
    "\n",
    "    * DataFrame Basic Functionality\n",
    "\n",
    "8. <font color='#3498DB'>**Pandas – Descriptive Statistics**</font>\n",
    "\n",
    "    * Functions & Description\n",
    "    * Summarizing Data\n",
    "\n",
    "9. <font color='#3498DB'>**Pandas – Function Application**</font>\n",
    "\n",
    "    * Table-wise Function Application\n",
    "    * Row or Column Wise Function Application\n",
    "    * Element Wise Function Application\n",
    "\n",
    "10. <font color='#3498DB'>**Pandas – Reindexing**</font>\n",
    "\n",
    "    * Reindex to Align with Other Objects\n",
    "    * Filling while ReIndexing\n",
    "    * Limits on Filling while Reindexing\n",
    "    * Renaming\n",
    "\n",
    "11. <font color='#3498DB'>**Pandas – Iteration**</font>\n",
    "\n",
    "    * Iterating a DataFrame\n",
    "    * iteritems()\n",
    "    * iterrows()\n",
    "    * itertuples()\n",
    "\n",
    "12. <font color='#3498DB'>**Pandas – Sorting**</font>\n",
    "\n",
    "    * By Label\n",
    "    * Sorting Algorithm\n",
    "\n",
    "13. <font color='#3498DB'>**Pandas – Working with Text Data**</font>\n",
    "\n",
    "14. <font color='#3498DB'>**Pandas – Options and Customization**</font>\n",
    "\n",
    "    * get_option(param)\n",
    "    * set_option(param,value)\n",
    "    * reset_option(param)\n",
    "    * describe_option(param)\n",
    "    * option_context()\n",
    "\n",
    "15. <font color='#3498DB'>**Pandas – Indexing and Selecting Data**</font>\n",
    "\n",
    "    * .loc()\n",
    "    * .iloc()\n",
    "    * .ix()\n",
    "    * Use of Notations\n",
    "\n",
    "16. <font color='#3498DB'>**Pandas – Statistical Functions**</font>\n",
    "\n",
    "    * Percent_change\n",
    "    * Covariance\n",
    "    * Correlation\n",
    "    * Data Ranking\n",
    "\n",
    "17. <font color='#3498DB'>**Pandas – Window Functions**</font>\n",
    "\n",
    "    * .rolling() Function\n",
    "    * .expanding() Function\n",
    "    * .ewm() Function\n",
    "\n",
    "18. <font color='#3498DB'>**Pandas – Aggregations**</font>\n",
    "\n",
    "    * Applying Aggregations on DataFrame\n",
    "\n",
    "19. <font color='#3498DB'>**Pandas – Missing Data**</font>\n",
    "\n",
    "    * Cleaning / Filling Missing Data\n",
    "    * Replace NaN with a Scalar Value\n",
    "    * Fill NA Forward and Backward\n",
    "    * Drop Missing Values\n",
    "    * Replace Missing (or) Generic Values\n",
    "\n",
    "20. <font color='#3498DB'>**Pandas – GroupBy**</font>\n",
    "\n",
    "    * Split Data into Groups\n",
    "    * View Groups\n",
    "    * Iterating through Groups\n",
    "    * Select a Group\n",
    "    * Aggregations\n",
    "    * Transformations\n",
    "    * Filtration\n",
    "\n",
    "21. <font color='#3498DB'>**Pandas – Merging/Joining**</font>\n",
    "\n",
    "    * Merge Using ‘how’ Argument\n",
    "\n",
    "22. <font color='#3498DB'>**Pandas – Concatenation**</font>\n",
    "\n",
    "    * Concatenating Objects\n",
    "    * Time Series\n",
    "\n",
    "23. <font color='#3498DB'>**Pandas – Date Functionality**</font>\n",
    "\n",
    "24. <font color='#3498DB'>**Pandas – Timedelta**</font>\n",
    "\n",
    "25. <font color='#3498DB'>**Pandas – Categorical Data**</font>\n",
    "\n",
    "    * Object Creation\n",
    "\n",
    "26. <font color='#3498DB'>**Pandas – Visualization**</font>\n",
    "\n",
    "    * Bar Plot\n",
    "    * Histograms\n",
    "    * Box Plots\n",
    "    * Area Plot\n",
    "    * Scatter Plot\n",
    "    * Pie Chart\n",
    "\n",
    "27. <font color='#3498DB'>**Pandas – IO Tools**</font>\n",
    "\n",
    "    * csv\n",
    "\n",
    "28. <font color='#3498DB'>**Pandas – Sparse Data**</font>\n",
    "\n",
    "29. <font color='#3498DB'>**Pandas – Caveats & Gotchas**</font>\n",
    "\n",
    "30. <font color='#3498DB'>**Pandas – Comparison with SQL**</font>"
   ]
  },
  {
   "cell_type": "markdown",
   "metadata": {
    "hidden": true
   },
   "source": [
    "---\n",
    "<p>&#x274E;&#x274E;&#x274E;&#x274E;&#x274E;&#x274E;&#x274E;&#x274E;&#x274E;&#x274E;&#x274E;&#x274E;&#x274E;&#x274E;&#x274E;&#x274E;&#x274E;&#x274E;&#x274E;&#x274E;&#x274E;&#x274E;&#x274E;&#x274E;&#x274E;&#x274E;&#x274E;&#x274E;&#x274E;&#x274E;&#x274E;&#x274E;&#x274E;&#x274E;&#x274E;&#x274E;&#x274E;&#x274E;&#x274E;&#x274E;&#x274E;&#x274E;&#x274E;&#x274E;&#x274E;&#x274E;&#x274E;&#x274E;&#x274E;&#x274E;</p>\n",
    "\n",
    "---"
   ]
  }
 ],
 "metadata": {
  "kernelspec": {
   "display_name": "Python 3",
   "language": "python",
   "name": "python3"
  },
  "language_info": {
   "codemirror_mode": {
    "name": "ipython",
    "version": 3
   },
   "file_extension": ".py",
   "mimetype": "text/x-python",
   "name": "python",
   "nbconvert_exporter": "python",
   "pygments_lexer": "ipython3",
   "version": "3.8.5"
  }
 },
 "nbformat": 4,
 "nbformat_minor": 4
}
