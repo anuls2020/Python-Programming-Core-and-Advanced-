{
 "cells": [
  {
   "cell_type": "markdown",
   "metadata": {},
   "source": [
    "<font color='#D2691E'><b>Qn) Write a python program which will generate the following sequence - 10,12,14,16,18,20</b></font>"
   ]
  },
  {
   "cell_type": "code",
   "execution_count": 6,
   "metadata": {},
   "outputs": [
    {
     "name": "stdout",
     "output_type": "stream",
     "text": [
      "print Value of i =10\n",
      "print Value of i =12\n",
      "print Value of i =14\n",
      "print Value of i =16\n",
      "print Value of i =18\n",
      "print Value of i =20\n",
      "------------------------------\n",
      "I'm from else block\n",
      "------------------------------\n",
      "Progran execution completed\n",
      "------------------------------\n"
     ]
    }
   ],
   "source": [
    "#SeqGenFor.py\n",
    "for n in range(10,21,2):\n",
    "    print(\"print Value of i ={}\".format(n))\n",
    "else:\n",
    "    print(\"-\"*30)\n",
    "    print(\"I'm from else block\")\n",
    "print(\"-\"*30)\n",
    "print(\"Progran execution completed\")\n",
    "print(\"-\"*30)\n"
   ]
  },
  {
   "cell_type": "markdown",
   "metadata": {},
   "source": [
    "<font color='#D2691E'><b>Qn) Write a python program which will accept a numeric positive integervalue and generate a multiplication teble using for loop</b></font>"
   ]
  },
  {
   "cell_type": "code",
   "execution_count": 1,
   "metadata": {},
   "outputs": [
    {
     "name": "stdout",
     "output_type": "stream",
     "text": [
      "Enter the value of n:9\n",
      "------------------------------\n",
      "9 x 1 = 9\n",
      "9 x 2 = 18\n",
      "9 x 3 = 27\n",
      "9 x 4 = 36\n",
      "9 x 5 = 45\n",
      "9 x 6 = 54\n",
      "9 x 7 = 63\n",
      "9 x 8 = 72\n",
      "9 x 9 = 81\n",
      "9 x 10 = 90\n",
      "------------------------------\n",
      "Program execution completed\n"
     ]
    }
   ],
   "source": [
    "#forMulTable.py\n",
    "n=int(input(\"Enter the value of n:\"))\n",
    "print(\"-\"*30)\n",
    "if (n<=0):\n",
    "    print(\"{} is invalid\")\n",
    "else:\n",
    "    for i in range(1,11):\n",
    "        print(\"{} x {} = {}\".format(n,i, n*i))\n",
    "    else:\n",
    "        print(\"-\"*30)\n",
    "print(\"Program execution completed\")"
   ]
  },
  {
   "cell_type": "markdown",
   "metadata": {},
   "source": [
    "<font color='#D2691E'><b>Qn) Write a python program which will find the sum of the digits of a given number using for loop</b></font>"
   ]
  },
  {
   "cell_type": "code",
   "execution_count": 34,
   "metadata": {},
   "outputs": [
    {
     "name": "stdout",
     "output_type": "stream",
     "text": [
      "Enter the number n:1234\n",
      "------------------------------\n",
      "sum of digits of the number (1234) is 10 \n"
     ]
    }
   ],
   "source": [
    "#sumfodigit_for_ex1.py\n",
    "n=str(input(\"Enter the number n:\"))\n",
    "print(\"-\"*30)\n",
    "#print(n, type(n))\n",
    "s=0\n",
    "for x in n:\n",
    "    #print(x, type(x))\n",
    "    s=s+int(x)\n",
    "    \n",
    "print(\"sum of digits of the number ({}) is {} \".format(n,s))"
   ]
  },
  {
   "cell_type": "code",
   "execution_count": 36,
   "metadata": {},
   "outputs": [
    {
     "name": "stdout",
     "output_type": "stream",
     "text": [
      "Enter a number:1234\n",
      "Sum of Digits of (1234) is: 10\n"
     ]
    }
   ],
   "source": [
    "#sumfodigit_for_ex2.py\n",
    "s=0\n",
    "n=input(\"Enter a number:\")\n",
    "for i in n:\n",
    "    x=int(i)\n",
    "    s=s+x\n",
    "else:    \n",
    "    print(\"Sum of Digits of ({}) is: {}\".format(n,s))"
   ]
  },
  {
   "cell_type": "code",
   "execution_count": 37,
   "metadata": {},
   "outputs": [
    {
     "name": "stdout",
     "output_type": "stream",
     "text": [
      "Enter a number:1324\n",
      "1\n",
      "3\n",
      "2\n",
      "4\n"
     ]
    }
   ],
   "source": [
    "n=input(\"Enter a number:\")\n",
    "for i in n:\n",
    "    print(i)"
   ]
  },
  {
   "cell_type": "markdown",
   "metadata": {},
   "source": [
    "<font color='#D2691E'><b>Qn) Write a python program which will accept list of values and put them in a list. Find sum and average of list of values</b></font>"
   ]
  },
  {
   "cell_type": "code",
   "execution_count": 65,
   "metadata": {},
   "outputs": [
    {
     "name": "stdout",
     "output_type": "stream",
     "text": [
      "Enter How Many numbers u have:2\n",
      "Enter 1 value: 3\n",
      "Enter 2 value: 5\n",
      "------------------------------\n",
      "Content of list [3.0, 5.0]\n",
      "Sum = 8.0\n",
      "Avg = 4.0\n",
      "Completed\n"
     ]
    }
   ],
   "source": [
    "#Sum_Avg_list.py\n",
    "n=int(input(\"Enter How Many numbers u have:\"))\n",
    "if(n<=0):\n",
    "    print(\"{} is invalid input:\".format(n))\n",
    "else:\n",
    "    l=list()     # create empty list\n",
    "    for i in range(1, n+1):\n",
    "        val=float(input(\"Enter {} value: \".format(i)))\n",
    "        l.append(val)\n",
    "    else:\n",
    "        print(\"-\"*30)\n",
    "        print(\"Content of list {}\".format(l))\n",
    "        print(\"Sum = {}\".format(sum(l)))\n",
    "        print(\"Avg = {}\".format(sum(l)/len(l)))\n",
    "        print(\"Completed\")                  "
   ]
  },
  {
   "cell_type": "markdown",
   "metadata": {},
   "source": [
    "<font color='#D2691E'><b>Qn) Write a python program which will accept list of values and add them in a list. Sort the elements of the list both in ascending and descending order</b></font>"
   ]
  },
  {
   "cell_type": "code",
   "execution_count": 115,
   "metadata": {},
   "outputs": [
    {
     "name": "stdout",
     "output_type": "stream",
     "text": [
      "Enter How Many numbers u have:5\n",
      "Enter 1 value: 4\n",
      "Enter 2 value: 5\n",
      "Enter 3 value: 6\n",
      "Enter 4 value: 9\n",
      "Enter 5 value: 8\n",
      "Sorted Ascending [4, 5, 6, 8, 9]\n",
      "Sorted descending [9, 8, 6, 5, 4]\n",
      "program execution completed.\n"
     ]
    }
   ],
   "source": [
    "#sort_list_val.py\n",
    "#Accept n number of values and sot them in ascending and descending order\n",
    "\n",
    "n=int(input(\"Enter How Many numbers u have:\"))\n",
    "if(n<=0):\n",
    "    print(\"{} is invalid input:\".format(n))\n",
    "else:\n",
    "    lst=list()         # create empty list\n",
    "    for i in range(1, n+1):\n",
    "        val=int(input(\"Enter {} value: \".format(i)))\n",
    "        lst.append(val)\n",
    "    else:\n",
    "        lst.sort()\n",
    "        print(\"Sorted Ascending {}\".format(lst))\n",
    "        lst.sort(reverse=True)\n",
    "        print(\"Sorted descending {}\".format(lst))\n",
    "        print(\"program execution completed.\")\n"
   ]
  },
  {
   "cell_type": "markdown",
   "metadata": {},
   "source": [
    "<font color='#D2691E'><b>Qn) Write a python program which will accept list of names and add them in a list. Sort the elements of the list both in ascending and descending order</b></font>"
   ]
  },
  {
   "cell_type": "code",
   "execution_count": 117,
   "metadata": {},
   "outputs": [
    {
     "name": "stdout",
     "output_type": "stream",
     "text": [
      "Enter How Many Names u have:2\n",
      "Enter 1 name: Anu\n",
      "Enter 2 name: roshni\n",
      "Sorted Ascending ['Anu', 'roshni']\n",
      "Sorted descending ['roshni', 'Anu']\n",
      "program execution completed.\n"
     ]
    }
   ],
   "source": [
    "#sort_list_names.py\n",
    "#Accept n number of names and sort them in ascending and descending order\n",
    "\n",
    "n=int(input(\"Enter How Many Names u have:\"))\n",
    "if(n<=0):\n",
    "    print(\"{} is invalid input:\".format(n))\n",
    "else:\n",
    "    lst=list()         # create empty list\n",
    "    for i in range(1, n+1):\n",
    "        val=str(input(\"Enter {} name: \".format(i)))\n",
    "        lst.append(val)\n",
    "    else:\n",
    "        lst.sort()\n",
    "        print(\"Sorted Ascending {}\".format(lst))\n",
    "        lst.sort(reverse=True)\n",
    "        print(\"Sorted descending {}\".format(lst))\n",
    "        print(\"program execution completed.\")"
   ]
  },
  {
   "cell_type": "markdown",
   "metadata": {},
   "source": [
    "<font color='#D2691E'><b>Qn) Write a python program which will accept list of values and put them in a list. Accept a value from keyboard and search it in the list and display \"Search is successful\" when the element is found otherwise display \"Search is unsuccessful\"</b></font>"
   ]
  },
  {
   "cell_type": "code",
   "execution_count": 125,
   "metadata": {},
   "outputs": [
    {
     "name": "stdout",
     "output_type": "stream",
     "text": [
      "Enter how many stings you have:5\n",
      "Enter the name 1:anu\n",
      "Enter the name 2:roshni\n",
      "Enter the name 3:vaishnavi\n",
      "Enter the name 4:da\n",
      "Enter the name 5:ml\n",
      "['anu', 'roshni', 'vaishnavi', 'da', 'ml']\n",
      "Enter the name to search\n",
      "ds\n",
      "Search Unsuccessful\n"
     ]
    }
   ],
   "source": [
    "#Search_Element.py\n",
    "n=int(input(\"Enter how many stings you have:\"))\n",
    "if (n<=0):\n",
    "    print(\"{} is invalid input\".format(n))\n",
    "else:\n",
    "    lst=list()\n",
    "    for i in range(1,n+1):\n",
    "        lst.append(str(input(\"Enter the name {}:\".format(i))))\n",
    "    else:    \n",
    "        print(lst)\n",
    "print(\"Enter the name to search\")\n",
    "n=input()\n",
    "if lst.count(n)>1:\n",
    "    print(\"Search Successful\")\n",
    "else:\n",
    "    print(\"Search Unsuccessful\")"
   ]
  },
  {
   "cell_type": "markdown",
   "metadata": {},
   "source": [
    "<font color='#D2691E'><b>Qn) Write a python program which will print multiplication tables for a given list of positive values</b></font>"
   ]
  },
  {
   "cell_type": "code",
   "execution_count": 143,
   "metadata": {},
   "outputs": [
    {
     "name": "stdout",
     "output_type": "stream",
     "text": [
      "Enter the value of n: 4\n",
      "Enter the value 1 : -1\n",
      "Enter the value 2 : 2\n",
      "Enter the value 3 : -3\n",
      "Enter the value 4 : 4\n",
      "--------------------------------------------------\n",
      "Multiplication table of list elements [-1, 2, -3, 4]\n",
      "Invalid multiplication table for -1\n",
      "Multiplication table of 2:\n",
      "2 x 1 = 2\n",
      "2 x 2 = 4\n",
      "2 x 3 = 6\n",
      "2 x 4 = 8\n",
      "2 x 5 = 10\n",
      "2 x 6 = 12\n",
      "2 x 7 = 14\n",
      "2 x 8 = 16\n",
      "2 x 9 = 18\n",
      "--------------------------------------------------\n",
      "Invalid multiplication table for -3\n",
      "Multiplication table of 4:\n",
      "4 x 1 = 4\n",
      "4 x 2 = 8\n",
      "4 x 3 = 12\n",
      "4 x 4 = 16\n",
      "4 x 5 = 20\n",
      "4 x 6 = 24\n",
      "4 x 7 = 28\n",
      "4 x 8 = 32\n",
      "4 x 9 = 36\n",
      "--------------------------------------------------\n",
      "Program Execution completed:\n"
     ]
    }
   ],
   "source": [
    "#MulTble_list.py\n",
    "n=int(input(\"Enter the value of n: \"))\n",
    "if (n<=0):\n",
    "    print(\"{} is invalid input\".format(n))\n",
    "else:\n",
    "    lst=list()\n",
    "    for i in range(1,n+1):\n",
    "        lst.append(int(input(\"Enter the value {} : \".format(i))))\n",
    "    else:\n",
    "        print(\"-\"*50)\n",
    "        print(\"Multiplication table of list elements {}\".format(lst))\n",
    "    \n",
    "for x in lst:\n",
    "    if (x<=0):\n",
    "        print(\"Invalid multiplication table for {}\".format(x))\n",
    "    else:\n",
    "        print(\"Multiplication table of {}:\".format(x))\n",
    "        for y in range(1,10):\n",
    "            print(\"{} x {} = {}\".format(x,y,x*y))\n",
    "        else:\n",
    "            print(\"-\"*50)\n",
    "print(\"Program Execution completed:\")            "
   ]
  },
  {
   "cell_type": "code",
   "execution_count": null,
   "metadata": {},
   "outputs": [],
   "source": []
  }
 ],
 "metadata": {
  "kernelspec": {
   "display_name": "Python 3 (ipykernel)",
   "language": "python",
   "name": "python3"
  },
  "language_info": {
   "codemirror_mode": {
    "name": "ipython",
    "version": 3
   },
   "file_extension": ".py",
   "mimetype": "text/x-python",
   "name": "python",
   "nbconvert_exporter": "python",
   "pygments_lexer": "ipython3",
   "version": "3.10.0"
  }
 },
 "nbformat": 4,
 "nbformat_minor": 4
}
