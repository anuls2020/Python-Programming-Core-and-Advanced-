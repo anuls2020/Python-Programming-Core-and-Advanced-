{
 "cells": [
  {
   "cell_type": "markdown",
   "id": "f3da622f",
   "metadata": {},
   "source": [
    " <h1><center>Object Oriented Programming(OOP) Concept</center></h1>"
   ]
  },
  {
   "cell_type": "markdown",
   "id": "1f9d903a",
   "metadata": {},
   "source": [
    "## <font color='#3498DB'>**Advantages of Object Oriented Principles/Features/Concetps**</font>"
   ]
  },
  {
   "cell_type": "markdown",
   "id": "404845fc",
   "metadata": {},
   "source": [
    "* In Rea Time, To develop any project we need a language and it can satisfy two types of Principles. They are\n",
    "  1. <font color='#009900'>**Procedure Oriended Principles**</font>\n",
    "  2. <font color='#009900'>**Object Oriended Principles**</font>\n",
    "* **Python Programming** satisfies Both **Procedure Oriended(Functional Programming) and Object Oriended Principles**\n",
    "\n",
    "<h3>\"Everything is an object in Python and behind the Object, there are classes\"</h3>\n",
    "\n",
    "<h3>Benifits of Object Oriented Principles</h3>\n",
    "\n",
    "* The objects allows us to store <font color='#009900'>**un-limited amount of data**</font> and achives Platform Indepenent.\n",
    "* The large volume of data can be transfered between two remote machines <font color='#009900'>**all at once**</font> and we can achieve <font color='#009900'>**Effective Communication**</font>.\n",
    "* The <font color='#009900'>**Confidential Data can be transfered between two remote machines in the form of object**</font> where it can be <font color='#009900'>**available  in the form of cipher text / encrypted format**</font>. so that we can <font color='#009900'>**achieve the security**</font>.\n",
    "* The <font color='#009900'>**Data always stored  / available in the form of objects**</font> and on the objects data we can <font color='#009900'>**perform the operations by using Functions**</font>.\n",
    "\n",
    "<h3>Object Oriented Principles OR Features OR Concetps</h3>\n",
    "\n",
    "* To Say a programming Language is  Object Oriented then it has to satisfy the following object oriented principles.\n",
    "\n",
    "  1. <font color='#009900'>**Classes**</font>\n",
    "  2. <font color='#009900'>**Objects**</font>\n",
    "  3. <font color='#009900'>**Data Encapsulation**</font>\n",
    "  4. <font color='#009900'>**Data Abstraction**</font>\n",
    "  5. <font color='#009900'>**Inheritance**</font>\n",
    "  6. <font color='#009900'>**Polymorphism**</font>\n",
    "  7. <font color='#009900'>**Message Passing(Already discussed in the function definition and function call)**</font></br>\n",
    "\n",
    "\n",
    "* The above Object Oriented Principles are common in  all Object Oriented Programming Languages. But their syntaxes differs from one Object Oriented Programming Language to another Object Oriented Programming Language.\n"
   ]
  }
 ],
 "metadata": {
  "kernelspec": {
   "display_name": "Python 3 (ipykernel)",
   "language": "python",
   "name": "python3"
  },
  "language_info": {
   "codemirror_mode": {
    "name": "ipython",
    "version": 3
   },
   "file_extension": ".py",
   "mimetype": "text/x-python",
   "name": "python",
   "nbconvert_exporter": "python",
   "pygments_lexer": "ipython3",
   "version": "3.9.16"
  }
 },
 "nbformat": 4,
 "nbformat_minor": 5
}
