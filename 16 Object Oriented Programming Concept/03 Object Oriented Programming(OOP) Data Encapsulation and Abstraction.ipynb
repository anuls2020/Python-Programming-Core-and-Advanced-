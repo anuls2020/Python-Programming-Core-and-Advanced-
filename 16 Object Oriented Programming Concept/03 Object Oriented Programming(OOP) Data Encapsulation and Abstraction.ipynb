{
 "cells": [
  {
   "cell_type": "markdown",
   "id": "cb4d02a7",
   "metadata": {},
   "source": [
    "<h1><center><font color='#3498DB'>Data Encapsulation & Data Abstraction</font></h1></center>"
   ]
  },
  {
   "cell_type": "markdown",
   "id": "97f0c928",
   "metadata": {},
   "source": [
    "## <font color='#3498DB'>Data Encapsulation:</font>"
   ]
  },
  {
   "cell_type": "markdown",
   "id": "2b668d78",
   "metadata": {},
   "source": [
    "### Definition of Data Encapsulation:\n",
    "\n",
    "* The Process of **Hiding the confidential Information / Data / Methods** fropm external Programmers / end users is called Data Encapsulation\n",
    "* The Purpose of Encapsulation concept is that \"**To Hide Confidental Information/Features of Class (Data Members and Methods)**\".\n",
    "* Data Encapsulation can be applied in three levels. They are\n",
    "\n",
    "     *  <font color='#3498DB'>**At Data Members Level**</font>\n",
    "     *  <font color='#3498DB'>**At Methods Level**</font>\n",
    "     *  <font color='#3498DB'>**At Constructor Level**</font>\n",
    "\n",
    "* To implement Data Encapsulation in python programming, The **Data Members, Methods and Constructors** must be preceded with **double under score(`_ _`)**\n"
   ]
  },
  {
   "cell_type": "markdown",
   "id": "de531c38",
   "metadata": {},
   "source": [
    "<div class=\"alert alert-block alert-success\">\n",
    "<b>Syntax1: Encapsulation at Data Member level </b><br> \n",
    "</div>\n",
    "\n",
    "```python\n",
    "class <ClassName>:\n",
    "def   methodname(self):\n",
    "\tself.__Data MemberName1=Value1\n",
    "\tself.__Data MemberName2=Value2\n",
    "\t--------------------------------\n",
    "\tself.__Data MemberName-n=Value-n\n",
    "```\n",
    "\n",
    "<div class=\"alert alert-block alert-success\">\n",
    "<b>Syntax2: Encapsulation at Method level</b><br> \n",
    "</div>\n",
    "\n",
    "```python\n",
    "class <ClassName>:\n",
    "\tdef   __methodname(self):\n",
    "\t\tself.Data MemberName1=Value1\n",
    "\t\tself.Data MemberName2=Value2\n",
    "\t\t------------------------------\n",
    "\t\tself.Data MemberName-n=Value-n\n",
    "```\n",
    "\n",
    "<div class=\"alert alert-block alert-success\">\n",
    "<b>Syntax3: Encapsulation at Constrictor level</b><br> \n",
    "</div>\n",
    "\n",
    "```python\n",
    "class <ClassName>:\n",
    "\tdef   ____init__(self):\n",
    "\t\tself.Data MemberName1=Value1\n",
    "\t\tself.Data MemberName2=Value2\n",
    "\t\t------------------------------\n",
    "\t\tself.Data MemberName-n=Value-n\n",
    "```"
   ]
  },
  {
   "cell_type": "markdown",
   "id": "93f5b92a",
   "metadata": {},
   "source": [
    "**Example 1:  Encapsulation at DataMember level**"
   ]
  },
  {
   "cell_type": "code",
   "execution_count": null,
   "id": "47327f64",
   "metadata": {},
   "outputs": [],
   "source": [
    "# account.py --> file name and treated as module name\n",
    "\n",
    "class bank_acc_details:\n",
    "    def getaccountdet(self):\n",
    "        self.acc_name = \"Anu\"\n",
    "        self.__acc_number = 1234\n",
    "        self.__bal = 95\n",
    "        self.bank = \"SBI\"\n",
    "        self.__pin = 4321\n",
    "        self.Pin_Code = 123456"
   ]
  },
  {
   "cell_type": "code",
   "execution_count": null,
   "id": "de7f2e2e",
   "metadata": {},
   "outputs": [],
   "source": [
    "# others.py\n",
    "\n",
    "from account import bank_acc_details\n",
    "\n",
    "ao = bank_acc_details()\n",
    "ao.getaccountdet()\n",
    "\n",
    "print(\"Account Name: {}\".format(ao.acc_name))\n",
    "# print(\"Account Number: {}\".format(ao.acc_number))\n",
    "# print(\"Account Balance: {}\".format(ao.bal))\n",
    "print(\"Bank Name: {}\".format(ao.bank))\n",
    "# print(\"Pin Number: {}\".format(ao.pin))\n",
    "print(\"Account branch Pin Code: {}\".format(ao.Pin_Code))\n"
   ]
  },
  {
   "cell_type": "markdown",
   "id": "7a6d6841",
   "metadata": {},
   "source": [
    "**Example 2:  Encapsulation at Method level**"
   ]
  },
  {
   "cell_type": "code",
   "execution_count": null,
   "id": "5fbe6a1f",
   "metadata": {},
   "outputs": [],
   "source": [
    "# account1.py --> file name and treated as module name\n",
    "\n",
    "class bank_acc_details:\n",
    "    def __getaccountdet(self):\n",
    "        self.acc_name = \"Anu\"\n",
    "        self.acc_number = 1234\n",
    "        self.bal = 95\n",
    "        self.bank = \"SBI\"\n",
    "        self.pin = 4321\n",
    "        self.Pin_Code = 123456\n"
   ]
  },
  {
   "cell_type": "code",
   "execution_count": null,
   "id": "aa7a1c11",
   "metadata": {},
   "outputs": [],
   "source": [
    "# others1.py\n",
    "\n",
    "from account1 import bank_acc_details\n",
    "\n",
    "ao = bank_acc_details()\n",
    "ao.getaccountdet()\n",
    "\n",
    "print(\"Account Name: {}\".format(ao.acc_name))\n",
    "print(\"Account Number: {}\".format(ao.acc_number))\n",
    "print(\"Account Balance: {}\".format(ao.bal))\n",
    "print(\"Bank Name: {}\".format(ao.bank))\n",
    "print(\"Pin Number: {}\".format(ao.pin))\n",
    "print(\"Account branch Pin Code: {}\".format(ao.Pin_Code))\n"
   ]
  },
  {
   "cell_type": "markdown",
   "id": "2399536c",
   "metadata": {},
   "source": [
    "## <font color='#3498DB'>**Data Abstraction:**</font>"
   ]
  },
  {
   "cell_type": "markdown",
   "id": "47c12b0a",
   "metadata": {},
   "source": [
    "* The Process of **retrieving / extracting Essential Details without considering Hidden Details is called Data Abstraction.**\n"
   ]
  },
  {
   "cell_type": "markdown",
   "id": "e3b78580",
   "metadata": {},
   "source": [
    "**Example 1**\n",
    "```python\n",
    "#others.py---This Program access only cname,bname and pincode only \n",
    "from account  import Account\n",
    "ao=Account()\n",
    "ao.getaccountdet()\n",
    "#print(\"Account Number={}\".format(ao.acno))  Not Possible to access\n",
    "print(\"Account Holder Name={}\".format(ao.cname))\n",
    "#print(\"Account Bal={}\".format(ao.bal))  Not Possible to access\n",
    "print(\"Account Branch Name={}\".format(ao.bname))\n",
    "#print(\"Account PIN={}\".format(ao.pin))   Not Possible to access\n",
    "print(\"Account Branch Pin Code={}\".format(ao.pincode))\n",
    "```\n",
    "\n",
    "**Example 2**\n",
    "\n",
    "```python\n",
    "#others1.py--here we can not access method itself. so that we cant access Instance Data Members.\n",
    "from account1 import Account1\n",
    "ao=Account1()\n",
    "#ao.getaccountdet() ---can't access\n",
    "#print(\"Account Number={}\".format(ao.acno))  \n",
    "#print(\"Account Holder Name={}\".format(ao.cname))\n",
    "#print(\"Account Bal={}\".format(ao.bal))  \n",
    "#print(\"Account Branch Name={}\".format(ao.bname))\n",
    "#print(\"Account PIN={}\".format(ao.pin)) \n",
    "#print(\"Account Branch Pin Code={}\".format(ao.pincode))\n",
    "```"
   ]
  },
  {
   "cell_type": "code",
   "execution_count": null,
   "id": "cd95ac81",
   "metadata": {},
   "outputs": [],
   "source": []
  }
 ],
 "metadata": {
  "kernelspec": {
   "display_name": "Python 3 (ipykernel)",
   "language": "python",
   "name": "python3"
  },
  "language_info": {
   "codemirror_mode": {
    "name": "ipython",
    "version": 3
   },
   "file_extension": ".py",
   "mimetype": "text/x-python",
   "name": "python",
   "nbconvert_exporter": "python",
   "pygments_lexer": "ipython3",
   "version": "3.9.16"
  }
 },
 "nbformat": 4,
 "nbformat_minor": 5
}
