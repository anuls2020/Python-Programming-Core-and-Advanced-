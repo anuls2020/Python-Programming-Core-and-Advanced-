{
 "cells": [
  {
   "cell_type": "markdown",
   "metadata": {},
   "source": [
    "<h1><center><font color='#3498DB'>Constructors and Destructors in Python</font></center></h1>"
   ]
  },
  {
   "cell_type": "markdown",
   "metadata": {
    "heading_collapsed": true
   },
   "source": [
    "## <font color='#3498DB'>Index</font>"
   ]
  },
  {
   "cell_type": "markdown",
   "metadata": {
    "hidden": true
   },
   "source": [
    "* **Purpose** of Constructor\n",
    "* **Definition** of Constructor\n",
    "* **Rules** for using constructor in Python\n",
    "* **Syntax** for defining constructor in a class\n",
    "* **Types** of Constructors\n",
    "    * **Default Constructor**\n",
    "    * **Parameterized Constructor**\n",
    "* Programming Examples \n",
    "* **Differences between Methods and Constructors**"
   ]
  },
  {
   "cell_type": "markdown",
   "metadata": {
    "heading_collapsed": true
   },
   "source": [
    "## <font color='#3498DB'>Purpose of Constructor</font>"
   ]
  },
  {
   "cell_type": "markdown",
   "metadata": {
    "hidden": true
   },
   "source": [
    "* The purpose of Constructors in Python is that \"**To Initlize the Object**\".\n",
    "* Initlizing the object is nothing but **placing our own values without leaving the object empty**."
   ]
  },
  {
   "cell_type": "markdown",
   "metadata": {
    "heading_collapsed": true
   },
   "source": [
    "## <font color='#3498DB'>Definition of Constructor</font>"
   ]
  },
  {
   "cell_type": "markdown",
   "metadata": {
    "hidden": true
   },
   "source": [
    "A constructor is **one of the Special Methods, which is automatically / implicitly called by PVM during object creation and it always Initlizes the object (Placing our own values)**."
   ]
  },
  {
   "cell_type": "markdown",
   "metadata": {
    "heading_collapsed": true
   },
   "source": [
    "## <font color='#3498DB'>Rules for using Constructor in Python</font>"
   ]
  },
  {
   "cell_type": "markdown",
   "metadata": {
    "hidden": true
   },
   "source": [
    "\n",
    "* The Constructor called by PVM during Object Creation automatically / Implicitly.\n",
    "* The Name of the constructor is \n",
    "```python \n",
    "def __init__(self,......):pass\n",
    "```\n",
    "\n",
    "* The constructors in python **can be Inherited**\n",
    "* The constructors in python **can be Overridden**"
   ]
  },
  {
   "cell_type": "markdown",
   "metadata": {
    "heading_collapsed": true
   },
   "source": [
    "## <font color='#3498DB'>Syntax for defining a Constructor in Python</font>"
   ]
  },
  {
   "cell_type": "markdown",
   "metadata": {
    "hidden": true
   },
   "source": [
    "<div class=\"alert alert-block alert-success\">\n",
    "<b>Syntax:</b><br> \n",
    "</div>\n",
    "\n",
    "```python\n",
    "def    \n",
    "    __init__(self, list of formal params if any):\n",
    "       --------------------------------------------\n",
    "       --------------------------------------------\n",
    "       Block  of statements--Initlization\n",
    "       --------------------------------------------\n",
    "       --------------------------------------------\n",
    "```"
   ]
  },
  {
   "cell_type": "markdown",
   "metadata": {
    "hidden": true
   },
   "source": [
    "**Examples:**"
   ]
  },
  {
   "cell_type": "code",
   "execution_count": 2,
   "metadata": {
    "hidden": true
   },
   "outputs": [
    {
     "name": "stdout",
     "output_type": "stream",
     "text": [
      "Content of so before setting values {}\n",
      "Content of so after setting values {'stno': 10, 'name': 'Anu', 'marks': 45.45}\n"
     ]
    }
   ],
   "source": [
    "# Constructorex1.py\n",
    "\n",
    "class Student:\n",
    "    def setstudentvalues(self):\n",
    "        self.stno = 10\n",
    "        self.name = \"Anu\"\n",
    "        self.marks = 45.45\n",
    "\n",
    "\n",
    "# main program\n",
    "\n",
    "so = Student()  # Object Creation\n",
    "print(\"Content of so before setting values\", so.__dict__)\n",
    "so.setstudentvalues() # Function call, which will set the values to te variable\n",
    "print(\"Content of so after setting values\", so.__dict__)"
   ]
  },
  {
   "cell_type": "code",
   "execution_count": 1,
   "metadata": {
    "hidden": true
   },
   "outputs": [
    {
     "name": "stdout",
     "output_type": "stream",
     "text": [
      "I'm from Constructor\n",
      "Content of so {'stno': 10, 'name': 'Rossum', 'marks': 66.66}\n"
     ]
    }
   ],
   "source": [
    "# Constructorex1.py\n",
    "\n",
    "class Student:\n",
    "    def __init__(self):\n",
    "        print(\"I'm from Constructor\")\n",
    "        self.stno = 10\n",
    "        self.name = \"Rossum\"\n",
    "        self.marks = 66.66\n",
    "\n",
    "\n",
    "# main program\n",
    "\n",
    "so = Student()  # Object Creation\n",
    "print(\"Content of so\", so.__dict__)"
   ]
  },
  {
   "cell_type": "code",
   "execution_count": 3,
   "metadata": {
    "hidden": true,
    "scrolled": true
   },
   "outputs": [
    {
     "name": "stdout",
     "output_type": "stream",
     "text": [
      "Enter the account number: 1\n",
      "Enter the account Name: Anu\n",
      "Enter the account balance: 56.56\n",
      "Enter the Bank name: SBI\n",
      "Account details {'acno': 1, 'name': 'Anu', 'bal': 56.56, 'bname': 'SBI'}\n",
      "--------------------------------------------------\n",
      "Enter the account number: 2\n",
      "Enter the account Name: Kannan\n",
      "Enter the account balance: 66.65\n",
      "Enter the Bank name: HDFC\n",
      "Account details {'acno': 2, 'name': 'Kannan', 'bal': 66.65, 'bname': 'HDFC'}\n"
     ]
    }
   ],
   "source": [
    "# Constructorex3.py\n",
    "\n",
    "class Account:\n",
    "    def __init__(self):\n",
    "        self.acno = int(input(\"Enter the account number: \"))\n",
    "        self.name = input(\"Enter the account Name: \")\n",
    "        self.bal = float(input(\"Enter the account balance: \"))\n",
    "        self.bname = input(\"Enter the Bank name: \")\n",
    "\n",
    "\n",
    "# Main Program\n",
    "\n",
    "ao1 = Account()\n",
    "print(\"Account details\", ao1.__dict__)\n",
    "print(\"-\" * 50)\n",
    "ao2 = Account()\n",
    "print(\"Account details\", ao2.__dict__)\n"
   ]
  },
  {
   "cell_type": "markdown",
   "metadata": {
    "heading_collapsed": true
   },
   "source": [
    "## <font color='#3498DB'>Types of Constructors</font>"
   ]
  },
  {
   "cell_type": "markdown",
   "metadata": {
    "hidden": true
   },
   "source": [
    "In Python Programming, we have **two types of Constructors**. They are\t\n",
    "    \n",
    "  -  <font color='#3498DB'>**Default / Parameter Less Constructors**</font>\n",
    "  -  <font color='#3498DB'>**Parameterized Constructors**</font>"
   ]
  },
  {
   "cell_type": "markdown",
   "metadata": {
    "heading_collapsed": true,
    "hidden": true
   },
   "source": [
    "### <font color='#3498DB'>a) Default / Parameter Less Constructors</font>"
   ]
  },
  {
   "cell_type": "markdown",
   "metadata": {
    "hidden": true
   },
   "source": [
    "**Definition**\n",
    "   * Default / Parameter Less Constructor is one, which is **not taking any Parameters / Values.**\n",
    "   * The purpose of Default / Parameter Less Constructors is that \"**To initlize multiple objects of same class with Same Values**\"\n",
    "\n",
    "<div class=\"alert alert-block alert-success\">\n",
    "<b>Syntax:</b><br> \n",
    "</div>\n",
    "\n",
    "```python\n",
    "def __init__(self):\n",
    "       --------------------------------------------\n",
    "       Block  of statements--Initlization\n",
    "       --------------------------------------------\n",
    "       --------------------------------------------\n",
    "```"
   ]
  },
  {
   "cell_type": "markdown",
   "metadata": {
    "hidden": true
   },
   "source": [
    "#### Concept of creating multiple object of same class-- initialized with same values"
   ]
  },
  {
   "attachments": {
    "default%20const%20diagram.png": {
     "image/png": "[encoded data removed]"
    }
   },
   "cell_type": "markdown",
   "metadata": {
    "hidden": true
   },
   "source": [
    "![default%20const%20diagram.png](attachment:default%20const%20diagram.png)"
   ]
  },
  {
   "cell_type": "markdown",
   "metadata": {
    "hidden": true
   },
   "source": [
    "**Examples:**\n",
    "```python\n",
    "# defaultconstex1.py\n",
    "class Test:\n",
    "    def __init__(self):\n",
    "        print(\"I'm form default constructor!..\")\n",
    "        self.a = 10\n",
    "        self.b = 20\n",
    "        print(\"Value of a: {}\".format(self.a))\n",
    "        print(\"Value of b: {}\".format(self.b))\n",
    "\n",
    "\n",
    "# main program\n",
    "print(\"Content of t1 Object:\")\n",
    "t1 = Test()\n",
    "print(\"-\" * 50)\n",
    "print(\"Content of t2 Object:\")\n",
    "t2 = Test()\n",
    "print(\"-\" * 50)\n",
    "print(\"Content of t3 Object:\")\n",
    "t3 = Test()\n",
    "print(\"-\" * 50)\n",
    "```\n",
    "\n",
    "**Execution Result**\n",
    "\n",
    "\n",
    "```Python\n",
    "Content of t1 Object:\n",
    "I'm form default constructor!..\n",
    "Value of a: 10\n",
    "Value of b: 20\n",
    "--------------------------------------------------\n",
    "Content of t2 Object:\n",
    "I'm form default constructor!..\n",
    "Value of a: 10\n",
    "Value of b: 20\n",
    "--------------------------------------------------\n",
    "Content of t3 Object:\n",
    "I'm form default constructor!..\n",
    "Value of a: 10\n",
    "Value of b: 20\n",
    "--------------------------------------------------\n",
    "```"
   ]
  },
  {
   "cell_type": "markdown",
   "metadata": {
    "heading_collapsed": true,
    "hidden": true
   },
   "source": [
    "### <font color='#3498DB'>b) Parameterized Constructors:</font>"
   ]
  },
  {
   "cell_type": "markdown",
   "metadata": {
    "hidden": true
   },
   "source": [
    "*  A Parameterized Constructor is one, **which is  taking Parameters / Values**.\n",
    "* The purpose of Parameterized  Constructors is that \"**To Initlize multiple objects of same class with Different Values**\"\n",
    "\n",
    "<div class=\"alert alert-block alert-success\">\n",
    "<b>Syntax:</b><br> \n",
    "</div>\n",
    "\n",
    "```python\n",
    "def __init__(self,list of formal params):\n",
    "       --------------------------------\n",
    "       Block of statements--Initlizatioin\n",
    "       --------------------------------\n",
    "```"
   ]
  },
  {
   "cell_type": "markdown",
   "metadata": {
    "hidden": true
   },
   "source": [
    "#### Concept of creating multiple object of same class-- initialized with same values"
   ]
  },
  {
   "attachments": {
    "parameterized%20const%20diagram.png": {
     "image/png": "[encoded data removed]"
    }
   },
   "cell_type": "markdown",
   "metadata": {
    "hidden": true
   },
   "source": [
    "![parameterized%20const%20diagram.png](attachment:parameterized%20const%20diagram.png)"
   ]
  },
  {
   "cell_type": "markdown",
   "metadata": {
    "hidden": true
   },
   "source": [
    "**Exmaples:**\n",
    "\n",
    "```python\n",
    "# paramconstex1.py\n",
    "\n",
    "class Test:\n",
    "    def __init__(self, a, b):\n",
    "        print(\"I'm from the Parameterized constructor!...\")\n",
    "        self.a = a\n",
    "        self.b = b\n",
    "        print(\"Value of a:{}\".format(self.a))\n",
    "        print(\"Value of b:{}\".format(self.b))\n",
    "\n",
    "\n",
    "# main program\n",
    "print(\"Content of t1 object:\")\n",
    "t1 = Test(10, 20)\n",
    "print(\"Content of t1 object:\")\n",
    "t1 = Test(100, 200)\n",
    "print(\"Content of t1 object:\")\n",
    "t1 = Test(1000, 2000)\n",
    "```\n",
    "**Execution result**\n",
    "\n",
    "```python\n",
    "Content of t1 object:\n",
    "I'm from the Parameterized constructor!...\n",
    "Value of a:10\n",
    "Value of b:20\n",
    "Content of t1 object:\n",
    "I'm from the Parameterized constructor!...\n",
    "Value of a:100\n",
    "Value of b:200\n",
    "Content of t1 object:\n",
    "I'm from the Parameterized constructor!...\n",
    "Value of a:1000\n",
    "Value of b:2000\n",
    "\n",
    "```"
   ]
  },
  {
   "cell_type": "markdown",
   "metadata": {
    "hidden": true
   },
   "source": [
    "<div class=\"alert alert-block alert-info\">\n",
    "<b>Tip/Note:</b> <br>\n",
    "    In a class of python, <b>we can't define both default and parametreised constructor</b> bcoz PVM can remember only latest constructor but not able to remember all types of constructor . <b>To solve this issue, In a class of Python, we can define One Constructor with default parameter mechanism</b>.\n",
    "</div>"
   ]
  },
  {
   "cell_type": "markdown",
   "metadata": {
    "hidden": true
   },
   "source": [
    "```python\n",
    "#defaultparamconstex1.py\n",
    "class Test:\n",
    "\tdef __init__(self,a=10,b=20):   \n",
    "\t\tself.a=a\n",
    "\t\tself.b=b\n",
    "\t\tprint(\"Val of a={}\".format(self.a))\n",
    "\t\tprint(\"Val of b={}\".format(self.b))\n",
    "#main program\n",
    "print(\"Content of t1 object--with default constructor:\")\n",
    "t1=Test()  # calls default constructor\n",
    "print(\"-\"*50)\n",
    "print(\"Content of t2 object---with parameterized \")\n",
    "t2=Test(100,200) # calls Parameteized constructor\n",
    "print(\"-\"*50)\n",
    "print(\"Content of t3 object--with default constructor:\")\n",
    "t3=Test()  # calls default constructor\n",
    "print(\"-\"*50)\n",
    "print(\"Content of t4 object---with parameterized \")\n",
    "t2=Test(1000,2000) # calls Parameteized constructor\n",
    "print(\"-\"*50)\n",
    "```\n",
    "**Execution Result**\n",
    "\n",
    "```python\n",
    "Content of t1 object--with default constructor:\n",
    "Val of a=10\n",
    "Val of b=20\n",
    "--------------------------------------------------\n",
    "Content of t2 object---with parameterized \n",
    "Val of a=100\n",
    "Val of b=200\n",
    "--------------------------------------------------\n",
    "Content of t3 object--with default constructor:\n",
    "Val of a=10\n",
    "Val of b=20\n",
    "--------------------------------------------------\n",
    "Content of t4 object---with parameterized \n",
    "Val of a=1000\n",
    "Val of b=2000\n",
    "--------------------------------------------------\n",
    "```"
   ]
  },
  {
   "cell_type": "markdown",
   "metadata": {
    "hidden": true
   },
   "source": [
    "#### Differences between Methods and Constructors"
   ]
  },
  {
   "cell_type": "markdown",
   "metadata": {
    "hidden": true
   },
   "source": [
    "* *Constructors* are **always used Initlizing the object**. Where as *Methods* are used for **Performing the operations on the object**.\n",
    "* The *name of the constructor* is always `__init__(self, params list if any)`, where as *name of the Method* can be any valid variable name.\n",
    "* The *Constructors* are **not recommended to return  the values(They are suppose to initlize)** where *Methods* are **recommended to return the values ( They are doing operation)**.\n",
    "* *Constructors* are **calling automatically when an object is created**  where as *Methods* are **calling explicitly**.\n",
    "\n",
    "\n",
    "<div class=\"alert alert-block alert-info\">\n",
    "<b>Tip/Note:</b></br> \n",
    "    In Python, Both Constructors and Methods can be Inherited and they can be Overridden.\n",
    "</div>"
   ]
  },
  {
   "cell_type": "markdown",
   "metadata": {
    "heading_collapsed": true
   },
   "source": [
    "## <font color='#3498DB'>Differences between Methods and Constructors</font>"
   ]
  },
  {
   "cell_type": "markdown",
   "metadata": {
    "hidden": true
   },
   "source": [
    "* Constructors are **always used Initlizing the object**. Where as **Methods are used for Performing the operations on the object**.\n",
    "* The **name of the constructor is always __init__(self, params list if any)**. where as **name of the method can be any valid variable name**.\n",
    "* The **Constructors are not recommended to return the values(They are suppose to initlize)** where **methods are recommended to return the values(They are doing operation).**\n",
    "* **Constructors** are **calling automatically** when an object is created  where as **methods** are **calling explicitly**.\n",
    "\n",
    "\n",
    "<div class=\"alert alert-block alert-info\">\n",
    "<b>Tip/Note:</b><br>\n",
    "In Python, Both Constructors and Methods can be Inherited and they can be Overridden.\n",
    "</div>"
   ]
  },
  {
   "cell_type": "markdown",
   "metadata": {
    "heading_collapsed": true
   },
   "source": [
    "## <font color='#3498DB'>Destructors</font>"
   ]
  },
  {
   "cell_type": "markdown",
   "metadata": {
    "hidden": true
   },
   "source": [
    "* The Name of Destructor is  \n",
    "```python\n",
    "def\t__del__(self):\n",
    "\t------------------------\n",
    "\t------------------------\n",
    "```\n",
    "* Destructors are called by **Garbage Collector**\n",
    "* A Garbage Collector is one of the **Python In-built program**, which is **executing Internally behind of every Program for collecting / de-allocating the memory space of all objects which are used in the python program.**\n",
    "* In Python Programming **Every Garbage Collector contains its own detsructor.**\n",
    "* In the destructor , we write code for destorying the memory space of Objects used in python program and every destructor  called by Garbage Collector.\n",
    "* By Default, **Garbage Collector calls Destructor at end execution of Python Program.**\n",
    "* Programatically, **We can make the Garbage Collector to call Destructor FORCEFULLY by nullifying the object**\n",
    "* Example:   **obj=None**"
   ]
  },
  {
   "cell_type": "markdown",
   "metadata": {
    "hidden": true
   },
   "source": [
    "```python\n",
    "# destructorex1.py\n",
    "\n",
    "class Employee:\n",
    "    def __init__(self, eno, ename):\n",
    "        print(\"I'm from constructor!....\")\n",
    "        self.eno = eno\n",
    "        self.ename = ename\n",
    "        print(\"\\t{}\\t{}\".format(eno, ename))\n",
    "\n",
    "\n",
    "# main progeam\n",
    "print(\"Program execution started!.....\")\n",
    "eo1 = Employee(10, \"RS\")\n",
    "eo2 = Employee(20, \"DR\")\n",
    "print(\"Program execution Completed!.....\")\n",
    "\"\"\"Since the program execution is completed, GC collects objects memory spaces and hand over to OS \n",
    "So, internally to do this process, GC calls its destructor program for de-allocating  or destroying the \n",
    "memory space of objects\n",
    "\"\"\"\n",
    "```\n",
    "**Execution Result**\n",
    "\n",
    "```python\n",
    "Program execution started!.....\n",
    "I'm from constructor!....\n",
    "\t10\tRS\n",
    "I'm from constructor!....\n",
    "\t20\tDR\n",
    "Program execution Completed!.....\n",
    "```\n",
    "---"
   ]
  },
  {
   "cell_type": "markdown",
   "metadata": {
    "hidden": true
   },
   "source": [
    "```python\n",
    "# destructorex2.py\n",
    "class Employee:\n",
    "    def __init__(self, eno, ename):\n",
    "        print(\"I'm from constructor!....\")\n",
    "        self.eno = eno\n",
    "        self.ename = ename\n",
    "        print(\"\\t{}\\t{}\".format(eno, ename))\n",
    "    def __del__(self):  # Programmer defined destructor.\n",
    "        print(\"GC is calling destructor function!...\")\n",
    "\n",
    "# main progeam\n",
    "print(\"Program execution started!.....\")\n",
    "eo1 = Employee(10, \"RS\")\n",
    "eo2 = Employee(20, \"DR\")\n",
    "print(\"Program execution Completed!.....\")\n",
    "```\n",
    "\n",
    "**Execution Result**\n",
    "\n",
    "```python\n",
    "Program execution started!.....\n",
    "I'm from constructor!....\n",
    "\t10\tRS\n",
    "I'm from constructor!....\n",
    "\t20\tDR\n",
    "Program execution Completed!.....\n",
    "GC is calling destructor function!...\n",
    "GC is calling destructor function!...\n",
    "```\n",
    "---\n",
    "\n"
   ]
  },
  {
   "cell_type": "markdown",
   "metadata": {
    "hidden": true
   },
   "source": [
    "```python\n",
    "# destructorex2.py\n",
    "import time\n",
    "\n",
    "\n",
    "class Employee:\n",
    "    def __init__(self, eno, ename):\n",
    "        print(\"I'm from constructor!....\")\n",
    "        self.eno = eno\n",
    "        self.ename = ename\n",
    "        print(\"\\t{}\\t{}\".format(eno, ename))\n",
    "    def __del__(self):  # Programmer defined destructor.\n",
    "        print(\"GC is calling destructor function!...\")\n",
    "\n",
    "# main progeam\n",
    "print(\"Program execution started!.....\")\n",
    "eo1 = Employee(10, \"RS\")\n",
    "eo2 = Employee(20, \"DR\")\n",
    "print(\"Program execution Completed!.....\")\n",
    "time.sleep(5)\n",
    "```\n",
    "\n",
    "**Execution Result**\n",
    "```python\n",
    "Program execution started!.....\n",
    "I'm from constructor!....\n",
    "\t10\tRS\n",
    "I'm from constructor!....\n",
    "\t20\tDR\n",
    "Program execution Completed!.....\n",
    ".\n",
    ".\n",
    ".\n",
    ".\n",
    ".\n",
    "GC is calling destructor function!...\n",
    "GC is calling destructor function!...\n",
    "```\n",
    "\n",
    "**Here after 5 seconds the GC will be called**"
   ]
  },
  {
   "cell_type": "markdown",
   "metadata": {
    "hidden": true
   },
   "source": [
    "---\n",
    "```python\n",
    "# destructorex3.py\n",
    "\"\"\"Demonstration of forceful execution of destructor function\"\"\"\n",
    "import time\n",
    "\n",
    "\n",
    "class Employee:\n",
    "    def __init__(self, eno, ename):\n",
    "        print(\"I'm from constructor!....\")\n",
    "        self.eno = eno\n",
    "        self.ename = ename\n",
    "        print(\"\\t{}\\t{}\".format(eno, ename))\n",
    "    def __del__(self):  # Programmer defined destructor.\n",
    "        print(\"GC is calling destructor function!...\")\n",
    "\n",
    "# main progeam\n",
    "print(\"Program execution started!.....\")\n",
    "eo1 = Employee(10, \"RS\")\n",
    "print(\"No longer interested to maintain the object eo1\")\n",
    "eo1=None # Here GC calls __del__(self): Forcefully\n",
    "time.sleep(3)\n",
    "eo2 = Employee(20, \"DR\")\n",
    "eo2 = Employee(30, \"AR\")\n",
    "print(\"Program execution Completed!.....\")\n",
    "time.sleep(5)\n",
    "# Here By default GC calls __del__(self): two times.\n",
    "```\n",
    "\n",
    "**Execution Result**\n",
    "\n",
    "```python\n",
    "Program execution started!.....\n",
    "I'm from constructor!....\n",
    "\t10\tRS\n",
    "No longer interested to maintain the object eo1\n",
    "GC is calling destructor function!...\n",
    "I'm from constructor!....\n",
    "\t20\tDR\n",
    "I'm from constructor!....\n",
    "\t30\tAR\n",
    "GC is calling destructor function!...\n",
    "Program execution Completed!.....\n",
    "GC is calling destructor function!...\n",
    "\n",
    "\n",
    "```"
   ]
  },
  {
   "cell_type": "markdown",
   "metadata": {
    "hidden": true
   },
   "source": [
    "---\n",
    "```python\n",
    "# destructorex4.py\n",
    "\"\"\"Demonstration of forceful execution of destructor function\"\"\"\n",
    "import time\n",
    "\n",
    "\n",
    "class Employee:\n",
    "    def __init__(self, eno, ename):\n",
    "        print(\"I'm from constructor!....\")\n",
    "        self.eno = eno\n",
    "        self.ename = ename\n",
    "        print(\"\\t{}\\t{}\".format(eno, ename))\n",
    "\n",
    "    def __del__(self):  # Programmer defined destructor.\n",
    "        print(\"GC is calling destructor function!...\")\n",
    "\n",
    "\n",
    "# main progeam\n",
    "print(\"Program execution started!.....\")\n",
    "eo1 = Employee(10, \"RS\")\n",
    "print(\"No longer interested to maintain the object eo1\")\n",
    "eo1 = None  # # Here GC calls __del__(self): Forcefully\n",
    "time.sleep(3)\n",
    "eo2 = Employee(20, \"DR\")\n",
    "print(\"No longer interested to maintain the object eo1\")\n",
    "eo2 = None  # Here GC calls __del__(self): Forcefully\n",
    "time.sleep(3)\n",
    "eo3 = Employee(30, \"AR\")\n",
    "print(\"Program execution Completed!.....\")\n",
    "time.sleep(3)\n",
    "# Here By default GC calls __del__(self): one times.\n",
    "\n",
    "```\n",
    "**Execution Result**\n",
    "```python\n",
    "Program execution started!.....\n",
    "I'm from constructor!....\n",
    "\t10\tRS\n",
    "No longer interested to maintain the object eo1\n",
    "GC is calling destructor function!...\n",
    "I'm from constructor!....\n",
    "\t20\tDR\n",
    "No longer interested to maintain the object eo1\n",
    "GC is calling destructor function!...\n",
    "I'm from constructor!....\n",
    "\t30\tAR\n",
    "Program execution Completed!.....\n",
    "GC is calling destructor function!...\n",
    "```\n",
    "---"
   ]
  },
  {
   "cell_type": "markdown",
   "metadata": {
    "hidden": true
   },
   "source": [
    "```python\n",
    "# destructorex5.py\n",
    "\"\"\"Demonstration of forceful execution of destructor function uding del function\"\"\"\n",
    "import time\n",
    "\n",
    "\n",
    "class Employee:\n",
    "    def __init__(self, eno, ename):\n",
    "        print(\"I'm from constructor!....\")\n",
    "        self.eno = eno\n",
    "        self.ename = ename\n",
    "        print(\"\\t{}\\t{}\".format(eno, ename))\n",
    "\n",
    "    def __del__(self):  # Programmer defined destructor.\n",
    "        print(\"GC is calling destructor function!...\")\n",
    "\n",
    "\n",
    "# main progeam\n",
    "print(\"Program execution started!.....\")\n",
    "eo1 = Employee(10, \"RS\")\n",
    "print(\"No longer interested to maintain the object eo1\")\n",
    "del (eo1)  # # Here GC calls __del__(self): Forcefully\n",
    "time.sleep(3)\n",
    "eo2 = Employee(20, \"DR\")\n",
    "print(\"No longer interested to maintain the object eo1\")\n",
    "del (eo2)  # Here GC calls __del__(self): Forcefully\n",
    "time.sleep(3)\n",
    "eo3 = Employee(30, \"AR\")\n",
    "print(\"Program execution Completed!.....\")\n",
    "time.sleep(3)\n",
    "# Here By default GC calls __del__(self): one times.\n",
    "\n",
    "```\n",
    "**Execution Result**\n",
    "```python\n",
    "Program execution started!.....\n",
    "I'm from constructor!....\n",
    "\t10\tRS\n",
    "No longer interested to maintain the object eo1\n",
    "GC is calling destructor function!...\n",
    "I'm from constructor!....\n",
    "\t20\tDR\n",
    "No longer interested to maintain the object eo1\n",
    "GC is calling destructor function!...\n",
    "I'm from constructor!....\n",
    "\t30\tAR\n",
    "Program execution Completed!.....\n",
    "GC is calling destructor function!...\n",
    "\n",
    "Process finished with exit code 0\n",
    "\n",
    "```"
   ]
  },
  {
   "cell_type": "markdown",
   "metadata": {
    "hidden": true
   },
   "source": [
    "---\n",
    "```python\n",
    "# destructorex6.py\n",
    "import time\n",
    "\n",
    "\n",
    "class Employee:\n",
    "    def __init__(self, eno, ename):\n",
    "        print(\"I'm from constructor!....\")\n",
    "        self.eno = eno\n",
    "        self.ename = ename\n",
    "        print(\"\\t{}\\t{}\".format(eno, ename))\n",
    "\n",
    "    def __del__(self):  # Programmer defined destructor.\n",
    "        print(\"GC is calling destructor function!...\")\n",
    "\n",
    "\n",
    "# main progeam\n",
    "print(\"Program execution started!.....\")\n",
    "eo1 = Employee(10, \"RS\")\n",
    "eo2 = eo1 # Deep copy/Assignment operator both object holds the same address\n",
    "print(\"Program execution Completed!.....\")\n",
    "time.sleep(3)\n",
    "# Here By default GC calls __del__(self): one times.\n",
    "```\n",
    "**Execution Result:**\n",
    "```python\n",
    "Program execution started!.....\n",
    "I'm from constructor!....\n",
    "\t10\tRS\n",
    "Program execution Completed!.....\n",
    "GC is calling destructor function!...\n",
    "```\n",
    "---"
   ]
  },
  {
   "cell_type": "markdown",
   "metadata": {
    "hidden": true
   },
   "source": [
    "```python\n",
    "# destructorex7.py\n",
    "import time\n",
    "\n",
    "\n",
    "class Employee:\n",
    "    def __init__(self, eno, ename):\n",
    "        print(\"I'm from constructor!....\")\n",
    "        self.eno = eno\n",
    "        self.ename = ename\n",
    "        print(\"\\t{}\\t{}\".format(eno, ename))\n",
    "\n",
    "    def __del__(self):  # Programmer defined destructor.\n",
    "        print(\"GC is calling destructor function!...\")\n",
    "\n",
    "\n",
    "# main progeam\n",
    "print(\"Program execution started!.....\")\n",
    "eo1 = Employee(10, \"RS\")\n",
    "eo3 = eo2 = eo1  # Deep copy\n",
    "print(\"No longer interested to maintain the object eo1\")\n",
    "time.sleep(8)\n",
    "del (eo1)  # Here C will not call, __del__(init), because that corresponding memory pointed by eo2 and eo3\n",
    "print(\"No longer interested to maintain the object eo2\")\n",
    "time.sleep(8)\n",
    "eo2 = None  # Here C will not call, __del__(init), because that corresponding memory pointed by eo2 and eo3\n",
    "print(\"Program execution Completed!.....\")\n",
    "time.sleep(5)\n",
    "\n",
    "\"\"\"\n",
    "Here By default GC calls __del__(self): one time only\n",
    " eventhough there exist two objects and both the object points to same memory space\"\"\"\n",
    "\n",
    "```\n",
    "**Execution Result:**\n",
    "```python\n",
    "Program execution started!.....\n",
    "I'm from constructor!....\n",
    "\t10\tRS\n",
    "No longer interested to maintain the object eo1\n",
    "No longer interested to maintain the object eo2\n",
    "Program execution Completed!.....\n",
    "GC is calling destructor function!...\n",
    "```"
   ]
  },
  {
   "cell_type": "markdown",
   "metadata": {
    "hidden": true
   },
   "source": [
    "---\n",
    "```python\n",
    "# destructorex7.py\n",
    "import time\n",
    "\n",
    "\n",
    "class Employee:\n",
    "    def __init__(self, eno, ename):\n",
    "        print(\"I'm from constructor!....\")\n",
    "        self.eno = eno\n",
    "        self.ename = ename\n",
    "        print(\"\\t{}\\t{}\".format(eno, ename))\n",
    "\n",
    "    def __del__(self):  # Programmer defined destructor.\n",
    "        print(\"GC is calling destructor function!...\")\n",
    "\n",
    "\n",
    "# main progeam\n",
    "print(\"Program execution started!.....\")\n",
    "eo1 = Employee(10, \"RS\")\n",
    "eo3 = eo2 = eo1  # Deep copy\n",
    "print(\"No longer interested to maintain the object eo1\")\n",
    "time.sleep(8)\n",
    "del (eo1)  # Here C will not call, __del__(init), because that corresponding memory pointed by eo2 and eo3\n",
    "print(\"No longer interested to maintain the object eo2\")\n",
    "time.sleep(8)\n",
    "eo2 = None  # Here C will not call, __del__(init), because that corresponding memory pointed by eo2 and eo3\n",
    "print(\"No longer interested to maintain the object eo3\")\n",
    "time.sleep(8)\n",
    "eo3 = None\n",
    "print(\"Program execution Completed!.....\")\n",
    "time.sleep(5)\n",
    "\n",
    "\"\"\"\n",
    "Here By default GC calls __del__(self): one time only\n",
    " eventhough there exist two objects and both the object points to same memory space\"\"\"\n",
    "```\n",
    "**Execution Result:**\n",
    "```python\n",
    "Program execution started!.....\n",
    "I'm from constructor!....\n",
    "\t10\tRS\n",
    "No longer interested to maintain the object eo1\n",
    "No longer interested to maintain the object eo2\n",
    "No longer interested to maintain the object eo3\n",
    "GC is calling destructor function!...\n",
    "Program execution Completed!.....\n",
    "```"
   ]
  },
  {
   "cell_type": "markdown",
   "metadata": {
    "hidden": true
   },
   "source": [
    "---\n",
    "```python\n",
    "\n",
    "```\n",
    "**Execution Result:**\n",
    "```python\n",
    "\n",
    "```"
   ]
  },
  {
   "cell_type": "markdown",
   "metadata": {
    "hidden": true
   },
   "source": [
    "---\n",
    "```python\n",
    "# gcex1.py\n",
    "import gc\n",
    "import time\n",
    "\n",
    "print(\"Is GC running={}\".format(gc.isenabled()))\n",
    "print(\"Hello world 1\")\n",
    "time.sleep(5)\n",
    "print(\"Hello world 2\")\n",
    "gc.disable()\n",
    "print(\"Is GC running={}\".format(gc.isenabled()))\n",
    "print(\"Hello world 3\") \n",
    "```\n",
    "**Execution Result:**\n",
    "```python\n",
    "Is GC running=True\n",
    "Hello world 1\n",
    "Hello world 2\n",
    "Is GC running=False\n",
    "Hello world 3\n",
    "```\n",
    "\n"
   ]
  },
  {
   "cell_type": "markdown",
   "metadata": {
    "hidden": true
   },
   "source": [
    "---\n",
    "```python\n",
    "# destructorex8.py\n",
    "\"\"\"Demonstration of forceful execution of destructor function uding del function\"\"\"\n",
    "import time\n",
    "import gc\n",
    "\n",
    "\n",
    "class Employee:\n",
    "    def __init__(self, eno, ename):\n",
    "        print(\"I'm from constructor!....\")\n",
    "        self.eno = eno\n",
    "        self.ename = ename\n",
    "        print(\"\\t{}\\t{}\".format(eno, ename))\n",
    "\n",
    "    def __del__(self):  # Programmer defined destructor.\n",
    "        print(\"GC is calling destructor function!...\")\n",
    "\n",
    "\n",
    "# main progeam\n",
    "print(\"Program execution started!. and the status of GC = {}\".format(gc.isenabled()))\n",
    "eo1 = Employee(10, \"RS\")\n",
    "gc.disable()\n",
    "print(\"No longer interested to maintain the object eo1\")\n",
    "del (eo1)  # # Here GC calls __del__(self): Forcefully\n",
    "time.sleep(3)\n",
    "eo2 = Employee(20, \"DR\")\n",
    "print(\"No longer interested to maintain the object eo1\")\n",
    "del (eo2)  # Here GC calls __del__(self): Forcefully\n",
    "time.sleep(3)\n",
    "eo3 = Employee(30, \"AR\")\n",
    "print(\"Program execution Completed!.....\")\n",
    "time.sleep(3)\n",
    "# Here By default GC calls __del__(self): one times.\n",
    "\n",
    "```\n",
    "**Execution Result:**\n",
    "```python\n",
    "Program execution started!. and the status of GC = True\n",
    "I'm from constructor!....\n",
    "\t10\tRS\n",
    "No longer interested to maintain the object eo1\n",
    "GC is calling destructor function!...\n",
    "I'm from constructor!....\n",
    "\t20\tDR\n",
    "No longer interested to maintain the object eo1\n",
    "GC is calling destructor function!...\n",
    "I'm from constructor!....\n",
    "\t30\tAR\n",
    "Program execution Completed!.....\n",
    "GC is calling destructor function!...\n",
    "\n",
    "```"
   ]
  },
  {
   "cell_type": "code",
   "execution_count": null,
   "metadata": {
    "hidden": true
   },
   "outputs": [],
   "source": []
  },
  {
   "cell_type": "code",
   "execution_count": null,
   "metadata": {
    "hidden": true
   },
   "outputs": [],
   "source": []
  }
 ],
 "metadata": {
  "kernelspec": {
   "display_name": "Python 3 (ipykernel)",
   "language": "python",
   "name": "python3"
  },
  "language_info": {
   "codemirror_mode": {
    "name": "ipython",
    "version": 3
   },
   "file_extension": ".py",
   "mimetype": "text/x-python",
   "name": "python",
   "nbconvert_exporter": "python",
   "pygments_lexer": "ipython3",
   "version": "3.9.16"
  }
 },
 "nbformat": 4,
 "nbformat_minor": 4
}
