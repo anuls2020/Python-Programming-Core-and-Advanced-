{
 "cells": [
  {
   "cell_type": "markdown",
   "id": "0fd69f6d",
   "metadata": {},
   "source": [
    "# <center>Multi Threading in Python</center>"
   ]
  },
  {
   "cell_type": "markdown",
   "id": "703494ff",
   "metadata": {
    "heading_collapsed": true
   },
   "source": [
    "## <font color='#3498DB'>Index</font>"
   ]
  },
  {
   "cell_type": "markdown",
   "id": "469f9345",
   "metadata": {
    "hidden": true
   },
   "source": [
    "* <font color='#3498DB'>**Purpose of Multithreading**</font>\n",
    "* <font color='#3498DB'>**What is a Thread**</font>\n",
    "* <font color='#3498DB'>**Purpose of Thread**</font>\n",
    "* <font color='#3498DB'>**Types of Applications**</font>\n",
    "    - <font color='#009900'>**Process based Applications**</font>\n",
    "    - <font color='#009900'>**Thread based Applications**</font>\n",
    "* <font color='#3498DB'>**Module Name for developing thread based Applications**</font>\n",
    "    - <font color='#009900'>**Threading**</font>\n",
    "* <font color='#3498DB'>**Number of approaches for developing the thread based applications**</font>\n",
    "* <font color='#3498DB'>**Programming Examples**</font>\n",
    "\n",
    "---\n",
    "\n",
    "* <font color='#3498DB'>**Dear Locks (or) race condition in Threading**</font>\n",
    "* <font color='#3498DB'>**Dead lock elimination in Threading**</font>\n",
    "* <font color='#3498DB'>**Class Name for Dead Lock Elimination in Threading**</font>\n",
    "    - <font color='#009900'>**Lock -- Class name**</font>\n",
    "        -  <font color='#009900'>**acquire()**</font>\n",
    "        -  <font color='#009900'>**release()**</font>\n",
    "* <font color='#3498DB'>**Programming Examples**</font>"
   ]
  },
  {
   "cell_type": "markdown",
   "id": "39ff2425",
   "metadata": {
    "heading_collapsed": true
   },
   "source": [
    "## <font color='#3498DB'>Introduction to Multi Threading</font>"
   ]
  },
  {
   "cell_type": "markdown",
   "id": "971a62c1",
   "metadata": {
    "hidden": true
   },
   "source": [
    "* The purpose of multi threading is that \"<font color='#009900'>**To provide Concurrent / Simultaneous execution / Paralllel Execution**</font>\".\n",
    "* Concurrent  Execution is nothing but <font color='#009900'>**executing the operations all at once**</font>.\n",
    "* The advantage of Concurrent  execution is that to <font color='#009900'>**get less execution time**</font>.\n",
    "* **If a Python Program contains multiple threads then it is called Multi Threading program**."
   ]
  },
  {
   "cell_type": "markdown",
   "id": "27378d4a",
   "metadata": {
    "heading_collapsed": true
   },
   "source": [
    "## <font color='#3498DB'>Definition  and purpose of Thread</font>\n"
   ]
  },
  {
   "cell_type": "markdown",
   "id": "3a791d32",
   "metadata": {
    "hidden": true
   },
   "source": [
    "* <font color='#009900'>**A flow of Control is called thread**</font>.\n",
    "* The purpose of thread is that \"<font color='#009900'>**To Perform certain operation whose logic developed in Functions / Methods  concurently.**</font>\"\n",
    "* By default <font color='#009900'>**Every Python contains Single Thread**</font> and whose name is \"<font color='#009900'>**MainThread**</font>\" and It provides <font color='#009900'>**Sequential Execution**</font>.\n",
    "* Programtaically, In a Python Program we can create multiple sub/Child threads and whose purpose is that \"<font color='#009900'>**To execute operations whose logic is written in Functions / Methods Concurrently**</font>\".\n",
    "* Hnece Programatically a **Python Program two types of Threads**. They are\n",
    "    - a) <font color='#009900'>**MainThread**</font></br>\n",
    "    - b) <font color='#009900'>**Sub / Child Threads**</font>\n",
    "* <font color='#009900'>**MainThread is created/Initiated  by PVM when program exeuction starts**</font>.\n",
    "* Role of mainThread is to <font color='#009900'>**execute main program statements and Monitor the exeuction status of Sub threads**</font>.\n",
    "* The Sub/Child Threads <font color='#009900'>**always executes operations whose logic is written in Functions/Methods Concurrently**</font>\"."
   ]
  },
  {
   "cell_type": "markdown",
   "id": "971f90a9",
   "metadata": {
    "hidden": true
   },
   "source": [
    "<font color='#3498DB'>**Example 1 of non_threading program => Sequential Programming**</font>"
   ]
  },
  {
   "cell_type": "code",
   "execution_count": 8,
   "id": "fec0264f",
   "metadata": {
    "hidden": true
   },
   "outputs": [
    {
     "name": "stdout",
     "output_type": "stream",
     "text": [
      "Line --23--> Default name of the thread:  MainThread\n",
      "----------------------------------------\n",
      "Line --7-->I'm from disp1() executed by:  MainThread\n",
      "Line --27--> Default name of the thread:  MainThread\n",
      "Line --12-->I'm from disp2() executed by:  MainThread\n",
      "Line --30--> Default name of the thread:  MainThread\n",
      "Line --17-->I'm from disp3() executed by:  MainThread\n",
      "Line --33--> Default name of the thread:  MainThread\n",
      "----------------------------------------\n",
      "Execution Time by non threading programming=  0.008646488189697266\n"
     ]
    }
   ],
   "source": [
    "# non_threadingprog.py\n",
    "import threading, time\n",
    "\n",
    "\n",
    "def disp1():\n",
    "    ct = threading.current_thread().name\n",
    "    print(\"Line --7-->I'm from disp1() executed by: \", ct)\n",
    "\n",
    "\n",
    "def disp2():\n",
    "    xt = threading.current_thread().name\n",
    "    print(\"Line --12-->I'm from disp2() executed by: \", xt)\n",
    "\n",
    "\n",
    "def disp3():\n",
    "    yt = threading.current_thread().name\n",
    "    print(\"Line --17-->I'm from disp3() executed by: \", yt)\n",
    "\n",
    "\n",
    "# main program\n",
    "start_time = time.time()\n",
    "tname = threading.current_thread().name\n",
    "print(\"Line --23--> Default name of the thread: \", tname)\n",
    "#time.sleep(1)\n",
    "print(\"-\" * 40)\n",
    "disp1()\n",
    "print(\"Line --27--> Default name of the thread: \", tname)\n",
    "#time.sleep(1)\n",
    "disp2()\n",
    "print(\"Line --30--> Default name of the thread: \", tname)\n",
    "#time.sleep(1)\n",
    "disp3()\n",
    "print(\"Line --33--> Default name of the thread: \", tname)\n",
    "#time.sleep(1)\n",
    "print(\"-\" * 40)\n",
    "end_time = time.time()\n",
    "#time.sleep(1)\n",
    "print(\"Execution Time by non threading programming= \", (end_time - start_time))\n"
   ]
  },
  {
   "cell_type": "markdown",
   "id": "03d4eac3",
   "metadata": {
    "hidden": true
   },
   "source": [
    "<font color='#3498DB'>**Example 1 of Threading program => Parallel Programming**</font>"
   ]
  },
  {
   "cell_type": "code",
   "execution_count": 7,
   "id": "db66ec21",
   "metadata": {
    "hidden": true
   },
   "outputs": [
    {
     "name": "stdout",
     "output_type": "stream",
     "text": [
      "Line --24--> Default name of the thread:  MainThread\n",
      "-----------------------------------\n",
      "Line --7-->I'm from disp1() executed by:  Thread-14\n",
      "Line --12-->I'm from disp2() executed by:  Thread-15\n",
      "Line --17-->I'm from disp3() executed by:  Thread-16\n",
      "Program Execution Time of Threads :  0.004327297210693359\n"
     ]
    }
   ],
   "source": [
    "# ThreadingProgEx1.py\n",
    "import threading\n",
    "import time\n",
    "\n",
    "\n",
    "def disp1():\n",
    "    ct = threading.current_thread().name\n",
    "    print(\"Line --7-->I'm from disp1() executed by: \", ct)\n",
    "\n",
    "\n",
    "def disp2():\n",
    "    xt = threading.current_thread().name\n",
    "    print(\"Line --12-->I'm from disp2() executed by: \", xt)\n",
    "\n",
    "\n",
    "def disp3():\n",
    "    yt = threading.current_thread().name\n",
    "    print(\"Line --17-->I'm from disp3() executed by: \", yt)\n",
    "\n",
    "\n",
    "# main program\n",
    "start_time = time.time()\n",
    "tname = threading.current_thread().name\n",
    "print(\"Line --24--> Default name of the thread: \", tname)\n",
    "print(\"-----------------------------------\")\n",
    "t1 = threading.Thread(target=disp1)\n",
    "t2 = threading.Thread(target=disp2)\n",
    "t3 = threading.Thread(target=disp3)\n",
    "# time.sleep(1)\n",
    "t1.start()\n",
    "# time.sleep(1)\n",
    "t2.start()\n",
    "# time.sleep(1)\n",
    "t3.start()\n",
    "# time.sleep(1)\n",
    "# t1.join()\n",
    "# t2.join()\n",
    "# t3.join()\n",
    "end_time = time.time()\n",
    "print(\"Program Execution Time of Threads : \", (end_time - start_time))\n"
   ]
  },
  {
   "cell_type": "markdown",
   "id": "00a74be1",
   "metadata": {
    "hidden": true
   },
   "source": [
    "<font color='#3498DB'>**Example 2 of non_threading program => Sequential Programming**</font>"
   ]
  },
  {
   "cell_type": "code",
   "execution_count": 10,
   "id": "cf7e01a6",
   "metadata": {
    "hidden": true
   },
   "outputs": [
    {
     "name": "stdout",
     "output_type": "stream",
     "text": [
      "Line --24--> Default name of the thread:  MainThread\n",
      "MainThread ---> Squares of ((10, 100))\n",
      "MainThread ---> Squares of ((2, 4))\n",
      "MainThread ---> Squares of ((3, 9))\n",
      "MainThread ---> Squares of ((12, 144))\n",
      "MainThread ---> Squares of ((4, 16))\n",
      "MainThread ---> Squares of ((6, 36))\n",
      "MainThread ---> Squares of ((-6, 36))\n",
      "MainThread --> Cube of ((10, 1000))\n",
      "MainThread --> Cube of ((2, 8))\n",
      "MainThread --> Cube of ((3, 27))\n",
      "MainThread --> Cube of ((12, 1728))\n",
      "MainThread --> Cube of ((4, 64))\n",
      "MainThread --> Cube of ((6, 216))\n",
      "MainThread --> Cube of ((-6, -216))\n",
      "Program Execution Time of Threads :  14.113933563232422\n"
     ]
    }
   ],
   "source": [
    "# ThreadingProgEx2.py\n",
    "import threading\n",
    "import time\n",
    "\n",
    "\n",
    "def Squares(lst):\n",
    "    t1 = threading.current_thread().name\n",
    "    for val in lst:\n",
    "        print(\"{} ---> Squares of ({})\".format(t1, (val,val**2)))\n",
    "        time.sleep(1)\n",
    "\n",
    "\n",
    "def Cubes(lst):\n",
    "    t2 = threading.current_thread().name\n",
    "    for val in lst:\n",
    "        print(\"{} --> Cube of ({})\".format(t2, (val, val ** 3)))\n",
    "        time.sleep(1)\n",
    "\n",
    "# main program\n",
    "lst = [10,2,3,12,4,6,-6]\n",
    "start_time = time.time()\n",
    "tname = threading.current_thread().name\n",
    "print(\"Line --24--> Default name of the thread: \", tname)\n",
    "Squares(lst)\n",
    "Cubes(lst)\n",
    "end_time = time.time()\n",
    "print(\"Program Execution Time of Threads : \", (end_time - start_time))\n"
   ]
  },
  {
   "cell_type": "markdown",
   "id": "a5132df4",
   "metadata": {
    "hidden": true
   },
   "source": [
    "<font color='#3498DB'>**Example 2 of Threading program => Parallel Programming**</font>"
   ]
  },
  {
   "cell_type": "code",
   "execution_count": 9,
   "id": "aeba67e5",
   "metadata": {
    "hidden": true
   },
   "outputs": [
    {
     "name": "stdout",
     "output_type": "stream",
     "text": [
      "Line --24--> Default name of the thread:  MainThread\n",
      "Thread-17 ---> Squares of ((10, 100))\n",
      "Thread-18 --> Cube of ((10, 1000))\n",
      "Thread-18 --> Cube of ((2, 8))Thread-17 ---> Squares of ((2, 4))\n",
      "\n",
      "Thread-17 ---> Squares of ((3, 9))\n",
      "Thread-18 --> Cube of ((3, 27))\n",
      "Thread-18 --> Cube of ((12, 1728))\n",
      "Thread-17 ---> Squares of ((12, 144))\n",
      "Thread-18 --> Cube of ((4, 64))\n",
      "Thread-17 ---> Squares of ((4, 16))\n",
      "Thread-18 --> Cube of ((6, 216))\n",
      "Thread-17 ---> Squares of ((6, 36))\n",
      "Thread-17 ---> Squares of ((-6, 36))\n",
      "Thread-18 --> Cube of ((-6, -216))\n",
      "Program Execution Time of Threads :  7.109145879745483\n"
     ]
    }
   ],
   "source": [
    "# ThreadingProgEx3.py\n",
    "import threading\n",
    "import time\n",
    "\n",
    "\n",
    "def Squares(lst):\n",
    "    t1 = threading.current_thread().name\n",
    "    for val in lst:\n",
    "        print(\"{} ---> Squares of ({})\".format(t1, (val, val ** 2)))\n",
    "        time.sleep(1)\n",
    "\n",
    "\n",
    "def Cubes(lst):\n",
    "    t2 = threading.current_thread().name\n",
    "    for val in lst:\n",
    "        print(\"{} --> Cube of ({})\".format(t2, (val, val ** 3)))\n",
    "        time.sleep(1)\n",
    "\n",
    "\n",
    "# main program\n",
    "lst = [10, 2, 3, 12, 4, 6, -6]\n",
    "start_time = time.time()\n",
    "tname = threading.current_thread().name\n",
    "print(\"Line --24--> Default name of the thread: \", tname)\n",
    "st = threading.Thread(target=Squares, args=(lst,))\n",
    "ct = threading.Thread(target=Cubes, args=(lst,))\n",
    "st.start()\n",
    "ct.start()\n",
    "st.join()\n",
    "ct.join()\n",
    "end_time = time.time()\n",
    "print(\"Program Execution Time of Threads : \", (end_time - start_time))\n"
   ]
  },
  {
   "cell_type": "markdown",
   "id": "0dc688a2",
   "metadata": {
    "heading_collapsed": true
   },
   "source": [
    "## <font color='#3498DB'>Module Name for thread based application development</font>"
   ]
  },
  {
   "cell_type": "markdown",
   "id": "41e57e66",
   "metadata": {
    "hidden": true
   },
   "source": [
    "* In Python Programming, to develop thread based applications, we use a pre-defined module called \"<font color='#009900'>**threading**</font>\".\n",
    "* We know that a module contains Variable Names, Functions and Classes.\n",
    "* Like that, here the \"threading\" module also contains **Variables** , **Functions** and **Classes**"
   ]
  },
  {
   "cell_type": "markdown",
   "id": "45b90c14",
   "metadata": {
    "heading_collapsed": true
   },
   "source": [
    "## <font color='#3498DB'>Functions, Classes and Instance Methods available in THreading modue</font>"
   ]
  },
  {
   "cell_type": "markdown",
   "id": "0c270e85",
   "metadata": {
    "hidden": true
   },
   "source": [
    "### <font color='#3498DB'>**Functions in \"threading\" module**</font>"
   ]
  },
  {
   "cell_type": "markdown",
   "id": "daeb138a",
   "metadata": {
    "hidden": true
   },
   "source": [
    "1) <font color='#009900'>**current_thread():**</font></br>\n",
    "2) <font color='#009900'>**active_count():**</font>"
   ]
  },
  {
   "cell_type": "markdown",
   "id": "4ce9704a",
   "metadata": {
    "hidden": true
   },
   "source": [
    "#### 1) <font color='#009900'>current_thread():</font>"
   ]
  },
  {
   "cell_type": "markdown",
   "id": "16247ee9",
   "metadata": {
    "hidden": true
   },
   "source": [
    "* This Function is used for obtaining current thread which is executing by default.\n",
    "\n",
    "<div class=\"alert alert-block alert-success\">\n",
    "<b>Syntax:</b><br> \n",
    "</div>\n",
    "\n",
    "```python\n",
    "varname=threading.current_thread()\n",
    "```\n",
    "\n",
    "**Example Program**"
   ]
  },
  {
   "cell_type": "code",
   "execution_count": 13,
   "id": "12c21656",
   "metadata": {
    "hidden": true
   },
   "outputs": [
    {
     "name": "stdout",
     "output_type": "stream",
     "text": [
      "Program execution started by Default Thread : MainThread\n",
      "sum of 10 and 20 is 30\n"
     ]
    }
   ],
   "source": [
    "# threadex1.py\n",
    "# This program is to understand the concept of current thread which is executing by default\n",
    "import threading\n",
    "\n",
    "th = threading.current_thread().name\n",
    "# print(\"Type of thread\", type(th))\n",
    "print(\"Program execution started by Default Thread :\", th)\n",
    "a = 10\n",
    "b = 20\n",
    "c = a + b\n",
    "print(\"sum of {} and {} is {}\".format(a,b,c))"
   ]
  },
  {
   "cell_type": "markdown",
   "id": "d8d2d92f",
   "metadata": {
    "hidden": true
   },
   "source": [
    "#### 2) <font color='#009900'>**active_count():**</font> "
   ]
  },
  {
   "cell_type": "markdown",
   "id": "a4a4483c",
   "metadata": {
    "hidden": true
   },
   "source": [
    "* This function is used for obtaing the number of threads which are under execution. \n",
    "* By default **there exists only one thread as active thread** and whose name is \"**MainThread**\".\n",
    "\n",
    "<div class=\"alert alert-block alert-success\">\n",
    "<b>Syntax:</b><br> \n",
    "</div>\n",
    "\n",
    "```python\n",
    "varname=threading.active_count()\n",
    "```\n",
    "\n",
    "**Example Program**\n",
    "```python\n",
    "# threadex1.py\n",
    "# This program is to understand the concept of current thread which is executing by default\n",
    "import threading\n",
    "\n",
    "th = threading.current_thread().name\n",
    "print(\"Program execution started by Default Thread :\", th)\n",
    "nt = threading.active_count()\n",
    "print(\"Number of threads active by default = \", nt)\n",
    "a = 10\n",
    "b = 20\n",
    "c = a + b\n",
    "print(\"sum of {} and {} is {}\".format(a, b, c))\n",
    "```\n",
    "\n",
    "**Execution Result**\n",
    "\n",
    "```python\n",
    "Program execution started by Default Thread : MainThread\n",
    "Number of threads active by default =  1\n",
    "sum of 10 and 20 is 30\n",
    "```"
   ]
  },
  {
   "cell_type": "markdown",
   "id": "b6ad35e7",
   "metadata": {
    "heading_collapsed": true,
    "hidden": true
   },
   "source": [
    "### <font color='#3498DB'>**Classes in \"threading\" module**</font>"
   ]
  },
  {
   "cell_type": "markdown",
   "id": "8c4f914b",
   "metadata": {
    "hidden": true
   },
   "source": [
    "* threading module contains a **two classes**.  They are\n",
    "  - <font color='#009900'>**1) Thread class**</font> \n",
    "  - <font color='#009900'>**2) Lock class**</font>\n",
    "\n",
    "\n"
   ]
  },
  {
   "cell_type": "markdown",
   "id": "baefbfcb",
   "metadata": {
    "hidden": true
   },
   "source": [
    "#### <font color='#3498DB'>**Thread Class**</font>"
   ]
  },
  {
   "cell_type": "markdown",
   "id": "5c3bcbfc",
   "metadata": {
    "hidden": true
   },
   "source": [
    "**Thread class Details**\n",
    "\n",
    "* The purpose of Thread class is that \"**To create sub thread(s) and whose purpose is to execute the logic of python program which is written in function/method**\"\n",
    "* Creating a sub thread is nothing but creating an object of Thread class.\n",
    "\n",
    "**Constructor:**\n",
    "```python\n",
    " Thread(target,args):\n",
    "```\n",
    "* This Constructor is **used for creating a sub/child thread by specifying the function name for executing the logic as target attribute and passing the values to specified function as args attribute(optional).**\n",
    "\n",
    "<div class=\"alert alert-block alert-success\">\n",
    "<b>Syntax:</b><br> \n",
    "</div>\n",
    "\n",
    "```python\n",
    "subthreadname=threading.Thread(target=function name, args=(arg1,arg2.... ) )\n",
    "```"
   ]
  },
  {
   "cell_type": "markdown",
   "id": "24117a19",
   "metadata": {
    "hidden": true
   },
   "source": [
    "#### <font color='#3498DB'>**Lock Class**</font>"
   ]
  },
  {
   "cell_type": "markdown",
   "id": "da38d229",
   "metadata": {
    "hidden": true
   },
   "source": []
  },
  {
   "cell_type": "markdown",
   "id": "acb3c459",
   "metadata": {
    "heading_collapsed": true,
    "hidden": true
   },
   "source": [
    "###  <font color='#3498DB'>**Instance Methods in \"threading\" module**</font>"
   ]
  },
  {
   "cell_type": "markdown",
   "id": "adfb9d1b",
   "metadata": {
    "hidden": true
   },
   "source": [
    "\n",
    " - <font color='#009900'>**1) setName(str)**</font>\n",
    " - <font color='#009900'>**2) getName()**</font>\n",
    " - <font color='#009900'>**3) is_alive()**</font>\n",
    " - <font color='#009900'>**4) start()**</font>\n",
    " - <font color='#009900'>**5) join()**</font>"
   ]
  },
  {
   "cell_type": "markdown",
   "id": "abbd6684",
   "metadata": {
    "hidden": true
   },
   "source": [
    "#### <font color='#3498DB'>**1) setName(str):**</font>"
   ]
  },
  {
   "cell_type": "markdown",
   "id": "62301ce2",
   "metadata": {
    "hidden": true
   },
   "source": [
    "* This Function is used for **setting Programmer-defined name to the thread.**\n",
    "\n",
    "<div class=\"alert alert-block alert-success\">\n",
    "<b>Old Syntax:</b><br> \n",
    "</div>\n",
    "\n",
    "```python\n",
    "threadobjname.setName(\"Programmer-defined name\")\n",
    "```\n",
    "\n",
    "* Since **setName() is deprecated** to an attribute \"name\" and in the program it is recommened to use \"**name**\" attribute.\n",
    "\n",
    "<div class=\"alert alert-block alert-success\">\n",
    "<b>New Syntax:</b><br> \n",
    "</div>\n",
    "\n",
    "```python\n",
    "threadobjname.name=\"Programmer-defined name\"\n",
    "```"
   ]
  },
  {
   "cell_type": "markdown",
   "id": "5c68c47d",
   "metadata": {
    "hidden": true
   },
   "source": [
    "#### <font color='#3498DB'>**2) getName():**</font>"
   ]
  },
  {
   "cell_type": "markdown",
   "id": "20dccb9c",
   "metadata": {
    "hidden": true
   },
   "source": [
    "* This Function is **used for getting the thread name**\n",
    "\n",
    "<div class=\"alert alert-block alert-success\">\n",
    "<b>Syntax:</b><br> \n",
    "</div>\n",
    "\n",
    "```python\n",
    "varname=threadobjname.getName()\n",
    "```\n",
    "\n",
    "* Since **getName() is deprecated to an attribute \"name\"** and in the program it is recommened to use \"**name**\" attribute.\n",
    "\n",
    "<div class=\"alert alert-block alert-success\">\n",
    "<b>Syntax:</b><br> \n",
    "</div>\n",
    "\n",
    "```python\n",
    "varname=threadobjname.name\n",
    "```\n",
    "\n",
    "* here \"**varname**\" contains programmer-defined thread name."
   ]
  },
  {
   "cell_type": "markdown",
   "id": "82ce04e1",
   "metadata": {
    "hidden": true
   },
   "source": [
    "#### <font color='#3498DB'>**3) is_alive():**</font>"
   ]
  },
  {
   "cell_type": "markdown",
   "id": "2afa10a8",
   "metadata": {
    "hidden": true
   },
   "source": [
    "* This **Function returns True** provided the sub thread / child **thread is under execution**.\n",
    "* This **Function returns False**  in the case **sub thread not yet started or after completion sub thread execution.**\n",
    "<div class=\"alert alert-block alert-success\">\n",
    "<b>Syntax:</b><br> \n",
    "</div>\n",
    "\n",
    "```python\n",
    "varname=threadobjname.is_alive()\n",
    "```\n",
    "\n",
    "* here \"**varname**\" contains boolean value ( **True or False**)"
   ]
  },
  {
   "cell_type": "markdown",
   "id": "ba05ed29",
   "metadata": {
    "hidden": true
   },
   "source": [
    "#### <font color='#3498DB'>**4) start():**</font>"
   ]
  },
  {
   "cell_type": "markdown",
   "id": "347cd07d",
   "metadata": {
    "hidden": true
   },
   "source": [
    "* This function is **used for dispatching/starting the sub thread to target function where thread execution started.**\n",
    "\n",
    "<div class=\"alert alert-block alert-success\">\n",
    "<b>Syntax:</b><br> \n",
    "</div>\n",
    "\n",
    "```python\n",
    "threadobjname.start()\n",
    "```"
   ]
  },
  {
   "cell_type": "markdown",
   "id": "e3a715df",
   "metadata": {
    "hidden": true
   },
   "source": [
    "#### <font color='#3498DB'>**5) join():**</font>"
   ]
  },
  {
   "cell_type": "markdown",
   "id": "8358330c",
   "metadata": {
    "hidden": true
   },
   "source": [
    "* This function is **used for making the sub thread(s) to join as single unit and ensures that main thread join them as single unit and at a time hand over to GC.**\n",
    "\t\t\n",
    "<div class=\"alert alert-block alert-success\">\n",
    "<b>Syntax:</b><br> \n",
    "</div>\n",
    "\n",
    "```python               \n",
    "threadobjname1.join()\n",
    "\t threadobjname2.join()\n",
    "\t ----------------------\n",
    "\t threadobjname-n.join()\n",
    "```"
   ]
  },
  {
   "cell_type": "markdown",
   "id": "a7971589",
   "metadata": {
    "hidden": true
   },
   "source": [
    "#### <font color='#3498DB'>**6) run(self):**</font>"
   ]
  },
  {
   "cell_type": "markdown",
   "id": "3bdca9cd",
   "metadata": {
    "hidden": true
   },
   "source": [
    "* This function is **used for defining logic of python program , which is executed by sub thread provided thread based application developed with OOPs based approach( With Inheritance).**"
   ]
  },
  {
   "cell_type": "markdown",
   "id": "0246e958",
   "metadata": {
    "hidden": true
   },
   "source": [
    "---"
   ]
  },
  {
   "cell_type": "markdown",
   "id": "1889ef64",
   "metadata": {
    "heading_collapsed": true
   },
   "source": [
    "## <font color='#3498DB'>**Number of approaches for developing the thread based applications**</font>"
   ]
  },
  {
   "cell_type": "markdown",
   "id": "400155f4",
   "metadata": {
    "hidden": true
   },
   "source": [
    "* We can thread based applications in 3 ways. They are\n",
    "\n",
    "  - 1) <font color='#3498DB'>**By Using Functional Approach**</font>\n",
    "  - 2) <font color='#3498DB'>**By using sub class of Thread class ( with OOPs by using Inheritance)**</font>\n",
    "  - 3) <font color='#3498DB'>**By using non-sub class of Thread Class ( with OOPs without using Inheritance)**</font>"
   ]
  },
  {
   "cell_type": "markdown",
   "id": "359d9c3c",
   "metadata": {
    "hidden": true
   },
   "source": [
    "### 1) <font color='#3498DB'>By Using Functional Approach:</font>"
   ]
  },
  {
   "cell_type": "markdown",
   "id": "39bcba8e",
   "metadata": {
    "hidden": true
   },
   "source": [
    "<font color='#3498DB'>**Steps:**</font>\n",
    "\n",
    "  - <font color='#009900'>**step-1: import threading module**</font>\n",
    "  - <font color='#009900'>**step-2: Define a Function where it contains Logic**</font>\n",
    "  - <font color='#009900'>**step-3: Create a sub / child thread**</font>\n",
    "  - <font color='#009900'>**step-4: Dispatch / start the sub / child thread to execute specified Function name, where it contains logic.**</font>\n",
    "\n",
    "**Example Program**:\n",
    "\n",
    "```python\n",
    "#ApproachEx1.py\n",
    "import threading   # step-1\n",
    "\n",
    "def   greet():   # step-2\n",
    "\tsubthname=threading.current_thread().name\n",
    "\tprint(\"Default Name of Sub thread={}\".format(subthname))\n",
    "\t#set the programmer-defined name\n",
    "\tst1.name=\"hyd\"\n",
    "\tsubthname=threading.current_thread().name\n",
    "\tprint(\"Programmer defined Name of Sub thread={}\".format(subthname))\n",
    "\tprint(\"Good Morning\")\n",
    "\n",
    "#main program\n",
    "mtn=threading.current_thread().name\n",
    "print(\"Name of main thread={}\".format(mtn))\n",
    "print(\"-\"*40)\n",
    "st1=threading.Thread(target=greet)  # Step-3\n",
    "st1.start()  # Step-4\n",
    "```"
   ]
  },
  {
   "cell_type": "code",
   "execution_count": 3,
   "id": "a74b16b3",
   "metadata": {
    "hidden": true
   },
   "outputs": [
    {
     "name": "stdout",
     "output_type": "stream",
     "text": [
      "Name of the main thread = MainThread\n",
      "----------------------------------------\n",
      "Programmer defined sub-thread name is Thread-5\n",
      "Good Morning\n",
      "Number of threads in this program: 6\n"
     ]
    }
   ],
   "source": [
    "# ThreadCount.py\n",
    "\n",
    "import threading\n",
    "\n",
    "\n",
    "def greet():\n",
    "    subthreadname = threading.current_thread().name\n",
    "    print(\"Programmer defined sub-thread name is {}\".format(subthreadname))\n",
    "    print(\"Good Morning\")\n",
    "\n",
    "\n",
    "# main program\n",
    "mtn = threading.current_thread().name\n",
    "print(\"Name of the main thread = {}\".format(mtn))\n",
    "print(\"-\" * 40)\n",
    "st1 = threading.Thread(target=greet)\n",
    "st1.start()\n",
    "print(\"Number of threads in this program: {}\".format(threading.active_count()))\n"
   ]
  },
  {
   "cell_type": "code",
   "execution_count": 4,
   "id": "5a32f9ff",
   "metadata": {
    "hidden": true,
    "scrolled": true
   },
   "outputs": [
    {
     "name": "stdout",
     "output_type": "stream",
     "text": [
      "Number of threads in this program: 6\n",
      "Name of the main thread = MainThread\n",
      "----------------------------------------\n",
      "Default name of thread is Thread-6\n",
      "Good Morning\n",
      "Name of sub thread is Thread-7\n",
      "Hi Anu, How are you?\n",
      "Number of threads in this program: 6\n"
     ]
    }
   ],
   "source": [
    "# ThreadCount.py\n",
    "\n",
    "import threading\n",
    "\n",
    "\n",
    "def greet():\n",
    "    subthreadname = threading.current_thread().name\n",
    "    print(\"Default name of thread is {}\".format(subthreadname))\n",
    "    print(\"Good Morning\")\n",
    "\n",
    "\n",
    "def hello(sname):\n",
    "    subthreadname = threading.current_thread().name\n",
    "    print(\"Name of sub thread is {}\".format(subthreadname))\n",
    "    print(\"Hi {}, How are you?\".format(sname))\n",
    "\n",
    "\n",
    "# main program\n",
    "mtn = threading.current_thread().name\n",
    "print(\"Number of threads in this program: {}\".format(threading.active_count()))\n",
    "print(\"Name of the main thread = {}\".format(mtn))\n",
    "print(\"-\" * 40)\n",
    "st1 = threading.Thread(target=greet)\n",
    "st2 = threading.Thread(target=hello, args=(\"Anu\",))\n",
    "st1.start()\n",
    "st2.start()\n",
    "print(\"Number of threads in this program: {}\".format(threading.active_count()))\n"
   ]
  },
  {
   "cell_type": "code",
   "execution_count": 1,
   "id": "292cbc9b",
   "metadata": {
    "hidden": true
   },
   "outputs": [
    {
     "name": "stdout",
     "output_type": "stream",
     "text": [
      "\n",
      "Program Execution Started.\n",
      "\n",
      "Execution status of sub thread before start =  False\n",
      "Line 26 -- number of active threads 6\n",
      "\n",
      "Name of the sub thread = Generator\n",
      "--------------------------------------------------\n",
      "\n",
      "Numbers with in 10\n",
      "--------------------------------------------------\n",
      "\tValue of i =1\n",
      "Line 29 -- number of active threads 7\n",
      "\n",
      "Execution status of sub thread after start =  True\n",
      "\tValue of i =2\n",
      "\tValue of i =3\n",
      "\tValue of i =4\n",
      "\tValue of i =5\n",
      "\tValue of i =6\n",
      "\tValue of i =7\n",
      "\tValue of i =8\n",
      "\tValue of i =9\n",
      "\tValue of i =10\n",
      "--------------------------------------------------\n",
      "\n",
      "Execution status of sub thread after completion =  False\n",
      "Line 33 -- number of active threads 6\n"
     ]
    }
   ],
   "source": [
    "# numgenex1.py\n",
    "\n",
    "import threading\n",
    "import time\n",
    "\n",
    "\n",
    "def generate(n):\n",
    "    print(\"\\nName of the sub thread = {}\".format(threading.current_thread().name))\n",
    "    if (n <= 0):\n",
    "        print(\"\\n{} is invalid input\".format(n))\n",
    "    else:\n",
    "        print(\"-\" * 50)\n",
    "        print(\"\\nNumbers with in {}\".format(n))\n",
    "        print(\"-\" * 50)\n",
    "        for i in range(1, n + 1):\n",
    "            print(\"\\tValue of i ={}\".format(i))\n",
    "            time.sleep(1)\n",
    "        else:\n",
    "            print(\"-\" * 50)\n",
    "\n",
    "\n",
    "# main program\n",
    "print(\"\\nProgram Execution Started.\")\n",
    "st1 = threading.Thread(target=generate, args=(10,))\n",
    "print(\"\\nExecution status of sub thread before start = \", st1.is_alive())  # False\n",
    "print(\"Line 26 -- number of active threads\", threading.active_count())\n",
    "st1.name = \"Generator\"\n",
    "st1.start()\n",
    "print(\"Line 29 -- number of active threads\", threading.active_count())\n",
    "print(\"\\nExecution status of sub thread after start = \", st1.is_alive())  # True\n",
    "st1.join()\n",
    "print(\"\\nExecution status of sub thread after completion = \", st1.is_alive())  # True\n",
    "print(\"Line 33 -- number of active threads\", threading.active_count())\n"
   ]
  },
  {
   "cell_type": "markdown",
   "id": "d27aeb8d",
   "metadata": {
    "hidden": true
   },
   "source": [
    "### 2) <font color='#3498DB'>By using sub class of Thread class ( with OOPs by using Inheritance):</font>"
   ]
  },
  {
   "cell_type": "markdown",
   "id": "6c284ba1",
   "metadata": {
    "hidden": true
   },
   "source": [
    "<font color='#3498DB'>**Steps:**</font>\n",
    "\n",
    "   - <font color='#009900'>**step-1: import  threading**</font>\n",
    "   - <font color='#009900'>**step-2: Choose the Programmer-defined class**</font> \n",
    "   - <font color='#009900'>**Step-3: The Programmer-defined class must inherit from Thread Class**</font>\n",
    "   - <font color='#009900'>**Step-4: Override    run(self) in programmer-defined class, which was Inherited from Thread Class**</font>\n",
    "   - <font color='#009900'>**Step-5: create an object of Programmer-defined sub class of Thread ( is nothing an object of Thread class)**</font>\n",
    "   - <font color='#009900'>**Step-6: start / dispatch the sub thread where sub thread enters into overridden run() of Programmer-defined class, which was inherited from Thread class**</font>\n",
    "\n",
    "**Example Program**:\n",
    "\n",
    "```python\n",
    "#Approach2.py\n",
    "import threading  # step-1\n",
    "        #step- 2   step-3\n",
    "class Sample(threading.Thread):\n",
    "    def   run(self):  # step-4\n",
    "        print(\"i am from run:\")\n",
    "\n",
    "#main program\n",
    "st1=Sample()  # step-5\n",
    "st1.start()    # step-6\n",
    "```"
   ]
  },
  {
   "cell_type": "code",
   "execution_count": 1,
   "id": "34cbcd65",
   "metadata": {
    "hidden": true
   },
   "outputs": [
    {
     "name": "stdout",
     "output_type": "stream",
     "text": [
      "Current thread name in main class:  MainThread\n",
      "\n",
      "Name of Sub Thread in run():  Thread-5\n",
      "Enter the number: 5\n",
      "--------------------------------------------------\n",
      "Number with in 5\n",
      "\tVal of i= 1\n",
      "\tVal of i= 2\n",
      "\tVal of i= 3\n",
      "\tVal of i= 4\n",
      "\tVal of i= 5\n",
      "--------------------------------------------------\n"
     ]
    }
   ],
   "source": [
    "# Approach21.py\n",
    "import threading\n",
    "import time\n",
    "from threading import Thread, current_thread\n",
    "\n",
    "class NumGen(Thread):\n",
    "    def run(self):\n",
    "        print(\"\\nName of Sub Thread in run(): \", threading.current_thread().name)\n",
    "        n=int(input(\"Enter the number: \"))\n",
    "        if(n<=0):\n",
    "            print(\"{} is invalid number\".format(n))\n",
    "        else:\n",
    "            print(\"-\"*50)\n",
    "            print(\"Number with in {}\".format(n))\n",
    "            for i in range(1,n+1):\n",
    "                print(\"\\tVal of i= {}\".format(i))\n",
    "                time.sleep(1)\n",
    "            print(\"-\"*50)\n",
    "\n",
    "# Main program\n",
    "print(\"Current thread name in main class: \", threading.current_thread().name)\n",
    "no = NumGen()\n",
    "# Creating an object NumGen is nothing but creating an object of Thread Class\n",
    "no.start()"
   ]
  },
  {
   "cell_type": "markdown",
   "id": "31a56c53",
   "metadata": {
    "hidden": true
   },
   "source": [
    "### 3) <font color='#3498DB'>By using non-sub class of Thread Class ( with OOPs without using Inheritance)</font>"
   ]
  },
  {
   "cell_type": "markdown",
   "id": "add8ddff",
   "metadata": {
    "hidden": true
   },
   "source": [
    "<font color='#3498DB'>**Steps:**</font>\n",
    "   - <font color='#009900'>**step-1: import  threading**</font>\n",
    "   - <font color='#009900'>**Step-2: Choose the programmer-defined  class**</font>\n",
    "   - <font color='#009900'>**Step-3: Define a method in a programmer defined class where a method contains logic , which is executed by sub thread**</font>\n",
    "   - <font color='#009900'>**Step-4: Create an object of Programmer-defined class for calling Instance Method  by the sub thread**</font>\n",
    "   - <font color='#009900'>**Step-5: Create sub thread for executing logic of python program, which is available in the method defined in Programmer-defined class.**</font>\n",
    "   - <font color='#009900'>**Step-6: Dispatch / start the execution of sub thread.**</font>\n",
    "\n",
    "**Example {Program:**\n",
    "\n",
    "```python\n",
    "#Approach3.py\n",
    "import threading  # step-1\n",
    "class Test:  # Ste-2\n",
    "\tdef   welcome(self,sname):   #step-3\n",
    "\t\tprint(\"\\nHi:{}, Good Morning:\".format(sname))\n",
    "\n",
    "\n",
    "#main program\n",
    "t=Test()  # step-4\n",
    "st1=threading.Thread(target=t.welcome, args=(\"Rossum\",)  ) # step-5\n",
    "st1.start() # step-6\n",
    "```"
   ]
  },
  {
   "cell_type": "code",
   "execution_count": 1,
   "id": "710c11ee",
   "metadata": {
    "hidden": true
   },
   "outputs": [
    {
     "name": "stdout",
     "output_type": "stream",
     "text": [
      "\n",
      "Hi Rossum, Good Morning:\n",
      "Welcome to Python Class.\n"
     ]
    }
   ],
   "source": [
    "# ApproachEx3.py\n",
    "import threading\n",
    "\n",
    "\n",
    "class Test:\n",
    "    def welcome(self, sname):\n",
    "        print(\"\\nHi {}, Good Morning:\".format(sname))\n",
    "\n",
    "\n",
    "class Sample:\n",
    "    def hello(self):\n",
    "        print(\"Welcome to Python Class.\")\n",
    "\n",
    "\n",
    "# Main Program\n",
    "t = Test()\n",
    "st1 = threading.Thread(target=t.welcome, args=(\"Rossum\",))\n",
    "st1.start()\n",
    "s = Sample()\n",
    "st2 = threading.Thread(target=s.hello)\n",
    "st2.start()"
   ]
  },
  {
   "cell_type": "code",
   "execution_count": 2,
   "id": "ef0c9a45",
   "metadata": {
    "hidden": true
   },
   "outputs": [
    {
     "name": "stdout",
     "output_type": "stream",
     "text": [
      "Enter the input string:hello\n",
      "--------------------------------------------------\n",
      "\n",
      "Given Line:hello\n",
      "--------------------------------------------------\n",
      "h\n",
      "e\n",
      "l\n",
      "l\n",
      "o\n",
      "--------------------------------------------------\n"
     ]
    }
   ],
   "source": [
    "# This program will accept line of text and display every character after one second\n",
    "# chargen.py\n",
    "\n",
    "import threading\n",
    "import time\n",
    "\n",
    "\n",
    "def chargen(line):\n",
    "    print(\"-\" * 50)\n",
    "    print(\"\\nGiven Line:{}\".format(line))\n",
    "    print(\"-\" * 50)\n",
    "    for char in line:\n",
    "        print(\"{}\".format(char))\n",
    "        time.sleep(1)\n",
    "    print(\"-\" * 50)\n",
    "\n",
    "\n",
    "# main program\n",
    "line = input(\"Enter the input string:\")\n",
    "t1 = threading.Thread(target=chargen, args=(line,))\n",
    "t1.start()"
   ]
  },
  {
   "cell_type": "code",
   "execution_count": 3,
   "id": "2c70e3c6",
   "metadata": {
    "hidden": true
   },
   "outputs": [
    {
     "name": "stdout",
     "output_type": "stream",
     "text": [
      "\n",
      "Enter the input string: hello\n",
      "--------------------------------------------------\n",
      "\n",
      "Given Line:hello\n",
      "--------------------------------------------------\n",
      "h\n",
      "e\n",
      "l\n",
      "l\n",
      "o\n",
      "--------------------------------------------------\n"
     ]
    }
   ],
   "source": [
    "# chargenex2.py\n",
    "import threading\n",
    "import time\n",
    "\n",
    "\n",
    "class Character(threading.Thread):\n",
    "    def setvalues(self):\n",
    "        self.line = input(\"\\nEnter the input string: \")\n",
    "\n",
    "    def run(self):\n",
    "        self.setvalues()\n",
    "        print(\"-\" * 50)\n",
    "        print(\"\\nGiven Line:{}\".format(self.line))\n",
    "        print(\"-\" * 50)\n",
    "        for char in self.line:\n",
    "            print(\"{}\".format(char))\n",
    "            time.sleep(1)\n",
    "        print(\"-\" * 50)\n",
    "\n",
    "\n",
    "# main program\n",
    "\n",
    "c = Character()\n",
    "c.start()\n"
   ]
  },
  {
   "cell_type": "code",
   "execution_count": 4,
   "id": "8c6a2a84",
   "metadata": {
    "hidden": true
   },
   "outputs": [
    {
     "name": "stdout",
     "output_type": "stream",
     "text": [
      "\n",
      "Enter the input string: Hello\n",
      "--------------------------------------------------\n",
      "\n",
      "Given Line:Hello\n",
      "--------------------------------------------------\n",
      "H\n",
      "e\n",
      "l\n",
      "l\n",
      "o\n",
      "--------------------------------------------------\n"
     ]
    }
   ],
   "source": [
    "# chargenex2.py\n",
    "import threading\n",
    "import time\n",
    "\n",
    "\n",
    "class Character(threading.Thread):\n",
    "    def setvalues(self):\n",
    "        self.line = input(\"\\nEnter the input string: \")\n",
    "\n",
    "    def chargen(self):\n",
    "        self.setvalues()\n",
    "        print(\"-\" * 50)\n",
    "        print(\"\\nGiven Line:{}\".format(self.line))\n",
    "        print(\"-\" * 50)\n",
    "        for char in self.line:\n",
    "            print(\"{}\".format(char))\n",
    "            time.sleep(1)\n",
    "        print(\"-\" * 50)\n",
    "\n",
    "\n",
    "# main program\n",
    "t = threading.Thread(target=Character().chargen())\n",
    "t.start()\n"
   ]
  },
  {
   "cell_type": "markdown",
   "id": "ff3eb5b6",
   "metadata": {},
   "source": [
    "## <font color='#3498DB'>**Synchronization in Multi Threading**</font>"
   ]
  },
  {
   "cell_type": "markdown",
   "id": "5a89ac99",
   "metadata": {},
   "source": [
    "* When multiple threads are operating / working on the same resource(function / method) then by default we get **dead lock result/race condition/wrong result**.\n",
    "* To overcome this dead lock problems, we must apply the concept **Synchronization conncept**.\n",
    "* The **advantage of synchronization** concept is that to **avoid dead lock** result and provides Thread Safety Result.\n",
    "* In Python Programming, we can obtain synchronization concept by using **locking and un-locking** concept.\n",
    "\n",
    "\n",
    "**Steps for implementing Synchronization Concept:**\n",
    "\n",
    "**Step 1:** **Create an object of Lock class which is present in threading module.**,\n",
    "\n",
    "<div class=\"alert alert-block alert-success\">\n",
    "<b>Syntax:</b><br> \n",
    "</div>\n",
    "\n",
    "```python\n",
    "lockobj=threading.Lock()\n",
    "```\n",
    "\n",
    "\t\t\t\t\n",
    "**Step 2:** **To obtain the lock on the sharable resource, we must use acquire()**\n",
    "\n",
    "<div class=\"alert alert-block alert-success\">\n",
    "<b>Syntax:</b><br> \n",
    "</div>\n",
    "\n",
    "```python\n",
    "lockobj.acquire()\n",
    "```\n",
    "* Once current object acquire the lock, other objects are made wait until curent object releases the lock.\n",
    "\n",
    "**Step 3:** **To un-lock the sharable resource/current object, we must use release()**\n",
    "<div class=\"alert alert-block alert-success\">\n",
    "<b>Syntax:</b><br> \n",
    "</div>\n",
    "\n",
    "```python\n",
    "lockobj.release()\n",
    "```\n",
    "\n",
    "* Once current object releases the lock, other objects are permitted into shrable resource. This process of aquiring the releasing the lock will be continued until all the objects completed their execution.\n",
    "\n",
    "\n",
    "\t"
   ]
  },
  {
   "cell_type": "code",
   "execution_count": 1,
   "id": "0be8f184",
   "metadata": {},
   "outputs": [
    {
     "name": "stdout",
     "output_type": "stream",
     "text": [
      "Enter the number:9\n",
      "\tOdd Number :1\n",
      "\tEven Number: 2\n",
      "\tEven Number: 4\tOdd Number :3\n",
      "\n",
      "\tOdd Number :5\n",
      "\tEven Number: 6\n",
      "\tOdd Number :7\tEven Number: 8\n",
      "\n",
      "\tOdd Number :9\n"
     ]
    }
   ],
   "source": [
    "# evenoddthread.py\n",
    "'''\n",
    "Develope a thread based application which will generate even and odd numbers\n",
    "after each and every second by multiple threads.\n",
    "'''\n",
    "import time\n",
    "from threading import Thread\n",
    "\n",
    "\n",
    "class even(Thread):\n",
    "    def setvalues(self, n):\n",
    "        self.n = n\n",
    "\n",
    "    def run(self):\n",
    "        for i in range(2, self.n + 1, 2):\n",
    "            print(\"\\tEven Number: {}\".format(i))\n",
    "            time.sleep(1)\n",
    "\n",
    "\n",
    "def odd(n):\n",
    "    for i in range(1, n + 1, 2):\n",
    "        print(\"\\tOdd Number :{}\".format(i))\n",
    "        time.sleep(1)\n",
    "\n",
    "\n",
    "# Main Program\n",
    "n = int(input(\"Enter the number:\"))\n",
    "ot = Thread(target=odd, args=(n,))\n",
    "ot.start()\n",
    "\n",
    "et = even()\n",
    "et.setvalues(n)\n",
    "et.start()"
   ]
  },
  {
   "cell_type": "markdown",
   "id": "fd79a0c5",
   "metadata": {},
   "source": [
    "**Examples of locking and non-locking multi threading program**"
   ]
  },
  {
   "cell_type": "code",
   "execution_count": 3,
   "id": "950b4133",
   "metadata": {},
   "outputs": [
    {
     "name": "stdout",
     "output_type": "stream",
     "text": [
      "\n",
      "Sub thread name: Thread-11\n",
      "--------------------------------------------------\n",
      "Multiplication table of 10\n",
      "--------------------------------------------------\n",
      "\t10 x 1 = 10\n",
      "\n",
      "Sub thread name: Thread-12\n",
      "--------------------------------------------------\n",
      "Multiplication table of 12\n",
      "--------------------------------------------------\n",
      "\t12 x 1 = 12\n",
      "\n",
      "Sub thread name: Thread-13\n",
      "--------------------------------------------------\n",
      "Multiplication table of 19\n",
      "--------------------------------------------------\n",
      "\t19 x 1 = 19\n",
      "\n",
      "Sub thread name: Thread-14\n",
      "The number is invalid. \n",
      "\t19 x 2 = 38\t12 x 2 = 24\n",
      "\t10 x 2 = 20\n",
      "\n",
      "\t12 x 3 = 36\n",
      "\t10 x 3 = 30\n",
      "\t19 x 3 = 57\n",
      "\t12 x 4 = 48\n",
      "\t10 x 4 = 40\n",
      "\t19 x 4 = 76\n",
      "\t19 x 5 = 95\n",
      "\t10 x 5 = 50\n",
      "\t12 x 5 = 60\n",
      "\t12 x 6 = 72\t10 x 6 = 60\n",
      "\t19 x 6 = 114\n",
      "\n",
      "\t12 x 7 = 84\t19 x 7 = 133\n",
      "\t10 x 7 = 70\n",
      "\n",
      "\t12 x 8 = 96\t10 x 8 = 80\n",
      "\t19 x 8 = 152\n",
      "\n",
      "\t19 x 9 = 171\t10 x 9 = 90\n",
      "\t12 x 9 = 108\n",
      "\n",
      "\t12 x 10 = 120\t10 x 10 = 100\n",
      "\t19 x 10 = 190\n",
      "\n",
      "----------------------------------------------------------------------------------------------------\n",
      "--------------------------------------------------\n",
      "\n"
     ]
    }
   ],
   "source": [
    "# nonlockex1.py\n",
    "import time\n",
    "import threading\n",
    "\n",
    "\n",
    "def multable(n):\n",
    "    print(\"\\nSub thread name: {}\".format(threading.current_thread().name))\n",
    "    if (n <= 0):\n",
    "        print(\"The number is invalid. \")\n",
    "    else:\n",
    "        print(\"-\" * 50)\n",
    "        print(\"Multiplication table of {}\".format(n))\n",
    "        print(\"-\" * 50)\n",
    "        for i in range(1, 11):\n",
    "            print(\"\\t{} x {} = {}\".format(n, i, n * i))\n",
    "            time.sleep(1)\n",
    "        else:\n",
    "            print(\"-\" * 50)\n",
    "\n",
    "\n",
    "# main program\n",
    "t1 = threading.Thread(target=multable, args=(10,))\n",
    "t2 = threading.Thread(target=multable, args=(12,))\n",
    "t3 = threading.Thread(target=multable, args=(19,))\n",
    "t4 = threading.Thread(target=multable, args=(-5,))\n",
    "# Dispatch the threads\n",
    "t1.start()\n",
    "t2.start()\n",
    "t3.start()\n",
    "t4.start()\n"
   ]
  },
  {
   "cell_type": "code",
   "execution_count": 2,
   "id": "efd8ae74",
   "metadata": {},
   "outputs": [
    {
     "name": "stdout",
     "output_type": "stream",
     "text": [
      "\n",
      "Sub thread name: Thread-7\n",
      "--------------------------------------------------\n",
      "Multiplication table of 10\n",
      "--------------------------------------------------\n",
      "\t10 x 1 = 10\n",
      "\t10 x 2 = 20\n",
      "\t10 x 3 = 30\n",
      "\t10 x 4 = 40\n",
      "\t10 x 5 = 50\n",
      "\t10 x 6 = 60\n",
      "\t10 x 7 = 70\n",
      "\t10 x 8 = 80\n",
      "\t10 x 9 = 90\n",
      "\t10 x 10 = 100\n",
      "--------------------------------------------------\n",
      "\n",
      "Sub thread name: Thread-8\n",
      "--------------------------------------------------\n",
      "Multiplication table of 12\n",
      "--------------------------------------------------\n",
      "\t12 x 1 = 12\n",
      "\t12 x 2 = 24\n",
      "\t12 x 3 = 36\n",
      "\t12 x 4 = 48\n",
      "\t12 x 5 = 60\n",
      "\t12 x 6 = 72\n",
      "\t12 x 7 = 84\n",
      "\t12 x 8 = 96\n",
      "\t12 x 9 = 108\n",
      "\t12 x 10 = 120\n",
      "--------------------------------------------------\n",
      "\n",
      "Sub thread name: Thread-9\n",
      "--------------------------------------------------\n",
      "Multiplication table of 19\n",
      "--------------------------------------------------\n",
      "\t19 x 1 = 19\n",
      "\t19 x 2 = 38\n",
      "\t19 x 3 = 57\n",
      "\t19 x 4 = 76\n",
      "\t19 x 5 = 95\n",
      "\t19 x 6 = 114\n",
      "\t19 x 7 = 133\n",
      "\t19 x 8 = 152\n",
      "\t19 x 9 = 171\n",
      "\t19 x 10 = 190\n",
      "--------------------------------------------------\n",
      "\n",
      "Sub thread name: Thread-10\n",
      "The number is invalid. \n"
     ]
    }
   ],
   "source": [
    "# lockingex1.py\n",
    "import time\n",
    "import threading\n",
    "\n",
    "\n",
    "def multable(n):\n",
    "    # acquire the lock object/get the lock object\n",
    "    l1.acquire()\n",
    "    print(\"\\nSub thread name: {}\".format(threading.current_thread().name))\n",
    "    if (n <= 0):\n",
    "        print(\"The number is invalid. \")\n",
    "    else:\n",
    "        print(\"-\" * 50)\n",
    "        print(\"Multiplication table of {}\".format(n))\n",
    "        print(\"-\" * 50)\n",
    "        for i in range(1, 11):\n",
    "            print(\"\\t{} x {} = {}\".format(n, i, n * i))\n",
    "            time.sleep(1)\n",
    "        else:\n",
    "            print(\"-\" * 50)\n",
    "    # release the lock\n",
    "    l1.release()\n",
    "\n",
    "# main program\n",
    "# Create an object of lock class\n",
    "l1 = threading.Lock()\n",
    "# Create sub thrreads\n",
    "t1 = threading.Thread(target=multable, args=(10,))\n",
    "t2 = threading.Thread(target=multable, args=(12,))\n",
    "t3 = threading.Thread(target=multable, args=(19,))\n",
    "t4 = threading.Thread(target=multable, args=(-5,))\n",
    "# Dispatch the threads\n",
    "t1.start()\n",
    "t2.start()\n",
    "t3.start()\n",
    "t4.start()\n"
   ]
  },
  {
   "cell_type": "markdown",
   "id": "818f2c80",
   "metadata": {},
   "source": [
    "**with oops**"
   ]
  },
  {
   "cell_type": "code",
   "execution_count": 4,
   "id": "27e7f3e1",
   "metadata": {},
   "outputs": [
    {
     "name": "stdout",
     "output_type": "stream",
     "text": [
      "\n",
      "Sub thread name: Thread-15\n",
      "--------------------------------------------------\n",
      "Multiplication table of 10\n",
      "--------------------------------------------------\n",
      "\t10 x 1 = 10\n",
      "\n",
      "Sub thread name: Thread-16\n",
      "--------------------------------------------------\n",
      "Multiplication table of 12\n",
      "--------------------------------------------------\n",
      "\t12 x 1 = 12\n",
      "\n",
      "Sub thread name: Thread-17\n",
      "--------------------------------------------------\n",
      "Multiplication table of 19\n",
      "--------------------------------------------------\n",
      "\t19 x 1 = 19\n",
      "\n",
      "Sub thread name: Thread-18\n",
      "\n",
      "-5 is invalid. \n",
      "\t19 x 2 = 38\n",
      "\t10 x 2 = 20\n",
      "\t12 x 2 = 24\n",
      "\t19 x 3 = 57\t10 x 3 = 30\n",
      "\t12 x 3 = 36\n",
      "\n",
      "\t19 x 4 = 76\n",
      "\t12 x 4 = 48\n",
      "\t10 x 4 = 40\n",
      "\t10 x 5 = 50\t12 x 5 = 60\n",
      "\t19 x 5 = 95\n",
      "\n",
      "\t19 x 6 = 114\t12 x 6 = 72\n",
      "\t10 x 6 = 60\n",
      "\n",
      "\t19 x 7 = 133\n",
      "\t10 x 7 = 70\n",
      "\t12 x 7 = 84\n",
      "\t19 x 8 = 152\n",
      "\t10 x 8 = 80\n",
      "\t12 x 8 = 96\n",
      "\t19 x 9 = 171\n",
      "\t12 x 9 = 108\n",
      "\t10 x 9 = 90\n",
      "\t19 x 10 = 190\n",
      "\t10 x 10 = 100\n",
      "\t12 x 10 = 120\n",
      "--------------------------------------------------\n",
      "--------------------------------------------------\n",
      "--------------------------------------------------\n"
     ]
    }
   ],
   "source": [
    "# nonlockoopex1.py\n",
    "import threading\n",
    "import time\n",
    "\n",
    "\n",
    "class MulTable(threading.Thread):\n",
    "    def setvalues(self, n):\n",
    "        self.n = n\n",
    "\n",
    "    def run(self):\n",
    "        print(\"\\nSub thread name: {}\".format(threading.current_thread().name))\n",
    "        if (self.n <= 0):\n",
    "            print(\"\\n{} is invalid. \".format(self.n))\n",
    "        else:\n",
    "            print(\"-\" * 50)\n",
    "            print(\"Multiplication table of {}\".format(self.n))\n",
    "            print(\"-\" * 50)\n",
    "            for i in range(1, 11):\n",
    "                print(\"\\t{} x {} = {}\".format(self.n, i, self.n * i))\n",
    "                time.sleep(1)\n",
    "            else:\n",
    "                print(\"-\" * 50)\n",
    "\n",
    "\n",
    "# Main program\n",
    "# Create Multiple sub threads\n",
    "mt1 = MulTable()\n",
    "mt2 = MulTable()\n",
    "mt3 = MulTable()\n",
    "mt4 = MulTable()\n",
    "# set values\n",
    "mt1.setvalues(10)\n",
    "mt2.setvalues(12)\n",
    "mt3.setvalues(19)\n",
    "mt4.setvalues(-5)\n",
    "# dispatch the threads\n",
    "mt1.start()\n",
    "mt2.start()\n",
    "mt3.start()\n",
    "mt4.start()\n"
   ]
  },
  {
   "cell_type": "code",
   "execution_count": 5,
   "id": "d0fb4683",
   "metadata": {},
   "outputs": [
    {
     "name": "stdout",
     "output_type": "stream",
     "text": [
      "\n",
      "Sub thread name: Thread-19\n",
      "--------------------------------------------------\n",
      "Multiplication table of 10\n",
      "--------------------------------------------------\n",
      "\t10 x 1 = 10\n",
      "\t10 x 2 = 20\n",
      "\t10 x 3 = 30\n",
      "\t10 x 4 = 40\n",
      "\t10 x 5 = 50\n",
      "\t10 x 6 = 60\n",
      "\t10 x 7 = 70\n",
      "\t10 x 8 = 80\n",
      "\t10 x 9 = 90\n",
      "\t10 x 10 = 100\n",
      "--------------------------------------------------\n",
      "\n",
      "Sub thread name: Thread-20\n",
      "--------------------------------------------------\n",
      "Multiplication table of 12\n",
      "--------------------------------------------------\n",
      "\t12 x 1 = 12\n",
      "\t12 x 2 = 24\n",
      "\t12 x 3 = 36\n",
      "\t12 x 4 = 48\n",
      "\t12 x 5 = 60\n",
      "\t12 x 6 = 72\n",
      "\t12 x 7 = 84\n",
      "\t12 x 8 = 96\n",
      "\t12 x 9 = 108\n",
      "\t12 x 10 = 120\n",
      "--------------------------------------------------\n",
      "\n",
      "Sub thread name: Thread-21\n",
      "--------------------------------------------------\n",
      "Multiplication table of 19\n",
      "--------------------------------------------------\n",
      "\t19 x 1 = 19\n",
      "\t19 x 2 = 38\n",
      "\t19 x 3 = 57\n",
      "\t19 x 4 = 76\n",
      "\t19 x 5 = 95\n",
      "\t19 x 6 = 114\n",
      "\t19 x 7 = 133\n",
      "\t19 x 8 = 152\n",
      "\t19 x 9 = 171\n",
      "\t19 x 10 = 190\n",
      "--------------------------------------------------\n",
      "\n",
      "Sub thread name: Thread-22\n",
      "\n",
      "-5 is invalid. \n"
     ]
    }
   ],
   "source": [
    "# lockoopex1.py\n",
    "import threading\n",
    "import time\n",
    "\n",
    "\n",
    "class MulTable(threading.Thread):\n",
    "    def setvalues(self, n):\n",
    "        self.n = n\n",
    "\n",
    "    def run(self):\n",
    "        l1.acquire()\n",
    "        print(\"\\nSub thread name: {}\".format(threading.current_thread().name))\n",
    "        if (self.n <= 0):\n",
    "            print(\"\\n{} is invalid. \".format(self.n))\n",
    "        else:\n",
    "            print(\"-\" * 50)\n",
    "            print(\"Multiplication table of {}\".format(self.n))\n",
    "            print(\"-\" * 50)\n",
    "            for i in range(1, 11):\n",
    "                print(\"\\t{} x {} = {}\".format(self.n, i, self.n * i))\n",
    "                time.sleep(1)\n",
    "            else:\n",
    "                print(\"-\" * 50)\n",
    "        l1.release()\n",
    "\n",
    "\n",
    "# Main program\n",
    "# Obtain the lock\n",
    "l1 = threading.Lock()\n",
    "# Create Multiple sub threads\n",
    "mt1 = MulTable()\n",
    "mt2 = MulTable()\n",
    "mt3 = MulTable()\n",
    "mt4 = MulTable()\n",
    "# set values\n",
    "mt1.setvalues(10)\n",
    "mt2.setvalues(12)\n",
    "mt3.setvalues(19)\n",
    "mt4.setvalues(-5)\n",
    "# dispatch the threads\n",
    "mt1.start()\n",
    "mt2.start()\n",
    "mt3.start()\n",
    "mt4.start()\n"
   ]
  },
  {
   "cell_type": "code",
   "execution_count": 7,
   "id": "55c57eca",
   "metadata": {},
   "outputs": [
    {
     "name": "stdout",
     "output_type": "stream",
     "text": [
      "\n",
      "Sub thread name: Thread-27\n",
      "--------------------------------------------------\n",
      "Multiplication table of 10\n",
      "--------------------------------------------------\n",
      "\t10 x 1 = 10\n",
      "\n",
      "Sub thread name: Thread-28\n",
      "--------------------------------------------------\n",
      "Multiplication table of 12\n",
      "--------------------------------------------------\n",
      "\t12 x 1 = 12\n",
      "\n",
      "Sub thread name: Thread-29\n",
      "--------------------------------------------------\n",
      "Multiplication table of 19\n",
      "--------------------------------------------------\n",
      "\t19 x 1 = 19\n",
      "\n",
      "Sub thread name: Thread-30\n",
      "\n",
      "-5 is invalid. \n",
      "\t12 x 2 = 24\t10 x 2 = 20\n",
      "\n",
      "\t19 x 2 = 38\n",
      "\t12 x 3 = 36\t10 x 3 = 30\n",
      "\n",
      "\t19 x 3 = 57\n",
      "\t12 x 4 = 48\n",
      "\t10 x 4 = 40\n",
      "\t19 x 4 = 76\n",
      "\t12 x 5 = 60\n",
      "\t10 x 5 = 50\n",
      "\t19 x 5 = 95\n",
      "\t10 x 6 = 60\t12 x 6 = 72\n",
      "\n",
      "\t19 x 6 = 114\n",
      "\t12 x 7 = 84\n",
      "\t10 x 7 = 70\n",
      "\t19 x 7 = 133\n",
      "\t10 x 8 = 80\n",
      "\t12 x 8 = 96\n",
      "\t19 x 8 = 152\n",
      "\t12 x 9 = 108\n",
      "\t10 x 9 = 90\n",
      "\t19 x 9 = 171\n",
      "\t10 x 10 = 100\t12 x 10 = 120\n",
      "\n",
      "\t19 x 10 = 190\n",
      "----------------------------------------------------------------------------------------------------\n",
      "\n",
      "--------------------------------------------------\n"
     ]
    }
   ],
   "source": [
    "# nonlockoopex2.py\n",
    "import threading\n",
    "import time\n",
    "\n",
    "\n",
    "class MulTable:\n",
    "    def table(self, n):\n",
    "        print(\"\\nSub thread name: {}\".format(threading.current_thread().name))\n",
    "        if (n <= 0):\n",
    "            print(\"\\n{} is invalid. \".format(n))\n",
    "        else:\n",
    "            print(\"-\" * 50)\n",
    "            print(\"Multiplication table of {}\".format(n))\n",
    "            print(\"-\" * 50)\n",
    "            for i in range(1, 11):\n",
    "                print(\"\\t{} x {} = {}\".format(n, i, n * i))\n",
    "                time.sleep(1)\n",
    "            else:\n",
    "                print(\"-\" * 50)\n",
    "\n",
    "\n",
    "# Main program\n",
    "# Create Multiple sub threads\n",
    "t = MulTable()\n",
    "mt1 = threading.Thread(target=t.table, args=(10,))\n",
    "mt2 = threading.Thread(target=t.table, args=(12,))\n",
    "mt3 = threading.Thread(target=t.table, args=(19,))\n",
    "mt4 = threading.Thread(target=t.table, args=(-5,))\n",
    "# dispatch the threads\n",
    "mt1.start()\n",
    "mt2.start()\n",
    "mt3.start()\n",
    "mt4.start()\n"
   ]
  },
  {
   "cell_type": "markdown",
   "id": "b66a77d9",
   "metadata": {},
   "source": [
    "**Example using the constructor**"
   ]
  },
  {
   "cell_type": "code",
   "execution_count": 8,
   "id": "67768f43",
   "metadata": {},
   "outputs": [
    {
     "name": "stdout",
     "output_type": "stream",
     "text": [
      "\n",
      "Sub thread name: Thread-31\n",
      "--------------------------------------------------\n",
      "Multiplication table of 10\n",
      "--------------------------------------------------\n",
      "\t10 x 1 = 10\n",
      "\t10 x 2 = 20\n",
      "\t10 x 3 = 30\n",
      "\t10 x 4 = 40\n",
      "\t10 x 5 = 50\n",
      "\t10 x 6 = 60\n",
      "\t10 x 7 = 70\n",
      "\t10 x 8 = 80\n",
      "\t10 x 9 = 90\n",
      "\t10 x 10 = 100\n",
      "--------------------------------------------------\n",
      "\n",
      "Sub thread name: Thread-32\n",
      "--------------------------------------------------\n",
      "Multiplication table of 12\n",
      "--------------------------------------------------\n",
      "\t12 x 1 = 12\n",
      "\t12 x 2 = 24\n",
      "\t12 x 3 = 36\n",
      "\t12 x 4 = 48\n",
      "\t12 x 5 = 60\n",
      "\t12 x 6 = 72\n",
      "\t12 x 7 = 84\n",
      "\t12 x 8 = 96\n",
      "\t12 x 9 = 108\n",
      "\t12 x 10 = 120\n",
      "--------------------------------------------------\n",
      "\n",
      "Sub thread name: Thread-33\n",
      "--------------------------------------------------\n",
      "Multiplication table of 19\n",
      "--------------------------------------------------\n",
      "\t19 x 1 = 19\n",
      "\t19 x 2 = 38\n",
      "\t19 x 3 = 57\n",
      "\t19 x 4 = 76\n",
      "\t19 x 5 = 95\n",
      "\t19 x 6 = 114\n",
      "\t19 x 7 = 133\n",
      "\t19 x 8 = 152\n",
      "\t19 x 9 = 171\n",
      "\t19 x 10 = 190\n",
      "--------------------------------------------------\n",
      "\n",
      "Sub thread name: Thread-34\n",
      "\n",
      "-5 is invalid. \n"
     ]
    }
   ],
   "source": [
    " # nonlockoopex2.py\n",
    "import threading\n",
    "import time\n",
    "\n",
    "\n",
    "class MulTable:\n",
    "    def __init__(self):\n",
    "        self.l1 = threading.Lock() # --> Create an object of lock class\n",
    "    \n",
    "    \n",
    "    def table(self, n):\n",
    "        # acquire the lock\n",
    "        self.l1.acquire()\n",
    "        print(\"\\nSub thread name: {}\".format(threading.current_thread().name))\n",
    "        if (n <= 0):\n",
    "            print(\"\\n{} is invalid. \".format(n))\n",
    "        else:\n",
    "            print(\"-\" * 50)\n",
    "            print(\"Multiplication table of {}\".format(n))\n",
    "            print(\"-\" * 50)\n",
    "            for i in range(1, 11):\n",
    "                print(\"\\t{} x {} = {}\".format(n, i, n * i))\n",
    "                time.sleep(1)\n",
    "            else:\n",
    "                print(\"-\" * 50)\n",
    "        #release the lock\n",
    "        self.l1.release()\n",
    "\n",
    "\n",
    "# Main program\n",
    "# Create Multiple sub threads\n",
    "t = MulTable()\n",
    "mt1 = threading.Thread(target=t.table, args=(10,))\n",
    "mt2 = threading.Thread(target=t.table, args=(12,))\n",
    "mt3 = threading.Thread(target=t.table, args=(19,))\n",
    "mt4 = threading.Thread(target=t.table, args=(-5,))\n",
    "# dispatch the threads\n",
    "mt1.start()\n",
    "mt2.start()\n",
    "mt3.start()\n",
    "mt4.start()\n"
   ]
  },
  {
   "cell_type": "markdown",
   "id": "659ace00",
   "metadata": {},
   "source": [
    "**Reservation system example**"
   ]
  },
  {
   "cell_type": "markdown",
   "id": "bdcf5480",
   "metadata": {},
   "source": [
    "**non locking example**"
   ]
  },
  {
   "cell_type": "code",
   "execution_count": 4,
   "id": "6b32dbdd",
   "metadata": {},
   "outputs": [
    {
     "name": "stdout",
     "output_type": "stream",
     "text": [
      "Hi Ramu, You dont have 20 seats\n",
      "\n",
      "Hi Raju, 2 Seats reserved\n",
      "Visit again. Happy Journey!..\n",
      "Hi Rakesh, You dont have 6 seats\n",
      "\n",
      "Hi Rossum, 2 Seats reserved\n",
      "Visit again. Happy Journey!..\n",
      "\n",
      "Hi Ramesh, 1 Seats reserved\n",
      "Visit again. Happy Journey!..\n"
     ]
    }
   ],
   "source": [
    "# nonlockingreservation.py\n",
    "\n",
    "import threading\n",
    "import time\n",
    "\n",
    "\n",
    "class Reservation:\n",
    "    def __init__(self):\n",
    "        self.seats = 5  # seats -- Available seats\n",
    "\n",
    "    def booktiskets(self, nos):  # nos -- number of seats requested\n",
    "        if (nos > self.seats):\n",
    "            print(\"Hi {}, You dont have {} seats\".format(threading.current_thread().name, nos))\n",
    "            time.sleep(1)\n",
    "        else:\n",
    "            self.seats = self.seats - nos\n",
    "            print(\"\\nHi {}, {} Seats reserved\".format(threading.current_thread().name, nos))\n",
    "            print(\"Visit again. Happy Journey!..\")\n",
    "            time.sleep(1)\n",
    "\n",
    "\n",
    "# Main Program\n",
    "R = Reservation()\n",
    "p1 = threading.Thread(target=R.booktiskets, args=(20,))\n",
    "p1.name = \"Ramu\"\n",
    "p2 = threading.Thread(target=R.booktiskets, args=(2,))\n",
    "p2.name = \"Raju\"\n",
    "p3 = threading.Thread(target=R.booktiskets, args=(6,))\n",
    "p3.name = \"Rakesh\"\n",
    "p4 = threading.Thread(target=R.booktiskets, args=(2,))\n",
    "p4.name = \"Rossum\"\n",
    "p5 = threading.Thread(target=R.booktiskets, args=(1,))\n",
    "p5.name = \"Ramesh\"\n",
    "\n",
    "# Dispatch the thread\n",
    "p1.start()\n",
    "p2.start()\n",
    "p3.start()\n",
    "p4.start()\n",
    "p5.start()"
   ]
  },
  {
   "cell_type": "markdown",
   "id": "bde76833",
   "metadata": {},
   "source": [
    "**Locking reservation example**"
   ]
  },
  {
   "cell_type": "code",
   "execution_count": 5,
   "id": "932f7147",
   "metadata": {},
   "outputs": [
    {
     "name": "stdout",
     "output_type": "stream",
     "text": [
      "\n",
      "Hi Thread-25, 1 Seats reserved\n",
      "Visit again. Happy Journey!..\n",
      "Hi Ramu, You dont have 20 seats\n",
      "\n",
      "Hi Raju, 2 Seats reserved\n",
      "Visit again. Happy Journey!..\n",
      "\n",
      "Hi Rakesh, 6 Seats reserved\n",
      "Visit again. Happy Journey!..\n",
      "Hi Rossum, You dont have 2 seats\n",
      "\n",
      "Hi Ramesh, 1 Seats reserved\n",
      "Visit again. Happy Journey!..\n"
     ]
    }
   ],
   "source": [
    "# lockingreservation.py\n",
    "\n",
    "import threading\n",
    "import time\n",
    "\n",
    "\n",
    "class Reservation:\n",
    "    def __init__(self):\n",
    "        self.seats = 10  # seats -- Available seats\n",
    "        #get the lock\n",
    "        self.l = threading.Lock()\n",
    "\n",
    "    def booktiskets(self, nos):  # nos -- number of seats requested\n",
    "        self.l.acquire()\n",
    "        if (nos > self.seats):\n",
    "            print(\"Hi {}, You dont have {} seats\".format(threading.current_thread().name, nos))\n",
    "            time.sleep(1)\n",
    "        else:\n",
    "            self.seats = self.seats - nos\n",
    "            print(\"\\nHi {}, {} Seats reserved\".format(threading.current_thread().name, nos))\n",
    "            print(\"Visit again. Happy Journey!..\")\n",
    "            time.sleep(1)\n",
    "        # Release the lock\n",
    "        self.l.release()\n",
    "\n",
    "# Main Program\n",
    "R = Reservation()\n",
    "p = threading.Thread(target=R.booktiskets, args=(1,))\n",
    "\n",
    "p1 = threading.Thread(target=R.booktiskets, args=(20,))\n",
    "p1.name = \"Ramu\"\n",
    "p2 = threading.Thread(target=R.booktiskets, args=(2,))\n",
    "p2.name = \"Raju\"\n",
    "p3 = threading.Thread(target=R.booktiskets, args=(6,))\n",
    "p3.name = \"Rakesh\"\n",
    "p4 = threading.Thread(target=R.booktiskets, args=(2,))\n",
    "p4.name = \"Rossum\"\n",
    "p5 = threading.Thread(target=R.booktiskets, args=(1,))\n",
    "p5.name = \"Ramesh\"\n",
    "\n",
    "# Dispatch the thread\n",
    "p.start()\n",
    "p1.start()\n",
    "p2.start()\n",
    "p3.start()\n",
    "p4.start()\n",
    "p5.start()\n"
   ]
  },
  {
   "cell_type": "markdown",
   "id": "a489e945",
   "metadata": {},
   "source": [
    "**Token generation using multi threading**"
   ]
  },
  {
   "cell_type": "code",
   "execution_count": 8,
   "id": "9975b1cd",
   "metadata": {},
   "outputs": [
    {
     "name": "stdout",
     "output_type": "stream",
     "text": [
      "Enter the number: 9\n",
      "\tabcd1\n",
      "\tabcd2\n",
      "\tabcd3\n",
      "\tabcd4\n",
      "\tabcd5\n",
      "\tabcd6\n",
      "\tabcd7\n",
      "\tabcd8\n",
      "\tabcd9\n"
     ]
    }
   ],
   "source": [
    "# series.py\n",
    "import threading\n",
    "import time\n",
    "\n",
    "\n",
    "def generate(n):\n",
    "    for i in range(1, n + 1):\n",
    "        print(\"\\tabcd{}\".format(str(i)))\n",
    "        time.sleep(1)\n",
    "\n",
    "\n",
    "# t1 = threading.Thread(target=generate, args=(10,))\n",
    "t1 = threading.Thread(target=generate, args=(int(input(\"Enter the number: \")),))\n",
    "t1.start()\n"
   ]
  },
  {
   "cell_type": "code",
   "execution_count": null,
   "id": "89d1f070",
   "metadata": {},
   "outputs": [],
   "source": []
  }
 ],
 "metadata": {
  "kernelspec": {
   "display_name": "Python 3 (ipykernel)",
   "language": "python",
   "name": "python3"
  },
  "language_info": {
   "codemirror_mode": {
    "name": "ipython",
    "version": 3
   },
   "file_extension": ".py",
   "mimetype": "text/x-python",
   "name": "python",
   "nbconvert_exporter": "python",
   "pygments_lexer": "ipython3",
   "version": "3.9.16"
  }
 },
 "nbformat": 4,
 "nbformat_minor": 5
}
