{
 "cells": [
  {
   "cell_type": "markdown",
   "metadata": {},
   "source": [
    "# Displaying the Result (or) Data on the Console"
   ]
  },
  {
   "cell_type": "markdown",
   "metadata": {},
   "source": [
    "* To Display the Result of Python Program , we use pre-defined Function called **print()**\n",
    "* In otherwords, **print()** is used for Displaying the Result of python on the console.\n",
    "\n",
    "    - **Syntax 1:- Displaying only Data / values**\n",
    "    - **Syntax 2:- Displaying Messages with Values**\n",
    "    - **Syntax 3:- Displaying Messages with Values by using format()**\n",
    "    - **Syntax 4:- Displaying Messages with Values by using format specifiers**"
   ]
  },
  {
   "cell_type": "markdown",
   "metadata": {
    "heading_collapsed": true
   },
   "source": [
    "#### Syntax 1:- Displaying only Data / values"
   ]
  },
  {
   "cell_type": "markdown",
   "metadata": {
    "hidden": true
   },
   "source": [
    "<code><font color='#D2691E'>**print(val1,val2....val-n)**</font></code>"
   ]
  },
  {
   "cell_type": "markdown",
   "metadata": {
    "hidden": true
   },
   "source": [
    "**Examples**:"
   ]
  },
  {
   "cell_type": "code",
   "execution_count": 2,
   "metadata": {
    "hidden": true,
    "scrolled": true
   },
   "outputs": [
    {
     "name": "stdout",
     "output_type": "stream",
     "text": [
      "10 20\n"
     ]
    }
   ],
   "source": [
    "a=10\n",
    "b=20\n",
    "print(a,b)"
   ]
  },
  {
   "cell_type": "markdown",
   "metadata": {
    "heading_collapsed": true
   },
   "source": [
    "#### Syntax 2:- Displaying Messages with Values\n"
   ]
  },
  {
   "cell_type": "markdown",
   "metadata": {
    "hidden": true
   },
   "source": [
    "<code><font color='#D2691E'>**print(Message and Values)**</font></code>"
   ]
  },
  {
   "cell_type": "markdown",
   "metadata": {
    "hidden": true
   },
   "source": [
    "**Examples:**"
   ]
  },
  {
   "cell_type": "code",
   "execution_count": 4,
   "metadata": {
    "hidden": true,
    "run_control": {
     "marked": false
    }
   },
   "outputs": [
    {
     "name": "stdout",
     "output_type": "stream",
     "text": [
      "Val of a= 100\n"
     ]
    }
   ],
   "source": [
    "a=100\n",
    "print(\"Val of a=\",a)"
   ]
  },
  {
   "cell_type": "code",
   "execution_count": 5,
   "metadata": {
    "hidden": true
   },
   "outputs": [
    {
     "name": "stdout",
     "output_type": "stream",
     "text": [
      "100  is the value of a\n"
     ]
    }
   ],
   "source": [
    "a=100\n",
    "print(a,\" is the value of a\")"
   ]
  },
  {
   "cell_type": "code",
   "execution_count": 6,
   "metadata": {
    "hidden": true
   },
   "outputs": [
    {
     "name": "stdout",
     "output_type": "stream",
     "text": [
      "sum= 30\n",
      "30  is the sum\n",
      "sum of  10  and  20 = 30\n"
     ]
    }
   ],
   "source": [
    "a=10\n",
    "b=20\n",
    "c=a+b\n",
    "print(\"sum=\",c)\n",
    "print(c,\" is the sum\")\n",
    "print(\"sum of \",a,\" and \",b,\"=\",c)"
   ]
  },
  {
   "cell_type": "code",
   "execution_count": 7,
   "metadata": {
    "hidden": true
   },
   "outputs": [
    {
     "name": "stdout",
     "output_type": "stream",
     "text": [
      "sum of  10 , 20  and  30 = 60\n"
     ]
    }
   ],
   "source": [
    "a=10\n",
    "b=20\n",
    "c=30\n",
    "d=a+b+c\n",
    "print(\"sum of \",a,\",\",b,\" and \",c,\"=\",d)"
   ]
  },
  {
   "cell_type": "markdown",
   "metadata": {
    "heading_collapsed": true
   },
   "source": [
    "#### Syntax 3:- Displaying Messages with Values by using format()"
   ]
  },
  {
   "cell_type": "markdown",
   "metadata": {
    "hidden": true
   },
   "source": [
    " <code><font color='#D2691E'>**print(\"xyz of {} and {}={}\".format(a,b,c))**</font></code>"
   ]
  },
  {
   "cell_type": "markdown",
   "metadata": {
    "hidden": true
   },
   "source": [
    "**Examples:**"
   ]
  },
  {
   "cell_type": "code",
   "execution_count": 10,
   "metadata": {
    "hidden": true
   },
   "outputs": [
    {
     "name": "stdout",
     "output_type": "stream",
     "text": [
      "sum of 10 and 20 is 30\n"
     ]
    }
   ],
   "source": [
    "a=10\n",
    "b=20\n",
    "c=a+b\n",
    "print(\"sum of {} and {} is {}\".format(a,b,c))"
   ]
  },
  {
   "cell_type": "code",
   "execution_count": 12,
   "metadata": {
    "hidden": true
   },
   "outputs": [
    {
     "name": "stdout",
     "output_type": "stream",
     "text": [
      "My Name is Anu and id is 10\n"
     ]
    }
   ],
   "source": [
    "name=\"Anu\"\n",
    "sno=10\n",
    "print(\"My Name is {} and id is {}\".format(name,sno))"
   ]
  },
  {
   "cell_type": "markdown",
   "metadata": {
    "heading_collapsed": true
   },
   "source": [
    "#### Syntax 4:- Displaying Messages with Values by using format specifiers\n"
   ]
  },
  {
   "cell_type": "markdown",
   "metadata": {
    "hidden": true
   },
   "source": [
    "<code><font color='#D2691E'>**print(\"Messages with Format specifiers \" %(var1,var2...var-n))**</font></code>\n",
    "   \n",
    "   format Specifiers can be\n",
    "   \n",
    "   |**Data Type**| **format Specifier**|\n",
    "   |:-|---------|\n",
    "   |intiger | d |\n",
    "   |float   | f |\n",
    "   |string  | s |"
   ]
  },
  {
   "cell_type": "markdown",
   "metadata": {
    "hidden": true
   },
   "source": [
    "**Examples:**"
   ]
  },
  {
   "cell_type": "code",
   "execution_count": 3,
   "metadata": {
    "hidden": true
   },
   "outputs": [
    {
     "name": "stdout",
     "output_type": "stream",
     "text": [
      "sum of 10 and 20 is 30\n",
      "sum of 10.000000 and 20.000000 is 30.000000\n",
      "sum of 10.00 and 20.00 is 30.000\n"
     ]
    }
   ],
   "source": [
    "a=10\n",
    "b=20\n",
    "c=a+b\n",
    "print(\"sum of %d and %d is %d\" %(a,b,c))\n",
    "print(\"sum of %f and %f is %f\" %(a,b,c))\n",
    "print(\"sum of %0.2f and %0.2f is %0.3f\" %(a,b,c))"
   ]
  },
  {
   "cell_type": "code",
   "execution_count": 9,
   "metadata": {
    "hidden": true
   },
   "outputs": [
    {
     "name": "stdout",
     "output_type": "stream",
     "text": [
      "sum of 10 and 20 = 30\n",
      "sum of 10.000000 and 20.000000 = 30.000000\n",
      "sum of 10.00 and 20.00 = 30.000\n",
      "sum (10,20)=30\n"
     ]
    }
   ],
   "source": [
    "a=10\n",
    "b=20\n",
    "c=a+b\n",
    "print(\"sum of %d and %d = %d\" %(a,b,c))\n",
    "print(\"sum of %f and %f = %f\" %(a,b,c))\n",
    "print(\"sum of %0.2f and %0.2f = %0.3f\" %(a,b,c))\n",
    "print(\"sum (%d,%d)=%d\" %(a,b,c))"
   ]
  },
  {
   "cell_type": "code",
   "execution_count": 12,
   "metadata": {
    "hidden": true
   },
   "outputs": [
    {
     "name": "stdout",
     "output_type": "stream",
     "text": [
      "sum of 2 and 3 is 5\n",
      "sum of 2.30 and 3.40 is 5\n",
      "sum of 2.30 and 3.40 is 5.700\n"
     ]
    }
   ],
   "source": [
    "a=2.3\n",
    "b=3.4\n",
    "c=a+b\n",
    "print(\"sum of %d and %d is %d\" %(a,b,c))\n",
    "print(\"sum of %0.2f and %0.2f is %d\" %(a,b,c))\n",
    "print(\"sum of %0.2f and %0.2f is %0.3f\" %(a,b,c))"
   ]
  },
  {
   "cell_type": "code",
   "execution_count": 15,
   "metadata": {
    "hidden": true
   },
   "outputs": [
    {
     "name": "stdout",
     "output_type": "stream",
     "text": [
      "Hi Hello  World\n"
     ]
    }
   ],
   "source": [
    "a=\"Hello\"\n",
    "b=\" World\"\n",
    "print(\"Hi %s %s\" %(a,b)) "
   ]
  },
  {
   "cell_type": "code",
   "execution_count": null,
   "metadata": {
    "hidden": true
   },
   "outputs": [],
   "source": []
  }
 ],
 "metadata": {
  "kernelspec": {
   "display_name": "Python 3 (ipykernel)",
   "language": "python",
   "name": "python3"
  },
  "language_info": {
   "codemirror_mode": {
    "name": "ipython",
    "version": 3
   },
   "file_extension": ".py",
   "mimetype": "text/x-python",
   "name": "python",
   "nbconvert_exporter": "python",
   "pygments_lexer": "ipython3",
   "version": "3.10.0"
  }
 },
 "nbformat": 4,
 "nbformat_minor": 4
}
