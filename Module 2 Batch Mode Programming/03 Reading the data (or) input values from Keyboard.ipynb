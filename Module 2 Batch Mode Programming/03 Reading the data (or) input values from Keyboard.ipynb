{
 "cells": [
  {
   "cell_type": "markdown",
   "metadata": {},
   "source": [
    "## Reading the Data (OR) Input Values from Keyboard\n",
    "\n",
    "* To read the data Dynamically from Keyboard, we have 2 pre-defined functions. They are\n",
    "  * <font color='#3498DB'>input()</font>\n",
    "  * <font color='#3498DB'>input(Message)</font>"
   ]
  },
  {
   "cell_type": "markdown",
   "metadata": {},
   "source": [
    "### <font color='#3498DB'>a) input()</font>\n",
    "\n",
    "**input()** is used for reading any type of data / value **dynamically from keyboard in the form of** <font color='red'><b>str</b></font> **always**.\n",
    "\n",
    "**Syntax:-**\n",
    "\n",
    "<code><b><font color='#D2691E'>varname=input()</font></b></code>\n",
    "\n",
    "* Here <b><font color='red'>`'varname' is an object of <class,'str'>`</font></b>. To convert \"str\" values into other data type values, we can use Type casting Functions (int(), float(), bool(), str(), complex()....etc).\n",
    "* input() is a pre-defined function and it reads at a time only one value in the form of \"str\"."
   ]
  },
  {
   "cell_type": "markdown",
   "metadata": {},
   "source": [
    "### <font color='#3498DB'>b) input(message)</font>\n",
    "\n",
    "* This function is used for reading any type of data / value dynamically from keyboard in the form of str always and additionally it gives User-Prompting Message.\n",
    "\n",
    "**Syntax:-**\n",
    "\n",
    "<code><font color='#D2691E'>varname=input(message)</font></code>\n",
    "\n",
    "   * Here **'varname' is an object of <class,'str'>**. To convert str values into other data type values, we can use Type casting Functions (int(), float(), bool(), str(), complex()....etc)\n",
    "   * **input(Message)** is a pre-defined function and it reads only one value at a time in the form of str and Message represents \"User-Prompting Message\".\n",
    "\n"
   ]
  },
  {
   "cell_type": "markdown",
   "metadata": {},
   "source": [
    "##### Examples:"
   ]
  },
  {
   "cell_type": "code",
   "execution_count": 7,
   "metadata": {},
   "outputs": [
    {
     "name": "stdout",
     "output_type": "stream",
     "text": [
      "Enter the value of a:2\n",
      "Enter the value of b:6\n",
      "<class 'str'> <class 'str'>\n",
      "Sum of 2 and 6 after integer conversion is 8\n"
     ]
    }
   ],
   "source": [
    "#Program for accepting two values and find their sum\n",
    "#sum1.py\n",
    "a=input(\"Enter the value of a:\")\n",
    "b=input(\"Enter the value of b:\")\n",
    "print(type(a), type(b))\n",
    "# Converting the string value to integer value\n",
    "m=int(a)\n",
    "n=int(b)\n",
    "res=m+n\n",
    "print(\"Sum of {} and {} after integer conversion is {}\".format(m,n,res))"
   ]
  },
  {
   "cell_type": "code",
   "execution_count": 10,
   "metadata": {},
   "outputs": [
    {
     "name": "stdout",
     "output_type": "stream",
     "text": [
      "Enter two values for a and b\n",
      "4\n",
      "5\n",
      "Sum of 4.0 and 5.0 after float conversion is 9.0\n"
     ]
    }
   ],
   "source": [
    "#Program for accepting two values and find their sum\n",
    "#sum2.py\n",
    "print(\"Enter two values for a and b\")\n",
    "a=input()\n",
    "b=input()\n",
    "\n",
    "# Converting the string value to float value\n",
    "m=float(a)\n",
    "n=float(b)\n",
    "res=m+n\n",
    "print(\"Sum of {} and {} after float conversion is {}\".format(m,n,res))"
   ]
  },
  {
   "cell_type": "code",
   "execution_count": 11,
   "metadata": {},
   "outputs": [
    {
     "name": "stdout",
     "output_type": "stream",
     "text": [
      "Enter two values of a and b:\n",
      "3\n",
      "4\n",
      "sum of 3.0 and 4.0 is 7.0\n"
     ]
    }
   ],
   "source": [
    "#Program for accepting two values and find their sum\n",
    "#sum3.py\n",
    "print(\"Enter two values of a and b:\")\n",
    "a=float(input())\n",
    "b=float(input())\n",
    "c=a+b\n",
    "print(\"sum of {} and {} is {}\".format(a,b,c))"
   ]
  },
  {
   "cell_type": "code",
   "execution_count": 12,
   "metadata": {},
   "outputs": [
    {
     "name": "stdout",
     "output_type": "stream",
     "text": [
      "Enter two values of a and b:\n",
      "3\n",
      "4\n",
      "the sum of 3 and 4 is 7\n"
     ]
    }
   ],
   "source": [
    "#Program for accepting two values and find their sum\n",
    "#sum4.py\n",
    "print(\"Enter two values of a and b:\")\n",
    "a=int(input())\n",
    "b=int(input())\n",
    "print(\"the sum of {} and {} is {}\".format(a,b,a+b))"
   ]
  },
  {
   "cell_type": "code",
   "execution_count": 13,
   "metadata": {
    "scrolled": false
   },
   "outputs": [
    {
     "name": "stdout",
     "output_type": "stream",
     "text": [
      "Enter two values of a and b:\n",
      "2\n",
      "6\n",
      "the sum of 2.0 and 6.0 is 8.0\n"
     ]
    }
   ],
   "source": [
    "#Program for accepting two values and find their sum\n",
    "#sum5.py\n",
    "print(\"Enter two values of a and b:\")\n",
    "a,b=float(input()), float(input())\n",
    "print(\"the sum of {} and {} is {}\".format(a,b,a+b))"
   ]
  }
 ],
 "metadata": {
  "kernelspec": {
   "display_name": "Python 3 (ipykernel)",
   "language": "python",
   "name": "python3"
  },
  "language_info": {
   "codemirror_mode": {
    "name": "ipython",
    "version": 3
   },
   "file_extension": ".py",
   "mimetype": "text/x-python",
   "name": "python",
   "nbconvert_exporter": "python",
   "pygments_lexer": "ipython3",
   "version": "3.10.0"
  }
 },
 "nbformat": 4,
 "nbformat_minor": 4
}
