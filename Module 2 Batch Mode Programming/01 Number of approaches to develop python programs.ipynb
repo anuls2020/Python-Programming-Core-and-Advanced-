{
 "cells": [
  {
   "cell_type": "markdown",
   "metadata": {},
   "source": [
    "## <center> Number of Approaches to Develop Python Programs<center>"
   ]
  },
  {
   "cell_type": "markdown",
   "metadata": {},
   "source": [
    "In Python Programming Environment, we have 2 approaches to develop a python Program. They are\n",
    "   * Interactive Mode\n",
    "   * Batch  Mode"
   ]
  },
  {
   "cell_type": "markdown",
   "metadata": {},
   "source": [
    "### <font color='Blue'> a) Interactive Mode:</font>"
   ]
  },
  {
   "cell_type": "markdown",
   "metadata": {},
   "source": [
    "This Mode of Development, The Python Programmer Issued One statement and got its result immediately and such statements can't be saved . So that we can't re-use in further applications development.\n",
    "\n",
    "**Example Software**    \n",
    "* Python Interactive Command Prompt\n",
    "* Python IDLE Shell\n",
    "\n",
    "**Example Code**\n",
    "\n",
    "    a=10\n",
    "    b=20\n",
    "    c=a+b\n",
    "    print(c)\n",
    "\n",
    "* This mode develop is useful for Testing one instruction at time and not recommended to develop bunch of instruction for big problem solving.\n",
    "* Industry Recommeded to Batch Mode for developing Batch of  instruction for big problem solving.."
   ]
  },
  {
   "cell_type": "markdown",
   "metadata": {},
   "source": [
    "### <font color='Blue'> a) Batch Mode:</font>"
   ]
  },
  {
   "cell_type": "markdown",
   "metadata": {},
   "source": [
    "* In Batch Mode Programming, we develop batch of optimized instructions for solving any problem statement and it saved on filename with an extension .py (Source Code).\n",
    "\n",
    "    **Examples** \n",
    "    \n",
    "     * sum.py     \n",
    "     * mul.py        \n",
    "     * simpleint.py....etc\n",
    "\n",
    "  **Example Software** \n",
    "  \n",
    "     * Python IDLE Shell \n",
    "     * Edit Plus\n",
    "     * PyCharm\n",
    "     * Jupiter Note Book\n",
    "     * Spider \n",
    "     * VS code\n",
    "     * atom..etc"
   ]
  }
 ],
 "metadata": {
  "kernelspec": {
   "display_name": "Python 3 (ipykernel)",
   "language": "python",
   "name": "python3"
  },
  "language_info": {
   "codemirror_mode": {
    "name": "ipython",
    "version": 3
   },
   "file_extension": ".py",
   "mimetype": "text/x-python",
   "name": "python",
   "nbconvert_exporter": "python",
   "pygments_lexer": "ipython3",
   "version": "3.10.0"
  }
 },
 "nbformat": 4,
 "nbformat_minor": 4
}
