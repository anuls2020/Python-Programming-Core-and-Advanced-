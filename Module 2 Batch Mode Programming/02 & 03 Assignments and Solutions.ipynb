{
 "cells": [
  {
   "cell_type": "markdown",
   "metadata": {},
   "source": [
    "<font color='#D2691E'>**Qn) Write a python program which will accept 2 values and compute theit multiplication.**</font>\n"
   ]
  },
  {
   "cell_type": "code",
   "execution_count": 1,
   "metadata": {},
   "outputs": [
    {
     "name": "stdout",
     "output_type": "stream",
     "text": [
      "Enter two values for a and b:\n",
      "3\n",
      "5\n",
      "Profuct of 3.0 and 5.0 is 15.0\n"
     ]
    }
   ],
   "source": [
    "#multiplication of two numbers:\n",
    "#mul.py\n",
    "print(\"Enter two values for a and b:\")\n",
    "a,b=float(input()), float(input())\n",
    "print(\"Profuct of {} and {} is {}\".format(a,b,a*b))"
   ]
  },
  {
   "cell_type": "markdown",
   "metadata": {},
   "source": [
    "<font color='#D2691E'>**Qn) Write a python program which will accept 2 values and compute theit addition.**</font>\n"
   ]
  },
  {
   "cell_type": "code",
   "execution_count": 4,
   "metadata": {
    "scrolled": false
   },
   "outputs": [
    {
     "name": "stdout",
     "output_type": "stream",
     "text": [
      "Enter two values of a and b:\n",
      "4\n",
      "5\n",
      "the sum of 4.0 and 5.0 is 9.0\n"
     ]
    }
   ],
   "source": [
    "#Program for accepting two values and find their sum\n",
    "#sum5.py\n",
    "print(\"Enter two values of a and b:\")\n",
    "a,b=float(input()), float(input())\n",
    "print(\"the sum of {} and {} is {}\".format(a,b,a+b))"
   ]
  },
  {
   "cell_type": "markdown",
   "metadata": {},
   "source": [
    "<font color='#D2691E'>**Qn) Write a python program which will accept 2 values and compute theit subtraction .**</font>\n"
   ]
  },
  {
   "cell_type": "code",
   "execution_count": 3,
   "metadata": {},
   "outputs": [
    {
     "name": "stdout",
     "output_type": "stream",
     "text": [
      "Enter two values of a and b:\n",
      "3\n",
      "4\n",
      "the sum of 3.0 and 4.0 is -1.0\n"
     ]
    }
   ],
   "source": [
    "#Program for accepting two values and find their sum\n",
    "#sum5.py\n",
    "print(\"Enter two values of a and b:\")\n",
    "a,b=float(input()), float(input())\n",
    "print(\"the sum of {} and {} is {}\".format(a,b,a-b))"
   ]
  },
  {
   "cell_type": "code",
   "execution_count": null,
   "metadata": {},
   "outputs": [],
   "source": []
  }
 ],
 "metadata": {
  "kernelspec": {
   "display_name": "Python 3 (ipykernel)",
   "language": "python",
   "name": "python3"
  },
  "language_info": {
   "codemirror_mode": {
    "name": "ipython",
    "version": 3
   },
   "file_extension": ".py",
   "mimetype": "text/x-python",
   "name": "python",
   "nbconvert_exporter": "python",
   "pygments_lexer": "ipython3",
   "version": "3.10.0"
  }
 },
 "nbformat": 4,
 "nbformat_minor": 4
}
